{
 "cells": [
  {
   "cell_type": "code",
   "execution_count": 22,
   "id": "2d7a8e51",
   "metadata": {},
   "outputs": [],
   "source": [
    "import requests\n",
    "import pandas as pd\n",
    "import matplotlib.pyplot as plt"
   ]
  },
  {
   "cell_type": "markdown",
   "id": "08d99919",
   "metadata": {},
   "source": [
    "# Define a function to load API"
   ]
  },
  {
   "cell_type": "code",
   "execution_count": 2,
   "id": "f853d939",
   "metadata": {},
   "outputs": [],
   "source": [
    "def load_api(brand_name, duration_time):\n",
    "    url = f'https://iex.lewagon.com/stable/stock/{brand_name}/chart/{duration_time}'\n",
    "    response = requests.get(url)\n",
    "    data = response.json()\n",
    "    return data"
   ]
  },
  {
   "cell_type": "code",
   "execution_count": 3,
   "id": "cf2bb9eb",
   "metadata": {},
   "outputs": [],
   "source": [
    "appl_3m = load_api(brand_name=\"aapl\", duration_time=\"3m\")"
   ]
  },
  {
   "cell_type": "markdown",
   "id": "e29923ed",
   "metadata": {},
   "source": [
    "# Check the keys"
   ]
  },
  {
   "cell_type": "code",
   "execution_count": 6,
   "id": "b807598a",
   "metadata": {},
   "outputs": [
    {
     "name": "stdout",
     "output_type": "stream",
     "text": [
      "close\n",
      "high\n",
      "low\n",
      "open\n",
      "symbol\n",
      "volume\n",
      "id\n",
      "key\n",
      "subkey\n",
      "date\n",
      "updated\n",
      "changeOverTime\n",
      "marketChangeOverTime\n",
      "uOpen\n",
      "uClose\n",
      "uHigh\n",
      "uLow\n",
      "uVolume\n",
      "fOpen\n",
      "fClose\n",
      "fHigh\n",
      "fLow\n",
      "fVolume\n",
      "label\n",
      "change\n",
      "changePercent\n"
     ]
    }
   ],
   "source": [
    "for dictionary in appl_3m[0]:\n",
    "    print(dictionary)"
   ]
  },
  {
   "cell_type": "markdown",
   "id": "8f28ce71",
   "metadata": {},
   "source": [
    "# Check the starting and the ending dates"
   ]
  },
  {
   "cell_type": "code",
   "execution_count": 7,
   "id": "dad596c4",
   "metadata": {},
   "outputs": [
    {
     "data": {
      "text/plain": [
       "'2021-06-14'"
      ]
     },
     "execution_count": 7,
     "metadata": {},
     "output_type": "execute_result"
    }
   ],
   "source": [
    "appl_3m[0][\"date\"]"
   ]
  },
  {
   "cell_type": "code",
   "execution_count": 10,
   "id": "f3994cc3",
   "metadata": {},
   "outputs": [
    {
     "data": {
      "text/plain": [
       "'2021-09-10'"
      ]
     },
     "execution_count": 10,
     "metadata": {},
     "output_type": "execute_result"
    }
   ],
   "source": [
    "appl_3m[62][\"date\"]"
   ]
  },
  {
   "cell_type": "markdown",
   "id": "8058aa5e",
   "metadata": {},
   "source": [
    "# Create a DataFrame from those loaded datas"
   ]
  },
  {
   "cell_type": "code",
   "execution_count": 12,
   "id": "16804119",
   "metadata": {},
   "outputs": [],
   "source": [
    "date = []\n",
    "open_ = []\n",
    "close = []\n",
    "high = []\n",
    "low = []\n",
    "\n",
    "for dictionaries in appl_3m:\n",
    "    date.append(dictionaries[\"date\"])\n",
    "    open_.append(dictionaries[\"open\"])\n",
    "    close.append(dictionaries[\"close\"])\n",
    "    high.append(dictionaries[\"high\"])\n",
    "    low.append(dictionaries[\"low\"])"
   ]
  },
  {
   "cell_type": "code",
   "execution_count": 15,
   "id": "3bc5c257",
   "metadata": {},
   "outputs": [],
   "source": [
    "appl_3m_df = pd.DataFrame()\n",
    "appl_3m_df[\"date\"] = date\n",
    "appl_3m_df[\"open\"] = open_\n",
    "appl_3m_df[\"close\"] = close\n",
    "appl_3m_df[\"high\"] = high\n",
    "appl_3m_df[\"low\"] = low"
   ]
  },
  {
   "cell_type": "code",
   "execution_count": 16,
   "id": "ea65022f",
   "metadata": {},
   "outputs": [
    {
     "data": {
      "text/html": [
       "<div>\n",
       "<style scoped>\n",
       "    .dataframe tbody tr th:only-of-type {\n",
       "        vertical-align: middle;\n",
       "    }\n",
       "\n",
       "    .dataframe tbody tr th {\n",
       "        vertical-align: top;\n",
       "    }\n",
       "\n",
       "    .dataframe thead th {\n",
       "        text-align: right;\n",
       "    }\n",
       "</style>\n",
       "<table border=\"1\" class=\"dataframe\">\n",
       "  <thead>\n",
       "    <tr style=\"text-align: right;\">\n",
       "      <th></th>\n",
       "      <th>date</th>\n",
       "      <th>open</th>\n",
       "      <th>close</th>\n",
       "      <th>high</th>\n",
       "      <th>low</th>\n",
       "    </tr>\n",
       "  </thead>\n",
       "  <tbody>\n",
       "    <tr>\n",
       "      <th>0</th>\n",
       "      <td>2021-06-14</td>\n",
       "      <td>127.82</td>\n",
       "      <td>130.48</td>\n",
       "      <td>130.54</td>\n",
       "      <td>127.070</td>\n",
       "    </tr>\n",
       "    <tr>\n",
       "      <th>1</th>\n",
       "      <td>2021-06-15</td>\n",
       "      <td>129.94</td>\n",
       "      <td>129.64</td>\n",
       "      <td>130.60</td>\n",
       "      <td>129.390</td>\n",
       "    </tr>\n",
       "    <tr>\n",
       "      <th>2</th>\n",
       "      <td>2021-06-16</td>\n",
       "      <td>130.37</td>\n",
       "      <td>130.15</td>\n",
       "      <td>130.89</td>\n",
       "      <td>128.461</td>\n",
       "    </tr>\n",
       "    <tr>\n",
       "      <th>3</th>\n",
       "      <td>2021-06-17</td>\n",
       "      <td>129.80</td>\n",
       "      <td>131.79</td>\n",
       "      <td>132.55</td>\n",
       "      <td>129.650</td>\n",
       "    </tr>\n",
       "    <tr>\n",
       "      <th>4</th>\n",
       "      <td>2021-06-18</td>\n",
       "      <td>130.71</td>\n",
       "      <td>130.46</td>\n",
       "      <td>131.51</td>\n",
       "      <td>130.240</td>\n",
       "    </tr>\n",
       "  </tbody>\n",
       "</table>\n",
       "</div>"
      ],
      "text/plain": [
       "         date    open   close    high      low\n",
       "0  2021-06-14  127.82  130.48  130.54  127.070\n",
       "1  2021-06-15  129.94  129.64  130.60  129.390\n",
       "2  2021-06-16  130.37  130.15  130.89  128.461\n",
       "3  2021-06-17  129.80  131.79  132.55  129.650\n",
       "4  2021-06-18  130.71  130.46  131.51  130.240"
      ]
     },
     "execution_count": 16,
     "metadata": {},
     "output_type": "execute_result"
    }
   ],
   "source": [
    "appl_3m_df.head()"
   ]
  },
  {
   "cell_type": "markdown",
   "id": "c99b8bdb",
   "metadata": {},
   "source": [
    "# Convert date to datetime dtype"
   ]
  },
  {
   "cell_type": "code",
   "execution_count": 17,
   "id": "83acd542",
   "metadata": {
    "scrolled": true
   },
   "outputs": [
    {
     "data": {
      "text/plain": [
       "date      object\n",
       "open     float64\n",
       "close    float64\n",
       "high     float64\n",
       "low      float64\n",
       "dtype: object"
      ]
     },
     "execution_count": 17,
     "metadata": {},
     "output_type": "execute_result"
    }
   ],
   "source": [
    "appl_3m_df.dtypes"
   ]
  },
  {
   "cell_type": "code",
   "execution_count": 20,
   "id": "69540c83",
   "metadata": {},
   "outputs": [],
   "source": [
    "appl_3m_df[\"date\"] = pd.to_datetime(appl_3m_df['date'], format='%Y-%m-%d')"
   ]
  },
  {
   "cell_type": "code",
   "execution_count": 21,
   "id": "04dbc681",
   "metadata": {},
   "outputs": [
    {
     "data": {
      "text/plain": [
       "date     datetime64[ns]\n",
       "open            float64\n",
       "close           float64\n",
       "high            float64\n",
       "low             float64\n",
       "dtype: object"
      ]
     },
     "execution_count": 21,
     "metadata": {},
     "output_type": "execute_result"
    }
   ],
   "source": [
    "appl_3m_df.dtypes"
   ]
  },
  {
   "cell_type": "markdown",
   "id": "06f84d7f",
   "metadata": {},
   "source": [
    "# Plot the df"
   ]
  },
  {
   "cell_type": "code",
   "execution_count": 25,
   "id": "f2872153",
   "metadata": {},
   "outputs": [],
   "source": [
    "X = appl_3m_df[\"date\"]\n",
    "y = appl_3m_df.drop(columns=\"date\")"
   ]
  },
  {
   "cell_type": "code",
   "execution_count": 38,
   "id": "7fde43c6",
   "metadata": {},
   "outputs": [
    {
     "data": {
      "text/plain": [
       "Text(0.5, 1.0, 'titre test')"
      ]
     },
     "execution_count": 38,
     "metadata": {},
     "output_type": "execute_result"
    },
    {
     "data": {
      "image/png": "[encoded data removed]",
      "text/plain": [
       "<Figure size 432x288 with 1 Axes>"
      ]
     },
     "metadata": {
      "needs_background": "light"
     },
     "output_type": "display_data"
    }
   ],
   "source": [
    "plt.plot(X, y, label=y.columns)\n",
    "plt.legend()\n",
    "plt.title('titre test')"
   ]
  },
  {
   "cell_type": "markdown",
   "id": "82f51d59",
   "metadata": {},
   "source": [
    "# Compare GAFA since 3 years"
   ]
  },
  {
   "cell_type": "code",
   "execution_count": 39,
   "id": "98447c71",
   "metadata": {},
   "outputs": [],
   "source": [
    "def dataframe_from_loaded_api(brand_name, duration_time):\n",
    "    \"\"\" Load datas from an API and generate a dataframe from them \"\"\"\n",
    "    # Load the datas\n",
    "    url = f'https://iex.lewagon.com/stable/stock/{brand_name}/chart/{duration_time}'\n",
    "    response = requests.get(url)\n",
    "    data = response.json()\n",
    "    \n",
    "    # Generate a dataframe from json and define each column\n",
    "    date = []\n",
    "    open_ = []\n",
    "    close = []\n",
    "    high = []\n",
    "    low = []\n",
    "\n",
    "    for dictionaries in data:\n",
    "        date.append(dictionaries[\"date\"])\n",
    "        open_.append(dictionaries[\"open\"])\n",
    "        close.append(dictionaries[\"close\"])\n",
    "        high.append(dictionaries[\"high\"])\n",
    "        low.append(dictionaries[\"low\"])\n",
    "    \n",
    "    data_df = pd.DataFrame()\n",
    "    data_df[\"date\"] = date\n",
    "    data_df[\"open\"] = open_\n",
    "    data_df[\"close\"] = close\n",
    "    data_df[\"high\"] = high\n",
    "    data_df[\"low\"] = low\n",
    "    \n",
    "    # Convert the date column to datetime dtype\n",
    "    data_df[\"date\"] = pd.to_datetime(data_df['date'], format='%Y-%m-%d')\n",
    "    \n",
    "    return data_df"
   ]
  },
  {
   "cell_type": "code",
   "execution_count": 90,
   "id": "c32261b1",
   "metadata": {},
   "outputs": [],
   "source": [
    "# google = dataframe_from_loaded_api(brand_name=\"googl\" ,duration_time=\"\")\n",
    "amazon = dataframe_from_loaded_api(brand_name=\"amzn\" ,duration_time=\"3m\")\n",
    "facebook = dataframe_from_loaded_api(brand_name=\"fb\" ,duration_time=\"1d\")\n",
    "apple = dataframe_from_loaded_api(brand_name=\"aapl\" ,duration_time=\"3m\")\n",
    "# microsoft = dataframe_from_loaded_api(brand_name=\"msft\" ,duration_time=\"5d\")"
   ]
  },
  {
   "cell_type": "markdown",
   "id": "4af72e76",
   "metadata": {},
   "source": [
    "# Toutes les données ne sont pas disponibles. Soit le brand_name est inaccessible, soit la duration_time est limitée"
   ]
  },
  {
   "cell_type": "code",
   "execution_count": 94,
   "id": "09ac9644",
   "metadata": {},
   "outputs": [
    {
     "data": {
      "text/plain": [
       "Text(0.5, 1.0, 'Cours de bourse des 3 derniers mois pour Amazon et Apple')"
      ]
     },
     "execution_count": 94,
     "metadata": {},
     "output_type": "execute_result"
    },
    {
     "data": {
      "image/png": "[encoded data removed]",
      "text/plain": [
       "<Figure size 432x288 with 1 Axes>"
      ]
     },
     "metadata": {
      "needs_background": "light"
     },
     "output_type": "display_data"
    }
   ],
   "source": [
    "plt.plot(amazon[\"date\"], amazon[\"close\"], label=\"Amazon\")\n",
    "plt.plot(apple[\"date\"], apple[\"close\"], label=\"Apple\")\n",
    "plt.legend()\n",
    "plt.title(\"Cours de bourse des 3 derniers mois pour Amazon et Apple\")"
   ]
  }
 ],
 "metadata": {
  "kernelspec": {
   "display_name": "Python 3 (ipykernel)",
   "language": "python",
   "name": "python3"
  },
  "language_info": {
   "codemirror_mode": {
    "name": "ipython",
    "version": 3
   },
   "file_extension": ".py",
   "mimetype": "text/x-python",
   "name": "python",
   "nbconvert_exporter": "python",
   "pygments_lexer": "ipython3",
   "version": "3.8.12"
  },
  "toc": {
   "base_numbering": 1,
   "nav_menu": {},
   "number_sections": true,
   "sideBar": true,
   "skip_h1_title": false,
   "title_cell": "Table of Contents",
   "title_sidebar": "Contents",
   "toc_cell": false,
   "toc_position": {},
   "toc_section_display": true,
   "toc_window_display": false
  },
  "varInspector": {
   "cols": {
    "lenName": 16,
    "lenType": 16,
    "lenVar": 40
   },
   "kernels_config": {
    "python": {
     "delete_cmd_postfix": "",
     "delete_cmd_prefix": "del ",
     "library": "var_list.py",
     "varRefreshCmd": "print(var_dic_list())"
    },
    "r": {
     "delete_cmd_postfix": ") ",
     "delete_cmd_prefix": "rm(",
     "library": "var_list.r",
     "varRefreshCmd": "cat(var_dic_list()) "
    }
   },
   "types_to_exclude": [
    "module",
    "function",
    "builtin_function_or_method",
    "instance",
    "_Feature"
   ],
   "window_display": false
  }
 },
 "nbformat": 4,
 "nbformat_minor": 5
}
