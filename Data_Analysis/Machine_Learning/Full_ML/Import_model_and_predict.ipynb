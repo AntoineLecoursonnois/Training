{
 "cells": [
  {
   "cell_type": "markdown",
   "id": "c56cfd69",
   "metadata": {},
   "source": [
    "# Load and predict"
   ]
  },
  {
   "cell_type": "code",
   "execution_count": 11,
   "id": "fc98e1c2",
   "metadata": {},
   "outputs": [],
   "source": [
    "import pandas as pd\n",
    "import pickle\n",
    "from sklearn.model_selection import train_test_split"
   ]
  },
  {
   "cell_type": "code",
   "execution_count": 3,
   "id": "2c25d00d",
   "metadata": {},
   "outputs": [],
   "source": [
    "original_dataset = pd.read_csv('ML_Houses_dataset.csv')"
   ]
  },
  {
   "cell_type": "code",
   "execution_count": 4,
   "id": "e7502596",
   "metadata": {},
   "outputs": [],
   "source": [
    "original_dataset = original_dataset.drop_duplicates()"
   ]
  },
  {
   "cell_type": "code",
   "execution_count": 5,
   "id": "346e1300",
   "metadata": {},
   "outputs": [],
   "source": [
    "columns_for_pipe = ['OverallQual',\n",
    "                     'OverallCond',\n",
    "                     'YearBuilt',\n",
    "                     'BsmtFinSF1',\n",
    "                     'TotalBsmtSF',\n",
    "                     '2ndFlrSF',\n",
    "                     'GrLivArea',\n",
    "                     'SalePrice',\n",
    "                     'Condition2',\n",
    "                     'RoofStyle',\n",
    "                     'BsmtQual',\n",
    "                     'BsmtCond',\n",
    "                     'BsmtExposure',\n",
    "                     'BsmtFinType2',\n",
    "                     'SaleType']"
   ]
  },
  {
   "cell_type": "code",
   "execution_count": 9,
   "id": "48bfe04a",
   "metadata": {},
   "outputs": [],
   "source": [
    "X = original_dataset[columns_for_pipe].drop(columns=[\"SalePrice\"])\n",
    "y = original_dataset[\"SalePrice\"]\n",
    "\n",
    "X_train, X_test, y_train, y_test = train_test_split(X, y,test_size = 0.3, random_state = 0)"
   ]
  },
  {
   "cell_type": "code",
   "execution_count": 15,
   "id": "f361fe9c",
   "metadata": {},
   "outputs": [
    {
     "data": {
      "text/plain": [
       "0.6329486476249204"
      ]
     },
     "execution_count": 15,
     "metadata": {},
     "output_type": "execute_result"
    }
   ],
   "source": [
    "# Load pipeline from pickle file\n",
    "my_pipeline = pickle.load(open(\"homemade_pipeline.pkl\",\"rb\"))\n",
    "\n",
    "my_pipeline.score(X_test, y_test)"
   ]
  }
 ],
 "metadata": {
  "kernelspec": {
   "display_name": "Python 3 (ipykernel)",
   "language": "python",
   "name": "python3"
  },
  "language_info": {
   "codemirror_mode": {
    "name": "ipython",
    "version": 3
   },
   "file_extension": ".py",
   "mimetype": "text/x-python",
   "name": "python",
   "nbconvert_exporter": "python",
   "pygments_lexer": "ipython3",
   "version": "3.8.12"
  },
  "toc": {
   "base_numbering": 1,
   "nav_menu": {},
   "number_sections": true,
   "sideBar": true,
   "skip_h1_title": false,
   "title_cell": "Table of Contents",
   "title_sidebar": "Contents",
   "toc_cell": false,
   "toc_position": {},
   "toc_section_display": true,
   "toc_window_display": false
  },
  "varInspector": {
   "cols": {
    "lenName": 16,
    "lenType": 16,
    "lenVar": 40
   },
   "kernels_config": {
    "python": {
     "delete_cmd_postfix": "",
     "delete_cmd_prefix": "del ",
     "library": "var_list.py",
     "varRefreshCmd": "print(var_dic_list())"
    },
    "r": {
     "delete_cmd_postfix": ") ",
     "delete_cmd_prefix": "rm(",
     "library": "var_list.r",
     "varRefreshCmd": "cat(var_dic_list()) "
    }
   },
   "types_to_exclude": [
    "module",
    "function",
    "builtin_function_or_method",
    "instance",
    "_Feature"
   ],
   "window_display": false
  }
 },
 "nbformat": 4,
 "nbformat_minor": 5
}
