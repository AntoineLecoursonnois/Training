{
 "cells": [
  {
   "cell_type": "code",
   "execution_count": 1,
   "id": "907bc16a",
   "metadata": {},
   "outputs": [],
   "source": [
    "import sqlite3\n",
    "import pandas as pd"
   ]
  },
  {
   "cell_type": "code",
   "execution_count": 18,
   "id": "4ff7645c",
   "metadata": {
    "scrolled": false
   },
   "outputs": [
    {
     "data": {
      "text/html": [
       "<div>\n",
       "<style scoped>\n",
       "    .dataframe tbody tr th:only-of-type {\n",
       "        vertical-align: middle;\n",
       "    }\n",
       "\n",
       "    .dataframe tbody tr th {\n",
       "        vertical-align: top;\n",
       "    }\n",
       "\n",
       "    .dataframe thead th {\n",
       "        text-align: right;\n",
       "    }\n",
       "</style>\n",
       "<table border=\"1\" class=\"dataframe\">\n",
       "  <thead>\n",
       "    <tr style=\"text-align: right;\">\n",
       "      <th></th>\n",
       "      <th>user_id</th>\n",
       "      <th>follows</th>\n",
       "      <th>date</th>\n",
       "    </tr>\n",
       "  </thead>\n",
       "  <tbody>\n",
       "    <tr>\n",
       "      <th>0</th>\n",
       "      <td>1</td>\n",
       "      <td>2</td>\n",
       "      <td>1993-09-01</td>\n",
       "    </tr>\n",
       "    <tr>\n",
       "      <th>1</th>\n",
       "      <td>2</td>\n",
       "      <td>1</td>\n",
       "      <td>1989-01-01</td>\n",
       "    </tr>\n",
       "    <tr>\n",
       "      <th>2</th>\n",
       "      <td>3</td>\n",
       "      <td>1</td>\n",
       "      <td>1993-07-01</td>\n",
       "    </tr>\n",
       "    <tr>\n",
       "      <th>3</th>\n",
       "      <td>2</td>\n",
       "      <td>3</td>\n",
       "      <td>1994-10-10</td>\n",
       "    </tr>\n",
       "    <tr>\n",
       "      <th>4</th>\n",
       "      <td>3</td>\n",
       "      <td>2</td>\n",
       "      <td>1995-03-01</td>\n",
       "    </tr>\n",
       "    <tr>\n",
       "      <th>5</th>\n",
       "      <td>4</td>\n",
       "      <td>2</td>\n",
       "      <td>1988-08-08</td>\n",
       "    </tr>\n",
       "    <tr>\n",
       "      <th>6</th>\n",
       "      <td>4</td>\n",
       "      <td>1</td>\n",
       "      <td>1988-08-08</td>\n",
       "    </tr>\n",
       "    <tr>\n",
       "      <th>7</th>\n",
       "      <td>1</td>\n",
       "      <td>4</td>\n",
       "      <td>1994-04-02</td>\n",
       "    </tr>\n",
       "    <tr>\n",
       "      <th>8</th>\n",
       "      <td>1</td>\n",
       "      <td>5</td>\n",
       "      <td>2000-01-01</td>\n",
       "    </tr>\n",
       "    <tr>\n",
       "      <th>9</th>\n",
       "      <td>5</td>\n",
       "      <td>1</td>\n",
       "      <td>2000-01-02</td>\n",
       "    </tr>\n",
       "    <tr>\n",
       "      <th>10</th>\n",
       "      <td>5</td>\n",
       "      <td>6</td>\n",
       "      <td>1986-01-10</td>\n",
       "    </tr>\n",
       "    <tr>\n",
       "      <th>11</th>\n",
       "      <td>7</td>\n",
       "      <td>1</td>\n",
       "      <td>1990-02-02</td>\n",
       "    </tr>\n",
       "    <tr>\n",
       "      <th>12</th>\n",
       "      <td>1</td>\n",
       "      <td>7</td>\n",
       "      <td>1996-10-01</td>\n",
       "    </tr>\n",
       "    <tr>\n",
       "      <th>13</th>\n",
       "      <td>1</td>\n",
       "      <td>8</td>\n",
       "      <td>1993-09-03</td>\n",
       "    </tr>\n",
       "    <tr>\n",
       "      <th>14</th>\n",
       "      <td>8</td>\n",
       "      <td>1</td>\n",
       "      <td>1995-09-01</td>\n",
       "    </tr>\n",
       "    <tr>\n",
       "      <th>15</th>\n",
       "      <td>8</td>\n",
       "      <td>9</td>\n",
       "      <td>1995-09-01</td>\n",
       "    </tr>\n",
       "    <tr>\n",
       "      <th>16</th>\n",
       "      <td>9</td>\n",
       "      <td>8</td>\n",
       "      <td>1996-01-10</td>\n",
       "    </tr>\n",
       "    <tr>\n",
       "      <th>17</th>\n",
       "      <td>7</td>\n",
       "      <td>8</td>\n",
       "      <td>1993-09-01</td>\n",
       "    </tr>\n",
       "    <tr>\n",
       "      <th>18</th>\n",
       "      <td>3</td>\n",
       "      <td>9</td>\n",
       "      <td>1996-05-30</td>\n",
       "    </tr>\n",
       "    <tr>\n",
       "      <th>19</th>\n",
       "      <td>4</td>\n",
       "      <td>9</td>\n",
       "      <td>1996-05-30</td>\n",
       "    </tr>\n",
       "  </tbody>\n",
       "</table>\n",
       "</div>"
      ],
      "text/plain": [
       "    user_id  follows        date\n",
       "0         1        2  1993-09-01\n",
       "1         2        1  1989-01-01\n",
       "2         3        1  1993-07-01\n",
       "3         2        3  1994-10-10\n",
       "4         3        2  1995-03-01\n",
       "5         4        2  1988-08-08\n",
       "6         4        1  1988-08-08\n",
       "7         1        4  1994-04-02\n",
       "8         1        5  2000-01-01\n",
       "9         5        1  2000-01-02\n",
       "10        5        6  1986-01-10\n",
       "11        7        1  1990-02-02\n",
       "12        1        7  1996-10-01\n",
       "13        1        8  1993-09-03\n",
       "14        8        1  1995-09-01\n",
       "15        8        9  1995-09-01\n",
       "16        9        8  1996-01-10\n",
       "17        7        8  1993-09-01\n",
       "18        3        9  1996-05-30\n",
       "19        4        9  1996-05-30"
      ]
     },
     "execution_count": 18,
     "metadata": {},
     "output_type": "execute_result"
    }
   ],
   "source": [
    "follows = pd.read_csv(\"follows.csv\")\n",
    "follows"
   ]
  },
  {
   "cell_type": "code",
   "execution_count": 3,
   "id": "9d88c96c",
   "metadata": {},
   "outputs": [
    {
     "data": {
      "text/html": [
       "<div>\n",
       "<style scoped>\n",
       "    .dataframe tbody tr th:only-of-type {\n",
       "        vertical-align: middle;\n",
       "    }\n",
       "\n",
       "    .dataframe tbody tr th {\n",
       "        vertical-align: top;\n",
       "    }\n",
       "\n",
       "    .dataframe thead th {\n",
       "        text-align: right;\n",
       "    }\n",
       "</style>\n",
       "<table border=\"1\" class=\"dataframe\">\n",
       "  <thead>\n",
       "    <tr style=\"text-align: right;\">\n",
       "      <th></th>\n",
       "      <th>user_id</th>\n",
       "      <th>first_name</th>\n",
       "      <th>last_name</th>\n",
       "      <th>house</th>\n",
       "    </tr>\n",
       "  </thead>\n",
       "  <tbody>\n",
       "    <tr>\n",
       "      <th>0</th>\n",
       "      <td>1</td>\n",
       "      <td>Harry</td>\n",
       "      <td>Potter</td>\n",
       "      <td>Gryffindor</td>\n",
       "    </tr>\n",
       "    <tr>\n",
       "      <th>1</th>\n",
       "      <td>2</td>\n",
       "      <td>Ron</td>\n",
       "      <td>Wesley</td>\n",
       "      <td>Gryffindor</td>\n",
       "    </tr>\n",
       "    <tr>\n",
       "      <th>2</th>\n",
       "      <td>3</td>\n",
       "      <td>Hermonie</td>\n",
       "      <td>Granger</td>\n",
       "      <td>Gryffindor</td>\n",
       "    </tr>\n",
       "    <tr>\n",
       "      <th>3</th>\n",
       "      <td>4</td>\n",
       "      <td>Ginny</td>\n",
       "      <td>Weasley</td>\n",
       "      <td>Gryffindor</td>\n",
       "    </tr>\n",
       "    <tr>\n",
       "      <th>4</th>\n",
       "      <td>5</td>\n",
       "      <td>Draco</td>\n",
       "      <td>Malfoy</td>\n",
       "      <td>Slytherin</td>\n",
       "    </tr>\n",
       "  </tbody>\n",
       "</table>\n",
       "</div>"
      ],
      "text/plain": [
       "   user_id first_name last_name       house\n",
       "0        1      Harry    Potter  Gryffindor\n",
       "1        2        Ron    Wesley  Gryffindor\n",
       "2        3   Hermonie   Granger  Gryffindor\n",
       "3        4      Ginny   Weasley  Gryffindor\n",
       "4        5      Draco    Malfoy   Slytherin"
      ]
     },
     "execution_count": 3,
     "metadata": {},
     "output_type": "execute_result"
    }
   ],
   "source": [
    "users = pd.read_csv(\"users.csv\").head()\n",
    "users.head()"
   ]
  },
  {
   "cell_type": "markdown",
   "id": "dbbb1d84",
   "metadata": {},
   "source": [
    "# Convert CSV to DataFrame to SQL_table"
   ]
  },
  {
   "cell_type": "code",
   "execution_count": 4,
   "id": "bd2c2bef",
   "metadata": {},
   "outputs": [],
   "source": [
    "# Connecting to sqlite\n",
    "conn = sqlite3.connect(\"C:\\sqlite\\db\\pythonsqlite.db\")\n",
    "#Creating a cursor object using the cursor() method\n",
    "cursor = conn.cursor()\n",
    "# Convert cdv to df to sql table\n",
    "pd.read_csv(\"follows.csv\").to_sql('table_follows', conn, if_exists='append', index=False)\n",
    "pd.read_csv('users.csv').to_sql('table_users', conn, if_exists='append', index=False)"
   ]
  },
  {
   "cell_type": "markdown",
   "id": "c7f3ea49",
   "metadata": {},
   "source": [
    "Check if it works :"
   ]
  },
  {
   "cell_type": "code",
   "execution_count": 5,
   "id": "444fd968",
   "metadata": {
    "scrolled": true
   },
   "outputs": [],
   "source": [
    "def write(query):\n",
    "    cursor.execute(query)\n",
    "    rows = cursor.fetchall()\n",
    "    return rows"
   ]
  },
  {
   "cell_type": "code",
   "execution_count": 6,
   "id": "43de9751",
   "metadata": {},
   "outputs": [
    {
     "data": {
      "text/plain": [
       "[(1, 2, '1993-09-01'),\n",
       " (2, 1, '1989-01-01'),\n",
       " (3, 1, '1993-07-01'),\n",
       " (2, 3, '1994-10-10'),\n",
       " (3, 2, '1995-03-01')]"
      ]
     },
     "execution_count": 6,
     "metadata": {},
     "output_type": "execute_result"
    }
   ],
   "source": [
    "query = \"\"\"SELECT * \n",
    "            FROM table_follows \n",
    "            LIMIT 5\"\"\"\n",
    "write(query)"
   ]
  },
  {
   "cell_type": "code",
   "execution_count": 7,
   "id": "252e7b10",
   "metadata": {},
   "outputs": [
    {
     "data": {
      "text/plain": [
       "[(1, 'Harry', 'Potter', 'Gryffindor'),\n",
       " (2, 'Ron', 'Wesley', 'Gryffindor'),\n",
       " (3, 'Hermonie', 'Granger', 'Gryffindor'),\n",
       " (4, 'Ginny', 'Weasley', 'Gryffindor'),\n",
       " (5, 'Draco', 'Malfoy', 'Slytherin')]"
      ]
     },
     "execution_count": 7,
     "metadata": {},
     "output_type": "execute_result"
    }
   ],
   "source": [
    "query = \"\"\"SELECT * \n",
    "            FROM table_users \n",
    "            LIMIT 5\"\"\"\n",
    "write(query)"
   ]
  },
  {
   "cell_type": "markdown",
   "id": "354c8a2a",
   "metadata": {},
   "source": [
    "1. How many users are there in each house?"
   ]
  },
  {
   "cell_type": "code",
   "execution_count": 8,
   "id": "4527ab40",
   "metadata": {},
   "outputs": [
    {
     "data": {
      "text/plain": [
       "[('Gryffindor', 4), ('Hufflepuff', 1), ('Ravenclaw', 2), ('Slytherin', 2)]"
      ]
     },
     "execution_count": 8,
     "metadata": {},
     "output_type": "execute_result"
    }
   ],
   "source": [
    "query = \"\"\"SELECT house, \n",
    "                    COUNT(DISTINCT user_id) \n",
    "                    FROM table_users \n",
    "                    GROUP BY house \"\"\"\n",
    "write(query)"
   ]
  },
  {
   "cell_type": "markdown",
   "id": "234ad22f",
   "metadata": {},
   "source": [
    "2. List all following links that were created before September 1st, 1993"
   ]
  },
  {
   "cell_type": "code",
   "execution_count": 9,
   "id": "5f8cffde",
   "metadata": {},
   "outputs": [
    {
     "data": {
      "text/plain": [
       "[(3, 2, 1, '1989-01-01'),\n",
       " (4, 3, 1, '1993-07-01'),\n",
       " (6, 4, 2, '1988-08-08'),\n",
       " (5, 4, 1, '1988-08-08'),\n",
       " (11, 5, 6, '1986-01-10'),\n",
       " (8, 7, 1, '1990-02-02')]"
      ]
     },
     "execution_count": 9,
     "metadata": {},
     "output_type": "execute_result"
    }
   ],
   "source": [
    "query = \"\"\"SELECT DISTINCT(user_id+'_'+follows) AS link, \n",
    "                    user_id, \n",
    "                    follows, \n",
    "                    STRFTIME('%Y-%m-%d', DATE(table_follows.date)) AS period \n",
    "                    FROM table_follows WHERE period<'1993-09-01';\"\"\"\n",
    "write(query)"
   ]
  },
  {
   "cell_type": "markdown",
   "id": "ac318e2e",
   "metadata": {},
   "source": [
    "3. List all the following links established before September 1st 1993, but this time use the users first names"
   ]
  },
  {
   "cell_type": "markdown",
   "id": "7271b283",
   "metadata": {},
   "source": [
    "Here we must create a new table containing informations about follows"
   ]
  },
  {
   "cell_type": "code",
   "execution_count": 10,
   "id": "ba75d234",
   "metadata": {},
   "outputs": [],
   "source": [
    "def create(query):\n",
    "    cursor.execute(query)\n",
    "    return conn.commit()"
   ]
  },
  {
   "cell_type": "code",
   "execution_count": 12,
   "id": "9c4af2f4",
   "metadata": {},
   "outputs": [],
   "source": [
    "# query = \"\"\"CREATE TABLE info_follows AS SELECT DISTINCT(table_follows.follows), \n",
    "#                                         table_users.first_name, \n",
    "#                                         table_users.last_name, \n",
    "#                                         table_users.house \n",
    "#                                         FROM table_follows \n",
    "#                                         LEFT JOIN table_users ON table_users.user_id=table_follows.follows;\"\"\"\n",
    "# create(query)"
   ]
  },
  {
   "cell_type": "markdown",
   "id": "58511089",
   "metadata": {},
   "source": [
    "Check if  it works :"
   ]
  },
  {
   "cell_type": "code",
   "execution_count": 28,
   "id": "9ffd1670",
   "metadata": {
    "scrolled": true
   },
   "outputs": [
    {
     "data": {
      "text/plain": [
       "[(2, 'Ron', 'Wesley', 'Gryffindor'),\n",
       " (1, 'Harry', 'Potter', 'Gryffindor'),\n",
       " (3, 'Hermonie', 'Granger', 'Gryffindor'),\n",
       " (4, 'Ginny', 'Weasley', 'Gryffindor'),\n",
       " (5, 'Draco', 'Malfoy', 'Slytherin')]"
      ]
     },
     "execution_count": 28,
     "metadata": {},
     "output_type": "execute_result"
    }
   ],
   "source": [
    "query = \"\"\"SELECT *\n",
    "            FROM info_follows \n",
    "            LIMIT 5\"\"\"\n",
    "write(query)"
   ]
  },
  {
   "cell_type": "code",
   "execution_count": 14,
   "id": "98b082fa",
   "metadata": {
    "scrolled": true
   },
   "outputs": [
    {
     "data": {
      "text/plain": [
       "[(0, 'Ron', 'Harry', '1989-01-01'),\n",
       " (0, 'Hermonie', 'Harry', '1993-07-01'),\n",
       " (0, 'Ginny', 'Harry', '1988-08-08'),\n",
       " (0, 'Ginny', 'Ron', '1988-08-08'),\n",
       " (0, 'Draco', 'Tom', '1986-01-10'),\n",
       " (0, 'Luna', 'Harry', '1990-02-02')]"
      ]
     },
     "execution_count": 14,
     "metadata": {},
     "output_type": "execute_result"
    }
   ],
   "source": [
    "query = \"\"\"SELECT DISTINCT(table_users.first_name+'_'+info_follows.first_name) AS link,  \n",
    "                    table_users.first_name, \n",
    "                    info_follows.first_name,\n",
    "                    STRFTIME('%Y-%m-%d', DATE(table_follows.date)) AS period \n",
    "                    FROM table_users \n",
    "                    LEFT JOIN table_follows ON table_users.user_id=table_follows.user_id \n",
    "                    LEFT JOIN info_follows ON table_follows.follows=info_follows.follows\n",
    "                    WHERE period<'1993-09-01'; \"\"\"\n",
    "write(query)"
   ]
  },
  {
   "cell_type": "markdown",
   "id": "de3f19f5",
   "metadata": {},
   "source": [
    "4. Give a count of how many people followed each user as of 1999-12-31. Give the result in term of \"users full\n",
    "name, number of followers\n"
   ]
  },
  {
   "cell_type": "code",
   "execution_count": 23,
   "id": "ede3e910",
   "metadata": {
    "scrolled": true
   },
   "outputs": [
    {
     "data": {
      "text/plain": [
       "[(0, 'Cedric', 3),\n",
       " (0, 'Cho', 3),\n",
       " (0, 'Ginny', 1),\n",
       " (0, 'Harry', 6),\n",
       " (0, 'Hermonie', 1),\n",
       " (0, 'Luna', 1),\n",
       " (0, 'Ron', 3),\n",
       " (0, 'Tom', 1)]"
      ]
     },
     "execution_count": 23,
     "metadata": {},
     "output_type": "execute_result"
    }
   ],
   "source": [
    "query = \"\"\"SELECT DISTINCT(table_users.first_name+'_'+info_follows.first_name) AS link,  \n",
    "                    info_follows.first_name, \n",
    "                    COUNT(DISTINCT(table_users.first_name))\n",
    "                    FROM table_users \n",
    "                    LEFT JOIN table_follows ON table_users.user_id=table_follows.user_id \n",
    "                    LEFT JOIN info_follows ON table_follows.follows=info_follows.follows\n",
    "                    GROUP BY info_follows.first_name\n",
    "                    HAVING STRFTIME('%Y-%m-%d', DATE(table_follows.date))<='1999-12-31'; \"\"\"\n",
    "write(query)"
   ]
  },
  {
   "cell_type": "markdown",
   "id": "42d9214e",
   "metadata": {},
   "source": [
    "5. List the number of users each user follows\n"
   ]
  },
  {
   "cell_type": "code",
   "execution_count": 22,
   "id": "f38ef68f",
   "metadata": {},
   "outputs": [
    {
     "data": {
      "text/plain": [
       "[(0, 'Cedric', 1),\n",
       " (0, 'Cho', 2),\n",
       " (0, 'Draco', 2),\n",
       " (0, 'Ginny', 3),\n",
       " (0, 'Harry', 5),\n",
       " (0, 'Hermonie', 3),\n",
       " (0, 'Luna', 2),\n",
       " (0, 'Ron', 2),\n",
       " (None, 'Tom', 0)]"
      ]
     },
     "execution_count": 22,
     "metadata": {},
     "output_type": "execute_result"
    }
   ],
   "source": [
    "query = \"\"\"SELECT DISTINCT(table_users.first_name+'_'+info_follows.first_name) AS link,  \n",
    "                    table_users.first_name, \n",
    "                    COUNT(DISTINCT(info_follows.first_name))\n",
    "                    FROM table_users \n",
    "                    LEFT JOIN table_follows ON table_users.user_id=table_follows.user_id \n",
    "                    LEFT JOIN info_follows ON table_follows.follows=info_follows.follows\n",
    "                    GROUP BY table_users.first_name; \"\"\"\n",
    "write(query)"
   ]
  },
  {
   "cell_type": "markdown",
   "id": "68767495",
   "metadata": {},
   "source": [
    "6. List all rows from follows where someone from one house follows someone from a different house. Please\n",
    "give the result with user names.\n"
   ]
  },
  {
   "cell_type": "code",
   "execution_count": 31,
   "id": "f8fd82f0",
   "metadata": {},
   "outputs": [
    {
     "data": {
      "text/plain": [
       "[(6, 'Harry', 'Gryffindor', 'Draco', 'Slytherin'),\n",
       " (8, 'Harry', 'Gryffindor', 'Luna', 'Ravenclaw'),\n",
       " (9, 'Harry', 'Gryffindor', 'Cho', 'Ravenclaw'),\n",
       " (12, 'Hermonie', 'Gryffindor', 'Cedric', 'Hufflepuff'),\n",
       " (13, 'Ginny', 'Gryffindor', 'Cedric', 'Hufflepuff'),\n",
       " (6, 'Draco', 'Slytherin', 'Harry', 'Gryffindor'),\n",
       " (8, 'Luna', 'Ravenclaw', 'Harry', 'Gryffindor'),\n",
       " (9, 'Cho', 'Ravenclaw', 'Harry', 'Gryffindor'),\n",
       " (17, 'Cho', 'Ravenclaw', 'Cedric', 'Hufflepuff'),\n",
       " (17, 'Cedric', 'Hufflepuff', 'Cho', 'Ravenclaw')]"
      ]
     },
     "execution_count": 31,
     "metadata": {},
     "output_type": "execute_result"
    }
   ],
   "source": [
    "query = \"\"\"SELECT DISTINCT(table_follows.user_id+'_'+table_follows.follows) AS link, \n",
    "                    table_users.first_name,\n",
    "                    table_users.house,\n",
    "                    info_follows.first_name,\n",
    "                    info_follows.house\n",
    "                    FROM table_users \n",
    "                    LEFT JOIN table_follows ON table_users.user_id=table_follows.user_id\n",
    "                    LEFT JOIN info_follows ON table_follows.follows=info_follows.follows\n",
    "                    WHERE table_users.house!=info_follows.house; \"\"\"\n",
    "write(query)"
   ]
  },
  {
   "cell_type": "markdown",
   "id": "07ebf2ff",
   "metadata": {},
   "source": [
    "7. List all unrequited followings (i.e. where A follows B but B does not follow A)\n"
   ]
  },
  {
   "cell_type": "code",
   "execution_count": 37,
   "id": "d3052756",
   "metadata": {},
   "outputs": [
    {
     "data": {
      "text/plain": [
       "[(None, 'Tom', 'Slytherin', None, None),\n",
       " (3, 'Harry', 'Gryffindor', 'Ron', 'Gryffindor'),\n",
       " (3, 'Ron', 'Gryffindor', 'Harry', 'Gryffindor'),\n",
       " (4, 'Hermonie', 'Gryffindor', 'Harry', 'Gryffindor'),\n",
       " (5, 'Harry', 'Gryffindor', 'Ginny', 'Gryffindor'),\n",
       " (5, 'Ron', 'Gryffindor', 'Hermonie', 'Gryffindor'),\n",
       " (5, 'Hermonie', 'Gryffindor', 'Ron', 'Gryffindor'),\n",
       " (5, 'Ginny', 'Gryffindor', 'Harry', 'Gryffindor'),\n",
       " (6, 'Harry', 'Gryffindor', 'Draco', 'Slytherin'),\n",
       " (6, 'Ginny', 'Gryffindor', 'Ron', 'Gryffindor'),\n",
       " (6, 'Draco', 'Slytherin', 'Harry', 'Gryffindor'),\n",
       " (8, 'Harry', 'Gryffindor', 'Luna', 'Ravenclaw'),\n",
       " (8, 'Luna', 'Ravenclaw', 'Harry', 'Gryffindor'),\n",
       " (9, 'Harry', 'Gryffindor', 'Cho', 'Ravenclaw'),\n",
       " (9, 'Cho', 'Ravenclaw', 'Harry', 'Gryffindor'),\n",
       " (11, 'Draco', 'Slytherin', 'Tom', 'Slytherin'),\n",
       " (12, 'Hermonie', 'Gryffindor', 'Cedric', 'Hufflepuff'),\n",
       " (13, 'Ginny', 'Gryffindor', 'Cedric', 'Hufflepuff'),\n",
       " (15, 'Luna', 'Ravenclaw', 'Cho', 'Ravenclaw'),\n",
       " (17, 'Cho', 'Ravenclaw', 'Cedric', 'Hufflepuff'),\n",
       " (17, 'Cedric', 'Hufflepuff', 'Cho', 'Ravenclaw')]"
      ]
     },
     "execution_count": 37,
     "metadata": {},
     "output_type": "execute_result"
    }
   ],
   "source": [
    "query = \"\"\"SELECT DISTINCT(table_follows.user_id+'_'+table_follows.follows) AS link, \n",
    "                    table_users.first_name,\n",
    "                    table_users.house,\n",
    "                    info_follows.first_name,\n",
    "                    info_follows.house\n",
    "                    FROM table_users \n",
    "                    LEFT JOIN table_follows ON table_users.user_id=table_follows.user_id\n",
    "                    LEFT JOIN info_follows ON table_follows.follows=info_follows.follows\n",
    "                    ORDER BY link\n",
    "                    ; \"\"\"\n",
    "write(query)"
   ]
  }
 ],
 "metadata": {
  "kernelspec": {
   "display_name": "Python 3 (ipykernel)",
   "language": "python",
   "name": "python3"
  },
  "language_info": {
   "codemirror_mode": {
    "name": "ipython",
    "version": 3
   },
   "file_extension": ".py",
   "mimetype": "text/x-python",
   "name": "python",
   "nbconvert_exporter": "python",
   "pygments_lexer": "ipython3",
   "version": "3.8.12"
  },
  "toc": {
   "base_numbering": 1,
   "nav_menu": {},
   "number_sections": true,
   "sideBar": true,
   "skip_h1_title": false,
   "title_cell": "Table of Contents",
   "title_sidebar": "Contents",
   "toc_cell": false,
   "toc_position": {},
   "toc_section_display": true,
   "toc_window_display": false
  },
  "varInspector": {
   "cols": {
    "lenName": 16,
    "lenType": 16,
    "lenVar": 40
   },
   "kernels_config": {
    "python": {
     "delete_cmd_postfix": "",
     "delete_cmd_prefix": "del ",
     "library": "var_list.py",
     "varRefreshCmd": "print(var_dic_list())"
    },
    "r": {
     "delete_cmd_postfix": ") ",
     "delete_cmd_prefix": "rm(",
     "library": "var_list.r",
     "varRefreshCmd": "cat(var_dic_list()) "
    }
   },
   "types_to_exclude": [
    "module",
    "function",
    "builtin_function_or_method",
    "instance",
    "_Feature"
   ],
   "window_display": false
  }
 },
 "nbformat": 4,
 "nbformat_minor": 5
}
