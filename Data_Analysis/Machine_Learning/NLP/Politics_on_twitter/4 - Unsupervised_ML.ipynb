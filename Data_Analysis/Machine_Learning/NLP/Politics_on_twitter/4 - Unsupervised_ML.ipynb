{
 "cells": [
  {
   "cell_type": "markdown",
   "id": "c290e664",
   "metadata": {},
   "source": [
    "# Import librairies"
   ]
  },
  {
   "cell_type": "code",
   "execution_count": 54,
   "id": "f28f4646",
   "metadata": {},
   "outputs": [],
   "source": [
    "import pandas as pd\n",
    "import seaborn as sns\n",
    "import matplotlib.pyplot as plt\n",
    "from sklearn.preprocessing import StandardScaler\n",
    "from sklearn.decomposition import PCA\n",
    "from sklearn.cluster import KMeans"
   ]
  },
  {
   "cell_type": "markdown",
   "id": "525a1f01",
   "metadata": {},
   "source": [
    "# Import file(s)"
   ]
  },
  {
   "cell_type": "code",
   "execution_count": 73,
   "id": "a6731502",
   "metadata": {},
   "outputs": [],
   "source": [
    "df = pd.read_csv(\"lexicon_score_per_user_df.csv\").drop(columns=[\"Unnamed: 0\", \"user\"])"
   ]
  },
  {
   "cell_type": "code",
   "execution_count": 74,
   "id": "4a59bf2d",
   "metadata": {},
   "outputs": [
    {
     "data": {
      "text/html": [
       "<div>\n",
       "<style scoped>\n",
       "    .dataframe tbody tr th:only-of-type {\n",
       "        vertical-align: middle;\n",
       "    }\n",
       "\n",
       "    .dataframe tbody tr th {\n",
       "        vertical-align: top;\n",
       "    }\n",
       "\n",
       "    .dataframe thead th {\n",
       "        text-align: right;\n",
       "    }\n",
       "</style>\n",
       "<table border=\"1\" class=\"dataframe\">\n",
       "  <thead>\n",
       "    <tr style=\"text-align: right;\">\n",
       "      <th></th>\n",
       "      <th>Politique</th>\n",
       "      <th>Actualité</th>\n",
       "      <th>Candidats</th>\n",
       "      <th>Travail</th>\n",
       "      <th>Santé</th>\n",
       "      <th>Economie</th>\n",
       "      <th>Sécurité</th>\n",
       "      <th>Extrême</th>\n",
       "      <th>Ecologie</th>\n",
       "      <th>Pouvoir_achat</th>\n",
       "      <th>name</th>\n",
       "      <th>political_orientation</th>\n",
       "    </tr>\n",
       "  </thead>\n",
       "  <tbody>\n",
       "    <tr>\n",
       "      <th>0</th>\n",
       "      <td>166</td>\n",
       "      <td>204</td>\n",
       "      <td>90</td>\n",
       "      <td>63</td>\n",
       "      <td>63</td>\n",
       "      <td>18</td>\n",
       "      <td>63</td>\n",
       "      <td>5</td>\n",
       "      <td>11</td>\n",
       "      <td>3</td>\n",
       "      <td>Alex Langlois</td>\n",
       "      <td>divers</td>\n",
       "    </tr>\n",
       "    <tr>\n",
       "      <th>1</th>\n",
       "      <td>160</td>\n",
       "      <td>117</td>\n",
       "      <td>60</td>\n",
       "      <td>15</td>\n",
       "      <td>24</td>\n",
       "      <td>22</td>\n",
       "      <td>15</td>\n",
       "      <td>4</td>\n",
       "      <td>2</td>\n",
       "      <td>1</td>\n",
       "      <td>Fabrice Grimal</td>\n",
       "      <td>divers</td>\n",
       "    </tr>\n",
       "    <tr>\n",
       "      <th>2</th>\n",
       "      <td>250</td>\n",
       "      <td>248</td>\n",
       "      <td>118</td>\n",
       "      <td>101</td>\n",
       "      <td>160</td>\n",
       "      <td>103</td>\n",
       "      <td>98</td>\n",
       "      <td>36</td>\n",
       "      <td>24</td>\n",
       "      <td>4</td>\n",
       "      <td>Edouard Philippe</td>\n",
       "      <td>droite</td>\n",
       "    </tr>\n",
       "    <tr>\n",
       "      <th>3</th>\n",
       "      <td>38</td>\n",
       "      <td>51</td>\n",
       "      <td>8</td>\n",
       "      <td>13</td>\n",
       "      <td>13</td>\n",
       "      <td>4</td>\n",
       "      <td>12</td>\n",
       "      <td>3</td>\n",
       "      <td>3</td>\n",
       "      <td>0</td>\n",
       "      <td>Clara Egger</td>\n",
       "      <td>divers</td>\n",
       "    </tr>\n",
       "    <tr>\n",
       "      <th>4</th>\n",
       "      <td>174</td>\n",
       "      <td>175</td>\n",
       "      <td>57</td>\n",
       "      <td>44</td>\n",
       "      <td>24</td>\n",
       "      <td>51</td>\n",
       "      <td>45</td>\n",
       "      <td>28</td>\n",
       "      <td>17</td>\n",
       "      <td>4</td>\n",
       "      <td>Georges Kuzmanovic</td>\n",
       "      <td>divers</td>\n",
       "    </tr>\n",
       "  </tbody>\n",
       "</table>\n",
       "</div>"
      ],
      "text/plain": [
       "   Politique  Actualité  Candidats  Travail  Santé  Economie  Sécurité  \\\n",
       "0        166        204         90       63     63        18        63   \n",
       "1        160        117         60       15     24        22        15   \n",
       "2        250        248        118      101    160       103        98   \n",
       "3         38         51          8       13     13         4        12   \n",
       "4        174        175         57       44     24        51        45   \n",
       "\n",
       "   Extrême  Ecologie  Pouvoir_achat                name political_orientation  \n",
       "0        5        11              3       Alex Langlois                divers  \n",
       "1        4         2              1      Fabrice Grimal                divers  \n",
       "2       36        24              4    Edouard Philippe                droite  \n",
       "3        3         3              0         Clara Egger                divers  \n",
       "4       28        17              4  Georges Kuzmanovic                divers  "
      ]
     },
     "execution_count": 74,
     "metadata": {},
     "output_type": "execute_result"
    }
   ],
   "source": [
    "df.head()"
   ]
  },
  {
   "cell_type": "markdown",
   "id": "6e07dc50",
   "metadata": {},
   "source": [
    "## ML Classification"
   ]
  },
  {
   "cell_type": "markdown",
   "id": "98e1a4a9",
   "metadata": {},
   "source": [
    "- I need a lot tweets from other politics to generate a model that can predict if our candidates looks like a typical politician from his/her political orientation"
   ]
  },
  {
   "cell_type": "markdown",
   "id": "5ae81100",
   "metadata": {},
   "source": [
    "- I need at least 20 politicians from : Extrême gauche, Gauche, Ecologie, Divers, Droite et Extrême droite"
   ]
  },
  {
   "cell_type": "markdown",
   "id": "ef47a0a2",
   "metadata": {},
   "source": [
    "- I don't integrate center because they are classified as \"divers\" in my original data source (https://www.francetvinfo.fr/elections/presidentielle/candidats/liste-complete-des-candidats-a-election-presidentielle-2022-consultez-en-direct-actualisee_4803249.html) but in this \"political orientation\" there is also candidates without etiquettes, so I let it like this and will determine in which of the 6 political orientation just upside they are the closer."
   ]
  },
  {
   "cell_type": "code",
   "execution_count": null,
   "id": "b84a0993",
   "metadata": {},
   "outputs": [],
   "source": []
  },
  {
   "cell_type": "code",
   "execution_count": 75,
   "id": "3b154afa",
   "metadata": {},
   "outputs": [
    {
     "name": "stdout",
     "output_type": "stream",
     "text": [
      "Alex Langlois\n",
      "Anasse Kazib\n",
      "Anna Agueb-Porterie\n",
      "Anne Hidalgo\n",
      "Antoine Martinez\n",
      "Antoine Waechter\n",
      "Arnaud Montebourg\n",
      "Charlotte Marchandise\n",
      "Clara Egger\n",
      "Denis Payre\n",
      "Edouard Philippe\n",
      "Emmanuel Macron\n",
      "Eric Ciotti\n",
      "Eric Zemmour\n",
      "Fabien Roussel\n",
      "Fabrice Grimal\n",
      "Florian Philippot\n",
      "François Asselineau\n",
      "Georges Kuzmanovic\n",
      "Gerard Filoche\n",
      "Gildas Vieira\n",
      "Gilles Lazzarini\n",
      "Hélène Thouy\n",
      "Jacline Mouraud\n",
      "Jean Lassale\n",
      "Jean-Frédéric Poisson\n",
      "Jean-Luc Mélenchon\n",
      "Luc Laforets\n",
      "Marie Cau\n",
      "Marine Le Pen\n",
      "Martin Rocca\n",
      "Michel Barnier\n",
      "Nathalie Arthaud\n",
      "Nicolas Dupont-Aignan\n",
      "Philippe Juvin\n",
      "Philippe Mazuel\n",
      "Philippe Poutou\n",
      "Pierre Larrouturou\n",
      "Régis Ollivier\n",
      "Valérie Pécresse\n",
      "Xavier Bertrand\n",
      "Yannick Jadot\n"
     ]
    }
   ],
   "source": [
    "for name in sorted(list(df[\"name\"])):\n",
    "    print(name)"
   ]
  },
  {
   "cell_type": "code",
   "execution_count": null,
   "id": "7d63cc4c",
   "metadata": {},
   "outputs": [],
   "source": []
  }
 ],
 "metadata": {
  "kernelspec": {
   "display_name": "Python 3 (ipykernel)",
   "language": "python",
   "name": "python3"
  },
  "language_info": {
   "codemirror_mode": {
    "name": "ipython",
    "version": 3
   },
   "file_extension": ".py",
   "mimetype": "text/x-python",
   "name": "python",
   "nbconvert_exporter": "python",
   "pygments_lexer": "ipython3",
   "version": "3.8.12"
  },
  "toc": {
   "base_numbering": 1,
   "nav_menu": {},
   "number_sections": true,
   "sideBar": true,
   "skip_h1_title": false,
   "title_cell": "Table of Contents",
   "title_sidebar": "Contents",
   "toc_cell": false,
   "toc_position": {},
   "toc_section_display": true,
   "toc_window_display": false
  },
  "varInspector": {
   "cols": {
    "lenName": 16,
    "lenType": 16,
    "lenVar": 40
   },
   "kernels_config": {
    "python": {
     "delete_cmd_postfix": "",
     "delete_cmd_prefix": "del ",
     "library": "var_list.py",
     "varRefreshCmd": "print(var_dic_list())"
    },
    "r": {
     "delete_cmd_postfix": ") ",
     "delete_cmd_prefix": "rm(",
     "library": "var_list.r",
     "varRefreshCmd": "cat(var_dic_list()) "
    }
   },
   "types_to_exclude": [
    "module",
    "function",
    "builtin_function_or_method",
    "instance",
    "_Feature"
   ],
   "window_display": false
  }
 },
 "nbformat": 4,
 "nbformat_minor": 5
}
