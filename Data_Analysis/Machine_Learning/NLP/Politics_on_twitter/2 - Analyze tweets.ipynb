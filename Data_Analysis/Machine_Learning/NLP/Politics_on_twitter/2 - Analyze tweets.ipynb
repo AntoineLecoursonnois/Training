{
 "cells": [
  {
   "cell_type": "markdown",
   "id": "388aeddf",
   "metadata": {},
   "source": [
    "# Import librairies"
   ]
  },
  {
   "cell_type": "code",
   "execution_count": 1,
   "id": "f64fc90b",
   "metadata": {},
   "outputs": [],
   "source": [
    "import requests\n",
    "import tweepy\n",
    "import webbrowser\n",
    "import time\n",
    "import pandas as pd\n",
    "import re\n",
    "from nltk.tokenize import word_tokenize\n",
    "from nltk.corpus import stopwords \n",
    "import string\n",
    "import unidecode\n",
    "from sklearn.feature_extraction.text import TfidfVectorizer\n",
    "import matplotlib.pyplot as plt\n",
    "from wordcloud import WordCloud, STOPWORDS\n",
    "import seaborn as sns"
   ]
  },
  {
   "cell_type": "markdown",
   "id": "6437b7c1",
   "metadata": {},
   "source": [
    "# Import keys"
   ]
  },
  {
   "cell_type": "code",
   "execution_count": 2,
   "id": "44d46f22",
   "metadata": {},
   "outputs": [],
   "source": [
    "from raw_data import keys"
   ]
  },
  {
   "cell_type": "code",
   "execution_count": 3,
   "id": "8a1d9f3a",
   "metadata": {},
   "outputs": [],
   "source": [
    "twitter_api_key = keys.twitter_api_key()\n",
    "twitter_api_secret_key = keys.twitter_api_key_secret()\n",
    "twitter_bearer_token = keys.twitter_bearer_token"
   ]
  },
  {
   "cell_type": "markdown",
   "id": "c8bdc037",
   "metadata": {},
   "source": [
    "# Connect my developer project to my twitter profile"
   ]
  },
  {
   "cell_type": "code",
   "execution_count": 4,
   "id": "1f5f751c",
   "metadata": {},
   "outputs": [
    {
     "name": "stdout",
     "output_type": "stream",
     "text": [
      "https://api.twitter.com/oauth/authorize?oauth_token=ssnwMQAAAAABUe3MAAABfJPSdsU\n"
     ]
    }
   ],
   "source": [
    "callback_uri = \"oob\" # url\n",
    "auth = tweepy.OAuthHandler(twitter_api_key, twitter_api_secret_key, callback_uri)\n",
    "redirect_url = auth.get_authorization_url()\n",
    "print(redirect_url)"
   ]
  },
  {
   "cell_type": "code",
   "execution_count": 5,
   "id": "73561702",
   "metadata": {
    "scrolled": false
   },
   "outputs": [
    {
     "ename": "SyntaxError",
     "evalue": "invalid syntax (1928120398.py, line 1)",
     "output_type": "error",
     "traceback": [
      "\u001b[0;36m  File \u001b[0;32m\"/tmp/ipykernel_31346/1928120398.py\"\u001b[0;36m, line \u001b[0;32m1\u001b[0m\n\u001b[0;31m    m=\u001b[0m\n\u001b[0m      ^\u001b[0m\n\u001b[0;31mSyntaxError\u001b[0m\u001b[0;31m:\u001b[0m invalid syntax\n"
     ]
    }
   ],
   "source": [
    "m="
   ]
  },
  {
   "cell_type": "code",
   "execution_count": 5,
   "id": "ae9a2dac",
   "metadata": {},
   "outputs": [],
   "source": [
    "user_pin_value = '9122509'\n",
    "auth.get_access_token(user_pin_value)\n",
    "api = tweepy.API(auth)"
   ]
  },
  {
   "cell_type": "markdown",
   "id": "cd893808",
   "metadata": {},
   "source": [
    "# Load new content"
   ]
  },
  {
   "cell_type": "markdown",
   "id": "c93f5fb7",
   "metadata": {},
   "source": [
    "## Function to extract the tweets of politicals that I follow"
   ]
  },
  {
   "cell_type": "code",
   "execution_count": 6,
   "id": "43e2edea",
   "metadata": {},
   "outputs": [],
   "source": [
    "def extract_tweets_from_politics(number_of_tweet_per_politic):\n",
    "    \"\"\"This function return a DataFrame of the last tweets of politics that I follow on Twitter\"\"\"\n",
    "    \n",
    "    # Start by working on my own account\n",
    "    me = api.get_user(screen_name=\"alecoursonnois\")\n",
    "    # Generate a list of my all of my friends (considering that I have under 200 friends on twitter)\n",
    "    my_friends = me.friends(count=200)\n",
    "    \n",
    "    # Retrieve my personal friends which I don't want to analyze their tweets\n",
    "    not_politics = [\"alecoursonnois\", \"Baly_5\", \"LucieCMP\", \"JeannonoSmith\", \"Seezzy_\"]\n",
    "    \n",
    "    # Create a set to stock the DataFrame columns names\n",
    "    columns = set()\n",
    "    # Create a list to restrict the extractions to string and int datas only\n",
    "    allowed_types = [str, int]\n",
    "    # Create a list to save each tweet and its datas\n",
    "    tweets_data = []\n",
    "    # Create to save politics screen_names\n",
    "    politics_screen_name = []\n",
    "    \n",
    "    # Iterate on my_friends\n",
    "    for friend in my_friends:\n",
    "        friend_name = friend.screen_name\n",
    "        \n",
    "        # Don't act if this friend is out of the project\n",
    "        if friend_name in not_politics:\n",
    "            pass\n",
    "        \n",
    "        else:\n",
    "            # Generate politics timeline list of the last tweets (the number must be indicated as a function's argument)\n",
    "            timeline_list = api.get_user(screen_name=friend_name).timeline(count=number_of_tweet_per_politic)\n",
    "            \n",
    "            # Iterate on each tweet\n",
    "            for status in timeline_list:\n",
    "                # Generate a dictionary of status attributes\n",
    "                status_dict = dict(vars(status))\n",
    "                \n",
    "                # From this dictionary, get the keys and stock it in a variable\n",
    "                keys = vars(status).keys()\n",
    "                \n",
    "                # Create a dictionary stocking each status of the politic we are working on\n",
    "                # Integrate the status user_screen_name and its author_screen_name\n",
    "                # This dictionary will be added to the \"tweets_data\" list and finaly convert into a DataFrame\n",
    "                single_tweet_data = {\"user\":status.user.screen_name, \"author\": status.author.screen_name}\n",
    "               \n",
    "                # Iterate on each status key (future column name)\n",
    "                for k in keys:\n",
    "                    # Check its type\n",
    "                    v_type = type(status_dict[k])\n",
    "                    \n",
    "                    # If its in the allowed_types list there we go\n",
    "                    if v_type in allowed_types:\n",
    "                        # Add the status data to its right key into the dictionary of each status\n",
    "                        single_tweet_data[k] = status_dict[k]\n",
    "                        # Add the key as a column name in the set\n",
    "                        columns.add(k)\n",
    "                \n",
    "                # Append the full single_tweet_data dictionary with the right key to the tweets_data list\n",
    "                tweets_data.append(single_tweet_data)\n",
    "\n",
    "    # Give a name to the columns respecting the order\n",
    "    headers_cols = list(columns)\n",
    "    # Add user and author column names\n",
    "    headers_cols.append(\"user\")\n",
    "    headers_cols.append(\"author\")\n",
    "\n",
    "    # Convert the tweets_data list into a DataFrame\n",
    "    df = pd.DataFrame(tweets_data)\n",
    "    \n",
    "    # Only keep columns that provides information\n",
    "    columns_to_keep = ['user', 'author', 'id', 'text', 'source', 'source_url']\n",
    "    df = df[columns_to_keep]\n",
    "    \n",
    "    return df"
   ]
  },
  {
   "cell_type": "markdown",
   "id": "3e489b9b",
   "metadata": {},
   "source": [
    "## Apply the function"
   ]
  },
  {
   "cell_type": "code",
   "execution_count": 7,
   "id": "b6d76d2f",
   "metadata": {},
   "outputs": [],
   "source": [
    "last_tweets_df = extract_tweets_from_politics(number_of_tweet_per_politic=500)"
   ]
  },
  {
   "cell_type": "markdown",
   "id": "738807e0",
   "metadata": {},
   "source": [
    "## Add features"
   ]
  },
  {
   "cell_type": "markdown",
   "id": "4f187124",
   "metadata": {},
   "source": [
    "- Parti politique \n",
    "- Tendance politique\n",
    "- Date d'extraction (pour intégrer cette information il faudrait créer une copie de l'archive sans cette colonne pour pouvoir retirer les doublons, puis, merger le df sans doublon au sauvegardé pour avoir la date d'extraction)\n",
    "- Score par lexique (plus tard)"
   ]
  },
  {
   "cell_type": "markdown",
   "id": "55167ffb",
   "metadata": {},
   "source": [
    "### Generate new_features"
   ]
  },
  {
   "cell_type": "code",
   "execution_count": 8,
   "id": "2d59e36f",
   "metadata": {},
   "outputs": [],
   "source": [
    "new_features = [{\"user\":'EPhilippe_LH', \"political_party\":\"horizons\", \"political_trend\":\"right\"},\n",
    "                 {\"user\":'ZemmourEric', \"political_party\":\"zemmour\", \"political_trend\":\"extrem_right\"},\n",
    "                 {\"user\":'EmmanuelMacron', \"political_party\":\"LREM\", \"political_trend\":\"right\"},\n",
    "                 {\"user\":'Waechter2022', \"political_party\":\"mouvement_ecologiste_independant\", \"political_trend\":\"ecology\"},\n",
    "                 {\"user\":'Fabien_Roussel', \"political_party\":\"PCF\", \"political_trend\":\"extrem_left\"},\n",
    "                 {\"user\":'PhilippePoutou', \"political_party\":\"nouveau_parti_anticapitaliste\", \"political_trend\":\"extrem_left\"},\n",
    "                 {\"user\":'jfpoisson78', \"political_party\":\"la_voie_du_peuple\", \"political_trend\":\"extrem_right\"},\n",
    "                 {\"user\":'f_philippot', \"political_party\":\"les_patriotes\", \"political_trend\":\"extrem_right\"},\n",
    "                 {\"user\":'vpecresse', \"political_party\":\"soyons_libres\", \"political_trend\":\"right\"},\n",
    "                 {\"user\":'DenisPayre', \"political_party\":\"les_republicains\", \"political_trend\":\"right\"},\n",
    "                 {\"user\":'montebourg', \"political_party\":\"l_engagement\", \"political_trend\":\"left\"},\n",
    "                 {\"user\":'JLMelenchon', \"political_party\":\"la_france_insoumise\", \"political_trend\":\"extrem_left\"},\n",
    "                 {\"user\":'MLP_officiel', \"political_party\":\"front_national\", \"political_trend\":\"extrem_right\"},\n",
    "                 {\"user\":'SLeFoll', \"political_party\":\"parti_socialiste\", \"political_trend\":\"left\"},\n",
    "                 {\"user\":'jeanlassalle', \"political_party\":\"resistons\", \"political_trend\":\"divers\"},\n",
    "                 {\"user\":'larrouturou', \"political_party\":\"nouvelle_donne\", \"political_trend\":\"left\"},\n",
    "                 {\"user\":'philippejuvin', \"political_party\":\"les_republicains\", \"political_trend\":\"right\"},\n",
    "                 {\"user\":'yjadot', \"political_party\":\"EELV\", \"political_trend\":\"ecology\"},\n",
    "                 {\"user\":'Anne_Hidalgo', \"political_party\":\"parti_socialiste\", \"political_trend\":\"left\"},\n",
    "                 {\"user\":'gerardfiloche', \"political_party\":\"la_gauche_democratique_et_sociale\", \"political_trend\":\"extrem_left\"},\n",
    "                 {\"user\":'dupontaignan', \"political_party\":\"debout_la_france\", \"political_trend\":\"extrem_right\"},\n",
    "                 {\"user\":'ECiotti', \"political_party\":\"les_republicains\", \"political_trend\":\"right\"},\n",
    "                 {\"user\":'xavierbertrand', \"political_party\":\"la_manufacture\", \"political_trend\":\"right\"},\n",
    "                 {\"user\":'MichelBarnier', \"political_party\":\"les_republicains\", \"political_trend\":\"right\"},\n",
    "                 {\"user\":'UPR_Asselineau', \"political_party\":\"union_populaire_republicaine\", \"political_trend\":\"divers\"},\n",
    "                 {\"user\":'n_arthaud', \"political_party\":\"lutte_ouvriere\", \"political_trend\":\"extrem_left\"},\n",
    "                 {\"user\":'MartinRocca12', \"political_party\":\"constituante_2022\", \"political_trend\":\"divers\"},\n",
    "                 {\"user\":'gilleslazzarini', \"political_party\":\"parti_politique_pour_la_paix_et_la_protection_de_la_planete\", \"political_trend\":\"divers\"},\n",
    "                 {\"user\":'AlexLanglois_', \"political_party\":\"refondation_2022\", \"political_trend\":\"divers\"},\n",
    "                 {\"user\":'luclaf', \"political_party\":\"une_perspective_la_6e_republique\", \"political_trend\":\"divers\"},\n",
    "                 {\"user\":'Vukuzman', \"political_party\":\"republique_souveraine\", \"political_trend\":\"divers\"},\n",
    "                 {\"user\":'FabriceGrimal', \"political_party\":\"la_concorde_citoyenne_2022\", \"political_trend\":\"divers\"},\n",
    "                 {\"user\":'ClaraEgger1', \"political_party\":\"espoir_RIC_2022\", \"political_trend\":\"divers\"},\n",
    "                 {\"user\":'Cau_Marie_', \"political_party\":\"sans_etiquette\", \"political_trend\":\"divers\"},\n",
    "                 {\"user\":'antoine27955080', \"political_party\":\"volontaires_pour_la_france\", \"political_trend\":\"extrem_right\"},\n",
    "                 {\"user\":'regis_ollivier', \"political_party\":\"independant\", \"political_trend\":\"right\"},\n",
    "                 {\"user\":'JaclineMouraud', \"political_party\":\"sans_etiquette\", \"political_trend\":\"right\"},\n",
    "                 {\"user\":'HeleneThouy', \"political_party\":\"parti_animaliste\", \"political_trend\":\"ecology\"},\n",
    "                 {\"user\":'MAZUEL_Pace', \"political_party\":\"pace\", \"political_trend\":\"left\"},\n",
    "                 {\"user\":'MarCharlott', \"political_party\":\"sans_etiquette\", \"political_trend\":\"left\"},\n",
    "                 {\"user\":'AguebPorterie', \"political_party\":\"aucun\", \"political_trend\":\"left\"},\n",
    "                 {\"user\":'AnasseKazib', \"political_party\":\"courant_communiste_revolutionnaire_revolution_permanente\", \"political_trend\":\"extrem_left\"}]"
   ]
  },
  {
   "cell_type": "code",
   "execution_count": 9,
   "id": "763ebb16",
   "metadata": {},
   "outputs": [],
   "source": [
    "new_features_df = pd.DataFrame(new_features)"
   ]
  },
  {
   "cell_type": "markdown",
   "id": "089146ae",
   "metadata": {},
   "source": [
    "### Merge it to last_tweets_df"
   ]
  },
  {
   "cell_type": "code",
   "execution_count": 10,
   "id": "1dc7c919",
   "metadata": {},
   "outputs": [],
   "source": [
    "last_tweets_df = pd.merge(left=last_tweets_df, right=new_features_df, on='user', how='left')"
   ]
  },
  {
   "cell_type": "markdown",
   "id": "c0e21a21",
   "metadata": {},
   "source": [
    "## Check the number of tweets per politics"
   ]
  },
  {
   "cell_type": "code",
   "execution_count": 84,
   "id": "bb903b9a",
   "metadata": {},
   "outputs": [],
   "source": [
    "# last_tweets_df[\"user\"].value_counts()"
   ]
  },
  {
   "cell_type": "markdown",
   "id": "1084186c",
   "metadata": {},
   "source": [
    "## Add it to the main global DataFrame"
   ]
  },
  {
   "cell_type": "markdown",
   "id": "78e83f37",
   "metadata": {},
   "source": [
    "### Load the global_df \n",
    "- and drop the last index column automatically named \"Unamed: 0\" when saving df to csv file"
   ]
  },
  {
   "cell_type": "code",
   "execution_count": 11,
   "id": "e548f5b7",
   "metadata": {},
   "outputs": [],
   "source": [
    "global_df = pd.read_csv(\"global_df.csv\").drop(columns=\"Unnamed: 0\")"
   ]
  },
  {
   "cell_type": "markdown",
   "id": "658bf739",
   "metadata": {},
   "source": [
    "### Add new content"
   ]
  },
  {
   "cell_type": "code",
   "execution_count": 12,
   "id": "6bc89a19",
   "metadata": {},
   "outputs": [
    {
     "name": "stdout",
     "output_type": "stream",
     "text": [
      "We just added 1740 tweets to our global_df\n"
     ]
    }
   ],
   "source": [
    "actual_number_of_tweets = global_df.shape[0]\n",
    "global_df = global_df.append(last_tweets_df, ignore_index=True)\n",
    "global_df = global_df.drop_duplicates()\n",
    "print(f\"We just added {global_df.shape[0]-actual_number_of_tweets} tweets to our global_df\")"
   ]
  },
  {
   "cell_type": "markdown",
   "id": "332b34ba",
   "metadata": {},
   "source": [
    "### Save the new global_df"
   ]
  },
  {
   "cell_type": "code",
   "execution_count": 13,
   "id": "4b520eb8",
   "metadata": {},
   "outputs": [
    {
     "data": {
      "text/plain": [
       "(10475, 8)"
      ]
     },
     "execution_count": 13,
     "metadata": {},
     "output_type": "execute_result"
    }
   ],
   "source": [
    "global_df.shape"
   ]
  },
  {
   "cell_type": "code",
   "execution_count": 14,
   "id": "67efbe20",
   "metadata": {},
   "outputs": [],
   "source": [
    "global_df.to_csv(\"global_df.csv\")"
   ]
  },
  {
   "cell_type": "markdown",
   "id": "8fe632af",
   "metadata": {},
   "source": [
    "# Clean tweets"
   ]
  },
  {
   "cell_type": "markdown",
   "id": "a28ec9a9",
   "metadata": {},
   "source": [
    "## Make a new df from the global one\n",
    "- This way we will be allowed to drop duplicates next time we will load the global_df from the csv file"
   ]
  },
  {
   "cell_type": "code",
   "execution_count": 15,
   "id": "9b0fce02",
   "metadata": {},
   "outputs": [],
   "source": [
    "df_ready_for_nlp = global_df.copy()"
   ]
  },
  {
   "cell_type": "markdown",
   "id": "eaeed460",
   "metadata": {},
   "source": [
    "## Retrieve recurrent regex"
   ]
  },
  {
   "cell_type": "markdown",
   "id": "d320cc2d",
   "metadata": {},
   "source": [
    "### Retweets"
   ]
  },
  {
   "cell_type": "code",
   "execution_count": 16,
   "id": "0bb457d4",
   "metadata": {},
   "outputs": [],
   "source": [
    "def retrieve_rt_retweets(df):\n",
    "    new_texts = []\n",
    "    \n",
    "    for text in df[\"text\"]:\n",
    "        if text[:3] == 'RT ' or text[:3] == 'rt ':\n",
    "            new_texts.append(text[3:])\n",
    "        else:\n",
    "            new_texts.append(text)\n",
    "    \n",
    "    df[\"text\"] = new_texts\n",
    "    \n",
    "    return df"
   ]
  },
  {
   "cell_type": "code",
   "execution_count": 17,
   "id": "cc232a86",
   "metadata": {},
   "outputs": [],
   "source": [
    "df_ready_for_nlp = retrieve_rt_retweets(df_ready_for_nlp)"
   ]
  },
  {
   "cell_type": "markdown",
   "id": "090cc107",
   "metadata": {},
   "source": [
    "### Links"
   ]
  },
  {
   "cell_type": "code",
   "execution_count": 18,
   "id": "afb64d7b",
   "metadata": {},
   "outputs": [],
   "source": [
    "def retrieve_links(df):\n",
    "    pattern = re.compile(\"https://*\")\n",
    "    new_text = []\n",
    "\n",
    "    for text in df[\"text\"]:\n",
    "        if re.search(pattern, text) is None:\n",
    "            new_text.append(text)\n",
    "        else:\n",
    "            match_position = re.search(pattern, text).span()[0]\n",
    "            new_text.append(text[:(match_position-1)])\n",
    "\n",
    "    df[\"text\"] = new_text\n",
    "    \n",
    "    return df"
   ]
  },
  {
   "cell_type": "code",
   "execution_count": 19,
   "id": "c093ecb1",
   "metadata": {},
   "outputs": [],
   "source": [
    "df_ready_for_nlp = retrieve_links(df_ready_for_nlp)"
   ]
  },
  {
   "cell_type": "markdown",
   "id": "29273dd9",
   "metadata": {},
   "source": [
    "## Define a text_cleaner function"
   ]
  },
  {
   "cell_type": "code",
   "execution_count": 20,
   "id": "55cff025",
   "metadata": {},
   "outputs": [],
   "source": [
    "def text_cleaner(text):\n",
    "    # Remove Punctuation\n",
    "    for punctuation in string.punctuation:\n",
    "        text = text.replace(punctuation, ' ') \n",
    "    \n",
    "    # Lower Case\n",
    "    lowercased = text.lower() \n",
    "    \n",
    "    # Remove accents\n",
    "    unaccented_string = unidecode.unidecode(lowercased) \n",
    "    \n",
    "    # Tokenize\n",
    "    tokenized = word_tokenize(unaccented_string) \n",
    "    \n",
    "    # Remove numbers\n",
    "    words_only = [word for word in tokenized if word.isalpha()] \n",
    "    \n",
    "    # Make stopword list\n",
    "    stop_words = set(stopwords.words('french')) \n",
    "    \n",
    "    # Remove Stop Words\n",
    "    without_stopwords = [word for word in words_only if not word in stop_words]\n",
    "    \n",
    "    return \" \".join(without_stopwords)"
   ]
  },
  {
   "cell_type": "markdown",
   "id": "06d50d6a",
   "metadata": {},
   "source": [
    "## Apply the text_cleaner function"
   ]
  },
  {
   "cell_type": "code",
   "execution_count": 21,
   "id": "f2d4bb08",
   "metadata": {},
   "outputs": [],
   "source": [
    "df_ready_for_nlp['text'] = df_ready_for_nlp['text'].apply(text_cleaner)"
   ]
  },
  {
   "cell_type": "markdown",
   "id": "e2077576",
   "metadata": {},
   "source": [
    "# Analyze tweets"
   ]
  },
  {
   "cell_type": "markdown",
   "id": "0680ab41",
   "metadata": {
    "heading_collapsed": true
   },
   "source": [
    "## Vectorize the text and estimate the associated weight"
   ]
  },
  {
   "cell_type": "code",
   "execution_count": 52,
   "id": "342c1544",
   "metadata": {
    "hidden": true,
    "scrolled": true
   },
   "outputs": [],
   "source": [
    "# # Tuned TFidfvectorizer\n",
    "# vec = TfidfVectorizer(ngram_range = (1,1), min_df=0.01, max_df = 0.05).fit(df_ready_for_nlp[\"text\"])\n",
    "\n",
    "# # Transform text to vectors\n",
    "# vectors = vec.transform(df_ready_for_nlp[\"text\"]) \n",
    "\n",
    "# # Sum of tfidf weighting by word\n",
    "# sum_tfidf = vectors.sum(axis=0) \n",
    "\n",
    "# # Get the word and associated weight\n",
    "# tfidf_list = [(word, sum_tfidf[0, idx]) for word, idx in vec.vocabulary_.items()]  \n",
    "\n",
    "# # Sort\n",
    "# sorted_tfidf_list =sorted(tfidf_list, key = lambda x: x[1], reverse=True)  \n",
    "\n",
    "# sorted_tfidf_list[:10]"
   ]
  },
  {
   "cell_type": "markdown",
   "id": "876fd074",
   "metadata": {
    "heading_collapsed": true
   },
   "source": [
    "## Map words weight"
   ]
  },
  {
   "cell_type": "markdown",
   "id": "7858cc0a",
   "metadata": {
    "hidden": true
   },
   "source": [
    "- To retrieve once again stopwords but with WordCloud, add after \"height\":\n",
    "- stopwords=STOPWORDS"
   ]
  },
  {
   "cell_type": "code",
   "execution_count": 51,
   "id": "6b36d163",
   "metadata": {
    "hidden": true,
    "scrolled": true
   },
   "outputs": [],
   "source": [
    "# plt.subplots(figsize=(25,15))\n",
    "# wordcloud = WordCloud(background_color='white', width=1920, height=1080, stopwords=STOPWORDS).generate(\" \".join(df_ready_for_nlp[\"text\"]))\n",
    "# plt.imshow(wordcloud)\n",
    "# plt.axis('off')\n",
    "# plt.show()"
   ]
  },
  {
   "cell_type": "markdown",
   "id": "3c377183",
   "metadata": {
    "heading_collapsed": true
   },
   "source": [
    "## Count iteration per word"
   ]
  },
  {
   "cell_type": "code",
   "execution_count": 38,
   "id": "d0b44aaf",
   "metadata": {
    "hidden": true
   },
   "outputs": [],
   "source": [
    "# words_iteration = {}\n",
    "\n",
    "# for text in df_ready_for_nlp[\"text\"]:\n",
    "#     tokenized_word = word_tokenize(text)\n",
    "#     for word in tokenized_word:\n",
    "#         if word in words_iteration:\n",
    "#             words_iteration[word] += 1\n",
    "#         else:\n",
    "#             words_iteration[word] = 1"
   ]
  },
  {
   "cell_type": "code",
   "execution_count": 54,
   "id": "d83d81cb",
   "metadata": {
    "hidden": true
   },
   "outputs": [],
   "source": [
    "# len(words_iteration)"
   ]
  },
  {
   "cell_type": "code",
   "execution_count": 53,
   "id": "8a9bfcce",
   "metadata": {
    "hidden": true
   },
   "outputs": [],
   "source": [
    "# dict(sorted(words_iteration.items(), key=lambda item: item[1], reverse=True))"
   ]
  },
  {
   "cell_type": "markdown",
   "id": "888f4cc9",
   "metadata": {},
   "source": [
    "## Work on lexical contents"
   ]
  },
  {
   "cell_type": "markdown",
   "id": "c81806c1",
   "metadata": {},
   "source": [
    "### Define lexical variables"
   ]
  },
  {
   "cell_type": "markdown",
   "id": "e27e6bbd",
   "metadata": {},
   "source": [
    "- Politique V\n",
    "- Ecologie\n",
    "- Socialiste\n",
    "- Capitaliste\n",
    "- Communiste\n",
    "- Extreme\n",
    "- Humaniste\n",
    "- Santé\n",
    "- "
   ]
  },
  {
   "cell_type": "code",
   "execution_count": 32,
   "id": "1075831c",
   "metadata": {},
   "outputs": [],
   "source": [
    "political_lexicon = \"\"\"démocratie,politicien,gouvernement,état,diplomatie,fédéralisme,constitution,socialisme,idéologie,économique,économie,libéralisme,régime,pouvoir,social,actualité,citoyen,monarchie,parti,Machiavel,pluralisme,opposition,parlement,stratégie,civique,dictature,gouvernant,machiavélisme,parti politique,réactionnaire,dépolitiser,diplomatique,fascisme,géopolitique,politiser,sionisme,homme d'État,opinion,politologue,progressiste,révolution,révolutionnaire,technocratie,apartheid,écologie,égalité,gauche,indépendance,nationalisme,oligarchie,populisme,réfugié,terrorisme,austérité,révolution,démagogie,polémique,diplomate,philosophe,politisation,grève,libéral,programme,sociologie,souveraineté,système,alliance,anarchie,autocratie,bipolarisation,congrès,opportunisme,politiquement,propagande,schisme,sénat,Union européenne,apolitique,débat,féodalité,impérialisme,leader,militant,parlementaire,politicard,scission,économiste,extrémisme,impérialiste,analyste,centriste,écologiste,immigration,machiavélique,arène,bourgeoisie,communiste,instabilité,mondialisation,pamphlet,science politique,société,culturel,dissidence,européenne,financier,journal,mission,multipartisme,panafricanisme,racisme,anarchisme,civil,crise,électeur,gaullisme,goulag,islamisme,majorité,marxiste,orientation,parti républicain,protectorat,scandale,terreur,transition,utopie,amnistie,coalition,courant,décentralisation,entente,extrémiste,gouvernementale,Mao ZeDong,municipale,philosophie,philosophique,relance,revue,statut,technocrate,bonapartiste,clientélisme,démocratique,religieuse,répression,séparatiste,souverainiste,capitalisme,conduite,conflit,idéologique,isolationnisme,juridique,morales,politologie,publiciste,autarcie,bureaucratie,cléricalisme,colonial,contexte,démocrate,dialogue,gestion,glasnost,institutionnel,politicailler,politicaillerie,stabilité,totalitaire,vie politique,agitation,anticléricalisme,appartenance,autruche,barre,bureau,centre,club,écologisme,éditorial,état-providence,gauchiste,gazette,homme,infléchir,institut,institutions,intégration,keynésianisme,modéré,monarchiste,morale,violence,orthodoxe,panslavisme,pression,prolétariat,province,sécession,tendance,totalitarisme,action,activiste,affaire,constitutionnelle,déflation,échiquier,encarté,extérieure,faction,habile,homme politique,indépendantiste,intérieure,interpellation,interventionnisme,junte,Marine Le Pen,nation,parlementarisme,public,quitter,réaction,religion,social-démocratie,souverainisme,sphère,syndicalisme,tribalisme,troïka,agrarien,ambiant,budgétaire,considérations,convictions,discrimination,droits civils,fédérale,féminisme,finance,Guépéou,intrigues,langue de bois,monétaire,nationalité,nihilisme,réforme,Tchéka,tempête,administrative,ambitions,assemblées,autonomie,classe ouvrière,commerciales,conservateur,conversion,ethnique,fédération,financement,intérêts,littérature,menées,nationale,opposant,personnalités,populiste,protectionniste,querelles,républicain,syndical,affaires publiques,artistiques,démographique,discrimination positive,gouverner,habileté,indépendantisme,négociation,plan,police,politiste,ruse,science,temporisation,Thucydide,abstentionniste,Académie des sciences,accession,activisme,agora,aliénation,ambitieuse,anarchiste,antiparlementaire,autonome,autonomiste\"\"\"\n",
    "political_lexicon = word_tokenize(text_cleaner(political_lexicon))"
   ]
  },
  {
   "cell_type": "code",
   "execution_count": 22,
   "id": "4ce3300b",
   "metadata": {},
   "outputs": [],
   "source": [
    "ecology_lexicon = \"\"\"écologiste,environnement,écologique,écologisme,biologie,habitat,écosystème,biosphère,économie,biodiversité,ministère,pollution,productivisme,écologue,écologie politique,développement durable,solidarité,vert,éthologie,organisme,anthropologie,biologique,bionomie,biotope,durable,interaction,recyclage,biomasse,décroissance,environnementale,étude,protection,Greenpeace,capitalisme,Noël Mamère,vivant,Nicolas Hulot,énergie,génération,biogéographie,évolution,globale,microbiologie,nature,politique,préservation,végétale,cours,Hulot,Brice Lalonde,Daniel Cohn-Bendit,Europe Écologie,Mei,naturel,trophique,Antoine Waechter,modem,abiotique,biocénose,intertidale,milieu,oikos,permaculture,phytogéographie,surpopulation,biotique,bobo,diversité,écocitoyenneté,écoguerrier,éconavigation,ethnographie,ethnologie,guilde,impact,mésologie,océanographie,théorique\"\"\"\n",
    "ecology_lexicon = word_tokenize(text_cleaner(ecology_lexicon))"
   ]
  },
  {
   "cell_type": "code",
   "execution_count": 24,
   "id": "3816696f",
   "metadata": {},
   "outputs": [],
   "source": [
    "social_lexicon = \"\"\"sociologie,socialisme,économique,société,culturel,contexte,inégalité,libéralisme,idéologie,individu,logement,sociologique,capitalisme,environnemental,solidarité,développement,bourgeoisie,ethnologie,pauvreté,politique,système,bien-être,organisme,humain,collectivisme,délinquance,environnement,Facebook,déterminisme,égalité,évolution,pacte,progrès,civilisation,éducatif,justice,sanitaire,statut,tabou,violence,écologique,familial,individuel,sociologue,cohésion,comportement,état-providence,juridique,moral,question,démocrate,fiscal,libéral,mouvement,action,communisme,éducation,établissement,redistribution,sociétal,tissu,collective,matriarcat,ordre,Rousseau,science,changement,domaine,économie,idéal,organisation,parenté,solidaire,travailleur,citoyen,communautaire,concept,dumping,intellectuel,progressisme,progressiste,psychologique,rejet,siège,volonté,Bourdieu,classe,financement,identité,marxiste,milieu,professionnel,socialiste,bouleversement,discrimination,droit,Durkheim,emploi,handicap,institutionnel,paradigme,syndicalisme,syndicat,aliénation,assurance,conservatisme,coopération,déviance,employeur,hiérarchie,liberté,liens,loyer,mœurs,nationalisme,niveau,racial,réformiste,révolutionnaire,simple,analyse,anomie,argot,bourgeois,endogamie,éthique,fourmi,HLM,insertion,motivation,opinion,ouvrier,pauvre,prélèvement,profession,protection,réflexion,religieux,scolaire,statistique,utopie,anarchisme,condition,Conseil économique,démocratie,éducateur,grégaire,histoire,individualiste,intérêt,philosophe,racisme,respect,salarié,stratification,anthropologique,antisocial,biologique,clivage,conformisme,constructivisme,contestation,contrat,cotisation,développement économique,fédéralisme,Hobbes,impact,individualisme,libertaire,marxisme,méritocratie,militant,mutualité,précarité,socialisation,avantage,caste,cognitif,comportemental,coopératif,démographique,dictature,écologie,effondrement,ethnique,facteurs,gaullisme,groupes,institution,laïcité,lutte des classes,phénomènes,problèmes,produit,rapport,restauration,sécurité,situation,sociabilité,apport,clan,démocratique,émergence,enjeu,étranger,fiscalité,habitude,interaction,Marx,noblesse,prévention,rang,richesse,santé,Twitter,univers,abus,anthropologie,anthropologue,bienfaisance,compétence,contestataire,défavorisé,défense,féodalité,liant,médico-social,prolétariat,réinsertion,responsabilité,salaire,sentiment,sociable,soin,vision,affable,agitation,agraire,aimable,ambition,architecture,bien,Boudon,CCAS,collectivité,comité,considérer,corporatisme,critique,égalitaire,habitus,identitaire,idéologique,impôt,moralité,ONG,orientation,partenaire,psychique,samu,sociolecte,termite,totalitarisme,adhérent,alpha,associatif,bailleur,bénéficiaires,biologie,Bonald,bureaucratie,capitaliste,cassos,codes,conflits,consensus,déclassement,fondement,habitant,habitat,Juppé,langue,légitimation,légitimité,locatif,Mauss,média,mixité,modèle,nivellement,notion,office,patriarcat,philosophie,problèmes économiques,programmes,qualité,réseautage,révolution\"\"\"\n",
    "social_lexicon = word_tokenize(text_cleaner(social_lexicon))"
   ]
  },
  {
   "cell_type": "code",
   "execution_count": 25,
   "id": "76dbea2e",
   "metadata": {},
   "outputs": [],
   "source": [
    "capital_lexicon = \"\"\"investissement,capitaliste,capitalisme,profit,investisseur,travailleur,intérêt,dette,fonds,richesse,accumulation,Marx,amortissement,revenu,actionnaire,banque,rente,placement,épargne,croissance,capitalisation,salarié,participation,privatisation,emprunt,investir,augmentation,dividende,rendement,action,marchandise,numéraire,productivité,société,production,apport,circulation,monétaire,bénéfice,consommation,économique,salaire,hausse,prolétariat,actionnariat,finance,plus-value,rentabilité,rentier,société anonyme,emploi,somme,fiscalité,propriétaire,concurrence,impôt,liquidité,loyer,propriété,accroissement,accumuler,disponible,économie,économiste,financier,inflation,remboursement,rémunération,souscription,PME,principal,acquisition,entrepreneur,exploitation,productif,versement,annuité,bien,créancier,possédant,rembourser,spéculation,valeur,bourgeoisie,capitaliser,crédit,détenteur,entreprise,immobilier,péché,salariat,baisse,bourse,marché,monopole,prêteur,rôle,taux,endettement,essentiel,immobilisation,milliard,moyens de production,part,révolution,engagés,fortune,gains,industrie,luxure,privés,répartition,achat,actif,autofinancement,caisse,capitalistique,euro,fonds de roulement,krach,acquérir,Bourdieu,commanditer,emprunteur,excédent,filiale,foncier,grossir,holding,imposable,offre publique d'achat,paie,stratégique,taux d'intérêt,capital flottant,cession,concentration,décisif,détenu,escompte,fonds d'investissement,fructifier,garantie,importants,Karl Marx,majuscule,marxiste,monnaie,mort,prolétaire,Vivendi,amorçage,apporteur,classe ouvrière,détenir,échéance,effet de levier,immatériel,impôt sur le revenu,industriel,main-d'œuvre,montant,nominal,paiement,paresse,partners,patronat,payable,pêchés,propriété privée,rachat,SARL,taxation,considérable,contribuable,droits de vote,financement,idée,improductif,nécessaire,ostéoporose,souscripteur,subsistance,textile,travail,trésorerie,acquis,agricole,augmenter,boursier,capitaux propres,dispose,dollars,établissement,étranger,question,totalité,actif circulant,Adam Smith,affairer,amalgames,amenant,anonyme,appropriation,argent,assailles,assurance,avoir,bancaire,calotte,capitaux flottants,caractéristique,cardinal,casquette,central,chapiteau,chef,cheptel,cheptel mort,chose,clé,clef,comptabilité,convenablement,correctement,critique,crucial,décupler,définissant,déterminant,diligent,diminution,dissoudre,dominant,échange,empresser,entreprenant,épargnant,espèces,Eurazeo,fondamental,grand,grave,immobiliser,indispensable,libre-échange,maître,majeur,majoritaire,mondialisation,mortel,multinationale,notable,obligatoire,oui,parfaitement,patrimoine,pécule,PIB,possessions,premier,primordial,radical,recette,reconstruction,ressource,ressources naturelles,sérieux,stock,suprême,surcapitalisation,terre,trésor,utile,viatique,vie,vif,ville,vital\"\"\"\n",
    "capital_lexicon = word_tokenize(text_cleaner(capital_lexicon))"
   ]
  },
  {
   "cell_type": "code",
   "execution_count": 26,
   "id": "7e2cd538",
   "metadata": {},
   "outputs": [],
   "source": [
    "communist_lexicon = \"\"\"communisme,socialiste,révolutionnaire,soviétique,socialisme,bolchevique,URSS,militant,capitaliste,dictature,marxiste,Marx,prolétariat,soviet,maoïste,trotskiste,bolchevik,Staline,gauche,régime,marxisme,dirigeant,Lénine,collectiviste,congrès,démocratie,Mao,maoïsme,organisation,trotskisme,capitalisme,goulag,léniniste,parti unique,Albanie,ouvrier,radical,rouge,Roumanie,stalinien,stalinisme,chinois,front,résistance,travailleur,anarchiste,fasciste,jeunesse,libération,Moscou,nationaliste,propagande,répression,KGB,Chine,lutte,république,khmers rouges,union,maccarthysme,Tchécoslovaquie,utopie,autoritaire,comité,extrême gauche,libéral,marxiste-léniniste,post-communisme,coco,Engels,guérilla,léninisme,moscoutaire,nomenklatura,gaulliste,internationale,perestroïka,scission,totalitarisme,trotskyste,antifasciste,Europe de l'Est,Front populaire,Gorbatchev,Jiangxi,Komintern,libertaire,marxisme-léninisme,parti communiste,Thorez,Tito,comité central,élection,extrême-gauche,FTP,idéologie,Kominform,partisan,SFIO,Shanghai,social-démocrate,soutien,tiers-monde,CGTU,KPD,moyens de production,pays,politburo,politique,révolution,Trotsky,UEC,Yougoslavie,clandestin,démocratique,fascisme,gouvernement,Hoxha,pacte,Varsovie,yougoslave,Blum,Brejnev,bureau,camarade,classe ouvrière,Cuba,Deng Xiaoping,Doriot,Duclos,Gottwald,Guomindang,Karl Marx,Khrouchtchev,longue marche,Mao ZeDong,PCI,PCUS,Pol Pot,progressiste,prolétarienne,RDA,tchécoslovaque,anarchisme,anticommuniste,athées,bourgeoisie,Castro,collectivisme,dictature du prolétariat,Enver Hoxha,gauchiste,Hitler,internationaliste,Malenkov,nazi,opposition,ouvrière,populaire,propriété privée,résistant,secrétaire,sympathisant,syndicaliste,totalitaire,trotskysme,anticommunisme,avril,Béla Kun,centralisme,démocrate,déstalinisation,entrisme,Georges Marchais,impérialisme,Internationale communiste,Jacques Duclos,juin,Kampuchéa,Kuomintang,mai,Maurice Thorez,partis,Quatrième Internationale,responsable,révolution russe,Taïwan,Tchang,Trotski,Union soviétique,Zinoviev,alliance,bloc,bloc de l'Est,bourgeoise,central,congrès de Tours,germano-soviétique,intervention,LCR,mouvement,pacte de Varsovie,pacte germano-soviétique,parti communiste français,RPC,spartakiste,clandestinité,dissident,guerre froide,idéologique,individualiste,nationalisation,Pékin,propriété,réformiste,titisme,titiste,tour,vietnamien,Aubervilliers,babouviste,Berlinguer,bolcheviste,Cabet,castriste,déviationniste,fédération,grand soir,indochinois,maire,manifeste,marchais,partageux,postcommunisme,post-communiste,Pravda,présidium,prolétaire,question,régime communiste,samizdat,Solidarnosc,soviétomane,staliniste,syndical,Vietnam\"\"\"\n",
    "communist_lexicon = word_tokenize(text_cleaner(communist_lexicon))"
   ]
  },
  {
   "cell_type": "code",
   "execution_count": 27,
   "id": "9987a8ca",
   "metadata": {},
   "outputs": [],
   "source": [
    "extrem_lexicon = \"\"\"pauvreté,violence,limite,extrémiste,raffinement,modéré,précipitation,gauche,vigilance,climat,rigueur,droite,dureté,rareté,intense,lenteur,simplicité,extrêmophile,condition,maigreur,excessif,extrémisme,extrémité,fou,horrible,prudence,sécheresse,violent,adoration,blanc,opposé,prostration,radical,délicatesse,groupuscule,skinhead,arctique,bout,chaleur,extrême droite,terrorisme,ultime,préciosité,sud-est,achevé,Bonifacio,effrayant,extrémiser,héroïque,nord-est,profond,température,anxiété,asservir,décrépitude,fascisme,milieu,apolitique,contraire,débilité,fleur,néonazi,sud-ouest,désolation,épuisement,obligeance,partis,sévérité,situations,fatigue,finesse,moyen,onction,pâleur,positions,tension,abstention,angoisse,circonspection,metal,militant,Sibérie,terreur,toundra,trotskiste,absolu,Airport,attentat,communisme,extrêmement,fasciste,front,hypersensibilité,immodéré,Kolyma,nationalisme,outrée,particulier,redoutable,surexcitation,survie,agitation,aigu,antisémitisme,ardeur,beauf,course,délire,discrétion,diversité,électorat,extrême gauche,facho,gravité,haut,Japon,maximal,méfiance,miséricorde,mouvance,musoir,nervosité,nord-ouest,nudité,Orient,paroxysme,pénurie,pluie,précision,Programming,puissance,rejoignent,relooking,sensibilité,végétation,xénophobie,zèle,antisémite,capitalisme,disproportion,ECW,excès,faiblesse,fragilité,froid,froidure,Front national,gentillesse,horreur,hypersexualisation,juste milieu,laideur,libéralisme,lourdeur,météorologiques,minceur,mollesse,nationaliste,nébulosité,opinions,paresseux,racisme,raciste,tenir,vivacité,abattement,anticommuniste,aridité,bonté,dernier,détresse,énergique,grand,hasardeux,individualisme,insensibilité,LCR,opposition,Paul Heyman,pôles,populiste,terroriste,agressivité,conservateur,désert,écart,extrême-gauche,férocité,inverse,légèreté,PCI,vieillesse,abusif,acharner,affreux,antipode,aride,atrocité,aux antipodes,Bièvres,borne,Cabinda,comble,compact,complet,continu,contre-pied,Couvin,définitif,démesuré,dérégler,dernière limite,désertique,désespérer,désordonné,disproportionné,draconien,drastique,durée,effréné,effroyable,éperdu,épouvantable,exagérer,exaspéré,exceptionnel,exorbitant,exquis,extase,extraordinaire,extrémisation,fin fond,final,folle,foncier,fondamental,fort,funeste,furieux,glacial,Heyman,immense,infini,inique,injuste,inouï,insupportable,intensif,Laconie,Lolita,maximum,méprisable,minimal,minutie,monstrueux,mortel,outrancier,paroxysmique,passionné,piètre,plafond,plus que ça, tu meurs,populisme,propreté,risqué,sans égal,sommet,soutenir,superlatif,suprême,surabondant,susceptibilité,tendre,terminal,terrible,tétracorde,timidité,total,Verrières-le-buisson,vertigineux,vif\"\"\"\n",
    "extrem_lexicon = word_tokenize(text_cleaner(extrem_lexicon))"
   ]
  },
  {
   "cell_type": "code",
   "execution_count": 28,
   "id": "ae438a68",
   "metadata": {},
   "outputs": [],
   "source": [
    "humanist_lexicon = \"\"\"humanisme,renaissance,érudit,Érasme,philosophe,Montaigne,poète,savant,écologiste,philosophique,Rabelais,pacifiste,Politien,Sélestat,éducation,réformateur,théologien,Médicis,vision,Cicéron,idéal,précepteur,Florence,humain,lettré,Pétrarque,athée,florentin,intellectuel,Boccace,imprimerie,Alberti,œuvre,athéisme,culture,idées,Gargantua,grec,latin,philologie,Platon,auteur,Bessarion,humainement,imprimeur,Padoue,philologue,philosophie,rationaliste,sage,Scaliger,scolastique,sonnet\"\"\"\n",
    "humanist_lexicon = word_tokenize(text_cleaner(humanist_lexicon))"
   ]
  },
  {
   "cell_type": "code",
   "execution_count": 29,
   "id": "68a7386b",
   "metadata": {},
   "outputs": [],
   "source": [
    "health_lexicon = \"\"\"hygiène, maladie, sanitaire, médecine, médecin, bien-être, OMS, pollution, nutrition, malade, convalescence, prévention, environnement, ministère, médical, alimentation, obésité, soin, tabagisme, assurance, éducation, précaire, professionnel, rétablissement, mental, diabète, diététique, toast, bénéfique, condition, santé publique, vaccination, hôpital, médicament, pharmacien, aliment, amélioration, complexion, état, sécurité, vitalité, néfaste, patient, épidémiologie, infantile, mortalité, sain, boire, cancer, indicateur, infirmité, nocif, pharmacie, recouvrer, régime, soignant, chiropratique, consommation, hospitalisation, altération, clinique, diagnostic, secteur, check-up, dentaire, dépistage, établissement, infirmier, longévité, paludisme, variole, épidémie, organisation, raison, bonne, bulletin, disposition, paramédical, praticien, rétablir, thérapeutique, vie, ennui, exercice, naturopathie, problème, tuberculose, alimentaire, cardiaque, dangereux, espérance, fragile, handicap, malnutrition, organisme, potable, priorité, salubrité, sida, tabac, toxique, trinquer, bien-portant, bonne santé, dentiste, guérison, impact, mauvaise, nuisible, portant, prospérité, psychiatrie, reproductive, social, valide, agence, bien portant, détérioration, mutualité, mutuelle, pathologie, pesticide, physique, prescription, protection, psychique, salubre, syndrome, tempérament, faire raison, health, hospitalière, indisposition, insalubre, institut, robuste, samu, service, traitement, alcoolisme, allaitement, améliore, cardiovasculaire, consommateur, danger, espérance de vie, infirmière, Inserm, nutritionnel, remède, salutaire, surpoids, urgence, à votre santé, biotechnologie, débile, domaine, étude, fumeur, infectieux, nuisance, sanatorium, thérapie, vaccin, vigueur, VIH, action sociale, allergie, aromathérapie, Asclépios, asthme, environnementale, généraliste, humain, informatisation, maternité, mieux-être, probiotique, psychologue, public, rendre, UNICEF, valétudinaire, activité physique, bucco-dentaire, choc, complémentaire, contamination, couleur, écosystème, embonpoint, florissant, guérir, Hippocrate, holistique, intoxication, invalidité, jouir, malaise, malaria, mondiale, montagne, naturopathe, nuisent, pôle, préoccupant, prévoyance, réadaptation, sage-femme, soigner, souffrance, altérer, animale, antioxydant, cadmium, centre hospitalier, code de la santé publique, compétence, diète, gravement, ministre de la santé, porter la santé, pouls, préoccuper, prise en charge, protection sociale, pulmonaire, santé mentale, sécurité sociale, services sociaux, shiatsu, souffrante, tempérance, transfusion, vétérinaire, vieillissement, vitamine A, atteinte, bile, corporel, dentisterie, Galien, Hygie, hypertension, IMC, innocuité, métabolique, nutriment, soins de santé, bureaucratie, détériorer, entretien, force, hypocondriaque, maigreur, maladif, malbouffe, moment, pneumonie, porter, absentéisme, aggravé, assurance maladie, caractère, communautaire, constitution, consultation, curatif, décliner, délétère, détenu, dispensaire, dossier médical, équilibre, esprit, état de santé, évaluer, hygiénisme, inhalothérapeute, interjection, massage, ménager, nature, naturel, nuigrav, personnalité, personnel soignant, préjudiciable, prosit, risque, salut, sensualité, stress, Tchin, tchin tchin, trempe \"\"\"\n",
    "health_lexicon = word_tokenize(text_cleaner(health_lexicon))"
   ]
  },
  {
   "cell_type": "markdown",
   "id": "6258d414",
   "metadata": {},
   "source": [
    "### Define a function to create a df with a lexicon score per user"
   ]
  },
  {
   "cell_type": "markdown",
   "id": "1ea06faa",
   "metadata": {},
   "source": [
    "#### Store all the lexicons in a dictionary"
   ]
  },
  {
   "cell_type": "code",
   "execution_count": 47,
   "id": "4a15452a",
   "metadata": {},
   "outputs": [],
   "source": [
    "lexicon_themes = {\"political\": political_lexicon, \"ecology\": ecology_lexicon, \"social\":social_lexicon, \"capital\":capital_lexicon, \"communist\":communist_lexicon, \"extrem\":extrem_lexicon, \"humanist\":humanist_lexicon, \"health\":health_lexicon}"
   ]
  },
  {
   "cell_type": "markdown",
   "id": "104b83cf",
   "metadata": {},
   "source": [
    "#### Define the function"
   ]
  },
  {
   "cell_type": "code",
   "execution_count": 157,
   "id": "d0a8a03d",
   "metadata": {},
   "outputs": [],
   "source": [
    "def lexicon_score_per_user(df, lexicon_themes):\n",
    "    \"\"\"Return a DataFrame scoring each tweet contents above a list of lexicon themes\"\"\"\n",
    "    # Store the users in a list\n",
    "    list_of_users = list(df[\"user\"].unique())\n",
    "\n",
    "    # Create a list to store each future row of the DataFrame\n",
    "    user_scores = []\n",
    "\n",
    "    # For each user\n",
    "    for user in list_of_users:\n",
    "        # Define a dictionary to store the score per lexicon per user\n",
    "        lexicon_scores = {\"user\" : user}\n",
    "        for theme, lexicon in lexicon_themes.items():\n",
    "            lexicon_scores[theme] = 0           \n",
    "        \n",
    "        # Extract his/her tweets\n",
    "        user_tweets = list(df[df[\"user\"]==user][\"text\"])\n",
    "        # Then tokenize each tweet to analyze its content\n",
    "        for tweet in user_tweets:\n",
    "            tokenized_tweet = word_tokenize(tweet)\n",
    "        \n",
    "            # For each word\n",
    "            for word in tokenized_tweet:\n",
    "                # Is it part of one of the lexicons?\n",
    "                for theme, lexicon in lexicon_themes.items():\n",
    "                    if word in lexicon:\n",
    "                        lexicon_scores[theme] += 1\n",
    "        \n",
    "        # Finally, append the user and its score per theme to user_scores\n",
    "        user_scores.append(lexicon_scores)\n",
    "\n",
    "    # Convert list to DataFrame\n",
    "    lexicon_score_per_user_df = pd.DataFrame(user_scores)\n",
    "    # Add political trend\n",
    "    lexicon_score_per_user_df = pd.merge(left = lexicon_score_per_user_df, \n",
    "                                         right = df[[\"user\", \"political_trend\"]], \n",
    "                                         on = 'user', \n",
    "                                         how = 'left')\n",
    "    # User as index\n",
    "    lexicon_score_per_user_df.index = df[\"user\"]\n",
    "    # Drop user column\n",
    "    lexicon_score_per_user_df = lexicon_score_per_user_df.drop(columns=[\"user\"])\n",
    "    # Drop duplicates due to merge just before\n",
    "    lexicon_score_per_user_df = lexicon_score_per_user_df.drop_duplicates()\n",
    "    \n",
    "    return lexicon_score_per_user_df"
   ]
  },
  {
   "cell_type": "markdown",
   "id": "dfa5db81",
   "metadata": {},
   "source": [
    "#### Apply it to df_ready_for_nlp"
   ]
  },
  {
   "cell_type": "code",
   "execution_count": 158,
   "id": "e9a8ffc4",
   "metadata": {},
   "outputs": [
    {
     "data": {
      "text/html": [
       "<div>\n",
       "<style scoped>\n",
       "    .dataframe tbody tr th:only-of-type {\n",
       "        vertical-align: middle;\n",
       "    }\n",
       "\n",
       "    .dataframe tbody tr th {\n",
       "        vertical-align: top;\n",
       "    }\n",
       "\n",
       "    .dataframe thead th {\n",
       "        text-align: right;\n",
       "    }\n",
       "</style>\n",
       "<table border=\"1\" class=\"dataframe\">\n",
       "  <thead>\n",
       "    <tr style=\"text-align: right;\">\n",
       "      <th></th>\n",
       "      <th>political</th>\n",
       "      <th>ecology</th>\n",
       "      <th>social</th>\n",
       "      <th>capital</th>\n",
       "      <th>communist</th>\n",
       "      <th>extrem</th>\n",
       "      <th>humanist</th>\n",
       "      <th>health</th>\n",
       "      <th>political_trend</th>\n",
       "    </tr>\n",
       "    <tr>\n",
       "      <th>user</th>\n",
       "      <th></th>\n",
       "      <th></th>\n",
       "      <th></th>\n",
       "      <th></th>\n",
       "      <th></th>\n",
       "      <th></th>\n",
       "      <th></th>\n",
       "      <th></th>\n",
       "      <th></th>\n",
       "    </tr>\n",
       "  </thead>\n",
       "  <tbody>\n",
       "    <tr>\n",
       "      <th>EPhilippe_LH</th>\n",
       "      <td>55</td>\n",
       "      <td>10</td>\n",
       "      <td>52</td>\n",
       "      <td>78</td>\n",
       "      <td>77</td>\n",
       "      <td>57</td>\n",
       "      <td>6</td>\n",
       "      <td>193</td>\n",
       "      <td>right</td>\n",
       "    </tr>\n",
       "    <tr>\n",
       "      <th>ZemmourEric</th>\n",
       "      <td>100</td>\n",
       "      <td>20</td>\n",
       "      <td>80</td>\n",
       "      <td>77</td>\n",
       "      <td>105</td>\n",
       "      <td>87</td>\n",
       "      <td>18</td>\n",
       "      <td>187</td>\n",
       "      <td>extrem_right</td>\n",
       "    </tr>\n",
       "    <tr>\n",
       "      <th>EmmanuelMacron</th>\n",
       "      <td>64</td>\n",
       "      <td>18</td>\n",
       "      <td>73</td>\n",
       "      <td>87</td>\n",
       "      <td>56</td>\n",
       "      <td>84</td>\n",
       "      <td>3</td>\n",
       "      <td>167</td>\n",
       "      <td>right</td>\n",
       "    </tr>\n",
       "    <tr>\n",
       "      <th>Fabien_Roussel</th>\n",
       "      <td>30</td>\n",
       "      <td>68</td>\n",
       "      <td>27</td>\n",
       "      <td>14</td>\n",
       "      <td>20</td>\n",
       "      <td>17</td>\n",
       "      <td>4</td>\n",
       "      <td>55</td>\n",
       "      <td>ecology</td>\n",
       "    </tr>\n",
       "    <tr>\n",
       "      <th>Fabien_Roussel</th>\n",
       "      <td>114</td>\n",
       "      <td>19</td>\n",
       "      <td>106</td>\n",
       "      <td>151</td>\n",
       "      <td>109</td>\n",
       "      <td>92</td>\n",
       "      <td>4</td>\n",
       "      <td>277</td>\n",
       "      <td>extrem_left</td>\n",
       "    </tr>\n",
       "    <tr>\n",
       "      <th>jfpoisson78</th>\n",
       "      <td>94</td>\n",
       "      <td>13</td>\n",
       "      <td>88</td>\n",
       "      <td>61</td>\n",
       "      <td>99</td>\n",
       "      <td>78</td>\n",
       "      <td>4</td>\n",
       "      <td>198</td>\n",
       "      <td>extrem_left</td>\n",
       "    </tr>\n",
       "    <tr>\n",
       "      <th>f_philippot</th>\n",
       "      <td>63</td>\n",
       "      <td>16</td>\n",
       "      <td>99</td>\n",
       "      <td>61</td>\n",
       "      <td>83</td>\n",
       "      <td>74</td>\n",
       "      <td>4</td>\n",
       "      <td>185</td>\n",
       "      <td>extrem_right</td>\n",
       "    </tr>\n",
       "    <tr>\n",
       "      <th>vpecresse</th>\n",
       "      <td>102</td>\n",
       "      <td>13</td>\n",
       "      <td>96</td>\n",
       "      <td>117</td>\n",
       "      <td>99</td>\n",
       "      <td>127</td>\n",
       "      <td>1</td>\n",
       "      <td>265</td>\n",
       "      <td>extrem_right</td>\n",
       "    </tr>\n",
       "    <tr>\n",
       "      <th>DenisPayre</th>\n",
       "      <td>77</td>\n",
       "      <td>24</td>\n",
       "      <td>63</td>\n",
       "      <td>62</td>\n",
       "      <td>67</td>\n",
       "      <td>59</td>\n",
       "      <td>3</td>\n",
       "      <td>197</td>\n",
       "      <td>right</td>\n",
       "    </tr>\n",
       "    <tr>\n",
       "      <th>JLMelenchon</th>\n",
       "      <td>131</td>\n",
       "      <td>8</td>\n",
       "      <td>124</td>\n",
       "      <td>179</td>\n",
       "      <td>90</td>\n",
       "      <td>92</td>\n",
       "      <td>3</td>\n",
       "      <td>251</td>\n",
       "      <td>right</td>\n",
       "    </tr>\n",
       "    <tr>\n",
       "      <th>MLP_officiel</th>\n",
       "      <td>91</td>\n",
       "      <td>14</td>\n",
       "      <td>60</td>\n",
       "      <td>82</td>\n",
       "      <td>79</td>\n",
       "      <td>43</td>\n",
       "      <td>8</td>\n",
       "      <td>192</td>\n",
       "      <td>left</td>\n",
       "    </tr>\n",
       "    <tr>\n",
       "      <th>SLeFoll</th>\n",
       "      <td>162</td>\n",
       "      <td>40</td>\n",
       "      <td>156</td>\n",
       "      <td>145</td>\n",
       "      <td>170</td>\n",
       "      <td>137</td>\n",
       "      <td>9</td>\n",
       "      <td>400</td>\n",
       "      <td>extrem_left</td>\n",
       "    </tr>\n",
       "    <tr>\n",
       "      <th>larrouturou</th>\n",
       "      <td>112</td>\n",
       "      <td>16</td>\n",
       "      <td>111</td>\n",
       "      <td>101</td>\n",
       "      <td>102</td>\n",
       "      <td>79</td>\n",
       "      <td>4</td>\n",
       "      <td>227</td>\n",
       "      <td>extrem_right</td>\n",
       "    </tr>\n",
       "    <tr>\n",
       "      <th>philippejuvin</th>\n",
       "      <td>112</td>\n",
       "      <td>11</td>\n",
       "      <td>76</td>\n",
       "      <td>66</td>\n",
       "      <td>121</td>\n",
       "      <td>54</td>\n",
       "      <td>6</td>\n",
       "      <td>204</td>\n",
       "      <td>left</td>\n",
       "    </tr>\n",
       "    <tr>\n",
       "      <th>yjadot</th>\n",
       "      <td>71</td>\n",
       "      <td>7</td>\n",
       "      <td>63</td>\n",
       "      <td>68</td>\n",
       "      <td>71</td>\n",
       "      <td>55</td>\n",
       "      <td>8</td>\n",
       "      <td>185</td>\n",
       "      <td>divers</td>\n",
       "    </tr>\n",
       "    <tr>\n",
       "      <th>gerardfiloche</th>\n",
       "      <td>73</td>\n",
       "      <td>15</td>\n",
       "      <td>88</td>\n",
       "      <td>108</td>\n",
       "      <td>82</td>\n",
       "      <td>124</td>\n",
       "      <td>3</td>\n",
       "      <td>186</td>\n",
       "      <td>left</td>\n",
       "    </tr>\n",
       "    <tr>\n",
       "      <th>dupontaignan</th>\n",
       "      <td>59</td>\n",
       "      <td>9</td>\n",
       "      <td>89</td>\n",
       "      <td>71</td>\n",
       "      <td>63</td>\n",
       "      <td>42</td>\n",
       "      <td>4</td>\n",
       "      <td>234</td>\n",
       "      <td>right</td>\n",
       "    </tr>\n",
       "    <tr>\n",
       "      <th>ECiotti</th>\n",
       "      <td>131</td>\n",
       "      <td>103</td>\n",
       "      <td>129</td>\n",
       "      <td>158</td>\n",
       "      <td>118</td>\n",
       "      <td>96</td>\n",
       "      <td>24</td>\n",
       "      <td>247</td>\n",
       "      <td>ecology</td>\n",
       "    </tr>\n",
       "    <tr>\n",
       "      <th>xavierbertrand</th>\n",
       "      <td>151</td>\n",
       "      <td>51</td>\n",
       "      <td>163</td>\n",
       "      <td>160</td>\n",
       "      <td>196</td>\n",
       "      <td>108</td>\n",
       "      <td>24</td>\n",
       "      <td>385</td>\n",
       "      <td>left</td>\n",
       "    </tr>\n",
       "    <tr>\n",
       "      <th>n_arthaud</th>\n",
       "      <td>233</td>\n",
       "      <td>26</td>\n",
       "      <td>208</td>\n",
       "      <td>277</td>\n",
       "      <td>247</td>\n",
       "      <td>420</td>\n",
       "      <td>10</td>\n",
       "      <td>444</td>\n",
       "      <td>extrem_left</td>\n",
       "    </tr>\n",
       "    <tr>\n",
       "      <th>gerardfiloche</th>\n",
       "      <td>92</td>\n",
       "      <td>32</td>\n",
       "      <td>112</td>\n",
       "      <td>115</td>\n",
       "      <td>105</td>\n",
       "      <td>78</td>\n",
       "      <td>5</td>\n",
       "      <td>245</td>\n",
       "      <td>extrem_right</td>\n",
       "    </tr>\n",
       "    <tr>\n",
       "      <th>gilleslazzarini</th>\n",
       "      <td>101</td>\n",
       "      <td>18</td>\n",
       "      <td>66</td>\n",
       "      <td>69</td>\n",
       "      <td>115</td>\n",
       "      <td>84</td>\n",
       "      <td>7</td>\n",
       "      <td>241</td>\n",
       "      <td>right</td>\n",
       "    </tr>\n",
       "    <tr>\n",
       "      <th>luclaf</th>\n",
       "      <td>69</td>\n",
       "      <td>32</td>\n",
       "      <td>112</td>\n",
       "      <td>106</td>\n",
       "      <td>108</td>\n",
       "      <td>80</td>\n",
       "      <td>3</td>\n",
       "      <td>229</td>\n",
       "      <td>right</td>\n",
       "    </tr>\n",
       "    <tr>\n",
       "      <th>Vukuzman</th>\n",
       "      <td>50</td>\n",
       "      <td>18</td>\n",
       "      <td>49</td>\n",
       "      <td>36</td>\n",
       "      <td>51</td>\n",
       "      <td>43</td>\n",
       "      <td>2</td>\n",
       "      <td>170</td>\n",
       "      <td>right</td>\n",
       "    </tr>\n",
       "    <tr>\n",
       "      <th>FabriceGrimal</th>\n",
       "      <td>116</td>\n",
       "      <td>19</td>\n",
       "      <td>116</td>\n",
       "      <td>120</td>\n",
       "      <td>90</td>\n",
       "      <td>89</td>\n",
       "      <td>6</td>\n",
       "      <td>230</td>\n",
       "      <td>divers</td>\n",
       "    </tr>\n",
       "    <tr>\n",
       "      <th>Cau_Marie_</th>\n",
       "      <td>103</td>\n",
       "      <td>18</td>\n",
       "      <td>110</td>\n",
       "      <td>109</td>\n",
       "      <td>99</td>\n",
       "      <td>83</td>\n",
       "      <td>1</td>\n",
       "      <td>153</td>\n",
       "      <td>extrem_left</td>\n",
       "    </tr>\n",
       "    <tr>\n",
       "      <th>antoine27955080</th>\n",
       "      <td>20</td>\n",
       "      <td>4</td>\n",
       "      <td>19</td>\n",
       "      <td>15</td>\n",
       "      <td>19</td>\n",
       "      <td>9</td>\n",
       "      <td>0</td>\n",
       "      <td>33</td>\n",
       "      <td>divers</td>\n",
       "    </tr>\n",
       "    <tr>\n",
       "      <th>antoine27955080</th>\n",
       "      <td>64</td>\n",
       "      <td>20</td>\n",
       "      <td>101</td>\n",
       "      <td>67</td>\n",
       "      <td>23</td>\n",
       "      <td>96</td>\n",
       "      <td>1</td>\n",
       "      <td>127</td>\n",
       "      <td>divers</td>\n",
       "    </tr>\n",
       "    <tr>\n",
       "      <th>regis_ollivier</th>\n",
       "      <td>95</td>\n",
       "      <td>13</td>\n",
       "      <td>101</td>\n",
       "      <td>80</td>\n",
       "      <td>56</td>\n",
       "      <td>51</td>\n",
       "      <td>6</td>\n",
       "      <td>183</td>\n",
       "      <td>divers</td>\n",
       "    </tr>\n",
       "    <tr>\n",
       "      <th>HeleneThouy</th>\n",
       "      <td>46</td>\n",
       "      <td>5</td>\n",
       "      <td>48</td>\n",
       "      <td>31</td>\n",
       "      <td>80</td>\n",
       "      <td>11</td>\n",
       "      <td>2</td>\n",
       "      <td>153</td>\n",
       "      <td>divers</td>\n",
       "    </tr>\n",
       "    <tr>\n",
       "      <th>MAZUEL_Pace</th>\n",
       "      <td>88</td>\n",
       "      <td>17</td>\n",
       "      <td>85</td>\n",
       "      <td>89</td>\n",
       "      <td>81</td>\n",
       "      <td>69</td>\n",
       "      <td>2</td>\n",
       "      <td>183</td>\n",
       "      <td>divers</td>\n",
       "    </tr>\n",
       "    <tr>\n",
       "      <th>MarCharlott</th>\n",
       "      <td>97</td>\n",
       "      <td>6</td>\n",
       "      <td>110</td>\n",
       "      <td>70</td>\n",
       "      <td>60</td>\n",
       "      <td>31</td>\n",
       "      <td>1</td>\n",
       "      <td>123</td>\n",
       "      <td>divers</td>\n",
       "    </tr>\n",
       "    <tr>\n",
       "      <th>AguebPorterie</th>\n",
       "      <td>16</td>\n",
       "      <td>6</td>\n",
       "      <td>20</td>\n",
       "      <td>11</td>\n",
       "      <td>10</td>\n",
       "      <td>8</td>\n",
       "      <td>2</td>\n",
       "      <td>36</td>\n",
       "      <td>divers</td>\n",
       "    </tr>\n",
       "    <tr>\n",
       "      <th>AguebPorterie</th>\n",
       "      <td>46</td>\n",
       "      <td>7</td>\n",
       "      <td>61</td>\n",
       "      <td>39</td>\n",
       "      <td>37</td>\n",
       "      <td>39</td>\n",
       "      <td>3</td>\n",
       "      <td>135</td>\n",
       "      <td>divers</td>\n",
       "    </tr>\n",
       "    <tr>\n",
       "      <th>AnasseKazib</th>\n",
       "      <td>54</td>\n",
       "      <td>29</td>\n",
       "      <td>58</td>\n",
       "      <td>48</td>\n",
       "      <td>57</td>\n",
       "      <td>42</td>\n",
       "      <td>4</td>\n",
       "      <td>111</td>\n",
       "      <td>extrem_right</td>\n",
       "    </tr>\n",
       "    <tr>\n",
       "      <th>HeleneThouy</th>\n",
       "      <td>33</td>\n",
       "      <td>11</td>\n",
       "      <td>47</td>\n",
       "      <td>42</td>\n",
       "      <td>40</td>\n",
       "      <td>59</td>\n",
       "      <td>0</td>\n",
       "      <td>110</td>\n",
       "      <td>right</td>\n",
       "    </tr>\n",
       "    <tr>\n",
       "      <th>AnasseKazib</th>\n",
       "      <td>46</td>\n",
       "      <td>11</td>\n",
       "      <td>69</td>\n",
       "      <td>50</td>\n",
       "      <td>47</td>\n",
       "      <td>49</td>\n",
       "      <td>1</td>\n",
       "      <td>171</td>\n",
       "      <td>right</td>\n",
       "    </tr>\n",
       "    <tr>\n",
       "      <th>jfpoisson78</th>\n",
       "      <td>79</td>\n",
       "      <td>20</td>\n",
       "      <td>79</td>\n",
       "      <td>72</td>\n",
       "      <td>69</td>\n",
       "      <td>60</td>\n",
       "      <td>2</td>\n",
       "      <td>218</td>\n",
       "      <td>ecology</td>\n",
       "    </tr>\n",
       "    <tr>\n",
       "      <th>JLMelenchon</th>\n",
       "      <td>43</td>\n",
       "      <td>22</td>\n",
       "      <td>38</td>\n",
       "      <td>39</td>\n",
       "      <td>64</td>\n",
       "      <td>28</td>\n",
       "      <td>9</td>\n",
       "      <td>110</td>\n",
       "      <td>left</td>\n",
       "    </tr>\n",
       "    <tr>\n",
       "      <th>MLP_officiel</th>\n",
       "      <td>89</td>\n",
       "      <td>33</td>\n",
       "      <td>111</td>\n",
       "      <td>75</td>\n",
       "      <td>103</td>\n",
       "      <td>113</td>\n",
       "      <td>5</td>\n",
       "      <td>226</td>\n",
       "      <td>left</td>\n",
       "    </tr>\n",
       "    <tr>\n",
       "      <th>Anne_Hidalgo</th>\n",
       "      <td>92</td>\n",
       "      <td>33</td>\n",
       "      <td>93</td>\n",
       "      <td>66</td>\n",
       "      <td>92</td>\n",
       "      <td>70</td>\n",
       "      <td>4</td>\n",
       "      <td>164</td>\n",
       "      <td>left</td>\n",
       "    </tr>\n",
       "    <tr>\n",
       "      <th>gerardfiloche</th>\n",
       "      <td>114</td>\n",
       "      <td>17</td>\n",
       "      <td>89</td>\n",
       "      <td>84</td>\n",
       "      <td>111</td>\n",
       "      <td>108</td>\n",
       "      <td>3</td>\n",
       "      <td>222</td>\n",
       "      <td>extrem_left</td>\n",
       "    </tr>\n",
       "  </tbody>\n",
       "</table>\n",
       "</div>"
      ],
      "text/plain": [
       "                 political  ecology  social  capital  communist  extrem  \\\n",
       "user                                                                      \n",
       "EPhilippe_LH            55       10      52       78         77      57   \n",
       "ZemmourEric            100       20      80       77        105      87   \n",
       "EmmanuelMacron          64       18      73       87         56      84   \n",
       "Fabien_Roussel          30       68      27       14         20      17   \n",
       "Fabien_Roussel         114       19     106      151        109      92   \n",
       "jfpoisson78             94       13      88       61         99      78   \n",
       "f_philippot             63       16      99       61         83      74   \n",
       "vpecresse              102       13      96      117         99     127   \n",
       "DenisPayre              77       24      63       62         67      59   \n",
       "JLMelenchon            131        8     124      179         90      92   \n",
       "MLP_officiel            91       14      60       82         79      43   \n",
       "SLeFoll                162       40     156      145        170     137   \n",
       "larrouturou            112       16     111      101        102      79   \n",
       "philippejuvin          112       11      76       66        121      54   \n",
       "yjadot                  71        7      63       68         71      55   \n",
       "gerardfiloche           73       15      88      108         82     124   \n",
       "dupontaignan            59        9      89       71         63      42   \n",
       "ECiotti                131      103     129      158        118      96   \n",
       "xavierbertrand         151       51     163      160        196     108   \n",
       "n_arthaud              233       26     208      277        247     420   \n",
       "gerardfiloche           92       32     112      115        105      78   \n",
       "gilleslazzarini        101       18      66       69        115      84   \n",
       "luclaf                  69       32     112      106        108      80   \n",
       "Vukuzman                50       18      49       36         51      43   \n",
       "FabriceGrimal          116       19     116      120         90      89   \n",
       "Cau_Marie_             103       18     110      109         99      83   \n",
       "antoine27955080         20        4      19       15         19       9   \n",
       "antoine27955080         64       20     101       67         23      96   \n",
       "regis_ollivier          95       13     101       80         56      51   \n",
       "HeleneThouy             46        5      48       31         80      11   \n",
       "MAZUEL_Pace             88       17      85       89         81      69   \n",
       "MarCharlott             97        6     110       70         60      31   \n",
       "AguebPorterie           16        6      20       11         10       8   \n",
       "AguebPorterie           46        7      61       39         37      39   \n",
       "AnasseKazib             54       29      58       48         57      42   \n",
       "HeleneThouy             33       11      47       42         40      59   \n",
       "AnasseKazib             46       11      69       50         47      49   \n",
       "jfpoisson78             79       20      79       72         69      60   \n",
       "JLMelenchon             43       22      38       39         64      28   \n",
       "MLP_officiel            89       33     111       75        103     113   \n",
       "Anne_Hidalgo            92       33      93       66         92      70   \n",
       "gerardfiloche          114       17      89       84        111     108   \n",
       "\n",
       "                 humanist  health political_trend  \n",
       "user                                               \n",
       "EPhilippe_LH            6     193           right  \n",
       "ZemmourEric            18     187    extrem_right  \n",
       "EmmanuelMacron          3     167           right  \n",
       "Fabien_Roussel          4      55         ecology  \n",
       "Fabien_Roussel          4     277     extrem_left  \n",
       "jfpoisson78             4     198     extrem_left  \n",
       "f_philippot             4     185    extrem_right  \n",
       "vpecresse               1     265    extrem_right  \n",
       "DenisPayre              3     197           right  \n",
       "JLMelenchon             3     251           right  \n",
       "MLP_officiel            8     192            left  \n",
       "SLeFoll                 9     400     extrem_left  \n",
       "larrouturou             4     227    extrem_right  \n",
       "philippejuvin           6     204            left  \n",
       "yjadot                  8     185          divers  \n",
       "gerardfiloche           3     186            left  \n",
       "dupontaignan            4     234           right  \n",
       "ECiotti                24     247         ecology  \n",
       "xavierbertrand         24     385            left  \n",
       "n_arthaud              10     444     extrem_left  \n",
       "gerardfiloche           5     245    extrem_right  \n",
       "gilleslazzarini         7     241           right  \n",
       "luclaf                  3     229           right  \n",
       "Vukuzman                2     170           right  \n",
       "FabriceGrimal           6     230          divers  \n",
       "Cau_Marie_              1     153     extrem_left  \n",
       "antoine27955080         0      33          divers  \n",
       "antoine27955080         1     127          divers  \n",
       "regis_ollivier          6     183          divers  \n",
       "HeleneThouy             2     153          divers  \n",
       "MAZUEL_Pace             2     183          divers  \n",
       "MarCharlott             1     123          divers  \n",
       "AguebPorterie           2      36          divers  \n",
       "AguebPorterie           3     135          divers  \n",
       "AnasseKazib             4     111    extrem_right  \n",
       "HeleneThouy             0     110           right  \n",
       "AnasseKazib             1     171           right  \n",
       "jfpoisson78             2     218         ecology  \n",
       "JLMelenchon             9     110            left  \n",
       "MLP_officiel            5     226            left  \n",
       "Anne_Hidalgo            4     164            left  \n",
       "gerardfiloche           3     222     extrem_left  "
      ]
     },
     "execution_count": 158,
     "metadata": {},
     "output_type": "execute_result"
    }
   ],
   "source": [
    "lexicon_score_per_user_df = lexicon_score_per_user(df=df_ready_for_nlp, lexicon_themes=lexicon_themes)\n",
    "lexicon_score_per_user_df"
   ]
  },
  {
   "cell_type": "markdown",
   "id": "9171b630",
   "metadata": {},
   "source": [
    "### Visualize the results"
   ]
  },
  {
   "cell_type": "code",
   "execution_count": 144,
   "id": "7cb4999a",
   "metadata": {
    "scrolled": true
   },
   "outputs": [
    {
     "data": {
      "text/plain": [
       "<AxesSubplot:ylabel='user'>"
      ]
     },
     "execution_count": 144,
     "metadata": {},
     "output_type": "execute_result"
    },
    {
     "data": {
      "image/png": "[encoded data removed]",
      "text/plain": [
       "<Figure size 432x288 with 1 Axes>"
      ]
     },
     "metadata": {
      "needs_background": "light"
     },
     "output_type": "display_data"
    }
   ],
   "source": [
    "lexicon_score_per_user_df.plot.barh(stacked=True)"
   ]
  },
  {
   "cell_type": "code",
   "execution_count": null,
   "id": "32a39491",
   "metadata": {},
   "outputs": [],
   "source": []
  },
  {
   "cell_type": "markdown",
   "id": "f868ae0b",
   "metadata": {},
   "source": [
    "### Check the words we let behind"
   ]
  },
  {
   "cell_type": "code",
   "execution_count": null,
   "id": "c1421a19",
   "metadata": {},
   "outputs": [],
   "source": [
    "m="
   ]
  },
  {
   "cell_type": "code",
   "execution_count": 145,
   "id": "b4e6a689",
   "metadata": {},
   "outputs": [
    {
     "data": {
      "text/html": [
       "<div>\n",
       "<style scoped>\n",
       "    .dataframe tbody tr th:only-of-type {\n",
       "        vertical-align: middle;\n",
       "    }\n",
       "\n",
       "    .dataframe tbody tr th {\n",
       "        vertical-align: top;\n",
       "    }\n",
       "\n",
       "    .dataframe thead th {\n",
       "        text-align: right;\n",
       "    }\n",
       "</style>\n",
       "<table border=\"1\" class=\"dataframe\">\n",
       "  <thead>\n",
       "    <tr style=\"text-align: right;\">\n",
       "      <th></th>\n",
       "      <th>user</th>\n",
       "      <th>author</th>\n",
       "      <th>id</th>\n",
       "      <th>text</th>\n",
       "      <th>source</th>\n",
       "      <th>source_url</th>\n",
       "      <th>political_party</th>\n",
       "      <th>political_trend</th>\n",
       "    </tr>\n",
       "  </thead>\n",
       "  <tbody>\n",
       "    <tr>\n",
       "      <th>0</th>\n",
       "      <td>EPhilippe_LH</td>\n",
       "      <td>EPhilippe_LH</td>\n",
       "      <td>1446811916698103814</td>\n",
       "      <td>avant toute horizons</td>\n",
       "      <td>Twitter for iPhone</td>\n",
       "      <td>http://twitter.com/download/iphone</td>\n",
       "      <td>horizons</td>\n",
       "      <td>right</td>\n",
       "    </tr>\n",
       "    <tr>\n",
       "      <th>1</th>\n",
       "      <td>EPhilippe_LH</td>\n",
       "      <td>EPhilippe_LH</td>\n",
       "      <td>1446773154693718017</td>\n",
       "      <td>voir loin faire bien merite france suivez dire...</td>\n",
       "      <td>Twitter for iPhone</td>\n",
       "      <td>http://twitter.com/download/iphone</td>\n",
       "      <td>horizons</td>\n",
       "      <td>right</td>\n",
       "    </tr>\n",
       "    <tr>\n",
       "      <th>2</th>\n",
       "      <td>EPhilippe_LH</td>\n",
       "      <td>EPhilippe_LH</td>\n",
       "      <td>1444968484002205704</td>\n",
       "      <td>voir loin faire bien depasser court terme cons...</td>\n",
       "      <td>Twitter for iPhone</td>\n",
       "      <td>http://twitter.com/download/iphone</td>\n",
       "      <td>horizons</td>\n",
       "      <td>right</td>\n",
       "    </tr>\n",
       "    <tr>\n",
       "      <th>3</th>\n",
       "      <td>EPhilippe_LH</td>\n",
       "      <td>EPhilippe_LH</td>\n",
       "      <td>1438943519356370944</td>\n",
       "      <td>jennydemay sans filtre sans maquillage certain...</td>\n",
       "      <td>Twitter for iPhone</td>\n",
       "      <td>http://twitter.com/download/iphone</td>\n",
       "      <td>horizons</td>\n",
       "      <td>right</td>\n",
       "    </tr>\n",
       "    <tr>\n",
       "      <th>4</th>\n",
       "      <td>EPhilippe_LH</td>\n",
       "      <td>EPhilippe_LH</td>\n",
       "      <td>1437400286247755778</td>\n",
       "      <td>soutien republicain amical a jamet a equipe mu...</td>\n",
       "      <td>Twitter for iPhone</td>\n",
       "      <td>http://twitter.com/download/iphone</td>\n",
       "      <td>horizons</td>\n",
       "      <td>right</td>\n",
       "    </tr>\n",
       "    <tr>\n",
       "      <th>...</th>\n",
       "      <td>...</td>\n",
       "      <td>...</td>\n",
       "      <td>...</td>\n",
       "      <td>...</td>\n",
       "      <td>...</td>\n",
       "      <td>...</td>\n",
       "      <td>...</td>\n",
       "      <td>...</td>\n",
       "    </tr>\n",
       "    <tr>\n",
       "      <th>16551</th>\n",
       "      <td>n_arthaud</td>\n",
       "      <td>n_arthaud</td>\n",
       "      <td>1449677800428933121</td>\n",
       "      <td>quand lallement assume regulierement faire don...</td>\n",
       "      <td>Twitter for Android</td>\n",
       "      <td>http://twitter.com/download/android</td>\n",
       "      <td>lutte_ouvriere</td>\n",
       "      <td>extrem_left</td>\n",
       "    </tr>\n",
       "    <tr>\n",
       "      <th>16552</th>\n",
       "      <td>n_arthaud</td>\n",
       "      <td>n_arthaud</td>\n",
       "      <td>1449403195546025986</td>\n",
       "      <td>manifestation dimanche paris souvenir commemor...</td>\n",
       "      <td>Twitter for Android</td>\n",
       "      <td>http://twitter.com/download/android</td>\n",
       "      <td>lutte_ouvriere</td>\n",
       "      <td>extrem_left</td>\n",
       "    </tr>\n",
       "    <tr>\n",
       "      <th>16553</th>\n",
       "      <td>n_arthaud</td>\n",
       "      <td>n_arthaud</td>\n",
       "      <td>1449342821161480195</td>\n",
       "      <td>papon lancait police manifestation algeriens t...</td>\n",
       "      <td>Twitter for Android</td>\n",
       "      <td>http://twitter.com/download/android</td>\n",
       "      <td>lutte_ouvriere</td>\n",
       "      <td>extrem_left</td>\n",
       "    </tr>\n",
       "    <tr>\n",
       "      <th>16554</th>\n",
       "      <td>n_arthaud</td>\n",
       "      <td>n_arthaud</td>\n",
       "      <td>1448756063877177349</td>\n",
       "      <td>menacant porter plainte contre philippe poutou...</td>\n",
       "      <td>Twitter for Android</td>\n",
       "      <td>http://twitter.com/download/android</td>\n",
       "      <td>lutte_ouvriere</td>\n",
       "      <td>extrem_left</td>\n",
       "    </tr>\n",
       "    <tr>\n",
       "      <th>16555</th>\n",
       "      <td>n_arthaud</td>\n",
       "      <td>n_arthaud</td>\n",
       "      <td>1448186503247581185</td>\n",
       "      <td>fakenews macron insultant travailleurs fainean...</td>\n",
       "      <td>Twitter for Android</td>\n",
       "      <td>http://twitter.com/download/android</td>\n",
       "      <td>lutte_ouvriere</td>\n",
       "      <td>extrem_left</td>\n",
       "    </tr>\n",
       "  </tbody>\n",
       "</table>\n",
       "<p>10475 rows × 8 columns</p>\n",
       "</div>"
      ],
      "text/plain": [
       "               user        author                   id  \\\n",
       "0      EPhilippe_LH  EPhilippe_LH  1446811916698103814   \n",
       "1      EPhilippe_LH  EPhilippe_LH  1446773154693718017   \n",
       "2      EPhilippe_LH  EPhilippe_LH  1444968484002205704   \n",
       "3      EPhilippe_LH  EPhilippe_LH  1438943519356370944   \n",
       "4      EPhilippe_LH  EPhilippe_LH  1437400286247755778   \n",
       "...             ...           ...                  ...   \n",
       "16551     n_arthaud     n_arthaud  1449677800428933121   \n",
       "16552     n_arthaud     n_arthaud  1449403195546025986   \n",
       "16553     n_arthaud     n_arthaud  1449342821161480195   \n",
       "16554     n_arthaud     n_arthaud  1448756063877177349   \n",
       "16555     n_arthaud     n_arthaud  1448186503247581185   \n",
       "\n",
       "                                                    text               source  \\\n",
       "0                                   avant toute horizons   Twitter for iPhone   \n",
       "1      voir loin faire bien merite france suivez dire...   Twitter for iPhone   \n",
       "2      voir loin faire bien depasser court terme cons...   Twitter for iPhone   \n",
       "3      jennydemay sans filtre sans maquillage certain...   Twitter for iPhone   \n",
       "4      soutien republicain amical a jamet a equipe mu...   Twitter for iPhone   \n",
       "...                                                  ...                  ...   \n",
       "16551  quand lallement assume regulierement faire don...  Twitter for Android   \n",
       "16552  manifestation dimanche paris souvenir commemor...  Twitter for Android   \n",
       "16553  papon lancait police manifestation algeriens t...  Twitter for Android   \n",
       "16554  menacant porter plainte contre philippe poutou...  Twitter for Android   \n",
       "16555  fakenews macron insultant travailleurs fainean...  Twitter for Android   \n",
       "\n",
       "                                source_url political_party political_trend  \n",
       "0       http://twitter.com/download/iphone        horizons           right  \n",
       "1       http://twitter.com/download/iphone        horizons           right  \n",
       "2       http://twitter.com/download/iphone        horizons           right  \n",
       "3       http://twitter.com/download/iphone        horizons           right  \n",
       "4       http://twitter.com/download/iphone        horizons           right  \n",
       "...                                    ...             ...             ...  \n",
       "16551  http://twitter.com/download/android  lutte_ouvriere     extrem_left  \n",
       "16552  http://twitter.com/download/android  lutte_ouvriere     extrem_left  \n",
       "16553  http://twitter.com/download/android  lutte_ouvriere     extrem_left  \n",
       "16554  http://twitter.com/download/android  lutte_ouvriere     extrem_left  \n",
       "16555  http://twitter.com/download/android  lutte_ouvriere     extrem_left  \n",
       "\n",
       "[10475 rows x 8 columns]"
      ]
     },
     "execution_count": 145,
     "metadata": {},
     "output_type": "execute_result"
    }
   ],
   "source": [
    "df_ready_for_nlp"
   ]
  }
 ],
 "metadata": {
  "kernelspec": {
   "display_name": "Python 3 (ipykernel)",
   "language": "python",
   "name": "python3"
  },
  "language_info": {
   "codemirror_mode": {
    "name": "ipython",
    "version": 3
   },
   "file_extension": ".py",
   "mimetype": "text/x-python",
   "name": "python",
   "nbconvert_exporter": "python",
   "pygments_lexer": "ipython3",
   "version": "3.8.12"
  },
  "toc": {
   "base_numbering": 1,
   "nav_menu": {},
   "number_sections": true,
   "sideBar": true,
   "skip_h1_title": false,
   "title_cell": "Table of Contents",
   "title_sidebar": "Contents",
   "toc_cell": false,
   "toc_position": {
    "height": "calc(100% - 180px)",
    "left": "10px",
    "top": "150px",
    "width": "239.273px"
   },
   "toc_section_display": true,
   "toc_window_display": true
  },
  "varInspector": {
   "cols": {
    "lenName": 16,
    "lenType": 16,
    "lenVar": 40
   },
   "kernels_config": {
    "python": {
     "delete_cmd_postfix": "",
     "delete_cmd_prefix": "del ",
     "library": "var_list.py",
     "varRefreshCmd": "print(var_dic_list())"
    },
    "r": {
     "delete_cmd_postfix": ") ",
     "delete_cmd_prefix": "rm(",
     "library": "var_list.r",
     "varRefreshCmd": "cat(var_dic_list()) "
    }
   },
   "types_to_exclude": [
    "module",
    "function",
    "builtin_function_or_method",
    "instance",
    "_Feature"
   ],
   "window_display": false
  }
 },
 "nbformat": 4,
 "nbformat_minor": 5
}
