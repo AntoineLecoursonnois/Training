{
 "cells": [
  {
   "cell_type": "markdown",
   "id": "aa3353da",
   "metadata": {},
   "source": [
    "# Import librairies"
   ]
  },
  {
   "cell_type": "code",
   "execution_count": 19,
   "id": "135457b3",
   "metadata": {},
   "outputs": [],
   "source": [
    "import pandas as pd\n",
    "from sklearn.neighbors import KNeighborsClassifier\n",
    "from sklearn.preprocessing import MinMaxScaler, LabelEncoder"
   ]
  },
  {
   "cell_type": "markdown",
   "id": "cd27d081",
   "metadata": {},
   "source": [
    "# Import file(s)"
   ]
  },
  {
   "cell_type": "code",
   "execution_count": 2,
   "id": "f2d86f06",
   "metadata": {},
   "outputs": [],
   "source": [
    "df = pd.read_csv(\"lexicon_score_per_user_df.csv\").drop(columns=[\"Unnamed: 0\", \"user\"])"
   ]
  },
  {
   "cell_type": "code",
   "execution_count": 3,
   "id": "ed503ce6",
   "metadata": {
    "scrolled": true
   },
   "outputs": [
    {
     "data": {
      "text/html": [
       "<div>\n",
       "<style scoped>\n",
       "    .dataframe tbody tr th:only-of-type {\n",
       "        vertical-align: middle;\n",
       "    }\n",
       "\n",
       "    .dataframe tbody tr th {\n",
       "        vertical-align: top;\n",
       "    }\n",
       "\n",
       "    .dataframe thead th {\n",
       "        text-align: right;\n",
       "    }\n",
       "</style>\n",
       "<table border=\"1\" class=\"dataframe\">\n",
       "  <thead>\n",
       "    <tr style=\"text-align: right;\">\n",
       "      <th></th>\n",
       "      <th>Politique</th>\n",
       "      <th>Actualité</th>\n",
       "      <th>Candidats</th>\n",
       "      <th>Travail</th>\n",
       "      <th>Santé</th>\n",
       "      <th>Economie</th>\n",
       "      <th>Sécurité</th>\n",
       "      <th>Extrême</th>\n",
       "      <th>Ecologie</th>\n",
       "      <th>Pouvoir_achat</th>\n",
       "      <th>name</th>\n",
       "      <th>political_orientation</th>\n",
       "    </tr>\n",
       "  </thead>\n",
       "  <tbody>\n",
       "    <tr>\n",
       "      <th>0</th>\n",
       "      <td>166</td>\n",
       "      <td>204</td>\n",
       "      <td>90</td>\n",
       "      <td>63</td>\n",
       "      <td>63</td>\n",
       "      <td>18</td>\n",
       "      <td>63</td>\n",
       "      <td>5</td>\n",
       "      <td>11</td>\n",
       "      <td>3</td>\n",
       "      <td>Alex Langlois</td>\n",
       "      <td>divers</td>\n",
       "    </tr>\n",
       "    <tr>\n",
       "      <th>1</th>\n",
       "      <td>160</td>\n",
       "      <td>117</td>\n",
       "      <td>60</td>\n",
       "      <td>15</td>\n",
       "      <td>24</td>\n",
       "      <td>22</td>\n",
       "      <td>15</td>\n",
       "      <td>4</td>\n",
       "      <td>2</td>\n",
       "      <td>1</td>\n",
       "      <td>Fabrice Grimal</td>\n",
       "      <td>divers</td>\n",
       "    </tr>\n",
       "    <tr>\n",
       "      <th>2</th>\n",
       "      <td>125</td>\n",
       "      <td>125</td>\n",
       "      <td>59</td>\n",
       "      <td>51</td>\n",
       "      <td>80</td>\n",
       "      <td>52</td>\n",
       "      <td>49</td>\n",
       "      <td>18</td>\n",
       "      <td>12</td>\n",
       "      <td>2</td>\n",
       "      <td>Edouard Philippe</td>\n",
       "      <td>droite</td>\n",
       "    </tr>\n",
       "    <tr>\n",
       "      <th>3</th>\n",
       "      <td>38</td>\n",
       "      <td>51</td>\n",
       "      <td>8</td>\n",
       "      <td>13</td>\n",
       "      <td>13</td>\n",
       "      <td>4</td>\n",
       "      <td>12</td>\n",
       "      <td>3</td>\n",
       "      <td>3</td>\n",
       "      <td>0</td>\n",
       "      <td>Clara Egger</td>\n",
       "      <td>divers</td>\n",
       "    </tr>\n",
       "    <tr>\n",
       "      <th>4</th>\n",
       "      <td>174</td>\n",
       "      <td>175</td>\n",
       "      <td>57</td>\n",
       "      <td>44</td>\n",
       "      <td>24</td>\n",
       "      <td>51</td>\n",
       "      <td>45</td>\n",
       "      <td>28</td>\n",
       "      <td>17</td>\n",
       "      <td>4</td>\n",
       "      <td>Georges Kuzmanovic</td>\n",
       "      <td>divers</td>\n",
       "    </tr>\n",
       "  </tbody>\n",
       "</table>\n",
       "</div>"
      ],
      "text/plain": [
       "   Politique  Actualité  Candidats  Travail  Santé  Economie  Sécurité  \\\n",
       "0        166        204         90       63     63        18        63   \n",
       "1        160        117         60       15     24        22        15   \n",
       "2        125        125         59       51     80        52        49   \n",
       "3         38         51          8       13     13         4        12   \n",
       "4        174        175         57       44     24        51        45   \n",
       "\n",
       "   Extrême  Ecologie  Pouvoir_achat                name political_orientation  \n",
       "0        5        11              3       Alex Langlois                divers  \n",
       "1        4         2              1      Fabrice Grimal                divers  \n",
       "2       18        12              2    Edouard Philippe                droite  \n",
       "3        3         3              0         Clara Egger                divers  \n",
       "4       28        17              4  Georges Kuzmanovic                divers  "
      ]
     },
     "execution_count": 3,
     "metadata": {},
     "output_type": "execute_result"
    }
   ],
   "source": [
    "df.head()"
   ]
  },
  {
   "cell_type": "markdown",
   "id": "3660acb6",
   "metadata": {},
   "source": [
    "# KNN"
   ]
  },
  {
   "cell_type": "code",
   "execution_count": 98,
   "id": "b450a1f6",
   "metadata": {
    "scrolled": true
   },
   "outputs": [],
   "source": [
    "def predict_nearest_neighbour(name):\n",
    "    # Define the main df\n",
    "    df_copy = df.copy()\n",
    "    \n",
    "    # Store our candidate's index in the DataFrame\n",
    "    index_candidate = df_copy[df_copy[\"name\"]==name].index[0]\n",
    "\n",
    "    # Encode the target and create a feature \"name_encoded\"\n",
    "    le = LabelEncoder()\n",
    "    le.fit(df_copy[\"name\"])\n",
    "    df_copy[\"encode_name\"] = le.transform(df_copy[\"name\"])\n",
    "\n",
    "    # Retrieve political_orientation and name\n",
    "    df_copy = df_copy.drop(columns=[\"name\", \"political_orientation\"])\n",
    "\n",
    "    # Define X and y\n",
    "    X = df_copy.drop(columns=[\"encode_name\"])\n",
    "    y = df_copy['encode_name']\n",
    "\n",
    "    # Scale X\n",
    "    scaler = MinMaxScaler()\n",
    "    scaler.fit(X)\n",
    "    X_scaled = scaler.transform(X)\n",
    "\n",
    "    # Retrieve the line for the candidate we are working on with his/her index in the main df\n",
    "    X_scaled_train = pd.DataFrame(X_scaled).drop([index_candidate]).to_numpy()\n",
    "    y_train = pd.DataFrame(y).drop([index_candidate]).to_numpy().ravel()\n",
    "\n",
    "    X_scaled_test = pd.DataFrame(X_scaled).iloc[index_candidate].to_numpy().reshape(1, -1)\n",
    "    # y_test = pd.DataFrame(y).iloc[index_candidate]\n",
    "\n",
    "    # Define the model and fit it with only one neighbour because we want to predict the nearest one\n",
    "    model = KNeighborsClassifier(n_neighbors=1)\n",
    "    # Fit on X_scaled_train and y_train\n",
    "    model.fit(X_scaled_train, y_train)\n",
    "\n",
    "    # Predict \n",
    "    y_pred = model.predict(X_scaled_test)\n",
    "    predictions = le.inverse_transform(y_pred)\n",
    "\n",
    "    return predictions[0]"
   ]
  },
  {
   "cell_type": "code",
   "execution_count": 99,
   "id": "0e32b237",
   "metadata": {},
   "outputs": [
    {
     "name": "stdout",
     "output_type": "stream",
     "text": [
      "Alex Langlois : nearest_neighbour is Anne Hidalgo\n",
      "Anasse Kazib : nearest_neighbour is Eric Zemmour\n",
      "Anna Agueb-Porterie : nearest_neighbour is Charlotte Marchandise\n",
      "Anne Hidalgo : nearest_neighbour is Denis Payre\n",
      "Antoine Martinez : nearest_neighbour is Georges Kuzmanovic\n",
      "Antoine Waechter : nearest_neighbour is Charlotte Marchandise\n",
      "Arnaud Montebourg : nearest_neighbour is Nathalie Arthaud\n",
      "Charlotte Marchandise : nearest_neighbour is Anna Agueb-Porterie\n",
      "Clara Egger : nearest_neighbour is Gildas Vieira\n",
      "Denis Payre : nearest_neighbour is Anna Agueb-Porterie\n",
      "Edouard Philippe : nearest_neighbour is Antoine Martinez\n",
      "Emmanuel Macron : nearest_neighbour is Pierre Larrouturou\n",
      "Eric Ciotti : nearest_neighbour is Philippe Juvin\n",
      "Eric Zemmour : nearest_neighbour is Georges Kuzmanovic\n",
      "Fabien Roussel : nearest_neighbour is Nathalie Arthaud\n",
      "Fabrice Grimal : nearest_neighbour is Luc Laforets\n",
      "Florian Philippot : nearest_neighbour is Jean-Frédéric Poisson\n",
      "François Asselineau : nearest_neighbour is Nicolas Dupont-Aignan\n",
      "Georges Kuzmanovic : nearest_neighbour is Eric Zemmour\n",
      "Gerard Filoche : nearest_neighbour is Anasse Kazib\n",
      "Gildas Vieira : nearest_neighbour is Clara Egger\n",
      "Gilles Lazzarini : nearest_neighbour is Anasse Kazib\n",
      "Hélène Thouy : nearest_neighbour is Eric Zemmour\n",
      "Jacline Mouraud : nearest_neighbour is Régis Ollivier\n",
      "Jean Lassale : nearest_neighbour is Nicolas Dupont-Aignan\n",
      "Jean-Frédéric Poisson : nearest_neighbour is Nicolas Dupont-Aignan\n",
      "Jean-Luc Mélenchon : nearest_neighbour is François Asselineau\n",
      "Luc Laforets : nearest_neighbour is Régis Ollivier\n",
      "Marie Cau : nearest_neighbour is Régis Ollivier\n",
      "Marine Le Pen : nearest_neighbour is Nicolas Dupont-Aignan\n",
      "Martin Rocca : nearest_neighbour is Clara Egger\n",
      "Michel Barnier : nearest_neighbour is Valérie Pécresse\n",
      "Nathalie Arthaud : nearest_neighbour is Arnaud Montebourg\n",
      "Nicolas Dupont-Aignan : nearest_neighbour is Jean-Frédéric Poisson\n",
      "Philippe Juvin : nearest_neighbour is Michel Barnier\n",
      "Philippe Mazuel : nearest_neighbour is Anna Agueb-Porterie\n",
      "Philippe Poutou : nearest_neighbour is Anasse Kazib\n",
      "Pierre Larrouturou : nearest_neighbour is Emmanuel Macron\n",
      "Régis Ollivier : nearest_neighbour is Marie Cau\n",
      "Valérie Pécresse : nearest_neighbour is Michel Barnier\n",
      "Xavier Bertrand : nearest_neighbour is Jean Lassale\n",
      "Yannick Jadot : nearest_neighbour is Emmanuel Macron\n"
     ]
    }
   ],
   "source": [
    "for candidate in df[\"name\"].sort_values():\n",
    "    print(f\"{candidate} : nearest_neighbour is {predict_nearest_neighbour(name=candidate)}\")"
   ]
  }
 ],
 "metadata": {
  "kernelspec": {
   "display_name": "Python 3 (ipykernel)",
   "language": "python",
   "name": "python3"
  },
  "language_info": {
   "codemirror_mode": {
    "name": "ipython",
    "version": 3
   },
   "file_extension": ".py",
   "mimetype": "text/x-python",
   "name": "python",
   "nbconvert_exporter": "python",
   "pygments_lexer": "ipython3",
   "version": "3.8.12"
  },
  "toc": {
   "base_numbering": 1,
   "nav_menu": {},
   "number_sections": true,
   "sideBar": true,
   "skip_h1_title": false,
   "title_cell": "Table of Contents",
   "title_sidebar": "Contents",
   "toc_cell": false,
   "toc_position": {},
   "toc_section_display": true,
   "toc_window_display": true
  },
  "varInspector": {
   "cols": {
    "lenName": 16,
    "lenType": 16,
    "lenVar": 40
   },
   "kernels_config": {
    "python": {
     "delete_cmd_postfix": "",
     "delete_cmd_prefix": "del ",
     "library": "var_list.py",
     "varRefreshCmd": "print(var_dic_list())"
    },
    "r": {
     "delete_cmd_postfix": ") ",
     "delete_cmd_prefix": "rm(",
     "library": "var_list.r",
     "varRefreshCmd": "cat(var_dic_list()) "
    }
   },
   "types_to_exclude": [
    "module",
    "function",
    "builtin_function_or_method",
    "instance",
    "_Feature"
   ],
   "window_display": false
  }
 },
 "nbformat": 4,
 "nbformat_minor": 5
}
