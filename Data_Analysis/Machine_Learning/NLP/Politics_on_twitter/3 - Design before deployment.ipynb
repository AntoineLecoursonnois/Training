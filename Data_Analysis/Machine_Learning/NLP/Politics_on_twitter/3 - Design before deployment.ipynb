{
 "cells": [
  {
   "cell_type": "markdown",
   "id": "26939206",
   "metadata": {},
   "source": [
    "# Load and prepare the data"
   ]
  },
  {
   "cell_type": "markdown",
   "id": "388aeddf",
   "metadata": {},
   "source": [
    "## Import librairies"
   ]
  },
  {
   "cell_type": "code",
   "execution_count": 1,
   "id": "f64fc90b",
   "metadata": {},
   "outputs": [],
   "source": [
    "import requests\n",
    "import tweepy\n",
    "import webbrowser\n",
    "import os\n",
    "from datetime import date, datetime\n",
    "\n",
    "import pandas as pd\n",
    "import numpy as np\n",
    "\n",
    "import re\n",
    "from nltk.tokenize import word_tokenize\n",
    "from nltk.corpus import stopwords \n",
    "import string\n",
    "import unidecode\n",
    "\n",
    "import matplotlib.pyplot as plt\n",
    "import seaborn as sns\n",
    "import plotly.graph_objects as go\n",
    "import plotly.express as px\n",
    "from IPython.display import display, Image"
   ]
  },
  {
   "cell_type": "markdown",
   "id": "6437b7c1",
   "metadata": {},
   "source": [
    "## Import keys"
   ]
  },
  {
   "cell_type": "code",
   "execution_count": 3,
   "id": "8a1d9f3a",
   "metadata": {},
   "outputs": [],
   "source": [
    "from raw_data import keys\n",
    "twitter_api_key = keys.twitter_api_key()\n",
    "twitter_api_secret_key = keys.twitter_api_key_secret()\n",
    "twitter_bearer_token = keys.twitter_bearer_token"
   ]
  },
  {
   "cell_type": "markdown",
   "id": "c8bdc037",
   "metadata": {},
   "source": [
    "## Connect my developer project to my twitter profile"
   ]
  },
  {
   "cell_type": "code",
   "execution_count": 4,
   "id": "1f5f751c",
   "metadata": {},
   "outputs": [
    {
     "name": "stdout",
     "output_type": "stream",
     "text": [
      "https://api.twitter.com/oauth/authorize?oauth_token=_nGgjwAAAAABUe3MAAABfVyfyrk\n"
     ]
    }
   ],
   "source": [
    "callback_uri = \"oob\" # url\n",
    "auth = tweepy.OAuthHandler(twitter_api_key, twitter_api_secret_key, callback_uri)\n",
    "redirect_url = auth.get_authorization_url()\n",
    "print(redirect_url)"
   ]
  },
  {
   "cell_type": "code",
   "execution_count": 5,
   "id": "73561702",
   "metadata": {
    "scrolled": false
   },
   "outputs": [
    {
     "ename": "SyntaxError",
     "evalue": "invalid syntax (1928120398.py, line 1)",
     "output_type": "error",
     "traceback": [
      "\u001b[0;36m  File \u001b[0;32m\"/tmp/ipykernel_31346/1928120398.py\"\u001b[0;36m, line \u001b[0;32m1\u001b[0m\n\u001b[0;31m    m=\u001b[0m\n\u001b[0m      ^\u001b[0m\n\u001b[0;31mSyntaxError\u001b[0m\u001b[0;31m:\u001b[0m invalid syntax\n"
     ]
    }
   ],
   "source": [
    "m="
   ]
  },
  {
   "cell_type": "code",
   "execution_count": 5,
   "id": "ae9a2dac",
   "metadata": {},
   "outputs": [],
   "source": [
    "user_pin_value = '1399869'\n",
    "auth.get_access_token(user_pin_value)\n",
    "api = tweepy.API(auth)"
   ]
  },
  {
   "cell_type": "markdown",
   "id": "cd893808",
   "metadata": {},
   "source": [
    "## Load new content"
   ]
  },
  {
   "cell_type": "markdown",
   "id": "c93f5fb7",
   "metadata": {},
   "source": [
    "### Function to extract the tweets of politicals that I follow"
   ]
  },
  {
   "cell_type": "code",
   "execution_count": 6,
   "id": "ee2ee1d6",
   "metadata": {},
   "outputs": [],
   "source": [
    "candidates_pseudo = \"\"\"yjadot xavierbertrand vpecresse regis_ollivier philippejuvin n_arthaud montebourg luclaf larrouturou jfpoisson78 jeanlassalle gilleslazzarini gerardfiloche f_philippot dupontaignan antoine27955080 ZemmourEric Waechter2022 Vukuzman UPR_Asselineau PhilippePoutou MichelBarnier MartinRocca2022 MarCharlott MLP_officiel MAZUEL_Pace JaclineMouraud JLMelenchon HeleneThouy GildasVieira FabriceGrimal Fabien_Roussel EmmanuelMacron EPhilippe_LH ECiotti DenisPayre ClaraEgger1 Cau_Marie_ Anne_Hidalgo AnasseKazib AlexLanglois_ AguebPorterie\"\"\"\n",
    "# We do not \"clean\" candidates pseudo to keep their original format which is important here\n",
    "candidates_pseudo_list = word_tokenize(candidates_pseudo)"
   ]
  },
  {
   "cell_type": "code",
   "execution_count": 7,
   "id": "e8482ca6",
   "metadata": {},
   "outputs": [],
   "source": [
    "def extract_tweets_from_politics(number_of_tweet_per_politic, candidates_pseudo_list):\n",
    "    \"\"\"This function return a DataFrame of the last tweets of politics that I follow on Twitter\"\"\"\n",
    "    \n",
    "    # Start by working on my own account\n",
    "    me = api.get_user(screen_name=\"alecoursonnois\")\n",
    "    # Generate a list of my all of my friends (considering that I have under 50 friends on twitter)\n",
    "    my_friends = me.friends(count=50)\n",
    "    \n",
    "    # Retrieve my personal friends which I don't want to analyze their tweets\n",
    "    politics = candidates_pseudo_list\n",
    "    \n",
    "    # Create a set to stock the DataFrame columns names\n",
    "    columns = set()\n",
    "    # Create a list to save each tweet and its datas\n",
    "    tweets_data = []\n",
    "    # Create to save politics screen_names\n",
    "    politics_screen_name = []\n",
    "    \n",
    "    # Iterate on my_friends\n",
    "    for friend in my_friends:\n",
    "        friend_name = friend.screen_name\n",
    "        \n",
    "        # Don't act if this friend is out of the project\n",
    "        if friend_name in politics:\n",
    "            # Generate politics timeline list of the last tweets (the number must be indicated as a function's argument)\n",
    "            timeline_list = api.get_user(screen_name=friend_name).timeline(count=number_of_tweet_per_politic, tweet_mode=\"extended\")\n",
    "            \n",
    "            # Iterate on each tweet\n",
    "            for status in timeline_list:\n",
    "                # Generate a dictionary of status attributes\n",
    "                status_dict = dict(vars(status))\n",
    "                \n",
    "                # From this dictionary, get the keys and stock it in a variable\n",
    "                keys = vars(status).keys()\n",
    "                \n",
    "                # Create a dictionary stocking each status of the politic we are working on\n",
    "                # This dictionary will be added to the \"tweets_data\" list and finaly convert into a DataFrame\n",
    "                single_tweet_data = {}\n",
    "    \n",
    "                # Iterate on each status key (future column name)\n",
    "                for k in keys:\n",
    "                    # Add the status data to its right key into the dictionary of each status\n",
    "                    single_tweet_data[k] = status_dict[k]\n",
    "                    # Add the key as a column name in the set\n",
    "                    columns.add(k)\n",
    "                \n",
    "                # Append the full single_tweet_data dictionary with the right key to the tweets_data list\n",
    "                tweets_data.append(single_tweet_data)\n",
    "\n",
    "    # Give a name to the columns respecting the order\n",
    "    headers_cols = list(columns)\n",
    "\n",
    "    # Allow the DataFrame to display full tweets when printed\n",
    "    pd.set_option(\"display.max_rows\", None, \"display.max_columns\", None)\n",
    "    \n",
    "    # Convert the tweets_data list into a DataFrame\n",
    "    df = pd.DataFrame(tweets_data)\n",
    "    \n",
    "    # Only keep columns that provides information\n",
    "    columns_to_keep = ['id', '_json', 'source', 'source_url', 'retweet_count']\n",
    "    df = df[columns_to_keep]\n",
    "    \n",
    "    # Generate new features from extracted data\n",
    "    df[\"user\"] = df[\"_json\"].apply(lambda x : x[\"user\"][\"screen_name\"])\n",
    "    df[\"created_date\"] = pd.to_datetime(df[\"_json\"].apply(lambda x : x[\"created_at\"])).dt.strftime(\"%Y-%m-%d\")\n",
    "    df[\"created_hour\"] = pd.to_datetime(df[\"_json\"].apply(lambda x : x[\"created_at\"])).dt.strftime(\"%H:%M:%S\")\n",
    "    df[\"text\"] = df[\"_json\"].apply(lambda x : x[\"full_text\"])\n",
    "    df[\"hashtags\"] = df[\"_json\"].apply(lambda x : [hasthstags[\"text\"] for hasthstags in x[\"entities\"][\"hashtags\"]])\n",
    "    \n",
    "    # All url needed to display tweets with streamlit\n",
    "    all_url = []\n",
    "    # Iterate over \"_json\" to concatenate urls\n",
    "    for content in df[\"_json\"]:\n",
    "        start = \"https://twitter.com/\"\n",
    "        user = content[\"user\"][\"screen_name\"]\n",
    "        complement = \"/status/\"\n",
    "        id_str = content[\"id_str\"]\n",
    "        # Concatenate\n",
    "        full_url = start + user + complement + id_str\n",
    "        # Append to the full list\n",
    "        all_url.append(full_url)\n",
    "    # Create the column\n",
    "    df[\"url\"] = all_url\n",
    "    \n",
    "    # Reorder columns\n",
    "    right_order = [\"user\", \"id\", \"source\", \"text\", \"created_date\", \"created_hour\", \"hashtags\", \"retweet_count\", \"url\"]\n",
    "    df = df[right_order]\n",
    "    \n",
    "    return df"
   ]
  },
  {
   "cell_type": "markdown",
   "id": "3e489b9b",
   "metadata": {},
   "source": [
    "### Apply the function"
   ]
  },
  {
   "cell_type": "code",
   "execution_count": 8,
   "id": "b6d76d2f",
   "metadata": {},
   "outputs": [
    {
     "data": {
      "text/plain": [
       "(8137, 9)"
      ]
     },
     "execution_count": 8,
     "metadata": {},
     "output_type": "execute_result"
    }
   ],
   "source": [
    "# Load new tweets\n",
    "last_tweets_df = extract_tweets_from_politics(number_of_tweet_per_politic=250, candidates_pseudo_list=candidates_pseudo_list)\n",
    "last_tweets_df.shape"
   ]
  },
  {
   "cell_type": "markdown",
   "id": "738807e0",
   "metadata": {},
   "source": [
    "### Add features"
   ]
  },
  {
   "cell_type": "markdown",
   "id": "55167ffb",
   "metadata": {},
   "source": [
    "#### Generate new_features"
   ]
  },
  {
   "cell_type": "code",
   "execution_count": 9,
   "id": "2d59e36f",
   "metadata": {},
   "outputs": [],
   "source": [
    "new_features = [{\"user\":'EPhilippe_LH', \"name\": \"Edouard Philippe\",\"political_party\":\"Horizons\", \"political_orientation\":\"droite\"},\n",
    "                 {\"user\":'ZemmourEric', \"name\": \"Eric Zemmour\", \"political_party\":\"Aucun\", \"political_orientation\":\"extrême_droite\"},\n",
    "                 {\"user\":'EmmanuelMacron', \"name\": \"Emmanuel Macron\", \"political_party\":\"La République En Marche\", \"political_orientation\":\"droite\"},\n",
    "                 {\"user\":'Waechter2022', \"name\": \"Antoine Waechter\", \"political_party\":\"Mouvement Ecologiste Independant\", \"political_orientation\":\"ecologie\"},\n",
    "                 {\"user\":'Fabien_Roussel', \"name\": \"Fabien Roussel\", \"political_party\":\"Parti Communiste Français\", \"political_orientation\":\"extrême_gauche\"},\n",
    "                 {\"user\":'PhilippePoutou', \"name\": \"Philippe Poutou\", \"political_party\":\"Nouveau Parti Anticapitaliste\", \"political_orientation\":\"extrême_gauche\"},\n",
    "                 {\"user\":'jfpoisson78', \"name\": \"Jean-Frédéric Poisson\", \"political_party\":\"La Voie du Peuple\", \"political_orientation\":\"extrême_droite\"},\n",
    "                 {\"user\":'f_philippot', \"name\": \"Florian Philippot\", \"political_party\":\"Les Patriotes\", \"political_orientation\":\"extrême_droite\"},\n",
    "                 {\"user\":'vpecresse', \"name\": \"Valérie Pécresse\", \"political_party\":\"Soyons Libres\", \"political_orientation\":\"droite\"},\n",
    "                 {\"user\":'DenisPayre', \"name\": \"Denis Payre\", \"political_party\":\"Les Républicains\", \"political_orientation\":\"droite\"},\n",
    "                 {\"user\":'montebourg', \"name\": \"Arnaud Montebourg\", \"political_party\":\"L'Engagement\", \"political_orientation\":\"gauche\"},\n",
    "                 {\"user\":'JLMelenchon', \"name\": \"Jean-Luc Mélenchon\", \"political_party\":\"La France Insoumise\", \"political_orientation\":\"extrême_gauche\"},\n",
    "                 {\"user\":'MLP_officiel', \"name\": \"Marine Le Pen\", \"political_party\":\"Front National\", \"political_orientation\":\"extrême_droite\"},\n",
    "                 {\"user\":'jeanlassalle', \"name\": \"Jean Lassale\", \"political_party\":\"Résistons\", \"political_orientation\":\"divers\"},\n",
    "                 {\"user\":'larrouturou', \"name\": \"Pierre Larrouturou\", \"political_party\":\"Nouvelle Donne\", \"political_orientation\":\"gauche\"},\n",
    "                 {\"user\":'philippejuvin', \"name\": \"Philippe Juvin\", \"political_party\":\"Les Républicains\", \"political_orientation\":\"droite\"},\n",
    "                 {\"user\":'yjadot', \"name\": \"Yannick Jadot\", \"political_party\":\"Europe Ecologie-Les Verts\", \"political_orientation\":\"ecologie\"},\n",
    "                 {\"user\":'Anne_Hidalgo', \"name\": \"Anne Hidalgo\", \"political_party\":\"Parti Socialiste\", \"political_orientation\":\"gauche\"},\n",
    "                 {\"user\":'gerardfiloche', \"name\": \"Gerard Filoche\", \"political_party\":\"La Gauche Démocratique et Sociale\", \"political_orientation\":\"extrême_gauche\"},\n",
    "                 {\"user\":'dupontaignan', \"name\": \"Nicolas Dupont-Aignan\", \"political_party\":\"Debout la France\", \"political_orientation\":\"extrême_droite\"},\n",
    "                 {\"user\":'ECiotti', \"name\": \"Eric Ciotti\", \"political_party\":\"Les Républicain\", \"political_orientation\":\"droite\"},\n",
    "                 {\"user\":'xavierbertrand', \"name\": \"Xavier Bertrand\", \"political_party\":\"La Manufacture\", \"political_orientation\":\"droite\"},\n",
    "                 {\"user\":'MichelBarnier', \"name\": \"Michel Barnier\", \"political_party\":\"Les Républicains\", \"political_orientation\":\"droite\"},\n",
    "                 {\"user\":'UPR_Asselineau', \"name\": \"François Asselineau\", \"political_party\":\"Union Populaire Républicaine\", \"political_orientation\":\"divers\"},\n",
    "                 {\"user\":'n_arthaud', \"name\": \"Nathalie Arthaud\", \"political_party\":\"Lutte Ouvrière\", \"political_orientation\":\"extrême_gauche\"},\n",
    "                 {\"user\":'MartinRocca2022', \"name\": \"Martin Rocca\", \"political_party\":\"Constituante 2022\", \"political_orientation\":\"divers\"},\n",
    "                 {\"user\":'gilleslazzarini', \"name\": \"Gilles Lazzarini\", \"political_party\":\"Parti Politique pour la Paix et la Protection de la Planète\", \"political_orientation\":\"divers\"},\n",
    "                 {\"user\":'AlexLanglois_', \"name\": \"Alex Langlois\", \"political_party\":\"Refondation 2022\", \"political_orientation\":\"divers\"},\n",
    "                 {\"user\":'luclaf', \"name\": \"Luc Laforets\", \"political_party\":\"Une Perspective - la 6e République\", \"political_orientation\":\"divers\"},\n",
    "                 {\"user\":'Vukuzman', \"name\": \"Georges Kuzmanovic\", \"political_party\":\"République Souveraine\", \"political_orientation\":\"divers\"},\n",
    "                 {\"user\":'FabriceGrimal', \"name\": \"Fabrice Grimal\", \"political_party\":\"La Concorde Citoyenne 2022\", \"political_orientation\":\"divers\"},\n",
    "                 {\"user\":'ClaraEgger1', \"name\": \"Clara Egger\", \"political_party\":\"Espoir RIC 2022\", \"political_orientation\":\"divers\"},\n",
    "                 {\"user\":'Cau_Marie_', \"name\": \"Marie Cau\", \"political_party\":\"Sans Etiquette\", \"political_orientation\":\"divers\"},\n",
    "                 {\"user\":'antoine27955080', \"name\": \"Antoine Martinez\", \"political_party\":\"Volontaires pour la France\", \"political_orientation\":\"extrême_droite\"},\n",
    "                 {\"user\":'regis_ollivier', \"name\": \"Régis Ollivier\", \"political_party\":\"Indépendant\", \"political_orientation\":\"droite\"},\n",
    "                 {\"user\":'JaclineMouraud', \"name\": \"Jacline Mouraud\", \"political_party\":\"Sans Etiquette\", \"political_orientation\":\"droite\"},\n",
    "                 {\"user\":'HeleneThouy', \"name\": \"Hélène Thouy\", \"political_party\":\"Parti Animaliste\", \"political_orientation\":\"ecologie\"},\n",
    "                 {\"user\":'MAZUEL_Pace', \"name\": \"Philippe Mazuel\", \"political_party\":\"Pace\", \"political_orientation\":\"gauche\"},\n",
    "                 {\"user\":'MarCharlott', \"name\": \"Charlotte Marchandise\", \"political_party\":\"Sans Etiquette\", \"political_orientation\":\"gauche\"},\n",
    "                 {\"user\":'AguebPorterie', \"name\": \"Anna Agueb-Porterie\", \"political_party\":\"Aucun\", \"political_orientation\":\"gauche\"},\n",
    "                 {\"user\":'AnasseKazib', \"name\": \"Anasse Kazib\", \"political_party\":\"Courant Communiste Révolutionnaire-Révolution Permanente\", \"political_orientation\":\"extrême_gauche\"},\n",
    "                 {\"user\":'Stauthui', \"name\": \"Stéphane Tauthui\", \"political_party\":\"Tous France\", \"political_orientation\":\"droite\"},\n",
    "                 {\"user\":'GildasVieira', \"name\": \"Gildas Vieira\", \"political_party\":\"La France autrement\", \"political_orientation\":\"divers\"},]"
   ]
  },
  {
   "cell_type": "code",
   "execution_count": 10,
   "id": "763ebb16",
   "metadata": {},
   "outputs": [],
   "source": [
    "new_features_df = pd.DataFrame(new_features)"
   ]
  },
  {
   "cell_type": "markdown",
   "id": "089146ae",
   "metadata": {},
   "source": [
    "#### Merge it to last_tweets_df"
   ]
  },
  {
   "cell_type": "code",
   "execution_count": 11,
   "id": "98311e1c",
   "metadata": {},
   "outputs": [],
   "source": [
    "# because M Rocca changed his accounts name we must change our informations\n",
    "last_tweets_df[\"user\"] = last_tweets_df[\"user\"].str.replace(\"MartinRocca12\", \"MartinRocca2022\")"
   ]
  },
  {
   "cell_type": "code",
   "execution_count": 12,
   "id": "1dc7c919",
   "metadata": {},
   "outputs": [],
   "source": [
    "last_tweets_df = pd.merge(left=last_tweets_df, right=new_features_df, on='user', how='left')"
   ]
  },
  {
   "cell_type": "markdown",
   "id": "c0e21a21",
   "metadata": {},
   "source": [
    "### Check the number of tweets per politics"
   ]
  },
  {
   "cell_type": "code",
   "execution_count": null,
   "id": "bb903b9a",
   "metadata": {},
   "outputs": [],
   "source": [
    "# last_tweets_df[\"user\"].value_counts()"
   ]
  },
  {
   "cell_type": "markdown",
   "id": "1084186c",
   "metadata": {},
   "source": [
    "### Add it to the main global DataFrame"
   ]
  },
  {
   "cell_type": "markdown",
   "id": "78e83f37",
   "metadata": {},
   "source": [
    "#### Load the global_df \n",
    "- and drop the last index column automatically named \"Unamed: 0\" when saving df to csv file"
   ]
  },
  {
   "cell_type": "code",
   "execution_count": 13,
   "id": "e548f5b7",
   "metadata": {},
   "outputs": [],
   "source": [
    "global_df = pd.read_csv(\"global_df.csv\").drop(columns=\"Unnamed: 0\")"
   ]
  },
  {
   "cell_type": "markdown",
   "id": "658bf739",
   "metadata": {},
   "source": [
    "#### Add new content"
   ]
  },
  {
   "cell_type": "code",
   "execution_count": 14,
   "id": "6bc89a19",
   "metadata": {},
   "outputs": [
    {
     "name": "stdout",
     "output_type": "stream",
     "text": [
      "We just added 652 tweets to our global_df\n"
     ]
    }
   ],
   "source": [
    "actual_number_of_tweets = global_df.shape[0]\n",
    "\n",
    "# Append last tweets loaded to our archives\n",
    "global_df = global_df.append(last_tweets_df, ignore_index=True)\n",
    "\n",
    "# Sort the df by retweet_count to be sure to only keep the last update of retweet_count\n",
    "global_df = global_df.sort_values('retweet_count', ascending=False).drop_duplicates([\"user\", \"id\", \"source\", \"text\", \"created_date\", \"created_hour\", \"name\", \"political_party\",\"political_orientation\"])\n",
    "\n",
    "print(f\"We just added {global_df.shape[0]-actual_number_of_tweets} tweets to our global_df\")"
   ]
  },
  {
   "cell_type": "markdown",
   "id": "332b34ba",
   "metadata": {},
   "source": [
    "#### Save the new global_df"
   ]
  },
  {
   "cell_type": "code",
   "execution_count": 15,
   "id": "4b520eb8",
   "metadata": {},
   "outputs": [
    {
     "data": {
      "text/plain": [
       "(9394, 12)"
      ]
     },
     "execution_count": 15,
     "metadata": {},
     "output_type": "execute_result"
    }
   ],
   "source": [
    "global_df.shape"
   ]
  },
  {
   "cell_type": "code",
   "execution_count": 16,
   "id": "14de77db",
   "metadata": {},
   "outputs": [],
   "source": [
    "global_df[\"user\"] = global_df[\"user\"].str.replace(\"MartinRocca12\", \"MartinRocca2022\")"
   ]
  },
  {
   "cell_type": "code",
   "execution_count": 17,
   "id": "67efbe20",
   "metadata": {},
   "outputs": [],
   "source": [
    "global_df.to_csv(\"global_df.csv\")"
   ]
  },
  {
   "cell_type": "markdown",
   "id": "8fe632af",
   "metadata": {},
   "source": [
    "## Clean tweets"
   ]
  },
  {
   "cell_type": "markdown",
   "id": "a28ec9a9",
   "metadata": {},
   "source": [
    "### Make a new df from the global one\n",
    "- This way we will be allowed to drop duplicates next time we will load the global_df from the csv file"
   ]
  },
  {
   "cell_type": "code",
   "execution_count": 18,
   "id": "9b0fce02",
   "metadata": {},
   "outputs": [],
   "source": [
    "df_ready_for_nlp = global_df.copy()"
   ]
  },
  {
   "cell_type": "markdown",
   "id": "eaeed460",
   "metadata": {},
   "source": [
    "### Retrieve recurrent regex"
   ]
  },
  {
   "cell_type": "markdown",
   "id": "d320cc2d",
   "metadata": {},
   "source": [
    "#### Retweets"
   ]
  },
  {
   "cell_type": "code",
   "execution_count": 19,
   "id": "0bb457d4",
   "metadata": {},
   "outputs": [],
   "source": [
    "def retrieve_rt_retweets(df):\n",
    "    new_texts = []\n",
    "    \n",
    "    for text in df[\"text\"]:\n",
    "        if text[:3] == 'RT ' or text[:3] == 'rt ':\n",
    "            new_texts.append(text[3:])\n",
    "        else:\n",
    "            new_texts.append(text)\n",
    "    \n",
    "    df[\"text\"] = new_texts\n",
    "    \n",
    "    return df"
   ]
  },
  {
   "cell_type": "code",
   "execution_count": 20,
   "id": "cc232a86",
   "metadata": {},
   "outputs": [],
   "source": [
    "df_ready_for_nlp = retrieve_rt_retweets(df_ready_for_nlp)"
   ]
  },
  {
   "cell_type": "markdown",
   "id": "090cc107",
   "metadata": {},
   "source": [
    "#### Links"
   ]
  },
  {
   "cell_type": "code",
   "execution_count": 21,
   "id": "afb64d7b",
   "metadata": {},
   "outputs": [],
   "source": [
    "def retrieve_links(df):\n",
    "    pattern = re.compile(\"https://*\")\n",
    "    new_text = []\n",
    "\n",
    "    for text in df[\"text\"]:\n",
    "        if re.search(pattern, text) is None:\n",
    "            new_text.append(text)\n",
    "        else:\n",
    "            match_position = re.search(pattern, text).span()[0]\n",
    "            new_text.append(text[:(match_position-1)])\n",
    "\n",
    "    df[\"text\"] = new_text\n",
    "    \n",
    "    return df"
   ]
  },
  {
   "cell_type": "code",
   "execution_count": 22,
   "id": "c093ecb1",
   "metadata": {},
   "outputs": [],
   "source": [
    "df_ready_for_nlp = retrieve_links(df_ready_for_nlp)"
   ]
  },
  {
   "cell_type": "markdown",
   "id": "29273dd9",
   "metadata": {},
   "source": [
    "\n",
    "### Retrieve punctuation, lower text, tokenize, stopwords"
   ]
  },
  {
   "cell_type": "markdown",
   "id": "74137dc4",
   "metadata": {},
   "source": [
    "#### Define a text_cleaner function"
   ]
  },
  {
   "cell_type": "code",
   "execution_count": 23,
   "id": "55cff025",
   "metadata": {},
   "outputs": [],
   "source": [
    "def text_cleaner(text):\n",
    "    # Remove Punctuation\n",
    "    for punctuation in string.punctuation:\n",
    "        text = text.replace(punctuation, ' ') \n",
    "    \n",
    "    # Lower Case\n",
    "    lowercased = text.lower() \n",
    "    \n",
    "    # Remove accents\n",
    "    unaccented_string = unidecode.unidecode(lowercased) \n",
    "    \n",
    "    # Tokenize\n",
    "    tokenized = word_tokenize(unaccented_string) \n",
    "    \n",
    "    # Remove numbers\n",
    "    words_only = [word for word in tokenized if word.isalpha()] \n",
    "    \n",
    "    # Make stopword list\n",
    "    stop_words = set(stopwords.words('french')) \n",
    "    \n",
    "    # Remove Stop Words\n",
    "    without_stopwords = [word for word in words_only if not word in stop_words]\n",
    "    \n",
    "    return \" \".join(without_stopwords)"
   ]
  },
  {
   "cell_type": "markdown",
   "id": "06d50d6a",
   "metadata": {},
   "source": [
    "#### Apply the text_cleaner function"
   ]
  },
  {
   "cell_type": "code",
   "execution_count": 24,
   "id": "f2d4bb08",
   "metadata": {},
   "outputs": [],
   "source": [
    "df_ready_for_nlp['text'] = df_ready_for_nlp['text'].apply(text_cleaner)"
   ]
  },
  {
   "cell_type": "markdown",
   "id": "e2077576",
   "metadata": {},
   "source": [
    "## Analyze tweets"
   ]
  },
  {
   "cell_type": "markdown",
   "id": "e27e6bbd",
   "metadata": {},
   "source": [
    "### Find lexical themes and store their vocabulary in lists"
   ]
  },
  {
   "cell_type": "code",
   "execution_count": 25,
   "id": "ccd26d3d",
   "metadata": {},
   "outputs": [],
   "source": [
    "ecology_lexicon = \"\"\"velotafeurs velotaf vélo SolutionVelo Climate Amazonie éolien Coal coal lecologie2022 ISFClimatique ecologistes vivant verte vert végétale trophique transitionénergétique transition surpopulation recyclage productivisme préservation pollution phytogéographie permaculture organisme oikos océanographie Nucléaire nucléaire naturel nature microbiologie mésologie MEI Mei intertidale impact Hulot guilde Greenpeace GIEC GiEC génération évolution éthologie ethnographie environnementale environnement énergie élevage écosystème éconavigation écologue écologiste écologisme écologique écologie écoguerrier écocitoyenneté durable diversité décroissance cours Cop26 cop26 COP26 climat Climat bobo biotope biotique biosphère bionomie biomasse biologique biologie biogéographie biodiversité biocénose altermondialiste agroalimentaire Agriculture agriculture agricole AccorddeParis AccordDeParis abiotique\"\"\"\n",
    "ecology_lexicon_list = word_tokenize(ecology_lexicon)\n",
    "ecology_lexicon_clean_list = word_tokenize(text_cleaner(ecology_lexicon))"
   ]
  },
  {
   "cell_type": "code",
   "execution_count": 26,
   "id": "5ad44aff",
   "metadata": {},
   "outputs": [],
   "source": [
    "extrem_lexicon = \"\"\"rage xénophobie violent violence vif vieillesse vertigineux ultime toundra tétracorde terrible terreur terminal tension température susceptibilité survie surexcitation surabondant suprême superlatif soutenir sommet skinhead simplicité Sibérie sévérité sécheresse risqué rigueur relooking redoutable rareté raffinement radical raciste racisme puissance prudence prostration profond précipitation préciosité plafond piètre pénurie passionné particulier paroxysmique paroxysme paresseux pâleur outrée outrancier opposition opposé onction obligeance nudité nervosité néonazi nébulosité musoir mouvance mortel monstrueux mollesse miséricorde minimal minceur metal méprisable méfiance maximum maximal maigreur lourdeur Lolita limite lenteur laideur Laconie Kolyma intensif intense insupportable insensibilité inouï injuste inique infini individualisme immodéré immense hypersexualisation hypersensibilité horrible horreur Heyman héroïque haut hasardeux groupuscule gravité glacial furieux funeste fragilité fou fondamental folle finesse férocité fatigue fasciste faiblesse facho extrêmophile extrémité extrémiste extrémisme extrémiser extrémisation extrêmement extrême extraordinaire extase exquis exorbitant excessif excès exceptionnel exaspéré exagérer épuisement épouvantable éperdu énergique électorat effroyable effréné effrayant ECW dureté drastique draconien disproportionné disproportion discrétion détresse désordonné désolation désespérer désertique dérégler démesuré délire délicatesse définitif décrépitude débilité Couvin contraire comble circonspection Cabinda Bonifacio blanc Bièvres beauf atrocité asservir aride ardeur arctique anxiété antisémitisme antisémite antipode antifas Antifas angoisse aigu agressivité affreux adoration acharner abusif absolu abattement\"\"\"\n",
    "extrem_lexicon_list = word_tokenize(extrem_lexicon)\n",
    "extrem_lexicon_clean_list = word_tokenize(text_cleaner(extrem_lexicon))"
   ]
  },
  {
   "cell_type": "code",
   "execution_count": 27,
   "id": "1075831c",
   "metadata": {},
   "outputs": [],
   "source": [
    "# Manually add \"Éducation debatLR\" for each refresh\n",
    "political_lexicon = \"\"\"Éducation debatLR VoteBlanc Suede schiappa PacteVert Madagascar Libertedecirculation InitiativesPCF Ethiopie Éthiopie Slovaquie India Hollande Débat 6Republique Pasqua NousPrésidents DEBATLR DébatLR debatLR ConresLR unfrontpopulaireecologique SouverainetéPopulaire Sénatoriales2017 Rotterdam Republique président presideentielle2022 nouvellerepublique NouvelleDémocratie NouvelleDemocratie MairesDeFrance maires FrontPopulaireEcologique FrontPopulaireÉcologique ForumDuProjet Forumduprojet Fillon EspoirDeLaGauche EnsembleSauvonsLaFrance ensemblesauvonslafrance ConseilNationalLR ConseildeParis CongresDesMaires Congresdesmaires congresdesmaires Armenie Zinoviev Yougoslavie yougoslave vouseteslarepublique voteblanc volonté vision vietnamien Vietnam Varsovie utopie URSS univers union UEC Twitter trotskyste trotskysme Trotsky trotskiste trotskisme Trotski troïka tribalisme totalitarisme totalitaire Tito titiste titisme Thucydide Thorez TestsPayants testspayants termite temporisation tempête technocratie technocrate Tchéka Tchécoslovaquie tchécoslovaque Tchang talibans Talibans Taïwan tabou système syndicalisme sympathisant stratification stratégie staliniste stalinisme stalinien Staline sphère spartakiste soviétomane soviétique soviet souverainiste souverainisme souveraineté Solidarnosc SolidaritePalestine Solidaritepalestine solidarité sociologue sociologique sociologie sociolecte société sociétal socialistes Socialistes socialiste socialisme socialisation sociales sociale social sociable sociabilité situation sionisme siège Shanghai SFIO séparatiste sentiment Sénat sénat secrétaire sécession scolaire scission schisme Schiappa Schengen scandale Sarkozy sarkozy samu samizdat Russie russie ruse RPC Rousseau Roumanie rouge révolutionnaire révolution restauration responsabilité Respect respect résistant Résistance résistance réseautage Républiqueeuropéenne RépubliqueEuropéenne Republiqueeuropeenne RepubliqueEuropeenne République république républicain rentreeLR RentreeLR religion rejet réinsertion régionales Régionales Regionales regionales régime réfugié réformiste réforme réflexion réactionnaire réaction RDA rapport rang racial querelles qualité publiciste public psychologique psychique province protectorat propagande prolétarienne progressiste progressisme progrès programmes programme problèmes PrimaireLR primaireLR primaire Primaire pression présidium presidentielles2022 Presidentielles2022 présidentielle2022 Présidentielle2022 presidentielle2022 Presidentielle2022 présidentielle Présidentielle presidentielle Presidentielle prélèvement Pravda pouvoir postcommunisme populiste populisme populaire politologue politologie politiste politiser politisation politiquement Politique politique politicien politicard politicaillerie politicailler politburo polémique pluralisme plan philosophique philosophie philosophe phénomènes personnalités perestroïka Pékin PCUS PCI pauvre patriarcat partisan Parti parti partenaire partageux parlementarisme parlementaire parlement parenté paradigme panslavisme panafricanisme pamphlet Palestinien palestinien pacte orthodoxe orientation opposant opinion ONG oligarchie office notion nomenklatura noblesse nivellement nihilisme négociation nationalité nationaliste nationalisme nationalisation nationale nation mutualité municipales Municipales municipale multipartisme moscoutaire Moscou moralité morales morale moral mondialisation monarchiste monarchie mœurs modéré modèle mixité ministère militant milieu Migrants migrants méritocratie menées média Mauss matriarcat marchais maoïste maoïsme Mao Malenkov majorité machiavélisme machiavélique Machiavel maccarthysme lutte logement locatif littérature liens libertés Libertés LibertéetResponsabilité LibertéEtResponsabilité Liberté liberté libertaire libération libéral liant léniniste léninisme Lénine légitimité légitimation leader LCR langue laïcité Kuomintang KPD Komintern Kominform Khrouchtchev Kampuchéa juridique Juppé junte journal Jiangxi isolationnisme islamisme Irak intrigues interventionnisme interpellation internationaliste internationale intérieure intérêts interaction intellectuel intégration institutions institutionnel institution instabilité insertion infléchir inégalité indochinois individuel individualiste individu indépendantiste indépendantisme indépendance impérialiste impérialisme Immigration immigration idéologique idéologie identité identitaire idéal humain Hoxha Hobbes HLM histoire hiérarchie habitus habitude habitat habitant habileté Guomindang guérilla Guépéou groupes grégaire gouverner gouvernementale gouvernement gouvernant Gottwald Gorbatchev glasnost giletsjaunes GiletsJaunes Giletsjaune GiletsJaune géopolitique gazette gaulliste gaullisme gauchiste Gauche gauche FTP FREXIT frexit Frexit Francedesterritoires FranceDesTerritoires fourmi fondement fiscal féodalité féminisme fédération fédéralisme fédérale fascisme familial faction facteurs extérieure européens Européens européenne europeen étranger ethnologie ethnique éthique état établissement environnemental entrisme entente Engels endogamie encarté émergence électionprésidentielle election2022 Election2022 élection électeur égalité égalitaire effondrement éducation éducatif éducateur éditorial école échiquier Durkheim dumping Duclos droit Doriot domaine dissident dissidence discrimination dirigeant diplomatique diplomatiepacifique DiplomatiePacifique diplomatie diplomate dictature dialogue déviationniste déviance développement déterminisme déstalinisation dépolitiser démographique démocratique Démocratie démocratie démocrate démagogie défavorisé déclassement Décentralisation décentralisation DebatLR Débatdeladroite DébatdelaDroite debatdeladroite Debatdeladroite DebatdelaDroite DebatDeLaDroite débat culturel Cuba critique courant corporatisme coopération coopératif convictions conversion contexte contestation contestataire constructivisme constitutionnelle Constitution constitution considérer considérations conservatisme conservateur consensus conseildeparis ConseilDeParis ConseilConstitutionnel conseilconstitutionnel congrèsLR CongrèsLR congreslr congresLr congresLR CongresLR congrès conformisme conflits conflit conduite concept comportemental comportement compétence communiste communisme CommuneDeParis CommunedeParis communautaire commerciales comité colonial collectivité collectiviste collective cohésion cognitif codes coco coalition clivage clientélisme cléricalisme classe clandestinité clandestin clan civique civilisation civil citoyens Citoyens citoyen chinois Chine changement CGTU centriste CCAS Castro castriste caste cassos capitaliste capitalisme camarade Cabet bureaucratie Brejnev bourgeoisie bourgeoise bourgeois Bourdieu bouleversement Boudon bonapartiste Bonald bolcheviste bolchevique bolchevik Blum bipolarisation BilandelaHonte BilanDeLaHonte bienfaisance Berlinguer berlin Berlin bénéficiaires bailleur babouviste avantage autruche autoritaire autonomiste autonomie autonome autocratie autarcie athées associatif assemblées artistiques argot arène appartenance apolitique apartheid antisocial antiparlementaire antifasciste anticommuniste anticommunisme anticléricalisme anthropologue anthropologique anthropologie anomie anarchiste anarchisme anarchie analyse amnistie ambitions ambition ambitieuse ambiant alpha alliance aliénation Albanie aimable agrarien agraire agora agitation affable administrative adhérent actualité activiste activisme accession abus abstentionniste abstention\"\"\"\n",
    "political_lexicon_list = word_tokenize(political_lexicon)\n",
    "political_lexicon_clean_list = word_tokenize(text_cleaner(political_lexicon))"
   ]
  },
  {
   "cell_type": "code",
   "execution_count": 28,
   "id": "4ce3300b",
   "metadata": {},
   "outputs": [],
   "source": [
    "purchasing_power_lexicon = \"\"\"TVA taxes tarifs suppression salariés salaireminimum salaire revenus retraites retraité redonner prix Précarité précarité pouvoirdachat PouvoirDAchat pensions pauvreté mutuelles modestes ménages loyers loyer inégalités importés fiscale exonération érosion dépenses dépense cotisation consommation carburants Carburants carburant Berne appauvrissement actifs acquérir\"\"\"\n",
    "purchasing_power_lexicon_list = word_tokenize(purchasing_power_lexicon)\n",
    "purchasing_power_lexicon_clean_list = word_tokenize(text_cleaner(purchasing_power_lexicon))"
   ]
  },
  {
   "cell_type": "code",
   "execution_count": 29,
   "id": "31dece70",
   "metadata": {},
   "outputs": [],
   "source": [
    "health_lexicon = \"\"\"covid19 chlordécone burnout StopMasque ZeroCovid VigilanceSanitaire vigilancesanitaire vaccins VaccinObligatoire VaccinationObligatoire vaccinationobligatoire VaccinationCovid Vaccination vaccination Vaccin TousAntiCovid StopPassSanitaire StopCovid StopBrevetCovid soin science santexpo SANTEXPO Santé santé sanitaire PJLSanitaire PJLPasseSanitaire pharmacovigilance PassVaccinal PassSanitaires PassSanitaireDeLaHonte passsanitaire PassSanitaire Passsanitaire Passesanitaire PasseSanitaire passeportSanitaire passanitaire Passanitaire pass Pass ObligationVaccinale NonPassSanitaire nonpasssanitaire NonAuVaccinObligatoire NonAuPassSanitaireDeLaHonte NonAuPassSanitaire Nonaupasssanitaire NonAuPasseportSanitaire NONALAvaccinationobligatoire NonALaVaccinationObligatoire moderna Moderna masque Masque ManifestationAntiPassSanitaire hygiène DictatureSanitaire déconfinement Déconfinement crisesanitaire CriseSanitaire covidlong COVID19france Covid19 COVID19 Covid_19 COVID covid Covid AntiPassSanitaire AbonnementVaccinal  vitamine  vitalité  VIH  vigueur  vieillissement  vie  vétérinaire  variole  valide  valétudinaire  vaccination  vaccin  urgence  UNICEF  tuberculose  trinquer  trempe  transfusion  traitement  toxique  thérapie  thérapeutique  tempérance  tempérament  tabagisme  tabac  syndrome  surpoids  stress  souffrante  souffrance  soin  soigner  soignant  sida  shiatsu  sensualité  sanitaire  sanatorium  samu  salutaire  salubrité  salubre  sain  robuste  risque  rétablissement  rétablir  reproductive  remède  régime  réadaptation  pulmonaire  psychologue  psychique  psychiatrie  protection  prospérité  prosit  probiotique  priorité  prévoyance  prévention  prescription  préoccuper  préoccupant  préjudiciable  praticien  pouls  potable  pollution  pneumonie  physique  pharmacien  pharmacie  pesticide  personnalité  patient  pathologie  paramédical  paludisme  organisme  organisation  OMS  obésité  nutritionnel  nutrition  nutriment  nuisible  nuisent  nuisance  nuigrav  nocif  naturopathie  naturopathe  naturel  nature  mutuelle  mutualité  mortalité  montagne  mondiale  métabolique  mental  ménager  médicament  médical  médecine  médecin  maternité  massage  malnutrition  malbouffe  malaria  malaise  maladif  maladie  malade  maigreur  longévité  jouir  invalidité  intoxication  interjection  institut  Inserm  insalubre  innocuité  inhalothérapeute  informatisation  infirmité  infirmière  infirmier  infectieux  infantile  indisposition  IMC  hypocondriaque  hypertension  hygiénisme  Hygie  humain  hospitalisation  hospitalière  hôpital  holistique  Hippocrate  health  handicap  guérison  guérir  gravement  généraliste  Galien  fumeur  fragile  force  florissant  évaluer  esprit  espérance  équilibre  épidémiologie  épidémie  environnementale  environnement  entretien  embonpoint  écosystème  domaine  disposition  dispensaire  diététique  diète  diagnostic  diabète  détériorer  détérioration  détenu  dépistage  dentisterie  dentiste  dentaire  délétère  décliner  curatif  covid  corporel  convalescence  contamination  consultation  constitution  consommateur  complémentaire  compétence  communautaire  clinique  chiropratique  cardiovasculaire  cardiaque  cancer  cadmium  bulletin  boire  biotechnologie  bile  asthme  assurance  Asclépios  aromathérapie  antioxydant  altérer  altération  allergie  allaitement  alimentation  alcoolisme  aggravé  absentéisme\"\"\"\n",
    "health_lexicon_list = word_tokenize(health_lexicon)\n",
    "health_lexicon_clean_list = word_tokenize(text_cleaner(health_lexicon))"
   ]
  },
  {
   "cell_type": "code",
   "execution_count": 30,
   "id": "6d5337e4",
   "metadata": {},
   "outputs": [],
   "source": [
    "security_lexicon = \"\"\"QuaiDOrsay militaires Interpol TouchePasAuxEnfants vulnérabilité vigile vigilance vidéosurveillance veto vérification veiller usagers urgence unies tranquillité traçabilité terroriste terrorist terrorisme Symantec surveiller surveillance sûreté stasi stadier stabilité soupape signalisation sérénité security sécurité securitas sécuritarisme sécuritaire sécurisé sécurisation sécu secourisme sauvetage sauvegarde salubrité safety routière risquer risque ressortissant responsable résolution répression renseignement renforcer renforcement réglementation règlement refuge recommandation rassurant quiétude protocole protéger protection prospérité procédure problème priorité prévention prévenir présidence policier Policier Police police piratage piétons permanent pénal passive parade parachute paix OTAN ordre OpenBSD ONU obligation norme NKVD NFC nécessaire mousqueton minutie mesures menacer menace maximale maritime manutention manquement malveillant maintien maintenance loi législation KGB ISO investigation intervention international intégrité installation insécurité informatique informaticien incendie impunité humanitaire harnais hacker Gendarmerie gendarmerie gendarme garantie FSB freinage fiabilité FBI faille exigence évaluation évacuation espionnage escalade ERP englober encadrement domotique divulgation dispositif détection désarmement déploiement denrée déminage délinquance défense dangereux danger cybersécurité cybercriminalité cryptographie criminalité cracker coussin contrôles continuum conseil conformité confidentialité confiance conducteur compromettre commissariat commissaire Commissaire clignotant CIA chiffrement chicane chargé certitude certification certificat ceinture biométrique Beria baudrier balisage autorité authentification attestation attentat ataraxie assureur assurer assistance approvisionnement antivol amélioration alarme airbag airain agression agents agence aérien accident abri\"\"\"\n",
    "security_lexicon_list = word_tokenize(security_lexicon)\n",
    "security_lexicon_clean_list = word_tokenize(text_cleaner(security_lexicon))"
   ]
  },
  {
   "cell_type": "code",
   "execution_count": 31,
   "id": "393a0c0c",
   "metadata": {},
   "outputs": [],
   "source": [
    "work_lexicon = \"\"\"entreprises 35heures GrèveGénérale egalitesalariale zèle vacance utilité utilisation usine usage turbin travailleur travailler travail transformation Titan thermodynamique temps télétravail technique taylorisme taf tâche syndicat syndicaliste syndical surmenage surcroît surcharge supplémentaire superviser succès stress stakhanovisme spécialité SMIC Smic smic sinécure semainede4jours SemaineDe4Jours Semainede4jours semaine séance savoir sape salarié salariat revenu retraite résultat repos réparation rémunéré rémunération relation relâchement récréation reconnaissance récompensé réaménagement prud'hommes prolétariat prolétaire projet professionnel profession produit productivité prestation présentéisme préparatoire pratique planque perfectionnisme pensum pénible peine paye patronat patron paie ouvroir ouvrière ouvrier ouvrage ouverture outil opération oisiveté œuvre occuper occupation obligatoire motivation minutieux métier méthodologie méthodique méthode mécanisation mécanique manufacture manuel management machinisme machine loisir licenciement licencié laborieux laboratoire labeur journalier joule job invalidité intérim inspection inlassable ingrat indemnité incessant inachevé horaire heure Hercule Héraclès grève goulag galère gain fruit fordisme forcé forçat fonctionnement fonctionnaire fonction flexibilité fastidieux fainéantise façonnage exploitation expérience exigeant exercice exécution étudier étude esclave ergothérapie ergonomie éreintant équipe entretien entrepreneur entreprendre enfantement employeur employer employé Emploi emploi embellissement embauche élaboration effort effectuer durée donner domestique directeur difficulté devoir devis délassement débordé débaucher création corvée convention contrat construction consciencieux congé conciliation conception concentration Commission commission colossal collègue collectivisme collectif collaboratif collaborateur chômeur chômer chômage cheminement charge chantier cabinet bureau brocante bricole bricolage boulot boîte blouse besogne bénévole bénévolat bénédictin bagne bâcler avancement automatisation atelier assiduité assidu artisanat artisan ardu apprentissage appareil amateur affaire activité achèvement acharné accouchement accomplir absentéisme abrutissant aboutissement\"\"\"\n",
    "work_lexicon_list = word_tokenize(work_lexicon)\n",
    "work_lexicon_clean_list = word_tokenize(text_cleaner(work_lexicon))"
   ]
  },
  {
   "cell_type": "code",
   "execution_count": 32,
   "id": "7e2cd538",
   "metadata": {},
   "outputs": [],
   "source": [
    "economic_lexicon = \"\"\"Lagarde TaxeSurLaSpeculation ISF Walras Vivendi vitale versement Turgot trésorerie trésor Trente touristique tourisme totalité tirelire thésaurisation théoricien textile tertiaire tendance tempérance technologie taxation taux tabac surproduction surplus surcapitalisation substantielles subsistance structurel stratégique stock stimuler statistique Spéculation spéculation souscripteur solidaire sobriété Smith service secteur sciences Schumpeter SARL rural rôle richesse Ricardo ressources ressource réserve répartition rentier rente rentabilité rendement rembourser remboursement relocaliser relever relancer relance réduction redresser redressement redistribution reconversion reconstruction recette récession réaliser rachat Quesnay québécoise publiques protectionniste protectionnisme prospère propriété propriétaire profit production productif privés privatisation primordial prévoyance prêteur possessions possédant PME planification placement PIB physiocrate pétrolier pétrole pécule pêchés payable Patrimoine patrimoine partners parcimonie paiement organisation œconomie OCDE numéraire Nobel NEP néoclassique naturelles multinationale montant monopole monnaie monétaire mondiale modernisation Milton milliard microéconomique microéconomie mesure mercantiliste mercantilisme ménage mathématique matelas marxiste marxisme Marx marchandise marchande Malthus majoritaire maître magot macroéconomique macroéconomie luxure liquidité libéralisme libéraliser libéralisation libérale krach keynésien keynésianisme Keynes investisseur investissement investir intérêt interdépendance infrastructure informel inflation industrielle industriel industrie industrialisation impôt imposable importation importants importance immobiliser immobilisation immobilier immatériel holding historicisme hétérodoxe Hayek harmonie Glorieuses globalisation gisement gestion gaspillage gains frugalité fructifier Friedman fortune fonds foncier FMI florissante fiscalité financier Finances finances financement finance filiale feuille faillite externalité exsangue exportation exportateur excédent euro Eurazeo étatique essor espèces escompte épargner épargne épargnant entreprise entreprenant enjeu engagés endogène endettement emprunteur emprunt efficience économiste économisme économiseur économiser économiques économiquement économique économie economics économétrie économe échelle échéance échange dynamisme dynamique dollars dollar dividende diversification distribution dissoudre disposition disponible dirigisme diminution dévaluation dette détenu détenteur détenir dépenser démographie déflation déficit décupler décisif cybernétique croissance crise crédit créancier coût côté corruption coordination contribuable constat consommateur conjoncture concurrence concision comptabilité compression compétitivité commercial commerce commanditer collectivisation circulation chandelle cession central cardinal caractéristique capitalistique capitaliser capitalisation capital canadienne caisse cagnotte cac40 CAC40 budgétaire budget boursier boursicot bourse Boukharine boom bénéfice Bastiat banque bancaire avarice autrichienne autosuffisance autofinancement austérité augmentation assurance arrangement argent appropriation approche apporteur apport anticipation annuité amortissement amorçage amenant amalgames allocation alimentaire affairer administration Adam actionnariat actionnaire acquisition achat accumuler accumulation accroissement\"\"\"\n",
    "economic_lexicon_list = word_tokenize(economic_lexicon)\n",
    "economic_lexicon_clean_list = word_tokenize(text_cleaner(economic_lexicon))"
   ]
  },
  {
   "cell_type": "code",
   "execution_count": 33,
   "id": "9987a8ca",
   "metadata": {},
   "outputs": [],
   "source": [
    "# Add manually \"Manifs20novembre les4V FaceÀLaRue fRance\" \n",
    "hashtags_lexicon = \"\"\"Manifs20novembre les4V FaceÀLaRue fRance VoteThisCAPDown Vesoul TrottinetteGate Stocamine SorryWeAreClosed SAM SaintEtienne saintetienne SablesDOlonne révolte Reichshoffen Quotidien professeur PJLConfiance parcoursup Nangis Montastruc Moissac martinique Manche LaManche honte GUADELOUPE guadeloupe EPlenary Debarquement Channel CEDH Blagnac barometrevelo2021 Antilles Alsace AlCapone 5MinutesPourConvaincre 37ECampagne Whirlpool VenezNombreux Strasbourg postvérité poligny OperationSirli OLOM NotInMyName Manifs27Novembre LE20H Jura guadeloupéens guadeloupéennes enquête Cordemais constituante Condoléances Besançon APPEL 22novembre Waukesha SaintPaulLezDurance RAID Le20HdeDariusRochebin LaRochelle GIGN Corrèze ClaraLuciani ChampsElysées ChampsElysees Bastille YassineBelattar WorldChildrensDay Wokisme WhereIsPengShuai violencesfaitesauxfemmes violences Vauban Universalisme UnisDansLaDiversité UnieDansLaDiversité UneFranceNouvelle Transphobie transmission TourdeFrance thread TeamOuiHustle tdor2021 TDOR TAD Syunik StopViolences SSD93 SouvenirFrançais SMCL2021 SMCL signalement SensPublic segurpourtous SecoursCatholique SciencesPoNancy SAVIM sauvonslafrance Satellite SaintSaulve Riace RépubliqueDécentralisée refugies Refugee ReconfinementMoiJamais RaoultMerci radioAvallon pride placeRepublique PetitRobert Peche PasUneDePlus Parrainages Parole Ouihustle OùEstPengShuai OnLacheRien NousToutes NDA2022 nda2022 NAOSNCF NagorniKarabakh Morvan Molnupiravir MeTooPolitique mémoire Meeting Meaux MDM manifs20novembre Manifestation20novembre Mandelieu LoiCopeZimmerman localisme LespoirRevient LesLilas LeroyMerlin Legislatives2022 Lecornu LaGuillotière LaFranceAVoixHaute LaFranceÀVoixHaute LaConvordeCitoyenne Justice journeenationaledeluttecontreleharcelement JourneeInternationaledesDroitsdelEnfant Journeeinternationaledesdroitsdelenfant ivermectine Iss intermodalité IntérêtSupérieurDeLEnfant interdictiondelaBurqa immunitépénale IledeFrance Iel iel HôtelDieu HautKarabakh HarcelementScolaire harcelement Guanguan Grigny GrèveRoissy Greve17Nov Graz GrandeSynthe france FoutageDeGueule Floride fil FGMM ferropem ferroglobe fakenews facilitateurs FaceaBFM Euroskills EnBleuPourUnicef DroitsDesEnfants doc Delfraissy Creteil conservation colere CNLR CIDE chlordecone CancelCulture Brussels Brest Bourdin BoulogneSurMer BlackFriday Bergams benoha Azerbaijan Ashtarak Ascoval Artsakh absurdistan 6eme 5G 3ans 25novembre 20H 2022nda 13H ZEVENT2021 ZEvent2021 zadistes Youtube Youtopia Yeu YanisKhames XVdeFrance XiJinPing WS WorldIsWatching WorldHumanitarianDay2021 world womenarepower wokisme woke Witam Wien WhoRunTheWorld WEC water wait Vouvray Votez voter VoituresRadar Voile VivreEnsemble visas VironsLes VirginieDelalande vipol ViolencesPolicieres violencepolicière vins VincentLambert VincentBollore Vilpol Villandry VillaBonaparte vignerons vigilants VictoireDeTousLesFrançais VGE VG2020 Versailles VéritéVite vérité Vérité VeRépublique VéranDoitParler VéranDémission VeranDemission Véran Veran Veolia VendrediLecture Vendée Vendee VeldHiv VaulxenVelin Vaulx Vaucluse var Var Vancouver ValeursActuels Valence ValdOise USA US UrgenceClimatique UrgenceAlgerie UNWomen UnNovaJourSeLève Unité UnisPourGagner UnionPopulaire UnionEuropéenne Unidad Unesco UneAmbitionIntime Ulster Ukraine UK UICN UEolf2021 UEJF UE UDI Ubisoft Über TwitterSpace TwitchLeak Twitch Turquie Tunisie Trump Troyes Tricastin Tribunedesgénéraux Tri travaux transports transphobie transgenre transatjacquesvabre TransatJacquesVabre transactions TPMPWeekEnd TPMP TOYOTA ToutLeMondeDetesteLaPolice ToutÇaPourÇa Toussaint TousMobilisés TousMobilises TousElus2022 Tournai Touquet Touques Toulouse TouchePasMonPrénom TouchePasARaoult TotalMent Total Tolkien ToleranceZero Tokyo2020 Tokyo Tinchebray Time TikTok THREAD ThomasSankara ThomasPesquet TheGreatShift TGV TF1 Texas Terroranschlag territoires TempeteAurore TeamExploitation TeamArnaque TDOV TDF2022 TDF2021 Tchad TCE TaxonsLaSpeculation taxonomie TaxerLaSpeculation taxe Tarn taqîya Tapie TakeActionNow TahaNestPasSeul SuppressionPermisAPoints suicide Suez SudRadio submarines stream stopviolencespolicieres StopMutilationsSexuelles StopMcKinsey StopMckinsey stopimpunite StopExtrêmeDroite StopExtremeDroite StopCrack93 StopChasse STOP StephaneHessel Stéphane Stellantis STCO StartUpNation startup stage stadedefrance squatteurs SputnikInterview Sputnik sportive sport Spitzenkandidat species spatial SPACE2021 souveraineténumérique soutiensoignants SoutienFDO SoutienAuxSoignants SoutienAuxSansFac SoutienAuxPompiers SousMarins SousMarinGate sororite Sorare SophiePetronin sondeurs Sondages sondages sondage Sondage SommetElevage SommetBagdad Solidarność solidarite Solidarität Solidaridad solidale solidaires soignants soclecommun socialdémocratie SocialDemocrate SnowDay SNCF SMR SmartWater SiVisPacemParaBellum Sisterhood SiSeulement SIPC2021 SimoneVeil Shoah Shell Seychelles Sétif servir servicenational SermentDeRomainville SermentdeRomainville séparatisme Sentinelle senatoriales Senat Segur SecuriteGlobale securite Scotland SCOOP scléroseenplaques SciencesPo SciencePo Scandales ScandalePfizer SavignyleTemple SavignyLeTemple Saverne SauvonsLaFrance SauverLaFrance Sarcelles sapeurs SantExpo2021 SantéPublique santémentale SanteEnDanger Sante sanspapiers SansFacs Sanofi SamuelPaty salutaire salondupatrimoineculturel Sallaumines salaires salahabdeslam SaintSauveur SaintQuentin saintmedarddeguizieres SaintMax SaintLazare SaintLaurentSurSèvre SainteFoyLesLyon sagefemmecodenoir saccageparis SaccageParis saccagelaFrance saccageaparis Rwanda RVH2020 RuthElkrief2022 Russland Russia ruralite ruisselement Rugby RTLsoir RTLSoir RTLMatin RTL RTE RSAJeunes RSA RoyaumeUni RouteDuCafé Rouen Roubaix2021 Romainville Rojava RN134 RN RMC RichardBranson RIC Rhône rhinos revendication ReveillezVous Réussir2022 reussir2022 Reussir2022 retrofit RetraitesGate RestonsZenPP responsables Résistons Resistons Resistencia Resistance RESET reseauxsociaux RepubliqueEuropéenne RépubliqueEuropéene RepublicaEuropea RépressionPolicière ReprenonsLeContrôle RentréeSolennelleAssas rentreescolaire2021 rentreescolaire RentreeDeputesLR Rentrée2021 Rentree2021 Rentrée renouvelables RenouveauDémocratique Rennes renemalleville RendezVousPourLaFrance rendezvous rencontresJH RencontresJH Rencontres rencontreJH RenaultTruck Renault RenaulFlins RenaudRemigration Renaison RemiFraisse RemembranceDay Réindustrialiser réindustrialisation RegionSolidaire regions Régionales2021 regionales2021 Regionale2021 region RefuserLaMisère réformisme réformer reformedesretraites refondations2022 RéférendumImmigration Référendum Referendum Redondation2022 reconfinement Recherche recherche rechauffement RDLS147 RC2021 RBLPSG rassemblement rapportSauve Raoult RamyShaath Rambouillet RadioPeyi RadioMaïsto RadioClassique radio rachidaboukris RachidaBoukris RaceToZero racaille quotidien Qui QuestceQueVousFaitesDuPognon QueDeLaCom Quartararo QualiteDeLAir QOSD Qatar QAG pyrénéesatlantiques PV Puylaurens putschistes pupilles Punchline pullgate publicsenat psychologuespsychothérapeutes psychologuescliniciens psychologues PST Psa PSA PS provocation Provence protectionanimale Promenades prolongation projets ProgrammeDesProgrammes ProgrammeAEC profits professionnels productionnationale proces13Novembre2015 proces13novembre Proces_Sankara prixnobel PrixNobel PrincipesRepublicains PrimairePopulaure PrimairePopulaire PrimaireEcologiste Priem presse Présidentielles2022 présidentielles presidentielles Présidentielle2002 PresidentDesRiches Premierministre PrécaritéÉnergétique PrécaritéEnergétique PPLAnimaux PPL PPDA Poutine Poussay PourLeRassemblement Poudroux potentiel Poteau Port PontdesTrous pompiers Polynésie Polska Pologne politiques PolitiquementVôtre policiers policeproximite Polexit pôleemploi Poitiers PognonDeDingue poète podcast pma PlusPourLesFrançais PlusPourLesFrancais PlusBelleLaPoliyique PlusBelleLaPolitique PlumeNoire PLFSS2022 Pleurtuit PlanTourisme PlanFinanceClimat planète PlanBastille placedarmes PJLProtectionEnfance pjlprotectiondesenfants PJLClimat Pinera pierremenes Pierrefite Picardie picard photography PfizerGate Pfizergate Pfizer Pétronin Petain Pesquet Perspectives PerrosGuirec PernesLesFontaines périphérique PereOlivierMaire people Pegasus pédocriminalité pedocriminalité Pedocriminalite PCF PaysDuTiersMonde PaysBas PawlaAdamowicza PawelAdamowicz patchwork PasUnPoissonDAvril PasToucheAuxEnfants passvacinal passedelahonte PassDeLaHonte PasDeVague PasDeClimatPasDeMandat PasAntivaxProLiberté PasAntivaxMaisProLiberté PartiAnimaliste parrainages ParlonsDroitDuTravail parlementaires ParlamentoEuropeo ParisRoubaixFemmes Paris20 Paris18 Paris15 Paris12 paris11septembre Paris11septembre Paris11 Paris10 Paris ParayleMonial parasitisme Paralympics ParadisFiscaux Papon Pape Papacito Pantheon PandoraPapers PanamaPapers Palestiniens palestiniennes Palaiseau pacifique PACEEurope PACEeurope PaceEuropae PaceEuropa PACEenCabourg PACE2019 PACE PAC P5 Oyonnax OùVaLePognon OutreMer ourcq Ouighours OuiAuSecretMedical OuiAlaLiberté OuiALaLiberté Oubrou Ouagadougou otage Orléans Orleans OrangeArmy Orange OQTF opportunistes opportuniste Opportunisme opportunisme ontilsditçà onNousCacheTout OnNeLacheRien Onnaing OnFaitAutrement OnEstEnsemble OnEnPeutPlus OMS OMPSG OMPE OlivierMaire OlivierFaure Olive OhWait ofcourselemans oeuf OEED océans occitanie Occitanie Obywateli Numerique nucléaires nucleaire NouvelleCalédonie NouvelleCaledonie NouvelleAquitaine NousSachons NousPresidents nousprésidentes NousFrance NousEtudiantEsHandiEs NousCitoyens NotreDameDeParis NotreDame Normandie NoPasaran NonAuPasseDeLaHonte NonAuPassDeLaHonte NonAuMasqueScolaire NOHA NOBASSARAN Nimes Nice06 Nice NeverForget NeuillysurSeine Netanyahou neonmag NeJamaisRenoncer nejamaisoublier NeJamaisOublier négaWatt2022 NegaWatt NeFaisonsXV nazisme Navalny NavalGroup nations NationEducative Nationalisten Narbonne Napoleon Nantes Nantais NanMaisHo Nancy mytho Mutualite municipaux Municipales2020 MumiaAbuJamal Mozambiquemassacre MouvementEcologisteIndependant mourirpourTaïwan motoGP MotoGP mosquee MorièreslèsAvignon MorettiDemission MorandiniLive Montreuil montpellier2 Montpellier Montgeron Montbrison Montauban Monprojet Monnerville Monguillot monde modecirculaire MLP MLaFrance Mitterrand MissionAlpha MireilleKnoll Mirail milliardaires Millevaches Milipol2021 migrazione migrationskrise migration Migration migrant MIFExpo mif2021 MiF MIF MichelFontaine MichauxChevry MHAN Mexico Mexicanos Metz MeTooTheatre MeToo Messe Merkel Ménard MeilleurePOL MeeTooPolitique MeetingLille meeting mediator médias Medef medecine médailles mbougarsarr MBF Mayotte mauvaisefoi Maubeuge Matinale matinale Martinique Marseille Maroc MarieClaire mariagepourtous MaPolitiqueDuLogement mans Mans manifs6novembre Manifs6novembre Manifs4septembre Manifs30octobre Manifs2octobre Manifs28aout manifs23octobre Manifs21aout manifs20Novembre Manifs14aout manifs13novembre manifs13Novembre ManifPolice manifestions manifestations manifestation14aout manifestation manifestants manif7aout Manif24juillet manif18septembre manif17juillet manif14aout Malraux Mali maladiesilencieuse Maisqui MaisonsAlfort maire MaineetLoire mai68 MagieDuCouscous Maghreb mafrance MaFrance Madrid madeinFrance MadeInFrance madeinfrance MadeinFrance lyon Lyon lycee Lybie LutterContreLeTerrorisme LutteOuvrière Lubrizol LSF LREM LR LowCarbonFrance Lourmarin Lourdes LouiseMichel Louhans Londres London Loiseau Loiret loiMolac LoiMolac logementsocial LO livre listes Lisieux LionelMessi linstantPoL Limoges Lille LigueDesNations LigneP LigneDroite LibresCommeLArt librairies liberticides liberticide libertedelapresse liberte Liberte liberezMumia Liban LHForum LH lgf LGBTI LGBT LFI LeVraiBilan LesVraiesVoix LesMatinsLCI LesHirondelles LeSermentDeRomainville LesCovidistesOntQuittéLeGenreHumain LesAnimauxComptent Les4V Les4v les3dindes Leray LePontet LePerche LePassDeLaHonte LeMonde LeMans24 lemans LeMans LeHavre legrandrdv LeGrandRDV LeGrandJury LeGrandDébatLCI LeGrandDebatLCI LeGrandDébat legislatives2022 LegislativeArgentine légionnaires legionarios LeDebatdelaDroite lecture LeBilletDeCharline LeBarbierduMatin Le79Inter le79inter le79Inter le69Inter Le20hdeDariusRochebin LE13H Le LDH LCI LCC2022 Lavaur Laupretre LaUneTv LaREM LaPoste Lannemezan languesrégionales languesregionales Landes lanceursdalerte Lanceursdalerte LanceursDalerte lanceursalertes LancementDeCampagne LaMatinaleWE LaMatinale LalondelesMaures Lallement Laillé Laguiole LaGrandeTransformation LaFranceNouvelle LaFranceNotreAvenir LaFrancedesterritoires LAffaireDuSiecle LaDragonne LaChipsFrançaise LaChasseCetteImposture LaBaule2021 LaBaule La26 Kuzmanovic Kurds Kurdistan Kurdes Koweït Koweit Kourou Kosovo Kommission Kohler KohLanta2022 Knoll Kiyv kindnessmatters kindness Kiev kérosene KBM Kandidat KabulAiport Kaboul JusticeSociale JusticePourFouad JusticePourAdama JusticeEnvironnementale justiceClimat justice JusteMilieu Jussieu JulianAssange jugementmajoritaire JugementMajoritaire juge JT20H JourneesDuPatrimoine JournéeMondialeDuRefusDeLaMisère JourneeMondialeDuRefusDeLaMisere JournéeMondialeDesAnimaux JourneeMondialeDeLautisme JourneeInternationaleDesDroitsDesFemmes JournéeContrePrécaritéEnergétique Journalisme journalisme JOTokyo JosephineBaker JOPTokyo2021 JOP2024 JOP2021 JoeBiden JO2024 JO JMLaFrance jmh2019 JL2022 JFP2022 JeuxParalympiques Jeunesse jeunesse jeunesFrançais jeunes jesoutiensmalibrairie jesoutienslachasse JeSoutiensDiVizio Jerusalem Jersey JEP2021 JeNeSuisPasUnRhinocéros JeMeFatigue Jefferson JeffBezos JeanCastex JDCJDR JDC2021 JANSEN Izabela IVG Ivermectine IUCNcongress Italien Italie Italia IsraelTerrorist IsraelPalestine israéliens Israelien Israël Israel isolement islamophobie islamistes Islamist Islam islam isegoria irréaliste Iran Invité intimidation interview interreg InternationalDemocracyDay Insurrection Instagram Insolite inondations innovation InnovateursDemocratiques infirmiers infirmieres IndexationDesSalaires indexation IndemnitéInflation indemniteinflation inauguration ImpuniteZero ImpressionsEtLignesClaires IkeaDiscrimine IHSAconference ignorance idrissdeby IDI IDF idées ID ICICESTPARIS IbisBatignolles IanBrossat hydrogène Hydrogene hydroélectriques humanity humanitarian humanistes humanidad human Hubgrade HubertGermain Horizons hôpitaux hopitaux hopitalpublicencrise hopitalpublic hôpital hopital Hopital Honte honnisoitquimalypense Hongrie homosexualité homophobie Homophobe hommes hijab HiAP heritage Hercules HéninBeaumont HeninBeaumont Hémicycle hellas healthcare hdpros2 hdpros Hdpros HDP Hazebrouck Havre hautsdefrance HauteVienne Hautegaronne HauteGaronne HasardLudique harkis Hardelot Hapsatou Handicap handicap Hamel Halloween HaitiSOS Haïtiens Haïti Haiti gvt Guyane Guillotière Guadeloupe Grignon grevesncf grèves GreveGenerale greve5octobre greve23septembre Grenzkontrolle Grenoble greenwashing GREENNEWDEAL GreenHub GrandRemplacement GrandRDV GrandMatinSudRadio grandjury grandecausenationale GranddebatLCI granddebat Gradignan GOPÉ Goodvest Goncourt2021 Goncourt Glucksmann GlobalCitizenLive GlasgowCop26 Glasgow GiseleHalimi GiscardDEstaing Gironde GiletsJaunesSaison2 GiletJaunes GGRMC Germinal Georgie GeorgesBrassens GeorgeFloyd genre GénocideArménien Generaux GeneralElectric généraldeGaulle GDS Gdansk GazaUnderAttak Gaza gaz gaspillagealimentaire Gascogne Galileo Gajac G20 frontieres FrontContreLeRacisme FroidChezSoi Frieden FrexitVite Freund FrèresMusulmans FrenchTech French FreeUyghurs FreeRamyShaath FreeGeorgesAbdallah FreeAssangeNOW FreeAssange freearroibaraket FreeAbdallah fraudefiscale Fraternité FRANZL Francia Franceunité franceses FranceLibre FranceInter franceinter FranceIndustrie FranceEspagne France2030 France2 France1970 France français Français francais Francais Françafrique FRAKAZ FRAGEO FRAESP FRAARG FRAAFS Foutriquet Fouad fossiles ForumPhilo formation ForfaitMobilitésDurables foreveryoung forêts ForetAfriqueParis2021 ForeignLegion ForceCitoyenne football food Fontainebleau Fonderie FoireDeChalons FoiredeChalons FNTV FN Fluvoxamine FluctuatNecMergitur FlatTax flambée Flamanville FinDuMois FinDeVieLibre FindeVie FinDeVie Financeverte filrougeAFH Figaro FierteFrancaise FiersdetreBleus FiersDeNotrePatrimoine FiereDeNosEleveurs Fiat fiasco FI FFcasuffit FeuilleDePaye Fetedutravail FeteDelHumanite fesses Fessenheim femmes féministes féministe FED2021 FDE2021 FDD Fauci Fassadeneuropäer FARTGATE familles faiteslire FaitesLire fainéants Facebook facebook Facealinfo FaceàLaRue FaceALaRue fabioquartararo FA22 EZ extrémistes extrêmedroite ExtremeDroite ExtraLocal Exposition examens Évêques euthanasie eurovision Eurovision Eurotunnel EuropeMatin Europefédérale européennes2019 Europeennes2019 Europeennees2019 européen Europeen Europeans EuropeanRepublic Europe1 Europe EuropaMachen EuropäischeRepublik Europäischen Europäische Europäer Europa EureetLoir EUFarmToFork EUCO EU EtudiantsEnDetresse étudiants etudiant EtatsUnis ÉtatsGénérauxDeLaJustice Étatprovidence etatdurgence Étatdedroit essentiels EssayezLaDémocratie Espoir espoir ESPFRA Españoles España Espana Espagne espace Espace Erika Erdogan Erasmus equipedefrance équiéconomie EPR Epinal éoliennes eolien entretiens entretienexclusif EnTouteFranchise EnsembleOnVaGagner EnsembleOnVaChangerLEurope ensemble Ensemble enseignement enseignant ensauvagement EnMêmeTemps EnMarche EnlevezmoiPhotoshop EnlevezMoiPhotoshop England engagement EnfantsPlacés enfants énergies Energies energie Energie Energétique emplois EmmanuelCueff EmiratsArabesUnis EmiliaRomagnaGP émancipation Élysée2022 Elysée2022 Élysee2022 Elysée Elevage électricité electricite ElectionsUE19 electionsregionales2021 électionsrégionales Electionsrégionales ElectionsRegionales ElectionsEuropeennes2019 Elections2022 Elections2019 ElectionPrésidentielle élection2022 Election2019 Elecciones2019 Eiffel Egypte eglise Egalité egalite effetssecondaires EELV éducationpopulaire education EDF ecprgc21 Écoute economiecirculaire écologistes EcologieDesSolutions Ecologie Ecoles éboueurs EauDeMetz eau E1Matin DupontMoretti DumpingSocial Duchere Drouet Drôme DroitsSociaux Droits droite droitalinfo drancy Drancy Doubs Douai doityourself documentaire Djokovic Dividendes dissolution discothèques directHDF DirectCitoyens Directcitoyens DirectAN Dionis Dinah DimPolBourgogne DimPol DIMPOL Dimpol DimancheEnPolitique dimanche Dijon DignitePourTous Dieppe DictatureEnMarche DeveloppementDurable developpement DettePublique DesHautsEtDébats DeRien derekchauvinisguilty deputes departementales2021 departementales Demokratie democratons democratiedirecte democratie DemocracyDay Democracy demain délocalisation DeGaulle défilé defence Deconfinement Decentralisation Décapitation DeboutLesFemmes DebattreVraiment DebatLCI DebatBFMTV debat Debat debarquement DDay75 DauphineLibere Dassault DarmaninDemission Darmanin Dantzig Danjou DanielAuteuil Dalton cynisme cyclisme cyberwar CumExFiles culture Cueff CSA CroiséeDesChemins CroiseeDesChemins Cristel créativité créative CPF covoiturage CouvreFeu Cournon Corse CORONAVIRUS Copenhagen2021 cop26glasgow COP26Glasgow Cop21 COP cooperation Conversations ConventionDeLaDroite contrôlecontinu contrefaçon ContratEngagementJeune ContratDuSiecle constituante2022 ConseilConstitutionel congresnc19 CongresNC19 CongrèsHLM CongrèsDesMaires confrontation ConflansSaintHonorine Conflans confinement Conférence conference conditionanimale Compagnondelaliberation Communiqué communauté communalisme Commonwealth CommissionEuropéenne commissiondéfense CommentCaMarcheLeParlement CombsLaVille combat ComAfEco Colombey Colombes Colmar collégiens collectifécolesMarseille cohesion codenoir CodeNoir CNSPF2021 CNR CNews CNEWS CNDP Cloud ClimateAction ClickAndCollect Clhebdo ClermontFerrand ClaudeAlphandery CJUE CJR Citizens cinemaélectoral chroniqueur Christianophobie Christchurch Chrischurch Chretiens Chomage Cholet Choisy chiche ChèqueInflation chequeinflation cheminots chef Chateauroux Chateaurenard chateaudun chateaubriant Chateaubriant chasseurs Chasseurs chasse Chasse Charvieu CharlieHebdo CharenteMaritime ChapellesurErdre chantilly ChampionsLeague Chalucet ChallengeAccepted CGT CEDHexit CEA CàVous CaVous cavalcade Cavaillon CauseAnimale catholique Castres castex20h Castex20h Castex Casteljaloux Cassonade cashinvestigation Carpentras Carousel cantines cantine Cannes cannabis Cannabis candidature candidats CandidatCitoyen candidat CanalSeineNordEurope Canada CampagneTER CameroneDay Camerone2020 Camerone CambioClimático Camarón Calvados Calanques Calais Caen Cabourg Buzyn BusinessObject burkini Bürgerinnen Bürger Burgat Budapest BTS BTP Bruxelles Brumath Brossat Bron Brives2021 Brive2021 BrigadesRouges brexit Brexit brevets Brevets Bretagne Brassens Bourges BourdinDirect Boulognesurmer Boudaud BouchesduRhône Borne bordelais Bordeaux Bonneval BonjourChezVous Bolsonaro Bolloré bolide Bluwal Blois blocpop BlocPop Blanquer blaisecampaore BlackLivesMatter BlackBloc Biodiversity BigPharma Bigard Biélorussie Bielorussie Biden Biarritz BFMTVSD BFMTV BFMStory BFMPolitique BFMBusiness BFM Béziers Beyrouth bêtise BerthoudCycle BernardTapie BernardArnault Benfeld benalla Benalla Beltrame Belmondo Belfort bekind Beethoven bébé Beauvernois BeauvauDeLaSecurite Beauvais BeatriceSigismeau Bayonne Bayeux Bataclan barrières Barkhane Barbès BarbaraPravi bamlanivimab BalDesFiertés BalanceTonRSA BalanceTonPost BaisseTaTVA baguette badminton Badminton Backstage Aznavour azf20ans Azerbaïdjan AW2022 Avrillé Avignon avenir AvecValérie AvecAnne Autriche autotests automobile Australie AugmentationDesSalaires AudricAlexandrePace Audiences audencia audace Auch Aubervilliers auberge AttentatsDu13Novembre attentats2015 attentats Attaqueterroriste Attal attack ATIH ASTRID Asterix Assomption assembleenationale Assange asile artisans Arte art ArrêtezDEmmerderLesFrançais Arras Arménie armée armee Ariane6 Ariane Argenteuil architecture ArcDeTriomphe Arcachon ArabieSaoudite arabe Arab Appelàtémoins APIMED APHP Aperocrates APAnnecy antisemitisme antiracistes antipass antijudaism Anne Animaux Angers Angela anarchistes anar Amiens AMF AmazonStPriest AlvanceWheels Alstom2 Alstom alSissi AlSissi Allonnes AllezLesBleus Allemagne AlimentationEquitablePourTous alimentation Aligre Algériens Algeriens Algérie Algerie AlexisKohler Alençon ALENCON Albi AKP AJPSEditor AIMF aide agriculteurs agribashing AgnesBuzyn AfriqueFrance Afrique AFP Afghanistan Afghanishtan AffaireKohler AESH AdrienTaquet ADP ADMD ActionPopulaire actionnaires Acides Abbeville AAH 9octobre 9novembre 9h22 8mars 8mai2021 8mai1945 8Mai1945 6juin 6emeRep 65ans 5octobre 5èVague 500parrainages 4V 4RCH 4èDose 3novembre9h22 3Novembre9h22 3Novembre9H22 3novembre 3èDose 2NovAdmd 2nov 24hLeMans 24HClimat 23OctobreLyon 20h30ledimanche 20h22 20h 2022lecologie 2022AvecVous 2022anneeCruciale 1erMai2021 1erMai 1erDeCordée 19eme 17octobre61 17octobre1961 17Mai 1607h 15août 15aout 14juillet2021 14Juillet2021 14juillet 14Juillet 13novembre2015 13Novembre2015 13novembre 13Novembre 12Juin 11septembre2001 11septembre 11novembre1918 11novembre 11Novembre 10Mai1981 10HeuresMidi 109Mariannes 100euros 100ansBrassens\"\"\"\n",
    "# We do not \"clean\" hashtags_lexicon to keep numbers\n",
    "hashtags_lexicon_list = word_tokenize(hashtags_lexicon)"
   ]
  },
  {
   "cell_type": "code",
   "execution_count": 34,
   "id": "538d50a1",
   "metadata": {},
   "outputs": [],
   "source": [
    "# Manually add \"laRemontada\"\n",
    "candidates_references = \"\"\"laRemontada UnCitoyenPourPrésident PLF2022 LesRépublicains LaRemontafa JeRejoinsHorizons MelenchonRennes LaDroiteAvecZemmour FabienRoussel2022 fabienroussel2022 DirectZemmour 5ansdeplus ProgrammeMélenchon ProgrammeMelenchon NousToutesAvecZemmour AnneHidalgo AnasseKazib2022 ZemmourVsMelenchon ZemmourTaddei ZemmourSecondTour ZemmourEric Zemmour2022 Zemmour zemmour yjadot xavierbertrand waechter2022 Waechter2022 Waechter Waecher2022 Vukuzman vpecresse VictoireZemmour victoiremelenchon UPR_Asselineau TeamCiotti soutienAnasseKazib SLeFoll SilenceZemmour roussel2022 Roussel2022 Roussel Rocca22 rocca2022 Remontada REMONTADA regis_ollivier refondation2022 Refondation2022 PropagandeZemmour poutou2022 Poutou2022 Poutou PoissonZemmour PhilippePoutou philippejuvin Pécresse2022 Pecresse2022 Pécresse Payre NiMacronNiLePen n_arthaud Montebourg montebourg MLP_officiel MichelBarnier2022 MichelBarnier MelenchonVsZemmour MelenchonTF1 MélenchonLille MelenchonLille MelenchonESSEC MelenchonEconomie MelenchonBFMTV Mélenchon Melenchon mazuel2022 Mazuel2022 MAZUEL_Pace MartinRocca12 Martinez MarineLePen mariecau MarCharlott MacronMenteur macronie Macronie MacronDehors Macron20hDictature macron20h Macron20h macron Macron luclaf LesFemmesAvecZemmour LePen Lazzarini2022 larrouturou laremontada LaRemontada LaReMontada Laremontada Juvin JLMelenchon jfpoisson78 JFPoisson2022 JeVoteBarnier JeSoutiensZemmour jeanlassalle2022 JeanLassalle2022 jeanlassalle202 Jeanlassalle JeanLassalle jeanlassalle Jadot2022 Jadot JaclineMouraud Hidalgo2022 Hidalgo HélèneThouy2022 HeleneThouy2022 HeleneThouy gilleslazzarini gerardfiloche GenerationHidalgo GénéralMartinez2022 GénéralMartinez FabriceGrimal Fabien_Roussel f_philippot EricZemmour EPhilippe_LH EmmanuelMacron ECiotti dupontaignan DenisPayre ClaraEgger1 Ciotti2022 Ciotti Cau_Marie_ Bertrand Barnier2022 Barnier AvecJuvin AvecJadot AvecCiotti Asselineau AntoineWaechter ANTOINEWAECHTER antoine27955080 Anne_Hidalgo AnasseKazib anasse2022 Anasse2022 AlloMélenchon AlloMelenchon AlexLanglois_ AlexandreLanglois2022 AguebPorterie\"\"\"\n",
    "candidates_references_list = word_tokenize(candidates_references)\n",
    "candidates_references_clean_list = word_tokenize(text_cleaner(candidates_references))"
   ]
  },
  {
   "cell_type": "markdown",
   "id": "e1eb9b6d",
   "metadata": {},
   "source": [
    "- Join every lexicon and be sure that we don't have duplicates"
   ]
  },
  {
   "cell_type": "code",
   "execution_count": 35,
   "id": "ee2671b5",
   "metadata": {},
   "outputs": [],
   "source": [
    "all_lexicons_registered = list(set(political_lexicon_list + political_lexicon_clean_list + ecology_lexicon_list + ecology_lexicon_clean_list + economic_lexicon_list + economic_lexicon_clean_list + extrem_lexicon_list + extrem_lexicon_clean_list  + health_lexicon_list + health_lexicon_clean_list + work_lexicon_list + work_lexicon_clean_list + security_lexicon_list + security_lexicon_clean_list + purchasing_power_lexicon_list + purchasing_power_lexicon_clean_list + candidates_references_list + candidates_references_clean_list + candidates_pseudo_list  + hashtags_lexicon_list))"
   ]
  },
  {
   "cell_type": "markdown",
   "id": "d7381904",
   "metadata": {},
   "source": [
    "### Check the new hashtags and append them to lexicons if necessary"
   ]
  },
  {
   "cell_type": "code",
   "execution_count": 36,
   "id": "200f40bf",
   "metadata": {},
   "outputs": [
    {
     "name": "stdout",
     "output_type": "stream",
     "text": [
      "We have 53 new unique hastags which are:\n"
     ]
    }
   ],
   "source": [
    "new_hashtags = []\n",
    "\n",
    "for hashtags_list in last_tweets_df[\"hashtags\"]:\n",
    "    for hashtag in hashtags_list:\n",
    "        if hashtag in all_lexicons_registered:\n",
    "            pass\n",
    "        else:\n",
    "            new_hashtags.append(hashtag)\n",
    "\n",
    "unique_hashtags = sorted(set(new_hashtags))\n",
    "print(f\"We have {len(unique_hashtags)} new unique hastags which are:\")"
   ]
  },
  {
   "cell_type": "code",
   "execution_count": 37,
   "id": "2f829c40",
   "metadata": {
    "scrolled": true
   },
   "outputs": [
    {
     "data": {
      "text/plain": [
       "['25Novembre',\n",
       " '3emeDose',\n",
       " '3ème',\n",
       " '5eVague',\n",
       " '6eRépublique',\n",
       " 'AstraZeneca',\n",
       " 'B',\n",
       " 'B11529',\n",
       " 'Batho',\n",
       " 'Carqueiranne',\n",
       " 'Cognin',\n",
       " 'Dignite',\n",
       " 'EHPAD',\n",
       " 'FACEaBFM',\n",
       " 'FaceABFM',\n",
       " 'FerroPem',\n",
       " 'GenerationMelenchon',\n",
       " 'GiletJaune',\n",
       " 'Isère',\n",
       " 'JournéeMondialeContreLeFoieGras',\n",
       " 'LKP',\n",
       " 'LeJT',\n",
       " 'LeProgrammeDesProgrammes',\n",
       " 'LesFemmesAvecMarine',\n",
       " 'Libertédecirculation',\n",
       " 'Macon',\n",
       " 'Medias',\n",
       " 'MeetingParis',\n",
       " 'Melenchon2022',\n",
       " 'MelenchonPresident',\n",
       " 'NeRienLaisserPasser',\n",
       " 'ONF',\n",
       " 'Peripherique',\n",
       " 'Portugal',\n",
       " 'Savoie',\n",
       " 'TouchezPasAuxEnfants',\n",
       " 'Variant',\n",
       " 'Villeurbanne',\n",
       " 'ViolencesFaitesAuxFemmes',\n",
       " 'Wazemmes',\n",
       " 'avenirencommun',\n",
       " 'blackfriday',\n",
       " 'créolisation',\n",
       " 'greffiers',\n",
       " 'justicepouribo',\n",
       " 'livreblanc',\n",
       " 'magistrats',\n",
       " 'metallurgie',\n",
       " 'métallurgie',\n",
       " 'paris13',\n",
       " 'plusjamaisça',\n",
       " 'transitionecologique',\n",
       " 'Àlairlibre']"
      ]
     },
     "execution_count": 37,
     "metadata": {},
     "output_type": "execute_result"
    }
   ],
   "source": [
    "unique_hashtags"
   ]
  },
  {
   "cell_type": "markdown",
   "id": "6258d414",
   "metadata": {},
   "source": [
    "### Define a function to create a df with a lexicon score per user"
   ]
  },
  {
   "cell_type": "markdown",
   "id": "1ea06faa",
   "metadata": {},
   "source": [
    "#### Store all the lexicons in a dictionary"
   ]
  },
  {
   "cell_type": "code",
   "execution_count": 160,
   "id": "4a15452a",
   "metadata": {},
   "outputs": [],
   "source": [
    "lexicon_themes = {\"Politique\": political_lexicon_clean_list, \"Actualité\" : hashtags_lexicon_list, \"Candidats\": candidates_references_clean_list, \"Travail\":work_lexicon_clean_list, \"Santé\":health_lexicon_clean_list, \"Economie\":economic_lexicon_clean_list, \"Sécurité\":security_lexicon_clean_list, \"Extrême\":extrem_lexicon_clean_list, \"Ecologie\": ecology_lexicon_clean_list, \"Pouvoir_achat\": purchasing_power_lexicon_clean_list}"
   ]
  },
  {
   "cell_type": "markdown",
   "id": "88c0c7ab",
   "metadata": {},
   "source": [
    "#### Save the lexicon_themes"
   ]
  },
  {
   "cell_type": "code",
   "execution_count": 161,
   "id": "bc03110c",
   "metadata": {},
   "outputs": [],
   "source": [
    "np.save('lexicon_per_theme_dict.npy', lexicon_themes) "
   ]
  },
  {
   "cell_type": "markdown",
   "id": "104b83cf",
   "metadata": {},
   "source": [
    "#### Define the function"
   ]
  },
  {
   "cell_type": "code",
   "execution_count": 82,
   "id": "1a1a619e",
   "metadata": {},
   "outputs": [],
   "source": [
    "def lexicon_score_per_user(df, lexicon_themes):\n",
    "    \"\"\"Return a DataFrame scoring each tweet contents above a list of lexicon themes\"\"\"\n",
    "    # Store the users in a list\n",
    "    list_of_users = list(df[\"user\"].unique())\n",
    "\n",
    "    # Create a list to store each future row of the DataFrame\n",
    "    user_scores = []\n",
    "\n",
    "    # For each user\n",
    "    for user in list_of_users:\n",
    "        # Define a dictionary to store the score per lexicon per user\n",
    "        lexicon_scores = {\"user\" : user}\n",
    "        \n",
    "        # Generate a score at zero for each theme\n",
    "        for theme, lexicon in lexicon_themes.items():\n",
    "            lexicon_scores[theme] = 0           \n",
    "        \n",
    "        # Extract his/her tweets\n",
    "        user_tweets = list(df[df[\"user\"]==user][\"text\"])\n",
    "        # Then tokenize each tweet to analyze its content\n",
    "        for tweet in user_tweets:\n",
    "            if theme == candidates_pseudo:\n",
    "                tokenized_tweet = tweet\n",
    "            else:\n",
    "                tokenized_tweet = word_tokenize(tweet)\n",
    "        \n",
    "            # For each word\n",
    "            for word in tokenized_tweet:\n",
    "                # Is it part of one of the lexicons?\n",
    "                for theme, lexicon in lexicon_themes.items():\n",
    "                    if word in lexicon:\n",
    "                        lexicon_scores[theme] += 1\n",
    "        \n",
    "        # Finally, append the user and its score per theme to user_scores\n",
    "        user_scores.append(lexicon_scores)\n",
    "\n",
    "    # Convert list to DataFrame\n",
    "    lexicon_score_per_user_df = pd.DataFrame(user_scores)\n",
    "    # Add political orientation\n",
    "    lexicon_score_per_user_df = pd.merge(left = lexicon_score_per_user_df, \n",
    "                                         right = df[[\"user\", \"name\", \"political_orientation\"]], \n",
    "                                         on = 'user', \n",
    "                                         how = 'left')\n",
    "    # Drop duplicates due to merge just before\n",
    "    lexicon_score_per_user_df = lexicon_score_per_user_df.drop_duplicates().reset_index(drop=True)\n",
    "    \n",
    "    return lexicon_score_per_user_df"
   ]
  },
  {
   "cell_type": "markdown",
   "id": "dfa5db81",
   "metadata": {},
   "source": [
    "#### Apply it to df_ready_for_nlp"
   ]
  },
  {
   "cell_type": "code",
   "execution_count": 162,
   "id": "e9a8ffc4",
   "metadata": {},
   "outputs": [],
   "source": [
    "lexicon_score_per_user_df = lexicon_score_per_user(df=df_ready_for_nlp, lexicon_themes=lexicon_themes)\n",
    "# lexicon_score_per_user_df"
   ]
  },
  {
   "cell_type": "markdown",
   "id": "a9a20526",
   "metadata": {},
   "source": [
    "## Save df_ready_for_nlp and lexicon_score_per_user to use it on the repo"
   ]
  },
  {
   "cell_type": "code",
   "execution_count": 163,
   "id": "c0d9f72c",
   "metadata": {},
   "outputs": [],
   "source": [
    "df_ready_for_nlp.to_csv(\"df_ready_for_nlp.csv\")\n",
    "lexicon_score_per_user_df.to_csv(\"lexicon_score_per_user_df.csv\")"
   ]
  },
  {
   "cell_type": "markdown",
   "id": "85c37f70",
   "metadata": {},
   "source": [
    "# Design for deployment"
   ]
  },
  {
   "cell_type": "markdown",
   "id": "1cb66ed7",
   "metadata": {},
   "source": [
    "## Sujets dont les candidats parlent (score natio par thème)"
   ]
  },
  {
   "cell_type": "code",
   "execution_count": 48,
   "id": "5f55fc16",
   "metadata": {},
   "outputs": [],
   "source": [
    "def national_score_per_theme():\n",
    "    \"\"\"\n",
    "    Returns a horizontal bar chart with the total number of time every candidates has used a word from one of the themes\n",
    "    \"\"\"\n",
    "    # Retrieve columns unusefull columns from lexicon_score_per_user_df\n",
    "    national_score_per_theme = lexicon_score_per_user_df.drop(columns=[\"user\", \"name\", \"political_orientation\"])\n",
    "    # Compute the total score for each theme and sort the result for a good visualization\n",
    "    national_score_per_theme = national_score_per_theme.cumsum().iloc[-1].sort_values()\n",
    "\n",
    "    # Define the horizontal bar chart\n",
    "    fig = go.Figure(go.Bar(\n",
    "                x=national_score_per_theme.values,\n",
    "                y=national_score_per_theme.keys(),\n",
    "                orientation='h'))\n",
    "\n",
    "    return fig.show()"
   ]
  },
  {
   "cell_type": "code",
   "execution_count": 119,
   "id": "cb1dbed2",
   "metadata": {
    "scrolled": true
   },
   "outputs": [
    {
     "data": {
      "application/vnd.plotly.v1+json": {
       "config": {
        "plotlyServerURL": "https://plot.ly"
       },
       "data": [
        {
         "orientation": "h",
         "type": "bar",
         "x": [
          416,
          644,
          699,
          1531,
          1681,
          1952,
          2089,
          2805,
          7224,
          7233
         ],
         "y": [
          "Pouvoir_achat",
          "Extrême",
          "Ecologie",
          "Sécurité",
          "Economie",
          "Santé",
          "Travail",
          "Candidats",
          "Politique",
          "Actualité"
         ]
        }
       ],
       "layout": {
        "template": {
         "data": {
          "bar": [
           {
            "error_x": {
             "color": "#2a3f5f"
            },
            "error_y": {
             "color": "#2a3f5f"
            },
            "marker": {
             "line": {
              "color": "#E5ECF6",
              "width": 0.5
             },
             "pattern": {
              "fillmode": "overlay",
              "size": 10,
              "solidity": 0.2
             }
            },
            "type": "bar"
           }
          ],
          "barpolar": [
           {
            "marker": {
             "line": {
              "color": "#E5ECF6",
              "width": 0.5
             },
             "pattern": {
              "fillmode": "overlay",
              "size": 10,
              "solidity": 0.2
             }
            },
            "type": "barpolar"
           }
          ],
          "carpet": [
           {
            "aaxis": {
             "endlinecolor": "#2a3f5f",
             "gridcolor": "white",
             "linecolor": "white",
             "minorgridcolor": "white",
             "startlinecolor": "#2a3f5f"
            },
            "baxis": {
             "endlinecolor": "#2a3f5f",
             "gridcolor": "white",
             "linecolor": "white",
             "minorgridcolor": "white",
             "startlinecolor": "#2a3f5f"
            },
            "type": "carpet"
           }
          ],
          "choropleth": [
           {
            "colorbar": {
             "outlinewidth": 0,
             "ticks": ""
            },
            "type": "choropleth"
           }
          ],
          "contour": [
           {
            "colorbar": {
             "outlinewidth": 0,
             "ticks": ""
            },
            "colorscale": [
             [
              0,
              "#0d0887"
             ],
             [
              0.1111111111111111,
              "#46039f"
             ],
             [
              0.2222222222222222,
              "#7201a8"
             ],
             [
              0.3333333333333333,
              "#9c179e"
             ],
             [
              0.4444444444444444,
              "#bd3786"
             ],
             [
              0.5555555555555556,
              "#d8576b"
             ],
             [
              0.6666666666666666,
              "#ed7953"
             ],
             [
              0.7777777777777778,
              "#fb9f3a"
             ],
             [
              0.8888888888888888,
              "#fdca26"
             ],
             [
              1,
              "#f0f921"
             ]
            ],
            "type": "contour"
           }
          ],
          "contourcarpet": [
           {
            "colorbar": {
             "outlinewidth": 0,
             "ticks": ""
            },
            "type": "contourcarpet"
           }
          ],
          "heatmap": [
           {
            "colorbar": {
             "outlinewidth": 0,
             "ticks": ""
            },
            "colorscale": [
             [
              0,
              "#0d0887"
             ],
             [
              0.1111111111111111,
              "#46039f"
             ],
             [
              0.2222222222222222,
              "#7201a8"
             ],
             [
              0.3333333333333333,
              "#9c179e"
             ],
             [
              0.4444444444444444,
              "#bd3786"
             ],
             [
              0.5555555555555556,
              "#d8576b"
             ],
             [
              0.6666666666666666,
              "#ed7953"
             ],
             [
              0.7777777777777778,
              "#fb9f3a"
             ],
             [
              0.8888888888888888,
              "#fdca26"
             ],
             [
              1,
              "#f0f921"
             ]
            ],
            "type": "heatmap"
           }
          ],
          "heatmapgl": [
           {
            "colorbar": {
             "outlinewidth": 0,
             "ticks": ""
            },
            "colorscale": [
             [
              0,
              "#0d0887"
             ],
             [
              0.1111111111111111,
              "#46039f"
             ],
             [
              0.2222222222222222,
              "#7201a8"
             ],
             [
              0.3333333333333333,
              "#9c179e"
             ],
             [
              0.4444444444444444,
              "#bd3786"
             ],
             [
              0.5555555555555556,
              "#d8576b"
             ],
             [
              0.6666666666666666,
              "#ed7953"
             ],
             [
              0.7777777777777778,
              "#fb9f3a"
             ],
             [
              0.8888888888888888,
              "#fdca26"
             ],
             [
              1,
              "#f0f921"
             ]
            ],
            "type": "heatmapgl"
           }
          ],
          "histogram": [
           {
            "marker": {
             "pattern": {
              "fillmode": "overlay",
              "size": 10,
              "solidity": 0.2
             }
            },
            "type": "histogram"
           }
          ],
          "histogram2d": [
           {
            "colorbar": {
             "outlinewidth": 0,
             "ticks": ""
            },
            "colorscale": [
             [
              0,
              "#0d0887"
             ],
             [
              0.1111111111111111,
              "#46039f"
             ],
             [
              0.2222222222222222,
              "#7201a8"
             ],
             [
              0.3333333333333333,
              "#9c179e"
             ],
             [
              0.4444444444444444,
              "#bd3786"
             ],
             [
              0.5555555555555556,
              "#d8576b"
             ],
             [
              0.6666666666666666,
              "#ed7953"
             ],
             [
              0.7777777777777778,
              "#fb9f3a"
             ],
             [
              0.8888888888888888,
              "#fdca26"
             ],
             [
              1,
              "#f0f921"
             ]
            ],
            "type": "histogram2d"
           }
          ],
          "histogram2dcontour": [
           {
            "colorbar": {
             "outlinewidth": 0,
             "ticks": ""
            },
            "colorscale": [
             [
              0,
              "#0d0887"
             ],
             [
              0.1111111111111111,
              "#46039f"
             ],
             [
              0.2222222222222222,
              "#7201a8"
             ],
             [
              0.3333333333333333,
              "#9c179e"
             ],
             [
              0.4444444444444444,
              "#bd3786"
             ],
             [
              0.5555555555555556,
              "#d8576b"
             ],
             [
              0.6666666666666666,
              "#ed7953"
             ],
             [
              0.7777777777777778,
              "#fb9f3a"
             ],
             [
              0.8888888888888888,
              "#fdca26"
             ],
             [
              1,
              "#f0f921"
             ]
            ],
            "type": "histogram2dcontour"
           }
          ],
          "mesh3d": [
           {
            "colorbar": {
             "outlinewidth": 0,
             "ticks": ""
            },
            "type": "mesh3d"
           }
          ],
          "parcoords": [
           {
            "line": {
             "colorbar": {
              "outlinewidth": 0,
              "ticks": ""
             }
            },
            "type": "parcoords"
           }
          ],
          "pie": [
           {
            "automargin": true,
            "type": "pie"
           }
          ],
          "scatter": [
           {
            "marker": {
             "colorbar": {
              "outlinewidth": 0,
              "ticks": ""
             }
            },
            "type": "scatter"
           }
          ],
          "scatter3d": [
           {
            "line": {
             "colorbar": {
              "outlinewidth": 0,
              "ticks": ""
             }
            },
            "marker": {
             "colorbar": {
              "outlinewidth": 0,
              "ticks": ""
             }
            },
            "type": "scatter3d"
           }
          ],
          "scattercarpet": [
           {
            "marker": {
             "colorbar": {
              "outlinewidth": 0,
              "ticks": ""
             }
            },
            "type": "scattercarpet"
           }
          ],
          "scattergeo": [
           {
            "marker": {
             "colorbar": {
              "outlinewidth": 0,
              "ticks": ""
             }
            },
            "type": "scattergeo"
           }
          ],
          "scattergl": [
           {
            "marker": {
             "colorbar": {
              "outlinewidth": 0,
              "ticks": ""
             }
            },
            "type": "scattergl"
           }
          ],
          "scattermapbox": [
           {
            "marker": {
             "colorbar": {
              "outlinewidth": 0,
              "ticks": ""
             }
            },
            "type": "scattermapbox"
           }
          ],
          "scatterpolar": [
           {
            "marker": {
             "colorbar": {
              "outlinewidth": 0,
              "ticks": ""
             }
            },
            "type": "scatterpolar"
           }
          ],
          "scatterpolargl": [
           {
            "marker": {
             "colorbar": {
              "outlinewidth": 0,
              "ticks": ""
             }
            },
            "type": "scatterpolargl"
           }
          ],
          "scatterternary": [
           {
            "marker": {
             "colorbar": {
              "outlinewidth": 0,
              "ticks": ""
             }
            },
            "type": "scatterternary"
           }
          ],
          "surface": [
           {
            "colorbar": {
             "outlinewidth": 0,
             "ticks": ""
            },
            "colorscale": [
             [
              0,
              "#0d0887"
             ],
             [
              0.1111111111111111,
              "#46039f"
             ],
             [
              0.2222222222222222,
              "#7201a8"
             ],
             [
              0.3333333333333333,
              "#9c179e"
             ],
             [
              0.4444444444444444,
              "#bd3786"
             ],
             [
              0.5555555555555556,
              "#d8576b"
             ],
             [
              0.6666666666666666,
              "#ed7953"
             ],
             [
              0.7777777777777778,
              "#fb9f3a"
             ],
             [
              0.8888888888888888,
              "#fdca26"
             ],
             [
              1,
              "#f0f921"
             ]
            ],
            "type": "surface"
           }
          ],
          "table": [
           {
            "cells": {
             "fill": {
              "color": "#EBF0F8"
             },
             "line": {
              "color": "white"
             }
            },
            "header": {
             "fill": {
              "color": "#C8D4E3"
             },
             "line": {
              "color": "white"
             }
            },
            "type": "table"
           }
          ]
         },
         "layout": {
          "annotationdefaults": {
           "arrowcolor": "#2a3f5f",
           "arrowhead": 0,
           "arrowwidth": 1
          },
          "autotypenumbers": "strict",
          "coloraxis": {
           "colorbar": {
            "outlinewidth": 0,
            "ticks": ""
           }
          },
          "colorscale": {
           "diverging": [
            [
             0,
             "#8e0152"
            ],
            [
             0.1,
             "#c51b7d"
            ],
            [
             0.2,
             "#de77ae"
            ],
            [
             0.3,
             "#f1b6da"
            ],
            [
             0.4,
             "#fde0ef"
            ],
            [
             0.5,
             "#f7f7f7"
            ],
            [
             0.6,
             "#e6f5d0"
            ],
            [
             0.7,
             "#b8e186"
            ],
            [
             0.8,
             "#7fbc41"
            ],
            [
             0.9,
             "#4d9221"
            ],
            [
             1,
             "#276419"
            ]
           ],
           "sequential": [
            [
             0,
             "#0d0887"
            ],
            [
             0.1111111111111111,
             "#46039f"
            ],
            [
             0.2222222222222222,
             "#7201a8"
            ],
            [
             0.3333333333333333,
             "#9c179e"
            ],
            [
             0.4444444444444444,
             "#bd3786"
            ],
            [
             0.5555555555555556,
             "#d8576b"
            ],
            [
             0.6666666666666666,
             "#ed7953"
            ],
            [
             0.7777777777777778,
             "#fb9f3a"
            ],
            [
             0.8888888888888888,
             "#fdca26"
            ],
            [
             1,
             "#f0f921"
            ]
           ],
           "sequentialminus": [
            [
             0,
             "#0d0887"
            ],
            [
             0.1111111111111111,
             "#46039f"
            ],
            [
             0.2222222222222222,
             "#7201a8"
            ],
            [
             0.3333333333333333,
             "#9c179e"
            ],
            [
             0.4444444444444444,
             "#bd3786"
            ],
            [
             0.5555555555555556,
             "#d8576b"
            ],
            [
             0.6666666666666666,
             "#ed7953"
            ],
            [
             0.7777777777777778,
             "#fb9f3a"
            ],
            [
             0.8888888888888888,
             "#fdca26"
            ],
            [
             1,
             "#f0f921"
            ]
           ]
          },
          "colorway": [
           "#636efa",
           "#EF553B",
           "#00cc96",
           "#ab63fa",
           "#FFA15A",
           "#19d3f3",
           "#FF6692",
           "#B6E880",
           "#FF97FF",
           "#FECB52"
          ],
          "font": {
           "color": "#2a3f5f"
          },
          "geo": {
           "bgcolor": "white",
           "lakecolor": "white",
           "landcolor": "#E5ECF6",
           "showlakes": true,
           "showland": true,
           "subunitcolor": "white"
          },
          "hoverlabel": {
           "align": "left"
          },
          "hovermode": "closest",
          "mapbox": {
           "style": "light"
          },
          "paper_bgcolor": "white",
          "plot_bgcolor": "#E5ECF6",
          "polar": {
           "angularaxis": {
            "gridcolor": "white",
            "linecolor": "white",
            "ticks": ""
           },
           "bgcolor": "#E5ECF6",
           "radialaxis": {
            "gridcolor": "white",
            "linecolor": "white",
            "ticks": ""
           }
          },
          "scene": {
           "xaxis": {
            "backgroundcolor": "#E5ECF6",
            "gridcolor": "white",
            "gridwidth": 2,
            "linecolor": "white",
            "showbackground": true,
            "ticks": "",
            "zerolinecolor": "white"
           },
           "yaxis": {
            "backgroundcolor": "#E5ECF6",
            "gridcolor": "white",
            "gridwidth": 2,
            "linecolor": "white",
            "showbackground": true,
            "ticks": "",
            "zerolinecolor": "white"
           },
           "zaxis": {
            "backgroundcolor": "#E5ECF6",
            "gridcolor": "white",
            "gridwidth": 2,
            "linecolor": "white",
            "showbackground": true,
            "ticks": "",
            "zerolinecolor": "white"
           }
          },
          "shapedefaults": {
           "line": {
            "color": "#2a3f5f"
           }
          },
          "ternary": {
           "aaxis": {
            "gridcolor": "white",
            "linecolor": "white",
            "ticks": ""
           },
           "baxis": {
            "gridcolor": "white",
            "linecolor": "white",
            "ticks": ""
           },
           "bgcolor": "#E5ECF6",
           "caxis": {
            "gridcolor": "white",
            "linecolor": "white",
            "ticks": ""
           }
          },
          "title": {
           "x": 0.05
          },
          "xaxis": {
           "automargin": true,
           "gridcolor": "white",
           "linecolor": "white",
           "ticks": "",
           "title": {
            "standoff": 15
           },
           "zerolinecolor": "white",
           "zerolinewidth": 2
          },
          "yaxis": {
           "automargin": true,
           "gridcolor": "white",
           "linecolor": "white",
           "ticks": "",
           "title": {
            "standoff": 15
           },
           "zerolinecolor": "white",
           "zerolinewidth": 2
          }
         }
        }
       }
      },
      "text/html": [
       "<div>                            <div id=\"42863b4f-4f97-4e4b-99b3-11b00ada66a7\" class=\"plotly-graph-div\" style=\"height:525px; width:100%;\"></div>            <script type=\"text/javascript\">                require([\"plotly\"], function(Plotly) {                    window.PLOTLYENV=window.PLOTLYENV || {};                                    if (document.getElementById(\"42863b4f-4f97-4e4b-99b3-11b00ada66a7\")) {                    Plotly.newPlot(                        \"42863b4f-4f97-4e4b-99b3-11b00ada66a7\",                        [{\"orientation\":\"h\",\"type\":\"bar\",\"x\":[416,644,699,1531,1681,1952,2089,2805,7224,7233],\"y\":[\"Pouvoir_achat\",\"Extr\\u00eame\",\"Ecologie\",\"S\\u00e9curit\\u00e9\",\"Economie\",\"Sant\\u00e9\",\"Travail\",\"Candidats\",\"Politique\",\"Actualit\\u00e9\"]}],                        {\"template\":{\"data\":{\"bar\":[{\"error_x\":{\"color\":\"#2a3f5f\"},\"error_y\":{\"color\":\"#2a3f5f\"},\"marker\":{\"line\":{\"color\":\"#E5ECF6\",\"width\":0.5},\"pattern\":{\"fillmode\":\"overlay\",\"size\":10,\"solidity\":0.2}},\"type\":\"bar\"}],\"barpolar\":[{\"marker\":{\"line\":{\"color\":\"#E5ECF6\",\"width\":0.5},\"pattern\":{\"fillmode\":\"overlay\",\"size\":10,\"solidity\":0.2}},\"type\":\"barpolar\"}],\"carpet\":[{\"aaxis\":{\"endlinecolor\":\"#2a3f5f\",\"gridcolor\":\"white\",\"linecolor\":\"white\",\"minorgridcolor\":\"white\",\"startlinecolor\":\"#2a3f5f\"},\"baxis\":{\"endlinecolor\":\"#2a3f5f\",\"gridcolor\":\"white\",\"linecolor\":\"white\",\"minorgridcolor\":\"white\",\"startlinecolor\":\"#2a3f5f\"},\"type\":\"carpet\"}],\"choropleth\":[{\"colorbar\":{\"outlinewidth\":0,\"ticks\":\"\"},\"type\":\"choropleth\"}],\"contour\":[{\"colorbar\":{\"outlinewidth\":0,\"ticks\":\"\"},\"colorscale\":[[0.0,\"#0d0887\"],[0.1111111111111111,\"#46039f\"],[0.2222222222222222,\"#7201a8\"],[0.3333333333333333,\"#9c179e\"],[0.4444444444444444,\"#bd3786\"],[0.5555555555555556,\"#d8576b\"],[0.6666666666666666,\"#ed7953\"],[0.7777777777777778,\"#fb9f3a\"],[0.8888888888888888,\"#fdca26\"],[1.0,\"#f0f921\"]],\"type\":\"contour\"}],\"contourcarpet\":[{\"colorbar\":{\"outlinewidth\":0,\"ticks\":\"\"},\"type\":\"contourcarpet\"}],\"heatmap\":[{\"colorbar\":{\"outlinewidth\":0,\"ticks\":\"\"},\"colorscale\":[[0.0,\"#0d0887\"],[0.1111111111111111,\"#46039f\"],[0.2222222222222222,\"#7201a8\"],[0.3333333333333333,\"#9c179e\"],[0.4444444444444444,\"#bd3786\"],[0.5555555555555556,\"#d8576b\"],[0.6666666666666666,\"#ed7953\"],[0.7777777777777778,\"#fb9f3a\"],[0.8888888888888888,\"#fdca26\"],[1.0,\"#f0f921\"]],\"type\":\"heatmap\"}],\"heatmapgl\":[{\"colorbar\":{\"outlinewidth\":0,\"ticks\":\"\"},\"colorscale\":[[0.0,\"#0d0887\"],[0.1111111111111111,\"#46039f\"],[0.2222222222222222,\"#7201a8\"],[0.3333333333333333,\"#9c179e\"],[0.4444444444444444,\"#bd3786\"],[0.5555555555555556,\"#d8576b\"],[0.6666666666666666,\"#ed7953\"],[0.7777777777777778,\"#fb9f3a\"],[0.8888888888888888,\"#fdca26\"],[1.0,\"#f0f921\"]],\"type\":\"heatmapgl\"}],\"histogram\":[{\"marker\":{\"pattern\":{\"fillmode\":\"overlay\",\"size\":10,\"solidity\":0.2}},\"type\":\"histogram\"}],\"histogram2d\":[{\"colorbar\":{\"outlinewidth\":0,\"ticks\":\"\"},\"colorscale\":[[0.0,\"#0d0887\"],[0.1111111111111111,\"#46039f\"],[0.2222222222222222,\"#7201a8\"],[0.3333333333333333,\"#9c179e\"],[0.4444444444444444,\"#bd3786\"],[0.5555555555555556,\"#d8576b\"],[0.6666666666666666,\"#ed7953\"],[0.7777777777777778,\"#fb9f3a\"],[0.8888888888888888,\"#fdca26\"],[1.0,\"#f0f921\"]],\"type\":\"histogram2d\"}],\"histogram2dcontour\":[{\"colorbar\":{\"outlinewidth\":0,\"ticks\":\"\"},\"colorscale\":[[0.0,\"#0d0887\"],[0.1111111111111111,\"#46039f\"],[0.2222222222222222,\"#7201a8\"],[0.3333333333333333,\"#9c179e\"],[0.4444444444444444,\"#bd3786\"],[0.5555555555555556,\"#d8576b\"],[0.6666666666666666,\"#ed7953\"],[0.7777777777777778,\"#fb9f3a\"],[0.8888888888888888,\"#fdca26\"],[1.0,\"#f0f921\"]],\"type\":\"histogram2dcontour\"}],\"mesh3d\":[{\"colorbar\":{\"outlinewidth\":0,\"ticks\":\"\"},\"type\":\"mesh3d\"}],\"parcoords\":[{\"line\":{\"colorbar\":{\"outlinewidth\":0,\"ticks\":\"\"}},\"type\":\"parcoords\"}],\"pie\":[{\"automargin\":true,\"type\":\"pie\"}],\"scatter\":[{\"marker\":{\"colorbar\":{\"outlinewidth\":0,\"ticks\":\"\"}},\"type\":\"scatter\"}],\"scatter3d\":[{\"line\":{\"colorbar\":{\"outlinewidth\":0,\"ticks\":\"\"}},\"marker\":{\"colorbar\":{\"outlinewidth\":0,\"ticks\":\"\"}},\"type\":\"scatter3d\"}],\"scattercarpet\":[{\"marker\":{\"colorbar\":{\"outlinewidth\":0,\"ticks\":\"\"}},\"type\":\"scattercarpet\"}],\"scattergeo\":[{\"marker\":{\"colorbar\":{\"outlinewidth\":0,\"ticks\":\"\"}},\"type\":\"scattergeo\"}],\"scattergl\":[{\"marker\":{\"colorbar\":{\"outlinewidth\":0,\"ticks\":\"\"}},\"type\":\"scattergl\"}],\"scattermapbox\":[{\"marker\":{\"colorbar\":{\"outlinewidth\":0,\"ticks\":\"\"}},\"type\":\"scattermapbox\"}],\"scatterpolar\":[{\"marker\":{\"colorbar\":{\"outlinewidth\":0,\"ticks\":\"\"}},\"type\":\"scatterpolar\"}],\"scatterpolargl\":[{\"marker\":{\"colorbar\":{\"outlinewidth\":0,\"ticks\":\"\"}},\"type\":\"scatterpolargl\"}],\"scatterternary\":[{\"marker\":{\"colorbar\":{\"outlinewidth\":0,\"ticks\":\"\"}},\"type\":\"scatterternary\"}],\"surface\":[{\"colorbar\":{\"outlinewidth\":0,\"ticks\":\"\"},\"colorscale\":[[0.0,\"#0d0887\"],[0.1111111111111111,\"#46039f\"],[0.2222222222222222,\"#7201a8\"],[0.3333333333333333,\"#9c179e\"],[0.4444444444444444,\"#bd3786\"],[0.5555555555555556,\"#d8576b\"],[0.6666666666666666,\"#ed7953\"],[0.7777777777777778,\"#fb9f3a\"],[0.8888888888888888,\"#fdca26\"],[1.0,\"#f0f921\"]],\"type\":\"surface\"}],\"table\":[{\"cells\":{\"fill\":{\"color\":\"#EBF0F8\"},\"line\":{\"color\":\"white\"}},\"header\":{\"fill\":{\"color\":\"#C8D4E3\"},\"line\":{\"color\":\"white\"}},\"type\":\"table\"}]},\"layout\":{\"annotationdefaults\":{\"arrowcolor\":\"#2a3f5f\",\"arrowhead\":0,\"arrowwidth\":1},\"autotypenumbers\":\"strict\",\"coloraxis\":{\"colorbar\":{\"outlinewidth\":0,\"ticks\":\"\"}},\"colorscale\":{\"diverging\":[[0,\"#8e0152\"],[0.1,\"#c51b7d\"],[0.2,\"#de77ae\"],[0.3,\"#f1b6da\"],[0.4,\"#fde0ef\"],[0.5,\"#f7f7f7\"],[0.6,\"#e6f5d0\"],[0.7,\"#b8e186\"],[0.8,\"#7fbc41\"],[0.9,\"#4d9221\"],[1,\"#276419\"]],\"sequential\":[[0.0,\"#0d0887\"],[0.1111111111111111,\"#46039f\"],[0.2222222222222222,\"#7201a8\"],[0.3333333333333333,\"#9c179e\"],[0.4444444444444444,\"#bd3786\"],[0.5555555555555556,\"#d8576b\"],[0.6666666666666666,\"#ed7953\"],[0.7777777777777778,\"#fb9f3a\"],[0.8888888888888888,\"#fdca26\"],[1.0,\"#f0f921\"]],\"sequentialminus\":[[0.0,\"#0d0887\"],[0.1111111111111111,\"#46039f\"],[0.2222222222222222,\"#7201a8\"],[0.3333333333333333,\"#9c179e\"],[0.4444444444444444,\"#bd3786\"],[0.5555555555555556,\"#d8576b\"],[0.6666666666666666,\"#ed7953\"],[0.7777777777777778,\"#fb9f3a\"],[0.8888888888888888,\"#fdca26\"],[1.0,\"#f0f921\"]]},\"colorway\":[\"#636efa\",\"#EF553B\",\"#00cc96\",\"#ab63fa\",\"#FFA15A\",\"#19d3f3\",\"#FF6692\",\"#B6E880\",\"#FF97FF\",\"#FECB52\"],\"font\":{\"color\":\"#2a3f5f\"},\"geo\":{\"bgcolor\":\"white\",\"lakecolor\":\"white\",\"landcolor\":\"#E5ECF6\",\"showlakes\":true,\"showland\":true,\"subunitcolor\":\"white\"},\"hoverlabel\":{\"align\":\"left\"},\"hovermode\":\"closest\",\"mapbox\":{\"style\":\"light\"},\"paper_bgcolor\":\"white\",\"plot_bgcolor\":\"#E5ECF6\",\"polar\":{\"angularaxis\":{\"gridcolor\":\"white\",\"linecolor\":\"white\",\"ticks\":\"\"},\"bgcolor\":\"#E5ECF6\",\"radialaxis\":{\"gridcolor\":\"white\",\"linecolor\":\"white\",\"ticks\":\"\"}},\"scene\":{\"xaxis\":{\"backgroundcolor\":\"#E5ECF6\",\"gridcolor\":\"white\",\"gridwidth\":2,\"linecolor\":\"white\",\"showbackground\":true,\"ticks\":\"\",\"zerolinecolor\":\"white\"},\"yaxis\":{\"backgroundcolor\":\"#E5ECF6\",\"gridcolor\":\"white\",\"gridwidth\":2,\"linecolor\":\"white\",\"showbackground\":true,\"ticks\":\"\",\"zerolinecolor\":\"white\"},\"zaxis\":{\"backgroundcolor\":\"#E5ECF6\",\"gridcolor\":\"white\",\"gridwidth\":2,\"linecolor\":\"white\",\"showbackground\":true,\"ticks\":\"\",\"zerolinecolor\":\"white\"}},\"shapedefaults\":{\"line\":{\"color\":\"#2a3f5f\"}},\"ternary\":{\"aaxis\":{\"gridcolor\":\"white\",\"linecolor\":\"white\",\"ticks\":\"\"},\"baxis\":{\"gridcolor\":\"white\",\"linecolor\":\"white\",\"ticks\":\"\"},\"bgcolor\":\"#E5ECF6\",\"caxis\":{\"gridcolor\":\"white\",\"linecolor\":\"white\",\"ticks\":\"\"}},\"title\":{\"x\":0.05},\"xaxis\":{\"automargin\":true,\"gridcolor\":\"white\",\"linecolor\":\"white\",\"ticks\":\"\",\"title\":{\"standoff\":15},\"zerolinecolor\":\"white\",\"zerolinewidth\":2},\"yaxis\":{\"automargin\":true,\"gridcolor\":\"white\",\"linecolor\":\"white\",\"ticks\":\"\",\"title\":{\"standoff\":15},\"zerolinecolor\":\"white\",\"zerolinewidth\":2}}}},                        {\"responsive\": true}                    ).then(function(){\n",
       "                            \n",
       "var gd = document.getElementById('42863b4f-4f97-4e4b-99b3-11b00ada66a7');\n",
       "var x = new MutationObserver(function (mutations, observer) {{\n",
       "        var display = window.getComputedStyle(gd).display;\n",
       "        if (!display || display === 'none') {{\n",
       "            console.log([gd, 'removed!']);\n",
       "            Plotly.purge(gd);\n",
       "            observer.disconnect();\n",
       "        }}\n",
       "}});\n",
       "\n",
       "// Listen for the removal of the full notebook cells\n",
       "var notebookContainer = gd.closest('#notebook-container');\n",
       "if (notebookContainer) {{\n",
       "    x.observe(notebookContainer, {childList: true});\n",
       "}}\n",
       "\n",
       "// Listen for the clearing of the current output cell\n",
       "var outputEl = gd.closest('.output');\n",
       "if (outputEl) {{\n",
       "    x.observe(outputEl, {childList: true});\n",
       "}}\n",
       "\n",
       "                        })                };                });            </script>        </div>"
      ]
     },
     "metadata": {},
     "output_type": "display_data"
    }
   ],
   "source": [
    "national_score_per_theme()"
   ]
  },
  {
   "cell_type": "markdown",
   "id": "2365380d",
   "metadata": {},
   "source": [
    "## Les intérêts de chaque orientation politique par thème et ses candidats"
   ]
  },
  {
   "cell_type": "code",
   "execution_count": 50,
   "id": "5d40e8fa",
   "metadata": {},
   "outputs": [],
   "source": [
    "def global_vs_choosen_political_orientation_mean_score_per_theme(political_orientation):\n",
    "    \"\"\"\n",
    "    Returns a horizontal bar chart with the global mean score (every candidates includes) and the choosen political orientation's mean score\n",
    "    \"\"\"\n",
    "    # Start with the global score\n",
    "    # Only keep score per theme, political party and themes from the df lexicon_score_per_user_df\n",
    "    global_mean_score_per_theme = lexicon_score_per_user_df.drop(columns=[\"user\", \"name\", \"political_orientation\"])\n",
    "    # Then compute the global mean score per theme and sort its values for a good visualization\n",
    "    global_mean_score_per_theme = global_mean_score_per_theme.mean().sort_values()\n",
    "\n",
    "    # Then compute this political party score per theme\n",
    "    # Retrieve unusefull columns\n",
    "    political_orientation_score_per_theme = lexicon_score_per_user_df.drop(columns=[\"user\", \"name\"])\n",
    "    # Compute the mean score per theme per political orientation\n",
    "    political_orientation_score_per_theme = political_orientation_score_per_theme.groupby(['political_orientation']).mean()\n",
    "    # Only keep the score for the right political orientation and sort values for a good visualization\n",
    "    political_orientation_score_per_theme = political_orientation_score_per_theme.loc[political_orientation].sort_values()\n",
    "\n",
    "    # Define a horizontal bar graph\n",
    "    fig = go.Figure(data=[\n",
    "                    go.Bar(x=global_mean_score_per_theme.values,\n",
    "                           y=global_mean_score_per_theme.keys(),\n",
    "                           orientation='h',\n",
    "                          name=\"moyenne globale (tous candidats confondus)\"),\n",
    "                    go.Bar(x=political_orientation_score_per_theme.values,\n",
    "                           y=political_orientation_score_per_theme.keys(),\n",
    "                           orientation='h',\n",
    "                          name=political_orientation)\n",
    "                    ])\n",
    "\n",
    "    # Change the bar mode\n",
    "    fig.update_layout(barmode='group')\n",
    "\n",
    "    # Show the graph\n",
    "    return fig.show()"
   ]
  },
  {
   "cell_type": "code",
   "execution_count": 120,
   "id": "4c36d6b8",
   "metadata": {},
   "outputs": [
    {
     "data": {
      "application/vnd.plotly.v1+json": {
       "config": {
        "plotlyServerURL": "https://plot.ly"
       },
       "data": [
        {
         "name": "moyenne globale (tous candidats confondus)",
         "orientation": "h",
         "type": "bar",
         "x": [
          9.904761904761905,
          15.333333333333334,
          16.642857142857142,
          36.45238095238095,
          40.023809523809526,
          46.476190476190474,
          49.73809523809524,
          66.78571428571429,
          172,
          172.21428571428572
         ],
         "y": [
          "Pouvoir_achat",
          "Extrême",
          "Ecologie",
          "Sécurité",
          "Economie",
          "Santé",
          "Travail",
          "Candidats",
          "Politique",
          "Actualité"
         ]
        },
        {
         "name": "extrême_gauche",
         "orientation": "h",
         "type": "bar",
         "x": [
          13,
          21.166666666666668,
          21.333333333333332,
          34.666666666666664,
          38.666666666666664,
          51.5,
          75,
          116.5,
          182,
          195.5
         ],
         "y": [
          "Ecologie",
          "Pouvoir_achat",
          "Extrême",
          "Sécurité",
          "Santé",
          "Economie",
          "Travail",
          "Candidats",
          "Actualité",
          "Politique"
         ]
        }
       ],
       "layout": {
        "barmode": "group",
        "template": {
         "data": {
          "bar": [
           {
            "error_x": {
             "color": "#2a3f5f"
            },
            "error_y": {
             "color": "#2a3f5f"
            },
            "marker": {
             "line": {
              "color": "#E5ECF6",
              "width": 0.5
             },
             "pattern": {
              "fillmode": "overlay",
              "size": 10,
              "solidity": 0.2
             }
            },
            "type": "bar"
           }
          ],
          "barpolar": [
           {
            "marker": {
             "line": {
              "color": "#E5ECF6",
              "width": 0.5
             },
             "pattern": {
              "fillmode": "overlay",
              "size": 10,
              "solidity": 0.2
             }
            },
            "type": "barpolar"
           }
          ],
          "carpet": [
           {
            "aaxis": {
             "endlinecolor": "#2a3f5f",
             "gridcolor": "white",
             "linecolor": "white",
             "minorgridcolor": "white",
             "startlinecolor": "#2a3f5f"
            },
            "baxis": {
             "endlinecolor": "#2a3f5f",
             "gridcolor": "white",
             "linecolor": "white",
             "minorgridcolor": "white",
             "startlinecolor": "#2a3f5f"
            },
            "type": "carpet"
           }
          ],
          "choropleth": [
           {
            "colorbar": {
             "outlinewidth": 0,
             "ticks": ""
            },
            "type": "choropleth"
           }
          ],
          "contour": [
           {
            "colorbar": {
             "outlinewidth": 0,
             "ticks": ""
            },
            "colorscale": [
             [
              0,
              "#0d0887"
             ],
             [
              0.1111111111111111,
              "#46039f"
             ],
             [
              0.2222222222222222,
              "#7201a8"
             ],
             [
              0.3333333333333333,
              "#9c179e"
             ],
             [
              0.4444444444444444,
              "#bd3786"
             ],
             [
              0.5555555555555556,
              "#d8576b"
             ],
             [
              0.6666666666666666,
              "#ed7953"
             ],
             [
              0.7777777777777778,
              "#fb9f3a"
             ],
             [
              0.8888888888888888,
              "#fdca26"
             ],
             [
              1,
              "#f0f921"
             ]
            ],
            "type": "contour"
           }
          ],
          "contourcarpet": [
           {
            "colorbar": {
             "outlinewidth": 0,
             "ticks": ""
            },
            "type": "contourcarpet"
           }
          ],
          "heatmap": [
           {
            "colorbar": {
             "outlinewidth": 0,
             "ticks": ""
            },
            "colorscale": [
             [
              0,
              "#0d0887"
             ],
             [
              0.1111111111111111,
              "#46039f"
             ],
             [
              0.2222222222222222,
              "#7201a8"
             ],
             [
              0.3333333333333333,
              "#9c179e"
             ],
             [
              0.4444444444444444,
              "#bd3786"
             ],
             [
              0.5555555555555556,
              "#d8576b"
             ],
             [
              0.6666666666666666,
              "#ed7953"
             ],
             [
              0.7777777777777778,
              "#fb9f3a"
             ],
             [
              0.8888888888888888,
              "#fdca26"
             ],
             [
              1,
              "#f0f921"
             ]
            ],
            "type": "heatmap"
           }
          ],
          "heatmapgl": [
           {
            "colorbar": {
             "outlinewidth": 0,
             "ticks": ""
            },
            "colorscale": [
             [
              0,
              "#0d0887"
             ],
             [
              0.1111111111111111,
              "#46039f"
             ],
             [
              0.2222222222222222,
              "#7201a8"
             ],
             [
              0.3333333333333333,
              "#9c179e"
             ],
             [
              0.4444444444444444,
              "#bd3786"
             ],
             [
              0.5555555555555556,
              "#d8576b"
             ],
             [
              0.6666666666666666,
              "#ed7953"
             ],
             [
              0.7777777777777778,
              "#fb9f3a"
             ],
             [
              0.8888888888888888,
              "#fdca26"
             ],
             [
              1,
              "#f0f921"
             ]
            ],
            "type": "heatmapgl"
           }
          ],
          "histogram": [
           {
            "marker": {
             "pattern": {
              "fillmode": "overlay",
              "size": 10,
              "solidity": 0.2
             }
            },
            "type": "histogram"
           }
          ],
          "histogram2d": [
           {
            "colorbar": {
             "outlinewidth": 0,
             "ticks": ""
            },
            "colorscale": [
             [
              0,
              "#0d0887"
             ],
             [
              0.1111111111111111,
              "#46039f"
             ],
             [
              0.2222222222222222,
              "#7201a8"
             ],
             [
              0.3333333333333333,
              "#9c179e"
             ],
             [
              0.4444444444444444,
              "#bd3786"
             ],
             [
              0.5555555555555556,
              "#d8576b"
             ],
             [
              0.6666666666666666,
              "#ed7953"
             ],
             [
              0.7777777777777778,
              "#fb9f3a"
             ],
             [
              0.8888888888888888,
              "#fdca26"
             ],
             [
              1,
              "#f0f921"
             ]
            ],
            "type": "histogram2d"
           }
          ],
          "histogram2dcontour": [
           {
            "colorbar": {
             "outlinewidth": 0,
             "ticks": ""
            },
            "colorscale": [
             [
              0,
              "#0d0887"
             ],
             [
              0.1111111111111111,
              "#46039f"
             ],
             [
              0.2222222222222222,
              "#7201a8"
             ],
             [
              0.3333333333333333,
              "#9c179e"
             ],
             [
              0.4444444444444444,
              "#bd3786"
             ],
             [
              0.5555555555555556,
              "#d8576b"
             ],
             [
              0.6666666666666666,
              "#ed7953"
             ],
             [
              0.7777777777777778,
              "#fb9f3a"
             ],
             [
              0.8888888888888888,
              "#fdca26"
             ],
             [
              1,
              "#f0f921"
             ]
            ],
            "type": "histogram2dcontour"
           }
          ],
          "mesh3d": [
           {
            "colorbar": {
             "outlinewidth": 0,
             "ticks": ""
            },
            "type": "mesh3d"
           }
          ],
          "parcoords": [
           {
            "line": {
             "colorbar": {
              "outlinewidth": 0,
              "ticks": ""
             }
            },
            "type": "parcoords"
           }
          ],
          "pie": [
           {
            "automargin": true,
            "type": "pie"
           }
          ],
          "scatter": [
           {
            "marker": {
             "colorbar": {
              "outlinewidth": 0,
              "ticks": ""
             }
            },
            "type": "scatter"
           }
          ],
          "scatter3d": [
           {
            "line": {
             "colorbar": {
              "outlinewidth": 0,
              "ticks": ""
             }
            },
            "marker": {
             "colorbar": {
              "outlinewidth": 0,
              "ticks": ""
             }
            },
            "type": "scatter3d"
           }
          ],
          "scattercarpet": [
           {
            "marker": {
             "colorbar": {
              "outlinewidth": 0,
              "ticks": ""
             }
            },
            "type": "scattercarpet"
           }
          ],
          "scattergeo": [
           {
            "marker": {
             "colorbar": {
              "outlinewidth": 0,
              "ticks": ""
             }
            },
            "type": "scattergeo"
           }
          ],
          "scattergl": [
           {
            "marker": {
             "colorbar": {
              "outlinewidth": 0,
              "ticks": ""
             }
            },
            "type": "scattergl"
           }
          ],
          "scattermapbox": [
           {
            "marker": {
             "colorbar": {
              "outlinewidth": 0,
              "ticks": ""
             }
            },
            "type": "scattermapbox"
           }
          ],
          "scatterpolar": [
           {
            "marker": {
             "colorbar": {
              "outlinewidth": 0,
              "ticks": ""
             }
            },
            "type": "scatterpolar"
           }
          ],
          "scatterpolargl": [
           {
            "marker": {
             "colorbar": {
              "outlinewidth": 0,
              "ticks": ""
             }
            },
            "type": "scatterpolargl"
           }
          ],
          "scatterternary": [
           {
            "marker": {
             "colorbar": {
              "outlinewidth": 0,
              "ticks": ""
             }
            },
            "type": "scatterternary"
           }
          ],
          "surface": [
           {
            "colorbar": {
             "outlinewidth": 0,
             "ticks": ""
            },
            "colorscale": [
             [
              0,
              "#0d0887"
             ],
             [
              0.1111111111111111,
              "#46039f"
             ],
             [
              0.2222222222222222,
              "#7201a8"
             ],
             [
              0.3333333333333333,
              "#9c179e"
             ],
             [
              0.4444444444444444,
              "#bd3786"
             ],
             [
              0.5555555555555556,
              "#d8576b"
             ],
             [
              0.6666666666666666,
              "#ed7953"
             ],
             [
              0.7777777777777778,
              "#fb9f3a"
             ],
             [
              0.8888888888888888,
              "#fdca26"
             ],
             [
              1,
              "#f0f921"
             ]
            ],
            "type": "surface"
           }
          ],
          "table": [
           {
            "cells": {
             "fill": {
              "color": "#EBF0F8"
             },
             "line": {
              "color": "white"
             }
            },
            "header": {
             "fill": {
              "color": "#C8D4E3"
             },
             "line": {
              "color": "white"
             }
            },
            "type": "table"
           }
          ]
         },
         "layout": {
          "annotationdefaults": {
           "arrowcolor": "#2a3f5f",
           "arrowhead": 0,
           "arrowwidth": 1
          },
          "autotypenumbers": "strict",
          "coloraxis": {
           "colorbar": {
            "outlinewidth": 0,
            "ticks": ""
           }
          },
          "colorscale": {
           "diverging": [
            [
             0,
             "#8e0152"
            ],
            [
             0.1,
             "#c51b7d"
            ],
            [
             0.2,
             "#de77ae"
            ],
            [
             0.3,
             "#f1b6da"
            ],
            [
             0.4,
             "#fde0ef"
            ],
            [
             0.5,
             "#f7f7f7"
            ],
            [
             0.6,
             "#e6f5d0"
            ],
            [
             0.7,
             "#b8e186"
            ],
            [
             0.8,
             "#7fbc41"
            ],
            [
             0.9,
             "#4d9221"
            ],
            [
             1,
             "#276419"
            ]
           ],
           "sequential": [
            [
             0,
             "#0d0887"
            ],
            [
             0.1111111111111111,
             "#46039f"
            ],
            [
             0.2222222222222222,
             "#7201a8"
            ],
            [
             0.3333333333333333,
             "#9c179e"
            ],
            [
             0.4444444444444444,
             "#bd3786"
            ],
            [
             0.5555555555555556,
             "#d8576b"
            ],
            [
             0.6666666666666666,
             "#ed7953"
            ],
            [
             0.7777777777777778,
             "#fb9f3a"
            ],
            [
             0.8888888888888888,
             "#fdca26"
            ],
            [
             1,
             "#f0f921"
            ]
           ],
           "sequentialminus": [
            [
             0,
             "#0d0887"
            ],
            [
             0.1111111111111111,
             "#46039f"
            ],
            [
             0.2222222222222222,
             "#7201a8"
            ],
            [
             0.3333333333333333,
             "#9c179e"
            ],
            [
             0.4444444444444444,
             "#bd3786"
            ],
            [
             0.5555555555555556,
             "#d8576b"
            ],
            [
             0.6666666666666666,
             "#ed7953"
            ],
            [
             0.7777777777777778,
             "#fb9f3a"
            ],
            [
             0.8888888888888888,
             "#fdca26"
            ],
            [
             1,
             "#f0f921"
            ]
           ]
          },
          "colorway": [
           "#636efa",
           "#EF553B",
           "#00cc96",
           "#ab63fa",
           "#FFA15A",
           "#19d3f3",
           "#FF6692",
           "#B6E880",
           "#FF97FF",
           "#FECB52"
          ],
          "font": {
           "color": "#2a3f5f"
          },
          "geo": {
           "bgcolor": "white",
           "lakecolor": "white",
           "landcolor": "#E5ECF6",
           "showlakes": true,
           "showland": true,
           "subunitcolor": "white"
          },
          "hoverlabel": {
           "align": "left"
          },
          "hovermode": "closest",
          "mapbox": {
           "style": "light"
          },
          "paper_bgcolor": "white",
          "plot_bgcolor": "#E5ECF6",
          "polar": {
           "angularaxis": {
            "gridcolor": "white",
            "linecolor": "white",
            "ticks": ""
           },
           "bgcolor": "#E5ECF6",
           "radialaxis": {
            "gridcolor": "white",
            "linecolor": "white",
            "ticks": ""
           }
          },
          "scene": {
           "xaxis": {
            "backgroundcolor": "#E5ECF6",
            "gridcolor": "white",
            "gridwidth": 2,
            "linecolor": "white",
            "showbackground": true,
            "ticks": "",
            "zerolinecolor": "white"
           },
           "yaxis": {
            "backgroundcolor": "#E5ECF6",
            "gridcolor": "white",
            "gridwidth": 2,
            "linecolor": "white",
            "showbackground": true,
            "ticks": "",
            "zerolinecolor": "white"
           },
           "zaxis": {
            "backgroundcolor": "#E5ECF6",
            "gridcolor": "white",
            "gridwidth": 2,
            "linecolor": "white",
            "showbackground": true,
            "ticks": "",
            "zerolinecolor": "white"
           }
          },
          "shapedefaults": {
           "line": {
            "color": "#2a3f5f"
           }
          },
          "ternary": {
           "aaxis": {
            "gridcolor": "white",
            "linecolor": "white",
            "ticks": ""
           },
           "baxis": {
            "gridcolor": "white",
            "linecolor": "white",
            "ticks": ""
           },
           "bgcolor": "#E5ECF6",
           "caxis": {
            "gridcolor": "white",
            "linecolor": "white",
            "ticks": ""
           }
          },
          "title": {
           "x": 0.05
          },
          "xaxis": {
           "automargin": true,
           "gridcolor": "white",
           "linecolor": "white",
           "ticks": "",
           "title": {
            "standoff": 15
           },
           "zerolinecolor": "white",
           "zerolinewidth": 2
          },
          "yaxis": {
           "automargin": true,
           "gridcolor": "white",
           "linecolor": "white",
           "ticks": "",
           "title": {
            "standoff": 15
           },
           "zerolinecolor": "white",
           "zerolinewidth": 2
          }
         }
        }
       }
      },
      "text/html": [
       "<div>                            <div id=\"2f2ac9b9-73eb-4e5a-99b4-80a16bde1f55\" class=\"plotly-graph-div\" style=\"height:525px; width:100%;\"></div>            <script type=\"text/javascript\">                require([\"plotly\"], function(Plotly) {                    window.PLOTLYENV=window.PLOTLYENV || {};                                    if (document.getElementById(\"2f2ac9b9-73eb-4e5a-99b4-80a16bde1f55\")) {                    Plotly.newPlot(                        \"2f2ac9b9-73eb-4e5a-99b4-80a16bde1f55\",                        [{\"name\":\"moyenne globale (tous candidats confondus)\",\"orientation\":\"h\",\"type\":\"bar\",\"x\":[9.904761904761905,15.333333333333334,16.642857142857142,36.45238095238095,40.023809523809526,46.476190476190474,49.73809523809524,66.78571428571429,172.0,172.21428571428572],\"y\":[\"Pouvoir_achat\",\"Extr\\u00eame\",\"Ecologie\",\"S\\u00e9curit\\u00e9\",\"Economie\",\"Sant\\u00e9\",\"Travail\",\"Candidats\",\"Politique\",\"Actualit\\u00e9\"]},{\"name\":\"extr\\u00eame_gauche\",\"orientation\":\"h\",\"type\":\"bar\",\"x\":[13.0,21.166666666666668,21.333333333333332,34.666666666666664,38.666666666666664,51.5,75.0,116.5,182.0,195.5],\"y\":[\"Ecologie\",\"Pouvoir_achat\",\"Extr\\u00eame\",\"S\\u00e9curit\\u00e9\",\"Sant\\u00e9\",\"Economie\",\"Travail\",\"Candidats\",\"Actualit\\u00e9\",\"Politique\"]}],                        {\"barmode\":\"group\",\"template\":{\"data\":{\"bar\":[{\"error_x\":{\"color\":\"#2a3f5f\"},\"error_y\":{\"color\":\"#2a3f5f\"},\"marker\":{\"line\":{\"color\":\"#E5ECF6\",\"width\":0.5},\"pattern\":{\"fillmode\":\"overlay\",\"size\":10,\"solidity\":0.2}},\"type\":\"bar\"}],\"barpolar\":[{\"marker\":{\"line\":{\"color\":\"#E5ECF6\",\"width\":0.5},\"pattern\":{\"fillmode\":\"overlay\",\"size\":10,\"solidity\":0.2}},\"type\":\"barpolar\"}],\"carpet\":[{\"aaxis\":{\"endlinecolor\":\"#2a3f5f\",\"gridcolor\":\"white\",\"linecolor\":\"white\",\"minorgridcolor\":\"white\",\"startlinecolor\":\"#2a3f5f\"},\"baxis\":{\"endlinecolor\":\"#2a3f5f\",\"gridcolor\":\"white\",\"linecolor\":\"white\",\"minorgridcolor\":\"white\",\"startlinecolor\":\"#2a3f5f\"},\"type\":\"carpet\"}],\"choropleth\":[{\"colorbar\":{\"outlinewidth\":0,\"ticks\":\"\"},\"type\":\"choropleth\"}],\"contour\":[{\"colorbar\":{\"outlinewidth\":0,\"ticks\":\"\"},\"colorscale\":[[0.0,\"#0d0887\"],[0.1111111111111111,\"#46039f\"],[0.2222222222222222,\"#7201a8\"],[0.3333333333333333,\"#9c179e\"],[0.4444444444444444,\"#bd3786\"],[0.5555555555555556,\"#d8576b\"],[0.6666666666666666,\"#ed7953\"],[0.7777777777777778,\"#fb9f3a\"],[0.8888888888888888,\"#fdca26\"],[1.0,\"#f0f921\"]],\"type\":\"contour\"}],\"contourcarpet\":[{\"colorbar\":{\"outlinewidth\":0,\"ticks\":\"\"},\"type\":\"contourcarpet\"}],\"heatmap\":[{\"colorbar\":{\"outlinewidth\":0,\"ticks\":\"\"},\"colorscale\":[[0.0,\"#0d0887\"],[0.1111111111111111,\"#46039f\"],[0.2222222222222222,\"#7201a8\"],[0.3333333333333333,\"#9c179e\"],[0.4444444444444444,\"#bd3786\"],[0.5555555555555556,\"#d8576b\"],[0.6666666666666666,\"#ed7953\"],[0.7777777777777778,\"#fb9f3a\"],[0.8888888888888888,\"#fdca26\"],[1.0,\"#f0f921\"]],\"type\":\"heatmap\"}],\"heatmapgl\":[{\"colorbar\":{\"outlinewidth\":0,\"ticks\":\"\"},\"colorscale\":[[0.0,\"#0d0887\"],[0.1111111111111111,\"#46039f\"],[0.2222222222222222,\"#7201a8\"],[0.3333333333333333,\"#9c179e\"],[0.4444444444444444,\"#bd3786\"],[0.5555555555555556,\"#d8576b\"],[0.6666666666666666,\"#ed7953\"],[0.7777777777777778,\"#fb9f3a\"],[0.8888888888888888,\"#fdca26\"],[1.0,\"#f0f921\"]],\"type\":\"heatmapgl\"}],\"histogram\":[{\"marker\":{\"pattern\":{\"fillmode\":\"overlay\",\"size\":10,\"solidity\":0.2}},\"type\":\"histogram\"}],\"histogram2d\":[{\"colorbar\":{\"outlinewidth\":0,\"ticks\":\"\"},\"colorscale\":[[0.0,\"#0d0887\"],[0.1111111111111111,\"#46039f\"],[0.2222222222222222,\"#7201a8\"],[0.3333333333333333,\"#9c179e\"],[0.4444444444444444,\"#bd3786\"],[0.5555555555555556,\"#d8576b\"],[0.6666666666666666,\"#ed7953\"],[0.7777777777777778,\"#fb9f3a\"],[0.8888888888888888,\"#fdca26\"],[1.0,\"#f0f921\"]],\"type\":\"histogram2d\"}],\"histogram2dcontour\":[{\"colorbar\":{\"outlinewidth\":0,\"ticks\":\"\"},\"colorscale\":[[0.0,\"#0d0887\"],[0.1111111111111111,\"#46039f\"],[0.2222222222222222,\"#7201a8\"],[0.3333333333333333,\"#9c179e\"],[0.4444444444444444,\"#bd3786\"],[0.5555555555555556,\"#d8576b\"],[0.6666666666666666,\"#ed7953\"],[0.7777777777777778,\"#fb9f3a\"],[0.8888888888888888,\"#fdca26\"],[1.0,\"#f0f921\"]],\"type\":\"histogram2dcontour\"}],\"mesh3d\":[{\"colorbar\":{\"outlinewidth\":0,\"ticks\":\"\"},\"type\":\"mesh3d\"}],\"parcoords\":[{\"line\":{\"colorbar\":{\"outlinewidth\":0,\"ticks\":\"\"}},\"type\":\"parcoords\"}],\"pie\":[{\"automargin\":true,\"type\":\"pie\"}],\"scatter\":[{\"marker\":{\"colorbar\":{\"outlinewidth\":0,\"ticks\":\"\"}},\"type\":\"scatter\"}],\"scatter3d\":[{\"line\":{\"colorbar\":{\"outlinewidth\":0,\"ticks\":\"\"}},\"marker\":{\"colorbar\":{\"outlinewidth\":0,\"ticks\":\"\"}},\"type\":\"scatter3d\"}],\"scattercarpet\":[{\"marker\":{\"colorbar\":{\"outlinewidth\":0,\"ticks\":\"\"}},\"type\":\"scattercarpet\"}],\"scattergeo\":[{\"marker\":{\"colorbar\":{\"outlinewidth\":0,\"ticks\":\"\"}},\"type\":\"scattergeo\"}],\"scattergl\":[{\"marker\":{\"colorbar\":{\"outlinewidth\":0,\"ticks\":\"\"}},\"type\":\"scattergl\"}],\"scattermapbox\":[{\"marker\":{\"colorbar\":{\"outlinewidth\":0,\"ticks\":\"\"}},\"type\":\"scattermapbox\"}],\"scatterpolar\":[{\"marker\":{\"colorbar\":{\"outlinewidth\":0,\"ticks\":\"\"}},\"type\":\"scatterpolar\"}],\"scatterpolargl\":[{\"marker\":{\"colorbar\":{\"outlinewidth\":0,\"ticks\":\"\"}},\"type\":\"scatterpolargl\"}],\"scatterternary\":[{\"marker\":{\"colorbar\":{\"outlinewidth\":0,\"ticks\":\"\"}},\"type\":\"scatterternary\"}],\"surface\":[{\"colorbar\":{\"outlinewidth\":0,\"ticks\":\"\"},\"colorscale\":[[0.0,\"#0d0887\"],[0.1111111111111111,\"#46039f\"],[0.2222222222222222,\"#7201a8\"],[0.3333333333333333,\"#9c179e\"],[0.4444444444444444,\"#bd3786\"],[0.5555555555555556,\"#d8576b\"],[0.6666666666666666,\"#ed7953\"],[0.7777777777777778,\"#fb9f3a\"],[0.8888888888888888,\"#fdca26\"],[1.0,\"#f0f921\"]],\"type\":\"surface\"}],\"table\":[{\"cells\":{\"fill\":{\"color\":\"#EBF0F8\"},\"line\":{\"color\":\"white\"}},\"header\":{\"fill\":{\"color\":\"#C8D4E3\"},\"line\":{\"color\":\"white\"}},\"type\":\"table\"}]},\"layout\":{\"annotationdefaults\":{\"arrowcolor\":\"#2a3f5f\",\"arrowhead\":0,\"arrowwidth\":1},\"autotypenumbers\":\"strict\",\"coloraxis\":{\"colorbar\":{\"outlinewidth\":0,\"ticks\":\"\"}},\"colorscale\":{\"diverging\":[[0,\"#8e0152\"],[0.1,\"#c51b7d\"],[0.2,\"#de77ae\"],[0.3,\"#f1b6da\"],[0.4,\"#fde0ef\"],[0.5,\"#f7f7f7\"],[0.6,\"#e6f5d0\"],[0.7,\"#b8e186\"],[0.8,\"#7fbc41\"],[0.9,\"#4d9221\"],[1,\"#276419\"]],\"sequential\":[[0.0,\"#0d0887\"],[0.1111111111111111,\"#46039f\"],[0.2222222222222222,\"#7201a8\"],[0.3333333333333333,\"#9c179e\"],[0.4444444444444444,\"#bd3786\"],[0.5555555555555556,\"#d8576b\"],[0.6666666666666666,\"#ed7953\"],[0.7777777777777778,\"#fb9f3a\"],[0.8888888888888888,\"#fdca26\"],[1.0,\"#f0f921\"]],\"sequentialminus\":[[0.0,\"#0d0887\"],[0.1111111111111111,\"#46039f\"],[0.2222222222222222,\"#7201a8\"],[0.3333333333333333,\"#9c179e\"],[0.4444444444444444,\"#bd3786\"],[0.5555555555555556,\"#d8576b\"],[0.6666666666666666,\"#ed7953\"],[0.7777777777777778,\"#fb9f3a\"],[0.8888888888888888,\"#fdca26\"],[1.0,\"#f0f921\"]]},\"colorway\":[\"#636efa\",\"#EF553B\",\"#00cc96\",\"#ab63fa\",\"#FFA15A\",\"#19d3f3\",\"#FF6692\",\"#B6E880\",\"#FF97FF\",\"#FECB52\"],\"font\":{\"color\":\"#2a3f5f\"},\"geo\":{\"bgcolor\":\"white\",\"lakecolor\":\"white\",\"landcolor\":\"#E5ECF6\",\"showlakes\":true,\"showland\":true,\"subunitcolor\":\"white\"},\"hoverlabel\":{\"align\":\"left\"},\"hovermode\":\"closest\",\"mapbox\":{\"style\":\"light\"},\"paper_bgcolor\":\"white\",\"plot_bgcolor\":\"#E5ECF6\",\"polar\":{\"angularaxis\":{\"gridcolor\":\"white\",\"linecolor\":\"white\",\"ticks\":\"\"},\"bgcolor\":\"#E5ECF6\",\"radialaxis\":{\"gridcolor\":\"white\",\"linecolor\":\"white\",\"ticks\":\"\"}},\"scene\":{\"xaxis\":{\"backgroundcolor\":\"#E5ECF6\",\"gridcolor\":\"white\",\"gridwidth\":2,\"linecolor\":\"white\",\"showbackground\":true,\"ticks\":\"\",\"zerolinecolor\":\"white\"},\"yaxis\":{\"backgroundcolor\":\"#E5ECF6\",\"gridcolor\":\"white\",\"gridwidth\":2,\"linecolor\":\"white\",\"showbackground\":true,\"ticks\":\"\",\"zerolinecolor\":\"white\"},\"zaxis\":{\"backgroundcolor\":\"#E5ECF6\",\"gridcolor\":\"white\",\"gridwidth\":2,\"linecolor\":\"white\",\"showbackground\":true,\"ticks\":\"\",\"zerolinecolor\":\"white\"}},\"shapedefaults\":{\"line\":{\"color\":\"#2a3f5f\"}},\"ternary\":{\"aaxis\":{\"gridcolor\":\"white\",\"linecolor\":\"white\",\"ticks\":\"\"},\"baxis\":{\"gridcolor\":\"white\",\"linecolor\":\"white\",\"ticks\":\"\"},\"bgcolor\":\"#E5ECF6\",\"caxis\":{\"gridcolor\":\"white\",\"linecolor\":\"white\",\"ticks\":\"\"}},\"title\":{\"x\":0.05},\"xaxis\":{\"automargin\":true,\"gridcolor\":\"white\",\"linecolor\":\"white\",\"ticks\":\"\",\"title\":{\"standoff\":15},\"zerolinecolor\":\"white\",\"zerolinewidth\":2},\"yaxis\":{\"automargin\":true,\"gridcolor\":\"white\",\"linecolor\":\"white\",\"ticks\":\"\",\"title\":{\"standoff\":15},\"zerolinecolor\":\"white\",\"zerolinewidth\":2}}}},                        {\"responsive\": true}                    ).then(function(){\n",
       "                            \n",
       "var gd = document.getElementById('2f2ac9b9-73eb-4e5a-99b4-80a16bde1f55');\n",
       "var x = new MutationObserver(function (mutations, observer) {{\n",
       "        var display = window.getComputedStyle(gd).display;\n",
       "        if (!display || display === 'none') {{\n",
       "            console.log([gd, 'removed!']);\n",
       "            Plotly.purge(gd);\n",
       "            observer.disconnect();\n",
       "        }}\n",
       "}});\n",
       "\n",
       "// Listen for the removal of the full notebook cells\n",
       "var notebookContainer = gd.closest('#notebook-container');\n",
       "if (notebookContainer) {{\n",
       "    x.observe(notebookContainer, {childList: true});\n",
       "}}\n",
       "\n",
       "// Listen for the clearing of the current output cell\n",
       "var outputEl = gd.closest('.output');\n",
       "if (outputEl) {{\n",
       "    x.observe(outputEl, {childList: true});\n",
       "}}\n",
       "\n",
       "                        })                };                });            </script>        </div>"
      ]
     },
     "metadata": {},
     "output_type": "display_data"
    }
   ],
   "source": [
    "global_vs_choosen_political_orientation_mean_score_per_theme(political_orientation=\"extrême_gauche\")"
   ]
  },
  {
   "cell_type": "code",
   "execution_count": 52,
   "id": "79d0fe5c",
   "metadata": {},
   "outputs": [],
   "source": [
    "def number_of_candidates_per_political_orientation(political_orientation):\n",
    "    \"\"\"\n",
    "    Returns a string with the number of candidates per political orientation\n",
    "    \"\"\"\n",
    "    # List of candidates\n",
    "    candidates = lexicon_score_per_user_df[lexicon_score_per_user_df[\"political_orientation\"]==political_orientation][\"name\"].unique()\n",
    "    \n",
    "    return f\"{len(candidates)} candidat(s) représente(nt) ce parti:\""
   ]
  },
  {
   "cell_type": "code",
   "execution_count": 121,
   "id": "c3823852",
   "metadata": {},
   "outputs": [
    {
     "data": {
      "text/plain": [
       "'6 candidat(s) représente(nt) ce parti:'"
      ]
     },
     "execution_count": 121,
     "metadata": {},
     "output_type": "execute_result"
    }
   ],
   "source": [
    "number_of_candidates_per_political_orientation(political_orientation=\"extrême_gauche\")"
   ]
  },
  {
   "cell_type": "code",
   "execution_count": 54,
   "id": "e984474f",
   "metadata": {},
   "outputs": [],
   "source": [
    "def list_all_candidates_per_political_orientation(political_orientation):\n",
    "    \"\"\"\n",
    "    Returns a list of each candidate's name for the choosen political orientation\n",
    "    \"\"\"\n",
    "    # List of candidates\n",
    "    candidates = list(lexicon_score_per_user_df[lexicon_score_per_user_df[\"political_orientation\"]==political_orientation][\"name\"].unique())\n",
    "    \n",
    "    return candidates"
   ]
  },
  {
   "cell_type": "code",
   "execution_count": 122,
   "id": "c7d945a8",
   "metadata": {},
   "outputs": [
    {
     "data": {
      "text/plain": [
       "['Philippe Poutou',\n",
       " 'Anasse Kazib',\n",
       " 'Jean-Luc Mélenchon',\n",
       " 'Gerard Filoche',\n",
       " 'Nathalie Arthaud',\n",
       " 'Fabien Roussel']"
      ]
     },
     "execution_count": 122,
     "metadata": {},
     "output_type": "execute_result"
    }
   ],
   "source": [
    "list_all_candidates_per_political_orientation(political_orientation=\"extrême_gauche\")"
   ]
  },
  {
   "cell_type": "markdown",
   "id": "7b47bd0f",
   "metadata": {},
   "source": [
    "## Les sujets qui vous intéressent"
   ]
  },
  {
   "cell_type": "code",
   "execution_count": 56,
   "id": "489cea4f",
   "metadata": {},
   "outputs": [],
   "source": [
    "def score_for_two_given_themes(first_theme, second_theme):\n",
    "    \"\"\"\n",
    "    Returns a scatter plot with each candidates score for two given themes\n",
    "    \"\"\"\n",
    "    # Define the scatter plot\n",
    "    fig = px.scatter(lexicon_score_per_user_df, x=first_theme, y=second_theme, color=\"political_orientation\", hover_data=[\"name\"])\n",
    "    \n",
    "    return fig.show()"
   ]
  },
  {
   "cell_type": "code",
   "execution_count": 123,
   "id": "3d40e458",
   "metadata": {},
   "outputs": [
    {
     "data": {
      "application/vnd.plotly.v1+json": {
       "config": {
        "plotlyServerURL": "https://plot.ly"
       },
       "data": [
        {
         "customdata": [
          [
           "Alex Langlois"
          ],
          [
           "Fabrice Grimal"
          ],
          [
           "Clara Egger"
          ],
          [
           "Georges Kuzmanovic"
          ],
          [
           "Marie Cau"
          ],
          [
           "Jean Lassale"
          ],
          [
           "François Asselineau"
          ],
          [
           "Luc Laforets"
          ],
          [
           "Martin Rocca"
          ],
          [
           "Gilles Lazzarini"
          ],
          [
           "Gildas Vieira"
          ]
         ],
         "hovertemplate": "political_orientation=divers<br>Ecologie=%{x}<br>Economie=%{y}<br>name=%{customdata[0]}<extra></extra>",
         "legendgroup": "divers",
         "marker": {
          "color": "#636efa",
          "symbol": "circle"
         },
         "mode": "markers",
         "name": "divers",
         "orientation": "v",
         "showlegend": true,
         "type": "scatter",
         "x": [
          11,
          2,
          3,
          17,
          7,
          12,
          11,
          7,
          2,
          14,
          4
         ],
         "xaxis": "x",
         "y": [
          15,
          22,
          4,
          48,
          14,
          56,
          70,
          17,
          8,
          25,
          8
         ],
         "yaxis": "y"
        },
        {
         "customdata": [
          [
           "Édouard Philippe"
          ],
          [
           "Emmanuel Macron"
          ],
          [
           "Régis Ollivier"
          ],
          [
           "Philippe Juvin"
          ],
          [
           "Jacline Mouraud"
          ],
          [
           "Denis Payre"
          ],
          [
           "Eric Ciotti"
          ],
          [
           "Michel Barnier"
          ],
          [
           "Valérie Pécresse"
          ],
          [
           "Xavier Bertrand"
          ]
         ],
         "hovertemplate": "political_orientation=droite<br>Ecologie=%{x}<br>Economie=%{y}<br>name=%{customdata[0]}<extra></extra>",
         "legendgroup": "droite",
         "marker": {
          "color": "#EF553B",
          "symbol": "circle"
         },
         "mode": "markers",
         "name": "droite",
         "orientation": "v",
         "showlegend": true,
         "type": "scatter",
         "x": [
          12,
          51,
          5,
          14,
          4,
          10,
          2,
          24,
          8,
          10
         ],
         "xaxis": "x",
         "y": [
          52,
          86,
          15,
          42,
          22,
          44,
          33,
          57,
          57,
          27
         ],
         "yaxis": "y"
        },
        {
         "customdata": [
          [
           "Charlotte Marchandise"
          ],
          [
           "Anna Agueb-Porterie"
          ],
          [
           "Anne Hidalgo"
          ],
          [
           "Pierre Larrouturou"
          ],
          [
           "Philippe Mazuel"
          ],
          [
           "Arnaud Montebourg"
          ]
         ],
         "hovertemplate": "political_orientation=gauche<br>Ecologie=%{x}<br>Economie=%{y}<br>name=%{customdata[0]}<extra></extra>",
         "legendgroup": "gauche",
         "marker": {
          "color": "#00cc96",
          "symbol": "circle"
         },
         "mode": "markers",
         "name": "gauche",
         "orientation": "v",
         "showlegend": true,
         "type": "scatter",
         "x": [
          17,
          14,
          25,
          58,
          13,
          12
         ],
         "xaxis": "x",
         "y": [
          17,
          19,
          36,
          80,
          16,
          62
         ],
         "yaxis": "y"
        },
        {
         "customdata": [
          [
           "Philippe Poutou"
          ],
          [
           "Anasse Kazib"
          ],
          [
           "Jean-Luc Mélenchon"
          ],
          [
           "Gerard Filoche"
          ],
          [
           "Nathalie Arthaud"
          ],
          [
           "Fabien Roussel"
          ]
         ],
         "hovertemplate": "political_orientation=extrême_gauche<br>Ecologie=%{x}<br>Economie=%{y}<br>name=%{customdata[0]}<extra></extra>",
         "legendgroup": "extrême_gauche",
         "marker": {
          "color": "#ab63fa",
          "symbol": "circle"
         },
         "mode": "markers",
         "name": "extrême_gauche",
         "orientation": "v",
         "showlegend": true,
         "type": "scatter",
         "x": [
          10,
          1,
          30,
          8,
          12,
          17
         ],
         "xaxis": "x",
         "y": [
          30,
          22,
          83,
          17,
          71,
          86
         ],
         "yaxis": "y"
        },
        {
         "customdata": [
          [
           "Eric Zemmour"
          ],
          [
           "Jean-Frédéric Poisson"
          ],
          [
           "Florian Philippot"
          ],
          [
           "Nicolas Dupont-Aignan"
          ],
          [
           "Marine Le Pen"
          ],
          [
           "Antoine Martinez"
          ]
         ],
         "hovertemplate": "political_orientation=extrême_droite<br>Ecologie=%{x}<br>Economie=%{y}<br>name=%{customdata[0]}<extra></extra>",
         "legendgroup": "extrême_droite",
         "marker": {
          "color": "#FFA15A",
          "symbol": "circle"
         },
         "mode": "markers",
         "name": "extrême_droite",
         "orientation": "v",
         "showlegend": true,
         "type": "scatter",
         "x": [
          3,
          19,
          5,
          6,
          22,
          5
         ],
         "xaxis": "x",
         "y": [
          48,
          42,
          30,
          64,
          81,
          33
         ],
         "yaxis": "y"
        },
        {
         "customdata": [
          [
           "Yannick Jadot"
          ],
          [
           "Hélène Thouy"
          ],
          [
           "Antoine Waechter"
          ]
         ],
         "hovertemplate": "political_orientation=ecologie<br>Ecologie=%{x}<br>Economie=%{y}<br>name=%{customdata[0]}<extra></extra>",
         "legendgroup": "ecologie",
         "marker": {
          "color": "#19d3f3",
          "symbol": "circle"
         },
         "mode": "markers",
         "name": "ecologie",
         "orientation": "v",
         "showlegend": true,
         "type": "scatter",
         "x": [
          105,
          11,
          76
         ],
         "xaxis": "x",
         "y": [
          58,
          28,
          36
         ],
         "yaxis": "y"
        }
       ],
       "layout": {
        "legend": {
         "title": {
          "text": "political_orientation"
         },
         "tracegroupgap": 0
        },
        "margin": {
         "t": 60
        },
        "template": {
         "data": {
          "bar": [
           {
            "error_x": {
             "color": "#2a3f5f"
            },
            "error_y": {
             "color": "#2a3f5f"
            },
            "marker": {
             "line": {
              "color": "#E5ECF6",
              "width": 0.5
             },
             "pattern": {
              "fillmode": "overlay",
              "size": 10,
              "solidity": 0.2
             }
            },
            "type": "bar"
           }
          ],
          "barpolar": [
           {
            "marker": {
             "line": {
              "color": "#E5ECF6",
              "width": 0.5
             },
             "pattern": {
              "fillmode": "overlay",
              "size": 10,
              "solidity": 0.2
             }
            },
            "type": "barpolar"
           }
          ],
          "carpet": [
           {
            "aaxis": {
             "endlinecolor": "#2a3f5f",
             "gridcolor": "white",
             "linecolor": "white",
             "minorgridcolor": "white",
             "startlinecolor": "#2a3f5f"
            },
            "baxis": {
             "endlinecolor": "#2a3f5f",
             "gridcolor": "white",
             "linecolor": "white",
             "minorgridcolor": "white",
             "startlinecolor": "#2a3f5f"
            },
            "type": "carpet"
           }
          ],
          "choropleth": [
           {
            "colorbar": {
             "outlinewidth": 0,
             "ticks": ""
            },
            "type": "choropleth"
           }
          ],
          "contour": [
           {
            "colorbar": {
             "outlinewidth": 0,
             "ticks": ""
            },
            "colorscale": [
             [
              0,
              "#0d0887"
             ],
             [
              0.1111111111111111,
              "#46039f"
             ],
             [
              0.2222222222222222,
              "#7201a8"
             ],
             [
              0.3333333333333333,
              "#9c179e"
             ],
             [
              0.4444444444444444,
              "#bd3786"
             ],
             [
              0.5555555555555556,
              "#d8576b"
             ],
             [
              0.6666666666666666,
              "#ed7953"
             ],
             [
              0.7777777777777778,
              "#fb9f3a"
             ],
             [
              0.8888888888888888,
              "#fdca26"
             ],
             [
              1,
              "#f0f921"
             ]
            ],
            "type": "contour"
           }
          ],
          "contourcarpet": [
           {
            "colorbar": {
             "outlinewidth": 0,
             "ticks": ""
            },
            "type": "contourcarpet"
           }
          ],
          "heatmap": [
           {
            "colorbar": {
             "outlinewidth": 0,
             "ticks": ""
            },
            "colorscale": [
             [
              0,
              "#0d0887"
             ],
             [
              0.1111111111111111,
              "#46039f"
             ],
             [
              0.2222222222222222,
              "#7201a8"
             ],
             [
              0.3333333333333333,
              "#9c179e"
             ],
             [
              0.4444444444444444,
              "#bd3786"
             ],
             [
              0.5555555555555556,
              "#d8576b"
             ],
             [
              0.6666666666666666,
              "#ed7953"
             ],
             [
              0.7777777777777778,
              "#fb9f3a"
             ],
             [
              0.8888888888888888,
              "#fdca26"
             ],
             [
              1,
              "#f0f921"
             ]
            ],
            "type": "heatmap"
           }
          ],
          "heatmapgl": [
           {
            "colorbar": {
             "outlinewidth": 0,
             "ticks": ""
            },
            "colorscale": [
             [
              0,
              "#0d0887"
             ],
             [
              0.1111111111111111,
              "#46039f"
             ],
             [
              0.2222222222222222,
              "#7201a8"
             ],
             [
              0.3333333333333333,
              "#9c179e"
             ],
             [
              0.4444444444444444,
              "#bd3786"
             ],
             [
              0.5555555555555556,
              "#d8576b"
             ],
             [
              0.6666666666666666,
              "#ed7953"
             ],
             [
              0.7777777777777778,
              "#fb9f3a"
             ],
             [
              0.8888888888888888,
              "#fdca26"
             ],
             [
              1,
              "#f0f921"
             ]
            ],
            "type": "heatmapgl"
           }
          ],
          "histogram": [
           {
            "marker": {
             "pattern": {
              "fillmode": "overlay",
              "size": 10,
              "solidity": 0.2
             }
            },
            "type": "histogram"
           }
          ],
          "histogram2d": [
           {
            "colorbar": {
             "outlinewidth": 0,
             "ticks": ""
            },
            "colorscale": [
             [
              0,
              "#0d0887"
             ],
             [
              0.1111111111111111,
              "#46039f"
             ],
             [
              0.2222222222222222,
              "#7201a8"
             ],
             [
              0.3333333333333333,
              "#9c179e"
             ],
             [
              0.4444444444444444,
              "#bd3786"
             ],
             [
              0.5555555555555556,
              "#d8576b"
             ],
             [
              0.6666666666666666,
              "#ed7953"
             ],
             [
              0.7777777777777778,
              "#fb9f3a"
             ],
             [
              0.8888888888888888,
              "#fdca26"
             ],
             [
              1,
              "#f0f921"
             ]
            ],
            "type": "histogram2d"
           }
          ],
          "histogram2dcontour": [
           {
            "colorbar": {
             "outlinewidth": 0,
             "ticks": ""
            },
            "colorscale": [
             [
              0,
              "#0d0887"
             ],
             [
              0.1111111111111111,
              "#46039f"
             ],
             [
              0.2222222222222222,
              "#7201a8"
             ],
             [
              0.3333333333333333,
              "#9c179e"
             ],
             [
              0.4444444444444444,
              "#bd3786"
             ],
             [
              0.5555555555555556,
              "#d8576b"
             ],
             [
              0.6666666666666666,
              "#ed7953"
             ],
             [
              0.7777777777777778,
              "#fb9f3a"
             ],
             [
              0.8888888888888888,
              "#fdca26"
             ],
             [
              1,
              "#f0f921"
             ]
            ],
            "type": "histogram2dcontour"
           }
          ],
          "mesh3d": [
           {
            "colorbar": {
             "outlinewidth": 0,
             "ticks": ""
            },
            "type": "mesh3d"
           }
          ],
          "parcoords": [
           {
            "line": {
             "colorbar": {
              "outlinewidth": 0,
              "ticks": ""
             }
            },
            "type": "parcoords"
           }
          ],
          "pie": [
           {
            "automargin": true,
            "type": "pie"
           }
          ],
          "scatter": [
           {
            "marker": {
             "colorbar": {
              "outlinewidth": 0,
              "ticks": ""
             }
            },
            "type": "scatter"
           }
          ],
          "scatter3d": [
           {
            "line": {
             "colorbar": {
              "outlinewidth": 0,
              "ticks": ""
             }
            },
            "marker": {
             "colorbar": {
              "outlinewidth": 0,
              "ticks": ""
             }
            },
            "type": "scatter3d"
           }
          ],
          "scattercarpet": [
           {
            "marker": {
             "colorbar": {
              "outlinewidth": 0,
              "ticks": ""
             }
            },
            "type": "scattercarpet"
           }
          ],
          "scattergeo": [
           {
            "marker": {
             "colorbar": {
              "outlinewidth": 0,
              "ticks": ""
             }
            },
            "type": "scattergeo"
           }
          ],
          "scattergl": [
           {
            "marker": {
             "colorbar": {
              "outlinewidth": 0,
              "ticks": ""
             }
            },
            "type": "scattergl"
           }
          ],
          "scattermapbox": [
           {
            "marker": {
             "colorbar": {
              "outlinewidth": 0,
              "ticks": ""
             }
            },
            "type": "scattermapbox"
           }
          ],
          "scatterpolar": [
           {
            "marker": {
             "colorbar": {
              "outlinewidth": 0,
              "ticks": ""
             }
            },
            "type": "scatterpolar"
           }
          ],
          "scatterpolargl": [
           {
            "marker": {
             "colorbar": {
              "outlinewidth": 0,
              "ticks": ""
             }
            },
            "type": "scatterpolargl"
           }
          ],
          "scatterternary": [
           {
            "marker": {
             "colorbar": {
              "outlinewidth": 0,
              "ticks": ""
             }
            },
            "type": "scatterternary"
           }
          ],
          "surface": [
           {
            "colorbar": {
             "outlinewidth": 0,
             "ticks": ""
            },
            "colorscale": [
             [
              0,
              "#0d0887"
             ],
             [
              0.1111111111111111,
              "#46039f"
             ],
             [
              0.2222222222222222,
              "#7201a8"
             ],
             [
              0.3333333333333333,
              "#9c179e"
             ],
             [
              0.4444444444444444,
              "#bd3786"
             ],
             [
              0.5555555555555556,
              "#d8576b"
             ],
             [
              0.6666666666666666,
              "#ed7953"
             ],
             [
              0.7777777777777778,
              "#fb9f3a"
             ],
             [
              0.8888888888888888,
              "#fdca26"
             ],
             [
              1,
              "#f0f921"
             ]
            ],
            "type": "surface"
           }
          ],
          "table": [
           {
            "cells": {
             "fill": {
              "color": "#EBF0F8"
             },
             "line": {
              "color": "white"
             }
            },
            "header": {
             "fill": {
              "color": "#C8D4E3"
             },
             "line": {
              "color": "white"
             }
            },
            "type": "table"
           }
          ]
         },
         "layout": {
          "annotationdefaults": {
           "arrowcolor": "#2a3f5f",
           "arrowhead": 0,
           "arrowwidth": 1
          },
          "autotypenumbers": "strict",
          "coloraxis": {
           "colorbar": {
            "outlinewidth": 0,
            "ticks": ""
           }
          },
          "colorscale": {
           "diverging": [
            [
             0,
             "#8e0152"
            ],
            [
             0.1,
             "#c51b7d"
            ],
            [
             0.2,
             "#de77ae"
            ],
            [
             0.3,
             "#f1b6da"
            ],
            [
             0.4,
             "#fde0ef"
            ],
            [
             0.5,
             "#f7f7f7"
            ],
            [
             0.6,
             "#e6f5d0"
            ],
            [
             0.7,
             "#b8e186"
            ],
            [
             0.8,
             "#7fbc41"
            ],
            [
             0.9,
             "#4d9221"
            ],
            [
             1,
             "#276419"
            ]
           ],
           "sequential": [
            [
             0,
             "#0d0887"
            ],
            [
             0.1111111111111111,
             "#46039f"
            ],
            [
             0.2222222222222222,
             "#7201a8"
            ],
            [
             0.3333333333333333,
             "#9c179e"
            ],
            [
             0.4444444444444444,
             "#bd3786"
            ],
            [
             0.5555555555555556,
             "#d8576b"
            ],
            [
             0.6666666666666666,
             "#ed7953"
            ],
            [
             0.7777777777777778,
             "#fb9f3a"
            ],
            [
             0.8888888888888888,
             "#fdca26"
            ],
            [
             1,
             "#f0f921"
            ]
           ],
           "sequentialminus": [
            [
             0,
             "#0d0887"
            ],
            [
             0.1111111111111111,
             "#46039f"
            ],
            [
             0.2222222222222222,
             "#7201a8"
            ],
            [
             0.3333333333333333,
             "#9c179e"
            ],
            [
             0.4444444444444444,
             "#bd3786"
            ],
            [
             0.5555555555555556,
             "#d8576b"
            ],
            [
             0.6666666666666666,
             "#ed7953"
            ],
            [
             0.7777777777777778,
             "#fb9f3a"
            ],
            [
             0.8888888888888888,
             "#fdca26"
            ],
            [
             1,
             "#f0f921"
            ]
           ]
          },
          "colorway": [
           "#636efa",
           "#EF553B",
           "#00cc96",
           "#ab63fa",
           "#FFA15A",
           "#19d3f3",
           "#FF6692",
           "#B6E880",
           "#FF97FF",
           "#FECB52"
          ],
          "font": {
           "color": "#2a3f5f"
          },
          "geo": {
           "bgcolor": "white",
           "lakecolor": "white",
           "landcolor": "#E5ECF6",
           "showlakes": true,
           "showland": true,
           "subunitcolor": "white"
          },
          "hoverlabel": {
           "align": "left"
          },
          "hovermode": "closest",
          "mapbox": {
           "style": "light"
          },
          "paper_bgcolor": "white",
          "plot_bgcolor": "#E5ECF6",
          "polar": {
           "angularaxis": {
            "gridcolor": "white",
            "linecolor": "white",
            "ticks": ""
           },
           "bgcolor": "#E5ECF6",
           "radialaxis": {
            "gridcolor": "white",
            "linecolor": "white",
            "ticks": ""
           }
          },
          "scene": {
           "xaxis": {
            "backgroundcolor": "#E5ECF6",
            "gridcolor": "white",
            "gridwidth": 2,
            "linecolor": "white",
            "showbackground": true,
            "ticks": "",
            "zerolinecolor": "white"
           },
           "yaxis": {
            "backgroundcolor": "#E5ECF6",
            "gridcolor": "white",
            "gridwidth": 2,
            "linecolor": "white",
            "showbackground": true,
            "ticks": "",
            "zerolinecolor": "white"
           },
           "zaxis": {
            "backgroundcolor": "#E5ECF6",
            "gridcolor": "white",
            "gridwidth": 2,
            "linecolor": "white",
            "showbackground": true,
            "ticks": "",
            "zerolinecolor": "white"
           }
          },
          "shapedefaults": {
           "line": {
            "color": "#2a3f5f"
           }
          },
          "ternary": {
           "aaxis": {
            "gridcolor": "white",
            "linecolor": "white",
            "ticks": ""
           },
           "baxis": {
            "gridcolor": "white",
            "linecolor": "white",
            "ticks": ""
           },
           "bgcolor": "#E5ECF6",
           "caxis": {
            "gridcolor": "white",
            "linecolor": "white",
            "ticks": ""
           }
          },
          "title": {
           "x": 0.05
          },
          "xaxis": {
           "automargin": true,
           "gridcolor": "white",
           "linecolor": "white",
           "ticks": "",
           "title": {
            "standoff": 15
           },
           "zerolinecolor": "white",
           "zerolinewidth": 2
          },
          "yaxis": {
           "automargin": true,
           "gridcolor": "white",
           "linecolor": "white",
           "ticks": "",
           "title": {
            "standoff": 15
           },
           "zerolinecolor": "white",
           "zerolinewidth": 2
          }
         }
        },
        "xaxis": {
         "anchor": "y",
         "domain": [
          0,
          1
         ],
         "title": {
          "text": "Ecologie"
         }
        },
        "yaxis": {
         "anchor": "x",
         "domain": [
          0,
          1
         ],
         "title": {
          "text": "Economie"
         }
        }
       }
      },
      "text/html": [
       "<div>                            <div id=\"6a892b06-a5b7-4408-8224-6d5ccc0b38a6\" class=\"plotly-graph-div\" style=\"height:525px; width:100%;\"></div>            <script type=\"text/javascript\">                require([\"plotly\"], function(Plotly) {                    window.PLOTLYENV=window.PLOTLYENV || {};                                    if (document.getElementById(\"6a892b06-a5b7-4408-8224-6d5ccc0b38a6\")) {                    Plotly.newPlot(                        \"6a892b06-a5b7-4408-8224-6d5ccc0b38a6\",                        [{\"customdata\":[[\"Alex Langlois\"],[\"Fabrice Grimal\"],[\"Clara Egger\"],[\"Georges Kuzmanovic\"],[\"Marie Cau\"],[\"Jean Lassale\"],[\"Fran\\u00e7ois Asselineau\"],[\"Luc Laforets\"],[\"Martin Rocca\"],[\"Gilles Lazzarini\"],[\"Gildas Vieira\"]],\"hovertemplate\":\"political_orientation=divers<br>Ecologie=%{x}<br>Economie=%{y}<br>name=%{customdata[0]}<extra></extra>\",\"legendgroup\":\"divers\",\"marker\":{\"color\":\"#636efa\",\"symbol\":\"circle\"},\"mode\":\"markers\",\"name\":\"divers\",\"orientation\":\"v\",\"showlegend\":true,\"type\":\"scatter\",\"x\":[11,2,3,17,7,12,11,7,2,14,4],\"xaxis\":\"x\",\"y\":[15,22,4,48,14,56,70,17,8,25,8],\"yaxis\":\"y\"},{\"customdata\":[[\"\\u00c9douard Philippe\"],[\"Emmanuel Macron\"],[\"R\\u00e9gis Ollivier\"],[\"Philippe Juvin\"],[\"Jacline Mouraud\"],[\"Denis Payre\"],[\"Eric Ciotti\"],[\"Michel Barnier\"],[\"Val\\u00e9rie P\\u00e9cresse\"],[\"Xavier Bertrand\"]],\"hovertemplate\":\"political_orientation=droite<br>Ecologie=%{x}<br>Economie=%{y}<br>name=%{customdata[0]}<extra></extra>\",\"legendgroup\":\"droite\",\"marker\":{\"color\":\"#EF553B\",\"symbol\":\"circle\"},\"mode\":\"markers\",\"name\":\"droite\",\"orientation\":\"v\",\"showlegend\":true,\"type\":\"scatter\",\"x\":[12,51,5,14,4,10,2,24,8,10],\"xaxis\":\"x\",\"y\":[52,86,15,42,22,44,33,57,57,27],\"yaxis\":\"y\"},{\"customdata\":[[\"Charlotte Marchandise\"],[\"Anna Agueb-Porterie\"],[\"Anne Hidalgo\"],[\"Pierre Larrouturou\"],[\"Philippe Mazuel\"],[\"Arnaud Montebourg\"]],\"hovertemplate\":\"political_orientation=gauche<br>Ecologie=%{x}<br>Economie=%{y}<br>name=%{customdata[0]}<extra></extra>\",\"legendgroup\":\"gauche\",\"marker\":{\"color\":\"#00cc96\",\"symbol\":\"circle\"},\"mode\":\"markers\",\"name\":\"gauche\",\"orientation\":\"v\",\"showlegend\":true,\"type\":\"scatter\",\"x\":[17,14,25,58,13,12],\"xaxis\":\"x\",\"y\":[17,19,36,80,16,62],\"yaxis\":\"y\"},{\"customdata\":[[\"Philippe Poutou\"],[\"Anasse Kazib\"],[\"Jean-Luc M\\u00e9lenchon\"],[\"Gerard Filoche\"],[\"Nathalie Arthaud\"],[\"Fabien Roussel\"]],\"hovertemplate\":\"political_orientation=extr\\u00eame_gauche<br>Ecologie=%{x}<br>Economie=%{y}<br>name=%{customdata[0]}<extra></extra>\",\"legendgroup\":\"extr\\u00eame_gauche\",\"marker\":{\"color\":\"#ab63fa\",\"symbol\":\"circle\"},\"mode\":\"markers\",\"name\":\"extr\\u00eame_gauche\",\"orientation\":\"v\",\"showlegend\":true,\"type\":\"scatter\",\"x\":[10,1,30,8,12,17],\"xaxis\":\"x\",\"y\":[30,22,83,17,71,86],\"yaxis\":\"y\"},{\"customdata\":[[\"Eric Zemmour\"],[\"Jean-Fr\\u00e9d\\u00e9ric Poisson\"],[\"Florian Philippot\"],[\"Nicolas Dupont-Aignan\"],[\"Marine Le Pen\"],[\"Antoine Martinez\"]],\"hovertemplate\":\"political_orientation=extr\\u00eame_droite<br>Ecologie=%{x}<br>Economie=%{y}<br>name=%{customdata[0]}<extra></extra>\",\"legendgroup\":\"extr\\u00eame_droite\",\"marker\":{\"color\":\"#FFA15A\",\"symbol\":\"circle\"},\"mode\":\"markers\",\"name\":\"extr\\u00eame_droite\",\"orientation\":\"v\",\"showlegend\":true,\"type\":\"scatter\",\"x\":[3,19,5,6,22,5],\"xaxis\":\"x\",\"y\":[48,42,30,64,81,33],\"yaxis\":\"y\"},{\"customdata\":[[\"Yannick Jadot\"],[\"H\\u00e9l\\u00e8ne Thouy\"],[\"Antoine Waechter\"]],\"hovertemplate\":\"political_orientation=ecologie<br>Ecologie=%{x}<br>Economie=%{y}<br>name=%{customdata[0]}<extra></extra>\",\"legendgroup\":\"ecologie\",\"marker\":{\"color\":\"#19d3f3\",\"symbol\":\"circle\"},\"mode\":\"markers\",\"name\":\"ecologie\",\"orientation\":\"v\",\"showlegend\":true,\"type\":\"scatter\",\"x\":[105,11,76],\"xaxis\":\"x\",\"y\":[58,28,36],\"yaxis\":\"y\"}],                        {\"legend\":{\"title\":{\"text\":\"political_orientation\"},\"tracegroupgap\":0},\"margin\":{\"t\":60},\"template\":{\"data\":{\"bar\":[{\"error_x\":{\"color\":\"#2a3f5f\"},\"error_y\":{\"color\":\"#2a3f5f\"},\"marker\":{\"line\":{\"color\":\"#E5ECF6\",\"width\":0.5},\"pattern\":{\"fillmode\":\"overlay\",\"size\":10,\"solidity\":0.2}},\"type\":\"bar\"}],\"barpolar\":[{\"marker\":{\"line\":{\"color\":\"#E5ECF6\",\"width\":0.5},\"pattern\":{\"fillmode\":\"overlay\",\"size\":10,\"solidity\":0.2}},\"type\":\"barpolar\"}],\"carpet\":[{\"aaxis\":{\"endlinecolor\":\"#2a3f5f\",\"gridcolor\":\"white\",\"linecolor\":\"white\",\"minorgridcolor\":\"white\",\"startlinecolor\":\"#2a3f5f\"},\"baxis\":{\"endlinecolor\":\"#2a3f5f\",\"gridcolor\":\"white\",\"linecolor\":\"white\",\"minorgridcolor\":\"white\",\"startlinecolor\":\"#2a3f5f\"},\"type\":\"carpet\"}],\"choropleth\":[{\"colorbar\":{\"outlinewidth\":0,\"ticks\":\"\"},\"type\":\"choropleth\"}],\"contour\":[{\"colorbar\":{\"outlinewidth\":0,\"ticks\":\"\"},\"colorscale\":[[0.0,\"#0d0887\"],[0.1111111111111111,\"#46039f\"],[0.2222222222222222,\"#7201a8\"],[0.3333333333333333,\"#9c179e\"],[0.4444444444444444,\"#bd3786\"],[0.5555555555555556,\"#d8576b\"],[0.6666666666666666,\"#ed7953\"],[0.7777777777777778,\"#fb9f3a\"],[0.8888888888888888,\"#fdca26\"],[1.0,\"#f0f921\"]],\"type\":\"contour\"}],\"contourcarpet\":[{\"colorbar\":{\"outlinewidth\":0,\"ticks\":\"\"},\"type\":\"contourcarpet\"}],\"heatmap\":[{\"colorbar\":{\"outlinewidth\":0,\"ticks\":\"\"},\"colorscale\":[[0.0,\"#0d0887\"],[0.1111111111111111,\"#46039f\"],[0.2222222222222222,\"#7201a8\"],[0.3333333333333333,\"#9c179e\"],[0.4444444444444444,\"#bd3786\"],[0.5555555555555556,\"#d8576b\"],[0.6666666666666666,\"#ed7953\"],[0.7777777777777778,\"#fb9f3a\"],[0.8888888888888888,\"#fdca26\"],[1.0,\"#f0f921\"]],\"type\":\"heatmap\"}],\"heatmapgl\":[{\"colorbar\":{\"outlinewidth\":0,\"ticks\":\"\"},\"colorscale\":[[0.0,\"#0d0887\"],[0.1111111111111111,\"#46039f\"],[0.2222222222222222,\"#7201a8\"],[0.3333333333333333,\"#9c179e\"],[0.4444444444444444,\"#bd3786\"],[0.5555555555555556,\"#d8576b\"],[0.6666666666666666,\"#ed7953\"],[0.7777777777777778,\"#fb9f3a\"],[0.8888888888888888,\"#fdca26\"],[1.0,\"#f0f921\"]],\"type\":\"heatmapgl\"}],\"histogram\":[{\"marker\":{\"pattern\":{\"fillmode\":\"overlay\",\"size\":10,\"solidity\":0.2}},\"type\":\"histogram\"}],\"histogram2d\":[{\"colorbar\":{\"outlinewidth\":0,\"ticks\":\"\"},\"colorscale\":[[0.0,\"#0d0887\"],[0.1111111111111111,\"#46039f\"],[0.2222222222222222,\"#7201a8\"],[0.3333333333333333,\"#9c179e\"],[0.4444444444444444,\"#bd3786\"],[0.5555555555555556,\"#d8576b\"],[0.6666666666666666,\"#ed7953\"],[0.7777777777777778,\"#fb9f3a\"],[0.8888888888888888,\"#fdca26\"],[1.0,\"#f0f921\"]],\"type\":\"histogram2d\"}],\"histogram2dcontour\":[{\"colorbar\":{\"outlinewidth\":0,\"ticks\":\"\"},\"colorscale\":[[0.0,\"#0d0887\"],[0.1111111111111111,\"#46039f\"],[0.2222222222222222,\"#7201a8\"],[0.3333333333333333,\"#9c179e\"],[0.4444444444444444,\"#bd3786\"],[0.5555555555555556,\"#d8576b\"],[0.6666666666666666,\"#ed7953\"],[0.7777777777777778,\"#fb9f3a\"],[0.8888888888888888,\"#fdca26\"],[1.0,\"#f0f921\"]],\"type\":\"histogram2dcontour\"}],\"mesh3d\":[{\"colorbar\":{\"outlinewidth\":0,\"ticks\":\"\"},\"type\":\"mesh3d\"}],\"parcoords\":[{\"line\":{\"colorbar\":{\"outlinewidth\":0,\"ticks\":\"\"}},\"type\":\"parcoords\"}],\"pie\":[{\"automargin\":true,\"type\":\"pie\"}],\"scatter\":[{\"marker\":{\"colorbar\":{\"outlinewidth\":0,\"ticks\":\"\"}},\"type\":\"scatter\"}],\"scatter3d\":[{\"line\":{\"colorbar\":{\"outlinewidth\":0,\"ticks\":\"\"}},\"marker\":{\"colorbar\":{\"outlinewidth\":0,\"ticks\":\"\"}},\"type\":\"scatter3d\"}],\"scattercarpet\":[{\"marker\":{\"colorbar\":{\"outlinewidth\":0,\"ticks\":\"\"}},\"type\":\"scattercarpet\"}],\"scattergeo\":[{\"marker\":{\"colorbar\":{\"outlinewidth\":0,\"ticks\":\"\"}},\"type\":\"scattergeo\"}],\"scattergl\":[{\"marker\":{\"colorbar\":{\"outlinewidth\":0,\"ticks\":\"\"}},\"type\":\"scattergl\"}],\"scattermapbox\":[{\"marker\":{\"colorbar\":{\"outlinewidth\":0,\"ticks\":\"\"}},\"type\":\"scattermapbox\"}],\"scatterpolar\":[{\"marker\":{\"colorbar\":{\"outlinewidth\":0,\"ticks\":\"\"}},\"type\":\"scatterpolar\"}],\"scatterpolargl\":[{\"marker\":{\"colorbar\":{\"outlinewidth\":0,\"ticks\":\"\"}},\"type\":\"scatterpolargl\"}],\"scatterternary\":[{\"marker\":{\"colorbar\":{\"outlinewidth\":0,\"ticks\":\"\"}},\"type\":\"scatterternary\"}],\"surface\":[{\"colorbar\":{\"outlinewidth\":0,\"ticks\":\"\"},\"colorscale\":[[0.0,\"#0d0887\"],[0.1111111111111111,\"#46039f\"],[0.2222222222222222,\"#7201a8\"],[0.3333333333333333,\"#9c179e\"],[0.4444444444444444,\"#bd3786\"],[0.5555555555555556,\"#d8576b\"],[0.6666666666666666,\"#ed7953\"],[0.7777777777777778,\"#fb9f3a\"],[0.8888888888888888,\"#fdca26\"],[1.0,\"#f0f921\"]],\"type\":\"surface\"}],\"table\":[{\"cells\":{\"fill\":{\"color\":\"#EBF0F8\"},\"line\":{\"color\":\"white\"}},\"header\":{\"fill\":{\"color\":\"#C8D4E3\"},\"line\":{\"color\":\"white\"}},\"type\":\"table\"}]},\"layout\":{\"annotationdefaults\":{\"arrowcolor\":\"#2a3f5f\",\"arrowhead\":0,\"arrowwidth\":1},\"autotypenumbers\":\"strict\",\"coloraxis\":{\"colorbar\":{\"outlinewidth\":0,\"ticks\":\"\"}},\"colorscale\":{\"diverging\":[[0,\"#8e0152\"],[0.1,\"#c51b7d\"],[0.2,\"#de77ae\"],[0.3,\"#f1b6da\"],[0.4,\"#fde0ef\"],[0.5,\"#f7f7f7\"],[0.6,\"#e6f5d0\"],[0.7,\"#b8e186\"],[0.8,\"#7fbc41\"],[0.9,\"#4d9221\"],[1,\"#276419\"]],\"sequential\":[[0.0,\"#0d0887\"],[0.1111111111111111,\"#46039f\"],[0.2222222222222222,\"#7201a8\"],[0.3333333333333333,\"#9c179e\"],[0.4444444444444444,\"#bd3786\"],[0.5555555555555556,\"#d8576b\"],[0.6666666666666666,\"#ed7953\"],[0.7777777777777778,\"#fb9f3a\"],[0.8888888888888888,\"#fdca26\"],[1.0,\"#f0f921\"]],\"sequentialminus\":[[0.0,\"#0d0887\"],[0.1111111111111111,\"#46039f\"],[0.2222222222222222,\"#7201a8\"],[0.3333333333333333,\"#9c179e\"],[0.4444444444444444,\"#bd3786\"],[0.5555555555555556,\"#d8576b\"],[0.6666666666666666,\"#ed7953\"],[0.7777777777777778,\"#fb9f3a\"],[0.8888888888888888,\"#fdca26\"],[1.0,\"#f0f921\"]]},\"colorway\":[\"#636efa\",\"#EF553B\",\"#00cc96\",\"#ab63fa\",\"#FFA15A\",\"#19d3f3\",\"#FF6692\",\"#B6E880\",\"#FF97FF\",\"#FECB52\"],\"font\":{\"color\":\"#2a3f5f\"},\"geo\":{\"bgcolor\":\"white\",\"lakecolor\":\"white\",\"landcolor\":\"#E5ECF6\",\"showlakes\":true,\"showland\":true,\"subunitcolor\":\"white\"},\"hoverlabel\":{\"align\":\"left\"},\"hovermode\":\"closest\",\"mapbox\":{\"style\":\"light\"},\"paper_bgcolor\":\"white\",\"plot_bgcolor\":\"#E5ECF6\",\"polar\":{\"angularaxis\":{\"gridcolor\":\"white\",\"linecolor\":\"white\",\"ticks\":\"\"},\"bgcolor\":\"#E5ECF6\",\"radialaxis\":{\"gridcolor\":\"white\",\"linecolor\":\"white\",\"ticks\":\"\"}},\"scene\":{\"xaxis\":{\"backgroundcolor\":\"#E5ECF6\",\"gridcolor\":\"white\",\"gridwidth\":2,\"linecolor\":\"white\",\"showbackground\":true,\"ticks\":\"\",\"zerolinecolor\":\"white\"},\"yaxis\":{\"backgroundcolor\":\"#E5ECF6\",\"gridcolor\":\"white\",\"gridwidth\":2,\"linecolor\":\"white\",\"showbackground\":true,\"ticks\":\"\",\"zerolinecolor\":\"white\"},\"zaxis\":{\"backgroundcolor\":\"#E5ECF6\",\"gridcolor\":\"white\",\"gridwidth\":2,\"linecolor\":\"white\",\"showbackground\":true,\"ticks\":\"\",\"zerolinecolor\":\"white\"}},\"shapedefaults\":{\"line\":{\"color\":\"#2a3f5f\"}},\"ternary\":{\"aaxis\":{\"gridcolor\":\"white\",\"linecolor\":\"white\",\"ticks\":\"\"},\"baxis\":{\"gridcolor\":\"white\",\"linecolor\":\"white\",\"ticks\":\"\"},\"bgcolor\":\"#E5ECF6\",\"caxis\":{\"gridcolor\":\"white\",\"linecolor\":\"white\",\"ticks\":\"\"}},\"title\":{\"x\":0.05},\"xaxis\":{\"automargin\":true,\"gridcolor\":\"white\",\"linecolor\":\"white\",\"ticks\":\"\",\"title\":{\"standoff\":15},\"zerolinecolor\":\"white\",\"zerolinewidth\":2},\"yaxis\":{\"automargin\":true,\"gridcolor\":\"white\",\"linecolor\":\"white\",\"ticks\":\"\",\"title\":{\"standoff\":15},\"zerolinecolor\":\"white\",\"zerolinewidth\":2}}},\"xaxis\":{\"anchor\":\"y\",\"domain\":[0.0,1.0],\"title\":{\"text\":\"Ecologie\"}},\"yaxis\":{\"anchor\":\"x\",\"domain\":[0.0,1.0],\"title\":{\"text\":\"Economie\"}}},                        {\"responsive\": true}                    ).then(function(){\n",
       "                            \n",
       "var gd = document.getElementById('6a892b06-a5b7-4408-8224-6d5ccc0b38a6');\n",
       "var x = new MutationObserver(function (mutations, observer) {{\n",
       "        var display = window.getComputedStyle(gd).display;\n",
       "        if (!display || display === 'none') {{\n",
       "            console.log([gd, 'removed!']);\n",
       "            Plotly.purge(gd);\n",
       "            observer.disconnect();\n",
       "        }}\n",
       "}});\n",
       "\n",
       "// Listen for the removal of the full notebook cells\n",
       "var notebookContainer = gd.closest('#notebook-container');\n",
       "if (notebookContainer) {{\n",
       "    x.observe(notebookContainer, {childList: true});\n",
       "}}\n",
       "\n",
       "// Listen for the clearing of the current output cell\n",
       "var outputEl = gd.closest('.output');\n",
       "if (outputEl) {{\n",
       "    x.observe(outputEl, {childList: true});\n",
       "}}\n",
       "\n",
       "                        })                };                });            </script>        </div>"
      ]
     },
     "metadata": {},
     "output_type": "display_data"
    }
   ],
   "source": [
    "score_for_two_given_themes(first_theme=\"Ecologie\", second_theme=\"Economie\")"
   ]
  },
  {
   "cell_type": "markdown",
   "id": "407a04b3",
   "metadata": {},
   "source": [
    "## Choix d'un candidat"
   ]
  },
  {
   "cell_type": "markdown",
   "id": "3659b475",
   "metadata": {},
   "source": [
    "Choix sur une liste avec infos à suivre s'actualisant de façon dynamqiue"
   ]
  },
  {
   "cell_type": "markdown",
   "id": "41daab75",
   "metadata": {},
   "source": [
    "- Photo\n",
    "- Nom et prénom\n",
    "- Parti politique\n",
    "- Orientation politique"
   ]
  },
  {
   "cell_type": "code",
   "execution_count": 58,
   "id": "8ba57581",
   "metadata": {},
   "outputs": [],
   "source": [
    "def user_image(user):\n",
    "    \"\"\"\n",
    "    Returns the twitter profiles image for a given candidate\n",
    "    \"\"\"\n",
    "    # Define the path\n",
    "    APP_FOLDER = 'raw_data/images/'+user+'.jpg'\n",
    "    \n",
    "    return display(Image(filename=APP_FOLDER))"
   ]
  },
  {
   "cell_type": "code",
   "execution_count": 124,
   "id": "b0b181bd",
   "metadata": {},
   "outputs": [
    {
     "data": {
      "image/jpeg": "[encoded data removed]",
      "text/plain": [
       "<IPython.core.display.Image object>"
      ]
     },
     "metadata": {},
     "output_type": "display_data"
    }
   ],
   "source": [
    "user_image(user=\"JLMelenchon\")"
   ]
  },
  {
   "cell_type": "code",
   "execution_count": 60,
   "id": "da89a1fc",
   "metadata": {},
   "outputs": [],
   "source": [
    "def user_name(user):\n",
    "    \"\"\"\n",
    "    Returns user's name\n",
    "    \"\"\"\n",
    "    name = df_ready_for_nlp[df_ready_for_nlp[\"user\"]==user][\"name\"].unique()[0]\n",
    "    return name"
   ]
  },
  {
   "cell_type": "code",
   "execution_count": 125,
   "id": "43931eea",
   "metadata": {},
   "outputs": [
    {
     "data": {
      "text/plain": [
       "'Jean-Luc Mélenchon'"
      ]
     },
     "execution_count": 125,
     "metadata": {},
     "output_type": "execute_result"
    }
   ],
   "source": [
    "user_name(user=\"JLMelenchon\")"
   ]
  },
  {
   "cell_type": "code",
   "execution_count": 62,
   "id": "62ac25f7",
   "metadata": {},
   "outputs": [],
   "source": [
    "def user_political_party(user):\n",
    "    \"\"\"\n",
    "    Returns user's political party\n",
    "    \"\"\"\n",
    "    parti_politique = df_ready_for_nlp[df_ready_for_nlp[\"user\"]==user][\"political_party\"].unique()[0]\n",
    "    return parti_politique"
   ]
  },
  {
   "cell_type": "code",
   "execution_count": 126,
   "id": "0ef204c8",
   "metadata": {},
   "outputs": [
    {
     "data": {
      "text/plain": [
       "'La France Insoumise'"
      ]
     },
     "execution_count": 126,
     "metadata": {},
     "output_type": "execute_result"
    }
   ],
   "source": [
    "user_political_party(user=\"JLMelenchon\")"
   ]
  },
  {
   "cell_type": "code",
   "execution_count": 64,
   "id": "508294c8",
   "metadata": {},
   "outputs": [],
   "source": [
    "def user_political_oritentation(user):\n",
    "    \"\"\"\n",
    "    Return user's political orientation\n",
    "    \"\"\"\n",
    "    orientation_politique = df_ready_for_nlp[df_ready_for_nlp[\"user\"]==user][\"political_orientation\"].unique()[0]\n",
    "    return orientation_politique"
   ]
  },
  {
   "cell_type": "code",
   "execution_count": 127,
   "id": "d4b9fd7b",
   "metadata": {},
   "outputs": [
    {
     "data": {
      "text/plain": [
       "'extrême_gauche'"
      ]
     },
     "execution_count": 127,
     "metadata": {},
     "output_type": "execute_result"
    }
   ],
   "source": [
    "user_political_oritentation(user=\"JLMelenchon\")"
   ]
  },
  {
   "cell_type": "markdown",
   "id": "c93f2bbc",
   "metadata": {},
   "source": [
    "## Ses thèmes de prédilection"
   ]
  },
  {
   "cell_type": "code",
   "execution_count": 66,
   "id": "2f7449d5",
   "metadata": {},
   "outputs": [],
   "source": [
    "def user_score_per_theme_vs_global_and_orientation(user):\n",
    "    \"\"\"\n",
    "    Returns a bar graph with the score per theme for a given candidate and the mean global score for every candidates and for his/her political orientation\n",
    "    \"\"\"\n",
    "    # Generate user score per theme\n",
    "    user_scores = list(lexicon_score_per_user_df[lexicon_score_per_user_df[\"user\"]==user].drop(columns=\"political_orientation\").iloc[0])[1:]\n",
    "    \n",
    "    # Generate user political orientation average score per theme\n",
    "    user_political_orientation = list(lexicon_score_per_user_df[lexicon_score_per_user_df[\"user\"]==user][\"political_orientation\"])[0]\n",
    "    # Generate his/her name\n",
    "    user_name = list(lexicon_score_per_user_df[lexicon_score_per_user_df[\"user\"]==user][\"name\"])[0]\n",
    "    # Generate a df with the avg score per political orientation\n",
    "    avg_score_per_political_orientation = lexicon_score_per_user_df.groupby(['political_orientation']).mean()\n",
    "    # Store the right political orientation results in a variable\n",
    "    political_orientation_scores = list(avg_score_per_political_orientation\n",
    "                                  [avg_score_per_political_orientation.index==user_political_orientation]\n",
    "                                  .iloc[0])\n",
    "    \n",
    "    # Generate national score per theme\n",
    "    national_scores = list(avg_score_per_political_orientation.mean())\n",
    "    \n",
    "    # Define themes\n",
    "    themes = avg_score_per_political_orientation.columns\n",
    "    \n",
    "    fig = go.Figure(data=[\n",
    "                    go.Bar(name=f'{user_name} score', x=themes, y=user_scores),\n",
    "                    go.Bar(name=f'{user_political_orientation} score', x=themes, y=political_orientation_scores),\n",
    "                    go.Bar(name='National score', x=themes, y=national_scores)\n",
    "                    ])\n",
    "    \n",
    "    # Change the bar mode\n",
    "    fig.update_layout(barmode='group')\n",
    "    \n",
    "    return fig.show()"
   ]
  },
  {
   "cell_type": "code",
   "execution_count": 128,
   "id": "3ed65d65",
   "metadata": {},
   "outputs": [
    {
     "data": {
      "application/vnd.plotly.v1+json": {
       "config": {
        "plotlyServerURL": "https://plot.ly"
       },
       "data": [
        {
         "name": "Jean-Luc Mélenchon score",
         "type": "bar",
         "x": [
          "Politique",
          "Actualité",
          "Candidats",
          "Travail",
          "Santé",
          "Economie",
          "Sécurité",
          "Extrême",
          "Ecologie",
          "Pouvoir_achat"
         ],
         "y": [
          250,
          154,
          149,
          69,
          42,
          83,
          57,
          20,
          30,
          19,
          "Jean-Luc Mélenchon"
         ]
        },
        {
         "name": "extrême_gauche score",
         "type": "bar",
         "x": [
          "Politique",
          "Actualité",
          "Candidats",
          "Travail",
          "Santé",
          "Economie",
          "Sécurité",
          "Extrême",
          "Ecologie",
          "Pouvoir_achat"
         ],
         "y": [
          195.5,
          182,
          116.5,
          75,
          38.666666666666664,
          51.5,
          34.666666666666664,
          21.333333333333332,
          13,
          21.166666666666668
         ]
        },
        {
         "name": "National score",
         "type": "bar",
         "x": [
          "Politique",
          "Actualité",
          "Candidats",
          "Travail",
          "Santé",
          "Economie",
          "Sécurité",
          "Extrême",
          "Ecologie",
          "Pouvoir_achat"
         ],
         "y": [
          171.05959595959595,
          176.86515151515152,
          69.82727272727273,
          50.22575757575757,
          44.78232323232323,
          41.62626262626262,
          35.70353535353535,
          15.85,
          22.058080808080806,
          10.40050505050505
         ]
        }
       ],
       "layout": {
        "barmode": "group",
        "template": {
         "data": {
          "bar": [
           {
            "error_x": {
             "color": "#2a3f5f"
            },
            "error_y": {
             "color": "#2a3f5f"
            },
            "marker": {
             "line": {
              "color": "#E5ECF6",
              "width": 0.5
             },
             "pattern": {
              "fillmode": "overlay",
              "size": 10,
              "solidity": 0.2
             }
            },
            "type": "bar"
           }
          ],
          "barpolar": [
           {
            "marker": {
             "line": {
              "color": "#E5ECF6",
              "width": 0.5
             },
             "pattern": {
              "fillmode": "overlay",
              "size": 10,
              "solidity": 0.2
             }
            },
            "type": "barpolar"
           }
          ],
          "carpet": [
           {
            "aaxis": {
             "endlinecolor": "#2a3f5f",
             "gridcolor": "white",
             "linecolor": "white",
             "minorgridcolor": "white",
             "startlinecolor": "#2a3f5f"
            },
            "baxis": {
             "endlinecolor": "#2a3f5f",
             "gridcolor": "white",
             "linecolor": "white",
             "minorgridcolor": "white",
             "startlinecolor": "#2a3f5f"
            },
            "type": "carpet"
           }
          ],
          "choropleth": [
           {
            "colorbar": {
             "outlinewidth": 0,
             "ticks": ""
            },
            "type": "choropleth"
           }
          ],
          "contour": [
           {
            "colorbar": {
             "outlinewidth": 0,
             "ticks": ""
            },
            "colorscale": [
             [
              0,
              "#0d0887"
             ],
             [
              0.1111111111111111,
              "#46039f"
             ],
             [
              0.2222222222222222,
              "#7201a8"
             ],
             [
              0.3333333333333333,
              "#9c179e"
             ],
             [
              0.4444444444444444,
              "#bd3786"
             ],
             [
              0.5555555555555556,
              "#d8576b"
             ],
             [
              0.6666666666666666,
              "#ed7953"
             ],
             [
              0.7777777777777778,
              "#fb9f3a"
             ],
             [
              0.8888888888888888,
              "#fdca26"
             ],
             [
              1,
              "#f0f921"
             ]
            ],
            "type": "contour"
           }
          ],
          "contourcarpet": [
           {
            "colorbar": {
             "outlinewidth": 0,
             "ticks": ""
            },
            "type": "contourcarpet"
           }
          ],
          "heatmap": [
           {
            "colorbar": {
             "outlinewidth": 0,
             "ticks": ""
            },
            "colorscale": [
             [
              0,
              "#0d0887"
             ],
             [
              0.1111111111111111,
              "#46039f"
             ],
             [
              0.2222222222222222,
              "#7201a8"
             ],
             [
              0.3333333333333333,
              "#9c179e"
             ],
             [
              0.4444444444444444,
              "#bd3786"
             ],
             [
              0.5555555555555556,
              "#d8576b"
             ],
             [
              0.6666666666666666,
              "#ed7953"
             ],
             [
              0.7777777777777778,
              "#fb9f3a"
             ],
             [
              0.8888888888888888,
              "#fdca26"
             ],
             [
              1,
              "#f0f921"
             ]
            ],
            "type": "heatmap"
           }
          ],
          "heatmapgl": [
           {
            "colorbar": {
             "outlinewidth": 0,
             "ticks": ""
            },
            "colorscale": [
             [
              0,
              "#0d0887"
             ],
             [
              0.1111111111111111,
              "#46039f"
             ],
             [
              0.2222222222222222,
              "#7201a8"
             ],
             [
              0.3333333333333333,
              "#9c179e"
             ],
             [
              0.4444444444444444,
              "#bd3786"
             ],
             [
              0.5555555555555556,
              "#d8576b"
             ],
             [
              0.6666666666666666,
              "#ed7953"
             ],
             [
              0.7777777777777778,
              "#fb9f3a"
             ],
             [
              0.8888888888888888,
              "#fdca26"
             ],
             [
              1,
              "#f0f921"
             ]
            ],
            "type": "heatmapgl"
           }
          ],
          "histogram": [
           {
            "marker": {
             "pattern": {
              "fillmode": "overlay",
              "size": 10,
              "solidity": 0.2
             }
            },
            "type": "histogram"
           }
          ],
          "histogram2d": [
           {
            "colorbar": {
             "outlinewidth": 0,
             "ticks": ""
            },
            "colorscale": [
             [
              0,
              "#0d0887"
             ],
             [
              0.1111111111111111,
              "#46039f"
             ],
             [
              0.2222222222222222,
              "#7201a8"
             ],
             [
              0.3333333333333333,
              "#9c179e"
             ],
             [
              0.4444444444444444,
              "#bd3786"
             ],
             [
              0.5555555555555556,
              "#d8576b"
             ],
             [
              0.6666666666666666,
              "#ed7953"
             ],
             [
              0.7777777777777778,
              "#fb9f3a"
             ],
             [
              0.8888888888888888,
              "#fdca26"
             ],
             [
              1,
              "#f0f921"
             ]
            ],
            "type": "histogram2d"
           }
          ],
          "histogram2dcontour": [
           {
            "colorbar": {
             "outlinewidth": 0,
             "ticks": ""
            },
            "colorscale": [
             [
              0,
              "#0d0887"
             ],
             [
              0.1111111111111111,
              "#46039f"
             ],
             [
              0.2222222222222222,
              "#7201a8"
             ],
             [
              0.3333333333333333,
              "#9c179e"
             ],
             [
              0.4444444444444444,
              "#bd3786"
             ],
             [
              0.5555555555555556,
              "#d8576b"
             ],
             [
              0.6666666666666666,
              "#ed7953"
             ],
             [
              0.7777777777777778,
              "#fb9f3a"
             ],
             [
              0.8888888888888888,
              "#fdca26"
             ],
             [
              1,
              "#f0f921"
             ]
            ],
            "type": "histogram2dcontour"
           }
          ],
          "mesh3d": [
           {
            "colorbar": {
             "outlinewidth": 0,
             "ticks": ""
            },
            "type": "mesh3d"
           }
          ],
          "parcoords": [
           {
            "line": {
             "colorbar": {
              "outlinewidth": 0,
              "ticks": ""
             }
            },
            "type": "parcoords"
           }
          ],
          "pie": [
           {
            "automargin": true,
            "type": "pie"
           }
          ],
          "scatter": [
           {
            "marker": {
             "colorbar": {
              "outlinewidth": 0,
              "ticks": ""
             }
            },
            "type": "scatter"
           }
          ],
          "scatter3d": [
           {
            "line": {
             "colorbar": {
              "outlinewidth": 0,
              "ticks": ""
             }
            },
            "marker": {
             "colorbar": {
              "outlinewidth": 0,
              "ticks": ""
             }
            },
            "type": "scatter3d"
           }
          ],
          "scattercarpet": [
           {
            "marker": {
             "colorbar": {
              "outlinewidth": 0,
              "ticks": ""
             }
            },
            "type": "scattercarpet"
           }
          ],
          "scattergeo": [
           {
            "marker": {
             "colorbar": {
              "outlinewidth": 0,
              "ticks": ""
             }
            },
            "type": "scattergeo"
           }
          ],
          "scattergl": [
           {
            "marker": {
             "colorbar": {
              "outlinewidth": 0,
              "ticks": ""
             }
            },
            "type": "scattergl"
           }
          ],
          "scattermapbox": [
           {
            "marker": {
             "colorbar": {
              "outlinewidth": 0,
              "ticks": ""
             }
            },
            "type": "scattermapbox"
           }
          ],
          "scatterpolar": [
           {
            "marker": {
             "colorbar": {
              "outlinewidth": 0,
              "ticks": ""
             }
            },
            "type": "scatterpolar"
           }
          ],
          "scatterpolargl": [
           {
            "marker": {
             "colorbar": {
              "outlinewidth": 0,
              "ticks": ""
             }
            },
            "type": "scatterpolargl"
           }
          ],
          "scatterternary": [
           {
            "marker": {
             "colorbar": {
              "outlinewidth": 0,
              "ticks": ""
             }
            },
            "type": "scatterternary"
           }
          ],
          "surface": [
           {
            "colorbar": {
             "outlinewidth": 0,
             "ticks": ""
            },
            "colorscale": [
             [
              0,
              "#0d0887"
             ],
             [
              0.1111111111111111,
              "#46039f"
             ],
             [
              0.2222222222222222,
              "#7201a8"
             ],
             [
              0.3333333333333333,
              "#9c179e"
             ],
             [
              0.4444444444444444,
              "#bd3786"
             ],
             [
              0.5555555555555556,
              "#d8576b"
             ],
             [
              0.6666666666666666,
              "#ed7953"
             ],
             [
              0.7777777777777778,
              "#fb9f3a"
             ],
             [
              0.8888888888888888,
              "#fdca26"
             ],
             [
              1,
              "#f0f921"
             ]
            ],
            "type": "surface"
           }
          ],
          "table": [
           {
            "cells": {
             "fill": {
              "color": "#EBF0F8"
             },
             "line": {
              "color": "white"
             }
            },
            "header": {
             "fill": {
              "color": "#C8D4E3"
             },
             "line": {
              "color": "white"
             }
            },
            "type": "table"
           }
          ]
         },
         "layout": {
          "annotationdefaults": {
           "arrowcolor": "#2a3f5f",
           "arrowhead": 0,
           "arrowwidth": 1
          },
          "autotypenumbers": "strict",
          "coloraxis": {
           "colorbar": {
            "outlinewidth": 0,
            "ticks": ""
           }
          },
          "colorscale": {
           "diverging": [
            [
             0,
             "#8e0152"
            ],
            [
             0.1,
             "#c51b7d"
            ],
            [
             0.2,
             "#de77ae"
            ],
            [
             0.3,
             "#f1b6da"
            ],
            [
             0.4,
             "#fde0ef"
            ],
            [
             0.5,
             "#f7f7f7"
            ],
            [
             0.6,
             "#e6f5d0"
            ],
            [
             0.7,
             "#b8e186"
            ],
            [
             0.8,
             "#7fbc41"
            ],
            [
             0.9,
             "#4d9221"
            ],
            [
             1,
             "#276419"
            ]
           ],
           "sequential": [
            [
             0,
             "#0d0887"
            ],
            [
             0.1111111111111111,
             "#46039f"
            ],
            [
             0.2222222222222222,
             "#7201a8"
            ],
            [
             0.3333333333333333,
             "#9c179e"
            ],
            [
             0.4444444444444444,
             "#bd3786"
            ],
            [
             0.5555555555555556,
             "#d8576b"
            ],
            [
             0.6666666666666666,
             "#ed7953"
            ],
            [
             0.7777777777777778,
             "#fb9f3a"
            ],
            [
             0.8888888888888888,
             "#fdca26"
            ],
            [
             1,
             "#f0f921"
            ]
           ],
           "sequentialminus": [
            [
             0,
             "#0d0887"
            ],
            [
             0.1111111111111111,
             "#46039f"
            ],
            [
             0.2222222222222222,
             "#7201a8"
            ],
            [
             0.3333333333333333,
             "#9c179e"
            ],
            [
             0.4444444444444444,
             "#bd3786"
            ],
            [
             0.5555555555555556,
             "#d8576b"
            ],
            [
             0.6666666666666666,
             "#ed7953"
            ],
            [
             0.7777777777777778,
             "#fb9f3a"
            ],
            [
             0.8888888888888888,
             "#fdca26"
            ],
            [
             1,
             "#f0f921"
            ]
           ]
          },
          "colorway": [
           "#636efa",
           "#EF553B",
           "#00cc96",
           "#ab63fa",
           "#FFA15A",
           "#19d3f3",
           "#FF6692",
           "#B6E880",
           "#FF97FF",
           "#FECB52"
          ],
          "font": {
           "color": "#2a3f5f"
          },
          "geo": {
           "bgcolor": "white",
           "lakecolor": "white",
           "landcolor": "#E5ECF6",
           "showlakes": true,
           "showland": true,
           "subunitcolor": "white"
          },
          "hoverlabel": {
           "align": "left"
          },
          "hovermode": "closest",
          "mapbox": {
           "style": "light"
          },
          "paper_bgcolor": "white",
          "plot_bgcolor": "#E5ECF6",
          "polar": {
           "angularaxis": {
            "gridcolor": "white",
            "linecolor": "white",
            "ticks": ""
           },
           "bgcolor": "#E5ECF6",
           "radialaxis": {
            "gridcolor": "white",
            "linecolor": "white",
            "ticks": ""
           }
          },
          "scene": {
           "xaxis": {
            "backgroundcolor": "#E5ECF6",
            "gridcolor": "white",
            "gridwidth": 2,
            "linecolor": "white",
            "showbackground": true,
            "ticks": "",
            "zerolinecolor": "white"
           },
           "yaxis": {
            "backgroundcolor": "#E5ECF6",
            "gridcolor": "white",
            "gridwidth": 2,
            "linecolor": "white",
            "showbackground": true,
            "ticks": "",
            "zerolinecolor": "white"
           },
           "zaxis": {
            "backgroundcolor": "#E5ECF6",
            "gridcolor": "white",
            "gridwidth": 2,
            "linecolor": "white",
            "showbackground": true,
            "ticks": "",
            "zerolinecolor": "white"
           }
          },
          "shapedefaults": {
           "line": {
            "color": "#2a3f5f"
           }
          },
          "ternary": {
           "aaxis": {
            "gridcolor": "white",
            "linecolor": "white",
            "ticks": ""
           },
           "baxis": {
            "gridcolor": "white",
            "linecolor": "white",
            "ticks": ""
           },
           "bgcolor": "#E5ECF6",
           "caxis": {
            "gridcolor": "white",
            "linecolor": "white",
            "ticks": ""
           }
          },
          "title": {
           "x": 0.05
          },
          "xaxis": {
           "automargin": true,
           "gridcolor": "white",
           "linecolor": "white",
           "ticks": "",
           "title": {
            "standoff": 15
           },
           "zerolinecolor": "white",
           "zerolinewidth": 2
          },
          "yaxis": {
           "automargin": true,
           "gridcolor": "white",
           "linecolor": "white",
           "ticks": "",
           "title": {
            "standoff": 15
           },
           "zerolinecolor": "white",
           "zerolinewidth": 2
          }
         }
        }
       }
      },
      "text/html": [
       "<div>                            <div id=\"90b12cb0-a34e-4069-8dd9-d1fa329c1fbb\" class=\"plotly-graph-div\" style=\"height:525px; width:100%;\"></div>            <script type=\"text/javascript\">                require([\"plotly\"], function(Plotly) {                    window.PLOTLYENV=window.PLOTLYENV || {};                                    if (document.getElementById(\"90b12cb0-a34e-4069-8dd9-d1fa329c1fbb\")) {                    Plotly.newPlot(                        \"90b12cb0-a34e-4069-8dd9-d1fa329c1fbb\",                        [{\"name\":\"Jean-Luc M\\u00e9lenchon score\",\"type\":\"bar\",\"x\":[\"Politique\",\"Actualit\\u00e9\",\"Candidats\",\"Travail\",\"Sant\\u00e9\",\"Economie\",\"S\\u00e9curit\\u00e9\",\"Extr\\u00eame\",\"Ecologie\",\"Pouvoir_achat\"],\"y\":[250,154,149,69,42,83,57,20,30,19,\"Jean-Luc M\\u00e9lenchon\"]},{\"name\":\"extr\\u00eame_gauche score\",\"type\":\"bar\",\"x\":[\"Politique\",\"Actualit\\u00e9\",\"Candidats\",\"Travail\",\"Sant\\u00e9\",\"Economie\",\"S\\u00e9curit\\u00e9\",\"Extr\\u00eame\",\"Ecologie\",\"Pouvoir_achat\"],\"y\":[195.5,182.0,116.5,75.0,38.666666666666664,51.5,34.666666666666664,21.333333333333332,13.0,21.166666666666668]},{\"name\":\"National score\",\"type\":\"bar\",\"x\":[\"Politique\",\"Actualit\\u00e9\",\"Candidats\",\"Travail\",\"Sant\\u00e9\",\"Economie\",\"S\\u00e9curit\\u00e9\",\"Extr\\u00eame\",\"Ecologie\",\"Pouvoir_achat\"],\"y\":[171.05959595959595,176.86515151515152,69.82727272727273,50.22575757575757,44.78232323232323,41.62626262626262,35.70353535353535,15.85,22.058080808080806,10.40050505050505]}],                        {\"barmode\":\"group\",\"template\":{\"data\":{\"bar\":[{\"error_x\":{\"color\":\"#2a3f5f\"},\"error_y\":{\"color\":\"#2a3f5f\"},\"marker\":{\"line\":{\"color\":\"#E5ECF6\",\"width\":0.5},\"pattern\":{\"fillmode\":\"overlay\",\"size\":10,\"solidity\":0.2}},\"type\":\"bar\"}],\"barpolar\":[{\"marker\":{\"line\":{\"color\":\"#E5ECF6\",\"width\":0.5},\"pattern\":{\"fillmode\":\"overlay\",\"size\":10,\"solidity\":0.2}},\"type\":\"barpolar\"}],\"carpet\":[{\"aaxis\":{\"endlinecolor\":\"#2a3f5f\",\"gridcolor\":\"white\",\"linecolor\":\"white\",\"minorgridcolor\":\"white\",\"startlinecolor\":\"#2a3f5f\"},\"baxis\":{\"endlinecolor\":\"#2a3f5f\",\"gridcolor\":\"white\",\"linecolor\":\"white\",\"minorgridcolor\":\"white\",\"startlinecolor\":\"#2a3f5f\"},\"type\":\"carpet\"}],\"choropleth\":[{\"colorbar\":{\"outlinewidth\":0,\"ticks\":\"\"},\"type\":\"choropleth\"}],\"contour\":[{\"colorbar\":{\"outlinewidth\":0,\"ticks\":\"\"},\"colorscale\":[[0.0,\"#0d0887\"],[0.1111111111111111,\"#46039f\"],[0.2222222222222222,\"#7201a8\"],[0.3333333333333333,\"#9c179e\"],[0.4444444444444444,\"#bd3786\"],[0.5555555555555556,\"#d8576b\"],[0.6666666666666666,\"#ed7953\"],[0.7777777777777778,\"#fb9f3a\"],[0.8888888888888888,\"#fdca26\"],[1.0,\"#f0f921\"]],\"type\":\"contour\"}],\"contourcarpet\":[{\"colorbar\":{\"outlinewidth\":0,\"ticks\":\"\"},\"type\":\"contourcarpet\"}],\"heatmap\":[{\"colorbar\":{\"outlinewidth\":0,\"ticks\":\"\"},\"colorscale\":[[0.0,\"#0d0887\"],[0.1111111111111111,\"#46039f\"],[0.2222222222222222,\"#7201a8\"],[0.3333333333333333,\"#9c179e\"],[0.4444444444444444,\"#bd3786\"],[0.5555555555555556,\"#d8576b\"],[0.6666666666666666,\"#ed7953\"],[0.7777777777777778,\"#fb9f3a\"],[0.8888888888888888,\"#fdca26\"],[1.0,\"#f0f921\"]],\"type\":\"heatmap\"}],\"heatmapgl\":[{\"colorbar\":{\"outlinewidth\":0,\"ticks\":\"\"},\"colorscale\":[[0.0,\"#0d0887\"],[0.1111111111111111,\"#46039f\"],[0.2222222222222222,\"#7201a8\"],[0.3333333333333333,\"#9c179e\"],[0.4444444444444444,\"#bd3786\"],[0.5555555555555556,\"#d8576b\"],[0.6666666666666666,\"#ed7953\"],[0.7777777777777778,\"#fb9f3a\"],[0.8888888888888888,\"#fdca26\"],[1.0,\"#f0f921\"]],\"type\":\"heatmapgl\"}],\"histogram\":[{\"marker\":{\"pattern\":{\"fillmode\":\"overlay\",\"size\":10,\"solidity\":0.2}},\"type\":\"histogram\"}],\"histogram2d\":[{\"colorbar\":{\"outlinewidth\":0,\"ticks\":\"\"},\"colorscale\":[[0.0,\"#0d0887\"],[0.1111111111111111,\"#46039f\"],[0.2222222222222222,\"#7201a8\"],[0.3333333333333333,\"#9c179e\"],[0.4444444444444444,\"#bd3786\"],[0.5555555555555556,\"#d8576b\"],[0.6666666666666666,\"#ed7953\"],[0.7777777777777778,\"#fb9f3a\"],[0.8888888888888888,\"#fdca26\"],[1.0,\"#f0f921\"]],\"type\":\"histogram2d\"}],\"histogram2dcontour\":[{\"colorbar\":{\"outlinewidth\":0,\"ticks\":\"\"},\"colorscale\":[[0.0,\"#0d0887\"],[0.1111111111111111,\"#46039f\"],[0.2222222222222222,\"#7201a8\"],[0.3333333333333333,\"#9c179e\"],[0.4444444444444444,\"#bd3786\"],[0.5555555555555556,\"#d8576b\"],[0.6666666666666666,\"#ed7953\"],[0.7777777777777778,\"#fb9f3a\"],[0.8888888888888888,\"#fdca26\"],[1.0,\"#f0f921\"]],\"type\":\"histogram2dcontour\"}],\"mesh3d\":[{\"colorbar\":{\"outlinewidth\":0,\"ticks\":\"\"},\"type\":\"mesh3d\"}],\"parcoords\":[{\"line\":{\"colorbar\":{\"outlinewidth\":0,\"ticks\":\"\"}},\"type\":\"parcoords\"}],\"pie\":[{\"automargin\":true,\"type\":\"pie\"}],\"scatter\":[{\"marker\":{\"colorbar\":{\"outlinewidth\":0,\"ticks\":\"\"}},\"type\":\"scatter\"}],\"scatter3d\":[{\"line\":{\"colorbar\":{\"outlinewidth\":0,\"ticks\":\"\"}},\"marker\":{\"colorbar\":{\"outlinewidth\":0,\"ticks\":\"\"}},\"type\":\"scatter3d\"}],\"scattercarpet\":[{\"marker\":{\"colorbar\":{\"outlinewidth\":0,\"ticks\":\"\"}},\"type\":\"scattercarpet\"}],\"scattergeo\":[{\"marker\":{\"colorbar\":{\"outlinewidth\":0,\"ticks\":\"\"}},\"type\":\"scattergeo\"}],\"scattergl\":[{\"marker\":{\"colorbar\":{\"outlinewidth\":0,\"ticks\":\"\"}},\"type\":\"scattergl\"}],\"scattermapbox\":[{\"marker\":{\"colorbar\":{\"outlinewidth\":0,\"ticks\":\"\"}},\"type\":\"scattermapbox\"}],\"scatterpolar\":[{\"marker\":{\"colorbar\":{\"outlinewidth\":0,\"ticks\":\"\"}},\"type\":\"scatterpolar\"}],\"scatterpolargl\":[{\"marker\":{\"colorbar\":{\"outlinewidth\":0,\"ticks\":\"\"}},\"type\":\"scatterpolargl\"}],\"scatterternary\":[{\"marker\":{\"colorbar\":{\"outlinewidth\":0,\"ticks\":\"\"}},\"type\":\"scatterternary\"}],\"surface\":[{\"colorbar\":{\"outlinewidth\":0,\"ticks\":\"\"},\"colorscale\":[[0.0,\"#0d0887\"],[0.1111111111111111,\"#46039f\"],[0.2222222222222222,\"#7201a8\"],[0.3333333333333333,\"#9c179e\"],[0.4444444444444444,\"#bd3786\"],[0.5555555555555556,\"#d8576b\"],[0.6666666666666666,\"#ed7953\"],[0.7777777777777778,\"#fb9f3a\"],[0.8888888888888888,\"#fdca26\"],[1.0,\"#f0f921\"]],\"type\":\"surface\"}],\"table\":[{\"cells\":{\"fill\":{\"color\":\"#EBF0F8\"},\"line\":{\"color\":\"white\"}},\"header\":{\"fill\":{\"color\":\"#C8D4E3\"},\"line\":{\"color\":\"white\"}},\"type\":\"table\"}]},\"layout\":{\"annotationdefaults\":{\"arrowcolor\":\"#2a3f5f\",\"arrowhead\":0,\"arrowwidth\":1},\"autotypenumbers\":\"strict\",\"coloraxis\":{\"colorbar\":{\"outlinewidth\":0,\"ticks\":\"\"}},\"colorscale\":{\"diverging\":[[0,\"#8e0152\"],[0.1,\"#c51b7d\"],[0.2,\"#de77ae\"],[0.3,\"#f1b6da\"],[0.4,\"#fde0ef\"],[0.5,\"#f7f7f7\"],[0.6,\"#e6f5d0\"],[0.7,\"#b8e186\"],[0.8,\"#7fbc41\"],[0.9,\"#4d9221\"],[1,\"#276419\"]],\"sequential\":[[0.0,\"#0d0887\"],[0.1111111111111111,\"#46039f\"],[0.2222222222222222,\"#7201a8\"],[0.3333333333333333,\"#9c179e\"],[0.4444444444444444,\"#bd3786\"],[0.5555555555555556,\"#d8576b\"],[0.6666666666666666,\"#ed7953\"],[0.7777777777777778,\"#fb9f3a\"],[0.8888888888888888,\"#fdca26\"],[1.0,\"#f0f921\"]],\"sequentialminus\":[[0.0,\"#0d0887\"],[0.1111111111111111,\"#46039f\"],[0.2222222222222222,\"#7201a8\"],[0.3333333333333333,\"#9c179e\"],[0.4444444444444444,\"#bd3786\"],[0.5555555555555556,\"#d8576b\"],[0.6666666666666666,\"#ed7953\"],[0.7777777777777778,\"#fb9f3a\"],[0.8888888888888888,\"#fdca26\"],[1.0,\"#f0f921\"]]},\"colorway\":[\"#636efa\",\"#EF553B\",\"#00cc96\",\"#ab63fa\",\"#FFA15A\",\"#19d3f3\",\"#FF6692\",\"#B6E880\",\"#FF97FF\",\"#FECB52\"],\"font\":{\"color\":\"#2a3f5f\"},\"geo\":{\"bgcolor\":\"white\",\"lakecolor\":\"white\",\"landcolor\":\"#E5ECF6\",\"showlakes\":true,\"showland\":true,\"subunitcolor\":\"white\"},\"hoverlabel\":{\"align\":\"left\"},\"hovermode\":\"closest\",\"mapbox\":{\"style\":\"light\"},\"paper_bgcolor\":\"white\",\"plot_bgcolor\":\"#E5ECF6\",\"polar\":{\"angularaxis\":{\"gridcolor\":\"white\",\"linecolor\":\"white\",\"ticks\":\"\"},\"bgcolor\":\"#E5ECF6\",\"radialaxis\":{\"gridcolor\":\"white\",\"linecolor\":\"white\",\"ticks\":\"\"}},\"scene\":{\"xaxis\":{\"backgroundcolor\":\"#E5ECF6\",\"gridcolor\":\"white\",\"gridwidth\":2,\"linecolor\":\"white\",\"showbackground\":true,\"ticks\":\"\",\"zerolinecolor\":\"white\"},\"yaxis\":{\"backgroundcolor\":\"#E5ECF6\",\"gridcolor\":\"white\",\"gridwidth\":2,\"linecolor\":\"white\",\"showbackground\":true,\"ticks\":\"\",\"zerolinecolor\":\"white\"},\"zaxis\":{\"backgroundcolor\":\"#E5ECF6\",\"gridcolor\":\"white\",\"gridwidth\":2,\"linecolor\":\"white\",\"showbackground\":true,\"ticks\":\"\",\"zerolinecolor\":\"white\"}},\"shapedefaults\":{\"line\":{\"color\":\"#2a3f5f\"}},\"ternary\":{\"aaxis\":{\"gridcolor\":\"white\",\"linecolor\":\"white\",\"ticks\":\"\"},\"baxis\":{\"gridcolor\":\"white\",\"linecolor\":\"white\",\"ticks\":\"\"},\"bgcolor\":\"#E5ECF6\",\"caxis\":{\"gridcolor\":\"white\",\"linecolor\":\"white\",\"ticks\":\"\"}},\"title\":{\"x\":0.05},\"xaxis\":{\"automargin\":true,\"gridcolor\":\"white\",\"linecolor\":\"white\",\"ticks\":\"\",\"title\":{\"standoff\":15},\"zerolinecolor\":\"white\",\"zerolinewidth\":2},\"yaxis\":{\"automargin\":true,\"gridcolor\":\"white\",\"linecolor\":\"white\",\"ticks\":\"\",\"title\":{\"standoff\":15},\"zerolinecolor\":\"white\",\"zerolinewidth\":2}}}},                        {\"responsive\": true}                    ).then(function(){\n",
       "                            \n",
       "var gd = document.getElementById('90b12cb0-a34e-4069-8dd9-d1fa329c1fbb');\n",
       "var x = new MutationObserver(function (mutations, observer) {{\n",
       "        var display = window.getComputedStyle(gd).display;\n",
       "        if (!display || display === 'none') {{\n",
       "            console.log([gd, 'removed!']);\n",
       "            Plotly.purge(gd);\n",
       "            observer.disconnect();\n",
       "        }}\n",
       "}});\n",
       "\n",
       "// Listen for the removal of the full notebook cells\n",
       "var notebookContainer = gd.closest('#notebook-container');\n",
       "if (notebookContainer) {{\n",
       "    x.observe(notebookContainer, {childList: true});\n",
       "}}\n",
       "\n",
       "// Listen for the clearing of the current output cell\n",
       "var outputEl = gd.closest('.output');\n",
       "if (outputEl) {{\n",
       "    x.observe(outputEl, {childList: true});\n",
       "}}\n",
       "\n",
       "                        })                };                });            </script>        </div>"
      ]
     },
     "metadata": {},
     "output_type": "display_data"
    }
   ],
   "source": [
    "user_score_per_theme_vs_global_and_orientation(user=\"JLMelenchon\")"
   ]
  },
  {
   "cell_type": "markdown",
   "id": "8a67f8f1",
   "metadata": {},
   "source": [
    "## Les tweets les plus appréciés de sa communauté"
   ]
  },
  {
   "cell_type": "code",
   "execution_count": 94,
   "id": "a9be28a8",
   "metadata": {},
   "outputs": [],
   "source": [
    "def top_3_tweets_per_user(user):\n",
    "    \"\"\"\n",
    "    Returns the top 3 tweets for a given user based on the total number of retweets\n",
    "    \"\"\"\n",
    "    # Use global_df to display original tweets (before text cleaning). Sort this DataFrame per retweet_count\n",
    "    df = global_df.sort_values(by=\"retweet_count\", ascending=False)\n",
    "    # Retrieve retweets\n",
    "    df = df.loc[df[\"text\"].isin([text for text in df[\"text\"] if text[:2]!= \"RT\"])]\n",
    "    # Only keep user's tweets\n",
    "    df = df[\"url\"][df[\"user\"]==user]\n",
    "    \n",
    "    # Store the top 3 tweets in 3 variables\n",
    "    first_tweet = df.iloc[0]\n",
    "    second_tweet = df.iloc[1]\n",
    "    third_tweet = df.iloc[2]\n",
    "    \n",
    "    # Store the \"backslash n\" in a  variable to use it in a \"f string\"\n",
    "    new_line = \"\\n\"\n",
    "    # Define the full text to display\n",
    "    text = f\"Premier tweet le plus retweeter:{new_line}{first_tweet}{new_line}{new_line}Second tweet le plus retweeter:{new_line}{second_tweet}{new_line}{new_line}Troisième tweet le plus retweeter:{new_line}{third_tweet}\"\n",
    "    \n",
    "    return print(text)"
   ]
  },
  {
   "cell_type": "code",
   "execution_count": 95,
   "id": "2e31d7f1",
   "metadata": {
    "scrolled": true
   },
   "outputs": [
    {
     "name": "stdout",
     "output_type": "stream",
     "text": [
      "Premier tweet le plus retweeter:\n",
      "https://twitter.com/JLMelenchon/status/1461008990427561992\n",
      "\n",
      "Second tweet le plus retweeter:\n",
      "https://twitter.com/JLMelenchon/status/1460538657090248709\n",
      "\n",
      "Troisième tweet le plus retweeter:\n",
      "https://twitter.com/JLMelenchon/status/1462517975429390348\n"
     ]
    }
   ],
   "source": [
    "top_3_tweets_per_user(user=\"JLMelenchon\")"
   ]
  },
  {
   "cell_type": "code",
   "execution_count": 140,
   "id": "a4cf915f",
   "metadata": {},
   "outputs": [
    {
     "data": {
      "text/plain": [
       "divers            11\n",
       "droite            10\n",
       "gauche             6\n",
       "extrême_gauche     6\n",
       "extrême_droite     6\n",
       "ecologie           3\n",
       "Name: political_orientation, dtype: int64"
      ]
     },
     "execution_count": 140,
     "metadata": {},
     "output_type": "execute_result"
    }
   ],
   "source": [
    "global_df[[\"political_orientation\",\"name\"]].drop_duplicates()[\"political_orientation\"].value_counts()"
   ]
  },
  {
   "cell_type": "markdown",
   "id": "ddd09225",
   "metadata": {},
   "source": [
    "## Les sujets qui l'animent"
   ]
  },
  {
   "cell_type": "code",
   "execution_count": 133,
   "id": "89e8c82f",
   "metadata": {},
   "outputs": [],
   "source": [
    "def test_top_five_words_per_theme_per_user(name):\n",
    "    \"\"\"\n",
    "    Returns Top 5 words per theme for a given user based on the number of time he/she use it\n",
    "    \"\"\"\n",
    "    # Store all the user words in a list\n",
    "    user_words = []\n",
    "    # Extract all his/her tweets\n",
    "    user_tweets = list(df_ready_for_nlp[df_ready_for_nlp[\"name\"]==name][\"text\"])\n",
    "    # Go for each tweet\n",
    "    for tweet in user_tweets:\n",
    "        # Tokenize each tweet to analyze its content\n",
    "        tokenized_tweet = word_tokenize(tweet)\n",
    "        # Go for each word\n",
    "        for word in tokenized_tweet:\n",
    "            # Append it to the list\n",
    "            user_words.append(word)\n",
    "    \n",
    "    # Create a dictionary that will store the top words for every theme\n",
    "    top_words_per_theme_dict = {}\n",
    "    # Go in Lexicon_themes and dissociate theme and lexicon\n",
    "    for theme, lexicon in lexicon_themes.items():\n",
    "        # Create a dictionary that will store the top words only for this theme \n",
    "        top_words_for_this_theme_dict ={}\n",
    "        # Iterate over each word stored in this lexicon\n",
    "        for word in lexicon:\n",
    "            # Count how many times it appears in user_words\n",
    "            score = user_words.count(word)\n",
    "            # Store how many times the given user used this word, in the dictionary created for this only theme\n",
    "            top_words_for_this_theme_dict[word] = score\n",
    "        # Now that we iterate over every words stored in this theme, sort it per word's score\n",
    "        sorted_top_words_for_this_theme_dict = sorted(top_words_for_this_theme_dict.items(), key = lambda kv: kv[1], reverse=True)\n",
    "        # Only keep the first five\n",
    "        top_words_per_theme_dict[theme] = sorted_top_words_for_this_theme_dict[:5]\n",
    "    \n",
    "    empty_space = \" \"\n",
    "    for theme, top_words in top_words_per_theme_dict.items():\n",
    "        for word in top_words:\n",
    "            if word[-1] == 0:\n",
    "                top_words[top_words.index(word)] = empty_space\n",
    "    \n",
    "    # Convert the dictionary with the top 5 words per theme into a DataFrame\n",
    "    top_words_per_theme = pd.DataFrame(top_words_per_theme_dict)\n",
    "    # Raise the index by 1 to start at 1\n",
    "    top_words_per_theme.index += 1 \n",
    "    \n",
    "    # Transpose the DataFrame to fix the themes as index\n",
    "    return top_words_per_theme.T\n",
    "\n",
    "    return top_words_per_theme_dict"
   ]
  },
  {
   "cell_type": "code",
   "execution_count": 134,
   "id": "ca71b275",
   "metadata": {
    "scrolled": false
   },
   "outputs": [
    {
     "data": {
      "text/html": [
       "<div>\n",
       "<style scoped>\n",
       "    .dataframe tbody tr th:only-of-type {\n",
       "        vertical-align: middle;\n",
       "    }\n",
       "\n",
       "    .dataframe tbody tr th {\n",
       "        vertical-align: top;\n",
       "    }\n",
       "\n",
       "    .dataframe thead th {\n",
       "        text-align: right;\n",
       "    }\n",
       "</style>\n",
       "<table border=\"1\" class=\"dataframe\">\n",
       "  <thead>\n",
       "    <tr style=\"text-align: right;\">\n",
       "      <th></th>\n",
       "      <th>1</th>\n",
       "      <th>2</th>\n",
       "      <th>3</th>\n",
       "      <th>4</th>\n",
       "      <th>5</th>\n",
       "    </tr>\n",
       "  </thead>\n",
       "  <tbody>\n",
       "    <tr>\n",
       "      <th>Politique</th>\n",
       "      <td>(democratie, 16)</td>\n",
       "      <td>(programme, 15)</td>\n",
       "      <td>(presidentielle, 15)</td>\n",
       "      <td>(responsabilite, 9)</td>\n",
       "      <td>(liberte, 9)</td>\n",
       "    </tr>\n",
       "    <tr>\n",
       "      <th>Actualité</th>\n",
       "      <td>(benalla, 32)</td>\n",
       "      <td>(democratie, 16)</td>\n",
       "      <td>(candidats, 12)</td>\n",
       "      <td>(demain, 11)</td>\n",
       "      <td>(candidat, 11)</td>\n",
       "    </tr>\n",
       "    <tr>\n",
       "      <th>Candidats</th>\n",
       "      <td>(alexlanglois, 23)</td>\n",
       "      <td>(macron, 19)</td>\n",
       "      <td>(emmanuelmacron, 12)</td>\n",
       "      <td>(macronie, 9)</td>\n",
       "      <td>(dupontaignan, 7)</td>\n",
       "    </tr>\n",
       "    <tr>\n",
       "      <th>Travail</th>\n",
       "      <td>(affaire, 22)</td>\n",
       "      <td>(temps, 5)</td>\n",
       "      <td>(syndicat, 3)</td>\n",
       "      <td>(oeuvre, 3)</td>\n",
       "      <td>(fonction, 3)</td>\n",
       "    </tr>\n",
       "    <tr>\n",
       "      <th>Santé</th>\n",
       "      <td>(passsanitaire, 6)</td>\n",
       "      <td>(sanitaire, 5)</td>\n",
       "      <td>(masque, 5)</td>\n",
       "      <td>(patient, 5)</td>\n",
       "      <td>(nature, 5)</td>\n",
       "    </tr>\n",
       "    <tr>\n",
       "      <th>Economie</th>\n",
       "      <td>(crise, 5)</td>\n",
       "      <td>(service, 2)</td>\n",
       "      <td>(cote, 2)</td>\n",
       "      <td>(ressource, 1)</td>\n",
       "      <td>(production, 1)</td>\n",
       "    </tr>\n",
       "    <tr>\n",
       "      <th>Sécurité</th>\n",
       "      <td>(responsable, 11)</td>\n",
       "      <td>(police, 7)</td>\n",
       "      <td>(policier, 6)</td>\n",
       "      <td>(loi, 6)</td>\n",
       "      <td>(surete, 3)</td>\n",
       "    </tr>\n",
       "    <tr>\n",
       "      <th>Extrême</th>\n",
       "      <td>(terrible, 1)</td>\n",
       "      <td>(sommet, 1)</td>\n",
       "      <td>(maximum, 1)</td>\n",
       "      <td>(heroique, 1)</td>\n",
       "      <td>(contraire, 1)</td>\n",
       "    </tr>\n",
       "    <tr>\n",
       "      <th>Ecologie</th>\n",
       "      <td>(nature, 5)</td>\n",
       "      <td>(cours, 2)</td>\n",
       "      <td>(environnement, 1)</td>\n",
       "      <td>(ecosysteme, 1)</td>\n",
       "      <td>(ecologique, 1)</td>\n",
       "    </tr>\n",
       "    <tr>\n",
       "      <th>Pouvoir_achat</th>\n",
       "      <td>(retraite, 1)</td>\n",
       "      <td>(prix, 1)</td>\n",
       "      <td>(pauvrete, 1)</td>\n",
       "      <td></td>\n",
       "      <td></td>\n",
       "    </tr>\n",
       "  </tbody>\n",
       "</table>\n",
       "</div>"
      ],
      "text/plain": [
       "                                1                 2                     3  \\\n",
       "Politique        (democratie, 16)   (programme, 15)  (presidentielle, 15)   \n",
       "Actualité           (benalla, 32)  (democratie, 16)       (candidats, 12)   \n",
       "Candidats      (alexlanglois, 23)      (macron, 19)  (emmanuelmacron, 12)   \n",
       "Travail             (affaire, 22)        (temps, 5)         (syndicat, 3)   \n",
       "Santé          (passsanitaire, 6)    (sanitaire, 5)           (masque, 5)   \n",
       "Economie               (crise, 5)      (service, 2)             (cote, 2)   \n",
       "Sécurité        (responsable, 11)       (police, 7)         (policier, 6)   \n",
       "Extrême             (terrible, 1)       (sommet, 1)          (maximum, 1)   \n",
       "Ecologie              (nature, 5)        (cours, 2)    (environnement, 1)   \n",
       "Pouvoir_achat       (retraite, 1)         (prix, 1)         (pauvrete, 1)   \n",
       "\n",
       "                                 4                  5  \n",
       "Politique      (responsabilite, 9)       (liberte, 9)  \n",
       "Actualité             (demain, 11)     (candidat, 11)  \n",
       "Candidats            (macronie, 9)  (dupontaignan, 7)  \n",
       "Travail                (oeuvre, 3)      (fonction, 3)  \n",
       "Santé                 (patient, 5)        (nature, 5)  \n",
       "Economie            (ressource, 1)    (production, 1)  \n",
       "Sécurité                  (loi, 6)        (surete, 3)  \n",
       "Extrême              (heroique, 1)     (contraire, 1)  \n",
       "Ecologie           (ecosysteme, 1)    (ecologique, 1)  \n",
       "Pouvoir_achat                                          "
      ]
     },
     "execution_count": 134,
     "metadata": {},
     "output_type": "execute_result"
    }
   ],
   "source": [
    "test_top_five_words_per_theme_per_user(name=\"Alex Langlois\")"
   ]
  },
  {
   "cell_type": "markdown",
   "id": "61eafdcb",
   "metadata": {},
   "source": [
    "## How he/she use tweeter"
   ]
  },
  {
   "cell_type": "code",
   "execution_count": null,
   "id": "55a61637",
   "metadata": {},
   "outputs": [],
   "source": [
    "def user_number_of_tweets(name):\n",
    "    \"\"\"\n",
    "    Returns the number of tweets in archive for a given candidate\n",
    "    \"\"\"\n",
    "    \n",
    "    return nb"
   ]
  },
  {
   "cell_type": "code",
   "execution_count": 149,
   "id": "631c7808",
   "metadata": {},
   "outputs": [
    {
     "data": {
      "text/plain": [
       "200"
      ]
     },
     "execution_count": 149,
     "metadata": {},
     "output_type": "execute_result"
    }
   ],
   "source": [
    "# user_number_of_tweets = len(global_df[global_df[\"name\"]==\"Alex Langlois\"])\n",
    "# user_number_of_tweets"
   ]
  },
  {
   "cell_type": "code",
   "execution_count": 166,
   "id": "f5c4549c",
   "metadata": {},
   "outputs": [],
   "source": [
    "def user_tweeter_use(name):\n",
    "    \"\"\"\n",
    "    Returns number of tweets, time since his/her oldest tweet in archive, mean_tweet_per_day, number_of_author_tweets, percentage_author_tweet for a given candidate\n",
    "    and all_candidates_percentage_author_tweet and all_candidates_percentage_author_tweet for all candidates\n",
    "    \"\"\"\n",
    "    # Number of tweets archive\n",
    "    nb = len(global_df[global_df[\"name\"]==name])\n",
    "    \n",
    "    # Oldest tweet date\n",
    "    user_oldest_tweet = datetime.strptime(min(global_df[global_df[\"name\"]==name][\"created_date\"]), \"%Y-%m-%d\")\n",
    "    today = datetime.strptime(date.today().strftime(\"%Y-%m-%d\"), \"%Y-%m-%d\")\n",
    "    # Time since his/her oldest tweet in archive\n",
    "    time = abs((today - user_oldest_tweet).days)\n",
    "    # Mean tweet per day\n",
    "    mean_tweet_per_day = round(nb/time,0)\n",
    "    \n",
    "    # DataFrame without Retweets\n",
    "    df_without_retweets = global_df.loc[global_df[\"text\"].isin([text for text in global_df[\"text\"] if text[:2]!= \"RT\"])]\n",
    "    # Number of tweets which the candidate is the author\n",
    "    number_of_author_tweets = len(df_without_retweets[df_without_retweets[\"name\"]==name])\n",
    "    # Percentage of his/her \"author tweets\"\n",
    "    percentage_author_tweet = round(user_number_of_author_tweets/user_number_of_tweets,2)\n",
    "    # All candidates number of author tweets\n",
    "    all_candidates_number_of_author_tweets = len(df_without_retweets)\n",
    "    # All candidates number of tweets\n",
    "    all_candidates_total_number_of_tweets = len(global_df)\n",
    "    # Global percentage of \"author tweet\"\n",
    "    all_candidates_percentage_author_tweet = round(all_candidates_number_of_author_tweets/all_candidates_total_number_of_tweets,2)\n",
    "    \n",
    "    return nb, time, mean_tweet_per_day, number_of_author_tweets, percentage_author_tweet, all_candidates_percentage_author_tweet"
   ]
  },
  {
   "cell_type": "code",
   "execution_count": 167,
   "id": "6b8a0504",
   "metadata": {},
   "outputs": [],
   "source": [
    "nb, time, mean_tweet_per_day, number_of_author_tweets, percentage_author_tweet, all_candidates_percentage_author_tweet =user_tweeter_use(name=\"Alex Langlois\")"
   ]
  },
  {
   "cell_type": "code",
   "execution_count": 169,
   "id": "feafba81",
   "metadata": {},
   "outputs": [
    {
     "data": {
      "text/plain": [
       "(200, 133, 2.0, 164, 0.82, 0.75)"
      ]
     },
     "execution_count": 169,
     "metadata": {},
     "output_type": "execute_result"
    }
   ],
   "source": [
    "nb, time, mean_tweet_per_day, number_of_author_tweets, percentage_author_tweet, all_candidates_percentage_author_tweet"
   ]
  }
 ],
 "metadata": {
  "kernelspec": {
   "display_name": "Python 3 (ipykernel)",
   "language": "python",
   "name": "python3"
  },
  "language_info": {
   "codemirror_mode": {
    "name": "ipython",
    "version": 3
   },
   "file_extension": ".py",
   "mimetype": "text/x-python",
   "name": "python",
   "nbconvert_exporter": "python",
   "pygments_lexer": "ipython3",
   "version": "3.8.12"
  },
  "toc": {
   "base_numbering": 1,
   "nav_menu": {},
   "number_sections": true,
   "sideBar": true,
   "skip_h1_title": false,
   "title_cell": "Table of Contents",
   "title_sidebar": "Contents",
   "toc_cell": false,
   "toc_position": {
    "height": "calc(100% - 180px)",
    "left": "10px",
    "top": "150px",
    "width": "276.25px"
   },
   "toc_section_display": true,
   "toc_window_display": true
  },
  "varInspector": {
   "cols": {
    "lenName": 16,
    "lenType": 16,
    "lenVar": 40
   },
   "kernels_config": {
    "python": {
     "delete_cmd_postfix": "",
     "delete_cmd_prefix": "del ",
     "library": "var_list.py",
     "varRefreshCmd": "print(var_dic_list())"
    },
    "r": {
     "delete_cmd_postfix": ") ",
     "delete_cmd_prefix": "rm(",
     "library": "var_list.r",
     "varRefreshCmd": "cat(var_dic_list()) "
    }
   },
   "types_to_exclude": [
    "module",
    "function",
    "builtin_function_or_method",
    "instance",
    "_Feature"
   ],
   "window_display": false
  }
 },
 "nbformat": 4,
 "nbformat_minor": 5
}
