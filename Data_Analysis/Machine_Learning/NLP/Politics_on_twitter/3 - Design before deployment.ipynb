{
 "cells": [
  {
   "cell_type": "markdown",
   "id": "26939206",
   "metadata": {},
   "source": [
    "# Load and prepare the data"
   ]
  },
  {
   "cell_type": "markdown",
   "id": "388aeddf",
   "metadata": {},
   "source": [
    "## Import librairies"
   ]
  },
  {
   "cell_type": "code",
   "execution_count": 1,
   "id": "f64fc90b",
   "metadata": {},
   "outputs": [],
   "source": [
    "import requests\n",
    "import tweepy\n",
    "import webbrowser\n",
    "import os\n",
    "from datetime import date, datetime\n",
    "\n",
    "import pandas as pd\n",
    "import numpy as np\n",
    "\n",
    "import re\n",
    "from nltk.tokenize import word_tokenize\n",
    "from nltk.corpus import stopwords \n",
    "import string\n",
    "import unidecode\n",
    "\n",
    "import matplotlib.pyplot as plt\n",
    "import seaborn as sns\n",
    "import plotly.graph_objects as go\n",
    "import plotly.express as px\n",
    "from IPython.display import display, Image"
   ]
  },
  {
   "cell_type": "markdown",
   "id": "6437b7c1",
   "metadata": {},
   "source": [
    "## Import keys"
   ]
  },
  {
   "cell_type": "code",
   "execution_count": 2,
   "id": "8a1d9f3a",
   "metadata": {},
   "outputs": [],
   "source": [
    "from raw_data import keys\n",
    "twitter_api_key = keys.twitter_api_key()\n",
    "twitter_api_secret_key = keys.twitter_api_key_secret()\n",
    "twitter_bearer_token = keys.twitter_bearer_token"
   ]
  },
  {
   "cell_type": "markdown",
   "id": "c8bdc037",
   "metadata": {},
   "source": [
    "## Connect my developer project to my twitter profile"
   ]
  },
  {
   "cell_type": "code",
   "execution_count": 3,
   "id": "1f5f751c",
   "metadata": {},
   "outputs": [
    {
     "name": "stdout",
     "output_type": "stream",
     "text": [
      "https://api.twitter.com/oauth/authorize?oauth_token=_vgxgwAAAAABUe3MAAABfWvM05g\n"
     ]
    }
   ],
   "source": [
    "callback_uri = \"oob\" # url\n",
    "auth = tweepy.OAuthHandler(twitter_api_key, twitter_api_secret_key, callback_uri)\n",
    "redirect_url = auth.get_authorization_url()\n",
    "print(redirect_url)"
   ]
  },
  {
   "cell_type": "code",
   "execution_count": 5,
   "id": "73561702",
   "metadata": {
    "scrolled": false
   },
   "outputs": [
    {
     "ename": "SyntaxError",
     "evalue": "invalid syntax (1928120398.py, line 1)",
     "output_type": "error",
     "traceback": [
      "\u001b[0;36m  File \u001b[0;32m\"/tmp/ipykernel_31346/1928120398.py\"\u001b[0;36m, line \u001b[0;32m1\u001b[0m\n\u001b[0;31m    m=\u001b[0m\n\u001b[0m      ^\u001b[0m\n\u001b[0;31mSyntaxError\u001b[0m\u001b[0;31m:\u001b[0m invalid syntax\n"
     ]
    }
   ],
   "source": [
    "m="
   ]
  },
  {
   "cell_type": "code",
   "execution_count": 4,
   "id": "ae9a2dac",
   "metadata": {},
   "outputs": [],
   "source": [
    "user_pin_value = '7871794'\n",
    "auth.get_access_token(user_pin_value)\n",
    "api = tweepy.API(auth)"
   ]
  },
  {
   "cell_type": "markdown",
   "id": "cd893808",
   "metadata": {},
   "source": [
    "## Load new content"
   ]
  },
  {
   "cell_type": "markdown",
   "id": "c93f5fb7",
   "metadata": {},
   "source": [
    "### Function to extract the tweets of politicals that I follow"
   ]
  },
  {
   "cell_type": "code",
   "execution_count": 5,
   "id": "ee2ee1d6",
   "metadata": {},
   "outputs": [],
   "source": [
    "candidates_pseudo = \"\"\"yjadot xavierbertrand vpecresse regis_ollivier philippejuvin n_arthaud montebourg luclaf larrouturou jfpoisson78 jeanlassalle gilleslazzarini gerardfiloche f_philippot dupontaignan antoine27955080 ZemmourEric Waechter2022 Vukuzman UPR_Asselineau PhilippePoutou MichelBarnier MartinRocca2022 MarCharlott MLP_officiel MAZUEL_Pace JaclineMouraud JLMelenchon HeleneThouy GildasVieira FabriceGrimal Fabien_Roussel EmmanuelMacron EPhilippe_LH ECiotti DenisPayre ClaraEgger1 Cau_Marie_ Anne_Hidalgo AnasseKazib AlexLanglois_ AguebPorterie\"\"\"\n",
    "# We do not \"clean\" candidates pseudo to keep their original format which is important here\n",
    "candidates_pseudo_list = word_tokenize(candidates_pseudo)"
   ]
  },
  {
   "cell_type": "code",
   "execution_count": 6,
   "id": "e8482ca6",
   "metadata": {},
   "outputs": [],
   "source": [
    "def extract_tweets_from_politics(number_of_tweet_per_politic, candidates_pseudo_list):\n",
    "    \"\"\"This function return a DataFrame of the last tweets of politics that I follow on Twitter\"\"\"\n",
    "    \n",
    "    # Start by working on my own account\n",
    "    me = api.get_user(screen_name=\"alecoursonnois\")\n",
    "    # Generate a list of my all of my friends (considering that I have under 50 friends on twitter)\n",
    "    my_friends = me.friends(count=50)\n",
    "    \n",
    "    # Retrieve my personal friends which I don't want to analyze their tweets\n",
    "    politics = candidates_pseudo_list\n",
    "    \n",
    "    # Create a set to stock the DataFrame columns names\n",
    "    columns = set()\n",
    "    # Create a list to save each tweet and its datas\n",
    "    tweets_data = []\n",
    "    # Create to save politics screen_names\n",
    "    politics_screen_name = []\n",
    "    \n",
    "    # Iterate on my_friends\n",
    "    for friend in my_friends:\n",
    "        friend_name = friend.screen_name\n",
    "        \n",
    "        # Don't act if this friend is out of the project\n",
    "        if friend_name in politics:\n",
    "            # Generate politics timeline list of the last tweets (the number must be indicated as a function's argument)\n",
    "            timeline_list = api.get_user(screen_name=friend_name).timeline(count=number_of_tweet_per_politic, tweet_mode=\"extended\")\n",
    "            \n",
    "            # Iterate on each tweet\n",
    "            for status in timeline_list:\n",
    "                # Generate a dictionary of status attributes\n",
    "                status_dict = dict(vars(status))\n",
    "                \n",
    "                # From this dictionary, get the keys and stock it in a variable\n",
    "                keys = vars(status).keys()\n",
    "                \n",
    "                # Create a dictionary stocking each status of the politic we are working on\n",
    "                # This dictionary will be added to the \"tweets_data\" list and finaly convert into a DataFrame\n",
    "                single_tweet_data = {}\n",
    "    \n",
    "                # Iterate on each status key (future column name)\n",
    "                for k in keys:\n",
    "                    # Add the status data to its right key into the dictionary of each status\n",
    "                    single_tweet_data[k] = status_dict[k]\n",
    "                    # Add the key as a column name in the set\n",
    "                    columns.add(k)\n",
    "                \n",
    "                # Append the full single_tweet_data dictionary with the right key to the tweets_data list\n",
    "                tweets_data.append(single_tweet_data)\n",
    "\n",
    "    # Give a name to the columns respecting the order\n",
    "    headers_cols = list(columns)\n",
    "\n",
    "    # Allow the DataFrame to display full tweets when printed\n",
    "    pd.set_option(\"display.max_rows\", None, \"display.max_columns\", None)\n",
    "    \n",
    "    # Convert the tweets_data list into a DataFrame\n",
    "    df = pd.DataFrame(tweets_data)\n",
    "    \n",
    "    # Only keep columns that provides information\n",
    "    columns_to_keep = ['id', '_json', 'source', 'source_url', 'retweet_count']\n",
    "    df = df[columns_to_keep]\n",
    "    \n",
    "    # Generate new features from extracted data\n",
    "    df[\"user\"] = df[\"_json\"].apply(lambda x : x[\"user\"][\"screen_name\"])\n",
    "    df[\"created_date\"] = pd.to_datetime(df[\"_json\"].apply(lambda x : x[\"created_at\"])).dt.strftime(\"%Y-%m-%d\")\n",
    "    df[\"created_hour\"] = pd.to_datetime(df[\"_json\"].apply(lambda x : x[\"created_at\"])).dt.strftime(\"%H:%M:%S\")\n",
    "    df[\"text\"] = df[\"_json\"].apply(lambda x : x[\"full_text\"])\n",
    "    df[\"hashtags\"] = df[\"_json\"].apply(lambda x : [hasthstags[\"text\"] for hasthstags in x[\"entities\"][\"hashtags\"]])\n",
    "    \n",
    "    # All url needed to display tweets with streamlit\n",
    "    all_url = []\n",
    "    # Iterate over \"_json\" to concatenate urls\n",
    "    for content in df[\"_json\"]:\n",
    "        start = \"https://twitter.com/\"\n",
    "        user = content[\"user\"][\"screen_name\"]\n",
    "        complement = \"/status/\"\n",
    "        id_str = content[\"id_str\"]\n",
    "        # Concatenate\n",
    "        full_url = start + user + complement + id_str\n",
    "        # Append to the full list\n",
    "        all_url.append(full_url)\n",
    "    # Create the column\n",
    "    df[\"url\"] = all_url\n",
    "    \n",
    "    # Reorder columns\n",
    "    right_order = [\"user\", \"id\", \"source\", \"text\", \"created_date\", \"created_hour\", \"hashtags\", \"retweet_count\", \"url\"]\n",
    "    df = df[right_order]\n",
    "    \n",
    "    return df"
   ]
  },
  {
   "cell_type": "markdown",
   "id": "3e489b9b",
   "metadata": {},
   "source": [
    "### Apply the function"
   ]
  },
  {
   "cell_type": "code",
   "execution_count": 7,
   "id": "b6d76d2f",
   "metadata": {},
   "outputs": [
    {
     "data": {
      "text/plain": [
       "(8126, 9)"
      ]
     },
     "execution_count": 7,
     "metadata": {},
     "output_type": "execute_result"
    }
   ],
   "source": [
    "# Load new tweets\n",
    "last_tweets_df = extract_tweets_from_politics(number_of_tweet_per_politic=250, candidates_pseudo_list=candidates_pseudo_list)\n",
    "last_tweets_df.shape"
   ]
  },
  {
   "cell_type": "markdown",
   "id": "738807e0",
   "metadata": {},
   "source": [
    "### Add features"
   ]
  },
  {
   "cell_type": "markdown",
   "id": "55167ffb",
   "metadata": {},
   "source": [
    "#### Generate new_features"
   ]
  },
  {
   "cell_type": "code",
   "execution_count": 8,
   "id": "2d59e36f",
   "metadata": {},
   "outputs": [],
   "source": [
    "new_features = [{\"user\":'EPhilippe_LH', \"name\": \"Edouard Philippe\",\"political_party\":\"Horizons\", \"political_orientation\":\"droite\"},\n",
    "                 {\"user\":'ZemmourEric', \"name\": \"Eric Zemmour\", \"political_party\":\"Aucun\", \"political_orientation\":\"extrême_droite\"},\n",
    "                 {\"user\":'EmmanuelMacron', \"name\": \"Emmanuel Macron\", \"political_party\":\"La République En Marche\", \"political_orientation\":\"droite\"},\n",
    "                 {\"user\":'Waechter2022', \"name\": \"Antoine Waechter\", \"political_party\":\"Mouvement Ecologiste Independant\", \"political_orientation\":\"ecologie\"},\n",
    "                 {\"user\":'Fabien_Roussel', \"name\": \"Fabien Roussel\", \"political_party\":\"Parti Communiste Français\", \"political_orientation\":\"extrême_gauche\"},\n",
    "                 {\"user\":'PhilippePoutou', \"name\": \"Philippe Poutou\", \"political_party\":\"Nouveau Parti Anticapitaliste\", \"political_orientation\":\"extrême_gauche\"},\n",
    "                 {\"user\":'jfpoisson78', \"name\": \"Jean-Frédéric Poisson\", \"political_party\":\"La Voie du Peuple\", \"political_orientation\":\"extrême_droite\"},\n",
    "                 {\"user\":'f_philippot', \"name\": \"Florian Philippot\", \"political_party\":\"Les Patriotes\", \"political_orientation\":\"extrême_droite\"},\n",
    "                 {\"user\":'vpecresse', \"name\": \"Valérie Pécresse\", \"political_party\":\"Soyons Libres\", \"political_orientation\":\"droite\"},\n",
    "                 {\"user\":'DenisPayre', \"name\": \"Denis Payre\", \"political_party\":\"Les Républicains\", \"political_orientation\":\"droite\"},\n",
    "                 {\"user\":'montebourg', \"name\": \"Arnaud Montebourg\", \"political_party\":\"L'Engagement\", \"political_orientation\":\"gauche\"},\n",
    "                 {\"user\":'JLMelenchon', \"name\": \"Jean-Luc Mélenchon\", \"political_party\":\"La France Insoumise\", \"political_orientation\":\"extrême_gauche\"},\n",
    "                 {\"user\":'MLP_officiel', \"name\": \"Marine Le Pen\", \"political_party\":\"Front National\", \"political_orientation\":\"extrême_droite\"},\n",
    "                 {\"user\":'jeanlassalle', \"name\": \"Jean Lassale\", \"political_party\":\"Résistons\", \"political_orientation\":\"divers\"},\n",
    "                 {\"user\":'larrouturou', \"name\": \"Pierre Larrouturou\", \"political_party\":\"Nouvelle Donne\", \"political_orientation\":\"gauche\"},\n",
    "                 {\"user\":'philippejuvin', \"name\": \"Philippe Juvin\", \"political_party\":\"Les Républicains\", \"political_orientation\":\"droite\"},\n",
    "                 {\"user\":'yjadot', \"name\": \"Yannick Jadot\", \"political_party\":\"Europe Ecologie-Les Verts\", \"political_orientation\":\"ecologie\"},\n",
    "                 {\"user\":'Anne_Hidalgo', \"name\": \"Anne Hidalgo\", \"political_party\":\"Parti Socialiste\", \"political_orientation\":\"gauche\"},\n",
    "                 {\"user\":'gerardfiloche', \"name\": \"Gerard Filoche\", \"political_party\":\"La Gauche Démocratique et Sociale\", \"political_orientation\":\"extrême_gauche\"},\n",
    "                 {\"user\":'dupontaignan', \"name\": \"Nicolas Dupont-Aignan\", \"political_party\":\"Debout la France\", \"political_orientation\":\"extrême_droite\"},\n",
    "                 {\"user\":'ECiotti', \"name\": \"Eric Ciotti\", \"political_party\":\"Les Républicain\", \"political_orientation\":\"droite\"},\n",
    "                 {\"user\":'xavierbertrand', \"name\": \"Xavier Bertrand\", \"political_party\":\"La Manufacture\", \"political_orientation\":\"droite\"},\n",
    "                 {\"user\":'MichelBarnier', \"name\": \"Michel Barnier\", \"political_party\":\"Les Républicains\", \"political_orientation\":\"droite\"},\n",
    "                 {\"user\":'UPR_Asselineau', \"name\": \"François Asselineau\", \"political_party\":\"Union Populaire Républicaine\", \"political_orientation\":\"divers\"},\n",
    "                 {\"user\":'n_arthaud', \"name\": \"Nathalie Arthaud\", \"political_party\":\"Lutte Ouvrière\", \"political_orientation\":\"extrême_gauche\"},\n",
    "                 {\"user\":'MartinRocca2022', \"name\": \"Martin Rocca\", \"political_party\":\"Constituante 2022\", \"political_orientation\":\"divers\"},\n",
    "                 {\"user\":'gilleslazzarini', \"name\": \"Gilles Lazzarini\", \"political_party\":\"Parti Politique pour la Paix et la Protection de la Planète\", \"political_orientation\":\"divers\"},\n",
    "                 {\"user\":'AlexLanglois_', \"name\": \"Alex Langlois\", \"political_party\":\"Refondation 2022\", \"political_orientation\":\"divers\"},\n",
    "                 {\"user\":'luclaf', \"name\": \"Luc Laforets\", \"political_party\":\"Une Perspective - la 6e République\", \"political_orientation\":\"divers\"},\n",
    "                 {\"user\":'Vukuzman', \"name\": \"Georges Kuzmanovic\", \"political_party\":\"République Souveraine\", \"political_orientation\":\"divers\"},\n",
    "                 {\"user\":'FabriceGrimal', \"name\": \"Fabrice Grimal\", \"political_party\":\"La Concorde Citoyenne 2022\", \"political_orientation\":\"divers\"},\n",
    "                 {\"user\":'ClaraEgger1', \"name\": \"Clara Egger\", \"political_party\":\"Espoir RIC 2022\", \"political_orientation\":\"divers\"},\n",
    "                 {\"user\":'Cau_Marie_', \"name\": \"Marie Cau\", \"political_party\":\"Sans Etiquette\", \"political_orientation\":\"divers\"},\n",
    "                 {\"user\":'antoine27955080', \"name\": \"Antoine Martinez\", \"political_party\":\"Volontaires pour la France\", \"political_orientation\":\"extrême_droite\"},\n",
    "                 {\"user\":'regis_ollivier', \"name\": \"Régis Ollivier\", \"political_party\":\"Indépendant\", \"political_orientation\":\"droite\"},\n",
    "                 {\"user\":'JaclineMouraud', \"name\": \"Jacline Mouraud\", \"political_party\":\"Sans Etiquette\", \"political_orientation\":\"droite\"},\n",
    "                 {\"user\":'HeleneThouy', \"name\": \"Hélène Thouy\", \"political_party\":\"Parti Animaliste\", \"political_orientation\":\"ecologie\"},\n",
    "                 {\"user\":'MAZUEL_Pace', \"name\": \"Philippe Mazuel\", \"political_party\":\"Pace\", \"political_orientation\":\"gauche\"},\n",
    "                 {\"user\":'MarCharlott', \"name\": \"Charlotte Marchandise\", \"political_party\":\"Sans Etiquette\", \"political_orientation\":\"gauche\"},\n",
    "                 {\"user\":'AguebPorterie', \"name\": \"Anna Agueb-Porterie\", \"political_party\":\"Aucun\", \"political_orientation\":\"gauche\"},\n",
    "                 {\"user\":'AnasseKazib', \"name\": \"Anasse Kazib\", \"political_party\":\"Courant Communiste Révolutionnaire-Révolution Permanente\", \"political_orientation\":\"extrême_gauche\"},\n",
    "                 {\"user\":'Stauthui', \"name\": \"Stéphane Tauthui\", \"political_party\":\"Tous France\", \"political_orientation\":\"droite\"},\n",
    "                 {\"user\":'GildasVieira', \"name\": \"Gildas Vieira\", \"political_party\":\"La France autrement\", \"political_orientation\":\"divers\"},]"
   ]
  },
  {
   "cell_type": "code",
   "execution_count": 9,
   "id": "763ebb16",
   "metadata": {},
   "outputs": [],
   "source": [
    "new_features_df = pd.DataFrame(new_features)"
   ]
  },
  {
   "cell_type": "markdown",
   "id": "089146ae",
   "metadata": {},
   "source": [
    "#### Merge it to last_tweets_df"
   ]
  },
  {
   "cell_type": "code",
   "execution_count": 10,
   "id": "98311e1c",
   "metadata": {},
   "outputs": [],
   "source": [
    "# because M Rocca changed his accounts name we must change our informations\n",
    "last_tweets_df[\"user\"] = last_tweets_df[\"user\"].str.replace(\"MartinRocca12\", \"MartinRocca2022\")"
   ]
  },
  {
   "cell_type": "code",
   "execution_count": 11,
   "id": "1dc7c919",
   "metadata": {},
   "outputs": [],
   "source": [
    "last_tweets_df = pd.merge(left=last_tweets_df, right=new_features_df, on='user', how='left')"
   ]
  },
  {
   "cell_type": "markdown",
   "id": "c0e21a21",
   "metadata": {},
   "source": [
    "### Check the number of tweets per politics"
   ]
  },
  {
   "cell_type": "code",
   "execution_count": null,
   "id": "bb903b9a",
   "metadata": {},
   "outputs": [],
   "source": [
    "# last_tweets_df[\"user\"].value_counts()"
   ]
  },
  {
   "cell_type": "markdown",
   "id": "1084186c",
   "metadata": {},
   "source": [
    "### Add it to the main global DataFrame"
   ]
  },
  {
   "cell_type": "markdown",
   "id": "78e83f37",
   "metadata": {},
   "source": [
    "#### Load the global_df \n",
    "- and drop the last index column automatically named \"Unamed: 0\" when saving df to csv file"
   ]
  },
  {
   "cell_type": "code",
   "execution_count": 12,
   "id": "e548f5b7",
   "metadata": {},
   "outputs": [],
   "source": [
    "global_df = pd.read_csv(\"global_df.csv\").drop(columns=\"Unnamed: 0\")"
   ]
  },
  {
   "cell_type": "markdown",
   "id": "658bf739",
   "metadata": {},
   "source": [
    "#### Add new content"
   ]
  },
  {
   "cell_type": "code",
   "execution_count": 13,
   "id": "6bc89a19",
   "metadata": {},
   "outputs": [
    {
     "name": "stdout",
     "output_type": "stream",
     "text": [
      "We just added 313 tweets to our global_df\n"
     ]
    }
   ],
   "source": [
    "actual_number_of_tweets = global_df.shape[0]\n",
    "\n",
    "# Append last tweets loaded to our archives\n",
    "global_df = global_df.append(last_tweets_df, ignore_index=True)\n",
    "\n",
    "# Sort the df by retweet_count to be sure to only keep the last update of retweet_count\n",
    "global_df = global_df.sort_values('retweet_count', ascending=False).drop_duplicates([\"user\", \"id\", \"source\", \"text\", \"created_date\", \"created_hour\", \"name\", \"political_party\",\"political_orientation\"])\n",
    "\n",
    "print(f\"We just added {global_df.shape[0]-actual_number_of_tweets} tweets to our global_df\")"
   ]
  },
  {
   "cell_type": "markdown",
   "id": "332b34ba",
   "metadata": {},
   "source": [
    "#### Save the new global_df"
   ]
  },
  {
   "cell_type": "code",
   "execution_count": 14,
   "id": "4b520eb8",
   "metadata": {},
   "outputs": [
    {
     "data": {
      "text/plain": [
       "(10342, 12)"
      ]
     },
     "execution_count": 14,
     "metadata": {},
     "output_type": "execute_result"
    }
   ],
   "source": [
    "global_df.shape"
   ]
  },
  {
   "cell_type": "code",
   "execution_count": 15,
   "id": "14de77db",
   "metadata": {},
   "outputs": [],
   "source": [
    "global_df[\"user\"] = global_df[\"user\"].str.replace(\"MartinRocca12\", \"MartinRocca2022\")"
   ]
  },
  {
   "cell_type": "code",
   "execution_count": 16,
   "id": "67efbe20",
   "metadata": {},
   "outputs": [],
   "source": [
    "global_df.to_csv(\"global_df.csv\")"
   ]
  },
  {
   "cell_type": "markdown",
   "id": "8fe632af",
   "metadata": {},
   "source": [
    "## Clean tweets"
   ]
  },
  {
   "cell_type": "markdown",
   "id": "a28ec9a9",
   "metadata": {},
   "source": [
    "### Make a new df from the global one\n",
    "- This way we will be allowed to drop duplicates next time we will load the global_df from the csv file"
   ]
  },
  {
   "cell_type": "code",
   "execution_count": 17,
   "id": "9b0fce02",
   "metadata": {},
   "outputs": [],
   "source": [
    "df_ready_for_nlp = global_df.copy()"
   ]
  },
  {
   "cell_type": "markdown",
   "id": "eaeed460",
   "metadata": {},
   "source": [
    "### Retrieve recurrent regex"
   ]
  },
  {
   "cell_type": "markdown",
   "id": "d320cc2d",
   "metadata": {},
   "source": [
    "#### Retweets"
   ]
  },
  {
   "cell_type": "code",
   "execution_count": 18,
   "id": "0bb457d4",
   "metadata": {},
   "outputs": [],
   "source": [
    "def retrieve_rt_retweets(df):\n",
    "    new_texts = []\n",
    "    \n",
    "    for text in df[\"text\"]:\n",
    "        if text[:3] == 'RT ' or text[:3] == 'rt ':\n",
    "            new_texts.append(text[3:])\n",
    "        else:\n",
    "            new_texts.append(text)\n",
    "    \n",
    "    df[\"text\"] = new_texts\n",
    "    \n",
    "    return df"
   ]
  },
  {
   "cell_type": "code",
   "execution_count": 19,
   "id": "cc232a86",
   "metadata": {},
   "outputs": [],
   "source": [
    "df_ready_for_nlp = retrieve_rt_retweets(df_ready_for_nlp)"
   ]
  },
  {
   "cell_type": "markdown",
   "id": "090cc107",
   "metadata": {},
   "source": [
    "#### Links"
   ]
  },
  {
   "cell_type": "code",
   "execution_count": 20,
   "id": "afb64d7b",
   "metadata": {},
   "outputs": [],
   "source": [
    "def retrieve_links(df):\n",
    "    pattern = re.compile(\"https://*\")\n",
    "    new_text = []\n",
    "\n",
    "    for text in df[\"text\"]:\n",
    "        if re.search(pattern, text) is None:\n",
    "            new_text.append(text)\n",
    "        else:\n",
    "            match_position = re.search(pattern, text).span()[0]\n",
    "            new_text.append(text[:(match_position-1)])\n",
    "\n",
    "    df[\"text\"] = new_text\n",
    "    \n",
    "    return df"
   ]
  },
  {
   "cell_type": "code",
   "execution_count": 21,
   "id": "c093ecb1",
   "metadata": {},
   "outputs": [],
   "source": [
    "df_ready_for_nlp = retrieve_links(df_ready_for_nlp)"
   ]
  },
  {
   "cell_type": "markdown",
   "id": "29273dd9",
   "metadata": {},
   "source": [
    "\n",
    "### Retrieve punctuation, lower text, tokenize, stopwords"
   ]
  },
  {
   "cell_type": "markdown",
   "id": "74137dc4",
   "metadata": {},
   "source": [
    "#### Define a text_cleaner function"
   ]
  },
  {
   "cell_type": "code",
   "execution_count": 22,
   "id": "55cff025",
   "metadata": {},
   "outputs": [],
   "source": [
    "def text_cleaner(text):\n",
    "    # Remove Punctuation\n",
    "    for punctuation in string.punctuation:\n",
    "        text = text.replace(punctuation, ' ') \n",
    "    \n",
    "    # Lower Case\n",
    "    lowercased = text.lower() \n",
    "    \n",
    "    # Remove accents\n",
    "    unaccented_string = unidecode.unidecode(lowercased) \n",
    "    \n",
    "    # Tokenize\n",
    "    tokenized = word_tokenize(unaccented_string) \n",
    "    \n",
    "    # Remove numbers\n",
    "    words_only = [word for word in tokenized if word.isalpha()] \n",
    "    \n",
    "    # Make stopword list\n",
    "    stop_words = set(stopwords.words('french')) \n",
    "    \n",
    "    # Remove Stop Words\n",
    "    without_stopwords = [word for word in words_only if not word in stop_words]\n",
    "    \n",
    "    return \" \".join(without_stopwords)"
   ]
  },
  {
   "cell_type": "markdown",
   "id": "06d50d6a",
   "metadata": {},
   "source": [
    "#### Apply the text_cleaner function"
   ]
  },
  {
   "cell_type": "code",
   "execution_count": 23,
   "id": "f2d4bb08",
   "metadata": {},
   "outputs": [],
   "source": [
    "df_ready_for_nlp['text'] = df_ready_for_nlp['text'].apply(text_cleaner)"
   ]
  },
  {
   "cell_type": "markdown",
   "id": "e2077576",
   "metadata": {},
   "source": [
    "## Analyze tweets"
   ]
  },
  {
   "cell_type": "markdown",
   "id": "e27e6bbd",
   "metadata": {},
   "source": [
    "### Find lexical themes and store their vocabulary in lists"
   ]
  },
  {
   "cell_type": "code",
   "execution_count": 24,
   "id": "ccd26d3d",
   "metadata": {},
   "outputs": [],
   "source": [
    "ecology_lexicon = \"\"\"velotafeurs velotaf vélo SolutionVelo Climate Amazonie éolien Coal coal lecologie2022 ISFClimatique ecologistes vivant verte vert végétale trophique transitionénergétique transition surpopulation recyclage productivisme préservation pollution phytogéographie permaculture organisme oikos océanographie Nucléaire nucléaire naturel nature microbiologie mésologie MEI Mei intertidale impact Hulot guilde Greenpeace GIEC GiEC génération évolution éthologie ethnographie environnementale environnement énergie élevage écosystème éconavigation écologue écologiste écologisme écologique écologie écoguerrier écocitoyenneté durable diversité décroissance cours Cop26 cop26 COP26 climat Climat bobo biotope biotique biosphère bionomie biomasse biologique biologie biogéographie biodiversité biocénose altermondialiste agroalimentaire Agriculture agriculture agricole AccorddeParis AccordDeParis abiotique\"\"\"\n",
    "ecology_lexicon_list = word_tokenize(ecology_lexicon)\n",
    "ecology_lexicon_clean_list = word_tokenize(text_cleaner(ecology_lexicon))"
   ]
  },
  {
   "cell_type": "code",
   "execution_count": 25,
   "id": "5ad44aff",
   "metadata": {},
   "outputs": [],
   "source": [
    "extrem_lexicon = \"\"\"rage xénophobie violent violence vif vieillesse vertigineux ultime toundra tétracorde terrible terreur terminal tension température susceptibilité survie surexcitation surabondant suprême superlatif soutenir sommet skinhead simplicité Sibérie sévérité sécheresse risqué rigueur relooking redoutable rareté raffinement radical raciste racisme puissance prudence prostration profond précipitation préciosité plafond piètre pénurie passionné particulier paroxysmique paroxysme paresseux pâleur outrée outrancier opposition opposé onction obligeance nudité nervosité néonazi nébulosité musoir mouvance mortel monstrueux mollesse miséricorde minimal minceur metal méprisable méfiance maximum maximal maigreur lourdeur Lolita limite lenteur laideur Laconie Kolyma intensif intense insupportable insensibilité inouï injuste inique infini individualisme immodéré immense hypersexualisation hypersensibilité horrible horreur Heyman héroïque haut hasardeux groupuscule gravité glacial furieux funeste fragilité fou fondamental folle finesse férocité fatigue fasciste faiblesse facho extrêmophile extrémité extrémiste extrémisme extrémiser extrémisation extrêmement extrême extraordinaire extase exquis exorbitant excessif excès exceptionnel exaspéré exagérer épuisement épouvantable éperdu énergique électorat effroyable effréné effrayant ECW dureté drastique draconien disproportionné disproportion discrétion détresse désordonné désolation désespérer désertique dérégler démesuré délire délicatesse définitif décrépitude débilité Couvin contraire comble circonspection Cabinda Bonifacio blanc Bièvres beauf atrocité asservir aride ardeur arctique anxiété antisémitisme antisémite antipode antifas Antifas angoisse aigu agressivité affreux adoration acharner abusif absolu abattement\"\"\"\n",
    "extrem_lexicon_list = word_tokenize(extrem_lexicon)\n",
    "extrem_lexicon_clean_list = word_tokenize(text_cleaner(extrem_lexicon))"
   ]
  },
  {
   "cell_type": "code",
   "execution_count": 26,
   "id": "1075831c",
   "metadata": {},
   "outputs": [],
   "source": [
    "# Manually add \"Éducation debatLR\" for each refresh\n",
    "political_lexicon = \"\"\"Éducation debatLR VoteBlanc Suede schiappa PacteVert Madagascar Libertedecirculation InitiativesPCF Ethiopie Éthiopie Slovaquie India Hollande Débat 6Republique Pasqua NousPrésidents DEBATLR DébatLR debatLR ConresLR unfrontpopulaireecologique SouverainetéPopulaire Sénatoriales2017 Rotterdam Republique président presideentielle2022 nouvellerepublique NouvelleDémocratie NouvelleDemocratie MairesDeFrance maires FrontPopulaireEcologique FrontPopulaireÉcologique ForumDuProjet Forumduprojet Fillon EspoirDeLaGauche EnsembleSauvonsLaFrance ensemblesauvonslafrance ConseilNationalLR ConseildeParis CongresDesMaires Congresdesmaires congresdesmaires Armenie Zinoviev Yougoslavie yougoslave vouseteslarepublique voteblanc volonté vision vietnamien Vietnam Varsovie utopie URSS univers union UEC Twitter trotskyste trotskysme Trotsky trotskiste trotskisme Trotski troïka tribalisme totalitarisme totalitaire Tito titiste titisme Thucydide Thorez TestsPayants testspayants termite temporisation tempête technocratie technocrate Tchéka Tchécoslovaquie tchécoslovaque Tchang talibans Talibans Taïwan tabou système syndicalisme sympathisant stratification stratégie staliniste stalinisme stalinien Staline sphère spartakiste soviétomane soviétique soviet souverainiste souverainisme souveraineté Solidarnosc SolidaritePalestine Solidaritepalestine solidarité sociologue sociologique sociologie sociolecte société sociétal socialistes Socialistes socialiste socialisme socialisation sociales sociale social sociable sociabilité situation sionisme siège Shanghai SFIO séparatiste sentiment Sénat sénat secrétaire sécession scolaire scission schisme Schiappa Schengen scandale Sarkozy sarkozy samu samizdat Russie russie ruse RPC Rousseau Roumanie rouge révolutionnaire révolution restauration responsabilité Respect respect résistant Résistance résistance réseautage Républiqueeuropéenne RépubliqueEuropéenne Republiqueeuropeenne RepubliqueEuropeenne République république républicain rentreeLR RentreeLR religion rejet réinsertion régionales Régionales Regionales regionales régime réfugié réformiste réforme réflexion réactionnaire réaction RDA rapport rang racial querelles qualité publiciste public psychologique psychique province protectorat propagande prolétarienne progressiste progressisme progrès programmes programme problèmes PrimaireLR primaireLR primaire Primaire pression présidium presidentielles2022 Presidentielles2022 présidentielle2022 Présidentielle2022 presidentielle2022 Presidentielle2022 présidentielle Présidentielle presidentielle Presidentielle prélèvement Pravda pouvoir postcommunisme populiste populisme populaire politologue politologie politiste politiser politisation politiquement Politique politique politicien politicard politicaillerie politicailler politburo polémique pluralisme plan philosophique philosophie philosophe phénomènes personnalités perestroïka Pékin PCUS PCI pauvre patriarcat partisan Parti parti partenaire partageux parlementarisme parlementaire parlement parenté paradigme panslavisme panafricanisme pamphlet Palestinien palestinien pacte orthodoxe orientation opposant opinion ONG oligarchie office notion nomenklatura noblesse nivellement nihilisme négociation nationalité nationaliste nationalisme nationalisation nationale nation mutualité municipales Municipales municipale multipartisme moscoutaire Moscou moralité morales morale moral mondialisation monarchiste monarchie mœurs modéré modèle mixité ministère militant milieu Migrants migrants méritocratie menées média Mauss matriarcat marchais maoïste maoïsme Mao Malenkov majorité machiavélisme machiavélique Machiavel maccarthysme lutte logement locatif littérature liens libertés Libertés LibertéetResponsabilité LibertéEtResponsabilité Liberté liberté libertaire libération libéral liant léniniste léninisme Lénine légitimité légitimation leader LCR langue laïcité Kuomintang KPD Komintern Kominform Khrouchtchev Kampuchéa juridique Juppé junte journal Jiangxi isolationnisme islamisme Irak intrigues interventionnisme interpellation internationaliste internationale intérieure intérêts interaction intellectuel intégration institutions institutionnel institution instabilité insertion infléchir inégalité indochinois individuel individualiste individu indépendantiste indépendantisme indépendance impérialiste impérialisme Immigration immigration idéologique idéologie identité identitaire idéal humain Hoxha Hobbes HLM histoire hiérarchie habitus habitude habitat habitant habileté Guomindang guérilla Guépéou groupes grégaire gouverner gouvernementale gouvernement gouvernant Gottwald Gorbatchev glasnost giletsjaunes GiletsJaunes Giletsjaune GiletsJaune géopolitique gazette gaulliste gaullisme gauchiste Gauche gauche FTP FREXIT frexit Frexit Francedesterritoires FranceDesTerritoires fourmi fondement fiscal féodalité féminisme fédération fédéralisme fédérale fascisme familial faction facteurs extérieure européens Européens européenne europeen étranger ethnologie ethnique éthique état établissement environnemental entrisme entente Engels endogamie encarté émergence électionprésidentielle election2022 Election2022 élection électeur égalité égalitaire effondrement éducation éducatif éducateur éditorial école échiquier Durkheim dumping Duclos droit Doriot domaine dissident dissidence discrimination dirigeant diplomatique diplomatiepacifique DiplomatiePacifique diplomatie diplomate dictature dialogue déviationniste déviance développement déterminisme déstalinisation dépolitiser démographique démocratique Démocratie démocratie démocrate démagogie défavorisé déclassement Décentralisation décentralisation DebatLR Débatdeladroite DébatdelaDroite debatdeladroite Debatdeladroite DebatdelaDroite DebatDeLaDroite débat culturel Cuba critique courant corporatisme coopération coopératif convictions conversion contexte contestation contestataire constructivisme constitutionnelle Constitution constitution considérer considérations conservatisme conservateur consensus conseildeparis ConseilDeParis ConseilConstitutionnel conseilconstitutionnel congrèsLR CongrèsLR congreslr congresLr congresLR CongresLR congrès conformisme conflits conflit conduite concept comportemental comportement compétence communiste communisme CommuneDeParis CommunedeParis communautaire commerciales comité colonial collectivité collectiviste collective cohésion cognitif codes coco coalition clivage clientélisme cléricalisme classe clandestinité clandestin clan civique civilisation civil citoyens Citoyens citoyen chinois Chine changement CGTU centriste CCAS Castro castriste caste cassos capitaliste capitalisme camarade Cabet bureaucratie Brejnev bourgeoisie bourgeoise bourgeois Bourdieu bouleversement Boudon bonapartiste Bonald bolcheviste bolchevique bolchevik Blum bipolarisation BilandelaHonte BilanDeLaHonte bienfaisance Berlinguer berlin Berlin bénéficiaires bailleur babouviste avantage autruche autoritaire autonomiste autonomie autonome autocratie autarcie athées associatif assemblées artistiques argot arène appartenance apolitique apartheid antisocial antiparlementaire antifasciste anticommuniste anticommunisme anticléricalisme anthropologue anthropologique anthropologie anomie anarchiste anarchisme anarchie analyse amnistie ambitions ambition ambitieuse ambiant alpha alliance aliénation Albanie aimable agrarien agraire agora agitation affable administrative adhérent actualité activiste activisme accession abus abstentionniste abstention\"\"\"\n",
    "political_lexicon_list = word_tokenize(political_lexicon)\n",
    "political_lexicon_clean_list = word_tokenize(text_cleaner(political_lexicon))"
   ]
  },
  {
   "cell_type": "code",
   "execution_count": 27,
   "id": "4ce3300b",
   "metadata": {},
   "outputs": [],
   "source": [
    "purchasing_power_lexicon = \"\"\"TVA taxes tarifs suppression salariés salaireminimum salaire revenus retraites retraité redonner prix Précarité précarité pouvoirdachat PouvoirDAchat pensions pauvreté mutuelles modestes ménages loyers loyer inégalités importés fiscale exonération érosion dépenses dépense cotisation consommation carburants Carburants carburant Berne appauvrissement actifs acquérir\"\"\"\n",
    "purchasing_power_lexicon_list = word_tokenize(purchasing_power_lexicon)\n",
    "purchasing_power_lexicon_clean_list = word_tokenize(text_cleaner(purchasing_power_lexicon))"
   ]
  },
  {
   "cell_type": "code",
   "execution_count": 28,
   "id": "31dece70",
   "metadata": {},
   "outputs": [],
   "source": [
    "health_lexicon = \"\"\"covid19 chlordécone burnout StopMasque ZeroCovid VigilanceSanitaire vigilancesanitaire vaccins VaccinObligatoire VaccinationObligatoire vaccinationobligatoire VaccinationCovid Vaccination vaccination Vaccin TousAntiCovid StopPassSanitaire StopCovid StopBrevetCovid soin science santexpo SANTEXPO Santé santé sanitaire PJLSanitaire PJLPasseSanitaire pharmacovigilance PassVaccinal PassSanitaires PassSanitaireDeLaHonte passsanitaire PassSanitaire Passsanitaire Passesanitaire PasseSanitaire passeportSanitaire passanitaire Passanitaire pass Pass ObligationVaccinale NonPassSanitaire nonpasssanitaire NonAuVaccinObligatoire NonAuPassSanitaireDeLaHonte NonAuPassSanitaire Nonaupasssanitaire NonAuPasseportSanitaire NONALAvaccinationobligatoire NonALaVaccinationObligatoire moderna Moderna masque Masque ManifestationAntiPassSanitaire hygiène DictatureSanitaire déconfinement Déconfinement crisesanitaire CriseSanitaire covidlong COVID19france Covid19 COVID19 Covid_19 COVID covid Covid AntiPassSanitaire AbonnementVaccinal  vitamine  vitalité  VIH  vigueur  vieillissement  vie  vétérinaire  variole  valide  valétudinaire  vaccination  vaccin  urgence  UNICEF  tuberculose  trinquer  trempe  transfusion  traitement  toxique  thérapie  thérapeutique  tempérance  tempérament  tabagisme  tabac  syndrome  surpoids  stress  souffrante  souffrance  soin  soigner  soignant  sida  shiatsu  sensualité  sanitaire  sanatorium  samu  salutaire  salubrité  salubre  sain  robuste  risque  rétablissement  rétablir  reproductive  remède  régime  réadaptation  pulmonaire  psychologue  psychique  psychiatrie  protection  prospérité  prosit  probiotique  priorité  prévoyance  prévention  prescription  préoccuper  préoccupant  préjudiciable  praticien  pouls  potable  pollution  pneumonie  physique  pharmacien  pharmacie  pesticide  personnalité  patient  pathologie  paramédical  paludisme  organisme  organisation  OMS  obésité  nutritionnel  nutrition  nutriment  nuisible  nuisent  nuisance  nuigrav  nocif  naturopathie  naturopathe  naturel  nature  mutuelle  mutualité  mortalité  montagne  mondiale  métabolique  mental  ménager  médicament  médical  médecine  médecin  maternité  massage  malnutrition  malbouffe  malaria  malaise  maladif  maladie  malade  maigreur  longévité  jouir  invalidité  intoxication  interjection  institut  Inserm  insalubre  innocuité  inhalothérapeute  informatisation  infirmité  infirmière  infirmier  infectieux  infantile  indisposition  IMC  hypocondriaque  hypertension  hygiénisme  Hygie  humain  hospitalisation  hospitalière  hôpital  holistique  Hippocrate  health  handicap  guérison  guérir  gravement  généraliste  Galien  fumeur  fragile  force  florissant  évaluer  esprit  espérance  équilibre  épidémiologie  épidémie  environnementale  environnement  entretien  embonpoint  écosystème  domaine  disposition  dispensaire  diététique  diète  diagnostic  diabète  détériorer  détérioration  détenu  dépistage  dentisterie  dentiste  dentaire  délétère  décliner  curatif  covid  corporel  convalescence  contamination  consultation  constitution  consommateur  complémentaire  compétence  communautaire  clinique  chiropratique  cardiovasculaire  cardiaque  cancer  cadmium  bulletin  boire  biotechnologie  bile  asthme  assurance  Asclépios  aromathérapie  antioxydant  altérer  altération  allergie  allaitement  alimentation  alcoolisme  aggravé  absentéisme\"\"\"\n",
    "health_lexicon_list = word_tokenize(health_lexicon)\n",
    "health_lexicon_clean_list = word_tokenize(text_cleaner(health_lexicon))"
   ]
  },
  {
   "cell_type": "code",
   "execution_count": 29,
   "id": "6d5337e4",
   "metadata": {},
   "outputs": [],
   "source": [
    "security_lexicon = \"\"\"QuaiDOrsay militaires Interpol TouchePasAuxEnfants vulnérabilité vigile vigilance vidéosurveillance veto vérification veiller usagers urgence unies tranquillité traçabilité terroriste terrorist terrorisme Symantec surveiller surveillance sûreté stasi stadier stabilité soupape signalisation sérénité security sécurité securitas sécuritarisme sécuritaire sécurisé sécurisation sécu secourisme sauvetage sauvegarde salubrité safety routière risquer risque ressortissant responsable résolution répression renseignement renforcer renforcement réglementation règlement refuge recommandation rassurant quiétude protocole protéger protection prospérité procédure problème priorité prévention prévenir présidence policier Policier Police police piratage piétons permanent pénal passive parade parachute paix OTAN ordre OpenBSD ONU obligation norme NKVD NFC nécessaire mousqueton minutie mesures menacer menace maximale maritime manutention manquement malveillant maintien maintenance loi législation KGB ISO investigation intervention international intégrité installation insécurité informatique informaticien incendie impunité humanitaire harnais hacker Gendarmerie gendarmerie gendarme garantie FSB freinage fiabilité FBI faille exigence évaluation évacuation espionnage escalade ERP englober encadrement domotique divulgation dispositif détection désarmement déploiement denrée déminage délinquance défense dangereux danger cybersécurité cybercriminalité cryptographie criminalité cracker coussin contrôles continuum conseil conformité confidentialité confiance conducteur compromettre commissariat commissaire Commissaire clignotant CIA chiffrement chicane chargé certitude certification certificat ceinture biométrique Beria baudrier balisage autorité authentification attestation attentat ataraxie assureur assurer assistance approvisionnement antivol amélioration alarme airbag airain agression agents agence aérien accident abri\"\"\"\n",
    "security_lexicon_list = word_tokenize(security_lexicon)\n",
    "security_lexicon_clean_list = word_tokenize(text_cleaner(security_lexicon))"
   ]
  },
  {
   "cell_type": "code",
   "execution_count": 30,
   "id": "393a0c0c",
   "metadata": {},
   "outputs": [],
   "source": [
    "work_lexicon = \"\"\"entreprises 35heures GrèveGénérale egalitesalariale zèle vacance utilité utilisation usine usage turbin travailleur travailler travail transformation Titan thermodynamique temps télétravail technique taylorisme taf tâche syndicat syndicaliste syndical surmenage surcroît surcharge supplémentaire superviser succès stress stakhanovisme spécialité SMIC Smic smic sinécure semainede4jours SemaineDe4Jours Semainede4jours semaine séance savoir sape salarié salariat revenu retraite résultat repos réparation rémunéré rémunération relation relâchement récréation reconnaissance récompensé réaménagement prud'hommes prolétariat prolétaire projet professionnel profession produit productivité prestation présentéisme préparatoire pratique planque perfectionnisme pensum pénible peine paye patronat patron paie ouvroir ouvrière ouvrier ouvrage ouverture outil opération oisiveté œuvre occuper occupation obligatoire motivation minutieux métier méthodologie méthodique méthode mécanisation mécanique manufacture manuel management machinisme machine loisir licenciement licencié laborieux laboratoire labeur journalier joule job invalidité intérim inspection inlassable ingrat indemnité incessant inachevé horaire heure Hercule Héraclès grève goulag galère gain fruit fordisme forcé forçat fonctionnement fonctionnaire fonction flexibilité fastidieux fainéantise façonnage exploitation expérience exigeant exercice exécution étudier étude esclave ergothérapie ergonomie éreintant équipe entretien entrepreneur entreprendre enfantement employeur employer employé Emploi emploi embellissement embauche élaboration effort effectuer durée donner domestique directeur difficulté devoir devis délassement débordé débaucher création corvée convention contrat construction consciencieux congé conciliation conception concentration Commission commission colossal collègue collectivisme collectif collaboratif collaborateur chômeur chômer chômage cheminement charge chantier cabinet bureau brocante bricole bricolage boulot boîte blouse besogne bénévole bénévolat bénédictin bagne bâcler avancement automatisation atelier assiduité assidu artisanat artisan ardu apprentissage appareil amateur affaire activité achèvement acharné accouchement accomplir absentéisme abrutissant aboutissement\"\"\"\n",
    "work_lexicon_list = word_tokenize(work_lexicon)\n",
    "work_lexicon_clean_list = word_tokenize(text_cleaner(work_lexicon))"
   ]
  },
  {
   "cell_type": "code",
   "execution_count": 31,
   "id": "7e2cd538",
   "metadata": {},
   "outputs": [],
   "source": [
    "economic_lexicon = \"\"\"Lagarde TaxeSurLaSpeculation ISF Walras Vivendi vitale versement Turgot trésorerie trésor Trente touristique tourisme totalité tirelire thésaurisation théoricien textile tertiaire tendance tempérance technologie taxation taux tabac surproduction surplus surcapitalisation substantielles subsistance structurel stratégique stock stimuler statistique Spéculation spéculation souscripteur solidaire sobriété Smith service secteur sciences Schumpeter SARL rural rôle richesse Ricardo ressources ressource réserve répartition rentier rente rentabilité rendement rembourser remboursement relocaliser relever relancer relance réduction redresser redressement redistribution reconversion reconstruction recette récession réaliser rachat Quesnay québécoise publiques protectionniste protectionnisme prospère propriété propriétaire profit production productif privés privatisation primordial prévoyance prêteur possessions possédant PME planification placement PIB physiocrate pétrolier pétrole pécule pêchés payable Patrimoine patrimoine partners parcimonie paiement organisation œconomie OCDE numéraire Nobel NEP néoclassique naturelles multinationale montant monopole monnaie monétaire mondiale modernisation Milton milliard microéconomique microéconomie mesure mercantiliste mercantilisme ménage mathématique matelas marxiste marxisme Marx marchandise marchande Malthus majoritaire maître magot macroéconomique macroéconomie luxure liquidité libéralisme libéraliser libéralisation libérale krach keynésien keynésianisme Keynes investisseur investissement investir intérêt interdépendance infrastructure informel inflation industrielle industriel industrie industrialisation impôt imposable importation importants importance immobiliser immobilisation immobilier immatériel holding historicisme hétérodoxe Hayek harmonie Glorieuses globalisation gisement gestion gaspillage gains frugalité fructifier Friedman fortune fonds foncier FMI florissante fiscalité financier Finances finances financement finance filiale feuille faillite externalité exsangue exportation exportateur excédent euro Eurazeo étatique essor espèces escompte épargner épargne épargnant entreprise entreprenant enjeu engagés endogène endettement emprunteur emprunt efficience économiste économisme économiseur économiser économiques économiquement économique économie economics économétrie économe échelle échéance échange dynamisme dynamique dollars dollar dividende diversification distribution dissoudre disposition disponible dirigisme diminution dévaluation dette détenu détenteur détenir dépenser démographie déflation déficit décupler décisif cybernétique croissance crise crédit créancier coût côté corruption coordination contribuable constat consommateur conjoncture concurrence concision comptabilité compression compétitivité commercial commerce commanditer collectivisation circulation chandelle cession central cardinal caractéristique capitalistique capitaliser capitalisation capital canadienne caisse cagnotte cac40 CAC40 budgétaire budget boursier boursicot bourse Boukharine boom bénéfice Bastiat banque bancaire avarice autrichienne autosuffisance autofinancement austérité augmentation assurance arrangement argent appropriation approche apporteur apport anticipation annuité amortissement amorçage amenant amalgames allocation alimentaire affairer administration Adam actionnariat actionnaire acquisition achat accumuler accumulation accroissement\"\"\"\n",
    "economic_lexicon_list = word_tokenize(economic_lexicon)\n",
    "economic_lexicon_clean_list = word_tokenize(text_cleaner(economic_lexicon))"
   ]
  },
  {
   "cell_type": "code",
   "execution_count": 32,
   "id": "9987a8ca",
   "metadata": {},
   "outputs": [],
   "source": [
    "# Add manually \"Manifs20novembre les4V FaceÀLaRue fRance\" \n",
    "hashtags_lexicon = \"\"\"Manifs20novembre les4V FaceÀLaRue fRance VoteThisCAPDown Vesoul TrottinetteGate Stocamine SorryWeAreClosed SAM SaintEtienne saintetienne SablesDOlonne révolte Reichshoffen Quotidien professeur PJLConfiance parcoursup Nangis Montastruc Moissac martinique Manche LaManche honte GUADELOUPE guadeloupe EPlenary Debarquement Channel CEDH Blagnac barometrevelo2021 Antilles Alsace AlCapone 5MinutesPourConvaincre 37ECampagne Whirlpool VenezNombreux Strasbourg postvérité poligny OperationSirli OLOM NotInMyName Manifs27Novembre LE20H Jura guadeloupéens guadeloupéennes enquête Cordemais constituante Condoléances Besançon APPEL 22novembre Waukesha SaintPaulLezDurance RAID Le20HdeDariusRochebin LaRochelle GIGN Corrèze ClaraLuciani ChampsElysées ChampsElysees Bastille YassineBelattar WorldChildrensDay Wokisme WhereIsPengShuai violencesfaitesauxfemmes violences Vauban Universalisme UnisDansLaDiversité UnieDansLaDiversité UneFranceNouvelle Transphobie transmission TourdeFrance thread TeamOuiHustle tdor2021 TDOR TAD Syunik StopViolences SSD93 SouvenirFrançais SMCL2021 SMCL signalement SensPublic segurpourtous SecoursCatholique SciencesPoNancy SAVIM sauvonslafrance Satellite SaintSaulve Riace RépubliqueDécentralisée refugies Refugee ReconfinementMoiJamais RaoultMerci radioAvallon pride placeRepublique PetitRobert Peche PasUneDePlus Parrainages Parole Ouihustle OùEstPengShuai OnLacheRien NousToutes NDA2022 nda2022 NAOSNCF NagorniKarabakh Morvan Molnupiravir MeTooPolitique mémoire Meeting Meaux MDM manifs20novembre Manifestation20novembre Mandelieu LoiCopeZimmerman localisme LespoirRevient LesLilas LeroyMerlin Legislatives2022 Lecornu LaGuillotière LaFranceAVoixHaute LaFranceÀVoixHaute LaConvordeCitoyenne Justice journeenationaledeluttecontreleharcelement JourneeInternationaledesDroitsdelEnfant Journeeinternationaledesdroitsdelenfant ivermectine Iss intermodalité IntérêtSupérieurDeLEnfant interdictiondelaBurqa immunitépénale IledeFrance Iel iel HôtelDieu HautKarabakh HarcelementScolaire harcelement Guanguan Grigny GrèveRoissy Greve17Nov Graz GrandeSynthe france FoutageDeGueule Floride fil FGMM ferropem ferroglobe fakenews facilitateurs FaceaBFM Euroskills EnBleuPourUnicef DroitsDesEnfants doc Delfraissy Creteil conservation colere CNLR CIDE chlordecone CancelCulture Brussels Brest Bourdin BoulogneSurMer BlackFriday Bergams benoha Azerbaijan Ashtarak Ascoval Artsakh absurdistan 6eme 5G 3ans 25novembre 20H 2022nda 13H ZEVENT2021 ZEvent2021 zadistes Youtube Youtopia Yeu YanisKhames XVdeFrance XiJinPing WS WorldIsWatching WorldHumanitarianDay2021 world womenarepower wokisme woke Witam Wien WhoRunTheWorld WEC water wait Vouvray Votez voter VoituresRadar Voile VivreEnsemble visas VironsLes VirginieDelalande vipol ViolencesPolicieres violencepolicière vins VincentLambert VincentBollore Vilpol Villandry VillaBonaparte vignerons vigilants VictoireDeTousLesFrançais VGE VG2020 Versailles VéritéVite vérité Vérité VeRépublique VéranDoitParler VéranDémission VeranDemission Véran Veran Veolia VendrediLecture Vendée Vendee VeldHiv VaulxenVelin Vaulx Vaucluse var Var Vancouver ValeursActuels Valence ValdOise USA US UrgenceClimatique UrgenceAlgerie UNWomen UnNovaJourSeLève Unité UnisPourGagner UnionPopulaire UnionEuropéenne Unidad Unesco UneAmbitionIntime Ulster Ukraine UK UICN UEolf2021 UEJF UE UDI Ubisoft Über TwitterSpace TwitchLeak Twitch Turquie Tunisie Trump Troyes Tricastin Tribunedesgénéraux Tri travaux transports transphobie transgenre transatjacquesvabre TransatJacquesVabre transactions TPMPWeekEnd TPMP TOYOTA ToutLeMondeDetesteLaPolice ToutÇaPourÇa Toussaint TousMobilisés TousMobilises TousElus2022 Tournai Touquet Touques Toulouse TouchePasMonPrénom TouchePasARaoult TotalMent Total Tolkien ToleranceZero Tokyo2020 Tokyo Tinchebray Time TikTok THREAD ThomasSankara ThomasPesquet TheGreatShift TGV TF1 Texas Terroranschlag territoires TempeteAurore TeamExploitation TeamArnaque TDOV TDF2022 TDF2021 Tchad TCE TaxonsLaSpeculation taxonomie TaxerLaSpeculation taxe Tarn taqîya Tapie TakeActionNow TahaNestPasSeul SuppressionPermisAPoints suicide Suez SudRadio submarines stream stopviolencespolicieres StopMutilationsSexuelles StopMcKinsey StopMckinsey stopimpunite StopExtrêmeDroite StopExtremeDroite StopCrack93 StopChasse STOP StephaneHessel Stéphane Stellantis STCO StartUpNation startup stage stadedefrance squatteurs SputnikInterview Sputnik sportive sport Spitzenkandidat species spatial SPACE2021 souveraineténumérique soutiensoignants SoutienFDO SoutienAuxSoignants SoutienAuxSansFac SoutienAuxPompiers SousMarins SousMarinGate sororite Sorare SophiePetronin sondeurs Sondages sondages sondage Sondage SommetElevage SommetBagdad Solidarność solidarite Solidarität Solidaridad solidale solidaires soignants soclecommun socialdémocratie SocialDemocrate SnowDay SNCF SMR SmartWater SiVisPacemParaBellum Sisterhood SiSeulement SIPC2021 SimoneVeil Shoah Shell Seychelles Sétif servir servicenational SermentDeRomainville SermentdeRomainville séparatisme Sentinelle senatoriales Senat Segur SecuriteGlobale securite Scotland SCOOP scléroseenplaques SciencesPo SciencePo Scandales ScandalePfizer SavignyleTemple SavignyLeTemple Saverne SauvonsLaFrance SauverLaFrance Sarcelles sapeurs SantExpo2021 SantéPublique santémentale SanteEnDanger Sante sanspapiers SansFacs Sanofi SamuelPaty salutaire salondupatrimoineculturel Sallaumines salaires salahabdeslam SaintSauveur SaintQuentin saintmedarddeguizieres SaintMax SaintLazare SaintLaurentSurSèvre SainteFoyLesLyon sagefemmecodenoir saccageparis SaccageParis saccagelaFrance saccageaparis Rwanda RVH2020 RuthElkrief2022 Russland Russia ruralite ruisselement Rugby RTLsoir RTLSoir RTLMatin RTL RTE RSAJeunes RSA RoyaumeUni RouteDuCafé Rouen Roubaix2021 Romainville Rojava RN134 RN RMC RichardBranson RIC Rhône rhinos revendication ReveillezVous Réussir2022 reussir2022 Reussir2022 retrofit RetraitesGate RestonsZenPP responsables Résistons Resistons Resistencia Resistance RESET reseauxsociaux RepubliqueEuropéenne RépubliqueEuropéene RepublicaEuropea RépressionPolicière ReprenonsLeContrôle RentréeSolennelleAssas rentreescolaire2021 rentreescolaire RentreeDeputesLR Rentrée2021 Rentree2021 Rentrée renouvelables RenouveauDémocratique Rennes renemalleville RendezVousPourLaFrance rendezvous rencontresJH RencontresJH Rencontres rencontreJH RenaultTruck Renault RenaulFlins RenaudRemigration Renaison RemiFraisse RemembranceDay Réindustrialiser réindustrialisation RegionSolidaire regions Régionales2021 regionales2021 Regionale2021 region RefuserLaMisère réformisme réformer reformedesretraites refondations2022 RéférendumImmigration Référendum Referendum Redondation2022 reconfinement Recherche recherche rechauffement RDLS147 RC2021 RBLPSG rassemblement rapportSauve Raoult RamyShaath Rambouillet RadioPeyi RadioMaïsto RadioClassique radio rachidaboukris RachidaBoukris RaceToZero racaille quotidien Qui QuestceQueVousFaitesDuPognon QueDeLaCom Quartararo QualiteDeLAir QOSD Qatar QAG pyrénéesatlantiques PV Puylaurens putschistes pupilles Punchline pullgate publicsenat psychologuespsychothérapeutes psychologuescliniciens psychologues PST Psa PSA PS provocation Provence protectionanimale Promenades prolongation projets ProgrammeDesProgrammes ProgrammeAEC profits professionnels productionnationale proces13Novembre2015 proces13novembre Proces_Sankara prixnobel PrixNobel PrincipesRepublicains PrimairePopulaure PrimairePopulaire PrimaireEcologiste Priem presse Présidentielles2022 présidentielles presidentielles Présidentielle2002 PresidentDesRiches Premierministre PrécaritéÉnergétique PrécaritéEnergétique PPLAnimaux PPL PPDA Poutine Poussay PourLeRassemblement Poudroux potentiel Poteau Port PontdesTrous pompiers Polynésie Polska Pologne politiques PolitiquementVôtre policiers policeproximite Polexit pôleemploi Poitiers PognonDeDingue poète podcast pma PlusPourLesFrançais PlusPourLesFrancais PlusBelleLaPoliyique PlusBelleLaPolitique PlumeNoire PLFSS2022 Pleurtuit PlanTourisme PlanFinanceClimat planète PlanBastille placedarmes PJLProtectionEnfance pjlprotectiondesenfants PJLClimat Pinera pierremenes Pierrefite Picardie picard photography PfizerGate Pfizergate Pfizer Pétronin Petain Pesquet Perspectives PerrosGuirec PernesLesFontaines périphérique PereOlivierMaire people Pegasus pédocriminalité pedocriminalité Pedocriminalite PCF PaysDuTiersMonde PaysBas PawlaAdamowicza PawelAdamowicz patchwork PasUnPoissonDAvril PasToucheAuxEnfants passvacinal passedelahonte PassDeLaHonte PasDeVague PasDeClimatPasDeMandat PasAntivaxProLiberté PasAntivaxMaisProLiberté PartiAnimaliste parrainages ParlonsDroitDuTravail parlementaires ParlamentoEuropeo ParisRoubaixFemmes Paris20 Paris18 Paris15 Paris12 paris11septembre Paris11septembre Paris11 Paris10 Paris ParayleMonial parasitisme Paralympics ParadisFiscaux Papon Pape Papacito Pantheon PandoraPapers PanamaPapers Palestiniens palestiniennes Palaiseau pacifique PACEEurope PACEeurope PaceEuropae PaceEuropa PACEenCabourg PACE2019 PACE PAC P5 Oyonnax OùVaLePognon OutreMer ourcq Ouighours OuiAuSecretMedical OuiAlaLiberté OuiALaLiberté Oubrou Ouagadougou otage Orléans Orleans OrangeArmy Orange OQTF opportunistes opportuniste Opportunisme opportunisme ontilsditçà onNousCacheTout OnNeLacheRien Onnaing OnFaitAutrement OnEstEnsemble OnEnPeutPlus OMS OMPSG OMPE OlivierMaire OlivierFaure Olive OhWait ofcourselemans oeuf OEED océans occitanie Occitanie Obywateli Numerique nucléaires nucleaire NouvelleCalédonie NouvelleCaledonie NouvelleAquitaine NousSachons NousPresidents nousprésidentes NousFrance NousEtudiantEsHandiEs NousCitoyens NotreDameDeParis NotreDame Normandie NoPasaran NonAuPasseDeLaHonte NonAuPassDeLaHonte NonAuMasqueScolaire NOHA NOBASSARAN Nimes Nice06 Nice NeverForget NeuillysurSeine Netanyahou neonmag NeJamaisRenoncer nejamaisoublier NeJamaisOublier négaWatt2022 NegaWatt NeFaisonsXV nazisme Navalny NavalGroup nations NationEducative Nationalisten Narbonne Napoleon Nantes Nantais NanMaisHo Nancy mytho Mutualite municipaux Municipales2020 MumiaAbuJamal Mozambiquemassacre MouvementEcologisteIndependant mourirpourTaïwan motoGP MotoGP mosquee MorièreslèsAvignon MorettiDemission MorandiniLive Montreuil montpellier2 Montpellier Montgeron Montbrison Montauban Monprojet Monnerville Monguillot monde modecirculaire MLP MLaFrance Mitterrand MissionAlpha MireilleKnoll Mirail milliardaires Millevaches Milipol2021 migrazione migrationskrise migration Migration migrant MIFExpo mif2021 MiF MIF MichelFontaine MichauxChevry MHAN Mexico Mexicanos Metz MeTooTheatre MeToo Messe Merkel Ménard MeilleurePOL MeeTooPolitique MeetingLille meeting mediator médias Medef medecine médailles mbougarsarr MBF Mayotte mauvaisefoi Maubeuge Matinale matinale Martinique Marseille Maroc MarieClaire mariagepourtous MaPolitiqueDuLogement mans Mans manifs6novembre Manifs6novembre Manifs4septembre Manifs30octobre Manifs2octobre Manifs28aout manifs23octobre Manifs21aout manifs20Novembre Manifs14aout manifs13novembre manifs13Novembre ManifPolice manifestions manifestations manifestation14aout manifestation manifestants manif7aout Manif24juillet manif18septembre manif17juillet manif14aout Malraux Mali maladiesilencieuse Maisqui MaisonsAlfort maire MaineetLoire mai68 MagieDuCouscous Maghreb mafrance MaFrance Madrid madeinFrance MadeInFrance madeinfrance MadeinFrance lyon Lyon lycee Lybie LutterContreLeTerrorisme LutteOuvrière Lubrizol LSF LREM LR LowCarbonFrance Lourmarin Lourdes LouiseMichel Louhans Londres London Loiseau Loiret loiMolac LoiMolac logementsocial LO livre listes Lisieux LionelMessi linstantPoL Limoges Lille LigueDesNations LigneP LigneDroite LibresCommeLArt librairies liberticides liberticide libertedelapresse liberte Liberte liberezMumia Liban LHForum LH lgf LGBTI LGBT LFI LeVraiBilan LesVraiesVoix LesMatinsLCI LesHirondelles LeSermentDeRomainville LesCovidistesOntQuittéLeGenreHumain LesAnimauxComptent Les4V Les4v les3dindes Leray LePontet LePerche LePassDeLaHonte LeMonde LeMans24 lemans LeMans LeHavre legrandrdv LeGrandRDV LeGrandJury LeGrandDébatLCI LeGrandDebatLCI LeGrandDébat legislatives2022 LegislativeArgentine légionnaires legionarios LeDebatdelaDroite lecture LeBilletDeCharline LeBarbierduMatin Le79Inter le79inter le79Inter le69Inter Le20hdeDariusRochebin LE13H Le LDH LCI LCC2022 Lavaur Laupretre LaUneTv LaREM LaPoste Lannemezan languesrégionales languesregionales Landes lanceursdalerte Lanceursdalerte LanceursDalerte lanceursalertes LancementDeCampagne LaMatinaleWE LaMatinale LalondelesMaures Lallement Laillé Laguiole LaGrandeTransformation LaFranceNouvelle LaFranceNotreAvenir LaFrancedesterritoires LAffaireDuSiecle LaDragonne LaChipsFrançaise LaChasseCetteImposture LaBaule2021 LaBaule La26 Kuzmanovic Kurds Kurdistan Kurdes Koweït Koweit Kourou Kosovo Kommission Kohler KohLanta2022 Knoll Kiyv kindnessmatters kindness Kiev kérosene KBM Kandidat KabulAiport Kaboul JusticeSociale JusticePourFouad JusticePourAdama JusticeEnvironnementale justiceClimat justice JusteMilieu Jussieu JulianAssange jugementmajoritaire JugementMajoritaire juge JT20H JourneesDuPatrimoine JournéeMondialeDuRefusDeLaMisère JourneeMondialeDuRefusDeLaMisere JournéeMondialeDesAnimaux JourneeMondialeDeLautisme JourneeInternationaleDesDroitsDesFemmes JournéeContrePrécaritéEnergétique Journalisme journalisme JOTokyo JosephineBaker JOPTokyo2021 JOP2024 JOP2021 JoeBiden JO2024 JO JMLaFrance jmh2019 JL2022 JFP2022 JeuxParalympiques Jeunesse jeunesse jeunesFrançais jeunes jesoutiensmalibrairie jesoutienslachasse JeSoutiensDiVizio Jerusalem Jersey JEP2021 JeNeSuisPasUnRhinocéros JeMeFatigue Jefferson JeffBezos JeanCastex JDCJDR JDC2021 JANSEN Izabela IVG Ivermectine IUCNcongress Italien Italie Italia IsraelTerrorist IsraelPalestine israéliens Israelien Israël Israel isolement islamophobie islamistes Islamist Islam islam isegoria irréaliste Iran Invité intimidation interview interreg InternationalDemocracyDay Insurrection Instagram Insolite inondations innovation InnovateursDemocratiques infirmiers infirmieres IndexationDesSalaires indexation IndemnitéInflation indemniteinflation inauguration ImpuniteZero ImpressionsEtLignesClaires IkeaDiscrimine IHSAconference ignorance idrissdeby IDI IDF idées ID ICICESTPARIS IbisBatignolles IanBrossat hydrogène Hydrogene hydroélectriques humanity humanitarian humanistes humanidad human Hubgrade HubertGermain Horizons hôpitaux hopitaux hopitalpublicencrise hopitalpublic hôpital hopital Hopital Honte honnisoitquimalypense Hongrie homosexualité homophobie Homophobe hommes hijab HiAP heritage Hercules HéninBeaumont HeninBeaumont Hémicycle hellas healthcare hdpros2 hdpros Hdpros HDP Hazebrouck Havre hautsdefrance HauteVienne Hautegaronne HauteGaronne HasardLudique harkis Hardelot Hapsatou Handicap handicap Hamel Halloween HaitiSOS Haïtiens Haïti Haiti gvt Guyane Guillotière Guadeloupe Grignon grevesncf grèves GreveGenerale greve5octobre greve23septembre Grenzkontrolle Grenoble greenwashing GREENNEWDEAL GreenHub GrandRemplacement GrandRDV GrandMatinSudRadio grandjury grandecausenationale GranddebatLCI granddebat Gradignan GOPÉ Goodvest Goncourt2021 Goncourt Glucksmann GlobalCitizenLive GlasgowCop26 Glasgow GiseleHalimi GiscardDEstaing Gironde GiletsJaunesSaison2 GiletJaunes GGRMC Germinal Georgie GeorgesBrassens GeorgeFloyd genre GénocideArménien Generaux GeneralElectric généraldeGaulle GDS Gdansk GazaUnderAttak Gaza gaz gaspillagealimentaire Gascogne Galileo Gajac G20 frontieres FrontContreLeRacisme FroidChezSoi Frieden FrexitVite Freund FrèresMusulmans FrenchTech French FreeUyghurs FreeRamyShaath FreeGeorgesAbdallah FreeAssangeNOW FreeAssange freearroibaraket FreeAbdallah fraudefiscale Fraternité FRANZL Francia Franceunité franceses FranceLibre FranceInter franceinter FranceIndustrie FranceEspagne France2030 France2 France1970 France français Français francais Francais Françafrique FRAKAZ FRAGEO FRAESP FRAARG FRAAFS Foutriquet Fouad fossiles ForumPhilo formation ForfaitMobilitésDurables foreveryoung forêts ForetAfriqueParis2021 ForeignLegion ForceCitoyenne football food Fontainebleau Fonderie FoireDeChalons FoiredeChalons FNTV FN Fluvoxamine FluctuatNecMergitur FlatTax flambée Flamanville FinDuMois FinDeVieLibre FindeVie FinDeVie Financeverte filrougeAFH Figaro FierteFrancaise FiersdetreBleus FiersDeNotrePatrimoine FiereDeNosEleveurs Fiat fiasco FI FFcasuffit FeuilleDePaye Fetedutravail FeteDelHumanite fesses Fessenheim femmes féministes féministe FED2021 FDE2021 FDD Fauci Fassadeneuropäer FARTGATE familles faiteslire FaitesLire fainéants Facebook facebook Facealinfo FaceàLaRue FaceALaRue fabioquartararo FA22 EZ extrémistes extrêmedroite ExtremeDroite ExtraLocal Exposition examens Évêques euthanasie eurovision Eurovision Eurotunnel EuropeMatin Europefédérale européennes2019 Europeennes2019 Europeennees2019 européen Europeen Europeans EuropeanRepublic Europe1 Europe EuropaMachen EuropäischeRepublik Europäischen Europäische Europäer Europa EureetLoir EUFarmToFork EUCO EU EtudiantsEnDetresse étudiants etudiant EtatsUnis ÉtatsGénérauxDeLaJustice Étatprovidence etatdurgence Étatdedroit essentiels EssayezLaDémocratie Espoir espoir ESPFRA Españoles España Espana Espagne espace Espace Erika Erdogan Erasmus equipedefrance équiéconomie EPR Epinal éoliennes eolien entretiens entretienexclusif EnTouteFranchise EnsembleOnVaGagner EnsembleOnVaChangerLEurope ensemble Ensemble enseignement enseignant ensauvagement EnMêmeTemps EnMarche EnlevezmoiPhotoshop EnlevezMoiPhotoshop England engagement EnfantsPlacés enfants énergies Energies energie Energie Energétique emplois EmmanuelCueff EmiratsArabesUnis EmiliaRomagnaGP émancipation Élysée2022 Elysée2022 Élysee2022 Elysée Elevage électricité electricite ElectionsUE19 electionsregionales2021 électionsrégionales Electionsrégionales ElectionsRegionales ElectionsEuropeennes2019 Elections2022 Elections2019 ElectionPrésidentielle élection2022 Election2019 Elecciones2019 Eiffel Egypte eglise Egalité egalite effetssecondaires EELV éducationpopulaire education EDF ecprgc21 Écoute economiecirculaire écologistes EcologieDesSolutions Ecologie Ecoles éboueurs EauDeMetz eau E1Matin DupontMoretti DumpingSocial Duchere Drouet Drôme DroitsSociaux Droits droite droitalinfo drancy Drancy Doubs Douai doityourself documentaire Djokovic Dividendes dissolution discothèques directHDF DirectCitoyens Directcitoyens DirectAN Dionis Dinah DimPolBourgogne DimPol DIMPOL Dimpol DimancheEnPolitique dimanche Dijon DignitePourTous Dieppe DictatureEnMarche DeveloppementDurable developpement DettePublique DesHautsEtDébats DeRien derekchauvinisguilty deputes departementales2021 departementales Demokratie democratons democratiedirecte democratie DemocracyDay Democracy demain délocalisation DeGaulle défilé defence Deconfinement Decentralisation Décapitation DeboutLesFemmes DebattreVraiment DebatLCI DebatBFMTV debat Debat debarquement DDay75 DauphineLibere Dassault DarmaninDemission Darmanin Dantzig Danjou DanielAuteuil Dalton cynisme cyclisme cyberwar CumExFiles culture Cueff CSA CroiséeDesChemins CroiseeDesChemins Cristel créativité créative CPF covoiturage CouvreFeu Cournon Corse CORONAVIRUS Copenhagen2021 cop26glasgow COP26Glasgow Cop21 COP cooperation Conversations ConventionDeLaDroite contrôlecontinu contrefaçon ContratEngagementJeune ContratDuSiecle constituante2022 ConseilConstitutionel congresnc19 CongresNC19 CongrèsHLM CongrèsDesMaires confrontation ConflansSaintHonorine Conflans confinement Conférence conference conditionanimale Compagnondelaliberation Communiqué communauté communalisme Commonwealth CommissionEuropéenne commissiondéfense CommentCaMarcheLeParlement CombsLaVille combat ComAfEco Colombey Colombes Colmar collégiens collectifécolesMarseille cohesion codenoir CodeNoir CNSPF2021 CNR CNews CNEWS CNDP Cloud ClimateAction ClickAndCollect Clhebdo ClermontFerrand ClaudeAlphandery CJUE CJR Citizens cinemaélectoral chroniqueur Christianophobie Christchurch Chrischurch Chretiens Chomage Cholet Choisy chiche ChèqueInflation chequeinflation cheminots chef Chateauroux Chateaurenard chateaudun chateaubriant Chateaubriant chasseurs Chasseurs chasse Chasse Charvieu CharlieHebdo CharenteMaritime ChapellesurErdre chantilly ChampionsLeague Chalucet ChallengeAccepted CGT CEDHexit CEA CàVous CaVous cavalcade Cavaillon CauseAnimale catholique Castres castex20h Castex20h Castex Casteljaloux Cassonade cashinvestigation Carpentras Carousel cantines cantine Cannes cannabis Cannabis candidature candidats CandidatCitoyen candidat CanalSeineNordEurope Canada CampagneTER CameroneDay Camerone2020 Camerone CambioClimático Camarón Calvados Calanques Calais Caen Cabourg Buzyn BusinessObject burkini Bürgerinnen Bürger Burgat Budapest BTS BTP Bruxelles Brumath Brossat Bron Brives2021 Brive2021 BrigadesRouges brexit Brexit brevets Brevets Bretagne Brassens Bourges BourdinDirect Boulognesurmer Boudaud BouchesduRhône Borne bordelais Bordeaux Bonneval BonjourChezVous Bolsonaro Bolloré bolide Bluwal Blois blocpop BlocPop Blanquer blaisecampaore BlackLivesMatter BlackBloc Biodiversity BigPharma Bigard Biélorussie Bielorussie Biden Biarritz BFMTVSD BFMTV BFMStory BFMPolitique BFMBusiness BFM Béziers Beyrouth bêtise BerthoudCycle BernardTapie BernardArnault Benfeld benalla Benalla Beltrame Belmondo Belfort bekind Beethoven bébé Beauvernois BeauvauDeLaSecurite Beauvais BeatriceSigismeau Bayonne Bayeux Bataclan barrières Barkhane Barbès BarbaraPravi bamlanivimab BalDesFiertés BalanceTonRSA BalanceTonPost BaisseTaTVA baguette badminton Badminton Backstage Aznavour azf20ans Azerbaïdjan AW2022 Avrillé Avignon avenir AvecValérie AvecAnne Autriche autotests automobile Australie AugmentationDesSalaires AudricAlexandrePace Audiences audencia audace Auch Aubervilliers auberge AttentatsDu13Novembre attentats2015 attentats Attaqueterroriste Attal attack ATIH ASTRID Asterix Assomption assembleenationale Assange asile artisans Arte art ArrêtezDEmmerderLesFrançais Arras Arménie armée armee Ariane6 Ariane Argenteuil architecture ArcDeTriomphe Arcachon ArabieSaoudite arabe Arab Appelàtémoins APIMED APHP Aperocrates APAnnecy antisemitisme antiracistes antipass antijudaism Anne Animaux Angers Angela anarchistes anar Amiens AMF AmazonStPriest AlvanceWheels Alstom2 Alstom alSissi AlSissi Allonnes AllezLesBleus Allemagne AlimentationEquitablePourTous alimentation Aligre Algériens Algeriens Algérie Algerie AlexisKohler Alençon ALENCON Albi AKP AJPSEditor AIMF aide agriculteurs agribashing AgnesBuzyn AfriqueFrance Afrique AFP Afghanistan Afghanishtan AffaireKohler AESH AdrienTaquet ADP ADMD ActionPopulaire actionnaires Acides Abbeville AAH 9octobre 9novembre 9h22 8mars 8mai2021 8mai1945 8Mai1945 6juin 6emeRep 65ans 5octobre 5èVague 500parrainages 4V 4RCH 4èDose 3novembre9h22 3Novembre9h22 3Novembre9H22 3novembre 3èDose 2NovAdmd 2nov 24hLeMans 24HClimat 23OctobreLyon 20h30ledimanche 20h22 20h 2022lecologie 2022AvecVous 2022anneeCruciale 1erMai2021 1erMai 1erDeCordée 19eme 17octobre61 17octobre1961 17Mai 1607h 15août 15aout 14juillet2021 14Juillet2021 14juillet 14Juillet 13novembre2015 13Novembre2015 13novembre 13Novembre 12Juin 11septembre2001 11septembre 11novembre1918 11novembre 11Novembre 10Mai1981 10HeuresMidi 109Mariannes 100euros 100ansBrassens\"\"\"\n",
    "# We do not \"clean\" hashtags_lexicon to keep numbers\n",
    "hashtags_lexicon_list = word_tokenize(hashtags_lexicon)"
   ]
  },
  {
   "cell_type": "code",
   "execution_count": 33,
   "id": "538d50a1",
   "metadata": {},
   "outputs": [],
   "source": [
    "# Manually add \"laRemontada\"\n",
    "candidates_references = \"\"\"laRemontada UnCitoyenPourPrésident PLF2022 LesRépublicains LaRemontafa JeRejoinsHorizons MelenchonRennes LaDroiteAvecZemmour FabienRoussel2022 fabienroussel2022 DirectZemmour 5ansdeplus ProgrammeMélenchon ProgrammeMelenchon NousToutesAvecZemmour AnneHidalgo AnasseKazib2022 ZemmourVsMelenchon ZemmourTaddei ZemmourSecondTour ZemmourEric Zemmour2022 Zemmour zemmour yjadot xavierbertrand waechter2022 Waechter2022 Waechter Waecher2022 Vukuzman vpecresse VictoireZemmour victoiremelenchon UPR_Asselineau TeamCiotti soutienAnasseKazib SLeFoll SilenceZemmour roussel2022 Roussel2022 Roussel Rocca22 rocca2022 Remontada REMONTADA regis_ollivier refondation2022 Refondation2022 PropagandeZemmour poutou2022 Poutou2022 Poutou PoissonZemmour PhilippePoutou philippejuvin Pécresse2022 Pecresse2022 Pécresse Payre NiMacronNiLePen n_arthaud Montebourg montebourg MLP_officiel MichelBarnier2022 MichelBarnier MelenchonVsZemmour MelenchonTF1 MélenchonLille MelenchonLille MelenchonESSEC MelenchonEconomie MelenchonBFMTV Mélenchon Melenchon mazuel2022 Mazuel2022 MAZUEL_Pace MartinRocca12 Martinez MarineLePen mariecau MarCharlott MacronMenteur macronie Macronie MacronDehors Macron20hDictature macron20h Macron20h macron Macron luclaf LesFemmesAvecZemmour LePen Lazzarini2022 larrouturou laremontada LaRemontada LaReMontada Laremontada Juvin JLMelenchon jfpoisson78 JFPoisson2022 JeVoteBarnier JeSoutiensZemmour jeanlassalle2022 JeanLassalle2022 jeanlassalle202 Jeanlassalle JeanLassalle jeanlassalle Jadot2022 Jadot JaclineMouraud Hidalgo2022 Hidalgo HélèneThouy2022 HeleneThouy2022 HeleneThouy gilleslazzarini gerardfiloche GenerationHidalgo GénéralMartinez2022 GénéralMartinez FabriceGrimal Fabien_Roussel f_philippot EricZemmour EPhilippe_LH EmmanuelMacron ECiotti dupontaignan DenisPayre ClaraEgger1 Ciotti2022 Ciotti Cau_Marie_ Bertrand Barnier2022 Barnier AvecJuvin AvecJadot AvecCiotti Asselineau AntoineWaechter ANTOINEWAECHTER antoine27955080 Anne_Hidalgo AnasseKazib anasse2022 Anasse2022 AlloMélenchon AlloMelenchon AlexLanglois_ AlexandreLanglois2022 AguebPorterie\"\"\"\n",
    "candidates_references_list = word_tokenize(candidates_references)\n",
    "candidates_references_clean_list = word_tokenize(text_cleaner(candidates_references))"
   ]
  },
  {
   "cell_type": "markdown",
   "id": "e1eb9b6d",
   "metadata": {},
   "source": [
    "- Join every lexicon and be sure that we don't have duplicates"
   ]
  },
  {
   "cell_type": "code",
   "execution_count": 34,
   "id": "ee2671b5",
   "metadata": {},
   "outputs": [],
   "source": [
    "all_lexicons_registered = list(set(political_lexicon_list + political_lexicon_clean_list + ecology_lexicon_list + ecology_lexicon_clean_list + economic_lexicon_list + economic_lexicon_clean_list + extrem_lexicon_list + extrem_lexicon_clean_list  + health_lexicon_list + health_lexicon_clean_list + work_lexicon_list + work_lexicon_clean_list + security_lexicon_list + security_lexicon_clean_list + purchasing_power_lexicon_list + purchasing_power_lexicon_clean_list + candidates_references_list + candidates_references_clean_list + candidates_pseudo_list  + hashtags_lexicon_list))"
   ]
  },
  {
   "cell_type": "markdown",
   "id": "d7381904",
   "metadata": {},
   "source": [
    "### Check the new hashtags and append them to lexicons if necessary"
   ]
  },
  {
   "cell_type": "code",
   "execution_count": 35,
   "id": "200f40bf",
   "metadata": {},
   "outputs": [
    {
     "name": "stdout",
     "output_type": "stream",
     "text": [
      "We have 127 new unique hastags which are:\n"
     ]
    }
   ],
   "source": [
    "new_hashtags = []\n",
    "\n",
    "for hashtags_list in last_tweets_df[\"hashtags\"]:\n",
    "    for hashtag in hashtags_list:\n",
    "        if hashtag in all_lexicons_registered:\n",
    "            pass\n",
    "        else:\n",
    "            new_hashtags.append(hashtag)\n",
    "\n",
    "unique_hashtags = sorted(set(new_hashtags))\n",
    "print(f\"We have {len(unique_hashtags)} new unique hastags which are:\")"
   ]
  },
  {
   "cell_type": "code",
   "execution_count": 36,
   "id": "2f829c40",
   "metadata": {
    "scrolled": true
   },
   "outputs": [
    {
     "data": {
      "text/plain": [
       "['13h',\n",
       " '1ereligne',\n",
       " '2022elections',\n",
       " '25Novembre',\n",
       " '3emeDose',\n",
       " '3ème',\n",
       " '3èmeDose',\n",
       " '5décembre',\n",
       " '5eVague',\n",
       " '6eRépublique',\n",
       " 'AFPTV',\n",
       " 'ARN',\n",
       " 'Agen',\n",
       " 'AixLesBains',\n",
       " 'AstraZeneca',\n",
       " 'Avent',\n",
       " 'B',\n",
       " 'B11529',\n",
       " 'Batho',\n",
       " 'Bayrou',\n",
       " 'Belleville',\n",
       " 'BoulogneBillancourt',\n",
       " 'BurkinaFaso',\n",
       " 'Carqueiranne',\n",
       " 'Castaner',\n",
       " 'Chlordecone',\n",
       " 'Cognin',\n",
       " 'CollecteNationale',\n",
       " 'CongreLR',\n",
       " 'Congrès',\n",
       " 'Convention',\n",
       " 'Dignite',\n",
       " 'DoigtDHonneur',\n",
       " 'EHPAD',\n",
       " 'EnRoutePourLaPresidentielle',\n",
       " 'Engels201',\n",
       " 'EnvoyéSpecial',\n",
       " 'Epinay',\n",
       " 'EtudiantsSansMaster',\n",
       " 'FACEaBFM',\n",
       " 'FaceABFM',\n",
       " 'Falguière',\n",
       " 'FerroPem',\n",
       " 'GenerationMelenchon',\n",
       " 'GiletJaune',\n",
       " 'HagSameah',\n",
       " 'Hanouka',\n",
       " 'Isère',\n",
       " 'JT13h',\n",
       " 'JeFaisMaBA',\n",
       " 'JournéeMondialeContreLeFoieGras',\n",
       " 'LKP',\n",
       " 'LeCannet',\n",
       " 'LeJT',\n",
       " 'LeProgrammeDesProgrammes',\n",
       " 'Lefebvre',\n",
       " 'LesFemmesAvecMarine',\n",
       " 'Libertédecirculation',\n",
       " 'Libya',\n",
       " 'LibéralismeAutoritaire',\n",
       " 'Macon',\n",
       " 'Manifs4Décembre',\n",
       " 'Medias',\n",
       " 'MeetingParis',\n",
       " 'Melenchon2022',\n",
       " 'MelenchonNantes',\n",
       " 'MelenchonPresident',\n",
       " 'MouvementEcologisteIndépendant',\n",
       " 'NeRienLaisserPasser',\n",
       " 'Niger',\n",
       " 'Nu',\n",
       " 'OMicron',\n",
       " 'ONF',\n",
       " 'Omicron',\n",
       " 'OmicronVariant',\n",
       " 'Outremer',\n",
       " 'OuvrezLesYeux',\n",
       " 'Paris19',\n",
       " 'Peripherique',\n",
       " 'Perpignan',\n",
       " 'PointeÀPitre',\n",
       " 'Pompidou',\n",
       " 'Portugal',\n",
       " 'Périgord',\n",
       " 'QuestionsPol',\n",
       " 'RTLmatin',\n",
       " 'Royan',\n",
       " 'Référents',\n",
       " 'Sarlat',\n",
       " 'Savoie',\n",
       " 'ServiqueCivique',\n",
       " 'Suède',\n",
       " 'TaxiVolant',\n",
       " 'TouchezPasAuxEnfants',\n",
       " 'ToutVaccinal',\n",
       " 'TrouverMonMaster',\n",
       " 'Variant',\n",
       " 'VariantNu',\n",
       " 'VariantOmicron',\n",
       " 'Villeurbanne',\n",
       " 'ViolencesFaitesAuxFemmes',\n",
       " 'Wazemmes',\n",
       " 'ZemmourMarseille',\n",
       " 'avenirencommun',\n",
       " 'besmart',\n",
       " 'blackfriday',\n",
       " 'cestmavieprivee',\n",
       " 'commissions',\n",
       " 'congredLR',\n",
       " 'conseilnational',\n",
       " 'créolisation',\n",
       " 'deGaulle',\n",
       " 'deboutlafrance',\n",
       " 'effets2aires',\n",
       " 'feminicide',\n",
       " 'femonationalisme',\n",
       " 'justicepouribo',\n",
       " 'manifs27Novembre',\n",
       " 'muselier',\n",
       " 'omicron',\n",
       " 'paris13',\n",
       " 'policiersEnColere',\n",
       " 'questionPol',\n",
       " 'transitionecologique',\n",
       " 'variant',\n",
       " 'variantesudafricana',\n",
       " 'zemmourmarseille']"
      ]
     },
     "execution_count": 36,
     "metadata": {},
     "output_type": "execute_result"
    }
   ],
   "source": [
    "unique_hashtags"
   ]
  },
  {
   "cell_type": "markdown",
   "id": "7c96ec7a",
   "metadata": {},
   "source": [
    "### Check the new words"
   ]
  },
  {
   "cell_type": "code",
   "execution_count": 197,
   "id": "be574ead",
   "metadata": {},
   "outputs": [],
   "source": [
    "words_known_1 = \"\"\"chanceux chances chancelier chancel chance chan champselysees champs champions championne champion champagne champ chamouille chambres chambre chambourcy chamboncellea chambery chambecitoyenne chalucet chalons chalonnais chalon chalmin challenging challenges challenged challenge chalifert chaleureux chaleureuses chaleureusement chaleureuse chaleur chaix chaise chair chains chaines chaine chahinez chacune chacun cha ch cgtleroymerlin cgt cfdt cf cewugczasi ceux cette cett cetaces ceta cet cestmavieprivee cessons cessez cesseront cessera cesser cessent cesse cesajohann cerveauxnon cerveau certitude certificat certif certes certains certaines certainement certaine certain cerrone cerises ceremonie cereme cercle cependant centrons centro centristes centriste centres centree centre centralisatrice centrales centralenantes centrale central centimetre centenaire centaines centaine cent censurer censuree censure censeurs censes censees censee cense cendres cemyoldass cemento cemat celui celsius cellules cellule celles celle celinegeissmann celineboeuf celiamebroukine celebrons celebres celebrer celebrent celebre cela ceints ceejviacgz ceds cedricvial cedricherrou cedric cedons cedh cederons cedera ceder cede cecphil cecile ceci cecgalluccio ceccaldi cebcyber cdu cdricnouvelot cdjoncour cdja cdion cdgournay cdganay cderoche cdenquete cdd cdcaancfrance cdc cdanslair ccuhtmdwmh ccrubnmddr ccl ccif ccesoir ccastaner cc cbonfantidossat cbkwoimcli cbeaunemenacait cbeaune cbdaflvsrd cazeneuve cavous caviar caveriviere cavecchi cave cavalier cautionne causeur causes causer causent causee cause cauofficiel caudehenrion cauchy cauchem caucase cau cattannancy catimini catholiques catholique catholicisme cathhelayel catherinedvries catherine cathedrales cathedrale cathchabaud categoriquement categories categorie catbelrhiti catastrophiques catastrophique catastrophes catastrophe catalogue cataclysmiquement cata cat castro castres casting castex castes castelnau castel caste castaner castagneurde cassure cassin casseurs casseroles cassera casser casse casque casino casier caserne case cascade casareal cas cartons carton cartes cartel cartefrancaise carte cars carrieristes carrieres carriere carrement carrefour carre carqueiranne carpentrassiens carpentrassiennes carpentras carottes caronaymericoff carolinerooseeu carolinemecary carolinefourest carolineconnan caroline caroledelga caro carnets carnet carnage carmaux carlosdeamberes carlos carlito carinegreusard carine carignon caricatures caricaturee caricature caricaturale caricatural carentan cardon cardinal cardiaques cardiaque carcerale carceral carcan carburants carburant carbonne carbonise carbones carbone carbon caracteriser caractere caract car captures capture capteurs captain caprices cappolitique caporal capituler capitule capitulation capitulardes capitennerie capitaux capitaniooliv capitan capitalistes capitaliste capitalisme capitalisation capitale capital capitainerie capitaine capella capel capacities capacites capacite capables capable cap cantonne canton cantine cantal canons cannet cannes cannabis canico canebiere candidatures candidature candidatur candidats candidato candidates candidatent candidate candidatcitoyen candidat candida candicale candeur cand canche cancers cancerogene cancer cancelculture cancel canards canardenchaine canape canaliser canal canadiens canadiennes canada can campusangers campus camps campaigns campagnoltvl campagneter campagnes campagne camp camouflet camoufler camouflage camions camion camino camillemarguin camillelupo camillejung camilleetienne camillediao camille cameroneday camerone cameras camera camembert cambioclimatico camaron camarades camaradecharles camarade camaieu calvi calvaire calvados calques calque calmos calmes calmer calme callet called call californie calibre calfootball caler calendrier calee caledoniens caledonien caledonie calculs calculee calculatrice calculateur calcul calamiteux calaisis calais calai cala caisses caisse caille caillaud caillasses caids caid cahiers cagnotte cages cagejulia cage cafouiller cafouillage cafes cafepedagogique cafeflore cafe caenofficiel caen cadvyepqrx cadres cadremploi cadre cador cadences cadeaux cadeau cad cachottiers cachette caches cacher cachent cachee cache cachant cacao cacahuetes cabourg cabinet cabale ca bzduwgnbak bzdkdvtuel bye by bxlwqwmvkz bx bwtgpjbcfn bwjyaocwhu bvoltaire bvgafuiioa bvdatfbrjl bva buzze buzz buzyn buvzbisrvg buts butre but busson business busherie busan bus burxyikggw burns burnout burn burlesque burkini burkinafaso burkina burgers burgerkandidat burgerinnen burger bureaux bureaucratique bureaucratie bureau bur bundestag bundesbank bullshit bulletins bulletin bulldozers bulldozer bulgarie bulding bugey bug buffet buena budgets budgetaire budget buaxoimujz btzmaider btp btflzxeeuy bseqizlstb bsengayrac bs brwypzpuht bruz bruyante bruxelloise bruxellois bruxelles brutofficiel brutalite brutal brut brussels brunswick brunoretailleau brunolemaire brunobonnelloff brunobernard bruno brunes brumath bruler brulee brule brulante bruit bruges bruce brouillles brouilles brouillard brothers brother brossat bronchiolite broncher brodujosue brochette brk british britanniques britannique brisson brisons brises briser brisees brisant brio bring brimade brilliant brillent brille brillants brillante brillant brillamment brigitteswdlp brigitte brigbourguignon brigade bride bricolage brick bricetayon bricemontagne bricehortefeux brice briancon brexit brevets breton bretagne brest bresse bresil brel breizhofficiel brefs bref brebis breard break bravoure bravo bravee brauman braucht brasserie brassent brasse bras braquage brandir brandi brand branches branche braises braise brader brade bracelets bracelet bquestel bqqqjenlze bqmcvdzdue bpolitics bpcnakxvig boyerj boycottons boycotter boycotte boycottant boycott boxeuse bovine bouts boutry boutoir bouteillevide bouteilles boutaour bout boussole bousille bousculer boursieres boursier bourses bourse bourrin bourres bourreaux bourreau bourre bourquinmartial bourla bourgogne bourgeoisie bourgeoise bourgeois bourg bourdouleix bourdindirect bourdin bourde bouquin bounty bouna boulot boulognesurmer boulognebillancourt boulogne bouleverser bouleversement bouleversee bouleversante bouleversant boulevard boulet boule boulangerie boulanger bouillon bouillie bouillant bouhafs bougrain bougnoule bougle bougies bouger bougeons bougent bouge bouffer bouffee bouee boue boudotetienne bouddhistes bouddha boudaud boudard boucs bouclier boucler boucle bouchesdurhone bouches boucherie bouche boucaud bouc botvedovelli bottes botswana botliberalisme botanistes botanique bossent bosse boss bosquet borowskimike bornes borne borisvallaud borisjohnson boris borg bords bordry bordelais bordel bordeaux bord borcasaz borbenih booster book booba bonvoisin bonus bonsoir bonsensorg bons bonny bonneval bonnet bonnes bonne bonnant bonjourchezvous bonjour bonimenteur bonhomme bonheur bondees bon bomdlgpqgs bombes bomber bombe bombardier bombardent bombardements bolsonaro bollore bolide bol boites boite boisson bois boire bohringer bof boeufs bochenek bobos bobomutu bobo bobet bobards bob boat bo bnzgyvlqaa bnvnhweqpm bnvjtofpwg bnp bnlnhgwaqz bmosjvonwr bmmrfjsomp bmftv bmalgorn bluff blouses bloques bloquer bloquent bloquee bloque bloquant bloombergtv bloomberg blonde blois blog blocus blocpop bloch blocages blocage bloc blmasquesoff bllpvwcvgl blindee bleustetienne bleus bleuprovence bleuet bleues bleubesancon bleualsace bleu blessures blessure blesses blessees blesse blesois bles blendecques ble blast blaspheme blasco blanquer blancs blanco blanches blanche blanc blamer blaisecampaore blague blagnac blacks blackfriday blackbloc blachier blache blabla bjpxoxlxbd bjnyabibat bizpkesheh bizetjeremy bizarrement bizarre biuooygwpw bitume bitten bist bisounours bisounour bises bise birthday bira bir bip biotechnologie biotech biontech biondisylvie biometriques biometrique biomedicaments biomasse biologique biodiversity biodiversite biodiv biocarburants bio binks binaire bilou billions billion billetsdudr billets billet billangepascale billancourt bill bilingues bilgerphilippe bildmartial bilderberg bilddetektivin bilateraux bilaterale bilateral bilandelahonte bilan bijouterie bijou bigpharma bigourdan bigot bigard big bifurque bifurcation bifurcati bierry bieres biere bienvenus bienvenues bienvenue bienvenu bienvenido bienveillant bienveillance bientot biens bienfaits bien bielorussie bielorusses bielorusse bie bidonnees bidon biden biche bibliotheque biban biarritz bianchi bhxbnbyxdd bhksptpbqv bhkajbfmig bhbszyubgt bhaart bgothiere bfmtv bfmstory bfmpolitique bfmbusiness bfm bfc bezos bezierscolbac beyrouth betydelse between better beton betisier betises betise bethune bethanie betes bete betail besturtzung besteht beste best besson besombes besoins besoin besnehard besmart besancon berty bertrandusclat bertrand berton bertindak bertignaclouis bertholet bersama bernie berner berne bernardtapie bernardsnick bernardreynes bernardlaporte bernardjomier bernardguettade bernardcarayon bernardarnault bernardaccoyer bernard bernadettereine berman berlusconi berlinerzeitung berliner berlin berlaymont bergams berezina bercy bentil benteler bensaid benoitrautureau benoitpayan benoitlievin benoitignaceoff benoithamon benoitbiteau benoitbarret benoit benoha benniibliss benne benleruth benjmathieu benjaminhaddad benjamingramont benjaminglaise benjamincauchy benjamin benin beni benfeld benfayet benevoles beneficieront beneficier beneficient beneficie beneficiaires benefices benefice benef benedicttaurine benedictosolson benbrrd benayassa benallaoff benalla ben bemjipnixv belvedere beltrame belmondo belliard bellevilloise belleville belles belle bellatar belindageoly believe belgrand belgium belgique belges belge belfort belattar bel being beileid bei behringersdorf behind begrussen begles begaudeau befolkning beethoven beer beenewsdaily become bechieau because becard bec bebes bebel bebe beaux beauvaudelasecurite beauvau beauvais beautiful beaute beaune beaucoup beauce beauc beau beatricesigismeau beatricepinat beate bearnbigorre bearn be bdstanley bdhbbwcxhl bdemontille bdelachesnais bcp bce bcazeneuve bca bbwxjxjedd bboisgarnier bbjrtigkkp bbcworld bbcheminot bbcbreaking bbalczjkon bazarder bayrou bayou bayonne bayeux bavard baume bauges bauernschmidt baudu baudriller baudelaire batya battus battues battu battre battrai battra battons batteries battent battante battant battagliaalain battage bats batons baton batit batirai batir batiments batiment batignolles baticle bati batho bateaux bateau batard batalla bataillon batailles bataille bataclan bat bastille bastienparisot bastamag bassinrebel bassines bassine bassin bassesse basses basque basphilippe basique basilefanier bashing bash bases basees basee base basculons basculer basculement bascule bas bartres barthelemy bars barroso barrieres barriere barricades barres barreau barre barrages barrage barqcmysty baroque barnier barnavegab barkhane baretous bardot bardella barcellini barbpanther barbier barbes barbeles barbe barbaries barbarie barbares barbare barbarapompili barbaralefevre barbara baran baraket baraka bar baptiste bapstmaisonneuv bantig banquier banquesalim banques banque banlieues banlieue bangumiprod bangkok bang banditisme bandes bande bancaires bancaire banc bananiere banania bananes banalite banalisation banale banalcommetout bamboula balzac ballybagayoko balles balle balladur balkans balise bale baldige balayeurs balayer balaye balancetonpost balance balai balader balade bal baker bajarikocber baissons baissez baissetatva baisses baisserai baisser baissent baissee baisse baissant bains bain bailly baillonner baillonnant bailleurs bail baie bahambouladylan bah bagui baguette bagnole bagne bagarre bafouiller bafouent bafoue baerbock badr badiou badinter badges badge bacq bacle back bachelot bacheliere bac babpravi ba b azzaznadege azureen azur aztdczhrwo aznavour azimuts azeris azerbaidjan az aymone aymbld aylzblqazu aylo ayatollahs axwanxsvor axes axelsibert axee axe axcvoljjqq axbggxruix axa ax awwyqzcgmo awpcvsybyv awbfttmymm avui avt avrille avril avouer avoue avote avortements avold avoir avoidable avocats avocate avocat avmngwyyom avis avion avignon avides aveyron aveugles aveuglements aveuglement aveugle aveu avertissements avertissement avertis averes avere avenue aventure avent avenirencommun avenir avecvalerie avecv avecroussel avecpayre avecjuvinaura avecjuvin avecjlm avecericciotti avecciotti ave avc avantages avantage avant avancons avancera avancer avancent avancees avancee avance avallon avaler avale av auxquels auxquelles auxiliaires auxerre auxcerf auvergnerhalpes auvergne auvergnats autrui autrichiennes autrichienne autrichien autriche autrice autres autrement autrefois autre autour autotests autoroutes autorites autorite autoritarisme autoritaires autoritaire autorises autoriser autorisee autorise autorisations autorisation autorisant autoproclames autoproclame autonomistes autonomisation autonomie autonome automobilistes automobiliste automobiles automobile automne automatiquement automatique automates autoentrepreneur autocollants autochtones autocensure auto autisme authentiques authentiquement authentique authenticite auteurs auteure auteur autel autant autain australiens australienne australien australie australe aussitot aussi aussergewohnliche auspices ausi aus aurore aurelientache aurelienpradie aurelien aurelieaulagnon aur auquel aupres auparavant aumonier aumone aujourd aujou auj auguste augure augmentions augmenterons augmenterait augmenterai augmentera augmenter augmentent augmente augmentations augmentationdessalaires augmentation augmentant augmen auge aufbauplans aufaite auf audricalexandrepace audricalexandre audric audreyhenocque audreygarric audrey auditorium auditions auditionne audition auditeurs audit audiovisuel audio audincourt audiences audience audibertedith audiard audacieux audacieusef audaces audace aucunement aucune aucun auch aubry aubree aubervilliers aubertofficiel auberge aube attristees attriste attributs attribution attribues attraper attractivite attractives attractive attitudes attitude attiser attestes attestent attestation atterre attenuer attentivement attentive attention attentifs attentif attentes attente attentats attentatoire attentat attendues attendue attendu attends attendre attendons attending attendez attendent attendant attendait attend atteints atteintes atteinte atteint atteindre atteignent attaquez attaqueterroriste attaques attaquer attaquent attaquees attaquee attaque attaquant attali attal attaf attacks attack attaches attachement attachees attach attac atrocites atrielfeudhiver atqzacaieg atouts atout atoueilles atomique atmosphere atm atlantiste atlantiques atlantique atlantico atlantic atih athletes ateliers atelier atdqm atdorpmuct at aszhjzxahs asy astrubaal astropierre astro astrid astreinte astrazeneca asterix assures assureront assurer assurent assure assurances assurance assur assumons assumer assument assumees assumee assume assumait assu assourdissant assos assomption assommes assomment assomireillek associes associer associe associatives associative associations association associatifs associatif associated associant assoc assoaurore asso assita assistons assister assistants assistance assistanat assis assimiles assimilee assimile assimilation assiettes assiege assez assesseurs asservissement asservis assemblees assembleenationale assembleenat assemblee asselineau assecher assassins assassines assassinees assassine assassinat assaslgbt assas assange assainir assaillis assa aspkahiscp aspirent aspirations aspiration aspirantes asphyxiant aslanov askel asindidier asile asie asia ashtarak ashamed aserstmalo ascoval aschneiker ascenseur asandermep arzt artsakh artistes artiste artisans artisanal artificiels artificielle artificiel artificialisation articles article arthurmoinet arthur arthaud artefr arte art arsenic arsenal ars arrriver arroser arrose arrondissement arroi arrogante arrogant arrogance arrivisme arrives arriverons arriverai arrivera arriver arrivent arrivee arrive arrivants arrivant arrigo arrieres arriere arrets arretons arretez arretes arreteront arretera arreter arretent arrete arret arre arras arranges arrangements arracheur arracher arrachent arr around arossigneux arosencher arnm arnaultraphael arnaudmurgia arnauddanjean arnaudbontemps arnaud arnaque arn armor armistice armes armer armeniens armenienne armenien armenie armembfrance armel armees armeedeterre armee armed arme armand armagnac arizteguieddine arie arianechemin ariane arguments argumentee argumente argumentaire argument argonnes argenteuil argent arene are ardoise ardentes ardemment archives architecture architecte archi arche archaiques archaique arcdetriomphe arcachon arc arbres arbre arborer arbore arboitgerald arbitre arbitraires arbitrairement arabiesaoudite arabie arabes arabe arab ar aquilino aquatennens aqpcgcshrt aqmvuuzgzm apvtdtxpow aprogrammatique aprmivwnrw apres appuyes appuyer appui approximations approvisionnement approuvez approuver approuvent approuvee approuve appropriees approprie approfondir approfondie approfondi approche approbation appris apprentissages apprentissage apprenons apprenez apprendrons apprendre apprend apprenant apprehender appreciez apprecier apprecie apporterai apporter apportent apportees apportee apporte appointed apply appliquons appliquer appliquent appliquees appliquee applique appliquant applications application applicable applaudit applaudissent applaudissements applaudissait applaudis applaudir appetits appetit appels appelons appellera appellent appelle appellait appelez appeles appeler appelent appele appelait appel appauvrit appauvris appat apparus apparu appartient appartiennent appartenant appartenance appartements appartement apparition apparemment appareils appareil apparaitront apparaitre apparaitra apparait apparaissent app apos apologies apollinematin apogee apo apiviavoile apimed apiculteurs aphones aperocrates apero apercu apartheid apannecy apaise apaisant apagan aout aop anyupjozgo any anxiogene anxiete antoinewaechter antoinevermorel antoinehome antoineguillou antoinedecaunes antoine antivax antithese antisociales antisemitisme antisemites antisemite antiracistes antiraciste antipasssanitaire antipass antiouvriere antimissile antilles antiliberal antijudaism antigeniques antifascistes antifasciste antifas antidemocratique anticorrida anticorps anticor anticonfinements anticipons anticipo anticiper anticipee anticipe anticapitalistes anticapitaliste anti anthroposophe anthropologique anthonybrondel anthonyberaud anthony anthoberthelier antennes ante antara answers ansm ans anouchtoranian another anormal anonynec anonymes anonymat annuler annule annulation annulant annuites annuels annuelle annually annualisees annualise annual annuaire announcing announce annoncons annonces annoncera annoncer annoncent annoncees annoncee annonce annoncait annoncaient anniversaire anniv annihile anniegenevard annickgirardin annexes annette annesophielapix annelaureblin annees annee annecy annebbrunet anne annalena anna ankayssrym ankara anizon aniversario animo animer animee anime animaux animations animateur animaltestingfr animaliste animalier animale animalcrossasso animal anima anicelajnef ani anhkwcmdgj angryredguard angouleme ango anglo angleterre anglais angers angell angelique angela angel anesthesie anemmontagne anecdotique anecdotes anecdote aneantir anduaga andrzejduda android androgyne andrelaignel andrej andrebercoff andre andogarabedian anderssonmagda andersen and ancres ancree ancre anckou anciens ancienne ancien ancetres ancestrales anato anatheme anassekazib anasse anarchiste anarchique anarchie anar analysons analyses analyse analysaient anaisjehanno anais anachronisme ana an amy amxjodrhqq amusement amusante amusant amsterdam amritanarl amrhzcozsm amputation amplifier amplifie ampleur amphi amp amoureux amoureuses amour amorcer amorce amnestypresse amnestyfrance amnesty amitie amisdelaterre amis aminmbarki amincissement amiens amie amicizia amicaux amicales amical amiante ami amf ames amertume amerique americans americains americaines americaine americain america amer amenerai amener amenent amenees amenee amene amendilgeronimo amendes amender amendements amende amendables amenagement amenageable amemauresmo amelioreront ameliorerons ameliorer ameliore ameliorations amelioration ameliorant amelietehel amelie ame ambulancieres ambroise ambitious ambitions ambition ambitieux ambitieuses ambitieuse ambiguite ambigu ambiantes ambiante ambiance ambassadeurs ambassadeur ambassades ambassade amazonstpriest amazonie amazon amazing amateurs amasses amandinedlf amanda amalgames amacedubois am alzheimer alydiouara alx alvancewheels alvance alv aluminium alu altruistes alticefrance althecat alterophobes alternativeshum alternative alternatifs alternance altere alstom also alsissi alsacien alsace als already alpmhnxowg alpins alphandery alpes alp alors alone almuneda almudena ally allures allumer allouer alloue allore allonsenfants allons allonger allongement allomelenchon allocutions allocution allocs allocations allocation allo allionefnspf allies allierait allier allient alliee allie allianceforets alliancecitoyen alliance allezlesbleus allez alles allers aller allemands allemandes allemande allemand alleman allemagne allemag alleluia allegrement alleger allegeance alle allant allan allaitante allait allais allain allaient allahou allah all aljaamqduc alix alimi alimentes alimenter alimentent alimente alimentationequitablepourtous alimentation alimentaires alimentairement alimentaire aligot alignes alignement alicekarenine alicecoffin alicebierret alibi alias ali algorithme algeriens algerienne algerie alfzgcmtnq alfred alferdez alexvrsaradjian alexvincendet alexvilp alexseale alexndraborchio alexlanglois alexlanglo alexla alexiskarklins alexiscorbiere alexis alexiagermont alexdevecchio alexdessinateur alexburetey alexandre alexandramortet alexandra alexander alexafaucher alex alertons alertions alerter alertent alerte alertant alertais alert alec aleas alcoolises alcide alcatel alcapone albrecht albinwagener albi alberta albert alarme alarmante alarmant alarmaient alancelin alan alairlibre alainhoupert alaingrandjean alain al akrzpfzvjd akqofzgojw akp akina akhenatoniam akhbar akbar akan ajustements ajs ajrd ajpseditor ajouter ajoute ajnckvdcip ajdui ajd ajb ajadeline aixlesbains aix aissr aisne aise airs airparif airliquidegroup aire air ainsi aines aimons aimez aimes aimeront aimerions aimerait aimerais aimerai aimer aiment aimees aime aimait aimables aimable ailleurs ailleur aillent aille aigue aignan aieux aidons aidindanger aidez aides aider aident aidees aided aide aidckfqkur aidant aid ahurissante ahurissant ahqautkfeh ahimsasan ahead ahamziou ah aguilera aguilar aguebporterie aguebporteri aguebpo agueb agroecologique agroalimentaire agro agriculture agriculteurs agriculteur agricoles agricole agri agressivite agressive agressions agression agressifs agresseurs agresses agressent agressees agressee agresse agressdeg agreges agree agreable agora agonie agnesrunacher agneslebrun agnesfirmin agnesevren agnescatoire agnesbuzyn agnes agnan agli agitent agit agissons agissez agissent agissements agissants agiront agirons agirez agir agi aghabayramov aggravent aggravee aggrave aggravante agglomerations aggiornamentohg ages agents agentes agent agenetet agenda agence agen agees aged age agarzon agar against again agagboudjahlat agace ag afvmvpvmgm afv afuxlawqqe aftermath after afriquefrance afrique african africains africaine africain afptv afpfr afp afocraud afkuqnljwv afin afh afghans afghanistan afghanishtan afghanes afghane afghan affronter affrontent affrontements affronte affront affreux affreusement affreuse affranchiras affranchir affluent affligeant affirmons affirmer affirment affirmed affirme affirmation affirmant affinite afficher affiche affichant affichage affectueux affectueuse affects affection affectifs affectif affectes affected affecte affamer affaissement affaissee affaires affairekohler affaire affaiblissent affaiblissement affaiblira affaiblie afd aesh aeroports aeroport aeriennes aerien aem aefxmirrdd aec adyfe advocacy adversaires adversaire advenir adultes adulte adsaum adrientaquet adrienmadec adrien adriancourtier adressons adresser adressee adresse adp ados adore adoration adoptons adoptions adoptes adopter adopte adoptants adopt adolescents adolescent ado admissibles admise admis admire admirative admiration admirateurs admirables admirablement admirable administrer administrees administre administrativement administrative administrations administration administratifs administratif admi admettre admet adjoints adjointe adjani adieu adhesions adhesion adherez adherer adherents adherent adhere adequation adeptes adepte ademontchalin adelphite adeline adelaide adeicffpom adecagny addressed addition addiction adaptons adaptes adapter adaptent adaptees adaptee adapte adamryuga adama adalah adahyot adage ad acwunbpmss acuerdo actuspays actusmondial actulourdes actufoot actuels actuelles actuellement actuelle actuel actualites actualite actualises actualise actu activites activite activistes activent activement activee active actions actionnaires actionnaire action actio actifs actif acteurs actes actees acte act acrimed acquitte acquises acquise acquis acquiesce acordebard acierie acier achieving achieve achevee acheve achetes acheter achetent acheminent achat acharnement acharne aces acduvivier accuser accusent accuse accusations accusation accumule accumulation accueillons accueillis accueillir accueillie accueilli accueillera accueillent accueille accueillantes accueil accrue accroitre accroit accrochage accrediter accoutrements accoudray accoucher accouche accords accordons accorder accordeon accordent accordees accordee accorde accordant accord accor accomplissent accomplissement accomplissant accomplis accomplir accompli accompagnons accompagnes accompagner accompagnent accompagnement accompagnee accompagne accompagnants accomodante acclame accidents accidentel accident accessoirement accessibles accessible access acces acceptons acceptions acceptez acceptesst accepterons accepterait acceptera accepter acceptent acceptee accepte acceptation acceptant acceptance acceptaient acceptables acceptable accept accentuent accent accelerons accelerer acceleree accelere acceleration accelerates accelerate accedez acceder accedent accaryandre accaparer accaparement accalmie accable accablants accablantes accablante accablant acarrouer academies academie academicienne academic abyssale abymes abusif abuserait abus absurdite absurdistan absurdie absurde abstracts abstenu abstentions abstentionnistes abstentionniste abstention abstenti abste absolut absolument absolue absents absent absence abrogerons abrogerai abroger abrogeons abrogee abrogation abri abramovich abraham aboutissent aboutir abouti aboutaleb about aborder abordee aborde abord abonnez abonnes abonnementvaccinal abonnement abonde abondante abomination abominables abominable abolition abolir aboli abois abnegation able abjects abject abime aberration aberrant abdelalimamoun abbiamo abbeville abbepages abbe abattus abattue abattoirs abattage abandonnez abandonnes abandonner abandonnees abandonnee abandonne abandon abajcithqs abaisserais abaissera abaisser aaubervillers aah aachen aa a\"\"\""
   ]
  },
  {
   "cell_type": "code",
   "execution_count": 198,
   "id": "79f0addc",
   "metadata": {},
   "outputs": [],
   "source": [
    "words_known_2 = \"\"\"eehkkwfvkt edwyplenel edwy eduquer eduque educative educationpopulaire educationfrance education educatifs educatif educ edouardhusson edouard edmond editoriaux editorialistes editoriale editorial editionslattes editionsfayard editions edition edifie edifiant edfofficiel edf edery eddiepuyjalon eddie edaihsyqyc ecuries ecroule ecrivit ecrivez ecrivent ecrivaine ecrivain ecriture ecrits ecrite ecris ecrdsxvcwx ecraser ecrasent ecrase ecrasantes ecrasante ecrasant ecrans ecran ecoutons ecoutez ecoutes ecouterait ecouterai ecouter ecoute ecoutant ecoutait ecoules ecoulees ecotti ecotourisme ecosystemes ecosysteme ecosse ecorchee ecopreneureu economiste economise economiques economiquement economique economies economiecirculaire economie economicus economic econom ecomaires ecolos ecolorictus ecologue ecologistesenat ecologistes ecologisteidf ecologiste ecologiques ecologiquement ecologieaura ecologie ecological ecolier ecoeures ecoeurement ecoeuree ecoeurant ecoclim ecocipkmlg eclj eclipsera eclats eclate eclatants eclatante eclairer eclaire eclaircie eclairage eciotti echouer echoue echospolitique echos echo echiquier echelons echelles echelle echecs echec echeances echarpe echapper echappent echappe echappatoire echappait echantillon echangeurs echanges echanger echangent echange ecdc ecartes ecartees ecart ebourrifante eboulements eboueurs ebothorel eauxau eaudemetz eats easy earwaaktwd eanizon dzuyrzlgzr dzsbckqjru dzmukcgcko dzhsrejzfa dystopie dysfonctionnements dynamiques dynamique dynamics dydrnerldf dyakmfmspo dwuampaixx dvopghdtmv dversini dvanaest duval dutch durieux durera durer durement duree dure durcissent durao durant durables durablement durable dura duquel duquart dupuy dupontmoretti dupontaignan dupontaigna dupont dupondm dupond duplicite duplex dupes duperie dupe dumpingsocial dumenil dumas dula dugourd duel dudans ducros duclos duchere duca dubourg duboismarianne dubiefmarc dubie dualites dual duakunoqcg dtxjtjsrce dtwcjhdrzt dttyynjvdv dsk dshqkkzfvd dsffmcpxbt dseux druckt drsabrinaaurora drple drove drouet drops drones drone drole droitssociaux droitsdesenfants droitisation droites droitalinfo drogue driver drihl dreyfus dresses dressera dreslincourt drenche drbladenzimande drastiques drastiquement drastique draps drapeaux drapeau drape drames drame dramatisation dramatiques dramatique drague dragonne dragi draghi draganpesl dqxwhpajuv dqdcybonev dpuis dptegpgwwp doyenne doxa dovevamo douze douzaine doux douteuses doutes douter doutent doute doutant doutaient douloureux douce doubs doublet doubles doublerai doublement douane douaknxoqe douaisis douai dotee dotations dotation dossiers dossier doses dose dort dorspi dormir dorinebregman dope doodpblmzk doodoms dont donnons donneuse donneurs donneront donnerai donnera donnent donnant donnais donnaient donc donation donateurs domusvi domota dominiquereynie dominiquebilde dominique dominiq dominical domines domine domination dominante domiciles domicile domestique domergue domenico dome domdelegge domaines domaine doloresprost dollars dollar dokvomact doivent doityourself doit doing doigts doigtdhonneur doigt dogmes dogmatisme dofus doflafr dofla does dod documents document doctorat doctolib doc dobrodoslici doagdmxcto dneijhaefd dndbzwdrtm dnatweets dmyrbfuiyx dmx dmseeqayxx dmeslot dlqbggmsbm dkfmojuqaj djokovic djihadistes djihadisme djihad djibouti djebbari djaffarcgt dizier dizaines dix divssion divisons divisions divisione division divises diviser divisent divisee divise dividendes dividende diversites diversion diversifier diversifie diverses diverse divergenze divergent divergences divan diva diu dites district distribution distributeur distribues distribuer distribuee distribue distress distraie distingue distincts distinction distinctes distanciel distanciation distance dissuasion dissuadons dissuader dissoudre dissolution dissociee dissocie dissimuler dissimulee dissimulation disserter dissemination disruption disqualifie dispute disposons dispositions disposition dispositifs dispositif disposent dispose disponibles disponible dispo dispersion disperser disparus disparues disparue disparu disparitions disparition disparites disparaitre disparaitra disparait disparaissons disparaissiez disparaissent disparaisse disparaissait disons dismayed disloquer disinterested dishaa diseux disent disensus disease dise discuter discutee discute discutables discussions discussion discuss discriminer discriminees discrimine discriminatoires discriminatoire discriminations discrimination discriminat discriminant discretement discret discrediter discredit discours discotheques disclose disclos discipline disciplinaires discerner discernement disaster disant disait disais disaient diriger dirigent dirigees dirigee dirigeantsviderent dirigeants dirigeantes dirigeante dirigeant dirigeables dirige diriez directzemmour directrice directives directive directions direction directhdf directeurs directeur directes directement directcitoyens directan dirait diraient dira diplomes diplomatiques diplomatique diplomatiepacifique diplomatie diplomates diors dionis dinsdag dinosaures dinocinieri dingues dingos diner dindons dindes dimpolitique dimpol dimitripavlenko dimitri diminution diminuerai diminuer diminue diminuant dimi dimensions dimensionnees dimension dimancheenpolitique dimanche dim diligence dilemmes dilemmas dilapident dilapide diktat dijon dijelimo dignitepourtous dignite dignitaire dignes dignement digne digitales digitale digital diffusion diffusez diffuser diffusee diffuse difficultes difficulte difficult difficiles difficile differes differents differentes differente different differenciee differencie differenciation differences difference differemment diffamer diffame diffamation diffama diff dieux dietrichgipfel diese dies dienen dielinkeberlin diedgdsgvt didierquentin didiermaisto didiermaist dictionnaires dictionnaire dictee dictaturesanitaire dictature dictatoriales dictatorial dictateurs dictateur dici dich diaz diasporas diarderic dialoguons dialoguer dialogue diagnostiques diagnostic diable diabete dhyvert dhhgdspuoe dgsi dgse dgs dgf dfourtune dfourmsojw dfjw dfasquelle dezjbfdphh dezingue dexxxrbotw dewan dewalle devront devrons devrez devrait devraignem devraient devra devoye devoyant devoues devouent devouement devoue devos devoree devons devoirs devoir devoilerai devoiler devoilent devoilee devoile devoiement devissera devisser devise devions devinez devine devilliers devient deviennent devienne deviendrait deviendra device deviants devez deversees deverse devenus devenues devenue devenu devenons devenir devenez devenait developpons developpes developper developpements developpement developpees developpee developpe developpant development developing devaste devastations devant devance devait deuxiemement deuxieme deux deuorcjkfb dettes dettepublique detruits detruit detruisons detruisent detruire detrousse detriment detresse detracteurs detournes detournent detournements detournement detournee detonerait detient detiennent dethee detestez detestent deteste detestation detestables detestable determines determiner determinent determinee determine determination determinants determ detenus detenu detention detenteur detenir detenez detecter details detaillera detailler detaillee detaille detail desveauxbrigitt desuniversalise desunie desuetude destructrice destructions destruction destructeurs destroy destitution destino destinees destinee destination destabilisee destabilisation dessus dessous dessine desserte dessein desquelles desouche desormais desordre desolee desole desolation desobeissance desisterais desistement desirs desirent desirable desir desinvolture desinvitee desinformer desinformations desinformation desindustrialise desindustrialisation desindexation designons designeront designer designe designation design deshonorer deshonore deshonneur deshautsetdebats deshalb deshabille desespoir desesperance desesp deserts desertifient desertification deserteur deserter desert desequilibres desequilibrer desengagement desengage desendettement desenchantement deschamps descendu descendre descendons descendez descendants desastreux desastreuse desastres desastre desarmer desarmement desarme desapprouve desagreable desactive desactivation desaccords desaccord desabuses derspiegel derriere derouler deroule derogatoires derniers dernieres derniere dernier derives deriver derive derisoire derichebourg dereglements dereglement deray derapent derape derapages derapage derangent derange deracinement deracine deputespcf deputes deputee depute depuis depressions deprecier depouiller depouille depots depot depossession depossede deposer deposees deposee depose deportation deployes deployer deplorer deplorent deplore deploiera deploiement deploie deplait deplaise deplacer deplacements deplacement deplacee deplace depistage depensons depenses depenser depensent depense dependre dependantes dependant dependances dependance dependait depend depecher depeche depece depasser depassement depassee depasse depassait departements departementaux departementau departementales departementale departemental departement departage depart depardieug denuement denue denton densifier dense denouement denormandie denoncons denonciation denoncerai denoncer denoncent denonce denoncant denoncaient denon denommer denombrees denispayre denisp denisot denisestelle denisdesbleds deniscarreaux denis denigrer denigrement deniers deniant deni denaturee demunis demultiplication demouverte demorgen demontrer demontrent demontre demontes demonte demonstrations demonstration demons demonetisee demolissent demolir demokratische demokratie demographique demographie demographe democratons democratisons democratiser democratiques democratiquement democraties democratiedirecte democratiedabor democratie democratic democrates democrate democracyday democracy democracies demissions demissionner demissionne demissionnaires demission demis demilitarisation demeurons demeurer demeurent demeure demetropolisation demesurees dementi demenent demembrement demeestere dematerialisation demasquons demasquer demasque demarre demarcher demarche demanteles demanteler demantelement demantele demandons demandions demandez demandeurs demandeur demandes demanderons demanderai demandera demander demandent demande demandant demandait demandais demain demagogue demagogique demagogie deluge delta delphinewespisr delphinebatho delphine delphinariums deloyale delocaliser delocalise delocalisations delocalisation delocalisables delivrant delits delitement delit delire delirantes delirante delirant deliquescence deliquants delinquants delinquant delinquance delighted delier delicatesse deliberement deliberee delibere deliberations delfraissy deleted delegues deleguer delegue delegations delegation delay delation delateurs delaporte delaisses delabrement dejeuner dejavulegal deivymgn deiner deinen dehors degustation deguise degueulasse degres degre degrader degradent degradees degradee degrade degradation degradants degoutes degoutants degout degoulinante degenrer degc degaulle degats degager degageait defunts defourques deforme deforestation defiscalisee defiscalisation defis definitivement definition definitif definit definissent defini defilent defile defilait defiguree defigure defieraient defier defie deficits deficit defiant defiance defi deferlement defensive defenseure defenseur defendus defendue defendu defends defendrons defendre defendrait defendrai defendra defendons defendirent defendez defendent defende defendant defendait defendais defend defence defectueux defeating defavorable defauts defaut defaites defaite defait defaillant defaillances defaillance deepl deep dedoubler dedoreg dedommagerais dedommager dedommagement dedieu dediees dedie dedicating dedicaces dedicace dediabolise dedans dedain decus decuplee decu decrypte decryptages decryptage decroly decroissante decroissance decrocher decrochent decroche decrochage decrit decrire decrets decretons decreter decrete decret decredibilise decrease decouvrir decouvrez decouvrent decouvre decouvrant decouverts decouverte decouvert decouper decoupe decoupage decoulent decoule decoudre deconstruit deconstruire deconstruction deconstructeurs deconsideree deconseille deconnexion deconnectes deconnectee deconnecte deconjugaliser deconjugalise deconfiner deconfinement deconfine decoloniser decolonisation decodagezemmour decliniste decliner decline declin declencheur declenches declencher declenchement declassifiees declassement declares declarer declarent declaree declare declarations declaration declarant decisions decision decisifs decisif decidons decidez decideurs decideur deciderensemble decidera decider decident decidement decidee decided decide decidant decid deci dechyfrancois dechus dechirures dechirons dechirer dechirent dechi dechets dechet dechanter deces decerebrer deception decents decentralisation decentes decente decent decennies decembre decemb decedees decede decathlon decastelnau decarbonnee decarboner decarbonees decarbonee decarbonation decarbonant decapitee decapite decapitation decaler decale decadence decade debutons debute debutant debut debusquer debureaucratiserai debureaucratiser debureaucratisation debunkes debunkers debroussailleuses debroussailler debrouillez debrouille debrief debridee debre deboutlesfemmes deboutlafrance deboutes debout deboulonner deboulonne deboucher debostelen deborder debordee deborde debloquer debloque deblocage deblayer debit debiner debiles debattrevraiment debattre debattons debattent debattant debats debatlr debatlci debatl debatdeladroite debatbfmtv debat debarrasser debarrasse debarques debarqueront debarquement debarque debaptisees debacle deauxjean deas dear deambulation dealers dealer dealent ddupagne ddsdmsijir ddqbsxowcm ddonrkcgyj ddeg dcoxnslute dbouffee dbhyqfrgqb dbdkbcovjg dbarths days dax davos davocratie davidwcousy davidpujadas davidperrotin davidlisnard davidbdde david davduf davantage dauphins dauphine dauchelle daube datum datirachida dati datapolitics database data dassouline dassault dassary dartagnans darmanin darm dariusrochebin dari danycaligula dany dantesque dansants danke danjou danjau danielle daniele danielacobet daniel dangers dangerosite dangereux dangereuses dangereusement dangereuse danemark damiencareme damienabad dames dame dalton dalla dalipas dalam dajlzvejzq dailytelegraph dailynewstwit dailyexpressrb daignez daesh daddy dachverbande daan daaibowmyl cyrilmouquet cyrille cyrilhanouna cyrilduvinagelo cyril cyrien cyr cynisme cyniques cynique cyngehmqrk cymes cyclonique cycle cyclables cyberwar cybersecurite cyberespace cyberconik cyanure cweillraynal cwbaxbcywk cvsnzdhawm cvansty cvanrmmvsi cuves cuuwutcbdv curve currently curiosite curieux curieusement curieuse cures cuques cupidite cumexfiles culturels culturelle culturel cultura cultive cultivateurs cultivant culpabilite culpabiliser culpabilise culpabilisation culinaire cujives cuisine cuire cuirait cueff cubes cubain ctwbygqitv ctoxxtrtsj csu cshslbhlmk csg csaudiovisuel csactu csa cryptoknightbtc crumbs cruels cruellement cruelle cruel cruciale crucial cruaute crs croyons croyez croyances croyait croyais croulent crossroads croizat croix croissantes croissante croissant croissandeau croissance croisons croisez croises croisent croisement croiseedeschemins croisee croise crois croire croirait croient crocodile croatie croates croate critiques critiquer critique criteria criteres critere crispalou crisis crises crise cris criminels criminelle criminel criminalite crimes crier crient crie criante criant crfrfnakkw crevure crever crevent creve creuser creusent creuse creusat cretinerie creteil crespo crepuscule creps crepin creons creolisation creneau creme cremaillere creerons creerai creera creer creent creees creee credits creditee credibles credible credibilite creches creche creatures creature creativity creativite creative creations creation creatifs creatif createurs createur creant creait creaient crea crds crayon crasse crash crase craquer crapuleux crapules crapuleries crame crainte craint crains craindre craignez craignent craignaient crack crache crabes cqvrbzhstc cqfd cprizac cpmr cpeyraube cpelichy cpam cow covoiturage covidistes covidiste covidisme covid couvrir couvres couvre couverture couverts couverte couvert couve couturier coutume couts couteux couteuses couterait coutera couter coutent couteaux couteau coute couscous courts courtoisie courtois courtise courtes courteline courte coursiers course courrierpicard courrierouest courrierinter courrieres courriercadres courrier courriel cournon courent courdescomptes courbevoie courbet courbes courbe courantes courant couramment courageux courageuses courageusement courageuse courage coura coupures coupure coups couplee couple coupeurs coupes couper coupe coupables coupable country countries counterpowers counter coumet coulombelalain couloir coulisses couleurs couleur coule could coue coudes coucou couchee couchage cottin cotoyer cotoyais cotisent cotise cotisations cotes coteries cotentin cotee cote cosy costa cosmonaute cosignee corvee corveable corteges cortege corses corse corruptions corruption corrompus corrompue corrompu corriger corrige correze corresponde correspondance correspond correlation correiafabienne correctionnelle correctement correct corral coronavirus corollaire cornier cornichons corneloup corinnereverbel corinnenara corentinsellin coree cordialement cordemais coran corallie coralieschaub coquerel copropriete copresidente copresidence copr coppi copies copie copenhague cope copains cop coordonnees coordonne coorace coopte cooperent cooperatives cooperative cooperations cooperation convoquerai convoi convocation convivialite conviviale convivial convives convinzioni convies convient conviens convie convictions conviction conveyed convertis conversion conversations conversation convergencesnat convergences convergence convenues convenu conventions conventionnelle conventiondeladroite convention convenir convaincus convaincue convaincu convaincre convaincant controversee controverse controles controler controlent controlee controle controlant contributives contributions contribution contributeurs contributed contribuer contribue contribuables contribuable contrib contrevient contrescarpe contres contrer contrepouvoirs contrepoints contrefout contrefacon contredire contrecarrer contrebalancer contre contrats contratdusiecle contrat contrast contrarient contraires contrairement contraire contraints contraintes contrainte contraint contraindre contraignants contraignantes contraignant contradictoire contradictions contradiction contraction contracter contraception contra contourner contournait continuons continuite continuions continuez continueront continuerons continuerai continuera continuer continuent continuee continue continuation continuant continu continents continentale continent contient contexte contesterons contester contestent contestations contestation contestata contes contenus contenues contenu contents contentieux contenter contente content contenir contemporains contemporaines contemporain conte contamines contaminer contaminent contaminee contamine contaminations contamination contaminants contaminant contagiosite contagion contagieux contagieuse contacts contactez contacter contactee contact cont consumer consultez consulter consulte consultations consultation consultant consulats consubstantielle construits construites construite construit construisons construisent construisant construirons construire construirai construi constructive construction constructifs constructif constructeurs constitutionsur constitutions constitutionnels constitutionnelles constitutionnelle constitutionnel constitution constituera constituer constituent constitue constituante constituant constit consterne consternation constats constates constater constate constat constantes constante constancelegrip constance const consommons consommer consommees consomme consommation consommateurs consommateur consoler consistent consiste consistant consigny consignes consigne consideres considerer considerent considered considere considerations consideration considerant considerables considerable conserver conserve conservatoire conservatisme conservation conservateurs conservateur consequences consequence consentie consentement consente consentants consensus consensuelle conseils conseilnational conseillers conseillere conseiller conseille conseilconstitutionnel conseilconstitutionel conseil consecration conscients conscientes conscient consciences conscience consacres consacrera consacrer consacrees consacre consacrant consacra consa cons conquis conquetes conquete conquerante conquerant conosco connus connues connue connu connivence connerie connections connectez connectes connecter connards connaitre connait connaissons connaissez connaisseurs connaisseur connaissent connaissances connaissance connais conjuguer conjugue conjugales conjoint congress congreslr congreshlm congresdesmaires congres congrelr congredlr congratulations congr congomediatime congo confrontes confronter confrontee confronte confrontations confrontation confreres conforte confort conformisme conformer conformement conforme confondu confondre conflits conflit conflict conflanssainthonorine conflans confiscatoires confiscations confiscation confirmes confirmer confirment confirmee confirme confirmation confirmait confinons confines confiner confinements confinement confine confiez confiera confier confie confidentiel confidences confiant confiance confiait confession conference confederation conf conduite conduit conduisent conduis conduire conduira conducteurs conducteur condolences condoleances conditions conditionnerait conditionner conditionnelle conditionnees conditionnee conditionne conditionanimale condition condescendante condescendant condescendance condamnes condamnera condamner condamnent condamnees condamnee condamne condamnations condamnation condamnant concurrents concurrentiel concurrent concurrence concu concrets concretiser concretes concretement concrete concret concours concourir concorde concordat concoit conclut conclusions conclusion conclure conclu concitoyens concitoyennes concilier conciliation conciliant concevons concevoir concerts concertation concert concernes concerner concernees concerne concernant concernait conceptuelle conception concept concentrer concentre concentration conce conc con comune comte comptons comptions comptez compteurs compteur comptes compter comptent compte comptable compromissions compromission compromis compromettre compromettrait comprometida comprit comprises compris compresseur comprenons comprenne comprenez comprends comprendre comprendrais comprend comprehensively compositeur composite composee composante comportent comportements comportement comporte complotistes complotiste complotisme comploteurs compliquee complique compliments complicites complicite complices complice complications complexe complets completes completer completement complete completaient complet complementaires complaisants complaisance compile competitivite competitives competitive competition competitif competentes competente competent competences competence compenser compensators compensation compensating compensateurs compatriotes compatibles compatible comparutions comparution comparez compares comparer compare comparative comparatif comparateur compagnons compagnon compagnies compagnie compagne communs community communistes communiste communique communion communication communes communement communedeparis commune communautes communaute communautarisme communautaires communautaire communalisme communales commun commu commonwealth common committing committed commitments commitment commit commissions commissioneuropeenne commissiondefense commission commissariats commissariat commissaire commis commettre commettent commettaient commet commerciaux commercialisation commerciales commerciale commercial commerces commerce commercants commercante commercant commentez commenter commentcamarcheleparlement commentateurs commentaires commentaire comment commencons commencez commencerai commencer commencent commencement commence commencant commemorons commemorerait commemorer commemore commemorations commemoration comme commandes commander commandent commandement commande commandant comm comle comites comitebastille comite comete comes comedienne come comcitoyennes combustibles combustible comble combine combien combattue combattu combattre combattrai combattra combattr combattons combatting combattere combattent combattants combattante combats combativite combatif combat com coluche colporter colossaux colossale colossal colons colonnes colonne colonises colonisation colonisateurs colonie colonialisme coloniale colonial colonel colombiens colombia colombey colombes colombedefrance cologne colo colmar collusion colloque colline coller collegues collegue collegiens collegien colleges college collector collectivites collectivite collectivisation collectives collectivement collectively collective collecting collectifs collectifpcp collectifecolesmarseille collectif collecter collectenationale collecte colleagues colle collant collage collabos collaborer collaboration collaborateurs collaborateur collaborait colistiers coline colere coldroitsfemmes cold colbert col coins coincidence coincide coince coin cohort cohesion coherentes coherente coherent coherence cohen cohbchqcqm cognin cofondatrice cofondateur cofinance coexistence coeurs coeurhandi coeur coetquidan coercition coequipiers coecrit coe codes codenoir code cocq cocotte cochons cochet cocasse cobayes coalition coaliser coal co cnynjvbkky cnrs cnrefr cnr cnnfrancepr cnmlfygojz cnlr cnews cndp cncdh cnbarreaux cnafc cmttbgenjx cmoulenat cmanchette cm clyiuxnsxc clusters cluster cluny clue club cloue cloud clouchicloucha cloture closer clonage cloche clives clivant clivages clivage cliquez cliquetis clique clip clinquant cliniques clinique climatisation climatiques climatique climaticide climateaction climate climat climastro clima clients clientelisme clickandcollect cli clhebdo clh clgmiesbwk cles clermontferrand clermont clementnauleau clementleroy clementlanot clementine clement clemenceau clemence clem clef clearly clear clean cle clavier clauses clause claudia claudemalhuret claude clastres classiques classiquement classez classes classement classees classe clarte clarifier clarification claraweinhardt claraluciani clara claque clanique clandestins clandestine clandestin clairvoyance clairs clairesecail claires clairemonod clairement claire clairance clair claim ckrzeptfzt cklnswkvgp cjufldtdop cjr cjedkzxlqi cjduafhnqd civisme civis civique civils civilises civilisations civilisationnel civilisation civiles civile civil civeuqhuju ciudadano cittadino citoyensdirect citoyens citoyennete citoyennes citoyenne citoyenn citoyen citoye citoy cito citizens citizen citez cites citer cite citation citant cit cisgenres ciseaux circulera circuler circulent circule circulation circulaires circulaire circuits circuit circonstances circonstance cip ciotti cinquieme cinquante cinq cinglant cinemaelectoral cinema cine cimetieres cimetiere ciel cie cide cice cibles ciblees cible cibien cia ci chy chwfuxbwrw chvaillot chuuut chuter chute chutant churchill chu chti chtaubira chronologie chroniqueur chroniques chronique christophebarbier christophe christo christinevpf christine christiane christianbruyen christian christellepetex christchurch chrischurch chrileblanc chretiens chretiennes chretienne chretien chpiq chouviat chouiner chouard choses chose chorale choques choquer choque choquante choquant choqua choose chomeurs chome chomage choletagglo cholet choix choisy choisit choisissons choisissez choisissent choisisse choisissant choisis choisiront choisir choisies choisie choisi chocs chocolatier chocolat chocapicjew choc chnormier chloroquine chlordecone chloeridel chlambert chjamin chirac chiottes chinoises chinoise chinois chine chimere chiliens chiffres chiffrent chiffrees chiffre chiffrage chif chier chiens chien chief chiche chic chez chewing cheveux chevet chevenement chevaux cheval cherte chers cherie cheres chereau chere cherchons cherchez chercheurs chercheur chercher cherchent cherche cherchant cher chequier cheques chequeinflation cheque chenuet chenlingzhang chene chemises chemins cheminots cheminot chemin chefs cheffe chef checking check che chdornellas chcoulon chcambon chazalet chavagneux chauves chauvel chaussette chaumix chaumieres chaumet chauffeur chauffer chauffent chauffe chauffards chauffage chaudieres chaud chats chathamhouse chatellereault chateauroux chateaurenard chateaudun chateaucreux chat chassez chasseursfrance chasseursavecz chasseurs chasseur chasses chasser chassees chasse chasing charvieulands charvieu chartier charte charniere charmot charmag charm charlynours charlotte charlineaparis charline charliehebdo charliedalin charlie charlessorgue charlesprats charleslarevue charles charlatanisme charlatan charl charite charisme charia charges chargees chargee charge charentes charente chardy charchar charbon charbellakis charabia chaque chapuisgautier chapitres chapitre chapelles chapelle chapeau chaos chantier chantie chanteur chantal chantages chantage chant chanson channel changions changez changerons changerait changerai changera changer changeons changent changements changement changemen changeme changefrance change chandrapur chandelles\"\"\""
   ]
  },
  {
   "cell_type": "code",
   "execution_count": 199,
   "id": "a4953ce9",
   "metadata": {},
   "outputs": [],
   "source": [
    "words_known_3 = \"\"\"inacceptable imsbzyxwqp impunitezero impunite impunis impunie impuni imprudent improvises improvise improvisation improve improductives imprimez imprimerie imprime imprevoyance imprevisible impressionsetlignesclaires impressions impressionne impressionnantes impressionnant impression impreparation impraticable impots impot imposture impossibles impossible impossibilite imposeront imposer imposent imposees imposee impose imposant imposait importes importera importer importent importee imported importe importations importation importantes importante important importance impopulaire implore impliquer implique implications implanter implantation implacablement implacable impetrant imperieusement imperieuse imperialistes imperialiste imperialisme imperativement imperative imperatifs imperatif impensable impegnarci impayes impatiente impatience impasses impasse impardonnable impair impacts impacting impacted impacte impactant impact immunites immunitepenale immunite immunitaire immuniser immunisee immonde immobilisme immobiliers immiscent immigres immigre immigration immeuble immer immenses immense immediates immediatement immediate immediat imiter imfsxjxfno imf imbeciles imbecile imaginez imaginer imagine imaginable images image illustrer illustree illustre illustration illusions illusiondureel illusion illumines illuminations illogique illimitee illicites illettres illegaux illegalite illegales illegalement illegale illegal ilgiornale iledefrance ilecallennec ikuyerbxrr ikhtiyar ijhkynbgsc iifuzwvztm iiejothdto ihsaconference ihsa ihrer ihr ihm ihedn igylluvstz igpn igosvoycna ignores ignorent ignore ignorants ignorance ignominie ignobles ignoble ignares ifzmrisjip ifopopinion ifop ifdoxnikmq ietjjtpkwh iebwvacdww idrissaberkane idole idolatres idlibertes idirtfr idiots idiot idfmobilites ideologues ideologiques ideologique ideologies ideologie ideological identite identitaire identifies identifie identifiant ideaux ideas ideale ideal idea idcity icrc icihttps ichere icare icantilvxq ibnbbzubqs ibn ibm ibisbatignolles ibis iberdrola ibbyejzhlp ianbrossat ianboucard iacrkovitc hyuvfvqxnb hysteriques hysterie hypothetiques hypothese hypotheque hypocrisie hypnotises hyperviolence hypersoniques hyperdemocrate hyper hymne hygabgnmia hyeres hydrogene hydrogen hydroelectriques hydrocarbures hybrides hybride hxninaqesu hxnggzcbfy hxbfitdxou hwwgaiaqbb hwltzdvrlv hweamgxljh hvmdgqkxzg hvala huysmans huxley huwbertbates hurzxbwedz hurler humour humilite humilies humilier humilie humiliations humiliation humides humeur humeau humanity humanite humanitarianism humanitarian humanitaires humanitaire humanistes humaniste humanisme humaniser humanidad humanencyclo human humains humaines humaine humain hulot huitieme huile hui hugues hugocouturier hugoclement hugo huees hubungan hubgrade hubertgermain hubertfalco hubert hub htfskyvnmr hteftnadtn hstgeyufre hsaxdklkwh hsaury hrvatskom hrvatska hradrxdwuo hraapglafq hqwdmocxkf hpinfo how houdiakova houdiakov houdet houblon hotkjoqawf hotellerie hotel hostilite hostiles hostile hospitalite hospitalises hospitalise hospitalisations hospitalisation hospitalieres hospitaliere hospitalier horvcoaayb hortense horror horrifiee horrified horrifie horribles horreurs horreur hormis horizonsleparti horizons horizon hordes horaire hopitaux hopitalpublic hopitalpompidou hopital hopeproject hoogst honteux honteuses honteusement honteuse honour honorons honorera honorent honorees honorable honnetete honnetes hongroise hongrie hongkong hong honeywellcom homosexualite homophobie homophobe homologues homogene homo hommes hommages hommage hombres homanaje holden hold holcim hogardjacques hoffman hoffe hodcroft hocynique hocinetaxi hochmann hochburg hobbits hmohdbteuy hllpvfeuuf hjswedlund hjacvfuirc hizo hivernal historiques historique historiens historien historic historia histoires histoire hissera hissee hiring hippocrate hilhorst hilh hilfe hijab highest high hierarchies hierarchie hidalgo hidalg hidal hfsbocssbm hey hexagone heutejournal heute heurts heurtent heurte heureux heureuses heureusement heureuse heures heure heteroflics hestia hessel hesitez hervemaunoury hervemarseille hervebarl herve herstalle herqorfchc heros heroisme heroique heroines hermitte hermes heritiers heritier heritage herhammer heresie hereros hercule herbillon herbicide herbes heqcqgynuh hepeyla henry heninois heninbeaumont hemicycle hemarina help hello hellas helkohl helenethouy helenetho helenet helenebidard helene helen helas hejrcnbolc heinrichepinal hein heil heidi hegqibsxnv hegemonique heeft hectares hectare hebewkbpdq hebergeur hebergements hebergement hebdomadaires hebdobourseplus healthcare health hdpros hdncecfipb hdebronac hcymsbtkpe hcygohdkgy hcwbxfupto hcoursiere hchuymiqzs hbxiirbeya hbts hbrxupdkbx hbojngignu haxpgzakno havre havraises havrais havlog having have hautterrien hautsdefranceeu hautsdefrance hautkarabakh hauteur hautes hautement haute haussiere hausses hausser haurus haupbikltb hates haters harry harrisint haropa harmoniser harmonie harkis hargne harchi harceleurs harceleur harceler harcelent harcelementscolaire harcelements harcelement harcelee harcele haqmstqunj happy happening hantent hanounanews hanouka hannahmorphoses handicapes handicapent handicapees handicapee handicape handicap hanane hamouri hammett hamel hamas hamadameen halte hallucinant hallo halles hakeim haitisos haitiens haiti haissent haineux hahhahahaha hahaha haha hagxtgbics hagsameah haentjens hacmen hacke hack hache hablamos habitues habituer habituent habitue habitude habitez habitent habite habitats habitations habitation habitants habitantes habitant habitan habilete habiles habibabigdade haaa gzyxztojru gzcpgvbqfr gyfxhwmlzh gxbfigdvne gwgoldnadel gwenolebourree gwcujfaeyd gwadasoundboy gvtsnous gvts gvtmario gvsvhlvjwu gvjjmvipvj gvikzattsv guyteissier guyanaise guyanais gute gustave gusbqxrrcs guprevel gums guiraudind guinee guillotiere guilloteau guillondidier guillaumgontard guillaumeguerin guillaumegenton guillaumebarucq guillaume guilhemcarayon guignol guides guider gugenheim gueux gueules gueule guerriere guerres guerre guerit gueris guerir gueri guepieszcw guene guen guelma guardian guanguan guaido guadeoupe guadeloupeens guadeloupeennes guadeloupeenne guadeloupeen guadeloupealert guadeloupe guadeloup guadel gtlwiweasz gtjcvhpenf gtil gryjwhhwcx grundlaggande gruene grs growth grown groupuscules groupuscule groupesncf groupes groupements groupelibterran groupelaposte groupeecocert groupecspbs groupecarrefour groupe groundcontrol grossissantes grossiers grossierete grossiere grossesse grosses grosser grosse grosdidiermetz gros groningen gronde groenland grippe grille grigny grignon griffes grievement griesbeck gribouille grey grevistes grevesncf greves grevegenerale greve grenzkontrolle grenouille grenoblois grenoble grenelle gremillet greinch gregphil gregoryroose gregorydoucet gregoireperra gregoiregaonach gregleclerc greffiers greffierassises greenwashing greensefa greenpeacefr green grecs grece grec greatly great grd grazie graz gravite gravissime gravir graves gravement gravees gratuits gratuites gratuitement gratuite gratuit gratter gratte gratitude grasses grasse graphiste grands grandremplacement grandrdv grandmatinsudradio grandissent grandissante grandir grandios grandi grandeur grandesynthe grandes grandement grandecausenationale grande granddebat graldinemaillet graine graditi gradignan grace gqywpoozxs gqwsninbpv gqgbupyxsa gqaxfdfqab gpozotvcbe gponcharal goya governance gouvernment gouverneur gouvernes gouvernerai gouverner gouvernent gouvernements gouvernementfr gouvernementaux gouvernementales gouvernementale gouvernemental gouvernement gouvernemen gouverne gouvernants gouvernance gouvern gouve gouv goutte gourmet gourmandise gourdans goulardsylvie goulard goulag goujaterie gouffre gotten gosses gorge gorafi googlefr google goodvest good gonfle gonesse gondole goncou gomezu goliath goldman godille goche gobain goasguen goarpxzyxr gmquetpclf gmnuawasqa gmkemtyzxe gmeurice gmail glyphosate glucksmann glorieux glorieuses glorieuse gloires gloire globalise globalement globale global glisser glissement glisse glissaient glauque glasgow glarrive glar glad glacees glace glacantes glacante gkqnzycucr gkierzek gkceiardft gjcxpbjdmv gjchxlqqpo giving gives give giselehalimi giscarddestaing girondine gironde girly giorgiameloni ginoux ginesy gillesverdez gillesplatret gilleslazzarini gillesgascon gillesboyer gillesbouleau gilles gill giletsjaunesgo giletsjaunes giletsjaune giletsj gilets giletjaune gilet gildasvieira gildas gilbertcollard gilbert gilaverous gigoujerome gign gigantesque gifle giec gibroxoqsm gibraltar gibert giannoni giannoli gianluigitrct ghtplaine ghosn ghettos ggt ggrmc gfsijelqll gevaccineerde gesundheitsministers gestionnaires gestionnaire gestion gesticule gestes geste gestantes gest gesprek gesnes gervais germinal germanique germain gerer gerent geree gerbes gerbe gerardpince gerardfiloche gerardaraud gerard geraldcarmona gerade georgie georgesziegler georges georgefloyd george geopolitiques geopolitique geographiquement geographique geographie geografia geoffroyrdb geoffroydidier genuinely gentiment gentillesse gentilles gentil gens genoux genou genocides genocidearmenien genocide genie genial genevieve geneve genetiques genetiquement genetique genesung genese generosite genereuse genereront genere generaux generationz generationsmvt generations generationmelenchon generationah generation generant generalmartinez generalistes generaliser generalisee generalise generalisation generalifrance generales generalement generale generaldenoel generaldegaulle generalantivax general genegalitefr gender gendarmes gendarmeries gendarmerie gendarme genante genant gemendebat gelera geler gele gelard gegen gege geertwilderspvv geef gedenkfeiern gebracht geboren gebgwtd gdr gdqkugmuef gdes gdeleur gde gdarrieussecq gdarmanin gcalignon gbspuhqptt gboussonniere gbourdouleix gbohcnqdcq gbmfdodjem gblardone gbkzewfyur gbjcaehmog gbainvqenb gazon gazole gazeux gazaunderattak gaza gaz gayssot gaver gavent gaveemmanuelle gavage gauthraymathieu gauthier gauloise gaulois gaullistes gaulliste gaullisme gaullienn gaufrerouge gaudy gaudet gauchistes gauchiste gauches gattepaillemy gathered gates gate gastronomie gaston gaspilles gaspiller gaspille gaspillages gaspillage gascogne gars garrigos garonne gares garenne gardons gardiens gardez gardes garderons garderie garder gardent garde gardant garcon garbosanka garants garantit garantissons garantis garantirons garantirai garantira garantir garanties garantie garanti garante garant garages garage gangue gangster gangrenes gangrener gangrene gang ganette gamins gaming gamin galop gallo gallimard galliard galimatia galileo galignani galibert galgueros galguero galgos galerne galere galaxie gala gajac gainandb gaia gagnouxjb gagnerons gagneriez gagnerez gagnerait gagnera gagnent gagnante gagnant gagnais gagnaient gaffe gafam gaetan gaelsliman gaelle gaelgiraud gael gadget gadeloupe gachis gacher gache gacciob gabrielserville gabriellesiry gabriellecluzel gabrielattal gabriel gabegique gabegie fzqhwtlbkw fyuinjgnkb fxrrwgsnww fxmahon fxchguzbfk fxbellamy fvuillod fvgqamjdcl fvdwaqqofc fvannson fuyez fuyant futurs futuroscope futures future futur fustigent fustigeait fustige fusionnant fusibles fusent furst furieuse funeste funding funder fumisterie fumigene fumier fumeyq fumees fumee full fulgurante fulberti fukushima fuiter fuite fuir fuient fugitifs fuelling fub ftp ftkjaitzsy ftenmadvex fszpiner fsu fsrzzdkrro fsnatloubv fryszvpozh frutto frustration fruits fruit frotte fronts frontpopulaireecologique frontpopulaireecol frontpopoff frontpopecolo frontieres frontiere fronti frontex frontal fromage from froide froidchezsoi froid frogier frklabaule frjohannes frite frissons frigos frigorifies frigo friedrich frieden frichetfabrice friches friche friants frexitvite frexit freund freuderic fret fresqueduclimat frerot freros frequention frequentables frequent frequemment frenchtech frenchsculptor frenchbabydog french frenc freles freinerait freinera freine frein freiheiten freie fregono freedoms freedom freeassangenow freeassange freearroibaraket fredvalletoux fredrob fredriviererfi fredfauvet frederickrouzes fredericbenhaim frederic fredbigrat frchabaneau frayeurs frauduleux frauduleuses fraudes fraude fratricides fraternite fraps frapper frappent frappees frappee frappe fraparalympique franzl frankrikes frankreich frangy francuske francs francophone francoisvarlet francoisruffin francoisfillon francoisedegois francoise francoisdagnaud francoiscocq francoisboulo francoisbaroin francletkarine franckylebest franckriester franckproust franckcourchamp franck franciskalifat francisco franciliens francilien francieres francia franchttps franchit franchissent franchie franches franchement franche franceunite francetv francetele francesoir franceses francerugby francepolice franceolympique francelibertes franceintheuk franceinter franceinsoumise franceinsou franceinfoplus franceinfo franceindustrie franceguyane franceespagne franceenperil franceelles francediplo francedesterritoires franceculture francecette francebleuparis francebleucom francebleuazur francebleu francaises frakaz fraisse fraichement fragmentation fragilites fragilite fragilisee fragiles fragile frageo fraesp fractures fracture fracasse frabique fraar fquedeville fqajevlwnj fpvffmruvj fpm fpechenard foyers foyer foutu foutre foutent fous fourvoye fourre fournit fournisseurs fournissent fournis fournir fournier fourni fourneaux fourmis fourmifloue fourchette fouragebernard foundation foulon foules foulee foule fougue fought fouets foudroyante fouassak fouad fossoyeurs fossoyeur fossiles fossile fossil fosse fosiles forward forums forumduprojet forumd forum fortunes fortune fortes fortement formules formuler formulees formulee formule formulation formulaire formons formidables formidable formes forment formel formats formater formate formant fork forissier forget forge forestiermagali forestiere foreignlegion foreign forces forcer forcement forcees forcee force forcant foray footsteps footballeuses food foocwzttji fontainebleau fontaine font fondue fondsarmenienf fonds fondmentales fonderies fonderie fonder fondements fondement fondees fondee fonde fondations fondationnh fondation fondateurs fondamentaux fondamentales fondamentale fondamental fonctions fonctionneraient fonctionner fonctionnent fonctionnant fonctionnaires fonctionnaire foncier foncer follow folle folies folie foktkusrze fojluyhhcq foire foggkebppg fofxxoksiq foetus focus focaliser fnsea fnkqkmignx fneasso fnarolles fnacvousaide fnac fmomboisse fmnflhokhd fmg fmcdlvniwb fmauhngqon fmacpezvtl flyridergj flyepablo flye fly flux fluvial flute flug flows flotte flots florinehenault florileges floride florianirminger florian florentin florentgrau florent florencedesruol florence floral florabolter floraberthelot floportelli floor fln flirte flightsaffiche flics flicage flibustiers flex fleuves fleuve fleurons fleuron fleurissent fleurissante fleurdotone fleau flavio flattez flatte flashball flash flaques flamme flamboyants flamboyant flamboyance flamber flambee flambe flambant flamanville flagrants flagrantes flagrant flacons fkecejfnlg fjwfgvkvkw fjkxcraizm fixons fixes fixera fixer fixee fixed fixe fixant fixa fissure fischer fiscaux fiscalite fiscales fiscalement fiscale first fired fire fioul fionahyslop fioles fintech fins finistere finissez finissant finissaient finiront finirons finira finir finie finesse findumois find financiers financieres financierement financiere financier financiarise financiarisation financial financeverte financeurs finances financer financent financements financement financee finalite finalistes finalement final filtrent fils filrougeafh filoche films filment filme film fillon filleul fillettes filles fille filieres filiere filicitazione figures figurer figurant figue fight fige figaro fifty fiertes fiertefrancaise fierte fiert fiersdetrebleus fiersdenotrepatrimoine fiers fieres fieredenoseleveurs fiere field fiducia fidelite fideles fidelement fidele fidel fiction fictifs fichier fiches fichent ficelles ficelle fiat fiasco fiable fhp fhollande fgjekewyul ffqtydhhaz ffoc ffmorvan ffliqcjxok ffcltoxzms ffbbpdlczo ffbatiment feydeau few fevrier feutrees feuilleter feuilles feuilledepaye feuille fetes fete festivites festives festival festin festif fesses fessenheim ferveur fervents fervente ferry ferroviaire ferropem ferroglobe ferrari ferrandaise feront ferons ferocement fermons fermez fermetures fermeture fermete fermeront fermerons ferment fermant ferez ferait ferai fera fepylcfjdh fenetres fenetre fenelon femonationalisme feministes feministe feminisme feminines feminine feminin feminicides feminicide feminazi felipe felin feliciter felicite felicitations feizabm feindre fees federer federees federe federations federaliste fecofootcg febrilite feb featherstone fdwohujikc fdumasdeputee fdubessy fdtmbkylll fdo fdevoyer fdesitter fdecanson fda fcuvillier fbxrrvoemq fbspofherr fbonnifet fbleunord fbleubnormandie fbi fbeuvelet fbdbfufqqp fbariseau fayalsamar favoriserai favoriser favorise favorisant favorables faveur favadaniel faux fauteuil fautes faute fausses faussement fausse faussaire faureolivier faure faune faudrait faudra fauconnier fauciveut fatto fatiha fatigues fatigue fatalites fatalite fassent fasse fassadeneuropaer fashion fascisme fascisation fascinating fascinant farouchement farm farce faramineux farahh faq fanzouze fanzos fantomes fantastique fantasmes fantasme fantaisiste fanch fanatisme fanatiques fanatique famine familles famille familien familiales familiale familial famil fameux fameuse famatras falsifier falsifie falorni fallu falloir fallait fallacieux falguiere falaise fakenews fake faisons faiseux faisant faisait faisaient faineants faimofrontieres faim faillite failli failles faille faiblit faiblesses faiblesse faibles faible facultyofartsug facultatif factures facture factuel facto facteurs facteur fact facs facons facisme facilitons faciliter facilite facilitateurs facilitant facilement facile faciale fachosphere fachos fachogaucho facho faches facher facette facebook facealarue faceabfm facade fabriques fabriquer fabriquee fabrique fabriquant fabricegrimal fabrice fabric fable fabiengenet ezojfxeoab eymetvillage exultent extremistes extremiste extremes extremement extreme extre extravagant extraordinaires extraordinaire extraordi extrait extradition extraction extra extorquez extirper extinction extincta externaliser external extermines exterieurs exterieures exterieure exterieur extension extends exspray expulsions expulsion expulses expulser expulsees expulse exproprions exproprier expropriations expropriation expropriant exprimons exprimes exprimer expriment exprimee exprime exprimant exprimait exprimaient expressives expression expressement exposons expositions exposition exposes exposer exposent exposees expose exposants expos exports exportations export expo explosive explosion explosif exploser explosent explose exploration exploiteurs exploites exploiter exploitent exploite exploitations exploitation exploitant exploitable exploit expliques expliquer expliquent explique expliquant expliquai explicitement explications explication experts expertes expert experimente experimentation experimentale experimental experiences experience exper expedition expedier expatries expatrient expansion exorbitants exoneres exonerer exonerees exonere exoneration exonerant exode existons existerait exister existent existants existantes existant existait exiles exiler exigerait exiger exigeons exigent exigences exigence exigeants exigeant exige exfiltree exergue exercons exercice exercer exercent exercees exerce exercant exemption exempte exemples exemple exemplaires exemplaire executions execution executif executer executees executee execute executant execrent excuses excuserai excuser excuse exclusivement exclusive exclusion exclusif exclus exclure exclue excluant exclu exciting excites excitee excited excessif exces exceptius exceptionnels exceptionnelles exceptionnellement exceptionnelle exceptionnel exceptional exception except excellente excellent excellence excel excedent excede exams examines examine examen exaltees exalte exaltant exacts exactions exactement ewabaeznqr evry evoques evoquero evoquer evoquent evoquees evoquee evoque evoquant evolutions evolution evoluer evoluent evolue eviter evitees evite evinincir evincer evidente evident evidence evidemment eviction everything everyone every everest eveques eventuellement eventuelle eventuel events eveningherald evening evenements eveil evasion evapernet evanfourmizz evaluer evaluent evalue evades evade evacuations evacuation euthanasie eutelsat eurovision eurotunnel eurotopie eurostat euroskills euros europu europest europeistes europeiste europeisme europefederale europeens europeennes europeans europeanrepublic europeanmovemen european europaunionde europaunionbe europamachen europaischerepublik europaischen europaische europaer europa euromissiles eurogagas euroecolos eureliens eureliennes eureetloir euractivberlin euractiv eupodberlin eupegzszre euhhh euh eugenisme etudier etudiees etudie etudiantssansmaster etudiants etudiantes etudiante etudiant etudes etroite etroit etriquees etriquee etrennent etrangle etrangers etrangeres etrangere etranger etrange etourdissement etouffons etouffer etouffee etouffe etonner etonnement etonnee etonne etonnante etonnant etoiles etoile etiquettes etiquette etiquetage etions etiknews etik etiez etienneliebig etiennecampion ethniques ethnique ethiques ethique ethiopie ethics ethic ethalises eternels eternelles eternellement eternelle etendue etendant eteintes eteinte eteint eteindre etc etatsunis etats etatprovidence etatmajorfr etatistes etatiste etatisee etatiques etatique etati etatdedroit etapes etape etant etaler etalement etalagiste etait etais etages etablit etablissements etablissement etablissant etablir etablies etablie etabli estuaire estrosi estrenem estoy estomacs estivaux estimerez estimer estiment estimee estime estienne estellemidi estamos establishment established estaba essuye essilor essentiels essentielles essentiellement essentielle essentiel essential essence essec essayons essayiste essayezlademocratie essayez essayer essayee essaye essayant essayait essaie essai esquive esquisses esquecimento esprits espritoccitanie esprit espoirs espoirdelagauche espiritu espfra esperons esperions esperer esperent espere esperant esperances esperait esperais especes espanoles espana espagnols espagnole espagnol espagne espaces espacedesluttes esdiaricat escroques escpbs escp esclaves esclavage escape escamote escalade escadron esbroufe erwunscht erwann erwan eructer erscweniak erreurs erreur erratum errantes errance eropa ermoglichen erlombertie erklart erinyah erigee erige ericzemmour ericzemmmour ericstraumann ericpliez ericpiolle ericnaulleau ericmorillot erichoulley ericdamamme ericcoquerel ericchallan ericbrunet ericbocquet ericandrieueu erfolg erdogan erckma erasmus erano eradiquerai eradiquer eradiquee equivalent equite equitables equitablement equipes equipementier equipement equipefra equipedefrance equipe equipages equines equilibree equieconomie equestre eqrmhpeavf eqdubytylw eqarrmdhbe epxoiixgtd epuration epurateurs epuises epuisement epuise epuisant epsunions eprouvee eprouve eprouvant eprhbqggih epreuve epouvantables epouse epoque epopee epoisses eplenary episode epingle epinay epinal epierremarie epidemique epidemiology epidemiologues epidemiologue epidemiologistes epidemies epidemie ephilippepm ephilippe ephili eperdument epee epeam eparpillement epargnants eoliense eoliens eoliennes eolien eolas envoyons envoyez envoyespecial envoyes envoyer envoyees envoyee envoye envoyait envolee envole envoie envoi envisager envisagent envisagee envisage environnementaliste environnementales environnementale environnemental environnement environnemen environ envie envers enverrai envergure enveloppe envahit envahisseurs envahisseur envahir envahi entzetzt entscheidung entrevue entrevista entretient entretiens entretienexclusif entretiendrons entretien entretenue entretemps entreront entreprises entreprise entrepreneurs entreprendrvert entreprendre entreprenariat entrent entrees entraver entravees entravee entrave entrant entraineront entrainer entrainent entraine entrainant entrain entraide entoutefranchise entoure entonner entire entiers entierement entiere entier enthoven enthousiastes enthousiaste enthousiasme enthousiasmantes enterrons enterres enterrer enterine entendus entendues entendue entendu entends entendrons entendre entendons entendeur entendent entendant entend entasses entamer entamee entame entails ensuive ensuite enspaysage ensemblesauvonslafrance ensembleonvagagner ensembleonvachangerleurope enseigner enseignements enseignement enseignee enseigne enseignants enseignante enseignant ensauvagement enroutepourlapresidentielle enroles enriquesantiago enrico enrichis enrichir enrichie enregistree enrayer enracines enracine enqueteur enquetes enqueter enquetent enough enormes enormement enorme ennvers ennemis ennemie ennemi enneigee enmodemacaron enluttes enlevons enlevezmoiphotoshop enlever enlevees enleve enlaces enjeux enjeu enieme enhanced engrenage engrangees engraisser engraissent engouement english england engins engineers engiegroup engie engendre engels engagez engages engager engageons engagements engagees engagee engageant engageait enfumer enfume enfumage enfouissement enfin enfermes enfermerai enfermer enfermement enfermees enfer enfantsplaces enfantillages enfance enfaite energy energique energies energie energetiques energetique energetiq energ enercoop enemy enemigo enduree endroits endroit endormis endormir endormie endormi endommagee endocrinien endiguer endeuillees endeuille endettera endeavour endangered encylique encourue encourager encourageons encouragent encouragements encouragement encourageante encourageant encourage encore encontre enclencher enclaves encercles enceintes encadrer encadrant enbleupourunicef enavantfrance emzkgqzwow emyskhekmu emules emues emue empruntent emprunt emprisonnes emprisonnement emprisonnees empreintes empreinte empowerment emportera emporter emportent emporte emportaient empoisonnement empoisonnees empoisonnee empoche employment employeurs employes emplois emploie emplis empires empire empilees empechons empeches empecherons empechera empecher empechent empechee empeche empechant empathie empares emparent emouvant emotions emotionnelle emotion emois emmwargon emmerdements emmener emmenee emmene emmarafowicz emmaracal emmanuelmaurel emmanuelmacron emmanuelle emmanuel emmacosse emldjkcygs emissaires emissaire emiratsarabesunis emirats eminente eminemment emiliezap emilieagnoux emeutiers emeutes emeut emettre emetteurs emetteur emettant emerite emergencies emergence emerge emc embrumer embrassade embrasement embouteiller embouteillages emblematique embete embellissement embauches embaucherons embaucherai embaucher embauchent embauche embauchant embarques embarque embargo embarcation emballe emballages emballage emanent emanciper emancipationco emancipation elyseennes elxxetdadh elvbcclgoi elus elues elue elude elucubrations elucid elsaschalck elsafaucillon elperiodico elpce elpais eloquente eloquent elophevalery elonmusk eloignes eloigner eloignements eloigne eloign eloges eloge elodie elmundotoday elmundofcb ellikoestinger ellibec ellezv elleailo ellakelian elke elites elisent elise elisabeth elisa eliminer elimine eliekorchia eliejabel elezioni elevycauseur elevons eleveurs eleves elever eleven elevee eleve elevation elevages elevage elephant eleonorelp elements elementaires elementaire elegance elegamment electronique electromet electrochoc electriques electrique electricite electrices electric electoraux electorats electorate electorat electoraliste electoralisme electorales electorale electionsregionales elections electionpresidentielle election electeurs electeur eleccions elecciones elcorreoweb elcfgwiesr elargissements elargissement elargie elargi elan elaborer elabore elabe ekzscseaab ejizalmzul ejebsavqak einstein einsatz eilig eifmsltzqz eiffel ehpad ehipdzgdcw ehaxeodvln ehaqbzkqof ehagtxtitd egyptien egypte egrener egratigner egoistes egoiste egocentrisme eglises eglise egger egaux egarement egarees egard egalitesalariale egalite egalit egales egalement egale efockkglek eflamm effroyables effroyable effroi effrayants effrayantes effrayante effrayant effraction efforts effort effondrera effondrent effondrement effondree effondre effleure efficacite efficaces efficacement efficace effetssecondaires effets effet effervescence effectuees effectue effectivite effectivement effective effectifs effectif effaree effare effarant effacer effacement eemvvvdtyn eelv\"\"\""
   ]
  },
  {
   "cell_type": "code",
   "execution_count": 200,
   "id": "574eb7c8",
   "metadata": {},
   "outputs": [],
   "source": [
    "words_known_4 = \"\"\"nonalavaccinationobligatoire noms nomment nommees nommee nomination nombreux nombreuses nombreuse nolzfpouad noix noirs noire noirceur noiraultromain noicxmlyce nohanetwork noeuds nocturne nocifs noch nobili nobel nobassaran noah nnxmokdedh nnqwnhiamf nnpsgcyqgd nmarquaypernaut njqfnzqoeo niveler niveaux niveau niusmarco nirinine nimois nimes nikopol nihilisme niger nievre nieuwe nient niemeyer nicolin nicolassarkozy nicolasputsch nicolasmiguet nicolasmig nicolasmayernmr nicolasgaborit nicolasframont nicolasflorian nicolasdoze nicolasdovichi nicolasbay nicolasbarre nicolas nicois nicobandaly nicht niche nicaragua nhzzhhiyoe nguyen ngjcpcanpf nghdtwvrhj ngbrrzkapi next newstankher neweuropeans neveu nevers nevektqtxd neutre impunement impulser impulse impulsaxl impuissants impuissant impuissance neutrality neutralite neutraliser neutralisent neutralisants neurovasculaires neurones neurologue neuillysurseine neuilly neuf netzwerkebd nettoyer nettoye nettoyage nettement netherlands netanyahou nesme nerienlaisserpasser nerien nerf neonazis neoliberaux neoliberalisme neoliberale neoliberal neo nenninger nennen nemesis nelsongetten nelson nejamaisoublier nein nehrykqrbc negocier negocie negociations negociation negociateur negociables negociable negliger negawatt negatives negative negationnistes negatif neftcryjdt nefaste nefaisonsxv neerlandaise neerlandais needs need necronomie necessite necessaires necessairement necessaire nebbula neanmoins ndubbelboer ndnr ndklgatakt ndghalsoof ndemorand ndemocrates ndeg ndaragon ncyvtrwece ncnpnonoyp nccrbefztc ncadene nbx nbongarcon nbokqfrnfw nbellurot nazisme nazis nazioni nazie navigo nautiques nausee nauseabond naufrages naufrage naturemedicine naturelles naturellement naturelle naturel naturasciences nationeducative nationalite nationalistes nationalisten nationalisms nationaliserons nationaliser nationalisations nationalisant nathtrin nathberanger nathanpsmad nathaliestcricq nathalieserre nathalieloiseau nathalieappere nathalieappe nathalie natalitedans natalite nataliste natale natal natachapoupet nastavimo nassage nasih nase narratif narquois narodu narguer narguent narco narbonne nappes napoule napoleon napayixdpb nantesfr nanterre nantais nangis namibie namas nama naivete naissait naifs naif nahonyqdtm nagornikarabakh nagent nadinemaltese nadineherrati nadinegoucer nadine nadal nabilakeramane naar mzdeloffre mytho mythiques mysterieux mysterieuses mystere myricau myriam myocardites mylene mycket mxuvsgqigj mxpngwqluv mwjccslvky mwh mvthieusct mvgpdnceuh mvaudano mutuelles mutuellement mutuel mutualite mutualiste mutualisation mutualisant mutisme mutinspangee mutilent mutilations mutations mutation mutant mutagene musulmans musulmanes musulmane musulman must muslim muselier museeguimet musee muscle muryeljacque murs murielpenicaud muriel muret mure muraille munitions municipaux municipales municipale municipal mulvwtdvge multitude multiplier multiplient multiplie multipliant multiples multinationales multinationale multilateralisme multilateral multiculturel mullerbronnl mulhouse muet muekyjorlc much mtqduzzncc mtieiekojx mtabarot msjamieclayton msc mrtgbxgbez mrg mrfvwikjjo mqptswldnv mpywgvwkea mpfcfinwlp mpdelagontrie mozambiquemassacre moyens moyennes moyenne moyenageux moyen movimientoeurop movements mouveuropeen mouveur mouvethic mouvementecologisteindependant moutons mouton mousset mousquetaires mousquetair moushine mousetrap mouron mouroir mourirpourtaiwan mourir mouraient mounirsatouri moultes moulin moujkzcmwb moucheron mouche motxfr motsenlignes mots motogp motives motiver motivee motive motivation motivant motif moteurs moteur most mosquees mosquee moselle mosellane moscou mosaique morveux morts mortiferes mortifere mortier mortes mortels mortelles mortelle mortel mortalite morrison morlaix morin morgue morgan moresve morelle mordre morceau moratoire morano morandiniblog morandini morancais moralement morale moral moqvolqmjw moqueries moquer moquent moque monza monuments monument montrez montreuil montrerait montrera montrant montrait montpellier montparnasse montlucon montiel montharville montgeron montez montesquieu monter montent montee montebourg montebo monteb montbrison montbrialavocat montbeliard montauban montastruc montant montagnier montagnes montagnards montages montage monstruosites monstruosite monstrueux monstrueuses monstre monsieurdream monsieur monrocq monprojet monot monopole monologues monnet monnerville monnaies monnaie monetaire monetae mondovision mondiaux mondialistes mondialiste mondialisme mondialisee mondialisation mondiales mondeville mondes moncla monarchique monarchie moments momentanes momentane moment molsheim molnupiravir molinari moliejean moitie moissonpaul moins moindre mohamedbouhafsi mohamed mofxbcjrrw moeurs moedas module modulaires modifier modifications modestes modestement modes modernite modernises modernisation moderne moderna modere moderation moder modeles modele modecirculaire modalites mochte mobionscooter mobilityphoenix mobilisons mobilises mobilisera mobiliser mobilisent mobilisees mobilise mobilisations mobilisation mobilisateur mobilisant mnlienemann mnl mninzjhfnt mncp mmerciersenat mlp mlmlpjpnof mlijmemopo mletrocquer mlaflutte mjtjbllgqz mjsnord mjezjgtvwn mixte mixite mitterrand mitrailleurs mitra mistake misspress missionalpha missegle misogynie miserables misbruiken miroirsocial miroir mireilleknoll mirail miradors miraculeusement miracles miracle minutieuse minutes minute minurne minuit minouche minorites minorite minoritaires minoritaire minorer ministro ministres ministrede ministeriels ministeriel ministeres ministerecc ministere minimum minime minimales minimale minima minim minieres miniere minier miniaturiserons miniaturise mineurs minerale mindmeister mind mince mims mimounakim mimmo mimiemathyoff mime millions million milliers milliards milliardairesoros milliardaires milliardairegeorge milliardaire milliard millenaire milkr militons militer militent military militariste militants militantisme militantes militante militant militaires militairement militaire milieux milieu milices mij miguel migratoires migratoire migrationskrise migrations migrants migrantes migrant migennes mifexpo mieux miennes mienne miel midilibre middleeasteyefr middle mickaelvallet michelgellyp michelfontaine michelflori micheletabarot michelerubirola michele michelbonnus michelbarnier michaelmetras mhhdcgysga mheimbaecher mhan mgtpxcmdrt mfhhqvsdsf mferandou mfc mfaeggvlla meyer mexico mexicanos meurtrissures meurtries meurtriers meurtriere meurtri meurtres meurtre meurthe meurt meunier meule meubles mettrons mettrais mettons mettez mettait mets metros metropolitains metropolitain metropoles metropolerennes metropole metoopolitique metoo metissage metiers methodes methode methane meteore meteo metaux metallurgie metalliques meta mesurons mesures mesurer mesurant messieurs messi messenger messages message mess mesquins mesquinerie mesinterprete mesdames mesadieu meryl merveilleux merveilleuse mers merouralex merkel meriterait meriter meritent meress meres mercure mercredis mercredi mercosur merck merciii mercier mercenaires mercantour meradyouri mepriser meprisent meprise meprisants meprisante meprisant meprisables mepris meprendre meosysyvxv menuiserie menuelgerard mentorat menton mentir mentionnez mentionnes mentionner menteuse menteurs mentait mentaient mensuel mensonges mensongers mensonger mensonge menschen menons menjadi menez menerons menerait mendiant menard menant menages menagers menageres menaces menacer menacent menacee menace menacant memperkuat memorielle memoire memes membres members melusine melinee melenchonvszemmour melenchonpresident melenchonnantes melenchonisme meldois melbourne melanietaravant melanie melanger melangent melange melancolie melanchono meiux meilleurs meilleures meilleurepol meilleure meilleur meille meihttps meier mei mehr mehdi megamanifestation megabassines mega mefier mefiance mefaits meetings meetingparis meeting meerdemocratie medunarodnoj mediterraneen mediterranee mediteranskom mediter meditees mediocres mediocre medico medicaux medicale medical mediatises mediatisee mediatisation mediatiques mediatiquement mediatique mediatiqu mediation mediatic mediatheque mediascoeur medias mediapartblogs mediapart mediaimmediat medef medecins medecine medecin medailles medaillee medaille meda meconnaitre meconnaissance mechants mechante mecdelaterre mecanismes mecanisme mecanique measures meanwhile meaningful meaning mean mdzfhkgwyq mds mdr mdesgayets mdelormeau mdelafosse mdbulmprez mcvanhoutte mcphyenergy mccg mbougar mbompard mbockcote mbenza mbappe mbadakhch mbabic mazuel mayotte maybe mayavalka maya maxxiparis maximum maximeswitek maximen maximemin maximelledo maxime maximcombes maximales maximale maximal maxcordiez max mauvaises mauvaisefoi mauvaise mauvais mauvai mauva maurice mauret maudite maudit maubert maube maturite mature matthieu matteosalvinimi matteo matraques matraque matraquaient matmolard matinee matinales matignon matieufitness matiere mathsdupeuple mathilderegnaud mathildepanot mathildeimer mathieuklein mathieufauveau matherbo mathematiques mathematiquement mathematicien mathdarnaud maternite maternelle materiels materiellement materiel materiau matche masters massoud masson massives massivement massive massimo massifs massif massacrer massacre massacrait masquee masmoudirafik masculine masculin mascarade maryvonne maryliseleon marxiste marxfanaccount marx martyre marty martinique martiniquaise martiniquais martinezvinat martinewonner martinevassal martineberthet martineaubry martigny martialsaddier martialfoucault martiales martele martadecidrac marsupilami marsu marsigny marshall marseillaises marseillaise marseillais marsan marrant marrakech marrainer marraine marquis marqueur marqueront marquera marquer marquees marquee marque marquant marocain maroc marne marlenesgard marleneschiappa marleix marketing markcannizzaro maritimes maritime marionnette marionmourgue marionmarechal marion marioles marins mariniere marinier marini marinetondelier marinenationale marinelepen maries mariepochon mariepierrev mariepbourgeois marieguitedufay mariecau maridubt mariannes mariannelemag marianncatillon mariannak mariam mariages mariagepourtous mariage marguerite marginale marginal marges marge margauxduguet margal mareyeurs marengo maregionsud marees maree marechal marecdr marecage mardipolitique marctouati marcoxibar marcoussis marclefur marchiennes marcheurs marches marcheprime marchent marcharlott marcharlot marchands ouncil marchandises marchandise marchal marchais marcfauvelle marcendeweld marcendewe marcangel marbre marant marais maraicher maquis maquillees maquillage maquette maprimerenov mapolitiquedulogement mapicos maopapa many manufacture manuf manuels manteslajolie manteau mansuyyves manskliga manquons manquez manquera manquer manquent manquements manque manquantes manouchian manook manondrv manonaubryfr manon manoeuvres manoeuvre manipulent manipulations manipulation manipulables manip manifs manifpolice manifestons manifestions manifestera manifester manifestent manifeste manifestations manifestationantipasssanitaire manifestation manifestati manifestants manifestantes manifestait manife manif manieres maniere manie mangez manger mangent mangel mange manege manealx mandelieu mandela mandature mandats mandat manches manageriales management mammiebocockiq mamie mamere mamelles mamanlouvecom mamanlouve maman malvoyant malunguinho maltraites maltraiter maltraite maltraitance malsaine malopedia malmenes malmenees mallard maliens malhonnetete malhonnete malheureux malheureusement malheur malgre maleym malefique malbouffe malansac malange malaise maladiesilencieuse maladies maladie malades malade making make makarian majors majorites majorite majoritaires majoritairement majidoukacha majeurs majeures majeure majeur maix maitrisez maitriser maitrisent maitrisee maitrise maitresse maitres maitre maisonsalfort maisons mairies mairie mairesdefrance maintient maintien maintenue maintenu maintenir maintenant maineetloire mailonline maillot maillage maieutique maia mahorais mahler mahjoubmrc mahedavian magouilles magnifiques magnifique magni magistrats magistrate magistrat magistrale magistral magique magie magicien maghreb magazinecapital magazine magasins magasin magaliberdah mafrance mafieux mafias mafia maf maestro maelthierry maelcamerlynck maduro madrid madmoizelle madluvjjni madeinfrance madeinfra madames madagascar macronxit macrono macronnie macronite macronistes macroniste macronisme macronisee macronienne macronien macronie macronards macroecon macon macias machthebbers machiste machinka machines machine machination macarezf maastricht maaaaaarseilleeee lzbvrtxecx lyonnaise lyonnais lyonmag lyonaeroports lyon lyoiyjzhfy lynn lynchage lyeslouffok lycees lyceens lyceennes lyceen lycee lybie lyautey lxmehvehhb lvmh luxe luumsykxga luttons luttions lutteront luttercontreleterrorisme lutterai lutter lutteouvriere luttent luttant lutchmedial lurons luronnes lurette lungs lunettes luneauaurelie lune lundy lundi lunaire lumieres lumiere lullalee luka luisplanas lugar lueur ludovicbrossy ludovic ludivine lucratif luclaf lucidite lucides lucidement lucide luchiniofficiel luchar lucha lucasdanguy lucas lucano lubrizol ltprdchsye lsrziqqvji lshnfjhvhg lsgghtxzyu lsenews lryonne lrrtttxihp lrem lrefuges lpxbrxafwe lpwloowasb lpofrance lpjvarsovie lozere loyaute louvrier loustjean lourmarin lourdios lourdeurs lourdement loupviallet loups loupes loukachenko louiswitter louispretrot louiseplantin louisducdanjou louisderaguenel louisbofficiel louisarmand loudly louche louange louable loto lorsque lorsqu lorraine lorrain lorion lorenzosalvador lorentzmathias lopinion loopsidernews look longueur longue longtemps longs londres londoniens lolowarn lolo lolamarois lol lojyolubfh loisirs loiseau loiret lointaines loin loimolac loicopezimmerman loicdombreval logos logo logistique loger logementsocial logements logement logees lofejoma locuteurs locked locaux localisme localisees locales localement locale lobs lobbys lobbyistes lobbying lobby lobbies lnobqmzyho lnicollet lnfpcttkrh lneqtvmqcx lncrevue lmucchielli lmstggzxzk llosa llf lkzrfuaokr lkp lkl lkhgfbufvo ljsiwvisgb livres livrer livrenoirmedia livre livraison liverpool lituanie littoral little litteratures litterature litteralement litteraire lithium literatura literally listen lisibilite lisez lisbonne lirons lirealimoges lirais liquidation lionelbenharous lioneebasta linstantpol linky linkedin linguistique lindner lindependant lindepe lindakebbab lincroyable lincoln limportant limpide limouzy limoges limoger limits limiting limites limiter limitations limitation lillefrance lille liliahassaine likely like liguedesnations ligue ligneh lignedroite lieux lieutenant lienard liebt liebe lidl liderar licra licornes licencieurs licencieur licencies licencier licencient licenciements licenciement licencie licences licence libyen libye libyareview libya libsoftiktok libreqg librement librairies libraires libraire libeskinddavid liberticides liberticide liberteetresponsabilite libertedelapresse libertedecirculation libertades liberta liberons liberer liberaux liberateur liberalismeautoritaire liberales liberale libanaise libanais liban lhforum lhassa lhasalu lharidonlouis lhapszsuah lgrcdjecip lgiscardestaing lgf lgbtqi lgbti lfi leze leyenberger leyen lexpress lexicale lexical lewggfxtjx levtcuzybr levriers levif leviers levier levepoing levent levant letudiant lettonie lettones letsgofrance letland lethales letetris letemps letellier letalite lesvraiesvoix lessurligneurs lessiverons lessay lesrepublicains lesrepu lesrep lesr lesquels lesquelles lespoirrevient leslilas lesjeunesavecjl lesinsus leshuttle lesfemmesavecmarine lesengagesmvt lesechos lescovidistesontquittelegenrehumain lesaperocr lesanimauxcomptent lesagey leroymerlinfr lerepu leray lequipe lequel leprojetimagine leprogrammedesprogrammes leprogramme lepoint lepine leperche lepenjm lepenise lepenesque lepen lepeltierthomas lepeltier lepassdelahonte leparisien leonard leocanardo lenyparis lentement lenombrejaune lenoir lendemain lenadormeau lemouvruralite lemondefr lemondef lemonde lemoingyannick lemoine lemicro lemediatv lemediapourtous lematindimanche lematinch lemarovingien lemanovski lemainelibre lelivetoussaint lejt lejdle lejdd lehuffpostlife lehuffpost lehembre lehavremetro lehavre legumineuses legumes legrandrdv legrandjury legranddebatlci legranddebat legouvofficiel legleut legitimite legitimez legitimes legitime legitimacy legislatives legislation legislateurs legionnaires legionetrangere legionarios legilets legiferer legerete legerement legende legendaires legendaire legaliser legalisee legalisation left lefebvre ledrian ledrenche lectures lecture lecrayonmedia lecoz lecoultre lecornu lecons lecomte lechypre lecho lecherchemidi lecher lecaussin lecannetville lecannet leboeuf lebilletdecharline lebih lebasqueroueau lebarbierdumatin leasalame leale leafiloche leadership leaders leader leabohtwpc ldkqouimpm ldh ldesprat lcyzqzfjvf lcp lclctdykzu lbwfucrqaq lbsfkrugsr lbexmsfexf laxistes laxisme lavoixdunord laving laveurs laveritepradama lavenirvv lavaur lavardec lavanguardiacat lavanguardia laval laurossignol laurentwauquiez laurentozon laurentin laurentdelahous laurentd laurent laurenceparisot laurenceferrari laurence lauren laura laupretre launetv laune laufbahn laudato latter latribunebdx latribune latoureiffel latine latina latimes latifaibnz latifa latest lasting lastampa lassallejeunes larves larrouturou larreremathilde larousse larochelle larmes largement large larepubblica larepdpyrenees laremontafa laremontada laremo larem larcher larbins larbin laramy laquelle laquais laprovence lapressemanche lapins lapidation lanvinofficial lanouvellerep lannion lannemezan lanne languesregionales langues languedoc langue langage lancons lancio lanceursdalerte lanceurs lancerons lancerai lancent lancement lancemariner lancee lancant lancait lancais lampion lamontagne laminee lameuseliege lameuse lamentable lambony lamatinale lamartine lamarsweb lamanifpourtous lamanche lalondelesmaures lallement lalibrebe lalannejy lakndance laius laitages laissons laissez laisserons laisseraient laisserai laissera laisser laissent laissee laissant laique laille laicite laic laguiole laguillotiere lagarenne lafrancenouvelle lafrancedesterritoires lafranceavoixhaute laforets laforetcat lafont laffitte laffairedusiecle laffairedusiecl lafeuilleerable laferriere lafarguemarie lafargue lafarge laetitiakrupa laetitia laduree ladroiteaveczemmour ladragonne lado ladepechedumidi lacs lacroix laconvordecitoyenne lacomme lachez lachetes lachete lacherai lachera lacher lachent lachement lachassecetteimposture lachaise lachage laceres lacerer lacerees lacere laceration lacaz labroquere laboratoires laboratoire labnf labiche labeyrie label labarthe labanquepostale labajon laat kzaomnrniq kyodagkmqo kylian kxorgnicmb kvvdtckcui kvtzqdgbvh kvgdsprapq kva kuzmanovic kuster kurtetmarvin kurds kurdistan kurdes kurde kupnji kssetr ksqujjautt krte krnaa krisnamurti krcgngmdbv kpagpypcph koweit kourou kosovohttps kosovo korcia konvergenciju konbinifr kommission kollosall kolisi kolektif koko knqubdefmx knoll knappmanuel kms klimatets klhgxnirzo klaus klarsfeld kjhspaubeq kjehkbejva kiyv kita kit kind kilometres kii kiev kieferguillaume kidnapping khomri khomfkfcqw khnejicoww khannrachel khaled khaaskr key kevinvatant kevincarrierefr kevinbossuet kevin kevelrozenn kersausonde kerraoul kerja kerbouchemath kepresidenan kenzaathanas kelly keller kehehxermx keep kdprqxvqwz kczbygzrku kbxeqmvclu kbalgmqzvz kazlsrjxjj kazakhstan kaya kawasan kaufmannbruno katiartfrance karolina karlitozero karl karimadelli kaoutarharchi kaoutar kanshlmdxn kanko kampfen kami kameravesic kamazrevenge kamardine kamalaharris kalt kahr kabyles kabyle kaboul kaam jzkykmxzbw jzfkxnbzip jzbaasuzfn jyzfcvkkyq jylqtodmll jylgallou jyhnntkhxp jwaintraub jwabxzvvnu juvingbrunet juteux justinejadot justifier justifiait justiciables justicesociale justicepouribo justicepourfouad justicepouradama justesse justes jussieu jusque jusqu jury juristes jurisprudences jurisprudence juridiques juridiquement juridique juridictions jurent jure juravier jurait jura jupiterienne jupe junior jumelages jumeaux julvincechris julietteprados juliettedz juliette julienvick juliensalingue julienmarsay julienduigou juliendive julienbellver julienbayou julien juliehenches juliegarnierfi julie julianassange julian juleturcq julescommecesar jules julcvfrqwx juive juist juin juillet juifs juif juges jugeront jugera juger jugent jugementmajoritaire jugement jugees juge judicieux judiciaires judiciairement judiciaire judi judeo juden jubile juanatkinsson jtnyrercmp jslaloy jsherpin jsferjou jroirant jrfarrgspx jreps jreneetchegaray jremnfuxjx jrbaudot jqcrmzctsx jpthermoz jpraffarin jppnulrwzl jpmignard jpm jpierre jphykgygvo jpgorges jpfarandou jpchevreux jpblazy jpa joyeux joyeuse joyau jouzeljean jouvenatpierre jours journet journeesdupatrimoine journees journeemondialedurefusdelamisere journeemondialedesanimaux journeemondialedelautisme journeemondialecontrelefoiegras journeeinternationaledesdroitsdelenfant journee journaux journalpresent journalofiha journalistique journalistes journaliste journalisme journaldunet jourdain jouisseurs joueurs joueur jouets jouer jouent jouee joue joubert jouant jouait jossbleriot josgfmtqwj josephinebaker josephine jose jordanflrtn jordan jopmagucio jonkilurit jongle jonction jolivetelisa jolies jolie joli jokowi joining joindre joignons joigneaux joie joffrin joelmergui joellebial joelbruneau joeblowywf joebiden jobbcsocyv job joannashields jnzfkqqaon jncardoux jmsermier jmmwmqwnme jmlafrance jmjancovici jmichelsquare jmgermain jmblanquer jmaphatie jlstllrsds jlmelenchon jljcmhrftj jlferracci jleidaqtel jlborloo jkswaxplqh jkqefvdhaf jjps jjl jjbourdin jiyloyffgk jinping jim jillroyerfr jgwooxbwat jgwomqgxcp jgmorxgwxx jgdsmrlazf jfrial jfelkvuyfg jfdebat jfboilley jezequel jevoteciott jevotebarnier jeuxparalympiques jeuxolympiques jeunesse jeunesrepsaura jeunesreps jeunesrep jeuneseuropeens jeunesavecxb jeunesavecjl jeunesaveciotti jeunes jeudybruno jeudis jeudiappel jeudi jettent jette jets jetez jetes jeter jete jetant jesus jesuite jessy jesoutienszemmour jesoutiensmalibrairie jesoutienslachasse jesoutiensec jesoutiensdivizio jesberger jerusalem jersey jerometellier jeromenury jeromemv jeromemoroge jeromedurain jeromebegle jeremybanctel jeremiebreaud jerejoinshorizons jep jennydemay jefjhexdfq jeffbezos jeff jefaismaba jef jeanyvescapo jeanrenaudcamus jeannedau jeanmlepiaf jeanlucromero jeanlucr jeanlassalle jeanlassall jeanine jeancastex jeanbacci jeanarthuis jds jdomerchet jdeyfpzzgw jdelpeyrat jdd jdcjdr jda jcvd jclagarde jckclyncke jcittone jcheminade jcfromantin jbpinatel jbmzujjipj jbbaud jay jaures jatte jardins jardin japon janvier jantes jancovici jamet jamais jalygqjvks jalousement jaku jajaran jaistroian jahre jahr jagger jadot jadedousselin jadecve jacquier jacquesmyard jacquesmoran jacqueslancon jacquesderosier jacquesbaudrier jacob jaclostermann jaclinemouraud jacline jackdeliz jack jaarii jaafar jaaf izvrsnost izquierda izdesjvkwe izbordes izamoreau izabela iykznlgzei ivollcdynv ivg ivermectine ivayszjoxq ivanrioufol iuwamblskh iucncongress itwhttps itw itstbrkxza itsmemirapablo itrippenbach itrippen itonckkqto italy italo italiens italien italiani italia isulacorsica istu issus issues issue issfxeiaaa israelterrorist israelpalestine israeliens israelienne israelien israel isoles isoler isolement isolees isolee isole isolation ismaelbensliman isle islands islande islamophobie islamophobe islamo islamistes islamiste islamist islamisme islamisation islamique islami islam isfclimatique iserois isere isbowkgbrc isapoumo isabellesaporta isabelledebourg isabelle irruption irrjpohwmv irritants irriguer irreversible irresponsables irresponsable irresponsabilite irrepressible irremediablement irregulieres irreguliere irregulier irrefutables irreductibles irreconciliables irrecevable irrealiste ironiquement ironie irlande irlandaise irela irefeurope iraq iranien iranenfrance irakienne irak iqagzrbuka ipvbhqlchr ipsrjwirrv ipsosfrance ipqsuptgzv iphone ipae ioucbocmtj iosgwleyun iodees inzosgmahn inxauseta invraisemblable invoquez involved invitons invites invitera inviter invitent invitations invitation invitant invisibles invisible invisibilisation invincibles invincible investiture investissons investissez investisseurs investissent investissements investissement investissant investissaient investis investirons investir investigations investigation investiga investie investi inversion inverser inversees inverse inverifiable inventer invente inventant invasion invaliderait invalide invalidantes invaincues inutilisables inutiles inutilement inutile intwittoveritas introuvables introniser introduire introduction intro intransigeants intransigeance intraitable intolerables intolerable into intl intitule intimidation intime intiative interviews interviewee interviewe interview intervient interviens interviendrai intervi intervenus intervenu interventions intervention intervenir intervenants intervenait intervenais intervalles interv interstices interruption interroges interroger interroge interrogations interro interreg interpretation interpol interpellez interpelles interpeller interpellees interpelle interpellation internet internes interne internats internationaux internationaliste internationalisation internationales internationale internationaldemocracyday international interna intermodalite intermediaires interlocuteur interimaires interim interieures interieure interieur interi interetsuperieurdelenfant interets interet interestingly interessiez interesseront interessement interesse interessants interessantes interessante interessant interdits interdites interdite interdit interdisons interdise interdisant interdirons interdire interdictions interdictiondelaburqa interdiction interculturelles interculturalite interco interactions interactif intentions intention intensifs intensif intenabl intemperies intelligente intelligent intelligence intellectuels intellectuellement intellectuelle intellectuel intellectually integrite integres integrer integree integre integration integrant integralite integralement integrale integral intangibles intacte insurrection insurgeais insupportables insupportable insupp insultez insulter insultent insultees insulte insultant insuffisants insuffisante insuffisan instrumentaliser instrumentalisent instrumentalise instrumentalisation instrumentaliees instruire instructives instructive instructions institutrice institutions institutionnelle institutionnel institutionnalisee institution instituti instituteurs instituteur institutcsa institut instituer institue instinct instillee instigateurs instaurons instaurer instaure instauration instaurant instants instant instances instance instamment installer installee installe installation instagram insta inspirera inspirer inspire inspiration inspirar inspirantes inspirant inspira inspecteurs insoumission insoumisjeunes insolite insiders insertion inserer insensibilisation insensees insensee insense insee insecurite inscrivez inscrivant inscrites inscrite inscrit inscrire inscrirai inscriptions inscription insanite inquietudes inquietude inquiets inquietez inquiete inquietants inquietantes inquietante inquietant inquiet inouie inoui inoperants inoperant inondent innovent innove innovation innovantes innovant innombrables innocentes innocence inlassablement injustifiee injustifie injustifiables injustices injustice injustes injuste injurieux injurie injures injure injonctions injections injection injectes injecter injectee injecte initier initiativespcf initiatives initiative initiatiefrecht initiateurs initiale initial inimaginables inhume inhumanite inhumaine inhumain inhab ingridcourreges ingrassia ingerons ingerence ingenieurs ingenieur ingenierie infrastructures infrastructure infra infosmouvements infosfrancaises infos informez informerons informelles informatique informant infopremieres infopremiere infopr infondee influentes influenceuses influence infliger infligent inflige inflexion inflationnistes infirmiers infirmieres infirmier infirmer infiniment infini infime infiltres infiltrer infiltre infiltration infernales infernal inferieurs inferieure infeodes infections infection infectiologue infectes infecte infantilisation infamie infame infalsifiable inexpliques inexpliquee inexplicablement inexorablement inexcusables inevitablement inevitable inertie inequality inepties ineptie ineluctablement ineluctable ineligibles ineligible inelegant inegalites inegalite inegalitaire inegalee inefficace inedits inedite inedit industries industriels industrielles industrielle industriel indulgence indonesia indocile indivisible individus individuelles individuellement individuelle individuel individualiser individualise individualisation individu indispensables indispensable indispe indiscutable indique indiquant indignes indignent indignees indigne indignation indigent indigenistes indigence indifference indienne indien indicateur india indexes indexer indexationdessalaires indesirables independants independantistes independantes independante independant independance indepassable indemnites indemniteinflation indemnite indemnises indemniser indemnise indemnisation indefectiblement indefectible indecrottable indecisions indecent indecence incurie inculques inculpee incroyables incroyable incredules increasingly incorrectes incontrolees incontrolee incontournable incontinence incontestablement inconstitutionnels inconstitutionnalite inconsequente inconsequent inconnue inconnu incongru inconditionnel inconditio inconcevable incompressibles incompressible incomprehneion incomprehension incomprehensibles incomprehensible incompetence incompatibles incompatible incombe incoherente incoherent inclut inclusive inclusion inclusif inclus inclure inclassables inclassable incl inciter incitation incidents incendie incendiaires incarnons incarnes incarnerons incarnera incarner incarnent incarne incarnait incarna incarcerees incarcerations incarceration incapacite incapables incapable incantatoire inavouable inaugurons inaugurer inauguration inattendue inattendu inassimilables inappropries inapproprie inapplicable inapercue inanite inalienables inadmissible inadequat inaction inacceptables\"\"\""
   ]
  },
  {
   "cell_type": "code",
   "execution_count": 201,
   "id": "34754d13",
   "metadata": {},
   "outputs": [],
   "source": [
    "words_known_5 = \"\"\"smartwater smartphones smartphone smaan slovenie slovaquie slogans slogan slip slerudulier slatefr skjufbyxxg skiable sketch sjallamion siya sixmlboock sixieme six sivtlmdjtx sitz situee situe situations situation situati sisterhood siphonnes siphonne sionjerome sinopharm sinon sinistree sinistre singuliere sincerite sinceres sincerement sincere since simplistes simpliste simplifier simplifient simplification simples simplement simple simonin simone similitudes similaire simeoni silvestre sillonner silicon silicium silencieux silencezemmour silence sigurnosti signore signifie significatives significative significatif signez signerai signera signaux signatures signature signataires signataire signant signaler signalement signale signait sigle siffredi siffler siffle sieht sieges siecles shrenwttbh shows show shot short shopping shooting shoot shoah shlkiiuygy shirt shift shella shell shd sharing shared share shanleymclaren shangai shameful shaistahraja shafik sgzycsyhqa sguratyuns sfournillon sfoucart sexy sexuels sexuelles sexuelle sexue sexistes sexisme sevit sevissent sevices severite severinevez seuls seules seulement seuleme seule seul seuil seuguh setp setif serviteurs serviront servira servir serviquecivique servilement services service serveur servait serrez serrerais serrer serra serpents serologiques sermeta sermentderomainville serment serieux serieuses serieusement serieuse series sergeleboulbash sergegrzesik sergegrouard serenite sereines sereine sercin serbie serbes seraphine seraphin sequestre sequencer sequelles septieme septennat sephora separent separement separee separe separatismes separatisme separation sentir sentinelle sentiments sentimentales sentiment sensitive sensibles sensible sensibilites sensibiliser sensation senor seniors senior senegal sending senatriceadk senatrice senatoriales senatoriale senatorial senateursps senateurs senateurcabanel senateur senatcitoyen senas semonce semestre semer semblerait semaines semaine selon selfi selections selectionnees selectionne selection sekadar sejourne sejour seize seit seing seigneurs seigneur segurpourtous segur seguin segregation seem seeing seditieux securitaires securitaire securiserai securiser securisent securisees securisee securise securisation securing sector section secteurs secteur secte sectarisme sectaire secrets secretr secretes secrete secretaires secretaire secretai secouru secourspop secourscatholique secours secouez secoue seconds secondes seconde sechement secgen sebvincini seblecornu sebastienlaye sebastienhuyghe sebastianjroche seance sdraperi sdf sderoyer scrutin scrupuleusement scrupules scrupule scritto scriptum scpolille scpoli scpobx scpncommissaire scotland scores score scoop scolarite scolarisation scolaires scochepain scnf scleroseenplaques sclerosee sclerose scintillement scintillante scientifiques scientifique sciencesponancy sciencespobordeaux sciencespo sciencepo sciemment scic schwartz schwab schutzen schuman scholz schmidtedouard schengen schenebault schema schallenberg scfybluakv sceptique scepticisme scenes scene scenarisee scenario scellons sceaux scande scandalisee scandaleux scandaleuses scandaleusement scandaleuse scandales scandale scaleway sbsbmojhco sbraconnier sbqiamwzyo sbetlcxlnd sbastien saying saxons saxonne saxon savoyards savons savon savoirs savoir savoie savions saving savim savignyletemple saviez savez saveurs saverne savent savait savais savaient sauveur sauveteursenmer sauveteurs sauvetage sauveront sauverons sauverlafrance sauver sauvent sauvegardee sauvegarde sauvees sauvee sauvages sauvagerie sauter saut saurons saurez saurait saunier saulve sauf saucisson sauce satures saturent saturation sattouf satisfasse satisfait satellite sarthe sarselliv sars sarrian sarrebourg sarlat sarkozysme sargon sargasses sarcelles sarcasmes sarajevo sarahelhairy sarah sapins sapin sapeurs sapent saoudiens saoudienne saoudien saone santons santonniers santementale santeendanger sanspapiers sansfacs sanofi sankara sanitaires sangsues sandrousseau sandroswordfire sandrogozi sandrine sandraregol sandrafreyb sandrafellous sandra sanctuariserons sanctuaire sanctions sanctionnes sanctionner sanctionnees sanctionne sanction sanchezcastejon samy samuelpaty samuel samu samgrzybowski samedi samaritain salute salutaire salut saluons saluer saluent salue salud salpetriere salonmarjolaine salondesmaires salon salles sallaumines salir salinguepauline salhiabrakhlia salaries salariee salarie salariat salariales salammbochott salahabdeslam salah salafistes salades salade salaam sajwqmymrd saison saisit saisissez saisissent saisir saisine saisie saisi saintsaulve saints saintpaullezdurance saintmedarddeguizieres saintmax saintetienne saintes saintefoyleslyon sainte saillie saignent saignee sahel sahabat safety safeguard safe sadiqkhan sacs sacrilege sacrifies sacrifier sacrifient sacrifie sacrifices sacrifice sachs sachons sachez sachant sacha sacerdose saccager saccageparis saccagelafrance saccage sabrinaourien sabrinabierlein sabotent sabote sabotage sabordee sabordage sablons sablesdolonne sabine saath saarsthal saajhaa ryxwvgrvnw rythme ryn ryantelke rxzzkigyio rxsnmonezq rwzworjvhg rwvbwtgnvy rwrglirtjk rwanda rvqzfjrxro rvfepvqtcc ruwmjxddej ruthelkrief russland russia ruses ruse ruraux rurales rurale ruquierofficiel ruquier ruptures rupture rungis ruissellement ruineux ruines ruiner ruine ruffenach rucppbynug ruches ruche rubrique rubempre ruang rtrurycxps rtlmatin rtlmati rtlfrance rtl rtenfrancais rtbflistener rstainville rsouveraineocc rsouveraine rsnmihjkre rshliwzvrd rsgrandest rsajeunes rrdzphzhso rquvyvuala royaumeuni royaume royal roxane rouvrons rouvriront rouvrir rouvrent rouvr routieres routeducafe roussillon rousset rousselet rousseau roulements roulement rouleau roujas rouillon rouffach rouent rouensocialiste rouen roudinesco roubaix rotterdam rothschild rossel roses roselynefebvre roselyne roquettes roquette roogafxpem rony ronds ronanpla ronan rompre rompons rompant romaricgodin romainvilliers romainville romainstutzmann romainspy romains romaindelaunay roller rolland rolfkjxcld roland rokhayadiallo rokhayadiall roissy rodrigues rodolph rodmenaf roder rodeos rodat rocheteau rochefortaise rochefort rocca rocambolesque robuste robots robotique robinreda robinet robinclotilde robertmenardfr roanne rmycmtnblg rmybrc rmluitjdhx rmcinfo rlviuzoluv rlijuraire rlbwtrrzya rjerzsmekw rivotril riverains rivalites rivalisent rivale ritournelle risques risquer risquent risque risquait rispetto rising rischi rires riposter riposte ringard rihntgrpjt rigueur rigoureuses rigoureusement rigole rigide rights right ridiculise ridiculisant ridicules ridicule ridding ridder richissimes richissime richesses richesse richardferrand richardbranson richardbouigue richard riccipsg riboud ribeiro riajdfiakk riad riace rhubarbare rhrforycjh rhonalpins rhjlmqsbpy rhinos rhinoceros rhin rgusboujfo rgljojvdjh rfxsmfpupg rftjzofvtw rfqmdxqolm reynaud revulse revueah revpermanente revoyure revonslafrance revolutionnerons revolutionnaires revolutionnaire revolution revolu revoltes revolter revolte revoltantes revoltant revol revocation revivre revivisco revivifier revitalisons revitaliser revitalise revitalisation revisionnisme revisee revirements revirement reviez reviews reviens reviennent reviendrai reviendra revez revetir reversion reversee reverai revenue revente revenons revenez revendiquent revendique revendiquant revendicative revendications revendication revenants revenant revenait reveler revele revelations revelation revelateurs revelateur reveilnormand reveillons reveillez reveillera reveiller reveille reveil revanche revalorisons revalorises revaloriser revalorise revalorisation revalider revait revaient revahelie reuters reussite reussit reussissions reussissent reussiront reussirons reussira reussir reussie reussi reunit reunissant reunissais reunis reunirai reunir reunions reunion reunies reuni retweeter retrouvons retrouvez retrouves retrouverons retrouverez retrouvera retrouver retrouvent retrouvees retrouvee retrouve retrousser retrogrades retrograderons retrofit retroactif retribuent retrecit retransmis retraitesgate retraitee retps retours retournez retournent retourne retournant retorsion retoquee retisser retirer retire retirant retiennent reticences retente retenir retards retarder retarde retard retape retablit retablissons retablissement retablissant retablissait retablirons retablirai retablira retablir retablie resumer resumee resume results resulte resultats resultat resultas restructurer restructuration restrictions restriction restricting restreint restreindre restosducoeur restos restons restituer restez resteront resterai restera rester restent restees restee restaures restaurerai restaurera restaurer restauration restaurateurs restaurants restauranteur restaurant restants restant restan restait ressurgissent ressources ressource ressouder ressortissants ressortissantes ressorti ressort ressentis ressentiment ressens ressemblent ressemble ressemblance responsible responsabilites responsabiliser respirons respirer respire respiratoires respeto respekt respectueux respectueuses respectueuse respectons respectifs respectez respectes respecterai respectera respecter respectent respectees respectee respecte respectant respect resout resous resources resoudre resonnent resonne resonance resolve resolutions resolution resolus resolument resolume resolu reslinger resistonsfrance resistons resisterons resisterent resisteraient resister resistent resistencia resiste resistants resistant resistances resistance resilience resignons resigner resignent resigne resignation reset reservoir reserves reserverait reserverai reservations reseauxsociaux reseaux reseau research rescapes requisitoire requisitions requisitionner requisitionnant requis requins requiert requete reqridbxts reputee republiques republiqueeuropeenne republiqueeuropeene republicanisme republicainsna republicaine republicaeuropea reproduit reproduisent reproduise reproduire reproduction reprocheront reprochent reproche reprimez reprimer repriment reprime repressive repressions repressionpoliciere repression repressif representing representez representes representera representer representent representees represente representativite representative representation representatif representants representant representais represent reprenonslecontrole reprenons reprennent reprenions reprenez repowering repoussera repousser repoussent reposez repose repos reporters reporter reportee reportage report reponses reponse repondue repondu reponds repondrons repondre repondrai repondra repondons repondez repondent reponde repondant repondait repondais repond reply replique replay replanter replacer replacement replace repetes repeter repetent repetees repete repetant reperer repercute repentis repentance repenser repense repeindre repassera repasser repas repartition repartir reparti repartage repart reparler reparle reparees repandue reouverture reorienterons reorganiser reorganisation reorganisant renvoyons renvoyes renvoyer renvoyee renvoie renvoi renverser renversement renverse rentrerons rentrer rentrent rentreesolennelleassas rentreescolaire rentreelr rentreedeputeslr rentree rentre rentables rentable rentabilite renseignez renseigner renovons renoves renover renovee renove renovation renouvelons renouvellement renouveler renouvele renouvelables renouvelable renouveaudemocratique renouveau renouerons renouer renoue renoncez renoncerai renoncera renoncer renoncements renoncement renonce renier renie renforts renfort renforcons renforcerons renforcerai renforcer renforcement renforcees renforcee renforce renforcant renewable renemalleville renegocier renegociation renegats renegat rendue rendu rendront rendons rendit rendimos rendezvouspourlafrance rendezvous rendez rendent rendant rencontresjh rencontres rencontrerons rencontrer rencontrent rencontre rencontr renaulttruck renault renaulflins renaudtarlet renaudpila renaudpfeffer renaudot renaudmuselier renaudfevrier renationaliser renaitrait renaitra renait renaissance renaison remylorblancher remuneres remunerer remunerations remuneration remporterons remporter remportent remporte remplit remplissent remplissaient remplir remplies rempli remplacera remplacer remplacent remplacants remplacant rempart remonter remontent remontees remonte remobiliser remixe remises remise remigration remigodeau remiferaud remettront remettrons remettre remettons remettent remette remettant remets remercions remercier remercient remerciements remercie remembranceday remedes remede remdesivir remcoknooi remboursons remboursement rembourse remarquons remarquez remarques remarque remarquables remarquablement remarquable remarkably relooking relogement relocalisons relocaliserons relocaliser relocalisation relocalisant reload relire religions religion religieux religieuses relier relevera relever relevent relents relegues relayez relayes relaye relaxe relative relations relatif relate relancerai relancera relancer relance relais relaie relaches relacher relachement relache rejouit rejouis rejouiront rejouir rejoint rejoindront rejoindre rejoignons rejoignez rejoignent rejoigne rejette rejetons rejeter rejetee rejete rejetant rejet rejanesenac rejaillit reitnomuds reiterer reitere reiss reinvestissant reinvestis reinvestir reinventer reintroduise reintroduisant reintroduire reinteressent reintegrer reintegre reintegration reinfofrance reinfocovidoff reinfection reindustrialiser reindustrialisation reindustrialisant reincarne reims reimposer reillesoult reicht reichshoffen reichardt rehabiliterai rehabiliter rehabilite rehabilitation reguliers regulierement reguler regulee regulation regulateur regularise regularisations regularisation regular regroupons regroupement regroupe regretter regrette regrettable regrets regressistes regression regorgent regnier regner regne regles reglera regler reglementations reglementation reglementaires reglementaire regionsolidaire regionaux regionalistes regimes regiments regiment regime regietpmp regards regardons regardez regarder regardent regarde regard regaliennes regalien regales regale regain refusons refusez refuserlamisere refuseraient refuser refusent refusee refuse refusant refusait refusa refugies refugiees refugie refugees refugee refugecollectif refrain refouler refoulement reformons reformistes reformisme reformes reformer reformedesretraites reforme reformatrice reformateur refonte refonder refondant reflexions reflexion reflexe reflets reflet reflechit reflechissons reflechissez reflechissent reflechis reflechir reflechi refermee referme referents referendums referendum referenda references refaire reexplique reequilibrer reequilibre reequilibrage reenrichir reelue reelu reels reelles reellement reelle reelection reecriture reecrire reduits reduite reduit reduisant reduirons reduire reduirai reduira reductions reduction reducteur redressera redresser redressement redoutes redoutent redoute redoutable redoubler redouane redonnons redonnerai redonnera redonner redonne redonnant redistribution redistribuerai redistribuer redistribue redisons redimensionner rediges redigee redige redevient redevienne redeviendra redevenir redevelopper redeployer redemarrage redemanderont redefinit redecouvre redactions redaction redacteurs redacteur recyclage recyclables recupererons recuperera recuperer recupere recuperation reculerai reculer recule recul recueillir recueilli recueillement rectifie recruterons recruterai recruter recrutent recrutements recrutement recrute recrutant recreer recree recreation recovery recours recourir records record reconvertit reconversion reconstruisit reconstruise reconstruirions reconstruire reconstruction reconstituer reconsiderer reconquit reconquete reconquerir reconnue reconnu reconnectons reconnect reconnaitrons reconnaitre reconnaitra reconnait reconnaissez reconnaissent reconnaisse reconnaissants reconnaissante reconnaissant reconnaissance reconnai reconforter reconfort reconfines reconfiner reconfinent reconfinementmoijamais reconfinement reconduits reconduites reconduit reconduction reconciliera reconcilier reconciliation reconcentrons recompensee recompense recommandees recommandations recolter recolte recollage recoivent recoit recois recoi reclamons reclamer reclament reclamee reclame reclamant recits recit recifs recidivistes recidive recherches recherchent recherchee recherche rechauffement rechappe recevront recevrez recevons recevoir recevez recevait recettes recession recepteur recents recentrerai recentrage recente recenses recensement recemment recel recarener recapitulatif recalcitrants recalcitrant recadree rebuild rebrousser rebondissement rebond reboisement rebelles rebatir rebati reautoriser rearmer rearme reardon reappreciera reanimer reanimation realites realite realisons realisme realises realiser realisent realisee realise realisations realisation realisant realisable realcindybruna reagit reagissons reagissez reagissant reagis reagira reagir reagi reaffirmons reaffirming reaffirmer reaffirment reaffirme reaffirmant reactions reactionnaires reactionnaire reaction reacteurs reacteur reacs reached rcolaisseau rcfcharente rbzbshxgfb rbrsxybkdh rbqdjftsup rbgyxfpeni rbbtlpxrul rayonner rayonnement raveaudgilles ravageur ravages ravage raulgodoy rattrapes rattraperons rattraper rattrapees rattrape rattigheters rattache ratp rationnels rationnel rationalite rationalisations rational ratifiee ratee rassurez rassurant rassemblons rassembliez rassembleur rassembles rassemblera rassembler rassemblent rassemblements rassemblementlr rassemblees rassemblee rassemblant rashbrax rasekrasek rares rarefaction rare raquelgarridofr rapprochent rapprochement rapproche rapportsauve rapports rapporteurs rapporteur rapporter rapportee rapporte rapportait rapport rappels rappelons rappellera rappellent rappelle rappelez rappeler rappele rappel rapinjf rapidite rapides rapidement rapide raphaellebacque raphaeldemontf rapatries rapatrier rapatriement rapatrie rapacite raoultmerci raoult raoulgeorges ranked rangs rangka rancune ramyshaath ramper ramlati ramer ramenions ramenes ramener ramene ramayade ramadan rallye rallumer rallier ralliant raleuseenforme ralentit ralentir rajouter raisons raisonnez raisonnera raisonnement raisonnables raisonnable raisin raisi rahcgfstdr rafjdnhpmz rafiksmati rafale rafaelmgrossi radiozinzineaix radiotelesuisse radios radiomaisto radiojfrance radiogrognards radiocourtoisie radiocourtoisi radioclassique radioavallon radieux radier radick radicaux radicalite radicalisation radicales radicalement radicale radiations radars raconter racontent raconte racoleur racolage racketter rackettent racket racisme racises racisee raciale rachidtemal racheter rachete races raccourcissement raccompagner racailles racaille rabotage rabbidelphineh rabatteurs rabaisse rabaissant qzwbyxhehp qxitiugwbi qxakhjbdes qwtjiqkbuc qwiblcuvtb qvxmjbymsl qvxmjbhbbd qvscbszvjf quotidiens quotidiennes quotidiennement quotidienne quotidien quotidie quotas quota quittons quittez quittes quitterait quitter quittent quitta quisiera quirinale quirinal quinze quinquennats quinquennat quinquenna quinquenat quinet quimper quilleret quignon quiconque quiches questo questionspol questions questionpol questionner questionnements questionnement questionne questionnaire question questcequevousfaitesdupognon quentintaieb quentinponzz quelques quelquechose quelque quelqu quelin quelconque queer quedelacom quatrieme quatre quatorzieme quatorzaine quasiment quasi quartiers quartier quarante quarantaine quantites quantite quantifie quand qualites qualitedelair qualite qualifies qualifiera qualifier qualifiee qualifiant quaidorsay quadruple qtkwrkanuy qsmylajies qrrduelptn qqc qofficiel qnysekfkdi qnnejuyuyp qmjghewlfv qlq qlcymrttsf qkxaaqbwbx qkupwjeaeo qjyphtfhky qjavfaavoc qiuxpqspjq qhqjejqbgb qfxbtsqklb qfovphsumo qfhydgclyk qdwpsqmwsu qatar pzxrkweqbt pzpjbebnlw pzeydolgbq pytfqxrvbn pyromanes pyreneens pyjbdlqzqs pychkfkdue pycadalen pwc pvrldtdatj puzzle puylaurens putschmedia putatif push pursfder purificateurs purger purgent purge purement pupilles punitive punition punissant punir punchlines punchline pulseofeuropeac pulls pullpvkkhn pullgate pull pujaudran puits puissions puissent puisse puissantes puissante puissances puisque puisqu pugnator pueblo published publiques publiquement publions publies publier publient publiees publiee publie publicsenat publics publicites publicitaires publications publication publicati publiait ptits ptd psychologuespsychotherapeutes psychologuescliniciens psychologues psychologique psychiatrisation psychiatriques psychiatrie psychiatres psychiatre psychanalytique psychanalystes psy psrhone pspariscentre psoe psk pseudofeministes pseudo pschydlowski pscarquefounort psbesancon pryaavrnn prussien prusse prudents prrdigitxp proximites proximite provoquer provoquee provoque provocation provocateur provisoire provinciale provinces province provient providing proverbe perennisation perdus perdurer perdues perdue perds perdrions perdre perdons perdent perdao perdants perdante perdamaian percutantes percoit perclus percer percees pepitolover pepites people penuries penurie pentecote pente pensions pensionnaires pension pensez pensees pensee pensants pensant pensance pensalfini pensais pensaient penibles penible penetrer penetre pendus pendaisons pendaison pencher penche penalisera penaliser penalisent penalisee penalise pelotons peloton pelissier pelaku pekin peintre peines peinent peine peifer pehznpwjup peggychendo pedocriminels pedocriminel pedocriminalite pedagogiques pedagogie pecuniairement pecresse pecre pechonjeanne pechiney pecheurs peages peaceandlau pdzmjbxpwg pdurandofficiel pdte pdt pdsomeehfl pdg pdf pdatv pda pcr pcq pcinq pcdmnq pcbaguet pcanfin pbvpoznggu pbloche paysdelaloire paysans paysannes paysanne paysan paysages payons payet payer payent payants payant payait pavillons pavillon pauvrete pauvres pauvre pausestv pausefun pause pauperisation pauperisant paumee paulneau paulmgt paulmelun paullarrouturou pauljbelcher pauline paulhac paulfournier paulbazin paulaforteza paty patures patterns patte patsebastien patrycjagrzebyk patrouille patrons patronat patronales patronale patronal patron patriotisme patriotiques patriotique patrickrogere patrickkanner patrickhetzel patrick patricecali patricebessac patrice patriarcat patriarcales patriarcale patit patissier patine patients pathologies pathetique patent pate patchwork patate pasunedeplus past passvacinal passsanitairedelahonte passoires passoire passivite passivement passions passionnes passionnement passionne passionnants passionnantes passionnante passionnant passion passif passeurs passesanitaire passerelles passerait passera passeportsanitaire passeports passeport passent passees passedelahonte passation passants passante passant passanitaire passageterre passages passager passage passablement pasqua pasion pasifik pasdesac pasdeclimatpasdemandat pascalverdeau pascalriche pascalpraud pascalpointud pascalperri pascallevoyer pascaldeparis pasaran pasados parvis parvient parviendrons parvenues parvenu parvenir party parts partout partons partnerships partners partition partisocialiste partisans partisanes partisan partis partiraient partiradicalg partir partiels partielle partiel particuliers particulierement particuliere particulier particular participez participeront participerai participera participer participent participe participation participatif participar participants participant partianimaliste partianimali partianima partialite partent partenariats partenariat partenaires partenaire partei partant partait partagez partages partagerai partager partageons partagent partagees partagee partageant pars parrains parrainez parrainer parrainent parrainages parrainage parrainables parrainable parraina parrain parra parquet paroles parole parmi parmalgre parlonsdroitdutravail parlons parliamentary parliament parlez parleront parlerons parlerait parlera parler parlent parlementsleden parlementscpo parlementaires parlementaire parlant parlamentoeuropeo parlait parlais parispremiere parispasrose parisonalain parismatch parisjulien parisiens parisiennes parisienne parisberlinmag parigi parias paria parfu parfois parfaitement parfaite parfait parf paresse parents parentale parental pareille pardonnez pardonnerai pardonne parcs parcoursup parcours parcourir parcequ parce parc paraylemonial parasitisme parasites parasitaires paranoiaque parametres paralyse paralysant parallele parainages paragraphe paradoxe paradoxale paradis paradigme parades parader parade paradait parachutistes parachutee paquet papy papon papissson papiers papier papers paperasse paper pape papacito paolo pantouflage pantonier pantin panthers pantheon panneaux panneau paniquent panique panini panier panels panel pandore pandorapapers pandemies pandemie pandemic panachevert panache paludisme palqkwtghx palomamoritz palme palmares pallie pallice palliatif palier palestiniens palestiniennes palestinienne palestinien palais palaces pakistanais pakistan pairot paies paieront paiera paient paiement paie paf paddy padd pactevert pactehdf pacobatali pacifistes pacifiste pacifiques pacifiees pacific paceeurope paceeuropae paceeuropa paceencabourg ozprkmxlfg oyrisnkvoo oyatuaavoj oyapock oxzmypblir oxzkgxsdic oxfxggutww oxfamfrance owizlkfzel overtygelse overcome ouvrons ouvrira ouvriers ouvrieres ouvrezlesyeux ouvrages ouvrage ouvertes ouvertement ouvalepognon outsider outres outremers outremer outrancieres outrance outrageants outrageant outrage outils outil outcome ourselves ouqexgpzet oulaldj ouisncf ouiistes ouighours ouiausecretmedical oufggiaywk ouestpengshuai ouestfrance oubrou oublions oubliez oublies oublierons oublient oubliees oubliant ouagadougou otvorenost ottawa otra othorendsen otez otage osurennes osnivgryvf osezlefeminisme osez osete oserlafrance oserez osera oscille osce orwellien orwell orthodoxes orsec orphelins orphelin orpaillage oror ornaises ornais orly orleans orjeuliwbj origines origine originalite originale original originaires originaire origin orientes oriente orientations orientation orientales orient orianewegner orianemancini organizzazione organizing organizations organisons organisme organiserons organiser organisent organisee organised organise organisations organisation organisateurs organisant organigramme organi organes organe oreilles oreille oreal orduriers ordurieres ordure ordres ordonnances ordonnance ordinateurs ordinateur ordequesti orbite orbanise oranges orange oqtf oqnzmikldo oqhrdiwsjp optimiste optimiser opticollin oprxuarwfm oprgkgsoiu opprobre opprimes oppriment opprime oppressions oppression oppresse opposons opposition oppositie opposes opposerait opposer opposent opposees opposee oppose opposants opposant opportunites opportunite opportunistes opportuniste oppenhetens opinionway opinions opgeschort opfer opex operer operationsirli operaient opening openeurope opened opaques opacite oolkojhmlo onze ontilsditca onnelacherien onnaing onlypotstill only onlacherien onfaitautrement onevoiceanimal onesto oneonlyearth oneggrlmvm onanisme omwhpayomc omnipresence omjrkbnxwq omicronvariant omicron omerta omarsy omar ollivier olivierveran olivierrichefou olivierfaye olivierdussopt olivierduchayla olivierbabeau oliviapolski oliviagregoire oliva oligarques oligarchie olbesancenot olaf oktober okapi ojnfadiffs ojgzdtfuow oisifs oies oiafnxqiet ogosfwbdrl ogives oggi ofxanltljb oficio ofg offusquer offusque offshore offrons offrir offres offl officines officieux officiers officiels officiellement officielle offices office offerts offerte offensive offensif offenses offensante ofaj oeuvrons oeuvrer oeuvrent oeuvrant oeukmahweb oeqacjxmbu oeilleres oeil oeed oebrkdoksv odysee odrjhejsrp odoxasondages odlukom odlsqajzgs odieux odieuse odietvincent odeur ocxgxzvbej ocupar octroie octobre october oceans oceanefm oceane ocean ocde occupez occupes occuper occupent occupe occupations occupation occultes occulter occulte occidentaux occidentales occidental occident occasionnels occasion occas obut obtient obtenues obtenue obtenu obtention obtenons obtenir obtenez obstruction obstination obstacles obstacle obsevydial obsession observons observer observe observateurs observateur obsedee obscurantiste obscurantisme obrane obono oblinghem obliges obligera obliger obligent obligee obligeant obligeait oblige obligatoires obligatoire obligationvaccinale obligations obligation oblig objet objectivite objectives objection objectifs objectif obispopascal obikcduulv obesite oberruyer obeira obeir obaynast obama oakvmhhtty nytimesworld nytimes nyssen nypost nyk nydqeickgy nwcqnnkmmr nvx nvvirvfkik nutsvcwozw nutdjbbapv nusbcyqwgu nuremberg nuraawmyob nuoakfcjhh numeros numero numeriques numerique nullement nulle nulla nuits nuisible nuisent nuire nuewuteegr nuestras nuclear nucleaires nucleaire nucle nuances nuance nuage ntptwlfwxh nsidnbthij nshanouna nrxjehwwep nrv nrstytwllw nrblois nqbtiwqmoe npolony npapoitiers noyon noyes noyee noyau novu novembro novembre novak nouvellerepublique nouvelledemocratie nouvellecaledonie nouvelleaquitaine nouveaux nouveau noustoutesorg noustoutesaveczemmour noustoutes noustout nouspresidents nouspresidentes nousfrance nouscitoyens nourriture nourrit nourrissons nourrissent nourrir nourricier nourri nouri nounou noumea nouer notrmaisonbrule notres notredamedeparis notredame notreaffaire notoriete notons notion notinmyname notes noterez noter note notamment nostalgique northern norpain normative normatif normands normandealwine normalite normales normalement normale nordiques nophkgghvm nopasaran nonstoppeople nonpasssanitaire nonauvaccinobligatoire nonaupasssanitairedelahonte nonaupasssanitaire nonaupassedelahonte nonaupassdelahonte nonaumasquescolaire\"\"\""
   ]
  },
  {
   "cell_type": "code",
   "execution_count": 206,
   "id": "5ec25afa",
   "metadata": {},
   "outputs": [],
   "source": [
    "words_known_6 = \"\"\"proletaire projets projeter projetee projections projection prohibition progressivement progressive progressistes progressiste progression progressif progresser progresse progress progres programmee programmation profondeur profondes profondement profonde profonda profits profitez profiteurs profiter profite profit profils profile professions professionnels professionnelles professionnelle professionnel professionnalisme profession professeurs professeure professeur proferees produits produite produisons produisiez produisant productivite productiviste productions productif producteurs producteur producer prodiguer prodigieux procureur procurer proclamer proches prochains prochaines prochaine prochain processus proces procedures procedure proceder procede procedant problemes probleme problematiques problematique problem proble probablement probable probabilite prixnobel prix privrtn privilegions privilegies privilegier privilegiee prives priveront privera priver privent privees privatisations privatisation privatisa privations privation prisovet prisons prisonniers prisonniere priscathevenot priorites priorite prioritaires prioritairement priori printemps print prinnaamon principesrepublicains principes principe principaux principales principalement principale principal princi princesse primordiales primordial primeurs primaute primary primaireteam primaires primairepopulaire primairepop primairelr primaire prieres priem prevues prevue prevu prevoit prevois prevoira prevoir prevoient previsions previent prevenus prevenu prevention preventif prevenir prevarication prevalant preuves preums prets pretresses pretres pretexte pretextant pretes preteront preter pretention pretendue pretendu pretends pretendre pretendant pretendait pretend prestigieux prestigieuse prestations prestation pressionner presses presseocean pressenti presque presq presomption presles presizemmour presider presidenziali presidentiels presidentielles presidentialismes presidentialisme presidential presidentdesriches presidenciales presidee preservons preserver preservent preservee preserve preservation preservant presents presentons presentiel presenterons presenterait presenterai presentations prescrire prescriptions prescription prescience prerogatives preparons preparer preparent prepare preparant preocupaciones preoccupes preoccuper preoccupent preoccupe preoccupations preoccupation preoccupants preoccupante prenom prendere prenante prenais premunir premonitoire premisses premiers premierministre premierement prema prelevements prelevement prekretnicu prejuges prejudice prehoifkve prefpolice prefigure prefets prefetoccitanie prefet preferiez preferez preferes prefereront prefererait prefereraient prefererai preferentiels preferent preference prefere preferaient prefectures prefecture prefectorale preface pref predominance predit predisais predecesseur predation predateurs predanost precurseur preconisez preconisent preconise precommande precoce precisons precisions precision preciser precisement precisely precise precis precipitons precipiter precieux precieuses precieuse precheurs prechant precedera precedents precedent precedee precede precaution precariteenergetique precarite precariser precarisation precari precaires preavis preambule prealable preadhesion pratiques pratiquer pratiquent pratique pratiquants prasidentschaftswahlen prancis pragmatisme pragmatiques pragmatique pradesh pqhvpkvnln ppxrgurzvy pppnwkvmbz ppouyanne pplanimaux ppinzler ppillaudvivien pouvons pouvoirdachat pouvions pouvez pouvait poutou poutine poussee poussant pourvus pourvu pourtant poursuivre poursuivra poursuivis poursuivie poursuivi poursuivent poursuivant poursuites poursuite poursuit pourront pourrons pourrit pourrissent pourrissaient pourrir pourrions pourriez pourrie pourri pourrez pourrait pourrais pourraient pourrai pourra pourquoi pourlerassemblement pourchasser pourchassent pourboires poupoulequi poumons poulin poulidor poulets poulain poudroux poudriere poudre poubelles poubelle potjtsyunq potes potentiels potentielles potentiellement potentiel potentialites pote potasse potagers potable postverite postuler postulent postulat posts posto postes posters postehabitat postdoc postavlja postaux posssible possiblement possibilites possesseur possedait positivisme positive positionne portugal portugaise portugais portuaire portraits portrait portez porteuses porterait portalezregis portail porque pornographie porcherthomas porc populusre populations popularite populaires populaiiiiiiire popote ponts pontifex pontdestrous ponga poneys ponerle poncetraymonde pompiersparis pompeusement pompes pompe pompairain polynesie polska polono polonewsbfm polonaises polonaise polonais pologne pollution polluer polluent pollue polluants polluantes polluante polluant pollowcountries politis politiquementvotre politiquement politicoeurope politico politiciens politiciennes politicienne politicien politicards political politesses polisci poligny policies policiersencolere policiers policetire polices polemiste polemiques polemiquer polemique polemiq poleemploi poland poizjndjws poitou poitiersfr poitevin poissonzemmour poisson poirier pointent pointeapitre pointais poings poinat poilus poignee poignarder poignard poignants poete poesie poel podre podencos podemos podcast poches pobledemocratic poble pobauhepiy pnlvozvlir pnkre pnasnews pmnrflnpnf pmcouteaux pmarlier pluvieux plutot pluspourlesfrancais pluslibq plusieurs plusbellelapolitique plurielle pluridisciplinaire pluraliste pluralisme plupart pluie pludosky plr ploubref plongee plonge plombent ploermel plkwcvcloi plions plierons plhi pleuvoir pleurniche pleurer pleurent pleure plethorique plenitude pleinement pleineme pleine plein pledge plebiscites plebisciter plebiscitent plebiscitees plebiscite playmobils playlist playchateaudun plats platres platform plateformes plateforme plateaux plateautv plateau plate platanes plastique plants plantourisme planterons plantees planque planoise planifies planifier planification planete planetaire planet planchers plancher planbastille plaisir plaisent plaisanterie plaintes plainte plaint plains plaignent plaidoyer plaidoy plaide plaidait plagiat plages plafonner plafonds plafond placerepublique placepublique placedarmes pktpxjfdnb pkorcia pkiuqoqmop pjouvet pjosephgallard pjmjnmtsfo pjlsanitaire pjlprotectionenfance pjlprotectiondesenfants pjl pjanuel pjacquemain pivot piu pitoyables pitie piteusement pistolets pistolet pissarro piscines piscine piqure piquer pipi piotrszut pionnier pinson pink pinera pinces pilotes piloter pilotee pilote pilotage piloris pilleurs pillent piliers pilier pikmiiiiiin pikettylemonde pieux pietons pietonnes pietinent pietinement pietine pierron pierrickcourbon pierreniney pierremonquet pierreliscia pierrelepel pierrekanuty pierrejovanovic pierrefrogier pierrecharon pieges pieger pieds pieces piece pictanovo pichon picardie pib pianiste pian pialoux phzctgbyav physiques physiquement physique phuvwdbvvb phuc phreatiques phrases phrase photovoltaiques photography pholivierrn phoceenne phobies philthuillier philouisxv philosophie philosophes philo philippot philippetabarot philippepoutou philippemurer philippelacoche philippejuvin philippeherlin philippefurlan philippedallier philippecochet philippealcoy philadelphie phgosselin phenomene phenomenal phenix phdumont phdevilliers phase pharmacies pharmacien pharmacie pharmaceutiques pharmaceutique phares pgttnkzytd pgtqbnwtle pgterapbwo pgriselin pfzeqxfcsv pfizero pfizergate pfizer pfcqrujfvw peux peuvent peuples peuplement petronin petroliers petrole petitrobert petitions petites petite petitbleuagen petanque petain pestrasbourg pesticides pesticide pesseguier pesquet peser pesent pese pervers perturbe perturbateur pertinents pertinente pertinence persuades persuader persuadee persuade perspectives perspective perspe personnes personnels personnelles personnellement personnelle personnel personne personnalites personnalite personnages personnage persone personam persistent persiste perseverance persecutions persecution persecuteur persecutees perry perrut perronne perron perret perquisition perpignan perpetuer perpetuellement perpetue pernautjp permissions permissif permise permis permettront permettre permettrai permettra permettez permettent permette permettant permets permet permanentes permanence periurbaine perissent periscope perirent periple peripherique periode perilleuse perihal perigord perhaps performants performantes perezretour perez peres pereoliviermaire perennite perenniser paye nouvelles nouvelle mhtvaakaankssaaon men mdseur mdeur match hind hain eururos eur dingue deja council zztmolkjwh zyed zyebpncays zxslhpazyv zwnvrkcppj zwitter zwchgtrruy zvhihnkajp zvbztcipnw zuwovtjrhy zusammenzufassen zusammenarbeit zuoegwfzcq zum zrakoplova zrahbfvtfx zqlmtyfbzz zorgelijk zoran zoonoses zoom zones zonemilitaire zoneinterdite zone zola zoakhsmcrl znqsaupxoi znqrwmdsio znpsydihaq zmlvbhpzvy zmijampbdc zmgtiwtsjp zmbjozfqit zmaaetoqua zjvxavifho zjeebpxqnn zineb zinck zielinskicarole ziaten zhxfazvbao zhnqlbuzhl zhncgpwjzf zgpocyequc zgnkzlfkxw zfocoyuonj zewvsqlqzp zeugen zerocovid zenith zemour zemmourvsmelenchon zemmourtaddei zemmoursecondtour zemmourprofs zemmourmarseille zemmourles zemmourienne zemmoureric zemalja zelee zelande zelandais zeitparisberlin zeitonline zeclint zdfheute zcqpqjvfev zbwvwvpbsy zayed zamuqeljcb zajedno zagreb yzxvvqmutl yywmosifmn yyuajreaww yyevlyvvlj yyecaiwsos yxhwtklbtz yxexnaqsjw yvpkvdkcux yvette yvespdb yvesgourmelon yvelines yugicfcxvg ysqgymbsoq yqwzgigdrs yqncmjqghk ypomoatquz youtubeurs youtubeur youtube youtopiafrance youtopia youss young yougovfrance youbrak yorrodolph york yolanda yoann ynpaefabum ykieaxnfzr ykfihkguzn ykacztolxi yjnarrvlrs yjadot yjad yhxxgirdxq yhvhkjjbtc yhupwkrwgg yhanpb yhafizhgij ygoosz yfxbicgyvt yesterday yesss yerres yemen yeezlouise years yeah yckruacctz ybertoncini yassinebelattar yassine yannmassicard yannicktrigance yannickneuder yannickmoreau yannickhoppe yannickbrohard yanmdi yang yanbnlsmnj yakni yakadansertt yacsgeqpkx xzjzkoneub xyvbbshdqa xymediafr xygpwwspyv xyfzlbdgyu xyfwpuvuqm xxzvthiafo xxpokdyiqc xxl xxie xwwiqjgxsz xwvhftqial xvjfsgxtxi xvdefrance xuwxqhfkdz xuan xternisien xsxjlpbksp xrmhlwjdjn xpdwosspur xonemidjfs xojvssrlyf xnontrdkur xmuveojzms xmuobfggcg xkwpzlrheq xkvxunhclt xknglkgyen xkcd xivrhxaumz xinjiang xijinping xhivdrnhze xhgprxgexb xfedorova xewcsyswbh xenophobie xenophobe xeidkghfgm xecmydyukq xdxpgkyevv xdnfwfdwkf xcxlcncnht xcxlcmvbtj xcppfuivhk xcgxxzudxm xbhnuzvurz xawjvqwdtr xavierbertrand xavierbe xavier xarrajvdig wzmvvgabpo wynklvakwb wykabtgmse wxxdjispao wwsttznzfv wwmqybidoi wurdigt wurde wunschen wtyppxmkyk wtwafxhtvl wtqbyrxkbc wsvrrbujgz wsttdryvxd wsjournalbrk wrwxmtnvec wrpovfwmkc wrixhemytk written wrc wrap wqntbphzyj wqiqxzhlbd wptgjovaku wpohuvoyvd wozuthfsga woygolfqdk would worse worldpride worldiswatching worldchildrensday works woookistes womeogtgpr wolf wokistes wokisme woke wofcbrozrg wnxdvuxcpm wnpzqdrhru wncoxepoxe wmvhumyvka wmnazkbdzs wmhxmbjyqq wknphnkzcs wkcxmjoqtx wjtixyphji wjebamhibi wjbzgqjhmg wjbtpcchbi wittenheim wittelsheim without with witam wish wird wiqczveevt wipxplklta winslowisabelle wimocean willyschraen willylfi william willfrelon will wilkommen wilcallef wikipedia wien wide whose whom whole who whirlpool which whether whereispengshuai where when what whaosugycd wfzfdwjpya wettolsheim wetieebxgv were werckman weo wendybouchard wendybou welle welcomed welcome weinberg weight weigh weigerung weidman wehxqaktnm weekend week wedding webqam webinar webcam weapons wcuqzrminr wcanezlgcy wbvmvnndtf wazemmes ways wayonfpkdh waukesha wattebled waste washingtonpost washington warming warmest warm waqtahuidj want wamosair wallybordas wahabisme vydfzgxwcs vxuyqbffxv vxatnlkpce vuvjbgfznp vulnerables vulnerable vulnerabilite vulgaire vukuzman vuivwyufpr vtyemcntkr vtrillet vtiftmzjzb vtcawtabbd vtajyjdlxe vsopzymyzu vsmexxmjbf vsaqojhbje vrijednosti vraisemblablement vqtotbtjjm vpmbmkhido vpecresse voyous voymokrjpj voyeurisme voyageurs voyageur voyages voyage vox vouvray voute vouseteslarepublique voulues voulue voulu voulons vouloir vouliez voulez voulant voulait voulais voulaient vouee voudront voudrait voudrais voudraient voudra votxiuejuf votez votethiscapdown votes voteront voterai votera voter votent voteblancnd voteblanc votation votant votait vosgiens vorrebbe vont vonderleyen vomit vomir volupte volumes volume vols volontiers volontes volonte volontariat volontaires volontairement volontaire volksinitiatief volker voleurs volet volent volees volcan volatility volatilite volailles voixeurope voixdunordlille voixdunordarras voitures voiture voisins voisinerie voirie voire voilees voila voies voici vogel voeux voeu vocations vocabulaire vnhnkschmc vmauricard vlacroute viziju vivrons vivriere vivreensemble vivraient vivons vivions vivienjulhes vivez vivesfr vivent vivement vivelefeu vivante vitrine viticulteurs vitesses vitesse vitaux vitalite vitales vitale visualiser visiteurs visites visiter visite visionsdeurope visionnaires visionnaire visionnage visioconference visibilite visegrad visceral visas visant visages virystephane virtuelle viroulaud virnaconti virin virilite virginievotier virginiedelalande virginie virer virent virely vireeuqiyb virale virage viqhxzfyjd viols violeurs violer violents violentes violente violentant violent violencesfaitesauxfemmes violemment violations violation violant vins vingtaine vingt vinciairports vincentlambert vincentjeanbrun vincentglad vincentbollore vincennes vimlkqfbwe villumsen villeurbanne villes villepelet villedelavaur villedegrenoble villedecluny villeclichy villebarou villanicedric villages villagefederal vilaine vila viktor vigueur vigoureux vigoureuses vigoureuse vignot vignettes vignerons vigneron vigilants vigilant vigilancesanitaire vigilance vigi vifs viffcfuhrn vietnamien vierge vienet vieillir vieillesse vieille videos video vidalencthierry victorrouart victorieux victorieuse victoria victor victoirezemmour victoires victoiremelenchon victoiredetouslesfrancais victoire victoi victimise victimes victime vichycommunaute vichy vibrer vibre vibrants vibrant viaoccitanietv viande viable vhnbspvzzx vhfqayhksd vgulsfvpfn vgroues vfawsjxaqa veuves veulent veufs veterinaires vetement vetele vestiaire vesoul verymicky vertus vertueux vertueuse vertigineux verticalite verticales vertebrale versons versez verserai versent versements versailles verrouilles verrouiller verrou verrez verre verrait verraient veroniquegenest veroniquebesse verolouwagie verolee vernon vermoulu vermine verlasst verity verites veritables veritablement veritable verifies verifieront verifier verifiees verifiee verifie verifications verification vergogne verepublique verena verdun verdoyann verdir verdict verdatres verbesselt verbalisations verbales verbale verbal verandemission verabschiedung veolia venturaalba ventriste ventre ventilation ventes venise vengedou vengeance venga venezuela veneznombreux veneziano veneree vendu vendredilecture vendredi vendre vendent vendee vendanges veloutes velotafeurs velotaf vejkraaugq veines veillerons veillent veillait vehicules vehicule vehbjdhswe vegetariens vegetalises vegetaliser vegetaliens vegetale vecues vectrice vdwiuujvap vdnlille vdnlens vdnhenin vcp vcmqaxxdqa vbqldbiegy vbkpubbcco vbazinmalgras vautours vaut vaugirard vaudra vaucluse vauban vatican vassalise vassale vase vascille vart varois varmatin varlden variole varies variants variantomicron variantnu variantesudafricana variable vargas vardena vantant vanite vanhonecker vandalisme vandalisees vancouver vampirisent vampirisation valrouffiac valoriserai valoir valneva valls valley vallees vallee valises validite valez valeurs valeureux valeureuses valeur valerien valerieletard valeriehayer valerieguerout valentine valentin valenciennes valence valdoise valdemarne valait valable vaisselle vaisseau vainqueurs vaincrons vaille vaguevertemedia vagues vague vaezstkppd vaeznpftzf vacquer vacillent vaches vache vaccinsnon vaccins vaccinons vaccinolatre vaccinodromes vaccinez vaccines vaccinerons vacciner vaccinees vaccinaux vaccinations vacants vacancy vacances uzqaccoyac uyuplbnzaw uxuxbjqxic uvsqfacdsp uvsq uvpmtqozom uvnpxzhxbh uutcwhxpjm uujuxmyife uttetyqwza utszqeotwc utopistes utopiste utopie utilite utilisez utilises utiliser utilisent utilisee utilise utilisation utgor utama usurpe usual using usieefrqkw usees used usatodaydc usagers usage usaelect ursula urss urgently urgentes urgente urgences urgenceclimatique urgence urgemment urbanistique urbanisme urbanisation urbains urbaines uranium uqqgnrapga uqjduuiuop upwtunornk uoyiagzajw uoxijvwijl uomo unwomen untuk unterstutzung unserer unpacking unpack univparissaclay univgroningen universites universite universitaires universitaire universelles universelle universel universe universalistes universaliste universalisme unitesgppolice unitaires unissons unispourgagner unisdansladiversite unisce uniquement unionsuez unionpopulaire unionpoplyon unioneuropeenne unilateral unikobro uniformisation uniformes uniforme unifier unifiee unifiable uniedansladiversite unidas unidad ungemach ungeimpfte ungar unfrontpopulaireecologique unerwunscht unep uneftacle unefrancenouvelle unef underway undertaken uncitoyenpourpresident unbeknownst unanimite unanimes unanime unadulescent umoqloplfn umekbcbyuj ultras ultrariches ultramarins ulster ulsrgkuqtx ukraine ujwkbgpuhw ujwcyablva ujml uisjzopniy uhutwehjkq uguqedeprc ugkeyinptk ugap ufzitbtzoe udcch ucxovebcvc ucxhcqupnf ucgyeakdpd ucciani ubxzzymofh ubrjljxiah uboliver ubciqbicdb uaybcikgmr tzycitxxjj tzdayygwwh tzaabxibmc tysolf tysol tyrans tyrannisee tyranniques tyrannique tyrannie tyran typique tyercogyur txtkpeoyus twtekkrasd twogfr twittersupport twitterfrance twitter twitchfr twitch tweetos tvoff tvmwiwuqno tvlofficiel tuxtititux tutelle turrel turquie turques turque turns turevwahkx tunisie tulle tugdualdenis tueur tuerie tucfsgzmby tube tuaient tthos tsyjylnglv tsunami tstgvecvuv tsauvtuxgk trying trusts trust trumperie trump trujillo truchot troyes trouvermonmaster trouveaurelie trouvaient troupes troupe troujours troubles troubler trouble trottoir trottinettegate trotskiste tropisme trophees troops tronc trompez trompent trompe trolls troisieme trois trocadero tristesse tristement tristantottet triplerons tripler triplement triple tripatouillage triompher triomphant trinquer trinquent trimestres trimestre trilogue trilaterale trigger trifetezeo tricolore trichet tricherie tricher tricastin tributaires tribunesescp tribunes tribunedesgene tribunaux tribunal treve tresors tresorier tresor trepentin trentedeniers trente trempees trempe tremblez trembler tremble trebuchantes traversent traversees traversee traverse travers travaux travaillons travailleuses travailleuse travailleurs travailleur travailleront travaillerait travaillera travailler travaillent travaillees travaille travaillant travaillaient traumatisme trattato traquons traquer trappe traore transversales transports transportons transporteur transporter transporte transport transpirer transphobie transphobes transpartisane transparent transparency transparence transmission transmissible transmissibilite transmise transmettre transmettent transmettant transitionenergetique transitionecologique transition transit transidentite transgression transgressif transgenres transgenre transformons transformer transforment transforme transformations transformation transferts transfert transfere transdev transcende transcendance transatlantiques transatjv transatjacquesvabre transactions tranquillou tranquillite tranquillement tranquille tranches trancher trams trajets trajectoire traitres traitre traitons traitesultraliberaux traitesulterieurs traiteront traitent traitements traitement traitants traitante traitant trainsdu trains traines trahit trahissent trahissant trahisons trahison trahis trahira trahir trahie trahi tragique tragedies tragedie trafiquants trafics trafic traduit traduisent traduire traduira traduction traditions traditionnelles traditionnellement traditionnelle traditionnel traders tractage tracer tponamale tpmppeople tpmpoff tplxypoxbw toyotafrance toyota toxiques toxique toxicomanes toxicity toward toutvaccinal toutou touteleurope toutefois tousmobilises touselus tousanticovid tournons tournions tournees tournage touristes touriste tourdefrance touquet touny toulouse toulousaines toulousain toulonnais toulon toulo toujours toujour toujou toujo touillettes touchezpasauxenfants touches toucheront toucher touchepasauxenfants touchent touchees touchee touche touchant totem totalment totally totalling totalite totalitarisme totalitaires totalitaire totales totalement totale total torturer torture tort torpiller torpille tordu tordant topofthefoot tonnerre tondre tomwgvdmeer tomorrow tombons tombez tombes tomberent tomberai tombera tomber tombent tombee tombe tombant tolle tolkien tolerer tolerat tolerance tokyoc tokyo toits toit toilette together toddvousobserve todd tocards tmwkaojytu tmhowizykp tmggyqjphp tlnpqmawht tlequertier tjxy tjrs tjolmdtgdy tjmgxkpcut tiwaka titrent titree titre titrait tissu tirs tires tirent tirees tiree tirage timss timore timogalvaire timmermanseu timide tilloy tijqc tiggdaptdp tifanymarine tiede tickets ticket tibochevillard tibertiadrien tiberti thzxohbejq thus thursday thumesnil thuliqifya three threat thread thoughts those thorium thorez thorax thomassotto thomassnegaroff thomashochmann thomasgsavage thomasdovichi thomasbyrnetd thomasbauder thomasbaietto this third thinker think thillagnes thijs thierrymoreautm thierrybreton thierache thibaultgrosse thibault they thetimesscot thetimes theses thermiques thermique theresajkuhn therapies therapie therapeutiques theorisent theoriques theoriquement theorique theories theorie theoricien theologique theologiens theodutrieu thelordofcorona their theindependent theatres theatre theatraliser thea that thanks thank tgv tgooqlgted tgbompjcsj tfue tfchtqqulv tfarm textes texas tetumag tetes tetap testspayants terus terroristes terrorises terroriser terroranschlag terroirs terroir territory territoriales territoriale territorial terrifiant terriens terribles terrible terreur terret terrasses terrasser terrasse terrains terrain terminal terminais termes terhormat teresaribera tentez tentee tentatives tentative tentation tentante tensions tensioni tennisjeremy tennis tenions tenggara tenemos tendresse tendanceouest tendance tenait tenais tenacite temporelle temporairement temporaire tempete temperatures temperature temoins temoignera temoigner temoigne temoignant temoignages temoignage tells tellement televisuelles televisions television televises telephonie telephoner telephone telemaque telegraphiste telegram telefilm telechargez telecharger tejooeqctw tegnererik tedforum tedfjborgf technologiques technologique technologies technocratique technocratie technocrates techniques technique technip techniciens teaser teamyannbarthes teamtpmp teamjadot teamexploitation teambaba teamarnaque teaching tdzjouvkdg tdov tdebenaze tdasnieres tcurin tchernobyl tchao tayjdykzfz taxonslaspeculation taxivolant taxis taxesurlaspeculation taxes taxerlaspeculation taxer taxe taxation taxable taurillon taule taudis tatillonne tassin taser tartuffe tartufes tarnaise tarn tarit tariq tarifs tarification tarifaire tarif target targaryen tareq tardives tarare tarantino taqiya tapis tapiestephane taper taoismes tanneux tandis tandem tameshigiri talmastudios talibans taliban talentueuse talents talent taking taken taite taisez taisent tairons tahanestpasseul tagada tafta tadjikistan taddei tactiquement tactique tacites tabous tabou tablettes tablette tableaux tableau tabassages tabacs tabac szxnyqflpl szqdtslqdc szhaugmwcb syunik systems systemique systematiques systematiquement systematique syriens syrie synthetise synthetique synthese synonyme syndrome syndicaux syndicats syndicatavocats syndicat syndicalistes syndicaliste syndicalisme syndicales syndicale syndical symptomes symptome symptom sympathisants sympathique sympathie sympa symp symbolise symboliquement symbolique symboles symbole sylvieguillaume sylviedurruty sylviane sylvainsnch sylvainkahn sylvaindesr sylvaindapol sylvaincourcoux sylvain syltrs sydnciats syboid swissinfo sweetdarkchocol sweet svp svnvwouumg svijetu sveriges svaasthy sustenter sustainable suspensions suspension suspendus suspendues suspendue suspendu suspendre suspendons suscitera suscitent suscite susceptibles susceptible survoler survivront survivre survivra survivants survivant survie survia survenus surveillez surveiller surveillance survecu surtranspositions surtout surtaxe sursaute sursaut surrealiste surprises surprise surpris surpression surprendraient surprend surprenant surpopulation surpoids surpasse surnommee surmortalite surmonter surfer surfaces surface surfac surete surendettement surendettee surenchere surement surcroit surcompensations surcharge surarmee suradministration supreme supranationales supprimons supprimez supprimes supprimerais supprimerai supprimer suppriment supprimee supprime supprimant supprimait suppressions suppression supposes supporttr supporting supporters supporter supportent supporte supplementaires supplementaire suppleant superyacht supervision supervises supervise superiorite superieure superficie superficialite supercitoyenne superbement superbe sundellviz summerelindsey summary sumac sujets sujet suivront suivez suivants suivantes suivante suisses suicides suicidees suicide suicidaire suggelliamo sugenot suffrages suffit suffisent suffisantes suffisamment suffirait suffira suez suerte suedois suede sudpresseonline sudouest sucre such succursale succombent successo successions succession successifs successful successeurs successeur succes succeed succeder succedent subventions subventionnee subventionne subvention subvenciones subtil substitution substituer substitue substances substance subprimes subordonnes submersion submarines sublimer sublime subjugue subites subit subissent subissant subir subie subi style stupides stupide stupeur stupefiants stupefiante stupefiant stupefai stupefaction study studio studieux studies students student stuck structurelle structurel structurantes stronger strong strictes strictement strengthens stratesku strategy strategiques strategique strategies strategie strategic stratege stories store stopviolencespolicieres stopper stoppasssanitaire stopmutilationssexuelles stopmasque stopimpunite stopextremedroite stopcovid stopchasse stopbrevetcovid stolz stocker stockage stock stocamine stlvcnwykp stimulantes stimulante stimulant stigmatises stigmatiser stigmatisation stickers stevenadjar steven steve sterilisant stereotypes stephpiednoir stephdemuru stephchermont stephaniegcalbi stephanie stephanemandard stephane steph stendhal stemrecht stemmelen stellen stellantis stefraffalli stefanini stefan stef steevebriois steak statuts statut statues statue statuant statistiques statistiquement startup startnbullshit starting start star stanzionelucien stanislasrig standiga standardiste standardise stand stalingrad staline staillepolian stagner staff stades stadefrance stadedefrance stade stabilite ssaakqrmod srmhfsgary srichard srapdetsob sraddet squelette squatteurs squatteur squattee sputnikinterview sputnik sprrdenoku spricht spoutnikv spoutnik sposano sportives sportive sportifs sportif sport spontanement spoliee spoiler splendide splendeur spitzenkandidat spiritueux spirituelle spirituel spiritualites spirited spirale spike spigoli spiegelonline spiderman speculent speculative speculation speculateurs speculant spectre spectateurs spectaculairement spectaculaire spectacles specifiques specifique specificites species speciaux specialites specialistes specialiste specialisees specialisee speciale speals speakers spd spatiale spatial spahn spagnou spacerennes soyonslibres soyadulce sovereignty souviens souviennent souvienne souverains souverainistes souverainiste souverainisme souverainetepopulaire souverainetenumerique souverainete souveraines souverainement souvent souvenons souvenirs souvenirfrancais souvenir souvenant soutient soutiensoignants soutiennent soutienfdo soutiendrai soutienciotti soutienauxsoignants soutienauxpompiers soutienanassekazib soutenus soutenues soutenu soutenons soutenir soutenez soutenant soustraire soustraie sousmarins souris sourire souriciere souriceau sourds soupirs soupcons soupa soundcloud soumissions soumises soumier soumettre soumettrai soumettons soumettent soumarefrance souligner souligne soulevent soulevement souleve soulagement soukinav souillent souhaitons souhaitez souhaiteront souhaiteraient souhaitera souhaiter souhaitent souhaitee souhaite souhaitant souhaitait souhaitable souhait souffrir souffrent souffre souffrant souffrances souffrance souffle souffert soudanaise soudanais soudan soudainement soudaine soudain soucieux souciait souci sottise soto soshomophobie sortons sortisme sortirons sortirai sortira sortir sortions sorties sortie sortent sorte sortante sortant sors sorryweareclosed sororite sorelle sordide sorare sophisme sophinsoumise sophiemarceau sophiegilletmer sonnantes sonnait soniabackes sommets sommetelevage sommetbagdad sommet sommeil sommaire sombres sombre somabrouk solutionvelo solunette solliciterai sollicite solitude solitairement solitaire soliloquer solides solide solidarnosc solidarity solidarites solidaritepalestine solidarite solidaritat solidaridad solidar solidaires solidairement solestevesof solennels solennellement soleil soldes soldats soldat solaire soixantaine soirs soirees soiree soil soignes soigner soigne soignants soignantes soignant soif sofrabrick sofiemarien sofianepamart soeurs soeur socrate soclecommun socle sociologue society societes societe societaux societale societal socialistes socialisme socialiser socialement socialedemocrat socialdemocratie sobriete sobol snottebelge sndc smith smicards smic smeurantl smcl\"\"\""
   ]
  },
  {
   "cell_type": "code",
   "execution_count": 207,
   "id": "3f1c2d0a",
   "metadata": {},
   "outputs": [],
   "source": [
    "words_known_7 = \"\"\"vus vues voient vieux upr tv tonnes suivre suivra suivis suivie suivi suivent suites strasbourg size servent septembre rkhenge revoir revenus revenir retention reservons reservee reparer renom raymond rases quel prshaant provencaux provenance prouesse proud protocole protesting protester protestent protestations protestation protestantes proteine protegez proteges protegeraient protegera proteger protegeons protegent protegees protegeant protege protectionnisme protection protecteur protected prostitution prosperite prosperer prospere proselytisme proroger prorogeant propulses proprietes proprietaires proprietaire propres proprement propre proposons propositions propositionaction proposition proposes proposerai proposera proposer proposent proposee propose proposant proposais proposaient propos proportions proportionnelles proportionnee proportionnalite propice propagerait propager propagent propagees propage propagation propagande pronostic prononces prononcerons prononcer pronoms pronom prono proner pronent prone promu prompt promouvoir promouvant promotion promo promises promeut promettez prometteuse prometteurs promettent promettant promettait promettais promets promesses promesse promeneurs promenade prolonges prolongerai prolongera prolonger prolongement prolongee prolonge prolongation proliferation proletariat\"\"\""
   ]
  },
  {
   "cell_type": "code",
   "execution_count": 208,
   "id": "2d6c8791",
   "metadata": {},
   "outputs": [],
   "source": [
    "full_words = words_known_1 + words_known_2 + words_known_3 + words_known_4 + words_known_5 + words_known_6 + words_known_7"
   ]
  },
  {
   "cell_type": "code",
   "execution_count": 209,
   "id": "81ed734c",
   "metadata": {},
   "outputs": [
    {
     "data": {
      "text/plain": [
       "['council',\n",
       " 'deja',\n",
       " 'dingue',\n",
       " 'eur',\n",
       " 'eururos',\n",
       " 'hain',\n",
       " 'hind',\n",
       " 'match',\n",
       " 'mdeur',\n",
       " 'mdseur',\n",
       " 'men',\n",
       " 'mhtvaakaankssaaon',\n",
       " 'nouvelle',\n",
       " 'nouvelles',\n",
       " 'paye',\n",
       " 'prinnaamon',\n",
       " 'prshaant',\n",
       " 'quel',\n",
       " 'rkhenge',\n",
       " 'tv',\n",
       " 'upr']"
      ]
     },
     "execution_count": 209,
     "metadata": {},
     "output_type": "execute_result"
    }
   ],
   "source": [
    "new_words_ = []\n",
    "\n",
    "for text in last_tweets_df[\"text\"]:\n",
    "    if len(text) > 1 :\n",
    "        for word_ in word_tokenize(text_cleaner(text)):\n",
    "            if word_ not in full_words and len(word_tokenize(text_cleaner(text))) > 1:\n",
    "                new_words_ += word_tokenize(text_cleaner(word_))\n",
    "    else:\n",
    "        pass\n",
    "    \n",
    "sorted(set(new_words_))"
   ]
  },
  {
   "cell_type": "markdown",
   "id": "6258d414",
   "metadata": {},
   "source": [
    "### Define a function to create a df with a lexicon score per user"
   ]
  },
  {
   "cell_type": "markdown",
   "id": "1ea06faa",
   "metadata": {},
   "source": [
    "#### Store all the lexicons in a dictionary"
   ]
  },
  {
   "cell_type": "code",
   "execution_count": 160,
   "id": "4a15452a",
   "metadata": {},
   "outputs": [],
   "source": [
    "lexicon_themes = {\"Politique\": political_lexicon_clean_list, \"Actualité\" : hashtags_lexicon_list, \"Candidats\": candidates_references_clean_list, \"Travail\":work_lexicon_clean_list, \"Santé\":health_lexicon_clean_list, \"Economie\":economic_lexicon_clean_list, \"Sécurité\":security_lexicon_clean_list, \"Extrême\":extrem_lexicon_clean_list, \"Ecologie\": ecology_lexicon_clean_list, \"Pouvoir_achat\": purchasing_power_lexicon_clean_list}"
   ]
  },
  {
   "cell_type": "markdown",
   "id": "88c0c7ab",
   "metadata": {},
   "source": [
    "#### Save the lexicon_themes"
   ]
  },
  {
   "cell_type": "code",
   "execution_count": 161,
   "id": "bc03110c",
   "metadata": {},
   "outputs": [],
   "source": [
    "np.save('lexicon_per_theme_dict.npy', lexicon_themes) "
   ]
  },
  {
   "cell_type": "markdown",
   "id": "104b83cf",
   "metadata": {},
   "source": [
    "#### Define the function"
   ]
  },
  {
   "cell_type": "code",
   "execution_count": 82,
   "id": "1a1a619e",
   "metadata": {},
   "outputs": [],
   "source": [
    "def lexicon_score_per_user(df, lexicon_themes):\n",
    "    \"\"\"Return a DataFrame scoring each tweet contents above a list of lexicon themes\"\"\"\n",
    "    # Store the users in a list\n",
    "    list_of_users = list(df[\"user\"].unique())\n",
    "\n",
    "    # Create a list to store each future row of the DataFrame\n",
    "    user_scores = []\n",
    "\n",
    "    # For each user\n",
    "    for user in list_of_users:\n",
    "        # Define a dictionary to store the score per lexicon per user\n",
    "        lexicon_scores = {\"user\" : user}\n",
    "        \n",
    "        # Generate a score at zero for each theme\n",
    "        for theme, lexicon in lexicon_themes.items():\n",
    "            lexicon_scores[theme] = 0           \n",
    "        \n",
    "        # Extract his/her tweets\n",
    "        user_tweets = list(df[df[\"user\"]==user][\"text\"])\n",
    "        # Then tokenize each tweet to analyze its content\n",
    "        for tweet in user_tweets:\n",
    "            if theme == candidates_pseudo:\n",
    "                tokenized_tweet = tweet\n",
    "            else:\n",
    "                tokenized_tweet = word_tokenize(tweet)\n",
    "        \n",
    "            # For each word\n",
    "            for word in tokenized_tweet:\n",
    "                # Is it part of one of the lexicons?\n",
    "                for theme, lexicon in lexicon_themes.items():\n",
    "                    if word in lexicon:\n",
    "                        lexicon_scores[theme] += 1\n",
    "        \n",
    "        # Finally, append the user and its score per theme to user_scores\n",
    "        user_scores.append(lexicon_scores)\n",
    "\n",
    "    # Convert list to DataFrame\n",
    "    lexicon_score_per_user_df = pd.DataFrame(user_scores)\n",
    "    # Add political orientation\n",
    "    lexicon_score_per_user_df = pd.merge(left = lexicon_score_per_user_df, \n",
    "                                         right = df[[\"user\", \"name\", \"political_orientation\"]], \n",
    "                                         on = 'user', \n",
    "                                         how = 'left')\n",
    "    # Drop duplicates due to merge just before\n",
    "    lexicon_score_per_user_df = lexicon_score_per_user_df.drop_duplicates().reset_index(drop=True)\n",
    "    \n",
    "    return lexicon_score_per_user_df"
   ]
  },
  {
   "cell_type": "markdown",
   "id": "dfa5db81",
   "metadata": {},
   "source": [
    "#### Apply it to df_ready_for_nlp"
   ]
  },
  {
   "cell_type": "code",
   "execution_count": 162,
   "id": "e9a8ffc4",
   "metadata": {},
   "outputs": [],
   "source": [
    "lexicon_score_per_user_df = lexicon_score_per_user(df=df_ready_for_nlp, lexicon_themes=lexicon_themes)\n",
    "# lexicon_score_per_user_df"
   ]
  },
  {
   "cell_type": "markdown",
   "id": "a9a20526",
   "metadata": {},
   "source": [
    "## Save df_ready_for_nlp and lexicon_score_per_user to use it on the repo"
   ]
  },
  {
   "cell_type": "code",
   "execution_count": 163,
   "id": "c0d9f72c",
   "metadata": {},
   "outputs": [],
   "source": [
    "df_ready_for_nlp.to_csv(\"df_ready_for_nlp.csv\")\n",
    "lexicon_score_per_user_df.to_csv(\"lexicon_score_per_user_df.csv\")"
   ]
  },
  {
   "cell_type": "markdown",
   "id": "85c37f70",
   "metadata": {},
   "source": [
    "# Design for deployment"
   ]
  },
  {
   "cell_type": "markdown",
   "id": "1cb66ed7",
   "metadata": {},
   "source": [
    "## Sujets dont les candidats parlent (score natio par thème)"
   ]
  },
  {
   "cell_type": "code",
   "execution_count": 48,
   "id": "5f55fc16",
   "metadata": {},
   "outputs": [],
   "source": [
    "def national_score_per_theme():\n",
    "    \"\"\"\n",
    "    Returns a horizontal bar chart with the total number of time every candidates has used a word from one of the themes\n",
    "    \"\"\"\n",
    "    # Retrieve columns unusefull columns from lexicon_score_per_user_df\n",
    "    national_score_per_theme = lexicon_score_per_user_df.drop(columns=[\"user\", \"name\", \"political_orientation\"])\n",
    "    # Compute the total score for each theme and sort the result for a good visualization\n",
    "    national_score_per_theme = national_score_per_theme.cumsum().iloc[-1].sort_values()\n",
    "\n",
    "    # Define the horizontal bar chart\n",
    "    fig = go.Figure(go.Bar(\n",
    "                x=national_score_per_theme.values,\n",
    "                y=national_score_per_theme.keys(),\n",
    "                orientation='h'))\n",
    "\n",
    "    return fig.show()"
   ]
  },
  {
   "cell_type": "code",
   "execution_count": 119,
   "id": "cb1dbed2",
   "metadata": {
    "scrolled": true
   },
   "outputs": [
    {
     "data": {
      "application/vnd.plotly.v1+json": {
       "config": {
        "plotlyServerURL": "https://plot.ly"
       },
       "data": [
        {
         "orientation": "h",
         "type": "bar",
         "x": [
          416,
          644,
          699,
          1531,
          1681,
          1952,
          2089,
          2805,
          7224,
          7233
         ],
         "y": [
          "Pouvoir_achat",
          "Extrême",
          "Ecologie",
          "Sécurité",
          "Economie",
          "Santé",
          "Travail",
          "Candidats",
          "Politique",
          "Actualité"
         ]
        }
       ],
       "layout": {
        "template": {
         "data": {
          "bar": [
           {
            "error_x": {
             "color": "#2a3f5f"
            },
            "error_y": {
             "color": "#2a3f5f"
            },
            "marker": {
             "line": {
              "color": "#E5ECF6",
              "width": 0.5
             },
             "pattern": {
              "fillmode": "overlay",
              "size": 10,
              "solidity": 0.2
             }
            },
            "type": "bar"
           }
          ],
          "barpolar": [
           {
            "marker": {
             "line": {
              "color": "#E5ECF6",
              "width": 0.5
             },
             "pattern": {
              "fillmode": "overlay",
              "size": 10,
              "solidity": 0.2
             }
            },
            "type": "barpolar"
           }
          ],
          "carpet": [
           {
            "aaxis": {
             "endlinecolor": "#2a3f5f",
             "gridcolor": "white",
             "linecolor": "white",
             "minorgridcolor": "white",
             "startlinecolor": "#2a3f5f"
            },
            "baxis": {
             "endlinecolor": "#2a3f5f",
             "gridcolor": "white",
             "linecolor": "white",
             "minorgridcolor": "white",
             "startlinecolor": "#2a3f5f"
            },
            "type": "carpet"
           }
          ],
          "choropleth": [
           {
            "colorbar": {
             "outlinewidth": 0,
             "ticks": ""
            },
            "type": "choropleth"
           }
          ],
          "contour": [
           {
            "colorbar": {
             "outlinewidth": 0,
             "ticks": ""
            },
            "colorscale": [
             [
              0,
              "#0d0887"
             ],
             [
              0.1111111111111111,
              "#46039f"
             ],
             [
              0.2222222222222222,
              "#7201a8"
             ],
             [
              0.3333333333333333,
              "#9c179e"
             ],
             [
              0.4444444444444444,
              "#bd3786"
             ],
             [
              0.5555555555555556,
              "#d8576b"
             ],
             [
              0.6666666666666666,
              "#ed7953"
             ],
             [
              0.7777777777777778,
              "#fb9f3a"
             ],
             [
              0.8888888888888888,
              "#fdca26"
             ],
             [
              1,
              "#f0f921"
             ]
            ],
            "type": "contour"
           }
          ],
          "contourcarpet": [
           {
            "colorbar": {
             "outlinewidth": 0,
             "ticks": ""
            },
            "type": "contourcarpet"
           }
          ],
          "heatmap": [
           {
            "colorbar": {
             "outlinewidth": 0,
             "ticks": ""
            },
            "colorscale": [
             [
              0,
              "#0d0887"
             ],
             [
              0.1111111111111111,
              "#46039f"
             ],
             [
              0.2222222222222222,
              "#7201a8"
             ],
             [
              0.3333333333333333,
              "#9c179e"
             ],
             [
              0.4444444444444444,
              "#bd3786"
             ],
             [
              0.5555555555555556,
              "#d8576b"
             ],
             [
              0.6666666666666666,
              "#ed7953"
             ],
             [
              0.7777777777777778,
              "#fb9f3a"
             ],
             [
              0.8888888888888888,
              "#fdca26"
             ],
             [
              1,
              "#f0f921"
             ]
            ],
            "type": "heatmap"
           }
          ],
          "heatmapgl": [
           {
            "colorbar": {
             "outlinewidth": 0,
             "ticks": ""
            },
            "colorscale": [
             [
              0,
              "#0d0887"
             ],
             [
              0.1111111111111111,
              "#46039f"
             ],
             [
              0.2222222222222222,
              "#7201a8"
             ],
             [
              0.3333333333333333,
              "#9c179e"
             ],
             [
              0.4444444444444444,
              "#bd3786"
             ],
             [
              0.5555555555555556,
              "#d8576b"
             ],
             [
              0.6666666666666666,
              "#ed7953"
             ],
             [
              0.7777777777777778,
              "#fb9f3a"
             ],
             [
              0.8888888888888888,
              "#fdca26"
             ],
             [
              1,
              "#f0f921"
             ]
            ],
            "type": "heatmapgl"
           }
          ],
          "histogram": [
           {
            "marker": {
             "pattern": {
              "fillmode": "overlay",
              "size": 10,
              "solidity": 0.2
             }
            },
            "type": "histogram"
           }
          ],
          "histogram2d": [
           {
            "colorbar": {
             "outlinewidth": 0,
             "ticks": ""
            },
            "colorscale": [
             [
              0,
              "#0d0887"
             ],
             [
              0.1111111111111111,
              "#46039f"
             ],
             [
              0.2222222222222222,
              "#7201a8"
             ],
             [
              0.3333333333333333,
              "#9c179e"
             ],
             [
              0.4444444444444444,
              "#bd3786"
             ],
             [
              0.5555555555555556,
              "#d8576b"
             ],
             [
              0.6666666666666666,
              "#ed7953"
             ],
             [
              0.7777777777777778,
              "#fb9f3a"
             ],
             [
              0.8888888888888888,
              "#fdca26"
             ],
             [
              1,
              "#f0f921"
             ]
            ],
            "type": "histogram2d"
           }
          ],
          "histogram2dcontour": [
           {
            "colorbar": {
             "outlinewidth": 0,
             "ticks": ""
            },
            "colorscale": [
             [
              0,
              "#0d0887"
             ],
             [
              0.1111111111111111,
              "#46039f"
             ],
             [
              0.2222222222222222,
              "#7201a8"
             ],
             [
              0.3333333333333333,
              "#9c179e"
             ],
             [
              0.4444444444444444,
              "#bd3786"
             ],
             [
              0.5555555555555556,
              "#d8576b"
             ],
             [
              0.6666666666666666,
              "#ed7953"
             ],
             [
              0.7777777777777778,
              "#fb9f3a"
             ],
             [
              0.8888888888888888,
              "#fdca26"
             ],
             [
              1,
              "#f0f921"
             ]
            ],
            "type": "histogram2dcontour"
           }
          ],
          "mesh3d": [
           {
            "colorbar": {
             "outlinewidth": 0,
             "ticks": ""
            },
            "type": "mesh3d"
           }
          ],
          "parcoords": [
           {
            "line": {
             "colorbar": {
              "outlinewidth": 0,
              "ticks": ""
             }
            },
            "type": "parcoords"
           }
          ],
          "pie": [
           {
            "automargin": true,
            "type": "pie"
           }
          ],
          "scatter": [
           {
            "marker": {
             "colorbar": {
              "outlinewidth": 0,
              "ticks": ""
             }
            },
            "type": "scatter"
           }
          ],
          "scatter3d": [
           {
            "line": {
             "colorbar": {
              "outlinewidth": 0,
              "ticks": ""
             }
            },
            "marker": {
             "colorbar": {
              "outlinewidth": 0,
              "ticks": ""
             }
            },
            "type": "scatter3d"
           }
          ],
          "scattercarpet": [
           {
            "marker": {
             "colorbar": {
              "outlinewidth": 0,
              "ticks": ""
             }
            },
            "type": "scattercarpet"
           }
          ],
          "scattergeo": [
           {
            "marker": {
             "colorbar": {
              "outlinewidth": 0,
              "ticks": ""
             }
            },
            "type": "scattergeo"
           }
          ],
          "scattergl": [
           {
            "marker": {
             "colorbar": {
              "outlinewidth": 0,
              "ticks": ""
             }
            },
            "type": "scattergl"
           }
          ],
          "scattermapbox": [
           {
            "marker": {
             "colorbar": {
              "outlinewidth": 0,
              "ticks": ""
             }
            },
            "type": "scattermapbox"
           }
          ],
          "scatterpolar": [
           {
            "marker": {
             "colorbar": {
              "outlinewidth": 0,
              "ticks": ""
             }
            },
            "type": "scatterpolar"
           }
          ],
          "scatterpolargl": [
           {
            "marker": {
             "colorbar": {
              "outlinewidth": 0,
              "ticks": ""
             }
            },
            "type": "scatterpolargl"
           }
          ],
          "scatterternary": [
           {
            "marker": {
             "colorbar": {
              "outlinewidth": 0,
              "ticks": ""
             }
            },
            "type": "scatterternary"
           }
          ],
          "surface": [
           {
            "colorbar": {
             "outlinewidth": 0,
             "ticks": ""
            },
            "colorscale": [
             [
              0,
              "#0d0887"
             ],
             [
              0.1111111111111111,
              "#46039f"
             ],
             [
              0.2222222222222222,
              "#7201a8"
             ],
             [
              0.3333333333333333,
              "#9c179e"
             ],
             [
              0.4444444444444444,
              "#bd3786"
             ],
             [
              0.5555555555555556,
              "#d8576b"
             ],
             [
              0.6666666666666666,
              "#ed7953"
             ],
             [
              0.7777777777777778,
              "#fb9f3a"
             ],
             [
              0.8888888888888888,
              "#fdca26"
             ],
             [
              1,
              "#f0f921"
             ]
            ],
            "type": "surface"
           }
          ],
          "table": [
           {
            "cells": {
             "fill": {
              "color": "#EBF0F8"
             },
             "line": {
              "color": "white"
             }
            },
            "header": {
             "fill": {
              "color": "#C8D4E3"
             },
             "line": {
              "color": "white"
             }
            },
            "type": "table"
           }
          ]
         },
         "layout": {
          "annotationdefaults": {
           "arrowcolor": "#2a3f5f",
           "arrowhead": 0,
           "arrowwidth": 1
          },
          "autotypenumbers": "strict",
          "coloraxis": {
           "colorbar": {
            "outlinewidth": 0,
            "ticks": ""
           }
          },
          "colorscale": {
           "diverging": [
            [
             0,
             "#8e0152"
            ],
            [
             0.1,
             "#c51b7d"
            ],
            [
             0.2,
             "#de77ae"
            ],
            [
             0.3,
             "#f1b6da"
            ],
            [
             0.4,
             "#fde0ef"
            ],
            [
             0.5,
             "#f7f7f7"
            ],
            [
             0.6,
             "#e6f5d0"
            ],
            [
             0.7,
             "#b8e186"
            ],
            [
             0.8,
             "#7fbc41"
            ],
            [
             0.9,
             "#4d9221"
            ],
            [
             1,
             "#276419"
            ]
           ],
           "sequential": [
            [
             0,
             "#0d0887"
            ],
            [
             0.1111111111111111,
             "#46039f"
            ],
            [
             0.2222222222222222,
             "#7201a8"
            ],
            [
             0.3333333333333333,
             "#9c179e"
            ],
            [
             0.4444444444444444,
             "#bd3786"
            ],
            [
             0.5555555555555556,
             "#d8576b"
            ],
            [
             0.6666666666666666,
             "#ed7953"
            ],
            [
             0.7777777777777778,
             "#fb9f3a"
            ],
            [
             0.8888888888888888,
             "#fdca26"
            ],
            [
             1,
             "#f0f921"
            ]
           ],
           "sequentialminus": [
            [
             0,
             "#0d0887"
            ],
            [
             0.1111111111111111,
             "#46039f"
            ],
            [
             0.2222222222222222,
             "#7201a8"
            ],
            [
             0.3333333333333333,
             "#9c179e"
            ],
            [
             0.4444444444444444,
             "#bd3786"
            ],
            [
             0.5555555555555556,
             "#d8576b"
            ],
            [
             0.6666666666666666,
             "#ed7953"
            ],
            [
             0.7777777777777778,
             "#fb9f3a"
            ],
            [
             0.8888888888888888,
             "#fdca26"
            ],
            [
             1,
             "#f0f921"
            ]
           ]
          },
          "colorway": [
           "#636efa",
           "#EF553B",
           "#00cc96",
           "#ab63fa",
           "#FFA15A",
           "#19d3f3",
           "#FF6692",
           "#B6E880",
           "#FF97FF",
           "#FECB52"
          ],
          "font": {
           "color": "#2a3f5f"
          },
          "geo": {
           "bgcolor": "white",
           "lakecolor": "white",
           "landcolor": "#E5ECF6",
           "showlakes": true,
           "showland": true,
           "subunitcolor": "white"
          },
          "hoverlabel": {
           "align": "left"
          },
          "hovermode": "closest",
          "mapbox": {
           "style": "light"
          },
          "paper_bgcolor": "white",
          "plot_bgcolor": "#E5ECF6",
          "polar": {
           "angularaxis": {
            "gridcolor": "white",
            "linecolor": "white",
            "ticks": ""
           },
           "bgcolor": "#E5ECF6",
           "radialaxis": {
            "gridcolor": "white",
            "linecolor": "white",
            "ticks": ""
           }
          },
          "scene": {
           "xaxis": {
            "backgroundcolor": "#E5ECF6",
            "gridcolor": "white",
            "gridwidth": 2,
            "linecolor": "white",
            "showbackground": true,
            "ticks": "",
            "zerolinecolor": "white"
           },
           "yaxis": {
            "backgroundcolor": "#E5ECF6",
            "gridcolor": "white",
            "gridwidth": 2,
            "linecolor": "white",
            "showbackground": true,
            "ticks": "",
            "zerolinecolor": "white"
           },
           "zaxis": {
            "backgroundcolor": "#E5ECF6",
            "gridcolor": "white",
            "gridwidth": 2,
            "linecolor": "white",
            "showbackground": true,
            "ticks": "",
            "zerolinecolor": "white"
           }
          },
          "shapedefaults": {
           "line": {
            "color": "#2a3f5f"
           }
          },
          "ternary": {
           "aaxis": {
            "gridcolor": "white",
            "linecolor": "white",
            "ticks": ""
           },
           "baxis": {
            "gridcolor": "white",
            "linecolor": "white",
            "ticks": ""
           },
           "bgcolor": "#E5ECF6",
           "caxis": {
            "gridcolor": "white",
            "linecolor": "white",
            "ticks": ""
           }
          },
          "title": {
           "x": 0.05
          },
          "xaxis": {
           "automargin": true,
           "gridcolor": "white",
           "linecolor": "white",
           "ticks": "",
           "title": {
            "standoff": 15
           },
           "zerolinecolor": "white",
           "zerolinewidth": 2
          },
          "yaxis": {
           "automargin": true,
           "gridcolor": "white",
           "linecolor": "white",
           "ticks": "",
           "title": {
            "standoff": 15
           },
           "zerolinecolor": "white",
           "zerolinewidth": 2
          }
         }
        }
       }
      },
      "text/html": [
       "<div>                            <div id=\"42863b4f-4f97-4e4b-99b3-11b00ada66a7\" class=\"plotly-graph-div\" style=\"height:525px; width:100%;\"></div>            <script type=\"text/javascript\">                require([\"plotly\"], function(Plotly) {                    window.PLOTLYENV=window.PLOTLYENV || {};                                    if (document.getElementById(\"42863b4f-4f97-4e4b-99b3-11b00ada66a7\")) {                    Plotly.newPlot(                        \"42863b4f-4f97-4e4b-99b3-11b00ada66a7\",                        [{\"orientation\":\"h\",\"type\":\"bar\",\"x\":[416,644,699,1531,1681,1952,2089,2805,7224,7233],\"y\":[\"Pouvoir_achat\",\"Extr\\u00eame\",\"Ecologie\",\"S\\u00e9curit\\u00e9\",\"Economie\",\"Sant\\u00e9\",\"Travail\",\"Candidats\",\"Politique\",\"Actualit\\u00e9\"]}],                        {\"template\":{\"data\":{\"bar\":[{\"error_x\":{\"color\":\"#2a3f5f\"},\"error_y\":{\"color\":\"#2a3f5f\"},\"marker\":{\"line\":{\"color\":\"#E5ECF6\",\"width\":0.5},\"pattern\":{\"fillmode\":\"overlay\",\"size\":10,\"solidity\":0.2}},\"type\":\"bar\"}],\"barpolar\":[{\"marker\":{\"line\":{\"color\":\"#E5ECF6\",\"width\":0.5},\"pattern\":{\"fillmode\":\"overlay\",\"size\":10,\"solidity\":0.2}},\"type\":\"barpolar\"}],\"carpet\":[{\"aaxis\":{\"endlinecolor\":\"#2a3f5f\",\"gridcolor\":\"white\",\"linecolor\":\"white\",\"minorgridcolor\":\"white\",\"startlinecolor\":\"#2a3f5f\"},\"baxis\":{\"endlinecolor\":\"#2a3f5f\",\"gridcolor\":\"white\",\"linecolor\":\"white\",\"minorgridcolor\":\"white\",\"startlinecolor\":\"#2a3f5f\"},\"type\":\"carpet\"}],\"choropleth\":[{\"colorbar\":{\"outlinewidth\":0,\"ticks\":\"\"},\"type\":\"choropleth\"}],\"contour\":[{\"colorbar\":{\"outlinewidth\":0,\"ticks\":\"\"},\"colorscale\":[[0.0,\"#0d0887\"],[0.1111111111111111,\"#46039f\"],[0.2222222222222222,\"#7201a8\"],[0.3333333333333333,\"#9c179e\"],[0.4444444444444444,\"#bd3786\"],[0.5555555555555556,\"#d8576b\"],[0.6666666666666666,\"#ed7953\"],[0.7777777777777778,\"#fb9f3a\"],[0.8888888888888888,\"#fdca26\"],[1.0,\"#f0f921\"]],\"type\":\"contour\"}],\"contourcarpet\":[{\"colorbar\":{\"outlinewidth\":0,\"ticks\":\"\"},\"type\":\"contourcarpet\"}],\"heatmap\":[{\"colorbar\":{\"outlinewidth\":0,\"ticks\":\"\"},\"colorscale\":[[0.0,\"#0d0887\"],[0.1111111111111111,\"#46039f\"],[0.2222222222222222,\"#7201a8\"],[0.3333333333333333,\"#9c179e\"],[0.4444444444444444,\"#bd3786\"],[0.5555555555555556,\"#d8576b\"],[0.6666666666666666,\"#ed7953\"],[0.7777777777777778,\"#fb9f3a\"],[0.8888888888888888,\"#fdca26\"],[1.0,\"#f0f921\"]],\"type\":\"heatmap\"}],\"heatmapgl\":[{\"colorbar\":{\"outlinewidth\":0,\"ticks\":\"\"},\"colorscale\":[[0.0,\"#0d0887\"],[0.1111111111111111,\"#46039f\"],[0.2222222222222222,\"#7201a8\"],[0.3333333333333333,\"#9c179e\"],[0.4444444444444444,\"#bd3786\"],[0.5555555555555556,\"#d8576b\"],[0.6666666666666666,\"#ed7953\"],[0.7777777777777778,\"#fb9f3a\"],[0.8888888888888888,\"#fdca26\"],[1.0,\"#f0f921\"]],\"type\":\"heatmapgl\"}],\"histogram\":[{\"marker\":{\"pattern\":{\"fillmode\":\"overlay\",\"size\":10,\"solidity\":0.2}},\"type\":\"histogram\"}],\"histogram2d\":[{\"colorbar\":{\"outlinewidth\":0,\"ticks\":\"\"},\"colorscale\":[[0.0,\"#0d0887\"],[0.1111111111111111,\"#46039f\"],[0.2222222222222222,\"#7201a8\"],[0.3333333333333333,\"#9c179e\"],[0.4444444444444444,\"#bd3786\"],[0.5555555555555556,\"#d8576b\"],[0.6666666666666666,\"#ed7953\"],[0.7777777777777778,\"#fb9f3a\"],[0.8888888888888888,\"#fdca26\"],[1.0,\"#f0f921\"]],\"type\":\"histogram2d\"}],\"histogram2dcontour\":[{\"colorbar\":{\"outlinewidth\":0,\"ticks\":\"\"},\"colorscale\":[[0.0,\"#0d0887\"],[0.1111111111111111,\"#46039f\"],[0.2222222222222222,\"#7201a8\"],[0.3333333333333333,\"#9c179e\"],[0.4444444444444444,\"#bd3786\"],[0.5555555555555556,\"#d8576b\"],[0.6666666666666666,\"#ed7953\"],[0.7777777777777778,\"#fb9f3a\"],[0.8888888888888888,\"#fdca26\"],[1.0,\"#f0f921\"]],\"type\":\"histogram2dcontour\"}],\"mesh3d\":[{\"colorbar\":{\"outlinewidth\":0,\"ticks\":\"\"},\"type\":\"mesh3d\"}],\"parcoords\":[{\"line\":{\"colorbar\":{\"outlinewidth\":0,\"ticks\":\"\"}},\"type\":\"parcoords\"}],\"pie\":[{\"automargin\":true,\"type\":\"pie\"}],\"scatter\":[{\"marker\":{\"colorbar\":{\"outlinewidth\":0,\"ticks\":\"\"}},\"type\":\"scatter\"}],\"scatter3d\":[{\"line\":{\"colorbar\":{\"outlinewidth\":0,\"ticks\":\"\"}},\"marker\":{\"colorbar\":{\"outlinewidth\":0,\"ticks\":\"\"}},\"type\":\"scatter3d\"}],\"scattercarpet\":[{\"marker\":{\"colorbar\":{\"outlinewidth\":0,\"ticks\":\"\"}},\"type\":\"scattercarpet\"}],\"scattergeo\":[{\"marker\":{\"colorbar\":{\"outlinewidth\":0,\"ticks\":\"\"}},\"type\":\"scattergeo\"}],\"scattergl\":[{\"marker\":{\"colorbar\":{\"outlinewidth\":0,\"ticks\":\"\"}},\"type\":\"scattergl\"}],\"scattermapbox\":[{\"marker\":{\"colorbar\":{\"outlinewidth\":0,\"ticks\":\"\"}},\"type\":\"scattermapbox\"}],\"scatterpolar\":[{\"marker\":{\"colorbar\":{\"outlinewidth\":0,\"ticks\":\"\"}},\"type\":\"scatterpolar\"}],\"scatterpolargl\":[{\"marker\":{\"colorbar\":{\"outlinewidth\":0,\"ticks\":\"\"}},\"type\":\"scatterpolargl\"}],\"scatterternary\":[{\"marker\":{\"colorbar\":{\"outlinewidth\":0,\"ticks\":\"\"}},\"type\":\"scatterternary\"}],\"surface\":[{\"colorbar\":{\"outlinewidth\":0,\"ticks\":\"\"},\"colorscale\":[[0.0,\"#0d0887\"],[0.1111111111111111,\"#46039f\"],[0.2222222222222222,\"#7201a8\"],[0.3333333333333333,\"#9c179e\"],[0.4444444444444444,\"#bd3786\"],[0.5555555555555556,\"#d8576b\"],[0.6666666666666666,\"#ed7953\"],[0.7777777777777778,\"#fb9f3a\"],[0.8888888888888888,\"#fdca26\"],[1.0,\"#f0f921\"]],\"type\":\"surface\"}],\"table\":[{\"cells\":{\"fill\":{\"color\":\"#EBF0F8\"},\"line\":{\"color\":\"white\"}},\"header\":{\"fill\":{\"color\":\"#C8D4E3\"},\"line\":{\"color\":\"white\"}},\"type\":\"table\"}]},\"layout\":{\"annotationdefaults\":{\"arrowcolor\":\"#2a3f5f\",\"arrowhead\":0,\"arrowwidth\":1},\"autotypenumbers\":\"strict\",\"coloraxis\":{\"colorbar\":{\"outlinewidth\":0,\"ticks\":\"\"}},\"colorscale\":{\"diverging\":[[0,\"#8e0152\"],[0.1,\"#c51b7d\"],[0.2,\"#de77ae\"],[0.3,\"#f1b6da\"],[0.4,\"#fde0ef\"],[0.5,\"#f7f7f7\"],[0.6,\"#e6f5d0\"],[0.7,\"#b8e186\"],[0.8,\"#7fbc41\"],[0.9,\"#4d9221\"],[1,\"#276419\"]],\"sequential\":[[0.0,\"#0d0887\"],[0.1111111111111111,\"#46039f\"],[0.2222222222222222,\"#7201a8\"],[0.3333333333333333,\"#9c179e\"],[0.4444444444444444,\"#bd3786\"],[0.5555555555555556,\"#d8576b\"],[0.6666666666666666,\"#ed7953\"],[0.7777777777777778,\"#fb9f3a\"],[0.8888888888888888,\"#fdca26\"],[1.0,\"#f0f921\"]],\"sequentialminus\":[[0.0,\"#0d0887\"],[0.1111111111111111,\"#46039f\"],[0.2222222222222222,\"#7201a8\"],[0.3333333333333333,\"#9c179e\"],[0.4444444444444444,\"#bd3786\"],[0.5555555555555556,\"#d8576b\"],[0.6666666666666666,\"#ed7953\"],[0.7777777777777778,\"#fb9f3a\"],[0.8888888888888888,\"#fdca26\"],[1.0,\"#f0f921\"]]},\"colorway\":[\"#636efa\",\"#EF553B\",\"#00cc96\",\"#ab63fa\",\"#FFA15A\",\"#19d3f3\",\"#FF6692\",\"#B6E880\",\"#FF97FF\",\"#FECB52\"],\"font\":{\"color\":\"#2a3f5f\"},\"geo\":{\"bgcolor\":\"white\",\"lakecolor\":\"white\",\"landcolor\":\"#E5ECF6\",\"showlakes\":true,\"showland\":true,\"subunitcolor\":\"white\"},\"hoverlabel\":{\"align\":\"left\"},\"hovermode\":\"closest\",\"mapbox\":{\"style\":\"light\"},\"paper_bgcolor\":\"white\",\"plot_bgcolor\":\"#E5ECF6\",\"polar\":{\"angularaxis\":{\"gridcolor\":\"white\",\"linecolor\":\"white\",\"ticks\":\"\"},\"bgcolor\":\"#E5ECF6\",\"radialaxis\":{\"gridcolor\":\"white\",\"linecolor\":\"white\",\"ticks\":\"\"}},\"scene\":{\"xaxis\":{\"backgroundcolor\":\"#E5ECF6\",\"gridcolor\":\"white\",\"gridwidth\":2,\"linecolor\":\"white\",\"showbackground\":true,\"ticks\":\"\",\"zerolinecolor\":\"white\"},\"yaxis\":{\"backgroundcolor\":\"#E5ECF6\",\"gridcolor\":\"white\",\"gridwidth\":2,\"linecolor\":\"white\",\"showbackground\":true,\"ticks\":\"\",\"zerolinecolor\":\"white\"},\"zaxis\":{\"backgroundcolor\":\"#E5ECF6\",\"gridcolor\":\"white\",\"gridwidth\":2,\"linecolor\":\"white\",\"showbackground\":true,\"ticks\":\"\",\"zerolinecolor\":\"white\"}},\"shapedefaults\":{\"line\":{\"color\":\"#2a3f5f\"}},\"ternary\":{\"aaxis\":{\"gridcolor\":\"white\",\"linecolor\":\"white\",\"ticks\":\"\"},\"baxis\":{\"gridcolor\":\"white\",\"linecolor\":\"white\",\"ticks\":\"\"},\"bgcolor\":\"#E5ECF6\",\"caxis\":{\"gridcolor\":\"white\",\"linecolor\":\"white\",\"ticks\":\"\"}},\"title\":{\"x\":0.05},\"xaxis\":{\"automargin\":true,\"gridcolor\":\"white\",\"linecolor\":\"white\",\"ticks\":\"\",\"title\":{\"standoff\":15},\"zerolinecolor\":\"white\",\"zerolinewidth\":2},\"yaxis\":{\"automargin\":true,\"gridcolor\":\"white\",\"linecolor\":\"white\",\"ticks\":\"\",\"title\":{\"standoff\":15},\"zerolinecolor\":\"white\",\"zerolinewidth\":2}}}},                        {\"responsive\": true}                    ).then(function(){\n",
       "                            \n",
       "var gd = document.getElementById('42863b4f-4f97-4e4b-99b3-11b00ada66a7');\n",
       "var x = new MutationObserver(function (mutations, observer) {{\n",
       "        var display = window.getComputedStyle(gd).display;\n",
       "        if (!display || display === 'none') {{\n",
       "            console.log([gd, 'removed!']);\n",
       "            Plotly.purge(gd);\n",
       "            observer.disconnect();\n",
       "        }}\n",
       "}});\n",
       "\n",
       "// Listen for the removal of the full notebook cells\n",
       "var notebookContainer = gd.closest('#notebook-container');\n",
       "if (notebookContainer) {{\n",
       "    x.observe(notebookContainer, {childList: true});\n",
       "}}\n",
       "\n",
       "// Listen for the clearing of the current output cell\n",
       "var outputEl = gd.closest('.output');\n",
       "if (outputEl) {{\n",
       "    x.observe(outputEl, {childList: true});\n",
       "}}\n",
       "\n",
       "                        })                };                });            </script>        </div>"
      ]
     },
     "metadata": {},
     "output_type": "display_data"
    }
   ],
   "source": [
    "national_score_per_theme()"
   ]
  },
  {
   "cell_type": "markdown",
   "id": "2365380d",
   "metadata": {},
   "source": [
    "## Les intérêts de chaque orientation politique par thème et ses candidats"
   ]
  },
  {
   "cell_type": "code",
   "execution_count": 50,
   "id": "5d40e8fa",
   "metadata": {},
   "outputs": [],
   "source": [
    "def global_vs_choosen_political_orientation_mean_score_per_theme(political_orientation):\n",
    "    \"\"\"\n",
    "    Returns a horizontal bar chart with the global mean score (every candidates includes) and the choosen political orientation's mean score\n",
    "    \"\"\"\n",
    "    # Start with the global score\n",
    "    # Only keep score per theme, political party and themes from the df lexicon_score_per_user_df\n",
    "    global_mean_score_per_theme = lexicon_score_per_user_df.drop(columns=[\"user\", \"name\", \"political_orientation\"])\n",
    "    # Then compute the global mean score per theme and sort its values for a good visualization\n",
    "    global_mean_score_per_theme = global_mean_score_per_theme.mean().sort_values()\n",
    "\n",
    "    # Then compute this political party score per theme\n",
    "    # Retrieve unusefull columns\n",
    "    political_orientation_score_per_theme = lexicon_score_per_user_df.drop(columns=[\"user\", \"name\"])\n",
    "    # Compute the mean score per theme per political orientation\n",
    "    political_orientation_score_per_theme = political_orientation_score_per_theme.groupby(['political_orientation']).mean()\n",
    "    # Only keep the score for the right political orientation and sort values for a good visualization\n",
    "    political_orientation_score_per_theme = political_orientation_score_per_theme.loc[political_orientation].sort_values()\n",
    "\n",
    "    # Define a horizontal bar graph\n",
    "    fig = go.Figure(data=[\n",
    "                    go.Bar(x=global_mean_score_per_theme.values,\n",
    "                           y=global_mean_score_per_theme.keys(),\n",
    "                           orientation='h',\n",
    "                          name=\"moyenne globale (tous candidats confondus)\"),\n",
    "                    go.Bar(x=political_orientation_score_per_theme.values,\n",
    "                           y=political_orientation_score_per_theme.keys(),\n",
    "                           orientation='h',\n",
    "                          name=political_orientation)\n",
    "                    ])\n",
    "\n",
    "    # Change the bar mode\n",
    "    fig.update_layout(barmode='group')\n",
    "\n",
    "    # Show the graph\n",
    "    return fig.show()"
   ]
  },
  {
   "cell_type": "code",
   "execution_count": 120,
   "id": "4c36d6b8",
   "metadata": {},
   "outputs": [
    {
     "data": {
      "application/vnd.plotly.v1+json": {
       "config": {
        "plotlyServerURL": "https://plot.ly"
       },
       "data": [
        {
         "name": "moyenne globale (tous candidats confondus)",
         "orientation": "h",
         "type": "bar",
         "x": [
          9.904761904761905,
          15.333333333333334,
          16.642857142857142,
          36.45238095238095,
          40.023809523809526,
          46.476190476190474,
          49.73809523809524,
          66.78571428571429,
          172,
          172.21428571428572
         ],
         "y": [
          "Pouvoir_achat",
          "Extrême",
          "Ecologie",
          "Sécurité",
          "Economie",
          "Santé",
          "Travail",
          "Candidats",
          "Politique",
          "Actualité"
         ]
        },
        {
         "name": "extrême_gauche",
         "orientation": "h",
         "type": "bar",
         "x": [
          13,
          21.166666666666668,
          21.333333333333332,
          34.666666666666664,
          38.666666666666664,
          51.5,
          75,
          116.5,
          182,
          195.5
         ],
         "y": [
          "Ecologie",
          "Pouvoir_achat",
          "Extrême",
          "Sécurité",
          "Santé",
          "Economie",
          "Travail",
          "Candidats",
          "Actualité",
          "Politique"
         ]
        }
       ],
       "layout": {
        "barmode": "group",
        "template": {
         "data": {
          "bar": [
           {
            "error_x": {
             "color": "#2a3f5f"
            },
            "error_y": {
             "color": "#2a3f5f"
            },
            "marker": {
             "line": {
              "color": "#E5ECF6",
              "width": 0.5
             },
             "pattern": {
              "fillmode": "overlay",
              "size": 10,
              "solidity": 0.2
             }
            },
            "type": "bar"
           }
          ],
          "barpolar": [
           {
            "marker": {
             "line": {
              "color": "#E5ECF6",
              "width": 0.5
             },
             "pattern": {
              "fillmode": "overlay",
              "size": 10,
              "solidity": 0.2
             }
            },
            "type": "barpolar"
           }
          ],
          "carpet": [
           {
            "aaxis": {
             "endlinecolor": "#2a3f5f",
             "gridcolor": "white",
             "linecolor": "white",
             "minorgridcolor": "white",
             "startlinecolor": "#2a3f5f"
            },
            "baxis": {
             "endlinecolor": "#2a3f5f",
             "gridcolor": "white",
             "linecolor": "white",
             "minorgridcolor": "white",
             "startlinecolor": "#2a3f5f"
            },
            "type": "carpet"
           }
          ],
          "choropleth": [
           {
            "colorbar": {
             "outlinewidth": 0,
             "ticks": ""
            },
            "type": "choropleth"
           }
          ],
          "contour": [
           {
            "colorbar": {
             "outlinewidth": 0,
             "ticks": ""
            },
            "colorscale": [
             [
              0,
              "#0d0887"
             ],
             [
              0.1111111111111111,
              "#46039f"
             ],
             [
              0.2222222222222222,
              "#7201a8"
             ],
             [
              0.3333333333333333,
              "#9c179e"
             ],
             [
              0.4444444444444444,
              "#bd3786"
             ],
             [
              0.5555555555555556,
              "#d8576b"
             ],
             [
              0.6666666666666666,
              "#ed7953"
             ],
             [
              0.7777777777777778,
              "#fb9f3a"
             ],
             [
              0.8888888888888888,
              "#fdca26"
             ],
             [
              1,
              "#f0f921"
             ]
            ],
            "type": "contour"
           }
          ],
          "contourcarpet": [
           {
            "colorbar": {
             "outlinewidth": 0,
             "ticks": ""
            },
            "type": "contourcarpet"
           }
          ],
          "heatmap": [
           {
            "colorbar": {
             "outlinewidth": 0,
             "ticks": ""
            },
            "colorscale": [
             [
              0,
              "#0d0887"
             ],
             [
              0.1111111111111111,
              "#46039f"
             ],
             [
              0.2222222222222222,
              "#7201a8"
             ],
             [
              0.3333333333333333,
              "#9c179e"
             ],
             [
              0.4444444444444444,
              "#bd3786"
             ],
             [
              0.5555555555555556,
              "#d8576b"
             ],
             [
              0.6666666666666666,
              "#ed7953"
             ],
             [
              0.7777777777777778,
              "#fb9f3a"
             ],
             [
              0.8888888888888888,
              "#fdca26"
             ],
             [
              1,
              "#f0f921"
             ]
            ],
            "type": "heatmap"
           }
          ],
          "heatmapgl": [
           {
            "colorbar": {
             "outlinewidth": 0,
             "ticks": ""
            },
            "colorscale": [
             [
              0,
              "#0d0887"
             ],
             [
              0.1111111111111111,
              "#46039f"
             ],
             [
              0.2222222222222222,
              "#7201a8"
             ],
             [
              0.3333333333333333,
              "#9c179e"
             ],
             [
              0.4444444444444444,
              "#bd3786"
             ],
             [
              0.5555555555555556,
              "#d8576b"
             ],
             [
              0.6666666666666666,
              "#ed7953"
             ],
             [
              0.7777777777777778,
              "#fb9f3a"
             ],
             [
              0.8888888888888888,
              "#fdca26"
             ],
             [
              1,
              "#f0f921"
             ]
            ],
            "type": "heatmapgl"
           }
          ],
          "histogram": [
           {
            "marker": {
             "pattern": {
              "fillmode": "overlay",
              "size": 10,
              "solidity": 0.2
             }
            },
            "type": "histogram"
           }
          ],
          "histogram2d": [
           {
            "colorbar": {
             "outlinewidth": 0,
             "ticks": ""
            },
            "colorscale": [
             [
              0,
              "#0d0887"
             ],
             [
              0.1111111111111111,
              "#46039f"
             ],
             [
              0.2222222222222222,
              "#7201a8"
             ],
             [
              0.3333333333333333,
              "#9c179e"
             ],
             [
              0.4444444444444444,
              "#bd3786"
             ],
             [
              0.5555555555555556,
              "#d8576b"
             ],
             [
              0.6666666666666666,
              "#ed7953"
             ],
             [
              0.7777777777777778,
              "#fb9f3a"
             ],
             [
              0.8888888888888888,
              "#fdca26"
             ],
             [
              1,
              "#f0f921"
             ]
            ],
            "type": "histogram2d"
           }
          ],
          "histogram2dcontour": [
           {
            "colorbar": {
             "outlinewidth": 0,
             "ticks": ""
            },
            "colorscale": [
             [
              0,
              "#0d0887"
             ],
             [
              0.1111111111111111,
              "#46039f"
             ],
             [
              0.2222222222222222,
              "#7201a8"
             ],
             [
              0.3333333333333333,
              "#9c179e"
             ],
             [
              0.4444444444444444,
              "#bd3786"
             ],
             [
              0.5555555555555556,
              "#d8576b"
             ],
             [
              0.6666666666666666,
              "#ed7953"
             ],
             [
              0.7777777777777778,
              "#fb9f3a"
             ],
             [
              0.8888888888888888,
              "#fdca26"
             ],
             [
              1,
              "#f0f921"
             ]
            ],
            "type": "histogram2dcontour"
           }
          ],
          "mesh3d": [
           {
            "colorbar": {
             "outlinewidth": 0,
             "ticks": ""
            },
            "type": "mesh3d"
           }
          ],
          "parcoords": [
           {
            "line": {
             "colorbar": {
              "outlinewidth": 0,
              "ticks": ""
             }
            },
            "type": "parcoords"
           }
          ],
          "pie": [
           {
            "automargin": true,
            "type": "pie"
           }
          ],
          "scatter": [
           {
            "marker": {
             "colorbar": {
              "outlinewidth": 0,
              "ticks": ""
             }
            },
            "type": "scatter"
           }
          ],
          "scatter3d": [
           {
            "line": {
             "colorbar": {
              "outlinewidth": 0,
              "ticks": ""
             }
            },
            "marker": {
             "colorbar": {
              "outlinewidth": 0,
              "ticks": ""
             }
            },
            "type": "scatter3d"
           }
          ],
          "scattercarpet": [
           {
            "marker": {
             "colorbar": {
              "outlinewidth": 0,
              "ticks": ""
             }
            },
            "type": "scattercarpet"
           }
          ],
          "scattergeo": [
           {
            "marker": {
             "colorbar": {
              "outlinewidth": 0,
              "ticks": ""
             }
            },
            "type": "scattergeo"
           }
          ],
          "scattergl": [
           {
            "marker": {
             "colorbar": {
              "outlinewidth": 0,
              "ticks": ""
             }
            },
            "type": "scattergl"
           }
          ],
          "scattermapbox": [
           {
            "marker": {
             "colorbar": {
              "outlinewidth": 0,
              "ticks": ""
             }
            },
            "type": "scattermapbox"
           }
          ],
          "scatterpolar": [
           {
            "marker": {
             "colorbar": {
              "outlinewidth": 0,
              "ticks": ""
             }
            },
            "type": "scatterpolar"
           }
          ],
          "scatterpolargl": [
           {
            "marker": {
             "colorbar": {
              "outlinewidth": 0,
              "ticks": ""
             }
            },
            "type": "scatterpolargl"
           }
          ],
          "scatterternary": [
           {
            "marker": {
             "colorbar": {
              "outlinewidth": 0,
              "ticks": ""
             }
            },
            "type": "scatterternary"
           }
          ],
          "surface": [
           {
            "colorbar": {
             "outlinewidth": 0,
             "ticks": ""
            },
            "colorscale": [
             [
              0,
              "#0d0887"
             ],
             [
              0.1111111111111111,
              "#46039f"
             ],
             [
              0.2222222222222222,
              "#7201a8"
             ],
             [
              0.3333333333333333,
              "#9c179e"
             ],
             [
              0.4444444444444444,
              "#bd3786"
             ],
             [
              0.5555555555555556,
              "#d8576b"
             ],
             [
              0.6666666666666666,
              "#ed7953"
             ],
             [
              0.7777777777777778,
              "#fb9f3a"
             ],
             [
              0.8888888888888888,
              "#fdca26"
             ],
             [
              1,
              "#f0f921"
             ]
            ],
            "type": "surface"
           }
          ],
          "table": [
           {
            "cells": {
             "fill": {
              "color": "#EBF0F8"
             },
             "line": {
              "color": "white"
             }
            },
            "header": {
             "fill": {
              "color": "#C8D4E3"
             },
             "line": {
              "color": "white"
             }
            },
            "type": "table"
           }
          ]
         },
         "layout": {
          "annotationdefaults": {
           "arrowcolor": "#2a3f5f",
           "arrowhead": 0,
           "arrowwidth": 1
          },
          "autotypenumbers": "strict",
          "coloraxis": {
           "colorbar": {
            "outlinewidth": 0,
            "ticks": ""
           }
          },
          "colorscale": {
           "diverging": [
            [
             0,
             "#8e0152"
            ],
            [
             0.1,
             "#c51b7d"
            ],
            [
             0.2,
             "#de77ae"
            ],
            [
             0.3,
             "#f1b6da"
            ],
            [
             0.4,
             "#fde0ef"
            ],
            [
             0.5,
             "#f7f7f7"
            ],
            [
             0.6,
             "#e6f5d0"
            ],
            [
             0.7,
             "#b8e186"
            ],
            [
             0.8,
             "#7fbc41"
            ],
            [
             0.9,
             "#4d9221"
            ],
            [
             1,
             "#276419"
            ]
           ],
           "sequential": [
            [
             0,
             "#0d0887"
            ],
            [
             0.1111111111111111,
             "#46039f"
            ],
            [
             0.2222222222222222,
             "#7201a8"
            ],
            [
             0.3333333333333333,
             "#9c179e"
            ],
            [
             0.4444444444444444,
             "#bd3786"
            ],
            [
             0.5555555555555556,
             "#d8576b"
            ],
            [
             0.6666666666666666,
             "#ed7953"
            ],
            [
             0.7777777777777778,
             "#fb9f3a"
            ],
            [
             0.8888888888888888,
             "#fdca26"
            ],
            [
             1,
             "#f0f921"
            ]
           ],
           "sequentialminus": [
            [
             0,
             "#0d0887"
            ],
            [
             0.1111111111111111,
             "#46039f"
            ],
            [
             0.2222222222222222,
             "#7201a8"
            ],
            [
             0.3333333333333333,
             "#9c179e"
            ],
            [
             0.4444444444444444,
             "#bd3786"
            ],
            [
             0.5555555555555556,
             "#d8576b"
            ],
            [
             0.6666666666666666,
             "#ed7953"
            ],
            [
             0.7777777777777778,
             "#fb9f3a"
            ],
            [
             0.8888888888888888,
             "#fdca26"
            ],
            [
             1,
             "#f0f921"
            ]
           ]
          },
          "colorway": [
           "#636efa",
           "#EF553B",
           "#00cc96",
           "#ab63fa",
           "#FFA15A",
           "#19d3f3",
           "#FF6692",
           "#B6E880",
           "#FF97FF",
           "#FECB52"
          ],
          "font": {
           "color": "#2a3f5f"
          },
          "geo": {
           "bgcolor": "white",
           "lakecolor": "white",
           "landcolor": "#E5ECF6",
           "showlakes": true,
           "showland": true,
           "subunitcolor": "white"
          },
          "hoverlabel": {
           "align": "left"
          },
          "hovermode": "closest",
          "mapbox": {
           "style": "light"
          },
          "paper_bgcolor": "white",
          "plot_bgcolor": "#E5ECF6",
          "polar": {
           "angularaxis": {
            "gridcolor": "white",
            "linecolor": "white",
            "ticks": ""
           },
           "bgcolor": "#E5ECF6",
           "radialaxis": {
            "gridcolor": "white",
            "linecolor": "white",
            "ticks": ""
           }
          },
          "scene": {
           "xaxis": {
            "backgroundcolor": "#E5ECF6",
            "gridcolor": "white",
            "gridwidth": 2,
            "linecolor": "white",
            "showbackground": true,
            "ticks": "",
            "zerolinecolor": "white"
           },
           "yaxis": {
            "backgroundcolor": "#E5ECF6",
            "gridcolor": "white",
            "gridwidth": 2,
            "linecolor": "white",
            "showbackground": true,
            "ticks": "",
            "zerolinecolor": "white"
           },
           "zaxis": {
            "backgroundcolor": "#E5ECF6",
            "gridcolor": "white",
            "gridwidth": 2,
            "linecolor": "white",
            "showbackground": true,
            "ticks": "",
            "zerolinecolor": "white"
           }
          },
          "shapedefaults": {
           "line": {
            "color": "#2a3f5f"
           }
          },
          "ternary": {
           "aaxis": {
            "gridcolor": "white",
            "linecolor": "white",
            "ticks": ""
           },
           "baxis": {
            "gridcolor": "white",
            "linecolor": "white",
            "ticks": ""
           },
           "bgcolor": "#E5ECF6",
           "caxis": {
            "gridcolor": "white",
            "linecolor": "white",
            "ticks": ""
           }
          },
          "title": {
           "x": 0.05
          },
          "xaxis": {
           "automargin": true,
           "gridcolor": "white",
           "linecolor": "white",
           "ticks": "",
           "title": {
            "standoff": 15
           },
           "zerolinecolor": "white",
           "zerolinewidth": 2
          },
          "yaxis": {
           "automargin": true,
           "gridcolor": "white",
           "linecolor": "white",
           "ticks": "",
           "title": {
            "standoff": 15
           },
           "zerolinecolor": "white",
           "zerolinewidth": 2
          }
         }
        }
       }
      },
      "text/html": [
       "<div>                            <div id=\"2f2ac9b9-73eb-4e5a-99b4-80a16bde1f55\" class=\"plotly-graph-div\" style=\"height:525px; width:100%;\"></div>            <script type=\"text/javascript\">                require([\"plotly\"], function(Plotly) {                    window.PLOTLYENV=window.PLOTLYENV || {};                                    if (document.getElementById(\"2f2ac9b9-73eb-4e5a-99b4-80a16bde1f55\")) {                    Plotly.newPlot(                        \"2f2ac9b9-73eb-4e5a-99b4-80a16bde1f55\",                        [{\"name\":\"moyenne globale (tous candidats confondus)\",\"orientation\":\"h\",\"type\":\"bar\",\"x\":[9.904761904761905,15.333333333333334,16.642857142857142,36.45238095238095,40.023809523809526,46.476190476190474,49.73809523809524,66.78571428571429,172.0,172.21428571428572],\"y\":[\"Pouvoir_achat\",\"Extr\\u00eame\",\"Ecologie\",\"S\\u00e9curit\\u00e9\",\"Economie\",\"Sant\\u00e9\",\"Travail\",\"Candidats\",\"Politique\",\"Actualit\\u00e9\"]},{\"name\":\"extr\\u00eame_gauche\",\"orientation\":\"h\",\"type\":\"bar\",\"x\":[13.0,21.166666666666668,21.333333333333332,34.666666666666664,38.666666666666664,51.5,75.0,116.5,182.0,195.5],\"y\":[\"Ecologie\",\"Pouvoir_achat\",\"Extr\\u00eame\",\"S\\u00e9curit\\u00e9\",\"Sant\\u00e9\",\"Economie\",\"Travail\",\"Candidats\",\"Actualit\\u00e9\",\"Politique\"]}],                        {\"barmode\":\"group\",\"template\":{\"data\":{\"bar\":[{\"error_x\":{\"color\":\"#2a3f5f\"},\"error_y\":{\"color\":\"#2a3f5f\"},\"marker\":{\"line\":{\"color\":\"#E5ECF6\",\"width\":0.5},\"pattern\":{\"fillmode\":\"overlay\",\"size\":10,\"solidity\":0.2}},\"type\":\"bar\"}],\"barpolar\":[{\"marker\":{\"line\":{\"color\":\"#E5ECF6\",\"width\":0.5},\"pattern\":{\"fillmode\":\"overlay\",\"size\":10,\"solidity\":0.2}},\"type\":\"barpolar\"}],\"carpet\":[{\"aaxis\":{\"endlinecolor\":\"#2a3f5f\",\"gridcolor\":\"white\",\"linecolor\":\"white\",\"minorgridcolor\":\"white\",\"startlinecolor\":\"#2a3f5f\"},\"baxis\":{\"endlinecolor\":\"#2a3f5f\",\"gridcolor\":\"white\",\"linecolor\":\"white\",\"minorgridcolor\":\"white\",\"startlinecolor\":\"#2a3f5f\"},\"type\":\"carpet\"}],\"choropleth\":[{\"colorbar\":{\"outlinewidth\":0,\"ticks\":\"\"},\"type\":\"choropleth\"}],\"contour\":[{\"colorbar\":{\"outlinewidth\":0,\"ticks\":\"\"},\"colorscale\":[[0.0,\"#0d0887\"],[0.1111111111111111,\"#46039f\"],[0.2222222222222222,\"#7201a8\"],[0.3333333333333333,\"#9c179e\"],[0.4444444444444444,\"#bd3786\"],[0.5555555555555556,\"#d8576b\"],[0.6666666666666666,\"#ed7953\"],[0.7777777777777778,\"#fb9f3a\"],[0.8888888888888888,\"#fdca26\"],[1.0,\"#f0f921\"]],\"type\":\"contour\"}],\"contourcarpet\":[{\"colorbar\":{\"outlinewidth\":0,\"ticks\":\"\"},\"type\":\"contourcarpet\"}],\"heatmap\":[{\"colorbar\":{\"outlinewidth\":0,\"ticks\":\"\"},\"colorscale\":[[0.0,\"#0d0887\"],[0.1111111111111111,\"#46039f\"],[0.2222222222222222,\"#7201a8\"],[0.3333333333333333,\"#9c179e\"],[0.4444444444444444,\"#bd3786\"],[0.5555555555555556,\"#d8576b\"],[0.6666666666666666,\"#ed7953\"],[0.7777777777777778,\"#fb9f3a\"],[0.8888888888888888,\"#fdca26\"],[1.0,\"#f0f921\"]],\"type\":\"heatmap\"}],\"heatmapgl\":[{\"colorbar\":{\"outlinewidth\":0,\"ticks\":\"\"},\"colorscale\":[[0.0,\"#0d0887\"],[0.1111111111111111,\"#46039f\"],[0.2222222222222222,\"#7201a8\"],[0.3333333333333333,\"#9c179e\"],[0.4444444444444444,\"#bd3786\"],[0.5555555555555556,\"#d8576b\"],[0.6666666666666666,\"#ed7953\"],[0.7777777777777778,\"#fb9f3a\"],[0.8888888888888888,\"#fdca26\"],[1.0,\"#f0f921\"]],\"type\":\"heatmapgl\"}],\"histogram\":[{\"marker\":{\"pattern\":{\"fillmode\":\"overlay\",\"size\":10,\"solidity\":0.2}},\"type\":\"histogram\"}],\"histogram2d\":[{\"colorbar\":{\"outlinewidth\":0,\"ticks\":\"\"},\"colorscale\":[[0.0,\"#0d0887\"],[0.1111111111111111,\"#46039f\"],[0.2222222222222222,\"#7201a8\"],[0.3333333333333333,\"#9c179e\"],[0.4444444444444444,\"#bd3786\"],[0.5555555555555556,\"#d8576b\"],[0.6666666666666666,\"#ed7953\"],[0.7777777777777778,\"#fb9f3a\"],[0.8888888888888888,\"#fdca26\"],[1.0,\"#f0f921\"]],\"type\":\"histogram2d\"}],\"histogram2dcontour\":[{\"colorbar\":{\"outlinewidth\":0,\"ticks\":\"\"},\"colorscale\":[[0.0,\"#0d0887\"],[0.1111111111111111,\"#46039f\"],[0.2222222222222222,\"#7201a8\"],[0.3333333333333333,\"#9c179e\"],[0.4444444444444444,\"#bd3786\"],[0.5555555555555556,\"#d8576b\"],[0.6666666666666666,\"#ed7953\"],[0.7777777777777778,\"#fb9f3a\"],[0.8888888888888888,\"#fdca26\"],[1.0,\"#f0f921\"]],\"type\":\"histogram2dcontour\"}],\"mesh3d\":[{\"colorbar\":{\"outlinewidth\":0,\"ticks\":\"\"},\"type\":\"mesh3d\"}],\"parcoords\":[{\"line\":{\"colorbar\":{\"outlinewidth\":0,\"ticks\":\"\"}},\"type\":\"parcoords\"}],\"pie\":[{\"automargin\":true,\"type\":\"pie\"}],\"scatter\":[{\"marker\":{\"colorbar\":{\"outlinewidth\":0,\"ticks\":\"\"}},\"type\":\"scatter\"}],\"scatter3d\":[{\"line\":{\"colorbar\":{\"outlinewidth\":0,\"ticks\":\"\"}},\"marker\":{\"colorbar\":{\"outlinewidth\":0,\"ticks\":\"\"}},\"type\":\"scatter3d\"}],\"scattercarpet\":[{\"marker\":{\"colorbar\":{\"outlinewidth\":0,\"ticks\":\"\"}},\"type\":\"scattercarpet\"}],\"scattergeo\":[{\"marker\":{\"colorbar\":{\"outlinewidth\":0,\"ticks\":\"\"}},\"type\":\"scattergeo\"}],\"scattergl\":[{\"marker\":{\"colorbar\":{\"outlinewidth\":0,\"ticks\":\"\"}},\"type\":\"scattergl\"}],\"scattermapbox\":[{\"marker\":{\"colorbar\":{\"outlinewidth\":0,\"ticks\":\"\"}},\"type\":\"scattermapbox\"}],\"scatterpolar\":[{\"marker\":{\"colorbar\":{\"outlinewidth\":0,\"ticks\":\"\"}},\"type\":\"scatterpolar\"}],\"scatterpolargl\":[{\"marker\":{\"colorbar\":{\"outlinewidth\":0,\"ticks\":\"\"}},\"type\":\"scatterpolargl\"}],\"scatterternary\":[{\"marker\":{\"colorbar\":{\"outlinewidth\":0,\"ticks\":\"\"}},\"type\":\"scatterternary\"}],\"surface\":[{\"colorbar\":{\"outlinewidth\":0,\"ticks\":\"\"},\"colorscale\":[[0.0,\"#0d0887\"],[0.1111111111111111,\"#46039f\"],[0.2222222222222222,\"#7201a8\"],[0.3333333333333333,\"#9c179e\"],[0.4444444444444444,\"#bd3786\"],[0.5555555555555556,\"#d8576b\"],[0.6666666666666666,\"#ed7953\"],[0.7777777777777778,\"#fb9f3a\"],[0.8888888888888888,\"#fdca26\"],[1.0,\"#f0f921\"]],\"type\":\"surface\"}],\"table\":[{\"cells\":{\"fill\":{\"color\":\"#EBF0F8\"},\"line\":{\"color\":\"white\"}},\"header\":{\"fill\":{\"color\":\"#C8D4E3\"},\"line\":{\"color\":\"white\"}},\"type\":\"table\"}]},\"layout\":{\"annotationdefaults\":{\"arrowcolor\":\"#2a3f5f\",\"arrowhead\":0,\"arrowwidth\":1},\"autotypenumbers\":\"strict\",\"coloraxis\":{\"colorbar\":{\"outlinewidth\":0,\"ticks\":\"\"}},\"colorscale\":{\"diverging\":[[0,\"#8e0152\"],[0.1,\"#c51b7d\"],[0.2,\"#de77ae\"],[0.3,\"#f1b6da\"],[0.4,\"#fde0ef\"],[0.5,\"#f7f7f7\"],[0.6,\"#e6f5d0\"],[0.7,\"#b8e186\"],[0.8,\"#7fbc41\"],[0.9,\"#4d9221\"],[1,\"#276419\"]],\"sequential\":[[0.0,\"#0d0887\"],[0.1111111111111111,\"#46039f\"],[0.2222222222222222,\"#7201a8\"],[0.3333333333333333,\"#9c179e\"],[0.4444444444444444,\"#bd3786\"],[0.5555555555555556,\"#d8576b\"],[0.6666666666666666,\"#ed7953\"],[0.7777777777777778,\"#fb9f3a\"],[0.8888888888888888,\"#fdca26\"],[1.0,\"#f0f921\"]],\"sequentialminus\":[[0.0,\"#0d0887\"],[0.1111111111111111,\"#46039f\"],[0.2222222222222222,\"#7201a8\"],[0.3333333333333333,\"#9c179e\"],[0.4444444444444444,\"#bd3786\"],[0.5555555555555556,\"#d8576b\"],[0.6666666666666666,\"#ed7953\"],[0.7777777777777778,\"#fb9f3a\"],[0.8888888888888888,\"#fdca26\"],[1.0,\"#f0f921\"]]},\"colorway\":[\"#636efa\",\"#EF553B\",\"#00cc96\",\"#ab63fa\",\"#FFA15A\",\"#19d3f3\",\"#FF6692\",\"#B6E880\",\"#FF97FF\",\"#FECB52\"],\"font\":{\"color\":\"#2a3f5f\"},\"geo\":{\"bgcolor\":\"white\",\"lakecolor\":\"white\",\"landcolor\":\"#E5ECF6\",\"showlakes\":true,\"showland\":true,\"subunitcolor\":\"white\"},\"hoverlabel\":{\"align\":\"left\"},\"hovermode\":\"closest\",\"mapbox\":{\"style\":\"light\"},\"paper_bgcolor\":\"white\",\"plot_bgcolor\":\"#E5ECF6\",\"polar\":{\"angularaxis\":{\"gridcolor\":\"white\",\"linecolor\":\"white\",\"ticks\":\"\"},\"bgcolor\":\"#E5ECF6\",\"radialaxis\":{\"gridcolor\":\"white\",\"linecolor\":\"white\",\"ticks\":\"\"}},\"scene\":{\"xaxis\":{\"backgroundcolor\":\"#E5ECF6\",\"gridcolor\":\"white\",\"gridwidth\":2,\"linecolor\":\"white\",\"showbackground\":true,\"ticks\":\"\",\"zerolinecolor\":\"white\"},\"yaxis\":{\"backgroundcolor\":\"#E5ECF6\",\"gridcolor\":\"white\",\"gridwidth\":2,\"linecolor\":\"white\",\"showbackground\":true,\"ticks\":\"\",\"zerolinecolor\":\"white\"},\"zaxis\":{\"backgroundcolor\":\"#E5ECF6\",\"gridcolor\":\"white\",\"gridwidth\":2,\"linecolor\":\"white\",\"showbackground\":true,\"ticks\":\"\",\"zerolinecolor\":\"white\"}},\"shapedefaults\":{\"line\":{\"color\":\"#2a3f5f\"}},\"ternary\":{\"aaxis\":{\"gridcolor\":\"white\",\"linecolor\":\"white\",\"ticks\":\"\"},\"baxis\":{\"gridcolor\":\"white\",\"linecolor\":\"white\",\"ticks\":\"\"},\"bgcolor\":\"#E5ECF6\",\"caxis\":{\"gridcolor\":\"white\",\"linecolor\":\"white\",\"ticks\":\"\"}},\"title\":{\"x\":0.05},\"xaxis\":{\"automargin\":true,\"gridcolor\":\"white\",\"linecolor\":\"white\",\"ticks\":\"\",\"title\":{\"standoff\":15},\"zerolinecolor\":\"white\",\"zerolinewidth\":2},\"yaxis\":{\"automargin\":true,\"gridcolor\":\"white\",\"linecolor\":\"white\",\"ticks\":\"\",\"title\":{\"standoff\":15},\"zerolinecolor\":\"white\",\"zerolinewidth\":2}}}},                        {\"responsive\": true}                    ).then(function(){\n",
       "                            \n",
       "var gd = document.getElementById('2f2ac9b9-73eb-4e5a-99b4-80a16bde1f55');\n",
       "var x = new MutationObserver(function (mutations, observer) {{\n",
       "        var display = window.getComputedStyle(gd).display;\n",
       "        if (!display || display === 'none') {{\n",
       "            console.log([gd, 'removed!']);\n",
       "            Plotly.purge(gd);\n",
       "            observer.disconnect();\n",
       "        }}\n",
       "}});\n",
       "\n",
       "// Listen for the removal of the full notebook cells\n",
       "var notebookContainer = gd.closest('#notebook-container');\n",
       "if (notebookContainer) {{\n",
       "    x.observe(notebookContainer, {childList: true});\n",
       "}}\n",
       "\n",
       "// Listen for the clearing of the current output cell\n",
       "var outputEl = gd.closest('.output');\n",
       "if (outputEl) {{\n",
       "    x.observe(outputEl, {childList: true});\n",
       "}}\n",
       "\n",
       "                        })                };                });            </script>        </div>"
      ]
     },
     "metadata": {},
     "output_type": "display_data"
    }
   ],
   "source": [
    "global_vs_choosen_political_orientation_mean_score_per_theme(political_orientation=\"extrême_gauche\")"
   ]
  },
  {
   "cell_type": "code",
   "execution_count": 52,
   "id": "79d0fe5c",
   "metadata": {},
   "outputs": [],
   "source": [
    "def number_of_candidates_per_political_orientation(political_orientation):\n",
    "    \"\"\"\n",
    "    Returns a string with the number of candidates per political orientation\n",
    "    \"\"\"\n",
    "    # List of candidates\n",
    "    candidates = lexicon_score_per_user_df[lexicon_score_per_user_df[\"political_orientation\"]==political_orientation][\"name\"].unique()\n",
    "    \n",
    "    return f\"{len(candidates)} candidat(s) représente(nt) ce parti:\""
   ]
  },
  {
   "cell_type": "code",
   "execution_count": 121,
   "id": "c3823852",
   "metadata": {},
   "outputs": [
    {
     "data": {
      "text/plain": [
       "'6 candidat(s) représente(nt) ce parti:'"
      ]
     },
     "execution_count": 121,
     "metadata": {},
     "output_type": "execute_result"
    }
   ],
   "source": [
    "number_of_candidates_per_political_orientation(political_orientation=\"extrême_gauche\")"
   ]
  },
  {
   "cell_type": "code",
   "execution_count": 54,
   "id": "e984474f",
   "metadata": {},
   "outputs": [],
   "source": [
    "def list_all_candidates_per_political_orientation(political_orientation):\n",
    "    \"\"\"\n",
    "    Returns a list of each candidate's name for the choosen political orientation\n",
    "    \"\"\"\n",
    "    # List of candidates\n",
    "    candidates = list(lexicon_score_per_user_df[lexicon_score_per_user_df[\"political_orientation\"]==political_orientation][\"name\"].unique())\n",
    "    \n",
    "    return candidates"
   ]
  },
  {
   "cell_type": "code",
   "execution_count": 122,
   "id": "c7d945a8",
   "metadata": {},
   "outputs": [
    {
     "data": {
      "text/plain": [
       "['Philippe Poutou',\n",
       " 'Anasse Kazib',\n",
       " 'Jean-Luc Mélenchon',\n",
       " 'Gerard Filoche',\n",
       " 'Nathalie Arthaud',\n",
       " 'Fabien Roussel']"
      ]
     },
     "execution_count": 122,
     "metadata": {},
     "output_type": "execute_result"
    }
   ],
   "source": [
    "list_all_candidates_per_political_orientation(political_orientation=\"extrême_gauche\")"
   ]
  },
  {
   "cell_type": "markdown",
   "id": "7b47bd0f",
   "metadata": {},
   "source": [
    "## Les sujets qui vous intéressent"
   ]
  },
  {
   "cell_type": "code",
   "execution_count": 56,
   "id": "489cea4f",
   "metadata": {},
   "outputs": [],
   "source": [
    "def score_for_two_given_themes(first_theme, second_theme):\n",
    "    \"\"\"\n",
    "    Returns a scatter plot with each candidates score for two given themes\n",
    "    \"\"\"\n",
    "    # Define the scatter plot\n",
    "    fig = px.scatter(lexicon_score_per_user_df, x=first_theme, y=second_theme, color=\"political_orientation\", hover_data=[\"name\"])\n",
    "    \n",
    "    return fig.show()"
   ]
  },
  {
   "cell_type": "code",
   "execution_count": 123,
   "id": "3d40e458",
   "metadata": {},
   "outputs": [
    {
     "data": {
      "application/vnd.plotly.v1+json": {
       "config": {
        "plotlyServerURL": "https://plot.ly"
       },
       "data": [
        {
         "customdata": [
          [
           "Alex Langlois"
          ],
          [
           "Fabrice Grimal"
          ],
          [
           "Clara Egger"
          ],
          [
           "Georges Kuzmanovic"
          ],
          [
           "Marie Cau"
          ],
          [
           "Jean Lassale"
          ],
          [
           "François Asselineau"
          ],
          [
           "Luc Laforets"
          ],
          [
           "Martin Rocca"
          ],
          [
           "Gilles Lazzarini"
          ],
          [
           "Gildas Vieira"
          ]
         ],
         "hovertemplate": "political_orientation=divers<br>Ecologie=%{x}<br>Economie=%{y}<br>name=%{customdata[0]}<extra></extra>",
         "legendgroup": "divers",
         "marker": {
          "color": "#636efa",
          "symbol": "circle"
         },
         "mode": "markers",
         "name": "divers",
         "orientation": "v",
         "showlegend": true,
         "type": "scatter",
         "x": [
          11,
          2,
          3,
          17,
          7,
          12,
          11,
          7,
          2,
          14,
          4
         ],
         "xaxis": "x",
         "y": [
          15,
          22,
          4,
          48,
          14,
          56,
          70,
          17,
          8,
          25,
          8
         ],
         "yaxis": "y"
        },
        {
         "customdata": [
          [
           "Édouard Philippe"
          ],
          [
           "Emmanuel Macron"
          ],
          [
           "Régis Ollivier"
          ],
          [
           "Philippe Juvin"
          ],
          [
           "Jacline Mouraud"
          ],
          [
           "Denis Payre"
          ],
          [
           "Eric Ciotti"
          ],
          [
           "Michel Barnier"
          ],
          [
           "Valérie Pécresse"
          ],
          [
           "Xavier Bertrand"
          ]
         ],
         "hovertemplate": "political_orientation=droite<br>Ecologie=%{x}<br>Economie=%{y}<br>name=%{customdata[0]}<extra></extra>",
         "legendgroup": "droite",
         "marker": {
          "color": "#EF553B",
          "symbol": "circle"
         },
         "mode": "markers",
         "name": "droite",
         "orientation": "v",
         "showlegend": true,
         "type": "scatter",
         "x": [
          12,
          51,
          5,
          14,
          4,
          10,
          2,
          24,
          8,
          10
         ],
         "xaxis": "x",
         "y": [
          52,
          86,
          15,
          42,
          22,
          44,
          33,
          57,
          57,
          27
         ],
         "yaxis": "y"
        },
        {
         "customdata": [
          [
           "Charlotte Marchandise"
          ],
          [
           "Anna Agueb-Porterie"
          ],
          [
           "Anne Hidalgo"
          ],
          [
           "Pierre Larrouturou"
          ],
          [
           "Philippe Mazuel"
          ],
          [
           "Arnaud Montebourg"
          ]
         ],
         "hovertemplate": "political_orientation=gauche<br>Ecologie=%{x}<br>Economie=%{y}<br>name=%{customdata[0]}<extra></extra>",
         "legendgroup": "gauche",
         "marker": {
          "color": "#00cc96",
          "symbol": "circle"
         },
         "mode": "markers",
         "name": "gauche",
         "orientation": "v",
         "showlegend": true,
         "type": "scatter",
         "x": [
          17,
          14,
          25,
          58,
          13,
          12
         ],
         "xaxis": "x",
         "y": [
          17,
          19,
          36,
          80,
          16,
          62
         ],
         "yaxis": "y"
        },
        {
         "customdata": [
          [
           "Philippe Poutou"
          ],
          [
           "Anasse Kazib"
          ],
          [
           "Jean-Luc Mélenchon"
          ],
          [
           "Gerard Filoche"
          ],
          [
           "Nathalie Arthaud"
          ],
          [
           "Fabien Roussel"
          ]
         ],
         "hovertemplate": "political_orientation=extrême_gauche<br>Ecologie=%{x}<br>Economie=%{y}<br>name=%{customdata[0]}<extra></extra>",
         "legendgroup": "extrême_gauche",
         "marker": {
          "color": "#ab63fa",
          "symbol": "circle"
         },
         "mode": "markers",
         "name": "extrême_gauche",
         "orientation": "v",
         "showlegend": true,
         "type": "scatter",
         "x": [
          10,
          1,
          30,
          8,
          12,
          17
         ],
         "xaxis": "x",
         "y": [
          30,
          22,
          83,
          17,
          71,
          86
         ],
         "yaxis": "y"
        },
        {
         "customdata": [
          [
           "Eric Zemmour"
          ],
          [
           "Jean-Frédéric Poisson"
          ],
          [
           "Florian Philippot"
          ],
          [
           "Nicolas Dupont-Aignan"
          ],
          [
           "Marine Le Pen"
          ],
          [
           "Antoine Martinez"
          ]
         ],
         "hovertemplate": "political_orientation=extrême_droite<br>Ecologie=%{x}<br>Economie=%{y}<br>name=%{customdata[0]}<extra></extra>",
         "legendgroup": "extrême_droite",
         "marker": {
          "color": "#FFA15A",
          "symbol": "circle"
         },
         "mode": "markers",
         "name": "extrême_droite",
         "orientation": "v",
         "showlegend": true,
         "type": "scatter",
         "x": [
          3,
          19,
          5,
          6,
          22,
          5
         ],
         "xaxis": "x",
         "y": [
          48,
          42,
          30,
          64,
          81,
          33
         ],
         "yaxis": "y"
        },
        {
         "customdata": [
          [
           "Yannick Jadot"
          ],
          [
           "Hélène Thouy"
          ],
          [
           "Antoine Waechter"
          ]
         ],
         "hovertemplate": "political_orientation=ecologie<br>Ecologie=%{x}<br>Economie=%{y}<br>name=%{customdata[0]}<extra></extra>",
         "legendgroup": "ecologie",
         "marker": {
          "color": "#19d3f3",
          "symbol": "circle"
         },
         "mode": "markers",
         "name": "ecologie",
         "orientation": "v",
         "showlegend": true,
         "type": "scatter",
         "x": [
          105,
          11,
          76
         ],
         "xaxis": "x",
         "y": [
          58,
          28,
          36
         ],
         "yaxis": "y"
        }
       ],
       "layout": {
        "legend": {
         "title": {
          "text": "political_orientation"
         },
         "tracegroupgap": 0
        },
        "margin": {
         "t": 60
        },
        "template": {
         "data": {
          "bar": [
           {
            "error_x": {
             "color": "#2a3f5f"
            },
            "error_y": {
             "color": "#2a3f5f"
            },
            "marker": {
             "line": {
              "color": "#E5ECF6",
              "width": 0.5
             },
             "pattern": {
              "fillmode": "overlay",
              "size": 10,
              "solidity": 0.2
             }
            },
            "type": "bar"
           }
          ],
          "barpolar": [
           {
            "marker": {
             "line": {
              "color": "#E5ECF6",
              "width": 0.5
             },
             "pattern": {
              "fillmode": "overlay",
              "size": 10,
              "solidity": 0.2
             }
            },
            "type": "barpolar"
           }
          ],
          "carpet": [
           {
            "aaxis": {
             "endlinecolor": "#2a3f5f",
             "gridcolor": "white",
             "linecolor": "white",
             "minorgridcolor": "white",
             "startlinecolor": "#2a3f5f"
            },
            "baxis": {
             "endlinecolor": "#2a3f5f",
             "gridcolor": "white",
             "linecolor": "white",
             "minorgridcolor": "white",
             "startlinecolor": "#2a3f5f"
            },
            "type": "carpet"
           }
          ],
          "choropleth": [
           {
            "colorbar": {
             "outlinewidth": 0,
             "ticks": ""
            },
            "type": "choropleth"
           }
          ],
          "contour": [
           {
            "colorbar": {
             "outlinewidth": 0,
             "ticks": ""
            },
            "colorscale": [
             [
              0,
              "#0d0887"
             ],
             [
              0.1111111111111111,
              "#46039f"
             ],
             [
              0.2222222222222222,
              "#7201a8"
             ],
             [
              0.3333333333333333,
              "#9c179e"
             ],
             [
              0.4444444444444444,
              "#bd3786"
             ],
             [
              0.5555555555555556,
              "#d8576b"
             ],
             [
              0.6666666666666666,
              "#ed7953"
             ],
             [
              0.7777777777777778,
              "#fb9f3a"
             ],
             [
              0.8888888888888888,
              "#fdca26"
             ],
             [
              1,
              "#f0f921"
             ]
            ],
            "type": "contour"
           }
          ],
          "contourcarpet": [
           {
            "colorbar": {
             "outlinewidth": 0,
             "ticks": ""
            },
            "type": "contourcarpet"
           }
          ],
          "heatmap": [
           {
            "colorbar": {
             "outlinewidth": 0,
             "ticks": ""
            },
            "colorscale": [
             [
              0,
              "#0d0887"
             ],
             [
              0.1111111111111111,
              "#46039f"
             ],
             [
              0.2222222222222222,
              "#7201a8"
             ],
             [
              0.3333333333333333,
              "#9c179e"
             ],
             [
              0.4444444444444444,
              "#bd3786"
             ],
             [
              0.5555555555555556,
              "#d8576b"
             ],
             [
              0.6666666666666666,
              "#ed7953"
             ],
             [
              0.7777777777777778,
              "#fb9f3a"
             ],
             [
              0.8888888888888888,
              "#fdca26"
             ],
             [
              1,
              "#f0f921"
             ]
            ],
            "type": "heatmap"
           }
          ],
          "heatmapgl": [
           {
            "colorbar": {
             "outlinewidth": 0,
             "ticks": ""
            },
            "colorscale": [
             [
              0,
              "#0d0887"
             ],
             [
              0.1111111111111111,
              "#46039f"
             ],
             [
              0.2222222222222222,
              "#7201a8"
             ],
             [
              0.3333333333333333,
              "#9c179e"
             ],
             [
              0.4444444444444444,
              "#bd3786"
             ],
             [
              0.5555555555555556,
              "#d8576b"
             ],
             [
              0.6666666666666666,
              "#ed7953"
             ],
             [
              0.7777777777777778,
              "#fb9f3a"
             ],
             [
              0.8888888888888888,
              "#fdca26"
             ],
             [
              1,
              "#f0f921"
             ]
            ],
            "type": "heatmapgl"
           }
          ],
          "histogram": [
           {
            "marker": {
             "pattern": {
              "fillmode": "overlay",
              "size": 10,
              "solidity": 0.2
             }
            },
            "type": "histogram"
           }
          ],
          "histogram2d": [
           {
            "colorbar": {
             "outlinewidth": 0,
             "ticks": ""
            },
            "colorscale": [
             [
              0,
              "#0d0887"
             ],
             [
              0.1111111111111111,
              "#46039f"
             ],
             [
              0.2222222222222222,
              "#7201a8"
             ],
             [
              0.3333333333333333,
              "#9c179e"
             ],
             [
              0.4444444444444444,
              "#bd3786"
             ],
             [
              0.5555555555555556,
              "#d8576b"
             ],
             [
              0.6666666666666666,
              "#ed7953"
             ],
             [
              0.7777777777777778,
              "#fb9f3a"
             ],
             [
              0.8888888888888888,
              "#fdca26"
             ],
             [
              1,
              "#f0f921"
             ]
            ],
            "type": "histogram2d"
           }
          ],
          "histogram2dcontour": [
           {
            "colorbar": {
             "outlinewidth": 0,
             "ticks": ""
            },
            "colorscale": [
             [
              0,
              "#0d0887"
             ],
             [
              0.1111111111111111,
              "#46039f"
             ],
             [
              0.2222222222222222,
              "#7201a8"
             ],
             [
              0.3333333333333333,
              "#9c179e"
             ],
             [
              0.4444444444444444,
              "#bd3786"
             ],
             [
              0.5555555555555556,
              "#d8576b"
             ],
             [
              0.6666666666666666,
              "#ed7953"
             ],
             [
              0.7777777777777778,
              "#fb9f3a"
             ],
             [
              0.8888888888888888,
              "#fdca26"
             ],
             [
              1,
              "#f0f921"
             ]
            ],
            "type": "histogram2dcontour"
           }
          ],
          "mesh3d": [
           {
            "colorbar": {
             "outlinewidth": 0,
             "ticks": ""
            },
            "type": "mesh3d"
           }
          ],
          "parcoords": [
           {
            "line": {
             "colorbar": {
              "outlinewidth": 0,
              "ticks": ""
             }
            },
            "type": "parcoords"
           }
          ],
          "pie": [
           {
            "automargin": true,
            "type": "pie"
           }
          ],
          "scatter": [
           {
            "marker": {
             "colorbar": {
              "outlinewidth": 0,
              "ticks": ""
             }
            },
            "type": "scatter"
           }
          ],
          "scatter3d": [
           {
            "line": {
             "colorbar": {
              "outlinewidth": 0,
              "ticks": ""
             }
            },
            "marker": {
             "colorbar": {
              "outlinewidth": 0,
              "ticks": ""
             }
            },
            "type": "scatter3d"
           }
          ],
          "scattercarpet": [
           {
            "marker": {
             "colorbar": {
              "outlinewidth": 0,
              "ticks": ""
             }
            },
            "type": "scattercarpet"
           }
          ],
          "scattergeo": [
           {
            "marker": {
             "colorbar": {
              "outlinewidth": 0,
              "ticks": ""
             }
            },
            "type": "scattergeo"
           }
          ],
          "scattergl": [
           {
            "marker": {
             "colorbar": {
              "outlinewidth": 0,
              "ticks": ""
             }
            },
            "type": "scattergl"
           }
          ],
          "scattermapbox": [
           {
            "marker": {
             "colorbar": {
              "outlinewidth": 0,
              "ticks": ""
             }
            },
            "type": "scattermapbox"
           }
          ],
          "scatterpolar": [
           {
            "marker": {
             "colorbar": {
              "outlinewidth": 0,
              "ticks": ""
             }
            },
            "type": "scatterpolar"
           }
          ],
          "scatterpolargl": [
           {
            "marker": {
             "colorbar": {
              "outlinewidth": 0,
              "ticks": ""
             }
            },
            "type": "scatterpolargl"
           }
          ],
          "scatterternary": [
           {
            "marker": {
             "colorbar": {
              "outlinewidth": 0,
              "ticks": ""
             }
            },
            "type": "scatterternary"
           }
          ],
          "surface": [
           {
            "colorbar": {
             "outlinewidth": 0,
             "ticks": ""
            },
            "colorscale": [
             [
              0,
              "#0d0887"
             ],
             [
              0.1111111111111111,
              "#46039f"
             ],
             [
              0.2222222222222222,
              "#7201a8"
             ],
             [
              0.3333333333333333,
              "#9c179e"
             ],
             [
              0.4444444444444444,
              "#bd3786"
             ],
             [
              0.5555555555555556,
              "#d8576b"
             ],
             [
              0.6666666666666666,
              "#ed7953"
             ],
             [
              0.7777777777777778,
              "#fb9f3a"
             ],
             [
              0.8888888888888888,
              "#fdca26"
             ],
             [
              1,
              "#f0f921"
             ]
            ],
            "type": "surface"
           }
          ],
          "table": [
           {
            "cells": {
             "fill": {
              "color": "#EBF0F8"
             },
             "line": {
              "color": "white"
             }
            },
            "header": {
             "fill": {
              "color": "#C8D4E3"
             },
             "line": {
              "color": "white"
             }
            },
            "type": "table"
           }
          ]
         },
         "layout": {
          "annotationdefaults": {
           "arrowcolor": "#2a3f5f",
           "arrowhead": 0,
           "arrowwidth": 1
          },
          "autotypenumbers": "strict",
          "coloraxis": {
           "colorbar": {
            "outlinewidth": 0,
            "ticks": ""
           }
          },
          "colorscale": {
           "diverging": [
            [
             0,
             "#8e0152"
            ],
            [
             0.1,
             "#c51b7d"
            ],
            [
             0.2,
             "#de77ae"
            ],
            [
             0.3,
             "#f1b6da"
            ],
            [
             0.4,
             "#fde0ef"
            ],
            [
             0.5,
             "#f7f7f7"
            ],
            [
             0.6,
             "#e6f5d0"
            ],
            [
             0.7,
             "#b8e186"
            ],
            [
             0.8,
             "#7fbc41"
            ],
            [
             0.9,
             "#4d9221"
            ],
            [
             1,
             "#276419"
            ]
           ],
           "sequential": [
            [
             0,
             "#0d0887"
            ],
            [
             0.1111111111111111,
             "#46039f"
            ],
            [
             0.2222222222222222,
             "#7201a8"
            ],
            [
             0.3333333333333333,
             "#9c179e"
            ],
            [
             0.4444444444444444,
             "#bd3786"
            ],
            [
             0.5555555555555556,
             "#d8576b"
            ],
            [
             0.6666666666666666,
             "#ed7953"
            ],
            [
             0.7777777777777778,
             "#fb9f3a"
            ],
            [
             0.8888888888888888,
             "#fdca26"
            ],
            [
             1,
             "#f0f921"
            ]
           ],
           "sequentialminus": [
            [
             0,
             "#0d0887"
            ],
            [
             0.1111111111111111,
             "#46039f"
            ],
            [
             0.2222222222222222,
             "#7201a8"
            ],
            [
             0.3333333333333333,
             "#9c179e"
            ],
            [
             0.4444444444444444,
             "#bd3786"
            ],
            [
             0.5555555555555556,
             "#d8576b"
            ],
            [
             0.6666666666666666,
             "#ed7953"
            ],
            [
             0.7777777777777778,
             "#fb9f3a"
            ],
            [
             0.8888888888888888,
             "#fdca26"
            ],
            [
             1,
             "#f0f921"
            ]
           ]
          },
          "colorway": [
           "#636efa",
           "#EF553B",
           "#00cc96",
           "#ab63fa",
           "#FFA15A",
           "#19d3f3",
           "#FF6692",
           "#B6E880",
           "#FF97FF",
           "#FECB52"
          ],
          "font": {
           "color": "#2a3f5f"
          },
          "geo": {
           "bgcolor": "white",
           "lakecolor": "white",
           "landcolor": "#E5ECF6",
           "showlakes": true,
           "showland": true,
           "subunitcolor": "white"
          },
          "hoverlabel": {
           "align": "left"
          },
          "hovermode": "closest",
          "mapbox": {
           "style": "light"
          },
          "paper_bgcolor": "white",
          "plot_bgcolor": "#E5ECF6",
          "polar": {
           "angularaxis": {
            "gridcolor": "white",
            "linecolor": "white",
            "ticks": ""
           },
           "bgcolor": "#E5ECF6",
           "radialaxis": {
            "gridcolor": "white",
            "linecolor": "white",
            "ticks": ""
           }
          },
          "scene": {
           "xaxis": {
            "backgroundcolor": "#E5ECF6",
            "gridcolor": "white",
            "gridwidth": 2,
            "linecolor": "white",
            "showbackground": true,
            "ticks": "",
            "zerolinecolor": "white"
           },
           "yaxis": {
            "backgroundcolor": "#E5ECF6",
            "gridcolor": "white",
            "gridwidth": 2,
            "linecolor": "white",
            "showbackground": true,
            "ticks": "",
            "zerolinecolor": "white"
           },
           "zaxis": {
            "backgroundcolor": "#E5ECF6",
            "gridcolor": "white",
            "gridwidth": 2,
            "linecolor": "white",
            "showbackground": true,
            "ticks": "",
            "zerolinecolor": "white"
           }
          },
          "shapedefaults": {
           "line": {
            "color": "#2a3f5f"
           }
          },
          "ternary": {
           "aaxis": {
            "gridcolor": "white",
            "linecolor": "white",
            "ticks": ""
           },
           "baxis": {
            "gridcolor": "white",
            "linecolor": "white",
            "ticks": ""
           },
           "bgcolor": "#E5ECF6",
           "caxis": {
            "gridcolor": "white",
            "linecolor": "white",
            "ticks": ""
           }
          },
          "title": {
           "x": 0.05
          },
          "xaxis": {
           "automargin": true,
           "gridcolor": "white",
           "linecolor": "white",
           "ticks": "",
           "title": {
            "standoff": 15
           },
           "zerolinecolor": "white",
           "zerolinewidth": 2
          },
          "yaxis": {
           "automargin": true,
           "gridcolor": "white",
           "linecolor": "white",
           "ticks": "",
           "title": {
            "standoff": 15
           },
           "zerolinecolor": "white",
           "zerolinewidth": 2
          }
         }
        },
        "xaxis": {
         "anchor": "y",
         "domain": [
          0,
          1
         ],
         "title": {
          "text": "Ecologie"
         }
        },
        "yaxis": {
         "anchor": "x",
         "domain": [
          0,
          1
         ],
         "title": {
          "text": "Economie"
         }
        }
       }
      },
      "text/html": [
       "<div>                            <div id=\"6a892b06-a5b7-4408-8224-6d5ccc0b38a6\" class=\"plotly-graph-div\" style=\"height:525px; width:100%;\"></div>            <script type=\"text/javascript\">                require([\"plotly\"], function(Plotly) {                    window.PLOTLYENV=window.PLOTLYENV || {};                                    if (document.getElementById(\"6a892b06-a5b7-4408-8224-6d5ccc0b38a6\")) {                    Plotly.newPlot(                        \"6a892b06-a5b7-4408-8224-6d5ccc0b38a6\",                        [{\"customdata\":[[\"Alex Langlois\"],[\"Fabrice Grimal\"],[\"Clara Egger\"],[\"Georges Kuzmanovic\"],[\"Marie Cau\"],[\"Jean Lassale\"],[\"Fran\\u00e7ois Asselineau\"],[\"Luc Laforets\"],[\"Martin Rocca\"],[\"Gilles Lazzarini\"],[\"Gildas Vieira\"]],\"hovertemplate\":\"political_orientation=divers<br>Ecologie=%{x}<br>Economie=%{y}<br>name=%{customdata[0]}<extra></extra>\",\"legendgroup\":\"divers\",\"marker\":{\"color\":\"#636efa\",\"symbol\":\"circle\"},\"mode\":\"markers\",\"name\":\"divers\",\"orientation\":\"v\",\"showlegend\":true,\"type\":\"scatter\",\"x\":[11,2,3,17,7,12,11,7,2,14,4],\"xaxis\":\"x\",\"y\":[15,22,4,48,14,56,70,17,8,25,8],\"yaxis\":\"y\"},{\"customdata\":[[\"\\u00c9douard Philippe\"],[\"Emmanuel Macron\"],[\"R\\u00e9gis Ollivier\"],[\"Philippe Juvin\"],[\"Jacline Mouraud\"],[\"Denis Payre\"],[\"Eric Ciotti\"],[\"Michel Barnier\"],[\"Val\\u00e9rie P\\u00e9cresse\"],[\"Xavier Bertrand\"]],\"hovertemplate\":\"political_orientation=droite<br>Ecologie=%{x}<br>Economie=%{y}<br>name=%{customdata[0]}<extra></extra>\",\"legendgroup\":\"droite\",\"marker\":{\"color\":\"#EF553B\",\"symbol\":\"circle\"},\"mode\":\"markers\",\"name\":\"droite\",\"orientation\":\"v\",\"showlegend\":true,\"type\":\"scatter\",\"x\":[12,51,5,14,4,10,2,24,8,10],\"xaxis\":\"x\",\"y\":[52,86,15,42,22,44,33,57,57,27],\"yaxis\":\"y\"},{\"customdata\":[[\"Charlotte Marchandise\"],[\"Anna Agueb-Porterie\"],[\"Anne Hidalgo\"],[\"Pierre Larrouturou\"],[\"Philippe Mazuel\"],[\"Arnaud Montebourg\"]],\"hovertemplate\":\"political_orientation=gauche<br>Ecologie=%{x}<br>Economie=%{y}<br>name=%{customdata[0]}<extra></extra>\",\"legendgroup\":\"gauche\",\"marker\":{\"color\":\"#00cc96\",\"symbol\":\"circle\"},\"mode\":\"markers\",\"name\":\"gauche\",\"orientation\":\"v\",\"showlegend\":true,\"type\":\"scatter\",\"x\":[17,14,25,58,13,12],\"xaxis\":\"x\",\"y\":[17,19,36,80,16,62],\"yaxis\":\"y\"},{\"customdata\":[[\"Philippe Poutou\"],[\"Anasse Kazib\"],[\"Jean-Luc M\\u00e9lenchon\"],[\"Gerard Filoche\"],[\"Nathalie Arthaud\"],[\"Fabien Roussel\"]],\"hovertemplate\":\"political_orientation=extr\\u00eame_gauche<br>Ecologie=%{x}<br>Economie=%{y}<br>name=%{customdata[0]}<extra></extra>\",\"legendgroup\":\"extr\\u00eame_gauche\",\"marker\":{\"color\":\"#ab63fa\",\"symbol\":\"circle\"},\"mode\":\"markers\",\"name\":\"extr\\u00eame_gauche\",\"orientation\":\"v\",\"showlegend\":true,\"type\":\"scatter\",\"x\":[10,1,30,8,12,17],\"xaxis\":\"x\",\"y\":[30,22,83,17,71,86],\"yaxis\":\"y\"},{\"customdata\":[[\"Eric Zemmour\"],[\"Jean-Fr\\u00e9d\\u00e9ric Poisson\"],[\"Florian Philippot\"],[\"Nicolas Dupont-Aignan\"],[\"Marine Le Pen\"],[\"Antoine Martinez\"]],\"hovertemplate\":\"political_orientation=extr\\u00eame_droite<br>Ecologie=%{x}<br>Economie=%{y}<br>name=%{customdata[0]}<extra></extra>\",\"legendgroup\":\"extr\\u00eame_droite\",\"marker\":{\"color\":\"#FFA15A\",\"symbol\":\"circle\"},\"mode\":\"markers\",\"name\":\"extr\\u00eame_droite\",\"orientation\":\"v\",\"showlegend\":true,\"type\":\"scatter\",\"x\":[3,19,5,6,22,5],\"xaxis\":\"x\",\"y\":[48,42,30,64,81,33],\"yaxis\":\"y\"},{\"customdata\":[[\"Yannick Jadot\"],[\"H\\u00e9l\\u00e8ne Thouy\"],[\"Antoine Waechter\"]],\"hovertemplate\":\"political_orientation=ecologie<br>Ecologie=%{x}<br>Economie=%{y}<br>name=%{customdata[0]}<extra></extra>\",\"legendgroup\":\"ecologie\",\"marker\":{\"color\":\"#19d3f3\",\"symbol\":\"circle\"},\"mode\":\"markers\",\"name\":\"ecologie\",\"orientation\":\"v\",\"showlegend\":true,\"type\":\"scatter\",\"x\":[105,11,76],\"xaxis\":\"x\",\"y\":[58,28,36],\"yaxis\":\"y\"}],                        {\"legend\":{\"title\":{\"text\":\"political_orientation\"},\"tracegroupgap\":0},\"margin\":{\"t\":60},\"template\":{\"data\":{\"bar\":[{\"error_x\":{\"color\":\"#2a3f5f\"},\"error_y\":{\"color\":\"#2a3f5f\"},\"marker\":{\"line\":{\"color\":\"#E5ECF6\",\"width\":0.5},\"pattern\":{\"fillmode\":\"overlay\",\"size\":10,\"solidity\":0.2}},\"type\":\"bar\"}],\"barpolar\":[{\"marker\":{\"line\":{\"color\":\"#E5ECF6\",\"width\":0.5},\"pattern\":{\"fillmode\":\"overlay\",\"size\":10,\"solidity\":0.2}},\"type\":\"barpolar\"}],\"carpet\":[{\"aaxis\":{\"endlinecolor\":\"#2a3f5f\",\"gridcolor\":\"white\",\"linecolor\":\"white\",\"minorgridcolor\":\"white\",\"startlinecolor\":\"#2a3f5f\"},\"baxis\":{\"endlinecolor\":\"#2a3f5f\",\"gridcolor\":\"white\",\"linecolor\":\"white\",\"minorgridcolor\":\"white\",\"startlinecolor\":\"#2a3f5f\"},\"type\":\"carpet\"}],\"choropleth\":[{\"colorbar\":{\"outlinewidth\":0,\"ticks\":\"\"},\"type\":\"choropleth\"}],\"contour\":[{\"colorbar\":{\"outlinewidth\":0,\"ticks\":\"\"},\"colorscale\":[[0.0,\"#0d0887\"],[0.1111111111111111,\"#46039f\"],[0.2222222222222222,\"#7201a8\"],[0.3333333333333333,\"#9c179e\"],[0.4444444444444444,\"#bd3786\"],[0.5555555555555556,\"#d8576b\"],[0.6666666666666666,\"#ed7953\"],[0.7777777777777778,\"#fb9f3a\"],[0.8888888888888888,\"#fdca26\"],[1.0,\"#f0f921\"]],\"type\":\"contour\"}],\"contourcarpet\":[{\"colorbar\":{\"outlinewidth\":0,\"ticks\":\"\"},\"type\":\"contourcarpet\"}],\"heatmap\":[{\"colorbar\":{\"outlinewidth\":0,\"ticks\":\"\"},\"colorscale\":[[0.0,\"#0d0887\"],[0.1111111111111111,\"#46039f\"],[0.2222222222222222,\"#7201a8\"],[0.3333333333333333,\"#9c179e\"],[0.4444444444444444,\"#bd3786\"],[0.5555555555555556,\"#d8576b\"],[0.6666666666666666,\"#ed7953\"],[0.7777777777777778,\"#fb9f3a\"],[0.8888888888888888,\"#fdca26\"],[1.0,\"#f0f921\"]],\"type\":\"heatmap\"}],\"heatmapgl\":[{\"colorbar\":{\"outlinewidth\":0,\"ticks\":\"\"},\"colorscale\":[[0.0,\"#0d0887\"],[0.1111111111111111,\"#46039f\"],[0.2222222222222222,\"#7201a8\"],[0.3333333333333333,\"#9c179e\"],[0.4444444444444444,\"#bd3786\"],[0.5555555555555556,\"#d8576b\"],[0.6666666666666666,\"#ed7953\"],[0.7777777777777778,\"#fb9f3a\"],[0.8888888888888888,\"#fdca26\"],[1.0,\"#f0f921\"]],\"type\":\"heatmapgl\"}],\"histogram\":[{\"marker\":{\"pattern\":{\"fillmode\":\"overlay\",\"size\":10,\"solidity\":0.2}},\"type\":\"histogram\"}],\"histogram2d\":[{\"colorbar\":{\"outlinewidth\":0,\"ticks\":\"\"},\"colorscale\":[[0.0,\"#0d0887\"],[0.1111111111111111,\"#46039f\"],[0.2222222222222222,\"#7201a8\"],[0.3333333333333333,\"#9c179e\"],[0.4444444444444444,\"#bd3786\"],[0.5555555555555556,\"#d8576b\"],[0.6666666666666666,\"#ed7953\"],[0.7777777777777778,\"#fb9f3a\"],[0.8888888888888888,\"#fdca26\"],[1.0,\"#f0f921\"]],\"type\":\"histogram2d\"}],\"histogram2dcontour\":[{\"colorbar\":{\"outlinewidth\":0,\"ticks\":\"\"},\"colorscale\":[[0.0,\"#0d0887\"],[0.1111111111111111,\"#46039f\"],[0.2222222222222222,\"#7201a8\"],[0.3333333333333333,\"#9c179e\"],[0.4444444444444444,\"#bd3786\"],[0.5555555555555556,\"#d8576b\"],[0.6666666666666666,\"#ed7953\"],[0.7777777777777778,\"#fb9f3a\"],[0.8888888888888888,\"#fdca26\"],[1.0,\"#f0f921\"]],\"type\":\"histogram2dcontour\"}],\"mesh3d\":[{\"colorbar\":{\"outlinewidth\":0,\"ticks\":\"\"},\"type\":\"mesh3d\"}],\"parcoords\":[{\"line\":{\"colorbar\":{\"outlinewidth\":0,\"ticks\":\"\"}},\"type\":\"parcoords\"}],\"pie\":[{\"automargin\":true,\"type\":\"pie\"}],\"scatter\":[{\"marker\":{\"colorbar\":{\"outlinewidth\":0,\"ticks\":\"\"}},\"type\":\"scatter\"}],\"scatter3d\":[{\"line\":{\"colorbar\":{\"outlinewidth\":0,\"ticks\":\"\"}},\"marker\":{\"colorbar\":{\"outlinewidth\":0,\"ticks\":\"\"}},\"type\":\"scatter3d\"}],\"scattercarpet\":[{\"marker\":{\"colorbar\":{\"outlinewidth\":0,\"ticks\":\"\"}},\"type\":\"scattercarpet\"}],\"scattergeo\":[{\"marker\":{\"colorbar\":{\"outlinewidth\":0,\"ticks\":\"\"}},\"type\":\"scattergeo\"}],\"scattergl\":[{\"marker\":{\"colorbar\":{\"outlinewidth\":0,\"ticks\":\"\"}},\"type\":\"scattergl\"}],\"scattermapbox\":[{\"marker\":{\"colorbar\":{\"outlinewidth\":0,\"ticks\":\"\"}},\"type\":\"scattermapbox\"}],\"scatterpolar\":[{\"marker\":{\"colorbar\":{\"outlinewidth\":0,\"ticks\":\"\"}},\"type\":\"scatterpolar\"}],\"scatterpolargl\":[{\"marker\":{\"colorbar\":{\"outlinewidth\":0,\"ticks\":\"\"}},\"type\":\"scatterpolargl\"}],\"scatterternary\":[{\"marker\":{\"colorbar\":{\"outlinewidth\":0,\"ticks\":\"\"}},\"type\":\"scatterternary\"}],\"surface\":[{\"colorbar\":{\"outlinewidth\":0,\"ticks\":\"\"},\"colorscale\":[[0.0,\"#0d0887\"],[0.1111111111111111,\"#46039f\"],[0.2222222222222222,\"#7201a8\"],[0.3333333333333333,\"#9c179e\"],[0.4444444444444444,\"#bd3786\"],[0.5555555555555556,\"#d8576b\"],[0.6666666666666666,\"#ed7953\"],[0.7777777777777778,\"#fb9f3a\"],[0.8888888888888888,\"#fdca26\"],[1.0,\"#f0f921\"]],\"type\":\"surface\"}],\"table\":[{\"cells\":{\"fill\":{\"color\":\"#EBF0F8\"},\"line\":{\"color\":\"white\"}},\"header\":{\"fill\":{\"color\":\"#C8D4E3\"},\"line\":{\"color\":\"white\"}},\"type\":\"table\"}]},\"layout\":{\"annotationdefaults\":{\"arrowcolor\":\"#2a3f5f\",\"arrowhead\":0,\"arrowwidth\":1},\"autotypenumbers\":\"strict\",\"coloraxis\":{\"colorbar\":{\"outlinewidth\":0,\"ticks\":\"\"}},\"colorscale\":{\"diverging\":[[0,\"#8e0152\"],[0.1,\"#c51b7d\"],[0.2,\"#de77ae\"],[0.3,\"#f1b6da\"],[0.4,\"#fde0ef\"],[0.5,\"#f7f7f7\"],[0.6,\"#e6f5d0\"],[0.7,\"#b8e186\"],[0.8,\"#7fbc41\"],[0.9,\"#4d9221\"],[1,\"#276419\"]],\"sequential\":[[0.0,\"#0d0887\"],[0.1111111111111111,\"#46039f\"],[0.2222222222222222,\"#7201a8\"],[0.3333333333333333,\"#9c179e\"],[0.4444444444444444,\"#bd3786\"],[0.5555555555555556,\"#d8576b\"],[0.6666666666666666,\"#ed7953\"],[0.7777777777777778,\"#fb9f3a\"],[0.8888888888888888,\"#fdca26\"],[1.0,\"#f0f921\"]],\"sequentialminus\":[[0.0,\"#0d0887\"],[0.1111111111111111,\"#46039f\"],[0.2222222222222222,\"#7201a8\"],[0.3333333333333333,\"#9c179e\"],[0.4444444444444444,\"#bd3786\"],[0.5555555555555556,\"#d8576b\"],[0.6666666666666666,\"#ed7953\"],[0.7777777777777778,\"#fb9f3a\"],[0.8888888888888888,\"#fdca26\"],[1.0,\"#f0f921\"]]},\"colorway\":[\"#636efa\",\"#EF553B\",\"#00cc96\",\"#ab63fa\",\"#FFA15A\",\"#19d3f3\",\"#FF6692\",\"#B6E880\",\"#FF97FF\",\"#FECB52\"],\"font\":{\"color\":\"#2a3f5f\"},\"geo\":{\"bgcolor\":\"white\",\"lakecolor\":\"white\",\"landcolor\":\"#E5ECF6\",\"showlakes\":true,\"showland\":true,\"subunitcolor\":\"white\"},\"hoverlabel\":{\"align\":\"left\"},\"hovermode\":\"closest\",\"mapbox\":{\"style\":\"light\"},\"paper_bgcolor\":\"white\",\"plot_bgcolor\":\"#E5ECF6\",\"polar\":{\"angularaxis\":{\"gridcolor\":\"white\",\"linecolor\":\"white\",\"ticks\":\"\"},\"bgcolor\":\"#E5ECF6\",\"radialaxis\":{\"gridcolor\":\"white\",\"linecolor\":\"white\",\"ticks\":\"\"}},\"scene\":{\"xaxis\":{\"backgroundcolor\":\"#E5ECF6\",\"gridcolor\":\"white\",\"gridwidth\":2,\"linecolor\":\"white\",\"showbackground\":true,\"ticks\":\"\",\"zerolinecolor\":\"white\"},\"yaxis\":{\"backgroundcolor\":\"#E5ECF6\",\"gridcolor\":\"white\",\"gridwidth\":2,\"linecolor\":\"white\",\"showbackground\":true,\"ticks\":\"\",\"zerolinecolor\":\"white\"},\"zaxis\":{\"backgroundcolor\":\"#E5ECF6\",\"gridcolor\":\"white\",\"gridwidth\":2,\"linecolor\":\"white\",\"showbackground\":true,\"ticks\":\"\",\"zerolinecolor\":\"white\"}},\"shapedefaults\":{\"line\":{\"color\":\"#2a3f5f\"}},\"ternary\":{\"aaxis\":{\"gridcolor\":\"white\",\"linecolor\":\"white\",\"ticks\":\"\"},\"baxis\":{\"gridcolor\":\"white\",\"linecolor\":\"white\",\"ticks\":\"\"},\"bgcolor\":\"#E5ECF6\",\"caxis\":{\"gridcolor\":\"white\",\"linecolor\":\"white\",\"ticks\":\"\"}},\"title\":{\"x\":0.05},\"xaxis\":{\"automargin\":true,\"gridcolor\":\"white\",\"linecolor\":\"white\",\"ticks\":\"\",\"title\":{\"standoff\":15},\"zerolinecolor\":\"white\",\"zerolinewidth\":2},\"yaxis\":{\"automargin\":true,\"gridcolor\":\"white\",\"linecolor\":\"white\",\"ticks\":\"\",\"title\":{\"standoff\":15},\"zerolinecolor\":\"white\",\"zerolinewidth\":2}}},\"xaxis\":{\"anchor\":\"y\",\"domain\":[0.0,1.0],\"title\":{\"text\":\"Ecologie\"}},\"yaxis\":{\"anchor\":\"x\",\"domain\":[0.0,1.0],\"title\":{\"text\":\"Economie\"}}},                        {\"responsive\": true}                    ).then(function(){\n",
       "                            \n",
       "var gd = document.getElementById('6a892b06-a5b7-4408-8224-6d5ccc0b38a6');\n",
       "var x = new MutationObserver(function (mutations, observer) {{\n",
       "        var display = window.getComputedStyle(gd).display;\n",
       "        if (!display || display === 'none') {{\n",
       "            console.log([gd, 'removed!']);\n",
       "            Plotly.purge(gd);\n",
       "            observer.disconnect();\n",
       "        }}\n",
       "}});\n",
       "\n",
       "// Listen for the removal of the full notebook cells\n",
       "var notebookContainer = gd.closest('#notebook-container');\n",
       "if (notebookContainer) {{\n",
       "    x.observe(notebookContainer, {childList: true});\n",
       "}}\n",
       "\n",
       "// Listen for the clearing of the current output cell\n",
       "var outputEl = gd.closest('.output');\n",
       "if (outputEl) {{\n",
       "    x.observe(outputEl, {childList: true});\n",
       "}}\n",
       "\n",
       "                        })                };                });            </script>        </div>"
      ]
     },
     "metadata": {},
     "output_type": "display_data"
    }
   ],
   "source": [
    "score_for_two_given_themes(first_theme=\"Ecologie\", second_theme=\"Economie\")"
   ]
  },
  {
   "cell_type": "markdown",
   "id": "407a04b3",
   "metadata": {},
   "source": [
    "## Choix d'un candidat"
   ]
  },
  {
   "cell_type": "markdown",
   "id": "3659b475",
   "metadata": {},
   "source": [
    "Choix sur une liste avec infos à suivre s'actualisant de façon dynamqiue"
   ]
  },
  {
   "cell_type": "markdown",
   "id": "41daab75",
   "metadata": {},
   "source": [
    "- Photo\n",
    "- Nom et prénom\n",
    "- Parti politique\n",
    "- Orientation politique"
   ]
  },
  {
   "cell_type": "code",
   "execution_count": 58,
   "id": "8ba57581",
   "metadata": {},
   "outputs": [],
   "source": [
    "def user_image(user):\n",
    "    \"\"\"\n",
    "    Returns the twitter profiles image for a given candidate\n",
    "    \"\"\"\n",
    "    # Define the path\n",
    "    APP_FOLDER = 'raw_data/images/'+user+'.jpg'\n",
    "    \n",
    "    return display(Image(filename=APP_FOLDER))"
   ]
  },
  {
   "cell_type": "code",
   "execution_count": 124,
   "id": "b0b181bd",
   "metadata": {},
   "outputs": [
    {
     "data": {
      "image/jpeg": "[encoded data removed]",
      "text/plain": [
       "<IPython.core.display.Image object>"
      ]
     },
     "metadata": {},
     "output_type": "display_data"
    }
   ],
   "source": [
    "user_image(user=\"JLMelenchon\")"
   ]
  },
  {
   "cell_type": "code",
   "execution_count": 60,
   "id": "da89a1fc",
   "metadata": {},
   "outputs": [],
   "source": [
    "def user_name(user):\n",
    "    \"\"\"\n",
    "    Returns user's name\n",
    "    \"\"\"\n",
    "    name = df_ready_for_nlp[df_ready_for_nlp[\"user\"]==user][\"name\"].unique()[0]\n",
    "    return name"
   ]
  },
  {
   "cell_type": "code",
   "execution_count": 125,
   "id": "43931eea",
   "metadata": {},
   "outputs": [
    {
     "data": {
      "text/plain": [
       "'Jean-Luc Mélenchon'"
      ]
     },
     "execution_count": 125,
     "metadata": {},
     "output_type": "execute_result"
    }
   ],
   "source": [
    "user_name(user=\"JLMelenchon\")"
   ]
  },
  {
   "cell_type": "code",
   "execution_count": 62,
   "id": "62ac25f7",
   "metadata": {},
   "outputs": [],
   "source": [
    "def user_political_party(user):\n",
    "    \"\"\"\n",
    "    Returns user's political party\n",
    "    \"\"\"\n",
    "    parti_politique = df_ready_for_nlp[df_ready_for_nlp[\"user\"]==user][\"political_party\"].unique()[0]\n",
    "    return parti_politique"
   ]
  },
  {
   "cell_type": "code",
   "execution_count": 126,
   "id": "0ef204c8",
   "metadata": {},
   "outputs": [
    {
     "data": {
      "text/plain": [
       "'La France Insoumise'"
      ]
     },
     "execution_count": 126,
     "metadata": {},
     "output_type": "execute_result"
    }
   ],
   "source": [
    "user_political_party(user=\"JLMelenchon\")"
   ]
  },
  {
   "cell_type": "code",
   "execution_count": 64,
   "id": "508294c8",
   "metadata": {},
   "outputs": [],
   "source": [
    "def user_political_oritentation(user):\n",
    "    \"\"\"\n",
    "    Return user's political orientation\n",
    "    \"\"\"\n",
    "    orientation_politique = df_ready_for_nlp[df_ready_for_nlp[\"user\"]==user][\"political_orientation\"].unique()[0]\n",
    "    return orientation_politique"
   ]
  },
  {
   "cell_type": "code",
   "execution_count": 127,
   "id": "d4b9fd7b",
   "metadata": {},
   "outputs": [
    {
     "data": {
      "text/plain": [
       "'extrême_gauche'"
      ]
     },
     "execution_count": 127,
     "metadata": {},
     "output_type": "execute_result"
    }
   ],
   "source": [
    "user_political_oritentation(user=\"JLMelenchon\")"
   ]
  },
  {
   "cell_type": "markdown",
   "id": "c93f2bbc",
   "metadata": {},
   "source": [
    "## Ses thèmes de prédilection"
   ]
  },
  {
   "cell_type": "code",
   "execution_count": 66,
   "id": "2f7449d5",
   "metadata": {},
   "outputs": [],
   "source": [
    "def user_score_per_theme_vs_global_and_orientation(user):\n",
    "    \"\"\"\n",
    "    Returns a bar graph with the score per theme for a given candidate and the mean global score for every candidates and for his/her political orientation\n",
    "    \"\"\"\n",
    "    # Generate user score per theme\n",
    "    user_scores = list(lexicon_score_per_user_df[lexicon_score_per_user_df[\"user\"]==user].drop(columns=\"political_orientation\").iloc[0])[1:]\n",
    "    \n",
    "    # Generate user political orientation average score per theme\n",
    "    user_political_orientation = list(lexicon_score_per_user_df[lexicon_score_per_user_df[\"user\"]==user][\"political_orientation\"])[0]\n",
    "    # Generate his/her name\n",
    "    user_name = list(lexicon_score_per_user_df[lexicon_score_per_user_df[\"user\"]==user][\"name\"])[0]\n",
    "    # Generate a df with the avg score per political orientation\n",
    "    avg_score_per_political_orientation = lexicon_score_per_user_df.groupby(['political_orientation']).mean()\n",
    "    # Store the right political orientation results in a variable\n",
    "    political_orientation_scores = list(avg_score_per_political_orientation\n",
    "                                  [avg_score_per_political_orientation.index==user_political_orientation]\n",
    "                                  .iloc[0])\n",
    "    \n",
    "    # Generate national score per theme\n",
    "    national_scores = list(avg_score_per_political_orientation.mean())\n",
    "    \n",
    "    # Define themes\n",
    "    themes = avg_score_per_political_orientation.columns\n",
    "    \n",
    "    fig = go.Figure(data=[\n",
    "                    go.Bar(name=f'{user_name} score', x=themes, y=user_scores),\n",
    "                    go.Bar(name=f'{user_political_orientation} score', x=themes, y=political_orientation_scores),\n",
    "                    go.Bar(name='National score', x=themes, y=national_scores)\n",
    "                    ])\n",
    "    \n",
    "    # Change the bar mode\n",
    "    fig.update_layout(barmode='group')\n",
    "    \n",
    "    return fig.show()"
   ]
  },
  {
   "cell_type": "code",
   "execution_count": 128,
   "id": "3ed65d65",
   "metadata": {},
   "outputs": [
    {
     "data": {
      "application/vnd.plotly.v1+json": {
       "config": {
        "plotlyServerURL": "https://plot.ly"
       },
       "data": [
        {
         "name": "Jean-Luc Mélenchon score",
         "type": "bar",
         "x": [
          "Politique",
          "Actualité",
          "Candidats",
          "Travail",
          "Santé",
          "Economie",
          "Sécurité",
          "Extrême",
          "Ecologie",
          "Pouvoir_achat"
         ],
         "y": [
          250,
          154,
          149,
          69,
          42,
          83,
          57,
          20,
          30,
          19,
          "Jean-Luc Mélenchon"
         ]
        },
        {
         "name": "extrême_gauche score",
         "type": "bar",
         "x": [
          "Politique",
          "Actualité",
          "Candidats",
          "Travail",
          "Santé",
          "Economie",
          "Sécurité",
          "Extrême",
          "Ecologie",
          "Pouvoir_achat"
         ],
         "y": [
          195.5,
          182,
          116.5,
          75,
          38.666666666666664,
          51.5,
          34.666666666666664,
          21.333333333333332,
          13,
          21.166666666666668
         ]
        },
        {
         "name": "National score",
         "type": "bar",
         "x": [
          "Politique",
          "Actualité",
          "Candidats",
          "Travail",
          "Santé",
          "Economie",
          "Sécurité",
          "Extrême",
          "Ecologie",
          "Pouvoir_achat"
         ],
         "y": [
          171.05959595959595,
          176.86515151515152,
          69.82727272727273,
          50.22575757575757,
          44.78232323232323,
          41.62626262626262,
          35.70353535353535,
          15.85,
          22.058080808080806,
          10.40050505050505
         ]
        }
       ],
       "layout": {
        "barmode": "group",
        "template": {
         "data": {
          "bar": [
           {
            "error_x": {
             "color": "#2a3f5f"
            },
            "error_y": {
             "color": "#2a3f5f"
            },
            "marker": {
             "line": {
              "color": "#E5ECF6",
              "width": 0.5
             },
             "pattern": {
              "fillmode": "overlay",
              "size": 10,
              "solidity": 0.2
             }
            },
            "type": "bar"
           }
          ],
          "barpolar": [
           {
            "marker": {
             "line": {
              "color": "#E5ECF6",
              "width": 0.5
             },
             "pattern": {
              "fillmode": "overlay",
              "size": 10,
              "solidity": 0.2
             }
            },
            "type": "barpolar"
           }
          ],
          "carpet": [
           {
            "aaxis": {
             "endlinecolor": "#2a3f5f",
             "gridcolor": "white",
             "linecolor": "white",
             "minorgridcolor": "white",
             "startlinecolor": "#2a3f5f"
            },
            "baxis": {
             "endlinecolor": "#2a3f5f",
             "gridcolor": "white",
             "linecolor": "white",
             "minorgridcolor": "white",
             "startlinecolor": "#2a3f5f"
            },
            "type": "carpet"
           }
          ],
          "choropleth": [
           {
            "colorbar": {
             "outlinewidth": 0,
             "ticks": ""
            },
            "type": "choropleth"
           }
          ],
          "contour": [
           {
            "colorbar": {
             "outlinewidth": 0,
             "ticks": ""
            },
            "colorscale": [
             [
              0,
              "#0d0887"
             ],
             [
              0.1111111111111111,
              "#46039f"
             ],
             [
              0.2222222222222222,
              "#7201a8"
             ],
             [
              0.3333333333333333,
              "#9c179e"
             ],
             [
              0.4444444444444444,
              "#bd3786"
             ],
             [
              0.5555555555555556,
              "#d8576b"
             ],
             [
              0.6666666666666666,
              "#ed7953"
             ],
             [
              0.7777777777777778,
              "#fb9f3a"
             ],
             [
              0.8888888888888888,
              "#fdca26"
             ],
             [
              1,
              "#f0f921"
             ]
            ],
            "type": "contour"
           }
          ],
          "contourcarpet": [
           {
            "colorbar": {
             "outlinewidth": 0,
             "ticks": ""
            },
            "type": "contourcarpet"
           }
          ],
          "heatmap": [
           {
            "colorbar": {
             "outlinewidth": 0,
             "ticks": ""
            },
            "colorscale": [
             [
              0,
              "#0d0887"
             ],
             [
              0.1111111111111111,
              "#46039f"
             ],
             [
              0.2222222222222222,
              "#7201a8"
             ],
             [
              0.3333333333333333,
              "#9c179e"
             ],
             [
              0.4444444444444444,
              "#bd3786"
             ],
             [
              0.5555555555555556,
              "#d8576b"
             ],
             [
              0.6666666666666666,
              "#ed7953"
             ],
             [
              0.7777777777777778,
              "#fb9f3a"
             ],
             [
              0.8888888888888888,
              "#fdca26"
             ],
             [
              1,
              "#f0f921"
             ]
            ],
            "type": "heatmap"
           }
          ],
          "heatmapgl": [
           {
            "colorbar": {
             "outlinewidth": 0,
             "ticks": ""
            },
            "colorscale": [
             [
              0,
              "#0d0887"
             ],
             [
              0.1111111111111111,
              "#46039f"
             ],
             [
              0.2222222222222222,
              "#7201a8"
             ],
             [
              0.3333333333333333,
              "#9c179e"
             ],
             [
              0.4444444444444444,
              "#bd3786"
             ],
             [
              0.5555555555555556,
              "#d8576b"
             ],
             [
              0.6666666666666666,
              "#ed7953"
             ],
             [
              0.7777777777777778,
              "#fb9f3a"
             ],
             [
              0.8888888888888888,
              "#fdca26"
             ],
             [
              1,
              "#f0f921"
             ]
            ],
            "type": "heatmapgl"
           }
          ],
          "histogram": [
           {
            "marker": {
             "pattern": {
              "fillmode": "overlay",
              "size": 10,
              "solidity": 0.2
             }
            },
            "type": "histogram"
           }
          ],
          "histogram2d": [
           {
            "colorbar": {
             "outlinewidth": 0,
             "ticks": ""
            },
            "colorscale": [
             [
              0,
              "#0d0887"
             ],
             [
              0.1111111111111111,
              "#46039f"
             ],
             [
              0.2222222222222222,
              "#7201a8"
             ],
             [
              0.3333333333333333,
              "#9c179e"
             ],
             [
              0.4444444444444444,
              "#bd3786"
             ],
             [
              0.5555555555555556,
              "#d8576b"
             ],
             [
              0.6666666666666666,
              "#ed7953"
             ],
             [
              0.7777777777777778,
              "#fb9f3a"
             ],
             [
              0.8888888888888888,
              "#fdca26"
             ],
             [
              1,
              "#f0f921"
             ]
            ],
            "type": "histogram2d"
           }
          ],
          "histogram2dcontour": [
           {
            "colorbar": {
             "outlinewidth": 0,
             "ticks": ""
            },
            "colorscale": [
             [
              0,
              "#0d0887"
             ],
             [
              0.1111111111111111,
              "#46039f"
             ],
             [
              0.2222222222222222,
              "#7201a8"
             ],
             [
              0.3333333333333333,
              "#9c179e"
             ],
             [
              0.4444444444444444,
              "#bd3786"
             ],
             [
              0.5555555555555556,
              "#d8576b"
             ],
             [
              0.6666666666666666,
              "#ed7953"
             ],
             [
              0.7777777777777778,
              "#fb9f3a"
             ],
             [
              0.8888888888888888,
              "#fdca26"
             ],
             [
              1,
              "#f0f921"
             ]
            ],
            "type": "histogram2dcontour"
           }
          ],
          "mesh3d": [
           {
            "colorbar": {
             "outlinewidth": 0,
             "ticks": ""
            },
            "type": "mesh3d"
           }
          ],
          "parcoords": [
           {
            "line": {
             "colorbar": {
              "outlinewidth": 0,
              "ticks": ""
             }
            },
            "type": "parcoords"
           }
          ],
          "pie": [
           {
            "automargin": true,
            "type": "pie"
           }
          ],
          "scatter": [
           {
            "marker": {
             "colorbar": {
              "outlinewidth": 0,
              "ticks": ""
             }
            },
            "type": "scatter"
           }
          ],
          "scatter3d": [
           {
            "line": {
             "colorbar": {
              "outlinewidth": 0,
              "ticks": ""
             }
            },
            "marker": {
             "colorbar": {
              "outlinewidth": 0,
              "ticks": ""
             }
            },
            "type": "scatter3d"
           }
          ],
          "scattercarpet": [
           {
            "marker": {
             "colorbar": {
              "outlinewidth": 0,
              "ticks": ""
             }
            },
            "type": "scattercarpet"
           }
          ],
          "scattergeo": [
           {
            "marker": {
             "colorbar": {
              "outlinewidth": 0,
              "ticks": ""
             }
            },
            "type": "scattergeo"
           }
          ],
          "scattergl": [
           {
            "marker": {
             "colorbar": {
              "outlinewidth": 0,
              "ticks": ""
             }
            },
            "type": "scattergl"
           }
          ],
          "scattermapbox": [
           {
            "marker": {
             "colorbar": {
              "outlinewidth": 0,
              "ticks": ""
             }
            },
            "type": "scattermapbox"
           }
          ],
          "scatterpolar": [
           {
            "marker": {
             "colorbar": {
              "outlinewidth": 0,
              "ticks": ""
             }
            },
            "type": "scatterpolar"
           }
          ],
          "scatterpolargl": [
           {
            "marker": {
             "colorbar": {
              "outlinewidth": 0,
              "ticks": ""
             }
            },
            "type": "scatterpolargl"
           }
          ],
          "scatterternary": [
           {
            "marker": {
             "colorbar": {
              "outlinewidth": 0,
              "ticks": ""
             }
            },
            "type": "scatterternary"
           }
          ],
          "surface": [
           {
            "colorbar": {
             "outlinewidth": 0,
             "ticks": ""
            },
            "colorscale": [
             [
              0,
              "#0d0887"
             ],
             [
              0.1111111111111111,
              "#46039f"
             ],
             [
              0.2222222222222222,
              "#7201a8"
             ],
             [
              0.3333333333333333,
              "#9c179e"
             ],
             [
              0.4444444444444444,
              "#bd3786"
             ],
             [
              0.5555555555555556,
              "#d8576b"
             ],
             [
              0.6666666666666666,
              "#ed7953"
             ],
             [
              0.7777777777777778,
              "#fb9f3a"
             ],
             [
              0.8888888888888888,
              "#fdca26"
             ],
             [
              1,
              "#f0f921"
             ]
            ],
            "type": "surface"
           }
          ],
          "table": [
           {
            "cells": {
             "fill": {
              "color": "#EBF0F8"
             },
             "line": {
              "color": "white"
             }
            },
            "header": {
             "fill": {
              "color": "#C8D4E3"
             },
             "line": {
              "color": "white"
             }
            },
            "type": "table"
           }
          ]
         },
         "layout": {
          "annotationdefaults": {
           "arrowcolor": "#2a3f5f",
           "arrowhead": 0,
           "arrowwidth": 1
          },
          "autotypenumbers": "strict",
          "coloraxis": {
           "colorbar": {
            "outlinewidth": 0,
            "ticks": ""
           }
          },
          "colorscale": {
           "diverging": [
            [
             0,
             "#8e0152"
            ],
            [
             0.1,
             "#c51b7d"
            ],
            [
             0.2,
             "#de77ae"
            ],
            [
             0.3,
             "#f1b6da"
            ],
            [
             0.4,
             "#fde0ef"
            ],
            [
             0.5,
             "#f7f7f7"
            ],
            [
             0.6,
             "#e6f5d0"
            ],
            [
             0.7,
             "#b8e186"
            ],
            [
             0.8,
             "#7fbc41"
            ],
            [
             0.9,
             "#4d9221"
            ],
            [
             1,
             "#276419"
            ]
           ],
           "sequential": [
            [
             0,
             "#0d0887"
            ],
            [
             0.1111111111111111,
             "#46039f"
            ],
            [
             0.2222222222222222,
             "#7201a8"
            ],
            [
             0.3333333333333333,
             "#9c179e"
            ],
            [
             0.4444444444444444,
             "#bd3786"
            ],
            [
             0.5555555555555556,
             "#d8576b"
            ],
            [
             0.6666666666666666,
             "#ed7953"
            ],
            [
             0.7777777777777778,
             "#fb9f3a"
            ],
            [
             0.8888888888888888,
             "#fdca26"
            ],
            [
             1,
             "#f0f921"
            ]
           ],
           "sequentialminus": [
            [
             0,
             "#0d0887"
            ],
            [
             0.1111111111111111,
             "#46039f"
            ],
            [
             0.2222222222222222,
             "#7201a8"
            ],
            [
             0.3333333333333333,
             "#9c179e"
            ],
            [
             0.4444444444444444,
             "#bd3786"
            ],
            [
             0.5555555555555556,
             "#d8576b"
            ],
            [
             0.6666666666666666,
             "#ed7953"
            ],
            [
             0.7777777777777778,
             "#fb9f3a"
            ],
            [
             0.8888888888888888,
             "#fdca26"
            ],
            [
             1,
             "#f0f921"
            ]
           ]
          },
          "colorway": [
           "#636efa",
           "#EF553B",
           "#00cc96",
           "#ab63fa",
           "#FFA15A",
           "#19d3f3",
           "#FF6692",
           "#B6E880",
           "#FF97FF",
           "#FECB52"
          ],
          "font": {
           "color": "#2a3f5f"
          },
          "geo": {
           "bgcolor": "white",
           "lakecolor": "white",
           "landcolor": "#E5ECF6",
           "showlakes": true,
           "showland": true,
           "subunitcolor": "white"
          },
          "hoverlabel": {
           "align": "left"
          },
          "hovermode": "closest",
          "mapbox": {
           "style": "light"
          },
          "paper_bgcolor": "white",
          "plot_bgcolor": "#E5ECF6",
          "polar": {
           "angularaxis": {
            "gridcolor": "white",
            "linecolor": "white",
            "ticks": ""
           },
           "bgcolor": "#E5ECF6",
           "radialaxis": {
            "gridcolor": "white",
            "linecolor": "white",
            "ticks": ""
           }
          },
          "scene": {
           "xaxis": {
            "backgroundcolor": "#E5ECF6",
            "gridcolor": "white",
            "gridwidth": 2,
            "linecolor": "white",
            "showbackground": true,
            "ticks": "",
            "zerolinecolor": "white"
           },
           "yaxis": {
            "backgroundcolor": "#E5ECF6",
            "gridcolor": "white",
            "gridwidth": 2,
            "linecolor": "white",
            "showbackground": true,
            "ticks": "",
            "zerolinecolor": "white"
           },
           "zaxis": {
            "backgroundcolor": "#E5ECF6",
            "gridcolor": "white",
            "gridwidth": 2,
            "linecolor": "white",
            "showbackground": true,
            "ticks": "",
            "zerolinecolor": "white"
           }
          },
          "shapedefaults": {
           "line": {
            "color": "#2a3f5f"
           }
          },
          "ternary": {
           "aaxis": {
            "gridcolor": "white",
            "linecolor": "white",
            "ticks": ""
           },
           "baxis": {
            "gridcolor": "white",
            "linecolor": "white",
            "ticks": ""
           },
           "bgcolor": "#E5ECF6",
           "caxis": {
            "gridcolor": "white",
            "linecolor": "white",
            "ticks": ""
           }
          },
          "title": {
           "x": 0.05
          },
          "xaxis": {
           "automargin": true,
           "gridcolor": "white",
           "linecolor": "white",
           "ticks": "",
           "title": {
            "standoff": 15
           },
           "zerolinecolor": "white",
           "zerolinewidth": 2
          },
          "yaxis": {
           "automargin": true,
           "gridcolor": "white",
           "linecolor": "white",
           "ticks": "",
           "title": {
            "standoff": 15
           },
           "zerolinecolor": "white",
           "zerolinewidth": 2
          }
         }
        }
       }
      },
      "text/html": [
       "<div>                            <div id=\"90b12cb0-a34e-4069-8dd9-d1fa329c1fbb\" class=\"plotly-graph-div\" style=\"height:525px; width:100%;\"></div>            <script type=\"text/javascript\">                require([\"plotly\"], function(Plotly) {                    window.PLOTLYENV=window.PLOTLYENV || {};                                    if (document.getElementById(\"90b12cb0-a34e-4069-8dd9-d1fa329c1fbb\")) {                    Plotly.newPlot(                        \"90b12cb0-a34e-4069-8dd9-d1fa329c1fbb\",                        [{\"name\":\"Jean-Luc M\\u00e9lenchon score\",\"type\":\"bar\",\"x\":[\"Politique\",\"Actualit\\u00e9\",\"Candidats\",\"Travail\",\"Sant\\u00e9\",\"Economie\",\"S\\u00e9curit\\u00e9\",\"Extr\\u00eame\",\"Ecologie\",\"Pouvoir_achat\"],\"y\":[250,154,149,69,42,83,57,20,30,19,\"Jean-Luc M\\u00e9lenchon\"]},{\"name\":\"extr\\u00eame_gauche score\",\"type\":\"bar\",\"x\":[\"Politique\",\"Actualit\\u00e9\",\"Candidats\",\"Travail\",\"Sant\\u00e9\",\"Economie\",\"S\\u00e9curit\\u00e9\",\"Extr\\u00eame\",\"Ecologie\",\"Pouvoir_achat\"],\"y\":[195.5,182.0,116.5,75.0,38.666666666666664,51.5,34.666666666666664,21.333333333333332,13.0,21.166666666666668]},{\"name\":\"National score\",\"type\":\"bar\",\"x\":[\"Politique\",\"Actualit\\u00e9\",\"Candidats\",\"Travail\",\"Sant\\u00e9\",\"Economie\",\"S\\u00e9curit\\u00e9\",\"Extr\\u00eame\",\"Ecologie\",\"Pouvoir_achat\"],\"y\":[171.05959595959595,176.86515151515152,69.82727272727273,50.22575757575757,44.78232323232323,41.62626262626262,35.70353535353535,15.85,22.058080808080806,10.40050505050505]}],                        {\"barmode\":\"group\",\"template\":{\"data\":{\"bar\":[{\"error_x\":{\"color\":\"#2a3f5f\"},\"error_y\":{\"color\":\"#2a3f5f\"},\"marker\":{\"line\":{\"color\":\"#E5ECF6\",\"width\":0.5},\"pattern\":{\"fillmode\":\"overlay\",\"size\":10,\"solidity\":0.2}},\"type\":\"bar\"}],\"barpolar\":[{\"marker\":{\"line\":{\"color\":\"#E5ECF6\",\"width\":0.5},\"pattern\":{\"fillmode\":\"overlay\",\"size\":10,\"solidity\":0.2}},\"type\":\"barpolar\"}],\"carpet\":[{\"aaxis\":{\"endlinecolor\":\"#2a3f5f\",\"gridcolor\":\"white\",\"linecolor\":\"white\",\"minorgridcolor\":\"white\",\"startlinecolor\":\"#2a3f5f\"},\"baxis\":{\"endlinecolor\":\"#2a3f5f\",\"gridcolor\":\"white\",\"linecolor\":\"white\",\"minorgridcolor\":\"white\",\"startlinecolor\":\"#2a3f5f\"},\"type\":\"carpet\"}],\"choropleth\":[{\"colorbar\":{\"outlinewidth\":0,\"ticks\":\"\"},\"type\":\"choropleth\"}],\"contour\":[{\"colorbar\":{\"outlinewidth\":0,\"ticks\":\"\"},\"colorscale\":[[0.0,\"#0d0887\"],[0.1111111111111111,\"#46039f\"],[0.2222222222222222,\"#7201a8\"],[0.3333333333333333,\"#9c179e\"],[0.4444444444444444,\"#bd3786\"],[0.5555555555555556,\"#d8576b\"],[0.6666666666666666,\"#ed7953\"],[0.7777777777777778,\"#fb9f3a\"],[0.8888888888888888,\"#fdca26\"],[1.0,\"#f0f921\"]],\"type\":\"contour\"}],\"contourcarpet\":[{\"colorbar\":{\"outlinewidth\":0,\"ticks\":\"\"},\"type\":\"contourcarpet\"}],\"heatmap\":[{\"colorbar\":{\"outlinewidth\":0,\"ticks\":\"\"},\"colorscale\":[[0.0,\"#0d0887\"],[0.1111111111111111,\"#46039f\"],[0.2222222222222222,\"#7201a8\"],[0.3333333333333333,\"#9c179e\"],[0.4444444444444444,\"#bd3786\"],[0.5555555555555556,\"#d8576b\"],[0.6666666666666666,\"#ed7953\"],[0.7777777777777778,\"#fb9f3a\"],[0.8888888888888888,\"#fdca26\"],[1.0,\"#f0f921\"]],\"type\":\"heatmap\"}],\"heatmapgl\":[{\"colorbar\":{\"outlinewidth\":0,\"ticks\":\"\"},\"colorscale\":[[0.0,\"#0d0887\"],[0.1111111111111111,\"#46039f\"],[0.2222222222222222,\"#7201a8\"],[0.3333333333333333,\"#9c179e\"],[0.4444444444444444,\"#bd3786\"],[0.5555555555555556,\"#d8576b\"],[0.6666666666666666,\"#ed7953\"],[0.7777777777777778,\"#fb9f3a\"],[0.8888888888888888,\"#fdca26\"],[1.0,\"#f0f921\"]],\"type\":\"heatmapgl\"}],\"histogram\":[{\"marker\":{\"pattern\":{\"fillmode\":\"overlay\",\"size\":10,\"solidity\":0.2}},\"type\":\"histogram\"}],\"histogram2d\":[{\"colorbar\":{\"outlinewidth\":0,\"ticks\":\"\"},\"colorscale\":[[0.0,\"#0d0887\"],[0.1111111111111111,\"#46039f\"],[0.2222222222222222,\"#7201a8\"],[0.3333333333333333,\"#9c179e\"],[0.4444444444444444,\"#bd3786\"],[0.5555555555555556,\"#d8576b\"],[0.6666666666666666,\"#ed7953\"],[0.7777777777777778,\"#fb9f3a\"],[0.8888888888888888,\"#fdca26\"],[1.0,\"#f0f921\"]],\"type\":\"histogram2d\"}],\"histogram2dcontour\":[{\"colorbar\":{\"outlinewidth\":0,\"ticks\":\"\"},\"colorscale\":[[0.0,\"#0d0887\"],[0.1111111111111111,\"#46039f\"],[0.2222222222222222,\"#7201a8\"],[0.3333333333333333,\"#9c179e\"],[0.4444444444444444,\"#bd3786\"],[0.5555555555555556,\"#d8576b\"],[0.6666666666666666,\"#ed7953\"],[0.7777777777777778,\"#fb9f3a\"],[0.8888888888888888,\"#fdca26\"],[1.0,\"#f0f921\"]],\"type\":\"histogram2dcontour\"}],\"mesh3d\":[{\"colorbar\":{\"outlinewidth\":0,\"ticks\":\"\"},\"type\":\"mesh3d\"}],\"parcoords\":[{\"line\":{\"colorbar\":{\"outlinewidth\":0,\"ticks\":\"\"}},\"type\":\"parcoords\"}],\"pie\":[{\"automargin\":true,\"type\":\"pie\"}],\"scatter\":[{\"marker\":{\"colorbar\":{\"outlinewidth\":0,\"ticks\":\"\"}},\"type\":\"scatter\"}],\"scatter3d\":[{\"line\":{\"colorbar\":{\"outlinewidth\":0,\"ticks\":\"\"}},\"marker\":{\"colorbar\":{\"outlinewidth\":0,\"ticks\":\"\"}},\"type\":\"scatter3d\"}],\"scattercarpet\":[{\"marker\":{\"colorbar\":{\"outlinewidth\":0,\"ticks\":\"\"}},\"type\":\"scattercarpet\"}],\"scattergeo\":[{\"marker\":{\"colorbar\":{\"outlinewidth\":0,\"ticks\":\"\"}},\"type\":\"scattergeo\"}],\"scattergl\":[{\"marker\":{\"colorbar\":{\"outlinewidth\":0,\"ticks\":\"\"}},\"type\":\"scattergl\"}],\"scattermapbox\":[{\"marker\":{\"colorbar\":{\"outlinewidth\":0,\"ticks\":\"\"}},\"type\":\"scattermapbox\"}],\"scatterpolar\":[{\"marker\":{\"colorbar\":{\"outlinewidth\":0,\"ticks\":\"\"}},\"type\":\"scatterpolar\"}],\"scatterpolargl\":[{\"marker\":{\"colorbar\":{\"outlinewidth\":0,\"ticks\":\"\"}},\"type\":\"scatterpolargl\"}],\"scatterternary\":[{\"marker\":{\"colorbar\":{\"outlinewidth\":0,\"ticks\":\"\"}},\"type\":\"scatterternary\"}],\"surface\":[{\"colorbar\":{\"outlinewidth\":0,\"ticks\":\"\"},\"colorscale\":[[0.0,\"#0d0887\"],[0.1111111111111111,\"#46039f\"],[0.2222222222222222,\"#7201a8\"],[0.3333333333333333,\"#9c179e\"],[0.4444444444444444,\"#bd3786\"],[0.5555555555555556,\"#d8576b\"],[0.6666666666666666,\"#ed7953\"],[0.7777777777777778,\"#fb9f3a\"],[0.8888888888888888,\"#fdca26\"],[1.0,\"#f0f921\"]],\"type\":\"surface\"}],\"table\":[{\"cells\":{\"fill\":{\"color\":\"#EBF0F8\"},\"line\":{\"color\":\"white\"}},\"header\":{\"fill\":{\"color\":\"#C8D4E3\"},\"line\":{\"color\":\"white\"}},\"type\":\"table\"}]},\"layout\":{\"annotationdefaults\":{\"arrowcolor\":\"#2a3f5f\",\"arrowhead\":0,\"arrowwidth\":1},\"autotypenumbers\":\"strict\",\"coloraxis\":{\"colorbar\":{\"outlinewidth\":0,\"ticks\":\"\"}},\"colorscale\":{\"diverging\":[[0,\"#8e0152\"],[0.1,\"#c51b7d\"],[0.2,\"#de77ae\"],[0.3,\"#f1b6da\"],[0.4,\"#fde0ef\"],[0.5,\"#f7f7f7\"],[0.6,\"#e6f5d0\"],[0.7,\"#b8e186\"],[0.8,\"#7fbc41\"],[0.9,\"#4d9221\"],[1,\"#276419\"]],\"sequential\":[[0.0,\"#0d0887\"],[0.1111111111111111,\"#46039f\"],[0.2222222222222222,\"#7201a8\"],[0.3333333333333333,\"#9c179e\"],[0.4444444444444444,\"#bd3786\"],[0.5555555555555556,\"#d8576b\"],[0.6666666666666666,\"#ed7953\"],[0.7777777777777778,\"#fb9f3a\"],[0.8888888888888888,\"#fdca26\"],[1.0,\"#f0f921\"]],\"sequentialminus\":[[0.0,\"#0d0887\"],[0.1111111111111111,\"#46039f\"],[0.2222222222222222,\"#7201a8\"],[0.3333333333333333,\"#9c179e\"],[0.4444444444444444,\"#bd3786\"],[0.5555555555555556,\"#d8576b\"],[0.6666666666666666,\"#ed7953\"],[0.7777777777777778,\"#fb9f3a\"],[0.8888888888888888,\"#fdca26\"],[1.0,\"#f0f921\"]]},\"colorway\":[\"#636efa\",\"#EF553B\",\"#00cc96\",\"#ab63fa\",\"#FFA15A\",\"#19d3f3\",\"#FF6692\",\"#B6E880\",\"#FF97FF\",\"#FECB52\"],\"font\":{\"color\":\"#2a3f5f\"},\"geo\":{\"bgcolor\":\"white\",\"lakecolor\":\"white\",\"landcolor\":\"#E5ECF6\",\"showlakes\":true,\"showland\":true,\"subunitcolor\":\"white\"},\"hoverlabel\":{\"align\":\"left\"},\"hovermode\":\"closest\",\"mapbox\":{\"style\":\"light\"},\"paper_bgcolor\":\"white\",\"plot_bgcolor\":\"#E5ECF6\",\"polar\":{\"angularaxis\":{\"gridcolor\":\"white\",\"linecolor\":\"white\",\"ticks\":\"\"},\"bgcolor\":\"#E5ECF6\",\"radialaxis\":{\"gridcolor\":\"white\",\"linecolor\":\"white\",\"ticks\":\"\"}},\"scene\":{\"xaxis\":{\"backgroundcolor\":\"#E5ECF6\",\"gridcolor\":\"white\",\"gridwidth\":2,\"linecolor\":\"white\",\"showbackground\":true,\"ticks\":\"\",\"zerolinecolor\":\"white\"},\"yaxis\":{\"backgroundcolor\":\"#E5ECF6\",\"gridcolor\":\"white\",\"gridwidth\":2,\"linecolor\":\"white\",\"showbackground\":true,\"ticks\":\"\",\"zerolinecolor\":\"white\"},\"zaxis\":{\"backgroundcolor\":\"#E5ECF6\",\"gridcolor\":\"white\",\"gridwidth\":2,\"linecolor\":\"white\",\"showbackground\":true,\"ticks\":\"\",\"zerolinecolor\":\"white\"}},\"shapedefaults\":{\"line\":{\"color\":\"#2a3f5f\"}},\"ternary\":{\"aaxis\":{\"gridcolor\":\"white\",\"linecolor\":\"white\",\"ticks\":\"\"},\"baxis\":{\"gridcolor\":\"white\",\"linecolor\":\"white\",\"ticks\":\"\"},\"bgcolor\":\"#E5ECF6\",\"caxis\":{\"gridcolor\":\"white\",\"linecolor\":\"white\",\"ticks\":\"\"}},\"title\":{\"x\":0.05},\"xaxis\":{\"automargin\":true,\"gridcolor\":\"white\",\"linecolor\":\"white\",\"ticks\":\"\",\"title\":{\"standoff\":15},\"zerolinecolor\":\"white\",\"zerolinewidth\":2},\"yaxis\":{\"automargin\":true,\"gridcolor\":\"white\",\"linecolor\":\"white\",\"ticks\":\"\",\"title\":{\"standoff\":15},\"zerolinecolor\":\"white\",\"zerolinewidth\":2}}}},                        {\"responsive\": true}                    ).then(function(){\n",
       "                            \n",
       "var gd = document.getElementById('90b12cb0-a34e-4069-8dd9-d1fa329c1fbb');\n",
       "var x = new MutationObserver(function (mutations, observer) {{\n",
       "        var display = window.getComputedStyle(gd).display;\n",
       "        if (!display || display === 'none') {{\n",
       "            console.log([gd, 'removed!']);\n",
       "            Plotly.purge(gd);\n",
       "            observer.disconnect();\n",
       "        }}\n",
       "}});\n",
       "\n",
       "// Listen for the removal of the full notebook cells\n",
       "var notebookContainer = gd.closest('#notebook-container');\n",
       "if (notebookContainer) {{\n",
       "    x.observe(notebookContainer, {childList: true});\n",
       "}}\n",
       "\n",
       "// Listen for the clearing of the current output cell\n",
       "var outputEl = gd.closest('.output');\n",
       "if (outputEl) {{\n",
       "    x.observe(outputEl, {childList: true});\n",
       "}}\n",
       "\n",
       "                        })                };                });            </script>        </div>"
      ]
     },
     "metadata": {},
     "output_type": "display_data"
    }
   ],
   "source": [
    "user_score_per_theme_vs_global_and_orientation(user=\"JLMelenchon\")"
   ]
  },
  {
   "cell_type": "markdown",
   "id": "8a67f8f1",
   "metadata": {},
   "source": [
    "## Les tweets les plus appréciés de sa communauté"
   ]
  },
  {
   "cell_type": "code",
   "execution_count": 94,
   "id": "a9be28a8",
   "metadata": {},
   "outputs": [],
   "source": [
    "def top_3_tweets_per_user(user):\n",
    "    \"\"\"\n",
    "    Returns the top 3 tweets for a given user based on the total number of retweets\n",
    "    \"\"\"\n",
    "    # Use global_df to display original tweets (before text cleaning). Sort this DataFrame per retweet_count\n",
    "    df = global_df.sort_values(by=\"retweet_count\", ascending=False)\n",
    "    # Retrieve retweets\n",
    "    df = df.loc[df[\"text\"].isin([text for text in df[\"text\"] if text[:2]!= \"RT\"])]\n",
    "    # Only keep user's tweets\n",
    "    df = df[\"url\"][df[\"user\"]==user]\n",
    "    \n",
    "    # Store the top 3 tweets in 3 variables\n",
    "    first_tweet = df.iloc[0]\n",
    "    second_tweet = df.iloc[1]\n",
    "    third_tweet = df.iloc[2]\n",
    "    \n",
    "    # Store the \"backslash n\" in a  variable to use it in a \"f string\"\n",
    "    new_line = \"\\n\"\n",
    "    # Define the full text to display\n",
    "    text = f\"Premier tweet le plus retweeter:{new_line}{first_tweet}{new_line}{new_line}Second tweet le plus retweeter:{new_line}{second_tweet}{new_line}{new_line}Troisième tweet le plus retweeter:{new_line}{third_tweet}\"\n",
    "    \n",
    "    return print(text)"
   ]
  },
  {
   "cell_type": "code",
   "execution_count": 95,
   "id": "2e31d7f1",
   "metadata": {
    "scrolled": true
   },
   "outputs": [
    {
     "name": "stdout",
     "output_type": "stream",
     "text": [
      "Premier tweet le plus retweeter:\n",
      "https://twitter.com/JLMelenchon/status/1461008990427561992\n",
      "\n",
      "Second tweet le plus retweeter:\n",
      "https://twitter.com/JLMelenchon/status/1460538657090248709\n",
      "\n",
      "Troisième tweet le plus retweeter:\n",
      "https://twitter.com/JLMelenchon/status/1462517975429390348\n"
     ]
    }
   ],
   "source": [
    "top_3_tweets_per_user(user=\"JLMelenchon\")"
   ]
  },
  {
   "cell_type": "code",
   "execution_count": 140,
   "id": "a4cf915f",
   "metadata": {},
   "outputs": [
    {
     "data": {
      "text/plain": [
       "divers            11\n",
       "droite            10\n",
       "gauche             6\n",
       "extrême_gauche     6\n",
       "extrême_droite     6\n",
       "ecologie           3\n",
       "Name: political_orientation, dtype: int64"
      ]
     },
     "execution_count": 140,
     "metadata": {},
     "output_type": "execute_result"
    }
   ],
   "source": [
    "global_df[[\"political_orientation\",\"name\"]].drop_duplicates()[\"political_orientation\"].value_counts()"
   ]
  },
  {
   "cell_type": "markdown",
   "id": "ddd09225",
   "metadata": {},
   "source": [
    "## Les sujets qui l'animent"
   ]
  },
  {
   "cell_type": "code",
   "execution_count": 133,
   "id": "89e8c82f",
   "metadata": {},
   "outputs": [],
   "source": [
    "def test_top_five_words_per_theme_per_user(name):\n",
    "    \"\"\"\n",
    "    Returns Top 5 words per theme for a given user based on the number of time he/she use it\n",
    "    \"\"\"\n",
    "    # Store all the user words in a list\n",
    "    user_words = []\n",
    "    # Extract all his/her tweets\n",
    "    user_tweets = list(df_ready_for_nlp[df_ready_for_nlp[\"name\"]==name][\"text\"])\n",
    "    # Go for each tweet\n",
    "    for tweet in user_tweets:\n",
    "        # Tokenize each tweet to analyze its content\n",
    "        tokenized_tweet = word_tokenize(tweet)\n",
    "        # Go for each word\n",
    "        for word in tokenized_tweet:\n",
    "            # Append it to the list\n",
    "            user_words.append(word)\n",
    "    \n",
    "    # Create a dictionary that will store the top words for every theme\n",
    "    top_words_per_theme_dict = {}\n",
    "    # Go in Lexicon_themes and dissociate theme and lexicon\n",
    "    for theme, lexicon in lexicon_themes.items():\n",
    "        # Create a dictionary that will store the top words only for this theme \n",
    "        top_words_for_this_theme_dict ={}\n",
    "        # Iterate over each word stored in this lexicon\n",
    "        for word in lexicon:\n",
    "            # Count how many times it appears in user_words\n",
    "            score = user_words.count(word)\n",
    "            # Store how many times the given user used this word, in the dictionary created for this only theme\n",
    "            top_words_for_this_theme_dict[word] = score\n",
    "        # Now that we iterate over every words stored in this theme, sort it per word's score\n",
    "        sorted_top_words_for_this_theme_dict = sorted(top_words_for_this_theme_dict.items(), key = lambda kv: kv[1], reverse=True)\n",
    "        # Only keep the first five\n",
    "        top_words_per_theme_dict[theme] = sorted_top_words_for_this_theme_dict[:5]\n",
    "    \n",
    "    empty_space = \" \"\n",
    "    for theme, top_words in top_words_per_theme_dict.items():\n",
    "        for word in top_words:\n",
    "            if word[-1] == 0:\n",
    "                top_words[top_words.index(word)] = empty_space\n",
    "    \n",
    "    # Convert the dictionary with the top 5 words per theme into a DataFrame\n",
    "    top_words_per_theme = pd.DataFrame(top_words_per_theme_dict)\n",
    "    # Raise the index by 1 to start at 1\n",
    "    top_words_per_theme.index += 1 \n",
    "    \n",
    "    # Transpose the DataFrame to fix the themes as index\n",
    "    return top_words_per_theme.T\n",
    "\n",
    "    return top_words_per_theme_dict"
   ]
  },
  {
   "cell_type": "code",
   "execution_count": 134,
   "id": "ca71b275",
   "metadata": {
    "scrolled": false
   },
   "outputs": [
    {
     "data": {
      "text/html": [
       "<div>\n",
       "<style scoped>\n",
       "    .dataframe tbody tr th:only-of-type {\n",
       "        vertical-align: middle;\n",
       "    }\n",
       "\n",
       "    .dataframe tbody tr th {\n",
       "        vertical-align: top;\n",
       "    }\n",
       "\n",
       "    .dataframe thead th {\n",
       "        text-align: right;\n",
       "    }\n",
       "</style>\n",
       "<table border=\"1\" class=\"dataframe\">\n",
       "  <thead>\n",
       "    <tr style=\"text-align: right;\">\n",
       "      <th></th>\n",
       "      <th>1</th>\n",
       "      <th>2</th>\n",
       "      <th>3</th>\n",
       "      <th>4</th>\n",
       "      <th>5</th>\n",
       "    </tr>\n",
       "  </thead>\n",
       "  <tbody>\n",
       "    <tr>\n",
       "      <th>Politique</th>\n",
       "      <td>(democratie, 16)</td>\n",
       "      <td>(programme, 15)</td>\n",
       "      <td>(presidentielle, 15)</td>\n",
       "      <td>(responsabilite, 9)</td>\n",
       "      <td>(liberte, 9)</td>\n",
       "    </tr>\n",
       "    <tr>\n",
       "      <th>Actualité</th>\n",
       "      <td>(benalla, 32)</td>\n",
       "      <td>(democratie, 16)</td>\n",
       "      <td>(candidats, 12)</td>\n",
       "      <td>(demain, 11)</td>\n",
       "      <td>(candidat, 11)</td>\n",
       "    </tr>\n",
       "    <tr>\n",
       "      <th>Candidats</th>\n",
       "      <td>(alexlanglois, 23)</td>\n",
       "      <td>(macron, 19)</td>\n",
       "      <td>(emmanuelmacron, 12)</td>\n",
       "      <td>(macronie, 9)</td>\n",
       "      <td>(dupontaignan, 7)</td>\n",
       "    </tr>\n",
       "    <tr>\n",
       "      <th>Travail</th>\n",
       "      <td>(affaire, 22)</td>\n",
       "      <td>(temps, 5)</td>\n",
       "      <td>(syndicat, 3)</td>\n",
       "      <td>(oeuvre, 3)</td>\n",
       "      <td>(fonction, 3)</td>\n",
       "    </tr>\n",
       "    <tr>\n",
       "      <th>Santé</th>\n",
       "      <td>(passsanitaire, 6)</td>\n",
       "      <td>(sanitaire, 5)</td>\n",
       "      <td>(masque, 5)</td>\n",
       "      <td>(patient, 5)</td>\n",
       "      <td>(nature, 5)</td>\n",
       "    </tr>\n",
       "    <tr>\n",
       "      <th>Economie</th>\n",
       "      <td>(crise, 5)</td>\n",
       "      <td>(service, 2)</td>\n",
       "      <td>(cote, 2)</td>\n",
       "      <td>(ressource, 1)</td>\n",
       "      <td>(production, 1)</td>\n",
       "    </tr>\n",
       "    <tr>\n",
       "      <th>Sécurité</th>\n",
       "      <td>(responsable, 11)</td>\n",
       "      <td>(police, 7)</td>\n",
       "      <td>(policier, 6)</td>\n",
       "      <td>(loi, 6)</td>\n",
       "      <td>(surete, 3)</td>\n",
       "    </tr>\n",
       "    <tr>\n",
       "      <th>Extrême</th>\n",
       "      <td>(terrible, 1)</td>\n",
       "      <td>(sommet, 1)</td>\n",
       "      <td>(maximum, 1)</td>\n",
       "      <td>(heroique, 1)</td>\n",
       "      <td>(contraire, 1)</td>\n",
       "    </tr>\n",
       "    <tr>\n",
       "      <th>Ecologie</th>\n",
       "      <td>(nature, 5)</td>\n",
       "      <td>(cours, 2)</td>\n",
       "      <td>(environnement, 1)</td>\n",
       "      <td>(ecosysteme, 1)</td>\n",
       "      <td>(ecologique, 1)</td>\n",
       "    </tr>\n",
       "    <tr>\n",
       "      <th>Pouvoir_achat</th>\n",
       "      <td>(retraite, 1)</td>\n",
       "      <td>(prix, 1)</td>\n",
       "      <td>(pauvrete, 1)</td>\n",
       "      <td></td>\n",
       "      <td></td>\n",
       "    </tr>\n",
       "  </tbody>\n",
       "</table>\n",
       "</div>"
      ],
      "text/plain": [
       "                                1                 2                     3  \\\n",
       "Politique        (democratie, 16)   (programme, 15)  (presidentielle, 15)   \n",
       "Actualité           (benalla, 32)  (democratie, 16)       (candidats, 12)   \n",
       "Candidats      (alexlanglois, 23)      (macron, 19)  (emmanuelmacron, 12)   \n",
       "Travail             (affaire, 22)        (temps, 5)         (syndicat, 3)   \n",
       "Santé          (passsanitaire, 6)    (sanitaire, 5)           (masque, 5)   \n",
       "Economie               (crise, 5)      (service, 2)             (cote, 2)   \n",
       "Sécurité        (responsable, 11)       (police, 7)         (policier, 6)   \n",
       "Extrême             (terrible, 1)       (sommet, 1)          (maximum, 1)   \n",
       "Ecologie              (nature, 5)        (cours, 2)    (environnement, 1)   \n",
       "Pouvoir_achat       (retraite, 1)         (prix, 1)         (pauvrete, 1)   \n",
       "\n",
       "                                 4                  5  \n",
       "Politique      (responsabilite, 9)       (liberte, 9)  \n",
       "Actualité             (demain, 11)     (candidat, 11)  \n",
       "Candidats            (macronie, 9)  (dupontaignan, 7)  \n",
       "Travail                (oeuvre, 3)      (fonction, 3)  \n",
       "Santé                 (patient, 5)        (nature, 5)  \n",
       "Economie            (ressource, 1)    (production, 1)  \n",
       "Sécurité                  (loi, 6)        (surete, 3)  \n",
       "Extrême              (heroique, 1)     (contraire, 1)  \n",
       "Ecologie           (ecosysteme, 1)    (ecologique, 1)  \n",
       "Pouvoir_achat                                          "
      ]
     },
     "execution_count": 134,
     "metadata": {},
     "output_type": "execute_result"
    }
   ],
   "source": [
    "test_top_five_words_per_theme_per_user(name=\"Alex Langlois\")"
   ]
  },
  {
   "cell_type": "markdown",
   "id": "61eafdcb",
   "metadata": {},
   "source": [
    "## How he/she use tweeter"
   ]
  },
  {
   "cell_type": "code",
   "execution_count": null,
   "id": "55a61637",
   "metadata": {},
   "outputs": [],
   "source": [
    "def user_number_of_tweets(name):\n",
    "    \"\"\"\n",
    "    Returns the number of tweets in archive for a given candidate\n",
    "    \"\"\"\n",
    "    \n",
    "    return nb"
   ]
  },
  {
   "cell_type": "code",
   "execution_count": 149,
   "id": "631c7808",
   "metadata": {},
   "outputs": [
    {
     "data": {
      "text/plain": [
       "200"
      ]
     },
     "execution_count": 149,
     "metadata": {},
     "output_type": "execute_result"
    }
   ],
   "source": [
    "# user_number_of_tweets = len(global_df[global_df[\"name\"]==\"Alex Langlois\"])\n",
    "# user_number_of_tweets"
   ]
  },
  {
   "cell_type": "code",
   "execution_count": 166,
   "id": "f5c4549c",
   "metadata": {},
   "outputs": [],
   "source": [
    "def user_tweeter_use(name):\n",
    "    \"\"\"\n",
    "    Returns number of tweets, time since his/her oldest tweet in archive, mean_tweet_per_day, number_of_author_tweets, percentage_author_tweet for a given candidate\n",
    "    and all_candidates_percentage_author_tweet and all_candidates_percentage_author_tweet for all candidates\n",
    "    \"\"\"\n",
    "    # Number of tweets archive\n",
    "    nb = len(global_df[global_df[\"name\"]==name])\n",
    "    \n",
    "    # Oldest tweet date\n",
    "    user_oldest_tweet = datetime.strptime(min(global_df[global_df[\"name\"]==name][\"created_date\"]), \"%Y-%m-%d\")\n",
    "    today = datetime.strptime(date.today().strftime(\"%Y-%m-%d\"), \"%Y-%m-%d\")\n",
    "    # Time since his/her oldest tweet in archive\n",
    "    time = abs((today - user_oldest_tweet).days)\n",
    "    # Mean tweet per day\n",
    "    mean_tweet_per_day = round(nb/time,0)\n",
    "    \n",
    "    # DataFrame without Retweets\n",
    "    df_without_retweets = global_df.loc[global_df[\"text\"].isin([text for text in global_df[\"text\"] if text[:2]!= \"RT\"])]\n",
    "    # Number of tweets which the candidate is the author\n",
    "    number_of_author_tweets = len(df_without_retweets[df_without_retweets[\"name\"]==name])\n",
    "    # Percentage of his/her \"author tweets\"\n",
    "    percentage_author_tweet = round(user_number_of_author_tweets/user_number_of_tweets,2)\n",
    "    # All candidates number of author tweets\n",
    "    all_candidates_number_of_author_tweets = len(df_without_retweets)\n",
    "    # All candidates number of tweets\n",
    "    all_candidates_total_number_of_tweets = len(global_df)\n",
    "    # Global percentage of \"author tweet\"\n",
    "    all_candidates_percentage_author_tweet = round(all_candidates_number_of_author_tweets/all_candidates_total_number_of_tweets,2)\n",
    "    \n",
    "    return nb, time, mean_tweet_per_day, number_of_author_tweets, percentage_author_tweet, all_candidates_percentage_author_tweet"
   ]
  },
  {
   "cell_type": "code",
   "execution_count": 167,
   "id": "6b8a0504",
   "metadata": {},
   "outputs": [],
   "source": [
    "nb, time, mean_tweet_per_day, number_of_author_tweets, percentage_author_tweet, all_candidates_percentage_author_tweet =user_tweeter_use(name=\"Alex Langlois\")"
   ]
  },
  {
   "cell_type": "code",
   "execution_count": 169,
   "id": "feafba81",
   "metadata": {},
   "outputs": [
    {
     "data": {
      "text/plain": [
       "(200, 133, 2.0, 164, 0.82, 0.75)"
      ]
     },
     "execution_count": 169,
     "metadata": {},
     "output_type": "execute_result"
    }
   ],
   "source": [
    "nb, time, mean_tweet_per_day, number_of_author_tweets, percentage_author_tweet, all_candidates_percentage_author_tweet"
   ]
  }
 ],
 "metadata": {
  "kernelspec": {
   "display_name": "Python 3 (ipykernel)",
   "language": "python",
   "name": "python3"
  },
  "language_info": {
   "codemirror_mode": {
    "name": "ipython",
    "version": 3
   },
   "file_extension": ".py",
   "mimetype": "text/x-python",
   "name": "python",
   "nbconvert_exporter": "python",
   "pygments_lexer": "ipython3",
   "version": "3.8.12"
  },
  "toc": {
   "base_numbering": 1,
   "nav_menu": {},
   "number_sections": true,
   "sideBar": true,
   "skip_h1_title": false,
   "title_cell": "Table of Contents",
   "title_sidebar": "Contents",
   "toc_cell": false,
   "toc_position": {
    "height": "calc(100% - 180px)",
    "left": "10px",
    "top": "150px",
    "width": "263.25px"
   },
   "toc_section_display": true,
   "toc_window_display": true
  },
  "varInspector": {
   "cols": {
    "lenName": 16,
    "lenType": 16,
    "lenVar": 40
   },
   "kernels_config": {
    "python": {
     "delete_cmd_postfix": "",
     "delete_cmd_prefix": "del ",
     "library": "var_list.py",
     "varRefreshCmd": "print(var_dic_list())"
    },
    "r": {
     "delete_cmd_postfix": ") ",
     "delete_cmd_prefix": "rm(",
     "library": "var_list.r",
     "varRefreshCmd": "cat(var_dic_list()) "
    }
   },
   "types_to_exclude": [
    "module",
    "function",
    "builtin_function_or_method",
    "instance",
    "_Feature"
   ],
   "window_display": false
  }
 },
 "nbformat": 4,
 "nbformat_minor": 5
}
