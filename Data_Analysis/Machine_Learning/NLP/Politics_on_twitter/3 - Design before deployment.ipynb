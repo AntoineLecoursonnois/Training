{
 "cells": [
  {
   "cell_type": "markdown",
   "id": "26939206",
   "metadata": {},
   "source": [
    "# Load and prepare the data"
   ]
  },
  {
   "cell_type": "markdown",
   "id": "388aeddf",
   "metadata": {},
   "source": [
    "## Import librairies"
   ]
  },
  {
   "cell_type": "code",
   "execution_count": 2,
   "id": "f64fc90b",
   "metadata": {},
   "outputs": [],
   "source": [
    "import requests\n",
    "import tweepy\n",
    "import webbrowser\n",
    "import time\n",
    "import pandas as pd\n",
    "import re\n",
    "from nltk.tokenize import word_tokenize\n",
    "from nltk.corpus import stopwords \n",
    "import string\n",
    "import unidecode\n",
    "from sklearn.feature_extraction.text import TfidfVectorizer\n",
    "import matplotlib.pyplot as plt\n",
    "from wordcloud import WordCloud, STOPWORDS\n",
    "import seaborn as sns\n",
    "import plotly.graph_objects as go\n",
    "import plotly.express as px"
   ]
  },
  {
   "cell_type": "markdown",
   "id": "6437b7c1",
   "metadata": {},
   "source": [
    "## Import keys"
   ]
  },
  {
   "cell_type": "code",
   "execution_count": 3,
   "id": "44d46f22",
   "metadata": {},
   "outputs": [],
   "source": [
    "from raw_data import keys"
   ]
  },
  {
   "cell_type": "code",
   "execution_count": 4,
   "id": "8a1d9f3a",
   "metadata": {},
   "outputs": [],
   "source": [
    "twitter_api_key = keys.twitter_api_key()\n",
    "twitter_api_secret_key = keys.twitter_api_key_secret()\n",
    "twitter_bearer_token = keys.twitter_bearer_token"
   ]
  },
  {
   "cell_type": "markdown",
   "id": "c8bdc037",
   "metadata": {},
   "source": [
    "## Connect my developer project to my twitter profile"
   ]
  },
  {
   "cell_type": "code",
   "execution_count": 5,
   "id": "1f5f751c",
   "metadata": {},
   "outputs": [
    {
     "name": "stdout",
     "output_type": "stream",
     "text": [
      "https://api.twitter.com/oauth/authorize?oauth_token=8F9laAAAAAABUe3MAAABfSpc7hw\n"
     ]
    }
   ],
   "source": [
    "callback_uri = \"oob\" # url\n",
    "auth = tweepy.OAuthHandler(twitter_api_key, twitter_api_secret_key, callback_uri)\n",
    "redirect_url = auth.get_authorization_url()\n",
    "print(redirect_url)"
   ]
  },
  {
   "cell_type": "code",
   "execution_count": 5,
   "id": "73561702",
   "metadata": {
    "scrolled": false
   },
   "outputs": [
    {
     "ename": "SyntaxError",
     "evalue": "invalid syntax (1928120398.py, line 1)",
     "output_type": "error",
     "traceback": [
      "\u001b[0;36m  File \u001b[0;32m\"/tmp/ipykernel_31346/1928120398.py\"\u001b[0;36m, line \u001b[0;32m1\u001b[0m\n\u001b[0;31m    m=\u001b[0m\n\u001b[0m      ^\u001b[0m\n\u001b[0;31mSyntaxError\u001b[0m\u001b[0;31m:\u001b[0m invalid syntax\n"
     ]
    }
   ],
   "source": [
    "m="
   ]
  },
  {
   "cell_type": "code",
   "execution_count": 6,
   "id": "ae9a2dac",
   "metadata": {},
   "outputs": [],
   "source": [
    "user_pin_value = '1309100'\n",
    "auth.get_access_token(user_pin_value)\n",
    "api = tweepy.API(auth)"
   ]
  },
  {
   "cell_type": "markdown",
   "id": "cd893808",
   "metadata": {},
   "source": [
    "## Load new content"
   ]
  },
  {
   "cell_type": "markdown",
   "id": "c93f5fb7",
   "metadata": {},
   "source": [
    "### Function to extract the tweets of politicals that I follow"
   ]
  },
  {
   "cell_type": "code",
   "execution_count": 7,
   "id": "e8482ca6",
   "metadata": {},
   "outputs": [],
   "source": [
    "def extract_tweets_from_politics(number_of_tweet_per_politic):\n",
    "    \"\"\"This function return a DataFrame of the last tweets of politics that I follow on Twitter\"\"\"\n",
    "    \n",
    "    # Start by working on my own account\n",
    "    me = api.get_user(screen_name=\"alecoursonnois\")\n",
    "    # Generate a list of my all of my friends (considering that I have under 50 friends on twitter)\n",
    "    my_friends = me.friends(count=50)\n",
    "    \n",
    "    # Retrieve my personal friends which I don't want to analyze their tweets\n",
    "    not_politics = [\"alecoursonnois\", \"Baly_5\", \"LucieCMP\", \"JeannonoSmith\", \"Seezzy_\"]\n",
    "    \n",
    "    # Create a set to stock the DataFrame columns names\n",
    "    columns = set()\n",
    "    # Create a list to save each tweet and its datas\n",
    "    tweets_data = []\n",
    "    # Create to save politics screen_names\n",
    "    politics_screen_name = []\n",
    "    \n",
    "    # Iterate on my_friends\n",
    "    for friend in my_friends:\n",
    "        friend_name = friend.screen_name\n",
    "        \n",
    "        # Don't act if this friend is out of the project\n",
    "        if friend_name in not_politics:\n",
    "            pass\n",
    "        \n",
    "        else:\n",
    "            # Generate politics timeline list of the last tweets (the number must be indicated as a function's argument)\n",
    "            timeline_list = api.get_user(screen_name=friend_name).timeline(count=number_of_tweet_per_politic, tweet_mode=\"extended\")\n",
    "            \n",
    "            # Iterate on each tweet\n",
    "            for status in timeline_list:\n",
    "                # Generate a dictionary of status attributes\n",
    "                status_dict = dict(vars(status))\n",
    "                \n",
    "                # From this dictionary, get the keys and stock it in a variable\n",
    "                keys = vars(status).keys()\n",
    "                \n",
    "                # Create a dictionary stocking each status of the politic we are working on\n",
    "                # This dictionary will be added to the \"tweets_data\" list and finaly convert into a DataFrame\n",
    "                single_tweet_data = {}\n",
    "    \n",
    "                # Iterate on each status key (future column name)\n",
    "                for k in keys:\n",
    "                    # Add the status data to its right key into the dictionary of each status\n",
    "                    single_tweet_data[k] = status_dict[k]\n",
    "                    # Add the key as a column name in the set\n",
    "                    columns.add(k)\n",
    "                \n",
    "                # Append the full single_tweet_data dictionary with the right key to the tweets_data list\n",
    "                tweets_data.append(single_tweet_data)\n",
    "\n",
    "    # Give a name to the columns respecting the order\n",
    "    headers_cols = list(columns)\n",
    "\n",
    "    # Allow the DataFrame to display full tweets when printed\n",
    "    pd.set_option(\"display.max_rows\", None, \"display.max_columns\", None)\n",
    "    \n",
    "    # Convert the tweets_data list into a DataFrame\n",
    "    df = pd.DataFrame(tweets_data)\n",
    "    \n",
    "    # Only keep columns that provides information\n",
    "    columns_to_keep = ['id', '_json', 'source', 'source_url', 'retweet_count']\n",
    "    df = df[columns_to_keep]\n",
    "    \n",
    "    # Generate new features from extracted data\n",
    "    df[\"user\"] = df[\"_json\"].apply(lambda x : x[\"user\"][\"screen_name\"])\n",
    "    df[\"created_date\"] = pd.to_datetime(df[\"_json\"].apply(lambda x : x[\"created_at\"])).dt.strftime(\"%Y-%m-%d\")\n",
    "    df[\"created_hour\"] = pd.to_datetime(df[\"_json\"].apply(lambda x : x[\"created_at\"])).dt.strftime(\"%H:%M:%S\")\n",
    "    df[\"text\"] = df[\"_json\"].apply(lambda x : x[\"full_text\"])\n",
    "    df[\"hashtags\"] = df[\"_json\"].apply(lambda x : [hasthstags[\"text\"] for hasthstags in x[\"entities\"][\"hashtags\"]])\n",
    "    \n",
    "    # Reorder columns\n",
    "    right_order = [\"user\", \"id\", \"source\", \"text\", \"created_date\", \"created_hour\", \"hashtags\", \"retweet_count\"]\n",
    "    df = df[right_order]\n",
    "    \n",
    "    return df"
   ]
  },
  {
   "cell_type": "markdown",
   "id": "3e489b9b",
   "metadata": {},
   "source": [
    "### Apply the function"
   ]
  },
  {
   "cell_type": "code",
   "execution_count": 8,
   "id": "b6d76d2f",
   "metadata": {},
   "outputs": [
    {
     "data": {
      "text/plain": [
       "(8125, 8)"
      ]
     },
     "execution_count": 8,
     "metadata": {},
     "output_type": "execute_result"
    }
   ],
   "source": [
    "# Load new tweets\n",
    "last_tweets_df = extract_tweets_from_politics(number_of_tweet_per_politic=250)\n",
    "last_tweets_df.shape"
   ]
  },
  {
   "cell_type": "markdown",
   "id": "738807e0",
   "metadata": {},
   "source": [
    "### Add features"
   ]
  },
  {
   "cell_type": "markdown",
   "id": "55167ffb",
   "metadata": {},
   "source": [
    "#### Generate new_features"
   ]
  },
  {
   "cell_type": "code",
   "execution_count": 9,
   "id": "2d59e36f",
   "metadata": {},
   "outputs": [],
   "source": [
    "new_features = [{\"user\":'EPhilippe_LH', \"name\": \"Édouard Philippe\",\"political_party\":\"horizons\", \"political_trend\":\"right\"},\n",
    "                 {\"user\":'ZemmourEric', \"name\": \"Eric Zemmour\", \"political_party\":\"zemmour\", \"political_trend\":\"extrem_right\"},\n",
    "                 {\"user\":'EmmanuelMacron', \"name\": \"Emmanuel Macron\", \"political_party\":\"LREM\", \"political_trend\":\"right\"},\n",
    "                 {\"user\":'Waechter2022', \"name\": \"Antoine Waechter\", \"political_party\":\"mouvement_ecologiste_independant\", \"political_trend\":\"ecology\"},\n",
    "                 {\"user\":'Fabien_Roussel', \"name\": \"Fabien Roussel\", \"political_party\":\"PCF\", \"political_trend\":\"extrem_left\"},\n",
    "                 {\"user\":'PhilippePoutou', \"name\": \"Philippe Poutou\", \"political_party\":\"nouveau_parti_anticapitaliste\", \"political_trend\":\"extrem_left\"},\n",
    "                 {\"user\":'jfpoisson78', \"name\": \"Jean-Frédéric Poisson\", \"political_party\":\"la_voie_du_peuple\", \"political_trend\":\"extrem_right\"},\n",
    "                 {\"user\":'f_philippot', \"name\": \"Florian Philippot\", \"political_party\":\"les_patriotes\", \"political_trend\":\"extrem_right\"},\n",
    "                 {\"user\":'vpecresse', \"name\": \"Valérie Pécresse\", \"political_party\":\"soyons_libres\", \"political_trend\":\"right\"},\n",
    "                 {\"user\":'DenisPayre', \"name\": \"Denis Payre\", \"political_party\":\"les_republicains\", \"political_trend\":\"right\"},\n",
    "                 {\"user\":'montebourg', \"name\": \"Arnaud Montebourg\", \"political_party\":\"l_engagement\", \"political_trend\":\"left\"},\n",
    "                 {\"user\":'JLMelenchon', \"name\": \"Jean-Luc Mélenchon\", \"political_party\":\"la_france_insoumise\", \"political_trend\":\"extrem_left\"},\n",
    "                 {\"user\":'MLP_officiel', \"name\": \"Marine Le Pen\", \"political_party\":\"front_national\", \"political_trend\":\"extrem_right\"},\n",
    "                 {\"user\":'SLeFoll', \"name\": \"Stéphane Le Foll\", \"political_party\":\"parti_socialiste\", \"political_trend\":\"left\"},\n",
    "                 {\"user\":'jeanlassalle', \"name\": \"Jean Lassale\", \"political_party\":\"resistons\", \"political_trend\":\"divers\"},\n",
    "                 {\"user\":'larrouturou', \"name\": \"Pierre Larrouturou\", \"political_party\":\"nouvelle_donne\", \"political_trend\":\"left\"},\n",
    "                 {\"user\":'philippejuvin', \"name\": \"Philippe Juvin\", \"political_party\":\"les_republicains\", \"political_trend\":\"right\"},\n",
    "                 {\"user\":'yjadot', \"name\": \"Yannick Jadot\", \"political_party\":\"EELV\", \"political_trend\":\"ecology\"},\n",
    "                 {\"user\":'Anne_Hidalgo', \"name\": \"Anne Hidalgo\", \"political_party\":\"parti_socialiste\", \"political_trend\":\"left\"},\n",
    "                 {\"user\":'gerardfiloche', \"name\": \"Gerard Filoche\", \"political_party\":\"la_gauche_democratique_et_sociale\", \"political_trend\":\"extrem_left\"},\n",
    "                 {\"user\":'dupontaignan', \"name\": \"Nicolas Dupont-Aignan\", \"political_party\":\"debout_la_france\", \"political_trend\":\"extrem_right\"},\n",
    "                 {\"user\":'ECiotti', \"name\": \"Eric Ciotti\", \"political_party\":\"les_republicains\", \"political_trend\":\"right\"},\n",
    "                 {\"user\":'xavierbertrand', \"name\": \"Xavier Bertrand\", \"political_party\":\"la_manufacture\", \"political_trend\":\"right\"},\n",
    "                 {\"user\":'MichelBarnier', \"name\": \"Michel Barnier\", \"political_party\":\"les_republicains\", \"political_trend\":\"right\"},\n",
    "                 {\"user\":'UPR_Asselineau', \"name\": \"François Asselineau\", \"political_party\":\"union_populaire_republicaine\", \"political_trend\":\"divers\"},\n",
    "                 {\"user\":'n_arthaud', \"name\": \"Nathalie Arthaud\", \"political_party\":\"lutte_ouvriere\", \"political_trend\":\"extrem_left\"},\n",
    "                 {\"user\":'MartinRocca2022', \"name\": \"Martin Rocca\", \"political_party\":\"constituante_2022\", \"political_trend\":\"divers\"},\n",
    "                 {\"user\":'gilleslazzarini', \"name\": \"Gilles Lazzarini\", \"political_party\":\"parti_politique_pour_la_paix_et_la_protection_de_la_planete\", \"political_trend\":\"divers\"},\n",
    "                 {\"user\":'AlexLanglois_', \"name\": \"Alex Langlois\", \"political_party\":\"refondation_2022\", \"political_trend\":\"divers\"},\n",
    "                 {\"user\":'luclaf', \"name\": \"Luc Laforets\", \"political_party\":\"une_perspective_la_6e_republique\", \"political_trend\":\"divers\"},\n",
    "                 {\"user\":'Vukuzman', \"name\": \"Georges Kuzmanovic\", \"political_party\":\"republique_souveraine\", \"political_trend\":\"divers\"},\n",
    "                 {\"user\":'FabriceGrimal', \"name\": \"Fabrice Grimal\", \"political_party\":\"la_concorde_citoyenne_2022\", \"political_trend\":\"divers\"},\n",
    "                 {\"user\":'ClaraEgger1', \"name\": \"Clara Egger\", \"political_party\":\"espoir_RIC_2022\", \"political_trend\":\"divers\"},\n",
    "                 {\"user\":'Cau_Marie_', \"name\": \"Marie Cau\", \"political_party\":\"sans_etiquette\", \"political_trend\":\"divers\"},\n",
    "                 {\"user\":'antoine27955080', \"name\": \"Antoine Martinez\", \"political_party\":\"volontaires_pour_la_france\", \"political_trend\":\"extrem_right\"},\n",
    "                 {\"user\":'regis_ollivier', \"name\": \"Régis Ollivier\", \"political_party\":\"independant\", \"political_trend\":\"right\"},\n",
    "                 {\"user\":'JaclineMouraud', \"name\": \"Jacline Mouraud\", \"political_party\":\"sans_etiquette\", \"political_trend\":\"right\"},\n",
    "                 {\"user\":'HeleneThouy', \"name\": \"Hélène Thouy\", \"political_party\":\"parti_animaliste\", \"political_trend\":\"ecology\"},\n",
    "                 {\"user\":'MAZUEL_Pace', \"name\": \"Philippe Mazuel\", \"political_party\":\"pace\", \"political_trend\":\"left\"},\n",
    "                 {\"user\":'MarCharlott', \"name\": \"Charlotte Marchandise\", \"political_party\":\"sans_etiquette\", \"political_trend\":\"left\"},\n",
    "                 {\"user\":'AguebPorterie', \"name\": \"Anna Agueb-Porterie\", \"political_party\":\"aucun\", \"political_trend\":\"left\"},\n",
    "                 {\"user\":'AnasseKazib', \"name\": \"Anasse Kazib\", \"political_party\":\"courant_communiste_revolutionnaire_revolution_permanente\", \"political_trend\":\"extrem_left\"}]"
   ]
  },
  {
   "cell_type": "code",
   "execution_count": 10,
   "id": "763ebb16",
   "metadata": {},
   "outputs": [],
   "source": [
    "new_features_df = pd.DataFrame(new_features)"
   ]
  },
  {
   "cell_type": "markdown",
   "id": "089146ae",
   "metadata": {},
   "source": [
    "#### Merge it to last_tweets_df"
   ]
  },
  {
   "cell_type": "code",
   "execution_count": 11,
   "id": "98311e1c",
   "metadata": {},
   "outputs": [],
   "source": [
    "# because M Rocca changed his accounts name we must change our informations\n",
    "last_tweets_df[\"user\"] = last_tweets_df[\"user\"].str.replace(\"MartinRocca12\", \"MartinRocca2022\")"
   ]
  },
  {
   "cell_type": "code",
   "execution_count": 12,
   "id": "1dc7c919",
   "metadata": {},
   "outputs": [],
   "source": [
    "last_tweets_df = pd.merge(left=last_tweets_df, right=new_features_df, on='user', how='left')"
   ]
  },
  {
   "cell_type": "markdown",
   "id": "c0e21a21",
   "metadata": {},
   "source": [
    "### Check the number of tweets per politics"
   ]
  },
  {
   "cell_type": "code",
   "execution_count": null,
   "id": "bb903b9a",
   "metadata": {},
   "outputs": [],
   "source": [
    "# last_tweets_df[\"user\"].value_counts()"
   ]
  },
  {
   "cell_type": "markdown",
   "id": "1084186c",
   "metadata": {},
   "source": [
    "### Add it to the main global DataFrame"
   ]
  },
  {
   "cell_type": "markdown",
   "id": "78e83f37",
   "metadata": {},
   "source": [
    "#### Load the global_df \n",
    "- and drop the last index column automatically named \"Unamed: 0\" when saving df to csv file"
   ]
  },
  {
   "cell_type": "code",
   "execution_count": 91,
   "id": "e548f5b7",
   "metadata": {},
   "outputs": [],
   "source": [
    "global_df = pd.read_csv(\"global_df.csv\").drop(columns=\"Unnamed: 0\")"
   ]
  },
  {
   "cell_type": "markdown",
   "id": "658bf739",
   "metadata": {},
   "source": [
    "#### Add new content"
   ]
  },
  {
   "cell_type": "code",
   "execution_count": 14,
   "id": "6bc89a19",
   "metadata": {},
   "outputs": [
    {
     "name": "stdout",
     "output_type": "stream",
     "text": [
      "We just added -2 tweets to our global_df\n"
     ]
    }
   ],
   "source": [
    "actual_number_of_tweets = global_df.shape[0]\n",
    "\n",
    "# Append last tweets loaded to our archives\n",
    "global_df = global_df.append(last_tweets_df, ignore_index=True)\n",
    "\n",
    "# Sort the df by retweet_count to be sure to only keep the last update of retweet_count\n",
    "global_df = global_df.sort_values('retweet_count', ascending=False).drop_duplicates([\"user\", \"id\", \"source\", \"text\", \"created_date\", \"created_hour\", \"name\", \"political_party\",\"political_trend\"])\n",
    "\n",
    "print(f\"We just added {global_df.shape[0]-actual_number_of_tweets} tweets to our global_df\")"
   ]
  },
  {
   "cell_type": "markdown",
   "id": "332b34ba",
   "metadata": {},
   "source": [
    "#### Save the new global_df"
   ]
  },
  {
   "cell_type": "code",
   "execution_count": 15,
   "id": "4b520eb8",
   "metadata": {},
   "outputs": [
    {
     "data": {
      "text/plain": [
       "(12127, 11)"
      ]
     },
     "execution_count": 15,
     "metadata": {},
     "output_type": "execute_result"
    }
   ],
   "source": [
    "global_df.shape"
   ]
  },
  {
   "cell_type": "code",
   "execution_count": 92,
   "id": "14de77db",
   "metadata": {},
   "outputs": [],
   "source": [
    "global_df[\"user\"] = global_df[\"user\"].str.replace(\"MartinRocca12\", \"MartinRocca2022\")"
   ]
  },
  {
   "cell_type": "code",
   "execution_count": 90,
   "id": "67efbe20",
   "metadata": {},
   "outputs": [],
   "source": [
    "global_df.to_csv(\"global_df.csv\")"
   ]
  },
  {
   "cell_type": "markdown",
   "id": "8fe632af",
   "metadata": {},
   "source": [
    "## Clean tweets"
   ]
  },
  {
   "cell_type": "markdown",
   "id": "a28ec9a9",
   "metadata": {},
   "source": [
    "### Make a new df from the global one\n",
    "- This way we will be allowed to drop duplicates next time we will load the global_df from the csv file"
   ]
  },
  {
   "cell_type": "code",
   "execution_count": 93,
   "id": "9b0fce02",
   "metadata": {},
   "outputs": [],
   "source": [
    "df_ready_for_nlp = global_df.copy()"
   ]
  },
  {
   "cell_type": "markdown",
   "id": "eaeed460",
   "metadata": {},
   "source": [
    "### Retrieve recurrent regex"
   ]
  },
  {
   "cell_type": "markdown",
   "id": "d320cc2d",
   "metadata": {},
   "source": [
    "#### Retweets"
   ]
  },
  {
   "cell_type": "code",
   "execution_count": 18,
   "id": "0bb457d4",
   "metadata": {},
   "outputs": [],
   "source": [
    "def retrieve_rt_retweets(df):\n",
    "    new_texts = []\n",
    "    \n",
    "    for text in df[\"text\"]:\n",
    "        if text[:3] == 'RT ' or text[:3] == 'rt ':\n",
    "            new_texts.append(text[3:])\n",
    "        else:\n",
    "            new_texts.append(text)\n",
    "    \n",
    "    df[\"text\"] = new_texts\n",
    "    \n",
    "    return df"
   ]
  },
  {
   "cell_type": "code",
   "execution_count": 94,
   "id": "cc232a86",
   "metadata": {},
   "outputs": [],
   "source": [
    "df_ready_for_nlp = retrieve_rt_retweets(df_ready_for_nlp)"
   ]
  },
  {
   "cell_type": "markdown",
   "id": "090cc107",
   "metadata": {},
   "source": [
    "#### Links"
   ]
  },
  {
   "cell_type": "code",
   "execution_count": 20,
   "id": "afb64d7b",
   "metadata": {},
   "outputs": [],
   "source": [
    "def retrieve_links(df):\n",
    "    pattern = re.compile(\"https://*\")\n",
    "    new_text = []\n",
    "\n",
    "    for text in df[\"text\"]:\n",
    "        if re.search(pattern, text) is None:\n",
    "            new_text.append(text)\n",
    "        else:\n",
    "            match_position = re.search(pattern, text).span()[0]\n",
    "            new_text.append(text[:(match_position-1)])\n",
    "\n",
    "    df[\"text\"] = new_text\n",
    "    \n",
    "    return df"
   ]
  },
  {
   "cell_type": "code",
   "execution_count": 95,
   "id": "c093ecb1",
   "metadata": {},
   "outputs": [],
   "source": [
    "df_ready_for_nlp = retrieve_links(df_ready_for_nlp)"
   ]
  },
  {
   "cell_type": "markdown",
   "id": "29273dd9",
   "metadata": {},
   "source": [
    "\n",
    "### Retrieve punctuation, lower text, tokenize, stopwords"
   ]
  },
  {
   "cell_type": "markdown",
   "id": "74137dc4",
   "metadata": {},
   "source": [
    "#### Define a text_cleaner function"
   ]
  },
  {
   "cell_type": "code",
   "execution_count": 96,
   "id": "55cff025",
   "metadata": {},
   "outputs": [],
   "source": [
    "def text_cleaner(text):\n",
    "    # Remove Punctuation\n",
    "    for punctuation in string.punctuation:\n",
    "        text = text.replace(punctuation, ' ') \n",
    "    \n",
    "    # Lower Case\n",
    "    lowercased = text.lower() \n",
    "    \n",
    "    # Remove accents\n",
    "    unaccented_string = unidecode.unidecode(lowercased) \n",
    "    \n",
    "    # Tokenize\n",
    "    tokenized = word_tokenize(unaccented_string) \n",
    "    \n",
    "    # Remove numbers\n",
    "    words_only = [word for word in tokenized if word.isalpha()] \n",
    "    \n",
    "    # Make stopword list\n",
    "    stop_words = set(stopwords.words('french')) \n",
    "    \n",
    "    # Remove Stop Words\n",
    "    without_stopwords = [word for word in words_only if not word in stop_words]\n",
    "    \n",
    "    return \" \".join(without_stopwords)"
   ]
  },
  {
   "cell_type": "markdown",
   "id": "06d50d6a",
   "metadata": {},
   "source": [
    "#### Apply the text_cleaner function"
   ]
  },
  {
   "cell_type": "code",
   "execution_count": 97,
   "id": "f2d4bb08",
   "metadata": {},
   "outputs": [],
   "source": [
    "df_ready_for_nlp['text'] = df_ready_for_nlp['text'].apply(text_cleaner)"
   ]
  },
  {
   "cell_type": "markdown",
   "id": "e2077576",
   "metadata": {},
   "source": [
    "## Analyze tweets"
   ]
  },
  {
   "cell_type": "markdown",
   "id": "e27e6bbd",
   "metadata": {},
   "source": [
    "### Find lexical themes and store their vocabulary in lists"
   ]
  },
  {
   "cell_type": "code",
   "execution_count": 24,
   "id": "1075831c",
   "metadata": {},
   "outputs": [],
   "source": [
    "political_lexicon_before_tokenize = \"\"\"Zinoviev,Yougoslavie,yougoslave,vouseteslarepublique,volonté,vision,vietnamien,Vietnam,Varsovie,utopie,URSS,univers,union,UEC,Twitter,trotskyste,trotskysme,Trotsky,trotskiste,trotskisme,Trotski,troïka,tribalisme,électionprésidentielle,DébatdelaDroite,DebatDeLaDroite,testspayants,Talibans,Solidaritepalestine,Socialistes,russie,RépubliqueEuropéenne,RepubliqueEuropeenne,RentreeLR,Régionales,regionales,primaireLR,Présidentielle2022,conseilconstitutionnel,totalitarisme,totalitaire,Tito,titiste,titisme,Thucydide,Thorez,termite,temporisation,tempête,technocratie,technocrate,Tchéka,Tchécoslovaquie,tchécoslovaque,Tchang,Taïwan,tabou,système,syndicalisme,sympathisant,stratification,stratégie,staliniste,stalinisme,stalinien,Staline,sphère,spartakiste,soviétomane,soviétique,soviet,souverainiste,souverainisme,souveraineté,Solidarnosc,solidarité,sociologue,sociologique,sociologie,sociolecte,société,sociétal,socialiste,socialisme,socialisation,sociales,sociale,social,sociable,sociabilité,situation,sionisme,siège,Shanghai,SFIO,séparatiste,sentiment,sénat,secrétaire,sécession,scolaire,scission,schisme,Schengen,scandale,samu,samizdat,ruse,RPC,Rousseau,Roumanie,rouge,révolutionnaire,révolution,restauration,responsabilité,respect,résistant,résistance,réseautage,république,républicain,religion,rejet,réinsertion,régime,réfugié,réformiste,réforme,réflexion,réactionnaire,réaction,RDA,rapport,rang,racial,querelles,qualité,publiciste,public,psychologique,psychique,province,protectorat,propagande,prolétarienne,progressiste,progressisme,progrès,programmes,programme,problèmes,Primaire,pression,présidium,Presidentielles2022,Presidentielle2022,Présidentielle,Presidentielle,prélèvement,Pravda,pouvoir,postcommunisme,populiste,populisme,populaire,politologue,politologie,politiste,politiser,politisation,politiquement,politique,politicien,politicard,politicaillerie,politicailler,politburo,polémique,pluralisme,plan,philosophique,philosophie,philosophe,phénomènes,personnalités,perestroïka,Pékin,PCUS,PCI,pauvre,patriarcat,partisan,parti,partenaire,partageux,parlementarisme,parlementaire,parlement,parenté,paradigme,panslavisme,panafricanisme,pamphlet,palestinien,pacte,orthodoxe,orientation,opposant,opinion,ONG,oligarchie,office,notion,nomenklatura,noblesse,nivellement,nihilisme,négociation,nationalité,nationaliste,nationalisme,nationalisation,nationale,nation,mutualité,Municipales,municipale,multipartisme,moscoutaire,Moscou,moralité,morales,morale,moral,mondialisation,monarchiste,monarchie,mœurs,modéré,modèle,mixité,ministère,militant,milieu,méritocratie,menées,Libertés,LibertéEtResponsabilité,GiletsJaunes,GiletsJaune,Frexit,Election2022,DiplomatiePacifique,ConseilDeParis,CongrèsLR,CongresLR,CommunedeParis,Citoyens,BilanDeLaHonte,Berlin,école,média,Mauss,matriarcat,marchais,maoïste,maoïsme,Mao,Malenkov,majorité,machiavélisme,machiavélique,Machiavel,maccarthysme,lutte,logement,locatif,littérature,liens,liberté,libertaire,libération,libéral,liant,léniniste,léninisme,Lénine,légitimité,légitimation,leader,LCR,langue,laïcité,Kuomintang,KPD,Komintern,Kominform,Khrouchtchev,Kampuchéa,justice,juridique,Juppé,junte,journal,Jiangxi,isolationnisme,islamisme,Irak,intrigues,interventionnisme,interpellation,internationaliste,internationale,intérieure,intérêts,interaction,intellectuel,intégration,institutions,institutionnel,institution,instabilité,insertion,infléchir,inégalité,indochinois,individuel,individualiste,individu,indépendantiste,indépendantisme,indépendance,impérialiste,impérialisme,immigration,idéologique,idéologie,identité,identitaire,idéal,humain,Hoxha,Hobbes,HLM,histoire,hiérarchie,habitus,habitude,habitat,habitant,habileté,Guomindang,guérilla,Guépéou,groupes,grégaire,gouverner,gouvernementale,gouvernement,gouvernant,Gottwald,Gorbatchev,glasnost,géopolitique,gazette,gaulliste,gaullisme,gauchiste,gauche,FTP,fourmi,fondement,fiscal,féodalité,féminisme,fédération,fédéralisme,fédérale,fascisme,familial,faction,facteurs,extérieure,européenne,étranger,ethnologie,ethnique,éthique,état,établissement,environnemental,entrisme,entente,Engels,endogamie,encarté,émergence,élection,électeur,égalité,égalitaire,effondrement,éducation,éducatif,éducateur,éditorial,échiquier,Durkheim,dumping,Duclos,droit,Doriot,domaine,dissident,dissidence,discrimination,dirigeant,diplomatique,diplomatie,diplomate,dictature,dialogue,déviationniste,déviance,développement,déterminisme,déstalinisation,dépolitiser,démographique,démocratique,démocratie,démocrate,démagogie,défavorisé,déclassement,décentralisation,débat,culturel,Cuba,critique,courant,corporatisme,coopération,coopératif,convictions,conversion,contexte,contestation,contestataire,constructivisme,constitutionnelle,constitution,considérer,considérations,conservatisme,conservateur,consensus,congrès,conformisme,conflits,conflit,conduite,concept,comportemental,comportement,compétence,communiste,communisme,communautaire,commerciales,comité,colonial,collectivité,collectiviste,collective,cohésion,cognitif,codes,coco,coalition,clivage,clientélisme,cléricalisme,classe,clandestinité,clandestin,clan,civique,civilisation,civil,citoyen,chinois,Chine,changement,CGTU,centriste,CCAS,Castro,castriste,caste,cassos,capitaliste,capitalisme,camarade,Cabet,bureaucratie,Brejnev,bourgeoisie,bourgeoise,bourgeois,Bourdieu,bouleversement,Boudon,bonapartiste,Bonald,bolcheviste,bolchevique,bolchevik,Blum,bipolarisation,bienfaisance,Berlinguer,bénéficiaires,bailleur,babouviste,avantage,autruche,autoritaire,autonomiste,autonomie,autonome,autocratie,autarcie,athées,associatif,assemblées,artistiques,argot,arène,appartenance,apolitique,apartheid,antisocial,antiparlementaire,antifasciste,anticommuniste,anticommunisme,anticléricalisme,anthropologue,anthropologique,anthropologie,anomie,anarchiste,anarchisme,anarchie,analyse,amnistie,ambitions,ambition,ambitieuse,ambiant,alpha,alliance,aliénation,Albanie,aimable,agrarien,agraire,agora,agitation,affable,administrative,adhérent,actualité,activiste,activisme,accession,abus,abstentionniste,abstention\"\"\"\n",
    "political_lexicon = word_tokenize(text_cleaner(political_lexicon_before_tokenize))"
   ]
  },
  {
   "cell_type": "code",
   "execution_count": 25,
   "id": "4ce3300b",
   "metadata": {},
   "outputs": [],
   "source": [
    "ecology_lexicon_before_tokenize = \"\"\"vivant,verte,vert,végétale,trophique,transitionénergétique,AccordDeParis,transition,surpopulation,recyclage,productivisme,préservation,pollution,phytogéographie,permaculture,organisme,oikos,océanographie,nucléaire,naturel,nature,microbiologie,mésologie,GiEC,COP26,Climat,élevage,altermondialiste,agroalimentaire,agriculture,Mei,intertidale,impact,Hulot,guilde,Greenpeace,génération,évolution,éthologie,ethnographie,environnementale,environnement,énergie,écosystème,éconavigation,écologue,écologiste,écologisme,écologique,écologie,écoguerrier,écocitoyenneté,durable,diversité,décroissance,cours,bobo,biotope,biotique,biosphère,bionomie,biomasse,biologique,biologie,biogéographie,biodiversité,biocénose,agricole,abiotique\"\"\"\n",
    "ecology_lexicon = word_tokenize(text_cleaner(ecology_lexicon_before_tokenize))"
   ]
  },
  {
   "cell_type": "code",
   "execution_count": 26,
   "id": "7e2cd538",
   "metadata": {},
   "outputs": [],
   "source": [
    "economic_lexicon_before_tokenize = \"\"\"Walras,Vivendi,vitale,versement,Turgot,trésorerie,trésor,Trente,relocaliser,touristique,tourisme,totalité,tirelire,thésaurisation,théoricien,textile,tertiaire,tendance,tempérance,technologie,taxation,taux,tabac,surproduction,surplus,surcapitalisation,substantielles,subsistance,structurel,stratégique,stock,stimuler,statistique,spéculation,souscripteur,solidaire,sobriété,Smith,service,secteur,sciences,Schumpeter,SARL,rural,rôle,richesse,Ricardo,ressources,ressource,réserve,répartition,rentier,rente,rentabilité,rendement,rembourser,remboursement,relever,relancer,relance,réduction,redresser,redressement,redistribution,reconversion,reconstruction,recette,récession,réaliser,rachat,Quesnay,québécoise,publiques,protectionniste,protectionnisme,prospère,propriété,propriétaire,profit,production,productif,privés,privatisation,primordial,prévoyance,prêteur,possessions,possédant,PME,planification,placement,PIB,physiocrate,pétrolier,pétrole,pécule,pêchés,payable,patrimoine,partners,parcimonie,paiement,organisation,œconomie,OCDE,numéraire,Nobel,NEP,néoclassique,naturelles,multinationale,montant,monopole,monnaie,monétaire,mondiale,modernisation,Milton,milliard,microéconomique,microéconomie,mesure,mercantiliste,mercantilisme,ménage,CAC40,mathématique,matelas,marchande,Malthus,magot,macroéconomique,macroéconomie,libéraliser,libéralisation,libérale,keynésien,Keynes,interdépendance,informel,industrielle,industrialisation,importation,importance,historicisme,hétérodoxe,Hayek,harmonie,Glorieuses,globalisation,gisement,gestion,gaspillage,frugalité,Friedman,FMI,florissante,finances,feuille,faillite,externalité,exsangue,exportation,exportateur,étatique,essor,épargner,enjeu,endogène,efficience,économisme,économiseur,économiser,économiques,économiquement,économique,economics,économétrie,économe,échelle,dynamisme,dynamique,dollar,diversification,distribution,disposition,dirigisme,dépenser,démographie,déficit,cybernétique,côté,corruption,coordination,constat,consommateur,conjoncture,concision,compression,compétitivité,commercial,commerce,collectivisation,chandelle,canadienne,cagnotte,budget,boursicot,Boukharine,boom,Bastiat,avarice,autrichienne,autosuffisance,assurance,arrangement,approche,anticipation,alimentaire,administration,Adam,marxiste,marxisme,Marx,marchandise,majoritaire,maître,luxure,liquidité,libéralisme,krach,keynésianisme,investisseur,investissement,investir,intérêt,infrastructure,inflation,industriel,industrie,impôt,imposable,importants,immobiliser,immobilisation,immobilier,immatériel,holding,gains,fructifier,fortune,fonds,foncier,fiscalité,financier,financement,finance,filiale,excédent,euro,Eurazeo,espèces,escompte,épargne,épargnant,entreprise,entreprenant,engagés,endettement,emprunteur,emprunt,économiste,économie,échéance,échange,dollars,dividende,dissoudre,disponible,diminution,dévaluation,dette,détenu,détenteur,détenir,déflation,décupler,décisif,croissance,crise,crédit,créancier,coût,contribuable,concurrence,comptabilité,commanditer,circulation,cession,central,cardinal,caractéristique,capitalistique,capitaliser,capitalisation,capital,caisse,budgétaire,boursier,bourse,bénéfice,banque,bancaire,autofinancement,austérité,augmentation,argent,appropriation,apporteur,apport,annuité,amortissement,amorçage,amenant,amalgames,allocation,affairer,actionnariat,actionnaire,acquisition,achat,accumuler,accumulation,accroissement\"\"\"\n",
    "economic_lexicon = word_tokenize(text_cleaner(economic_lexicon_before_tokenize))"
   ]
  },
  {
   "cell_type": "code",
   "execution_count": 27,
   "id": "9987a8ca",
   "metadata": {},
   "outputs": [],
   "source": [
    "extrem_lexicon_before_tokenize = \"\"\"xénophobie,violent,violence,vif,vieillesse,vertigineux,ultime,toundra,tétracorde,terrible,terreur,terminal,tension,température,susceptibilité,survie,surexcitation,surabondant,suprême,superlatif,soutenir,sommet,skinhead,simplicité,Sibérie,sévérité,sécheresse,risqué,rigueur,relooking,redoutable,rareté,raffinement,radical,raciste,racisme,puissance,prudence,prostration,profond,précipitation,préciosité,plafond,piètre,pénurie,passionné,particulier,paroxysmique,paroxysme,paresseux,pâleur,outrée,outrancier,opposition,opposé,onction,obligeance,nudité,nervosité,néonazi,nébulosité,musoir,mouvance,mortel,monstrueux,mollesse,miséricorde,minimal,minceur,metal,méprisable,Antifas,méfiance,maximum,maximal,maigreur,lourdeur,Lolita,limite,lenteur,laideur,Laconie,Kolyma,intensif,intense,insupportable,insensibilité,inouï,injuste,inique,infini,individualisme,immodéré,immense,hypersexualisation,hypersensibilité,horrible,horreur,Heyman,héroïque,haut,hasardeux,groupuscule,gravité,glacial,furieux,funeste,fragilité,fou,fondamental,folle,finesse,férocité,fatigue,fasciste,faiblesse,facho,extrêmophile,extrémité,extrémiste,extrémisme,extrémiser,extrémisation,extrêmement,extrême,extraordinaire,extase,exquis,exorbitant,excessif,excès,exceptionnel,exaspéré,exagérer,épuisement,épouvantable,éperdu,énergique,électorat,effroyable,effréné,effrayant,ECW,dureté,drastique,draconien,disproportionné,disproportion,discrétion,détresse,désordonné,désolation,désespérer,désertique,dérégler,démesuré,délire,délicatesse,définitif,décrépitude,débilité,Couvin,contraire,comble,circonspection,Cabinda,Bonifacio,blanc,Bièvres,beauf,atrocité,asservir,aride,ardeur,arctique,anxiété,antisémitisme,antisémite,antipode,angoisse,aigu,agressivité,affreux,adoration,acharner,abusif,absolu,abattement\"\"\"\n",
    "extrem_lexicon = word_tokenize(text_cleaner(extrem_lexicon_before_tokenize))"
   ]
  },
  {
   "cell_type": "code",
   "execution_count": 28,
   "id": "68a7386b",
   "metadata": {},
   "outputs": [],
   "source": [
    "health_lexicon_before_tokenize = \"\"\"ZeroCovid,vigilancesanitaire,vaccins,VaccinObligatoire,vaccinationobligatoire,VaccinationCovid,vaccination,Vaccin,SANTEXPO,PassVaccinal,Pass,AbonnementVaccinal,TousAntiCovid,StopPassSanitaire,StopCovid,StopBrevetCovid,passeportSanitaire,nonpasssanitaire,covidlong,soin,science,santé,sanitaire,PJLSanitaire,PJLPasseSanitaire,pharmacovigilance,PassSanitaires,PassSanitaireDeLaHonte,Passsanitaire,PasseSanitaire,Passanitaire,ObligationVaccinale,NonAuVaccinObligatoire,NonAuPassSanitaireDeLaHonte,Nonaupasssanitaire,NonAuPasseportSanitaire,NonALaVaccinationObligatoire,Moderna,Masque,ManifestationAntiPassSanitaire,DictatureSanitaire,Déconfinement,CriseSanitaire,COVID19france,COVID19,Covid_19,Covid,AntiPassSanitaire,hygiène, vitamine, vitalité, VIH, vigueur, vieillissement, vie, vétérinaire, variole, valide, valétudinaire, vaccination, vaccin, urgence, UNICEF, tuberculose, trinquer, trempe, transfusion, traitement, toxique, thérapie, thérapeutique, tempérance, tempérament, tabagisme, tabac, syndrome, surpoids, stress, souffrante, souffrance, soin, soigner, soignant, sida, shiatsu, sensualité, sanitaire, sanatorium, samu, salutaire, salubrité, salubre, sain, robuste, risque, rétablissement, rétablir, reproductive, remède, régime, réadaptation, pulmonaire, psychologue, psychique, psychiatrie, protection, prospérité, prosit, probiotique, priorité, prévoyance, prévention, prescription, préoccuper, préoccupant, préjudiciable, praticien, pouls, potable, pollution, pneumonie, physique, pharmacien, pharmacie, pesticide, personnalité, patient, pathologie, paramédical, paludisme, organisme, organisation, OMS, obésité, nutritionnel, nutrition, nutriment, nuisible, nuisent, nuisance, nuigrav, nocif, naturopathie, naturopathe, naturel, nature, mutuelle, mutualité, mortalité, montagne, mondiale, métabolique, mental, ménager, médicament, médical, médecine, médecin, maternité, massage, malnutrition, malbouffe, malaria, malaise, maladif, maladie, malade, maigreur, longévité, jouir, invalidité, intoxication, interjection, institut, Inserm, insalubre, innocuité, inhalothérapeute, informatisation, infirmité, infirmière, infirmier, infectieux, infantile, indisposition, IMC, hypocondriaque, hypertension, hygiénisme, Hygie, humain, hospitalisation, hospitalière, hôpital, holistique, Hippocrate, health, handicap, guérison, guérir, gravement, généraliste, Galien, fumeur, fragile, force, florissant, évaluer, esprit, espérance, équilibre, épidémiologie, épidémie, environnementale, environnement, entretien, embonpoint, écosystème, domaine, disposition, dispensaire, diététique, diète, diagnostic, diabète, détériorer, détérioration, détenu, dépistage, dentisterie, dentiste, dentaire, délétère, décliner, curatif, covid, corporel, convalescence, contamination, consultation, constitution, consommateur, complémentaire, compétence, communautaire, clinique, chiropratique, cardiovasculaire, cardiaque, cancer, cadmium, bulletin, boire, biotechnologie, bile, asthme, assurance, Asclépios, aromathérapie, antioxydant, altérer, altération, allergie, allaitement, alimentation, alcoolisme, aggravé, absentéisme\"\"\"\n",
    "health_lexicon = word_tokenize(text_cleaner(health_lexicon_before_tokenize))"
   ]
  },
  {
   "cell_type": "code",
   "execution_count": 29,
   "id": "1986b544",
   "metadata": {},
   "outputs": [],
   "source": [
    "work_lexicon_before_tokenize = \"\"\"zèle,vacance,utilité,utilisation,usine,usage,turbin,travailleur,travailler,travail,Semainede4jours,transformation,Titan,thermodynamique,temps,télétravail,technique,taylorisme,taf,tâche,syndicat,syndicaliste,syndical,surmenage,surcroît,surcharge,supplémentaire,superviser,succès,stress,stakhanovisme,spécialité,smic,sinécure,semaine,séance,savoir,sape,salarié,salariat,revenu,retraite,résultat,repos,réparation,rémunéré,rémunération,relation,relâchement,récréation,reconnaissance,récompensé,réaménagement,quotidien,prud'hommes,prolétariat,prolétaire,projet,professionnel,profession,produit,productivité,prestation,présentéisme,préparatoire,pratique,planque,perfectionnisme,pensum,pénible,peine,paye,patronat,patron,paie,ouvroir,ouvrière,ouvrier,ouvrage,ouverture,outil,opération,oisiveté,œuvre,occuper,occupation,obligatoire,motivation,minutieux,métier,méthodologie,méthodique,méthode,mécanisation,mécanique,manufacture,manuel,management,machinisme,machine,loisir,licenciement,licencié,laborieux,laboratoire,labeur,journalier,joule,job,invalidité,intérim,inspection,inlassable,ingrat,indemnité,incessant,inachevé,horaire,heure,Hercule,Héraclès,grève,goulag,galère,gain,fruit,fordisme,forcé,forçat,fonctionnement,fonctionnaire,fonction,flexibilité,fastidieux,fainéantise,façonnage,exploitation,expérience,exigeant,exercice,exécution,étudier,étude,esclave,ergothérapie,ergonomie,éreintant,équipe,entretien,entrepreneur,entreprendre,enfantement,employeur,employer,employé,emploi,embellissement,embauche,élaboration,effort,effectuer,durée,donner,domestique,directeur,difficulté,devoir,devis,délassement,débordé,débaucher,création,corvée,convention,contrat,construction,consciencieux,congé,conciliation,conception,concentration,commission,colossal,collègue,collectivisme,collectif,collaboratif,collaborateur,chômeur,chômer,chômage,cheminement,charge,chantier,cabinet,bureau,brocante,bricole,bricolage,boulot,boîte,blouse,besogne,bénévole,bénévolat,bénédictin,bagne,bâcler,avancement,automatisation,atelier,assiduité,assidu,artisanat,artisan,ardu,apprentissage,appareil,amateur,affaire,activité,achèvement,acharné,accouchement,accomplir,absentéisme,abrutissant,aboutissement\"\"\"\n",
    "work_lexicon = word_tokenize(text_cleaner(work_lexicon_before_tokenize))"
   ]
  },
  {
   "cell_type": "code",
   "execution_count": 30,
   "id": "eb25804f",
   "metadata": {},
   "outputs": [],
   "source": [
    "security_lexicon_before_tokenize = \"\"\"vulnérabilité,vigile,vigilance,vidéosurveillance,veto,vérification,veiller,usagers,urgence,unies,terrorist,tranquillité,traçabilité,terroriste,terrorisme,Symantec,surveiller,surveillance,sûreté,stasi,stadier,stabilité,soupape,signalisation,sérénité,security,sécurité,securitas,sécuritarisme,sécuritaire,sécurisé,sécurisation,sécu,secourisme,sauvetage,sauvegarde,salubrité,safety,routière,risquer,risque,ressortissant,responsable,résolution,répression,renseignement,renforcer,renforcement,réglementation,règlement,refuge,recommandation,rassurant,quiétude,protocole,protéger,protection,prospérité,procédure,problème,priorité,prévention,prévenir,présidence,Policier,police,piratage,piétons,permanent,pénal,passive,parade,parachute,paix,OTAN,ordre,OpenBSD,ONU,obligation,norme,NKVD,NFC,nécessaire,mousqueton,minutie,mesures,menacer,menace,maximale,maritime,manutention,manquement,malveillant,maintien,maintenance,loi,législation,KGB,ISO,investigation,intervention,international,intégrité,installation,insécurité,informatique,informaticien,incendie,impunité,humanitaire,harnais,hacker,gendarmerie,gendarme,garantie,FSB,freinage,fiabilité,FBI,faille,exigence,évaluation,évacuation,espionnage,escalade,ERP,englober,encadrement,domotique,divulgation,dispositif,détection,désarmement,déploiement,denrée,déminage,délinquance,défense,dangereux,danger,cybersécurité,cybercriminalité,cryptographie,criminalité,cracker,coussin,contrôles,continuum,conseil,conformité,confidentialité,confiance,conducteur,compromettre,commissariat,clignotant,CIA,chiffrement,chicane,chargé,certitude,certification,certificat,ceinture,biométrique,Beria,baudrier,balisage,autorité,authentification,attestation,attentat,ataraxie,assureur,assurer,assistance,approvisionnement,antivol,amélioration,alarme,airbag,airain,agression,agents,agence,aérien,accident,abri\"\"\"\n",
    "security_lexicon = word_tokenize(text_cleaner(security_lexicon_before_tokenize))"
   ]
  },
  {
   "cell_type": "code",
   "execution_count": 31,
   "id": "73092a22",
   "metadata": {},
   "outputs": [],
   "source": [
    "purchasing_power_lexicon_before_tokenize = \"\"\"TVA,salaireminimum,taxes,tarifs,suppression,salariés,salaire,revenus,retraites,retraité,redonner,prix,précarité,PouvoirDAchat,pensions,pauvreté,mutuelles,modestes,ménages,Carburants,loyers,loyer,inégalités,importés,fiscale,exonération,érosion,dépenses,dépense,cotisation,consommation,carburant,Berne,appauvrissement,actifs,acquérir\"\"\"\n",
    "purchasing_power_lexicon = word_tokenize(text_cleaner(purchasing_power_lexicon_before_tokenize))"
   ]
  },
  {
   "cell_type": "code",
   "execution_count": 32,
   "id": "538d50a1",
   "metadata": {},
   "outputs": [],
   "source": [
    "candidates_references_before_tokenize = \"\"\"ZemmourVsMelenchon,ZemmourTaddei,ZemmourSecondTour,ZemmourEric,Zemmour2022,zemmour,yjadot,xavierbertrand,Waechter2022,Waechter,Waecher2022,Vukuzman,vpecresse,VictoireZemmour,victoiremelenchon,UPR_Asselineau,TeamCiotti,Rocca22,Pecresse2022,MélenchonLille,MelenchonTF1,MelenchonLille,MelenchonESSEC,MacronDehors,Macron20hDictature,Juvin,JeVoteBarnier,HeleneThouy2022,GenerationHidalgo,Ciotti,AlloMélenchon,AlloMelenchon,soutienAnasseKazib,SilenceZemmour,Roussel2022,Roussel,rocca2022,REMONTADA,Refondation2022,Pécresse2022,Pécresse,mariecau,jeanlassalle202,SLeFoll,regis_ollivier,PropagandeZemmour,Poutou2022,Poutou,PoissonZemmour,PhilippePoutou,philippejuvin,Payre,NiMacronNiLePen,n_arthaud,montebourg,MLP_officiel,MichelBarnier2022,MichelBarnier,MelenchonVsZemmour,MelenchonEconomie,MelenchonBFMTV,Mélenchon,Melenchon,Mazuel2022,Martinez,MarineLePen,MacronMenteur,Macronie,Macron20h,Macron,LesFemmesAvecZemmour,LePen,Lazzarini2022,Laremontada,JFPoisson2022,JeSoutiensZemmour,JeanLassalle2022,Jadot2022,Jadot,Hidalgo2022,Hidalgo,HélèneThouy2022,GénéralMartinez2022,GénéralMartinez,EricZemmour,Ciotti2022,Bertrand,Barnier2022,Barnier,AvecJuvin,AvecJadot,AvecCiotti,Asselineau,ANTOINEWAECHTER,Anasse2022,AlexandreLanglois2022,MAZUEL_Pace,MartinRocca12,MarCharlott,luclaf,larrouturou,JLMelenchon,jfpoisson78,jeanlassalle,JaclineMouraud,HeleneThouy,gilleslazzarini,gerardfiloche,FabriceGrimal,Fabien_Roussel,f_philippot,EPhilippe_LH,EmmanuelMacron,ECiotti,dupontaignan,DenisPayre,ClaraEgger1,Cau_Marie_,antoine27955080,Anne_Hidalgo,AnasseKazib,AlexLanglois_,AguebPorterie\"\"\"\n",
    "candidates_references = word_tokenize(text_cleaner(candidates_references_before_tokenize))"
   ]
  },
  {
   "cell_type": "code",
   "execution_count": 33,
   "id": "f3e796af",
   "metadata": {},
   "outputs": [],
   "source": [
    "candidates_pseudo_before_tokenize = \"\"\"ZemmourEric yjadot xavierbertrand Waechter2022 Vukuzman vpecresse UPR_Asselineau SLeFoll regis_ollivier PhilippePoutou philippejuvin n_arthaud montebourg MLP_officiel MichelBarnier MAZUEL_Pace MartinRocca12 MarCharlott luclaf larrouturou JLMelenchon jfpoisson78 jeanlassalle JaclineMouraud HeleneThouy gilleslazzarini gerardfiloche FabriceGrimal Fabien_Roussel f_philippot EPhilippe_LH EmmanuelMacron ECiotti dupontaignan DenisPayre ClaraEgger1 Cau_Marie_ antoine27955080 Anne_Hidalgo AnasseKazib AlexLanglois_ AguebPorterie\"\"\"\n",
    "candidates_pseudo = word_tokenize(candidates_pseudo_before_tokenize)"
   ]
  },
  {
   "cell_type": "code",
   "execution_count": 34,
   "id": "7fb0338e",
   "metadata": {},
   "outputs": [],
   "source": [
    "hashtags_lexicon_before_tokenize = \"\"\"ZEvent2021 zadistes Youtube Youtopia Yeu YanisKhames XVdeFrance XiJinPing WS WorldIsWatching WorldHumanitarianDay2021 world womenarepower wokisme woke Witam Wien WhoRunTheWorld WEC water wait Vouvray Votez voter voteblanc VoituresRadar Voile VivreEnsemble visas VironsLes VirginieDelalande vipol ViolencesPolicieres violencepolicière vins VincentLambert VincentBollore Vilpol Villandry VillaBonaparte vignerons vigilants VictoireDeTousLesFrançais VGE VG2020 Versailles VéritéVite Vérité VeRépublique VéranDoitParler VéranDémission VeranDemission Véran Veran Veolia VendrediLecture Vendée Vendee VeldHiv VaulxenVelin Vaulx Vaucluse Var Vancouver ValeursActuels Valence ValdOise USA US UrgenceClimatique UrgenceAlgerie UNWomen UnNovaJourSeLève Unité UnisPourGagner UnionPopulaire UnionEuropéenne Unidad Unesco UneAmbitionIntime Ulster Ukraine UK UICN UEolf2021 UEJF UE UDI Ubisoft Über TwitterSpace TwitchLeak Twitch Turquie Tunisie Trump Troyes Tricastin Tribunedesgénéraux Tri travaux transports transphobie territoires taxonomie stage sportive souveraineténumérique renouvelables rencontreJH réindustrialisation Évêques énergies reconfinement racaille périphérique pullgate picard passvacinal parrainages ourcq ontilsditçà mourirpourTaïwan mif2021 mediator manifs20Novembre manifs13Novembre manifestants maire mai68 justiceClimat irréaliste granddebat fraudefiscale fossiles flambée fiasco ensauvagement eglise eau délocalisation droite doityourself documentaire dissolution dimanche demain cynisme contrefaçon confinement conference cavalcade cashinvestigation burkini bamlanivimab automobile attentats2015 attentats asile art TransatJacquesVabre TousElus2022 Tokyo TikTok ThomasPesquet TheGreatShift TeamExploitation TeamArnaque TaxonsLaSpeculation Tapie SudRadio StopChasse Sputnik Solidarność SocialDemocrate SmartWater Shell Scandales ScandalePfizer SantéPublique SantExpo2021 Rugby RouteDuCafé Romainville Rhône RestonsZenPP RamyShaath RSAJeunes RSA RMC RDLS147 Pétronin PrécaritéÉnergétique ProgrammeAEC PrimairePopulaure Poudroux Poteau PolitiquementVôtre PlusPourLesFrancais PlusBelleLaPoliyique PlusBelleLaPolitique Pinera Picardie Pesquet PasToucheAuxEnfants ParlonsDroitDuTravail Paris20 Paris18 Paris15 Paris12 Paris11 Paris10 PPDA OùVaLePognon Ouighours Orléans Onnaing Olive OQTF OMS NouvelleCalédonie NonAuMasqueScolaire NeFaisonsXV NanMaisHo NOBASSARAN Ménard Mutualite Monnerville MichelFontaine MeetingLille MeeTooPolitique Martinique MarieClaire Madrid MLP MIFExpo MIF MHAN LutterContreLeTerrorisme Lourdes Loiret LesHirondelles LesCovidistesOntQuittéLeGenreHumain LegislativeArgentine LeGrandDébatLCI LeGrandDébat LeGrandDebatLCI LeDebatdelaDroite LanceursDalerte Laillé Laguiole LaGrandeTransformation LaDragonne LaChipsFrançaise LaChasseCetteImposture La26 LCC2022 Knoll JulianAssange JournéeContrePrécaritéEnergétique JeSoutiensDiVizio JeNeSuisPasUnRhinocéros JL2022 JANSEN Izabela ImpuniteZero IkeaDiscrimine IVG IDI Hubgrade HauteVienne HasardLudique Hapsatou Guillotière Grignon GreveGenerale GreenHub GranddebatLCI Georgie GOPÉ GDS FroidChezSoi FreeUyghurs FreeRamyShaath FreeAssangeNOW ForumPhilo FluctuatNecMergitur FlatTax Flamanville FinDuMois Figaro FRANZL FRAKAZ FRAGEO FRAARG FRAAFS FFcasuffit FARTGATE Exposition EnsembleOnVaChangerLEurope EnlevezMoiPhotoshop Energétique EmmanuelCueff Egypte EauDeMetz EZ E1Matin DumpingSocial Dividendes Dieppe DesHautsEtDébats DebatLR DebatLCI DeGaulle Dalton Cristel CongrèsDesMaires Compagnondelaliberation Colombey Clhebdo Chomage Chateauroux Charvieu ChallengeAccepted Castres Cannes CPF COP Burgat Brossat Bron Biélorussie Bielorussie BerthoudCycle BeatriceSigismeau Bayeux Azerbaïdjan AvecAnne Autriche Attal Arménie Argenteuil Arcachon Aligre ActionPopulaire ATIH APHP APAnnecy AKP 9novembre 65ans 5èVague 2022AvecVous 19eme 11novembre1918 transgenre transactions TPMPWeekEnd TPMP TOYOTA ToutLeMondeDetesteLaPolice ToutÇaPourÇa Toussaint TousMobilisés TousMobilises Tournai Touquet Touques Toulouse TouchePasMonPrénom TouchePasARaoult TotalMent Total Tolkien ToleranceZero Tokyo2020 Tinchebray Time THREAD ThomasSankara TGV TF1 Texas Terroranschlag TempeteAurore TDOV TDF2022 TDF2021 Tchad TCE TaxerLaSpeculation taxe Tarn taqîya TakeActionNow TahaNestPasSeul SuppressionPermisAPoints suicide Suez submarines stream stopviolencespolicieres StopMutilationsSexuelles StopMckinsey stopimpunite StopExtrêmeDroite StopExtremeDroite StopCrack93 STOP StephaneHessel Stéphane Stellantis STCO StartUpNation startup stadedefrance squatteurs SputnikInterview sport Spitzenkandidat species spatial SPACE2021 soutiensoignants SoutienFDO SoutienAuxSoignants SoutienAuxSansFac SoutienAuxPompiers SousMarins SousMarinGate sororite Sorare SophiePetronin sondeurs sondages Sondage SommetElevage SommetBagdad solidarite Solidarität Solidaridad solidale solidaires soignants soclecommun socialdémocratie SnowDay SNCF SMR SiVisPacemParaBellum Sisterhood SiSeulement SIPC2021 SimoneVeil Shoah Seychelles Sétif servir servicenational SermentdeRomainville séparatisme Sentinelle senatoriales Senat Segur SecuriteGlobale securite Scotland SCOOP scléroseenplaques SciencesPo SciencePo Schiappa SavignyLeTemple Saverne SauvonsLaFrance SauverLaFrance sarkozy Sarcelles sapeurs santémentale SanteEnDanger Sante sanspapiers SansFacs Sanofi SamuelPaty salutaire salondupatrimoineculturel Sallaumines salaires salahabdeslam SaintSauveur SaintQuentin saintmedarddeguizieres SaintMax SaintLazare SaintLaurentSurSèvre SainteFoyLesLyon sagefemmecodenoir SaccageParis saccagelaFrance saccageaparis Rwanda RVH2020 RuthElkrief2022 Russland Russia ruralite ruisselement RTLSoir RTLMatin RTL RTE RoyaumeUni Rouen Roubaix2021 Rojava RN134 RN RichardBranson RIC rhinos revendication ReveillezVous Réussir2022 Reussir2022 retrofit RetraitesGate responsables Résistons Resistons Resistencia Resistance RESET reseauxsociaux RepubliqueEuropéenne RépubliqueEuropéene RepublicaEuropea RépressionPolicière ReprenonsLeContrôle RentréeSolennelleAssas rentreescolaire2021 rentreescolaire RentreeDeputesLR Rentrée2021 Rentree2021 Rentrée RenouveauDémocratique Rennes renemalleville RendezVousPourLaFrance rendezvous RencontresJH Rencontres RenaultTruck Renault RenaulFlins RenaudRemigration Renaison RemiFraisse RemembranceDay Réindustrialiser RegionSolidaire regions Régionales2021 regionales2021 Regionale2021 region RefuserLaMisère réformisme réformer reformedesretraites refondations2022 RéférendumImmigration Référendum Referendum Redondation2022 rechauffement RC2021 RBLPSG rassemblement rapportSauve Raoult Rambouillet RadioPeyi RadioMaïsto RadioClassique radio RachidaBoukris RaceToZero Qui QuestceQueVousFaitesDuPognon QueDeLaCom Quartararo QualiteDeLAir QOSD Qatar QAG pyrénéesatlantiques Puylaurens putschistes pupilles Punchline publicsenat psychologuespsychothérapeutes psychologuescliniciens psychologues provocation protectionanimale prolongation projets profits professionnels productionnationale proces13Novembre2015 proces13novembre presse Présidentielles2022 présidentielles presidentielles Présidentielle2002 potentiel pompiers politiques policiers policeproximite pôleemploi poète podcast pma planète placedarmes pjlprotectiondesenfants pierremenes photography people pédocriminalité pedocriminalité patchwork passedelahonte parlementaires parasitisme palestiniennes pacifique otage opportunistes opportuniste onNousCacheTout ofcourselemans oeuf océans nucléaires nucleaire nousprésidentes neonmag négaWatt2022 nazisme nations mytho municipaux mosquee montpellier2 monde modecirculaire milliardaires migrazione migrationskrise migrants migrant meeting médias medecine médailles mbougarsarr mauvaisefoi matinale mariagepourtous manifs23octobre manifestions manifestations manifestation14aout manifestation manif7aout manif18septembre manif17juillet manif14aout maladiesilencieuse lycee logementsocial livre listes linstantPoL librairies liberticides liberticide libertedelapresse liberezMumia lgf les3dindes legislatives2022 légionnaires legionarios lecture le79Inter le69Inter languesrégionales languesregionales lanceursalertes kindnessmatters kindness kérosene juge journalisme jmh2019 jeunesFrançais jeunes jesoutiensmalibrairie jesoutienslachasse israéliens isolement islamophobie islamistes islam isegoria intimidation interview interreg inondations innovation infirmiers infirmieres indexation indemniteinflation inauguration ignorance idrissdeby idées hydrogène hydroélectriques humanity humanitarian humanistes humanidad human hôpitaux hopitaux hopitalpublicencrise hopitalpublic hôpital honnisoitquimalypense homosexualité homophobie hommes hijab heritage hellas healthcare hdpros2 hautsdefrance harkis gvt grevesncf grèves greve5octobre greve23septembre greenwashing grandjury grandecausenationale genre généraldeGaulle gaz gaspillagealimentaire frontieres freearroibaraket franceses franceinter formation foreveryoung forêts football food filrougeAFH fesses femmes féministes féministe familles fainéants facebook fabioquartararo extrémistes extrêmedroite examens euthanasie européennes2019 européen étudiants etudiant ÉtatsGénérauxDeLaJustice Étatprovidence etatdurgence Étatdedroit essentiels espoir equipedefrance équiéconomie éoliennes eolien entretiens entretienexclusif enseignement enseignant engagement enfants emplois émancipation Élysée2022 Élysee2022 électricité electricite electionsregionales2021 électionsrégionales élection2022 egalite effetssecondaires éducationpopulaire education ecprgc21 Écoute economiecirculaire écologistes éboueurs droitalinfo discothèques directHDF developpement derekchauvinisguilty deputes departementales2021 departementales democratons democratiedirecte democratie défilé defence debarquement cyclisme cyberwar culture créativité créative covoiturage cooperation contrôlecontinu constituante2022 confrontation conditionanimale communauté communalisme commissiondéfense combat collégiens collectifécolesMarseille cohesion cinemaélectoral chroniqueur chiche chequeinflation cheminots chateaudun chantilly catholique cantines cantine candidature candidats candidat bordelais bolide blaisecampaore bêtise bekind bébé barrières baguette azf20ans avenir autotests audencia audace auberge attack assembleenationale artisans armée armee arabe antisemitisme antiracistes antipass antijudaism anarchistes anar alimentation aide agriculteurs agribashing actionnaires recherche PV PST PSA PS Provence Promenades ProgrammeDesProgrammes Proces_Sankara PrixNobel PrincipesRepublicains PrimairePopulaire PrimaireEcologiste Priem PresidentDesRiches Premierministre PrécaritéEnergétique PPLAnimaux PPL Poutine Poussay PourLeRassemblement Port PontdesTrous Polynésie Polska Pologne Polexit Poitiers PognonDeDingue PlusPourLesFrançais PlumeNoire PLFSS2022 Pleurtuit PlanTourisme PlanFinanceClimat PlanBastille PJLProtectionEnfance PJLClimat Pierrefite Pfizergate Pfizer Petain Perspectives PerrosGuirec PernesLesFontaines PereOlivierMaire Pegasus Pedocriminalite PCF PaysDuTiersMonde PaysBas PawlaAdamowicza PawelAdamowicz PasUnPoissonDAvril PassDeLaHonte PasDeVague PasDeClimatPasDeMandat PasAntivaxProLiberté PasAntivaxMaisProLiberté PartiAnimaliste ParlamentoEuropeo ParisRoubaixFemmes Paris11septembre Paris ParayleMonial Paralympics ParadisFiscaux Papon Pape Papacito Pantheon PandoraPapers PanamaPapers Palestiniens Palaiseau PACEeurope PaceEuropae PaceEuropa PACEenCabourg PACE2019 PACE PAC P5 Oyonnax OutreMer OuiAuSecretMedical OuiALaLiberté Oubrou Ouagadougou Orleans OrangeArmy Orange opportunisme OnNeLacheRien OnFaitAutrement OnEstEnsemble OnEnPeutPlus OMPSG OMPE OlivierMaire OlivierFaure OhWait OEED Occitanie Obywateli Numerique NouvelleCaledonie NouvelleAquitaine NousSachons NousPresidents NousFrance NousEtudiantEsHandiEs NousCitoyens NotreDameDeParis NotreDame Normandie NoPasaran NonAuPasseDeLaHonte NonAuPassDeLaHonte NOHA Nimes Nice06 Nice NeverForget NeuillysurSeine Netanyahou NeJamaisRenoncer NeJamaisOublier NegaWatt Navalny NavalGroup NationEducative Nationalisten Narbonne Napoleon Nantes Nantais Nancy Municipales2020 MumiaAbuJamal Mozambiquemassacre MouvementEcologisteIndependant MotoGP MorièreslèsAvignon MorettiDemission MorandiniLive Montreuil Montpellier Montgeron Montbrison Montauban Monprojet Monguillot MLaFrance Mitterrand MissionAlpha MireilleKnoll Mirail Millevaches Milipol2021 Migration MichauxChevry Mexico Mexicanos Metz MeTooTheatre MeToo Messe Merkel MeilleurePOL Medef MBF Mayotte Maubeuge Marseille Maroc MaPolitiqueDuLogement Mans Manifs6novembre Manifs4septembre Manifs30octobre Manifs2octobre Manifs28aout Manifs21aout Manifs14aout ManifPolice Manif24juillet Malraux Mali Maisqui MaisonsAlfort MaineetLoire MagieDuCouscous Maghreb MaFrance MadeinFrance Lyon Lybie LutteOuvrière Lubrizol LSF LREM LR LowCarbonFrance Lourmarin LouiseMichel Louhans Londres London Loiseau LoiMolac LO Lisieux LionelMessi Limoges Lille LigueDesNations LigneP LigneDroite LibresCommeLArt Liberte Liban LHForum LH LGBTI LGBT LFI LeVraiBilan LesVraiesVoix LesMatinsLCI LeSermentDeRomainville LesAnimauxComptent Les4v Leray LePontet LePerche LePassDeLaHonte LeMonde LeMans24 LeMans LeHavre LeGrandRDV LeGrandJury LeBilletDeCharline LeBarbierduMatin Le20hdeDariusRochebin LE13H Le LDH LCI Lavaur Laupretre LaUneTv LaREM LaPoste Lannemezan Landes LancementDeCampagne LaMatinaleWE LaMatinale LalondelesMaures Lallement LaFranceNouvelle LaFranceNotreAvenir LaFrancedesterritoires LAffaireDuSiecle LaBaule2021 LaBaule Kuzmanovic Kurds Kurdistan Kurdes Koweït Koweit Kourou Kosovo Kommission Kohler KohLanta2022 Kiyv Kiev KBM Kandidat KabulAiport Kaboul JusticeSociale JusticePourFouad JusticePourAdama JusticeEnvironnementale JusteMilieu Jussieu JugementMajoritaire JT20H JourneesDuPatrimoine JournéeMondialeDuRefusDeLaMisère JourneeMondialeDuRefusDeLaMisere JournéeMondialeDesAnimaux JourneeMondialeDeLautisme JourneeInternationaleDesDroitsDesFemmes JOTokyo JosephineBaker JOPTokyo2021 JOP2024 JOP2021 JoeBiden JO2024 JO JMLaFrance JFP2022 JeuxParalympiques Jerusalem Jersey JEP2021 JeMeFatigue Jefferson JeffBezos JeanCastex JDCJDR JDC2021 Ivermectine IUCNcongress Italien Italie Italia IsraelTerrorist IsraelPalestine Israelien Israël Israel Islamist Iran Invité InternationalDemocracyDay Insurrection Instagram Insolite InnovateursDemocratiques IndexationDesSalaires IndemnitéInflation ImpressionsEtLignesClaires IHSAconference IDF ID ICICESTPARIS IbisBatignolles IanBrossat Hydrogene HubertGermain Horizons Hopital Honte Hongrie Homophobe HiAP Hercules HéninBeaumont HeninBeaumont Hémicycle Hdpros HDP Hazebrouck Havre HauteGaronne Hardelot Hamel Halloween HaitiSOS Haïtiens Haïti Haiti Guyane Guadeloupe Grenzkontrolle Grenoble GREENNEWDEAL GrandRemplacement GrandRDV GrandMatinSudRadio Gradignan Goodvest Goncourt2021 Goncourt Glucksmann GlobalCitizenLive GlasgowCop26 Glasgow GiseleHalimi GiscardDEstaing Gironde GiletsJaunesSaison2 GiletJaunes GGRMC Germinal GeorgesBrassens GeorgeFloyd GénocideArménien Generaux GeneralElectric Gdansk GazaUnderAttak Gaza Gascogne Galileo Gajac G20 FrontContreLeRacisme Frieden FrexitVite Freund FrèresMusulmans FrenchTech French FreeGeorgesAbdallah FreeAssange FreeAbdallah Fraternité Francia Franceunité FranceLibre FranceIndustrie FranceEspagne FranceDesTerritoires France2030 France2 France1970 France Français Francais Françafrique FRAESP Foutriquet Fouad ForfaitMobilitésDurables ForetAfriqueParis2021 ForeignLegion ForceCitoyenne Fontainebleau Fonderie FoiredeChalons FNTV FN Fluvoxamine FinDeVieLibre FinDeVie Financeverte FierteFrancaise FiersdetreBleus FiersDeNotrePatrimoine FiereDeNosEleveurs Fiat FI FeuilleDePaye Fetedutravail FeteDelHumanite Fessenheim FED2021 FDE2021 FDD Fauci Fassadeneuropäer FaitesLire Facealinfo FaceàLaRue FaceALaRue FA22 ExtremeDroite ExtraLocal Eurovision Eurotunnel EuropeMatin Europefédérale Européens Europeennes2019 Europeennees2019 Europeen Europeans EuropeanRepublic Europe1 Europe EuropaMachen EuropäischeRepublik Europäischen Europäische Europäer Europa EureetLoir EUFarmToFork EUCO EU EtudiantsEnDetresse EtatsUnis EssayezLaDémocratie ESPFRA Españoles España Espana Espagne Espace Erika Erdogan Erasmus EPR Epinal EnTouteFranchise EnsembleOnVaGagner Ensemble EnMêmeTemps EnMarche England EnfantsPlacés Energies Energie EmiratsArabesUnis EmiliaRomagnaGP Elysée2022 Elysée Elevage ElectionsUE19 Electionsrégionales ElectionsRegionales ElectionsEuropeennes2019 Elections2022 Elections2019 ElectionPrésidentielle Election2019 Elecciones2019 Eiffel Egalité EELV EDF EcologieDesSolutions Ecologie Ecoles DupontMoretti Duchere Drouet Drôme DroitsSociaux Droits Drancy Doubs Douai Djokovic Directcitoyens DirectAN Dionis Dinah DimPolBourgogne Dimpol DimancheEnPolitique Dijon DignitePourTous DictatureEnMarche DeveloppementDurable DettePublique DeRien Demokratie DemocracyDay Democracy Deconfinement Decentralisation Décapitation DeboutLesFemmes DebattreVraiment DebatBFMTV Debat DDay75 DauphineLibere Dassault DarmaninDemission Darmanin Dantzig Danjou DanielAuteuil CumExFiles Cueff CSA CroiséeDesChemins CroiseeDesChemins CouvreFeu Cournon Corse CORONAVIRUS Copenhagen2021 COP26Glasgow Cop21 Conversations ConventionDeLaDroite ContratEngagementJeune ContratDuSiecle ConseilConstitutionel CongresNC19 CongrèsHLM ConflansSaintHonorine Conflans Conférence Communiqué Commonwealth CommissionEuropéenne Commissaire CommentCaMarcheLeParlement CombsLaVille ComAfEco Colombes Colmar CodeNoir CNSPF2021 CNR CNEWS CNDP Cloud ClimateAction ClickAndCollect ClermontFerrand ClaudeAlphandery CJUE CJR Citizens Christianophobie Christchurch Chrischurch Chretiens Cholet Choisy ChèqueInflation Chateaurenard Chateaubriant Chasseurs Chasse CharlieHebdo CharenteMaritime ChapellesurErdre ChampionsLeague Chalucet CGT CEDHexit CEA CàVous CaVous Cavaillon CauseAnimale Castex20h Castex Casteljaloux Cassonade Carpentras Carousel Cannabis CandidatCitoyen CanalSeineNordEurope Canada CampagneTER CameroneDay Camerone2020 Camerone CambioClimático Camarón Calvados Calanques Calais Caen Cabourg Buzyn BusinessObject Bürgerinnen Bürger Budapest BTS BTP Bruxelles Brumath Brives2021 Brive2021 BrigadesRouges Brexit Brevets Bretagne Brassens Bourges BourdinDirect Boulognesurmer Boudaud BouchesduRhône Borne Bordeaux Bonneval BonjourChezVous Bolsonaro Bolloré Bluwal Blois BlocPop Blanquer BlackLivesMatter BlackBloc Biodiversity BigPharma Bigard Biden Biarritz BFMTVSD BFMTV BFMStory BFMPolitique BFMBusiness BFM Béziers Beyrouth BernardTapie BernardArnault Benfeld Benalla Beltrame Belmondo Belfort Beethoven Beauvernois BeauvauDeLaSecurite Beauvais Bayonne Bataclan Barkhane Barbès BarbaraPravi BalDesFiertés BalanceTonRSA BalanceTonPost BaisseTaTVA Badminton Backstage Aznavour AW2022 Avrillé Avignon AvecValérie Australie AugmentationDesSalaires AudricAlexandrePace Audiences Auch AttentatsDu13Novembre Attaqueterroriste ASTRID Asterix Assomption Assange Arte ArrêtezDEmmerderLesFrançais Arras Ariane6 Ariane ArcDeTriomphe ArabieSaoudite Arab Appelàtémoins APIMED Aperocrates Anne Animaux Angers Angela Amiens AMF AmazonStPriest AlvanceWheels Alstom2 Alstom AlSissi Allonnes AllezLesBleus Allemagne AlimentationEquitablePourTous Algériens Algeriens Algérie Algerie AlexisKohler Alençon ALENCON Albi AJPSEditor AIMF AgnesBuzyn AfriqueFrance Afrique AFP Afghanistan Afghanishtan AffaireKohler AESH AdrienTaquet ADP ADMD Acides Abbeville AAH 9octobre 9h22 8mars 8mai2021 8Mai1945 6juin 6emeRep 5octobre 500parrainages 4V 4RCH 4èDose 3Novembre9H22 3novembre 3èDose 2NovAdmd 2nov 24hLeMans 24HClimat 23OctobreLyon 20h30ledimanche 20h22 20h 2022lecologie 2022anneeCruciale 1erMai2021 1erMai 1erDeCordée 17octobre61 17octobre1961 17Mai 1607h 15août 15aout 14Juillet2021 14Juillet 13Novembre2015 13Novembre 12Juin 11septembre2001 11septembre 11Novembre 10Mai1981 10HeuresMidi 109Mariannes 100euros 100ansBrassens jeunesse handicap chef Aubervilliers architecture\"\"\"\n",
    "# On utilise pas text_cleaner pour conserver les nombres\n",
    "hashtags_lexicon = word_tokenize(hashtags_lexicon_before_tokenize)"
   ]
  },
  {
   "cell_type": "markdown",
   "id": "e1eb9b6d",
   "metadata": {},
   "source": [
    "- On cumule tous les lexiques"
   ]
  },
  {
   "cell_type": "code",
   "execution_count": 35,
   "id": "ee2671b5",
   "metadata": {},
   "outputs": [],
   "source": [
    "all_lexicons_registered = political_lexicon + ecology_lexicon + economic_lexicon + extrem_lexicon  + health_lexicon + work_lexicon + security_lexicon + purchasing_power_lexicon  + candidates_pseudo  + hashtags_lexicon"
   ]
  },
  {
   "cell_type": "markdown",
   "id": "d7381904",
   "metadata": {},
   "source": [
    "### Check the new hashtags and append them to lexicons if necessary"
   ]
  },
  {
   "cell_type": "code",
   "execution_count": 36,
   "id": "200f40bf",
   "metadata": {},
   "outputs": [],
   "source": [
    "new_hashtags = []\n",
    "\n",
    "for hashtags_list in last_tweets_df[\"hashtags\"]:\n",
    "    for hashtag in hashtags_list:\n",
    "        if hashtag in all_lexicons_registered:\n",
    "            pass\n",
    "        else:\n",
    "            new_hashtags.append(hashtag)\n",
    "\n",
    "unique_hashtags = sorted(set(new_hashtags))\n",
    "# print(f\"We have {len(unique_hashtags)} new unique hastags which are:\")\n",
    "# unique_hashtags"
   ]
  },
  {
   "cell_type": "markdown",
   "id": "6258d414",
   "metadata": {},
   "source": [
    "### Define a function to create a df with a lexicon score per user"
   ]
  },
  {
   "cell_type": "markdown",
   "id": "1ea06faa",
   "metadata": {},
   "source": [
    "#### Store all the lexicons in a dictionary"
   ]
  },
  {
   "cell_type": "code",
   "execution_count": 37,
   "id": "4a15452a",
   "metadata": {},
   "outputs": [],
   "source": [
    "lexicon_themes = {\"Politique\": political_lexicon, \"Actualité\" : hashtags_lexicon, \"Candidats\": candidates_references, \"Travail\":work_lexicon, \"Santé\":health_lexicon, \"Economie\":economic_lexicon, \"Sécurité\":security_lexicon, \"Extrême\":extrem_lexicon, \"Ecologie\": ecology_lexicon, \"Pouvoir_achat\": purchasing_power_lexicon}"
   ]
  },
  {
   "cell_type": "markdown",
   "id": "104b83cf",
   "metadata": {},
   "source": [
    "#### Define the function"
   ]
  },
  {
   "cell_type": "code",
   "execution_count": 38,
   "id": "1a1a619e",
   "metadata": {},
   "outputs": [],
   "source": [
    "def lexicon_score_per_user(df, lexicon_themes):\n",
    "    \"\"\"Return a DataFrame scoring each tweet contents above a list of lexicon themes\"\"\"\n",
    "    # Store the users in a list\n",
    "    list_of_users = list(df[\"user\"].unique())\n",
    "\n",
    "    # Create a list to store each future row of the DataFrame\n",
    "    user_scores = []\n",
    "\n",
    "    # For each user\n",
    "    for user in list_of_users:\n",
    "        # Define a dictionary to store the score per lexicon per user\n",
    "        lexicon_scores = {\"user\" : user}\n",
    "        \n",
    "        # Generate a score at zero for each theme\n",
    "        for theme, lexicon in lexicon_themes.items():\n",
    "            lexicon_scores[theme] = 0           \n",
    "        \n",
    "        # Extract his/her tweets\n",
    "        user_tweets = list(df[df[\"user\"]==user][\"text\"])\n",
    "        # Then tokenize each tweet to analyze its content\n",
    "        for tweet in user_tweets:\n",
    "            if theme == candidates_pseudo:\n",
    "                tokenized_tweet = tweet\n",
    "            else:\n",
    "                tokenized_tweet = word_tokenize(tweet)\n",
    "        \n",
    "            # For each word\n",
    "            for word in tokenized_tweet:\n",
    "                # Is it part of one of the lexicons?\n",
    "                for theme, lexicon in lexicon_themes.items():\n",
    "                    if word in lexicon:\n",
    "                        lexicon_scores[theme] += 1\n",
    "        \n",
    "        # Finally, append the user and its score per theme to user_scores\n",
    "        user_scores.append(lexicon_scores)\n",
    "\n",
    "    # Convert list to DataFrame\n",
    "    lexicon_score_per_user_df = pd.DataFrame(user_scores)\n",
    "    # Add political trend\n",
    "    lexicon_score_per_user_df = pd.merge(left = lexicon_score_per_user_df, \n",
    "                                         right = df[[\"user\", \"name\", \"political_trend\"]], \n",
    "                                         on = 'user', \n",
    "                                         how = 'left')\n",
    "    # Drop duplicates due to merge just before\n",
    "    lexicon_score_per_user_df = lexicon_score_per_user_df.drop_duplicates().reset_index(drop=True)\n",
    "    \n",
    "    return lexicon_score_per_user_df"
   ]
  },
  {
   "cell_type": "markdown",
   "id": "dfa5db81",
   "metadata": {},
   "source": [
    "#### Apply it to df_ready_for_nlp"
   ]
  },
  {
   "cell_type": "code",
   "execution_count": 98,
   "id": "e9a8ffc4",
   "metadata": {},
   "outputs": [],
   "source": [
    "lexicon_score_per_user_df = lexicon_score_per_user(df=df_ready_for_nlp, lexicon_themes=lexicon_themes)\n",
    "# lexicon_score_per_user_df"
   ]
  },
  {
   "cell_type": "markdown",
   "id": "85c37f70",
   "metadata": {},
   "source": [
    "# Design for deployment"
   ]
  },
  {
   "cell_type": "markdown",
   "id": "1cb66ed7",
   "metadata": {},
   "source": [
    "## Sujets dont les candidats parlent (score natio par thème)"
   ]
  },
  {
   "cell_type": "code",
   "execution_count": 59,
   "id": "5f55fc16",
   "metadata": {},
   "outputs": [
    {
     "data": {
      "application/vnd.plotly.v1+json": {
       "config": {
        "plotlyServerURL": "https://plot.ly"
       },
       "data": [
        {
         "orientation": "h",
         "type": "bar",
         "x": [
          830,
          946,
          1015,
          2276,
          2489,
          2788,
          3298,
          4208,
          7237,
          10213
         ],
         "y": [
          "Pouvoir_achat",
          "Ecologie",
          "Extrême",
          "Sécurité",
          "Economie",
          "Santé",
          "Travail",
          "Candidats",
          "Actualité",
          "Politique"
         ]
        }
       ],
       "layout": {
        "template": {
         "data": {
          "bar": [
           {
            "error_x": {
             "color": "#2a3f5f"
            },
            "error_y": {
             "color": "#2a3f5f"
            },
            "marker": {
             "line": {
              "color": "#E5ECF6",
              "width": 0.5
             },
             "pattern": {
              "fillmode": "overlay",
              "size": 10,
              "solidity": 0.2
             }
            },
            "type": "bar"
           }
          ],
          "barpolar": [
           {
            "marker": {
             "line": {
              "color": "#E5ECF6",
              "width": 0.5
             },
             "pattern": {
              "fillmode": "overlay",
              "size": 10,
              "solidity": 0.2
             }
            },
            "type": "barpolar"
           }
          ],
          "carpet": [
           {
            "aaxis": {
             "endlinecolor": "#2a3f5f",
             "gridcolor": "white",
             "linecolor": "white",
             "minorgridcolor": "white",
             "startlinecolor": "#2a3f5f"
            },
            "baxis": {
             "endlinecolor": "#2a3f5f",
             "gridcolor": "white",
             "linecolor": "white",
             "minorgridcolor": "white",
             "startlinecolor": "#2a3f5f"
            },
            "type": "carpet"
           }
          ],
          "choropleth": [
           {
            "colorbar": {
             "outlinewidth": 0,
             "ticks": ""
            },
            "type": "choropleth"
           }
          ],
          "contour": [
           {
            "colorbar": {
             "outlinewidth": 0,
             "ticks": ""
            },
            "colorscale": [
             [
              0,
              "#0d0887"
             ],
             [
              0.1111111111111111,
              "#46039f"
             ],
             [
              0.2222222222222222,
              "#7201a8"
             ],
             [
              0.3333333333333333,
              "#9c179e"
             ],
             [
              0.4444444444444444,
              "#bd3786"
             ],
             [
              0.5555555555555556,
              "#d8576b"
             ],
             [
              0.6666666666666666,
              "#ed7953"
             ],
             [
              0.7777777777777778,
              "#fb9f3a"
             ],
             [
              0.8888888888888888,
              "#fdca26"
             ],
             [
              1,
              "#f0f921"
             ]
            ],
            "type": "contour"
           }
          ],
          "contourcarpet": [
           {
            "colorbar": {
             "outlinewidth": 0,
             "ticks": ""
            },
            "type": "contourcarpet"
           }
          ],
          "heatmap": [
           {
            "colorbar": {
             "outlinewidth": 0,
             "ticks": ""
            },
            "colorscale": [
             [
              0,
              "#0d0887"
             ],
             [
              0.1111111111111111,
              "#46039f"
             ],
             [
              0.2222222222222222,
              "#7201a8"
             ],
             [
              0.3333333333333333,
              "#9c179e"
             ],
             [
              0.4444444444444444,
              "#bd3786"
             ],
             [
              0.5555555555555556,
              "#d8576b"
             ],
             [
              0.6666666666666666,
              "#ed7953"
             ],
             [
              0.7777777777777778,
              "#fb9f3a"
             ],
             [
              0.8888888888888888,
              "#fdca26"
             ],
             [
              1,
              "#f0f921"
             ]
            ],
            "type": "heatmap"
           }
          ],
          "heatmapgl": [
           {
            "colorbar": {
             "outlinewidth": 0,
             "ticks": ""
            },
            "colorscale": [
             [
              0,
              "#0d0887"
             ],
             [
              0.1111111111111111,
              "#46039f"
             ],
             [
              0.2222222222222222,
              "#7201a8"
             ],
             [
              0.3333333333333333,
              "#9c179e"
             ],
             [
              0.4444444444444444,
              "#bd3786"
             ],
             [
              0.5555555555555556,
              "#d8576b"
             ],
             [
              0.6666666666666666,
              "#ed7953"
             ],
             [
              0.7777777777777778,
              "#fb9f3a"
             ],
             [
              0.8888888888888888,
              "#fdca26"
             ],
             [
              1,
              "#f0f921"
             ]
            ],
            "type": "heatmapgl"
           }
          ],
          "histogram": [
           {
            "marker": {
             "pattern": {
              "fillmode": "overlay",
              "size": 10,
              "solidity": 0.2
             }
            },
            "type": "histogram"
           }
          ],
          "histogram2d": [
           {
            "colorbar": {
             "outlinewidth": 0,
             "ticks": ""
            },
            "colorscale": [
             [
              0,
              "#0d0887"
             ],
             [
              0.1111111111111111,
              "#46039f"
             ],
             [
              0.2222222222222222,
              "#7201a8"
             ],
             [
              0.3333333333333333,
              "#9c179e"
             ],
             [
              0.4444444444444444,
              "#bd3786"
             ],
             [
              0.5555555555555556,
              "#d8576b"
             ],
             [
              0.6666666666666666,
              "#ed7953"
             ],
             [
              0.7777777777777778,
              "#fb9f3a"
             ],
             [
              0.8888888888888888,
              "#fdca26"
             ],
             [
              1,
              "#f0f921"
             ]
            ],
            "type": "histogram2d"
           }
          ],
          "histogram2dcontour": [
           {
            "colorbar": {
             "outlinewidth": 0,
             "ticks": ""
            },
            "colorscale": [
             [
              0,
              "#0d0887"
             ],
             [
              0.1111111111111111,
              "#46039f"
             ],
             [
              0.2222222222222222,
              "#7201a8"
             ],
             [
              0.3333333333333333,
              "#9c179e"
             ],
             [
              0.4444444444444444,
              "#bd3786"
             ],
             [
              0.5555555555555556,
              "#d8576b"
             ],
             [
              0.6666666666666666,
              "#ed7953"
             ],
             [
              0.7777777777777778,
              "#fb9f3a"
             ],
             [
              0.8888888888888888,
              "#fdca26"
             ],
             [
              1,
              "#f0f921"
             ]
            ],
            "type": "histogram2dcontour"
           }
          ],
          "mesh3d": [
           {
            "colorbar": {
             "outlinewidth": 0,
             "ticks": ""
            },
            "type": "mesh3d"
           }
          ],
          "parcoords": [
           {
            "line": {
             "colorbar": {
              "outlinewidth": 0,
              "ticks": ""
             }
            },
            "type": "parcoords"
           }
          ],
          "pie": [
           {
            "automargin": true,
            "type": "pie"
           }
          ],
          "scatter": [
           {
            "marker": {
             "colorbar": {
              "outlinewidth": 0,
              "ticks": ""
             }
            },
            "type": "scatter"
           }
          ],
          "scatter3d": [
           {
            "line": {
             "colorbar": {
              "outlinewidth": 0,
              "ticks": ""
             }
            },
            "marker": {
             "colorbar": {
              "outlinewidth": 0,
              "ticks": ""
             }
            },
            "type": "scatter3d"
           }
          ],
          "scattercarpet": [
           {
            "marker": {
             "colorbar": {
              "outlinewidth": 0,
              "ticks": ""
             }
            },
            "type": "scattercarpet"
           }
          ],
          "scattergeo": [
           {
            "marker": {
             "colorbar": {
              "outlinewidth": 0,
              "ticks": ""
             }
            },
            "type": "scattergeo"
           }
          ],
          "scattergl": [
           {
            "marker": {
             "colorbar": {
              "outlinewidth": 0,
              "ticks": ""
             }
            },
            "type": "scattergl"
           }
          ],
          "scattermapbox": [
           {
            "marker": {
             "colorbar": {
              "outlinewidth": 0,
              "ticks": ""
             }
            },
            "type": "scattermapbox"
           }
          ],
          "scatterpolar": [
           {
            "marker": {
             "colorbar": {
              "outlinewidth": 0,
              "ticks": ""
             }
            },
            "type": "scatterpolar"
           }
          ],
          "scatterpolargl": [
           {
            "marker": {
             "colorbar": {
              "outlinewidth": 0,
              "ticks": ""
             }
            },
            "type": "scatterpolargl"
           }
          ],
          "scatterternary": [
           {
            "marker": {
             "colorbar": {
              "outlinewidth": 0,
              "ticks": ""
             }
            },
            "type": "scatterternary"
           }
          ],
          "surface": [
           {
            "colorbar": {
             "outlinewidth": 0,
             "ticks": ""
            },
            "colorscale": [
             [
              0,
              "#0d0887"
             ],
             [
              0.1111111111111111,
              "#46039f"
             ],
             [
              0.2222222222222222,
              "#7201a8"
             ],
             [
              0.3333333333333333,
              "#9c179e"
             ],
             [
              0.4444444444444444,
              "#bd3786"
             ],
             [
              0.5555555555555556,
              "#d8576b"
             ],
             [
              0.6666666666666666,
              "#ed7953"
             ],
             [
              0.7777777777777778,
              "#fb9f3a"
             ],
             [
              0.8888888888888888,
              "#fdca26"
             ],
             [
              1,
              "#f0f921"
             ]
            ],
            "type": "surface"
           }
          ],
          "table": [
           {
            "cells": {
             "fill": {
              "color": "#EBF0F8"
             },
             "line": {
              "color": "white"
             }
            },
            "header": {
             "fill": {
              "color": "#C8D4E3"
             },
             "line": {
              "color": "white"
             }
            },
            "type": "table"
           }
          ]
         },
         "layout": {
          "annotationdefaults": {
           "arrowcolor": "#2a3f5f",
           "arrowhead": 0,
           "arrowwidth": 1
          },
          "autotypenumbers": "strict",
          "coloraxis": {
           "colorbar": {
            "outlinewidth": 0,
            "ticks": ""
           }
          },
          "colorscale": {
           "diverging": [
            [
             0,
             "#8e0152"
            ],
            [
             0.1,
             "#c51b7d"
            ],
            [
             0.2,
             "#de77ae"
            ],
            [
             0.3,
             "#f1b6da"
            ],
            [
             0.4,
             "#fde0ef"
            ],
            [
             0.5,
             "#f7f7f7"
            ],
            [
             0.6,
             "#e6f5d0"
            ],
            [
             0.7,
             "#b8e186"
            ],
            [
             0.8,
             "#7fbc41"
            ],
            [
             0.9,
             "#4d9221"
            ],
            [
             1,
             "#276419"
            ]
           ],
           "sequential": [
            [
             0,
             "#0d0887"
            ],
            [
             0.1111111111111111,
             "#46039f"
            ],
            [
             0.2222222222222222,
             "#7201a8"
            ],
            [
             0.3333333333333333,
             "#9c179e"
            ],
            [
             0.4444444444444444,
             "#bd3786"
            ],
            [
             0.5555555555555556,
             "#d8576b"
            ],
            [
             0.6666666666666666,
             "#ed7953"
            ],
            [
             0.7777777777777778,
             "#fb9f3a"
            ],
            [
             0.8888888888888888,
             "#fdca26"
            ],
            [
             1,
             "#f0f921"
            ]
           ],
           "sequentialminus": [
            [
             0,
             "#0d0887"
            ],
            [
             0.1111111111111111,
             "#46039f"
            ],
            [
             0.2222222222222222,
             "#7201a8"
            ],
            [
             0.3333333333333333,
             "#9c179e"
            ],
            [
             0.4444444444444444,
             "#bd3786"
            ],
            [
             0.5555555555555556,
             "#d8576b"
            ],
            [
             0.6666666666666666,
             "#ed7953"
            ],
            [
             0.7777777777777778,
             "#fb9f3a"
            ],
            [
             0.8888888888888888,
             "#fdca26"
            ],
            [
             1,
             "#f0f921"
            ]
           ]
          },
          "colorway": [
           "#636efa",
           "#EF553B",
           "#00cc96",
           "#ab63fa",
           "#FFA15A",
           "#19d3f3",
           "#FF6692",
           "#B6E880",
           "#FF97FF",
           "#FECB52"
          ],
          "font": {
           "color": "#2a3f5f"
          },
          "geo": {
           "bgcolor": "white",
           "lakecolor": "white",
           "landcolor": "#E5ECF6",
           "showlakes": true,
           "showland": true,
           "subunitcolor": "white"
          },
          "hoverlabel": {
           "align": "left"
          },
          "hovermode": "closest",
          "mapbox": {
           "style": "light"
          },
          "paper_bgcolor": "white",
          "plot_bgcolor": "#E5ECF6",
          "polar": {
           "angularaxis": {
            "gridcolor": "white",
            "linecolor": "white",
            "ticks": ""
           },
           "bgcolor": "#E5ECF6",
           "radialaxis": {
            "gridcolor": "white",
            "linecolor": "white",
            "ticks": ""
           }
          },
          "scene": {
           "xaxis": {
            "backgroundcolor": "#E5ECF6",
            "gridcolor": "white",
            "gridwidth": 2,
            "linecolor": "white",
            "showbackground": true,
            "ticks": "",
            "zerolinecolor": "white"
           },
           "yaxis": {
            "backgroundcolor": "#E5ECF6",
            "gridcolor": "white",
            "gridwidth": 2,
            "linecolor": "white",
            "showbackground": true,
            "ticks": "",
            "zerolinecolor": "white"
           },
           "zaxis": {
            "backgroundcolor": "#E5ECF6",
            "gridcolor": "white",
            "gridwidth": 2,
            "linecolor": "white",
            "showbackground": true,
            "ticks": "",
            "zerolinecolor": "white"
           }
          },
          "shapedefaults": {
           "line": {
            "color": "#2a3f5f"
           }
          },
          "ternary": {
           "aaxis": {
            "gridcolor": "white",
            "linecolor": "white",
            "ticks": ""
           },
           "baxis": {
            "gridcolor": "white",
            "linecolor": "white",
            "ticks": ""
           },
           "bgcolor": "#E5ECF6",
           "caxis": {
            "gridcolor": "white",
            "linecolor": "white",
            "ticks": ""
           }
          },
          "title": {
           "x": 0.05
          },
          "xaxis": {
           "automargin": true,
           "gridcolor": "white",
           "linecolor": "white",
           "ticks": "",
           "title": {
            "standoff": 15
           },
           "zerolinecolor": "white",
           "zerolinewidth": 2
          },
          "yaxis": {
           "automargin": true,
           "gridcolor": "white",
           "linecolor": "white",
           "ticks": "",
           "title": {
            "standoff": 15
           },
           "zerolinecolor": "white",
           "zerolinewidth": 2
          }
         }
        }
       }
      },
      "text/html": [
       "<div>                            <div id=\"eeac6e7a-d69a-4234-8a92-8657a6aa8725\" class=\"plotly-graph-div\" style=\"height:525px; width:100%;\"></div>            <script type=\"text/javascript\">                require([\"plotly\"], function(Plotly) {                    window.PLOTLYENV=window.PLOTLYENV || {};                                    if (document.getElementById(\"eeac6e7a-d69a-4234-8a92-8657a6aa8725\")) {                    Plotly.newPlot(                        \"eeac6e7a-d69a-4234-8a92-8657a6aa8725\",                        [{\"orientation\":\"h\",\"type\":\"bar\",\"x\":[830,946,1015,2276,2489,2788,3298,4208,7237,10213],\"y\":[\"Pouvoir_achat\",\"Ecologie\",\"Extr\\u00eame\",\"S\\u00e9curit\\u00e9\",\"Economie\",\"Sant\\u00e9\",\"Travail\",\"Candidats\",\"Actualit\\u00e9\",\"Politique\"]}],                        {\"template\":{\"data\":{\"bar\":[{\"error_x\":{\"color\":\"#2a3f5f\"},\"error_y\":{\"color\":\"#2a3f5f\"},\"marker\":{\"line\":{\"color\":\"#E5ECF6\",\"width\":0.5},\"pattern\":{\"fillmode\":\"overlay\",\"size\":10,\"solidity\":0.2}},\"type\":\"bar\"}],\"barpolar\":[{\"marker\":{\"line\":{\"color\":\"#E5ECF6\",\"width\":0.5},\"pattern\":{\"fillmode\":\"overlay\",\"size\":10,\"solidity\":0.2}},\"type\":\"barpolar\"}],\"carpet\":[{\"aaxis\":{\"endlinecolor\":\"#2a3f5f\",\"gridcolor\":\"white\",\"linecolor\":\"white\",\"minorgridcolor\":\"white\",\"startlinecolor\":\"#2a3f5f\"},\"baxis\":{\"endlinecolor\":\"#2a3f5f\",\"gridcolor\":\"white\",\"linecolor\":\"white\",\"minorgridcolor\":\"white\",\"startlinecolor\":\"#2a3f5f\"},\"type\":\"carpet\"}],\"choropleth\":[{\"colorbar\":{\"outlinewidth\":0,\"ticks\":\"\"},\"type\":\"choropleth\"}],\"contour\":[{\"colorbar\":{\"outlinewidth\":0,\"ticks\":\"\"},\"colorscale\":[[0.0,\"#0d0887\"],[0.1111111111111111,\"#46039f\"],[0.2222222222222222,\"#7201a8\"],[0.3333333333333333,\"#9c179e\"],[0.4444444444444444,\"#bd3786\"],[0.5555555555555556,\"#d8576b\"],[0.6666666666666666,\"#ed7953\"],[0.7777777777777778,\"#fb9f3a\"],[0.8888888888888888,\"#fdca26\"],[1.0,\"#f0f921\"]],\"type\":\"contour\"}],\"contourcarpet\":[{\"colorbar\":{\"outlinewidth\":0,\"ticks\":\"\"},\"type\":\"contourcarpet\"}],\"heatmap\":[{\"colorbar\":{\"outlinewidth\":0,\"ticks\":\"\"},\"colorscale\":[[0.0,\"#0d0887\"],[0.1111111111111111,\"#46039f\"],[0.2222222222222222,\"#7201a8\"],[0.3333333333333333,\"#9c179e\"],[0.4444444444444444,\"#bd3786\"],[0.5555555555555556,\"#d8576b\"],[0.6666666666666666,\"#ed7953\"],[0.7777777777777778,\"#fb9f3a\"],[0.8888888888888888,\"#fdca26\"],[1.0,\"#f0f921\"]],\"type\":\"heatmap\"}],\"heatmapgl\":[{\"colorbar\":{\"outlinewidth\":0,\"ticks\":\"\"},\"colorscale\":[[0.0,\"#0d0887\"],[0.1111111111111111,\"#46039f\"],[0.2222222222222222,\"#7201a8\"],[0.3333333333333333,\"#9c179e\"],[0.4444444444444444,\"#bd3786\"],[0.5555555555555556,\"#d8576b\"],[0.6666666666666666,\"#ed7953\"],[0.7777777777777778,\"#fb9f3a\"],[0.8888888888888888,\"#fdca26\"],[1.0,\"#f0f921\"]],\"type\":\"heatmapgl\"}],\"histogram\":[{\"marker\":{\"pattern\":{\"fillmode\":\"overlay\",\"size\":10,\"solidity\":0.2}},\"type\":\"histogram\"}],\"histogram2d\":[{\"colorbar\":{\"outlinewidth\":0,\"ticks\":\"\"},\"colorscale\":[[0.0,\"#0d0887\"],[0.1111111111111111,\"#46039f\"],[0.2222222222222222,\"#7201a8\"],[0.3333333333333333,\"#9c179e\"],[0.4444444444444444,\"#bd3786\"],[0.5555555555555556,\"#d8576b\"],[0.6666666666666666,\"#ed7953\"],[0.7777777777777778,\"#fb9f3a\"],[0.8888888888888888,\"#fdca26\"],[1.0,\"#f0f921\"]],\"type\":\"histogram2d\"}],\"histogram2dcontour\":[{\"colorbar\":{\"outlinewidth\":0,\"ticks\":\"\"},\"colorscale\":[[0.0,\"#0d0887\"],[0.1111111111111111,\"#46039f\"],[0.2222222222222222,\"#7201a8\"],[0.3333333333333333,\"#9c179e\"],[0.4444444444444444,\"#bd3786\"],[0.5555555555555556,\"#d8576b\"],[0.6666666666666666,\"#ed7953\"],[0.7777777777777778,\"#fb9f3a\"],[0.8888888888888888,\"#fdca26\"],[1.0,\"#f0f921\"]],\"type\":\"histogram2dcontour\"}],\"mesh3d\":[{\"colorbar\":{\"outlinewidth\":0,\"ticks\":\"\"},\"type\":\"mesh3d\"}],\"parcoords\":[{\"line\":{\"colorbar\":{\"outlinewidth\":0,\"ticks\":\"\"}},\"type\":\"parcoords\"}],\"pie\":[{\"automargin\":true,\"type\":\"pie\"}],\"scatter\":[{\"marker\":{\"colorbar\":{\"outlinewidth\":0,\"ticks\":\"\"}},\"type\":\"scatter\"}],\"scatter3d\":[{\"line\":{\"colorbar\":{\"outlinewidth\":0,\"ticks\":\"\"}},\"marker\":{\"colorbar\":{\"outlinewidth\":0,\"ticks\":\"\"}},\"type\":\"scatter3d\"}],\"scattercarpet\":[{\"marker\":{\"colorbar\":{\"outlinewidth\":0,\"ticks\":\"\"}},\"type\":\"scattercarpet\"}],\"scattergeo\":[{\"marker\":{\"colorbar\":{\"outlinewidth\":0,\"ticks\":\"\"}},\"type\":\"scattergeo\"}],\"scattergl\":[{\"marker\":{\"colorbar\":{\"outlinewidth\":0,\"ticks\":\"\"}},\"type\":\"scattergl\"}],\"scattermapbox\":[{\"marker\":{\"colorbar\":{\"outlinewidth\":0,\"ticks\":\"\"}},\"type\":\"scattermapbox\"}],\"scatterpolar\":[{\"marker\":{\"colorbar\":{\"outlinewidth\":0,\"ticks\":\"\"}},\"type\":\"scatterpolar\"}],\"scatterpolargl\":[{\"marker\":{\"colorbar\":{\"outlinewidth\":0,\"ticks\":\"\"}},\"type\":\"scatterpolargl\"}],\"scatterternary\":[{\"marker\":{\"colorbar\":{\"outlinewidth\":0,\"ticks\":\"\"}},\"type\":\"scatterternary\"}],\"surface\":[{\"colorbar\":{\"outlinewidth\":0,\"ticks\":\"\"},\"colorscale\":[[0.0,\"#0d0887\"],[0.1111111111111111,\"#46039f\"],[0.2222222222222222,\"#7201a8\"],[0.3333333333333333,\"#9c179e\"],[0.4444444444444444,\"#bd3786\"],[0.5555555555555556,\"#d8576b\"],[0.6666666666666666,\"#ed7953\"],[0.7777777777777778,\"#fb9f3a\"],[0.8888888888888888,\"#fdca26\"],[1.0,\"#f0f921\"]],\"type\":\"surface\"}],\"table\":[{\"cells\":{\"fill\":{\"color\":\"#EBF0F8\"},\"line\":{\"color\":\"white\"}},\"header\":{\"fill\":{\"color\":\"#C8D4E3\"},\"line\":{\"color\":\"white\"}},\"type\":\"table\"}]},\"layout\":{\"annotationdefaults\":{\"arrowcolor\":\"#2a3f5f\",\"arrowhead\":0,\"arrowwidth\":1},\"autotypenumbers\":\"strict\",\"coloraxis\":{\"colorbar\":{\"outlinewidth\":0,\"ticks\":\"\"}},\"colorscale\":{\"diverging\":[[0,\"#8e0152\"],[0.1,\"#c51b7d\"],[0.2,\"#de77ae\"],[0.3,\"#f1b6da\"],[0.4,\"#fde0ef\"],[0.5,\"#f7f7f7\"],[0.6,\"#e6f5d0\"],[0.7,\"#b8e186\"],[0.8,\"#7fbc41\"],[0.9,\"#4d9221\"],[1,\"#276419\"]],\"sequential\":[[0.0,\"#0d0887\"],[0.1111111111111111,\"#46039f\"],[0.2222222222222222,\"#7201a8\"],[0.3333333333333333,\"#9c179e\"],[0.4444444444444444,\"#bd3786\"],[0.5555555555555556,\"#d8576b\"],[0.6666666666666666,\"#ed7953\"],[0.7777777777777778,\"#fb9f3a\"],[0.8888888888888888,\"#fdca26\"],[1.0,\"#f0f921\"]],\"sequentialminus\":[[0.0,\"#0d0887\"],[0.1111111111111111,\"#46039f\"],[0.2222222222222222,\"#7201a8\"],[0.3333333333333333,\"#9c179e\"],[0.4444444444444444,\"#bd3786\"],[0.5555555555555556,\"#d8576b\"],[0.6666666666666666,\"#ed7953\"],[0.7777777777777778,\"#fb9f3a\"],[0.8888888888888888,\"#fdca26\"],[1.0,\"#f0f921\"]]},\"colorway\":[\"#636efa\",\"#EF553B\",\"#00cc96\",\"#ab63fa\",\"#FFA15A\",\"#19d3f3\",\"#FF6692\",\"#B6E880\",\"#FF97FF\",\"#FECB52\"],\"font\":{\"color\":\"#2a3f5f\"},\"geo\":{\"bgcolor\":\"white\",\"lakecolor\":\"white\",\"landcolor\":\"#E5ECF6\",\"showlakes\":true,\"showland\":true,\"subunitcolor\":\"white\"},\"hoverlabel\":{\"align\":\"left\"},\"hovermode\":\"closest\",\"mapbox\":{\"style\":\"light\"},\"paper_bgcolor\":\"white\",\"plot_bgcolor\":\"#E5ECF6\",\"polar\":{\"angularaxis\":{\"gridcolor\":\"white\",\"linecolor\":\"white\",\"ticks\":\"\"},\"bgcolor\":\"#E5ECF6\",\"radialaxis\":{\"gridcolor\":\"white\",\"linecolor\":\"white\",\"ticks\":\"\"}},\"scene\":{\"xaxis\":{\"backgroundcolor\":\"#E5ECF6\",\"gridcolor\":\"white\",\"gridwidth\":2,\"linecolor\":\"white\",\"showbackground\":true,\"ticks\":\"\",\"zerolinecolor\":\"white\"},\"yaxis\":{\"backgroundcolor\":\"#E5ECF6\",\"gridcolor\":\"white\",\"gridwidth\":2,\"linecolor\":\"white\",\"showbackground\":true,\"ticks\":\"\",\"zerolinecolor\":\"white\"},\"zaxis\":{\"backgroundcolor\":\"#E5ECF6\",\"gridcolor\":\"white\",\"gridwidth\":2,\"linecolor\":\"white\",\"showbackground\":true,\"ticks\":\"\",\"zerolinecolor\":\"white\"}},\"shapedefaults\":{\"line\":{\"color\":\"#2a3f5f\"}},\"ternary\":{\"aaxis\":{\"gridcolor\":\"white\",\"linecolor\":\"white\",\"ticks\":\"\"},\"baxis\":{\"gridcolor\":\"white\",\"linecolor\":\"white\",\"ticks\":\"\"},\"bgcolor\":\"#E5ECF6\",\"caxis\":{\"gridcolor\":\"white\",\"linecolor\":\"white\",\"ticks\":\"\"}},\"title\":{\"x\":0.05},\"xaxis\":{\"automargin\":true,\"gridcolor\":\"white\",\"linecolor\":\"white\",\"ticks\":\"\",\"title\":{\"standoff\":15},\"zerolinecolor\":\"white\",\"zerolinewidth\":2},\"yaxis\":{\"automargin\":true,\"gridcolor\":\"white\",\"linecolor\":\"white\",\"ticks\":\"\",\"title\":{\"standoff\":15},\"zerolinecolor\":\"white\",\"zerolinewidth\":2}}}},                        {\"responsive\": true}                    ).then(function(){\n",
       "                            \n",
       "var gd = document.getElementById('eeac6e7a-d69a-4234-8a92-8657a6aa8725');\n",
       "var x = new MutationObserver(function (mutations, observer) {{\n",
       "        var display = window.getComputedStyle(gd).display;\n",
       "        if (!display || display === 'none') {{\n",
       "            console.log([gd, 'removed!']);\n",
       "            Plotly.purge(gd);\n",
       "            observer.disconnect();\n",
       "        }}\n",
       "}});\n",
       "\n",
       "// Listen for the removal of the full notebook cells\n",
       "var notebookContainer = gd.closest('#notebook-container');\n",
       "if (notebookContainer) {{\n",
       "    x.observe(notebookContainer, {childList: true});\n",
       "}}\n",
       "\n",
       "// Listen for the clearing of the current output cell\n",
       "var outputEl = gd.closest('.output');\n",
       "if (outputEl) {{\n",
       "    x.observe(outputEl, {childList: true});\n",
       "}}\n",
       "\n",
       "                        })                };                });            </script>        </div>"
      ]
     },
     "metadata": {},
     "output_type": "display_data"
    }
   ],
   "source": [
    "national_score_per_theme = lexicon_score_per_user_df.drop(columns=[\"user\", \"name\", \"political_trend\"])\n",
    "national_score_per_theme = national_score_per_theme.cumsum().iloc[-1].sort_values()\n",
    "\n",
    "fig = go.Figure(go.Bar(\n",
    "            x=national_score_per_theme.values,\n",
    "            y=national_score_per_theme.keys(),\n",
    "            orientation='h'))\n",
    "\n",
    "fig.show()"
   ]
  },
  {
   "cell_type": "markdown",
   "id": "2365380d",
   "metadata": {},
   "source": [
    "## Les intérêts de chaque orientation politique par thème"
   ]
  },
  {
   "cell_type": "code",
   "execution_count": 100,
   "id": "146b6691",
   "metadata": {},
   "outputs": [],
   "source": [
    "def theme_interest_political_trend(political_trend):\n",
    "    mean_national_score_per_theme = lexicon_score_per_user_df.drop(columns=[\"user\", \"name\", \"political_trend\"])\n",
    "    mean_national_score_per_theme = mean_national_score_per_theme.mean().sort_values()\n",
    "\n",
    "    political_trend_score_per_theme = lexicon_score_per_user_df.drop(columns=[\"user\", \"name\"])\n",
    "    political_trend_score_per_theme = political_trend_score_per_theme.groupby(['political_trend']).mean()\n",
    "    political_trend_score_per_theme = political_trend_score_per_theme.loc[political_trend].sort_values()\n",
    "\n",
    "    fig = go.Figure(data=[\n",
    "                    go.Bar(x=mean_national_score_per_theme.values,\n",
    "                           y=mean_national_score_per_theme.keys(),\n",
    "                           orientation='h',\n",
    "                          name=\"National\"),\n",
    "                    go.Bar(x=political_trend_score_per_theme.values,\n",
    "                           y=political_trend_score_per_theme.keys(),\n",
    "                           orientation='h',\n",
    "                          name=political_trend)\n",
    "                    ])\n",
    "\n",
    "    # Change the bar mode\n",
    "    fig.update_layout(barmode='group')\n",
    "\n",
    "    fig.show()"
   ]
  },
  {
   "cell_type": "code",
   "execution_count": 102,
   "id": "32fcdc08",
   "metadata": {},
   "outputs": [
    {
     "data": {
      "application/vnd.plotly.v1+json": {
       "config": {
        "plotlyServerURL": "https://plot.ly"
       },
       "data": [
        {
         "name": "National",
         "orientation": "h",
         "type": "bar",
         "x": [
          19.714285714285715,
          22.428571428571427,
          24.071428571428573,
          53.80952380952381,
          58.88095238095238,
          65.57142857142857,
          77.71428571428571,
          99.9047619047619,
          170.6904761904762,
          238.45238095238096
         ],
         "y": [
          "Pouvoir_achat",
          "Ecologie",
          "Extrême",
          "Sécurité",
          "Economie",
          "Santé",
          "Travail",
          "Candidats",
          "Actualité",
          "Politique"
         ]
        },
        {
         "name": "divers",
         "orientation": "h",
         "type": "bar",
         "x": [
          7.3,
          10.7,
          15.7,
          33.5,
          39.4,
          52.7,
          61,
          68.6,
          126.3,
          177.4
         ],
         "y": [
          "Pouvoir_achat",
          "Ecologie",
          "Extrême",
          "Sécurité",
          "Economie",
          "Travail",
          "Santé",
          "Candidats",
          "Actualité",
          "Politique"
         ]
        }
       ],
       "layout": {
        "barmode": "group",
        "template": {
         "data": {
          "bar": [
           {
            "error_x": {
             "color": "#2a3f5f"
            },
            "error_y": {
             "color": "#2a3f5f"
            },
            "marker": {
             "line": {
              "color": "#E5ECF6",
              "width": 0.5
             },
             "pattern": {
              "fillmode": "overlay",
              "size": 10,
              "solidity": 0.2
             }
            },
            "type": "bar"
           }
          ],
          "barpolar": [
           {
            "marker": {
             "line": {
              "color": "#E5ECF6",
              "width": 0.5
             },
             "pattern": {
              "fillmode": "overlay",
              "size": 10,
              "solidity": 0.2
             }
            },
            "type": "barpolar"
           }
          ],
          "carpet": [
           {
            "aaxis": {
             "endlinecolor": "#2a3f5f",
             "gridcolor": "white",
             "linecolor": "white",
             "minorgridcolor": "white",
             "startlinecolor": "#2a3f5f"
            },
            "baxis": {
             "endlinecolor": "#2a3f5f",
             "gridcolor": "white",
             "linecolor": "white",
             "minorgridcolor": "white",
             "startlinecolor": "#2a3f5f"
            },
            "type": "carpet"
           }
          ],
          "choropleth": [
           {
            "colorbar": {
             "outlinewidth": 0,
             "ticks": ""
            },
            "type": "choropleth"
           }
          ],
          "contour": [
           {
            "colorbar": {
             "outlinewidth": 0,
             "ticks": ""
            },
            "colorscale": [
             [
              0,
              "#0d0887"
             ],
             [
              0.1111111111111111,
              "#46039f"
             ],
             [
              0.2222222222222222,
              "#7201a8"
             ],
             [
              0.3333333333333333,
              "#9c179e"
             ],
             [
              0.4444444444444444,
              "#bd3786"
             ],
             [
              0.5555555555555556,
              "#d8576b"
             ],
             [
              0.6666666666666666,
              "#ed7953"
             ],
             [
              0.7777777777777778,
              "#fb9f3a"
             ],
             [
              0.8888888888888888,
              "#fdca26"
             ],
             [
              1,
              "#f0f921"
             ]
            ],
            "type": "contour"
           }
          ],
          "contourcarpet": [
           {
            "colorbar": {
             "outlinewidth": 0,
             "ticks": ""
            },
            "type": "contourcarpet"
           }
          ],
          "heatmap": [
           {
            "colorbar": {
             "outlinewidth": 0,
             "ticks": ""
            },
            "colorscale": [
             [
              0,
              "#0d0887"
             ],
             [
              0.1111111111111111,
              "#46039f"
             ],
             [
              0.2222222222222222,
              "#7201a8"
             ],
             [
              0.3333333333333333,
              "#9c179e"
             ],
             [
              0.4444444444444444,
              "#bd3786"
             ],
             [
              0.5555555555555556,
              "#d8576b"
             ],
             [
              0.6666666666666666,
              "#ed7953"
             ],
             [
              0.7777777777777778,
              "#fb9f3a"
             ],
             [
              0.8888888888888888,
              "#fdca26"
             ],
             [
              1,
              "#f0f921"
             ]
            ],
            "type": "heatmap"
           }
          ],
          "heatmapgl": [
           {
            "colorbar": {
             "outlinewidth": 0,
             "ticks": ""
            },
            "colorscale": [
             [
              0,
              "#0d0887"
             ],
             [
              0.1111111111111111,
              "#46039f"
             ],
             [
              0.2222222222222222,
              "#7201a8"
             ],
             [
              0.3333333333333333,
              "#9c179e"
             ],
             [
              0.4444444444444444,
              "#bd3786"
             ],
             [
              0.5555555555555556,
              "#d8576b"
             ],
             [
              0.6666666666666666,
              "#ed7953"
             ],
             [
              0.7777777777777778,
              "#fb9f3a"
             ],
             [
              0.8888888888888888,
              "#fdca26"
             ],
             [
              1,
              "#f0f921"
             ]
            ],
            "type": "heatmapgl"
           }
          ],
          "histogram": [
           {
            "marker": {
             "pattern": {
              "fillmode": "overlay",
              "size": 10,
              "solidity": 0.2
             }
            },
            "type": "histogram"
           }
          ],
          "histogram2d": [
           {
            "colorbar": {
             "outlinewidth": 0,
             "ticks": ""
            },
            "colorscale": [
             [
              0,
              "#0d0887"
             ],
             [
              0.1111111111111111,
              "#46039f"
             ],
             [
              0.2222222222222222,
              "#7201a8"
             ],
             [
              0.3333333333333333,
              "#9c179e"
             ],
             [
              0.4444444444444444,
              "#bd3786"
             ],
             [
              0.5555555555555556,
              "#d8576b"
             ],
             [
              0.6666666666666666,
              "#ed7953"
             ],
             [
              0.7777777777777778,
              "#fb9f3a"
             ],
             [
              0.8888888888888888,
              "#fdca26"
             ],
             [
              1,
              "#f0f921"
             ]
            ],
            "type": "histogram2d"
           }
          ],
          "histogram2dcontour": [
           {
            "colorbar": {
             "outlinewidth": 0,
             "ticks": ""
            },
            "colorscale": [
             [
              0,
              "#0d0887"
             ],
             [
              0.1111111111111111,
              "#46039f"
             ],
             [
              0.2222222222222222,
              "#7201a8"
             ],
             [
              0.3333333333333333,
              "#9c179e"
             ],
             [
              0.4444444444444444,
              "#bd3786"
             ],
             [
              0.5555555555555556,
              "#d8576b"
             ],
             [
              0.6666666666666666,
              "#ed7953"
             ],
             [
              0.7777777777777778,
              "#fb9f3a"
             ],
             [
              0.8888888888888888,
              "#fdca26"
             ],
             [
              1,
              "#f0f921"
             ]
            ],
            "type": "histogram2dcontour"
           }
          ],
          "mesh3d": [
           {
            "colorbar": {
             "outlinewidth": 0,
             "ticks": ""
            },
            "type": "mesh3d"
           }
          ],
          "parcoords": [
           {
            "line": {
             "colorbar": {
              "outlinewidth": 0,
              "ticks": ""
             }
            },
            "type": "parcoords"
           }
          ],
          "pie": [
           {
            "automargin": true,
            "type": "pie"
           }
          ],
          "scatter": [
           {
            "marker": {
             "colorbar": {
              "outlinewidth": 0,
              "ticks": ""
             }
            },
            "type": "scatter"
           }
          ],
          "scatter3d": [
           {
            "line": {
             "colorbar": {
              "outlinewidth": 0,
              "ticks": ""
             }
            },
            "marker": {
             "colorbar": {
              "outlinewidth": 0,
              "ticks": ""
             }
            },
            "type": "scatter3d"
           }
          ],
          "scattercarpet": [
           {
            "marker": {
             "colorbar": {
              "outlinewidth": 0,
              "ticks": ""
             }
            },
            "type": "scattercarpet"
           }
          ],
          "scattergeo": [
           {
            "marker": {
             "colorbar": {
              "outlinewidth": 0,
              "ticks": ""
             }
            },
            "type": "scattergeo"
           }
          ],
          "scattergl": [
           {
            "marker": {
             "colorbar": {
              "outlinewidth": 0,
              "ticks": ""
             }
            },
            "type": "scattergl"
           }
          ],
          "scattermapbox": [
           {
            "marker": {
             "colorbar": {
              "outlinewidth": 0,
              "ticks": ""
             }
            },
            "type": "scattermapbox"
           }
          ],
          "scatterpolar": [
           {
            "marker": {
             "colorbar": {
              "outlinewidth": 0,
              "ticks": ""
             }
            },
            "type": "scatterpolar"
           }
          ],
          "scatterpolargl": [
           {
            "marker": {
             "colorbar": {
              "outlinewidth": 0,
              "ticks": ""
             }
            },
            "type": "scatterpolargl"
           }
          ],
          "scatterternary": [
           {
            "marker": {
             "colorbar": {
              "outlinewidth": 0,
              "ticks": ""
             }
            },
            "type": "scatterternary"
           }
          ],
          "surface": [
           {
            "colorbar": {
             "outlinewidth": 0,
             "ticks": ""
            },
            "colorscale": [
             [
              0,
              "#0d0887"
             ],
             [
              0.1111111111111111,
              "#46039f"
             ],
             [
              0.2222222222222222,
              "#7201a8"
             ],
             [
              0.3333333333333333,
              "#9c179e"
             ],
             [
              0.4444444444444444,
              "#bd3786"
             ],
             [
              0.5555555555555556,
              "#d8576b"
             ],
             [
              0.6666666666666666,
              "#ed7953"
             ],
             [
              0.7777777777777778,
              "#fb9f3a"
             ],
             [
              0.8888888888888888,
              "#fdca26"
             ],
             [
              1,
              "#f0f921"
             ]
            ],
            "type": "surface"
           }
          ],
          "table": [
           {
            "cells": {
             "fill": {
              "color": "#EBF0F8"
             },
             "line": {
              "color": "white"
             }
            },
            "header": {
             "fill": {
              "color": "#C8D4E3"
             },
             "line": {
              "color": "white"
             }
            },
            "type": "table"
           }
          ]
         },
         "layout": {
          "annotationdefaults": {
           "arrowcolor": "#2a3f5f",
           "arrowhead": 0,
           "arrowwidth": 1
          },
          "autotypenumbers": "strict",
          "coloraxis": {
           "colorbar": {
            "outlinewidth": 0,
            "ticks": ""
           }
          },
          "colorscale": {
           "diverging": [
            [
             0,
             "#8e0152"
            ],
            [
             0.1,
             "#c51b7d"
            ],
            [
             0.2,
             "#de77ae"
            ],
            [
             0.3,
             "#f1b6da"
            ],
            [
             0.4,
             "#fde0ef"
            ],
            [
             0.5,
             "#f7f7f7"
            ],
            [
             0.6,
             "#e6f5d0"
            ],
            [
             0.7,
             "#b8e186"
            ],
            [
             0.8,
             "#7fbc41"
            ],
            [
             0.9,
             "#4d9221"
            ],
            [
             1,
             "#276419"
            ]
           ],
           "sequential": [
            [
             0,
             "#0d0887"
            ],
            [
             0.1111111111111111,
             "#46039f"
            ],
            [
             0.2222222222222222,
             "#7201a8"
            ],
            [
             0.3333333333333333,
             "#9c179e"
            ],
            [
             0.4444444444444444,
             "#bd3786"
            ],
            [
             0.5555555555555556,
             "#d8576b"
            ],
            [
             0.6666666666666666,
             "#ed7953"
            ],
            [
             0.7777777777777778,
             "#fb9f3a"
            ],
            [
             0.8888888888888888,
             "#fdca26"
            ],
            [
             1,
             "#f0f921"
            ]
           ],
           "sequentialminus": [
            [
             0,
             "#0d0887"
            ],
            [
             0.1111111111111111,
             "#46039f"
            ],
            [
             0.2222222222222222,
             "#7201a8"
            ],
            [
             0.3333333333333333,
             "#9c179e"
            ],
            [
             0.4444444444444444,
             "#bd3786"
            ],
            [
             0.5555555555555556,
             "#d8576b"
            ],
            [
             0.6666666666666666,
             "#ed7953"
            ],
            [
             0.7777777777777778,
             "#fb9f3a"
            ],
            [
             0.8888888888888888,
             "#fdca26"
            ],
            [
             1,
             "#f0f921"
            ]
           ]
          },
          "colorway": [
           "#636efa",
           "#EF553B",
           "#00cc96",
           "#ab63fa",
           "#FFA15A",
           "#19d3f3",
           "#FF6692",
           "#B6E880",
           "#FF97FF",
           "#FECB52"
          ],
          "font": {
           "color": "#2a3f5f"
          },
          "geo": {
           "bgcolor": "white",
           "lakecolor": "white",
           "landcolor": "#E5ECF6",
           "showlakes": true,
           "showland": true,
           "subunitcolor": "white"
          },
          "hoverlabel": {
           "align": "left"
          },
          "hovermode": "closest",
          "mapbox": {
           "style": "light"
          },
          "paper_bgcolor": "white",
          "plot_bgcolor": "#E5ECF6",
          "polar": {
           "angularaxis": {
            "gridcolor": "white",
            "linecolor": "white",
            "ticks": ""
           },
           "bgcolor": "#E5ECF6",
           "radialaxis": {
            "gridcolor": "white",
            "linecolor": "white",
            "ticks": ""
           }
          },
          "scene": {
           "xaxis": {
            "backgroundcolor": "#E5ECF6",
            "gridcolor": "white",
            "gridwidth": 2,
            "linecolor": "white",
            "showbackground": true,
            "ticks": "",
            "zerolinecolor": "white"
           },
           "yaxis": {
            "backgroundcolor": "#E5ECF6",
            "gridcolor": "white",
            "gridwidth": 2,
            "linecolor": "white",
            "showbackground": true,
            "ticks": "",
            "zerolinecolor": "white"
           },
           "zaxis": {
            "backgroundcolor": "#E5ECF6",
            "gridcolor": "white",
            "gridwidth": 2,
            "linecolor": "white",
            "showbackground": true,
            "ticks": "",
            "zerolinecolor": "white"
           }
          },
          "shapedefaults": {
           "line": {
            "color": "#2a3f5f"
           }
          },
          "ternary": {
           "aaxis": {
            "gridcolor": "white",
            "linecolor": "white",
            "ticks": ""
           },
           "baxis": {
            "gridcolor": "white",
            "linecolor": "white",
            "ticks": ""
           },
           "bgcolor": "#E5ECF6",
           "caxis": {
            "gridcolor": "white",
            "linecolor": "white",
            "ticks": ""
           }
          },
          "title": {
           "x": 0.05
          },
          "xaxis": {
           "automargin": true,
           "gridcolor": "white",
           "linecolor": "white",
           "ticks": "",
           "title": {
            "standoff": 15
           },
           "zerolinecolor": "white",
           "zerolinewidth": 2
          },
          "yaxis": {
           "automargin": true,
           "gridcolor": "white",
           "linecolor": "white",
           "ticks": "",
           "title": {
            "standoff": 15
           },
           "zerolinecolor": "white",
           "zerolinewidth": 2
          }
         }
        }
       }
      },
      "text/html": [
       "<div>                            <div id=\"bac407e1-b9cf-41c5-9cf0-33767568fd37\" class=\"plotly-graph-div\" style=\"height:525px; width:100%;\"></div>            <script type=\"text/javascript\">                require([\"plotly\"], function(Plotly) {                    window.PLOTLYENV=window.PLOTLYENV || {};                                    if (document.getElementById(\"bac407e1-b9cf-41c5-9cf0-33767568fd37\")) {                    Plotly.newPlot(                        \"bac407e1-b9cf-41c5-9cf0-33767568fd37\",                        [{\"name\":\"National\",\"orientation\":\"h\",\"type\":\"bar\",\"x\":[19.714285714285715,22.428571428571427,24.071428571428573,53.80952380952381,58.88095238095238,65.57142857142857,77.71428571428571,99.9047619047619,170.6904761904762,238.45238095238096],\"y\":[\"Pouvoir_achat\",\"Ecologie\",\"Extr\\u00eame\",\"S\\u00e9curit\\u00e9\",\"Economie\",\"Sant\\u00e9\",\"Travail\",\"Candidats\",\"Actualit\\u00e9\",\"Politique\"]},{\"name\":\"divers\",\"orientation\":\"h\",\"type\":\"bar\",\"x\":[7.3,10.7,15.7,33.5,39.4,52.7,61.0,68.6,126.3,177.4],\"y\":[\"Pouvoir_achat\",\"Ecologie\",\"Extr\\u00eame\",\"S\\u00e9curit\\u00e9\",\"Economie\",\"Travail\",\"Sant\\u00e9\",\"Candidats\",\"Actualit\\u00e9\",\"Politique\"]}],                        {\"barmode\":\"group\",\"template\":{\"data\":{\"bar\":[{\"error_x\":{\"color\":\"#2a3f5f\"},\"error_y\":{\"color\":\"#2a3f5f\"},\"marker\":{\"line\":{\"color\":\"#E5ECF6\",\"width\":0.5},\"pattern\":{\"fillmode\":\"overlay\",\"size\":10,\"solidity\":0.2}},\"type\":\"bar\"}],\"barpolar\":[{\"marker\":{\"line\":{\"color\":\"#E5ECF6\",\"width\":0.5},\"pattern\":{\"fillmode\":\"overlay\",\"size\":10,\"solidity\":0.2}},\"type\":\"barpolar\"}],\"carpet\":[{\"aaxis\":{\"endlinecolor\":\"#2a3f5f\",\"gridcolor\":\"white\",\"linecolor\":\"white\",\"minorgridcolor\":\"white\",\"startlinecolor\":\"#2a3f5f\"},\"baxis\":{\"endlinecolor\":\"#2a3f5f\",\"gridcolor\":\"white\",\"linecolor\":\"white\",\"minorgridcolor\":\"white\",\"startlinecolor\":\"#2a3f5f\"},\"type\":\"carpet\"}],\"choropleth\":[{\"colorbar\":{\"outlinewidth\":0,\"ticks\":\"\"},\"type\":\"choropleth\"}],\"contour\":[{\"colorbar\":{\"outlinewidth\":0,\"ticks\":\"\"},\"colorscale\":[[0.0,\"#0d0887\"],[0.1111111111111111,\"#46039f\"],[0.2222222222222222,\"#7201a8\"],[0.3333333333333333,\"#9c179e\"],[0.4444444444444444,\"#bd3786\"],[0.5555555555555556,\"#d8576b\"],[0.6666666666666666,\"#ed7953\"],[0.7777777777777778,\"#fb9f3a\"],[0.8888888888888888,\"#fdca26\"],[1.0,\"#f0f921\"]],\"type\":\"contour\"}],\"contourcarpet\":[{\"colorbar\":{\"outlinewidth\":0,\"ticks\":\"\"},\"type\":\"contourcarpet\"}],\"heatmap\":[{\"colorbar\":{\"outlinewidth\":0,\"ticks\":\"\"},\"colorscale\":[[0.0,\"#0d0887\"],[0.1111111111111111,\"#46039f\"],[0.2222222222222222,\"#7201a8\"],[0.3333333333333333,\"#9c179e\"],[0.4444444444444444,\"#bd3786\"],[0.5555555555555556,\"#d8576b\"],[0.6666666666666666,\"#ed7953\"],[0.7777777777777778,\"#fb9f3a\"],[0.8888888888888888,\"#fdca26\"],[1.0,\"#f0f921\"]],\"type\":\"heatmap\"}],\"heatmapgl\":[{\"colorbar\":{\"outlinewidth\":0,\"ticks\":\"\"},\"colorscale\":[[0.0,\"#0d0887\"],[0.1111111111111111,\"#46039f\"],[0.2222222222222222,\"#7201a8\"],[0.3333333333333333,\"#9c179e\"],[0.4444444444444444,\"#bd3786\"],[0.5555555555555556,\"#d8576b\"],[0.6666666666666666,\"#ed7953\"],[0.7777777777777778,\"#fb9f3a\"],[0.8888888888888888,\"#fdca26\"],[1.0,\"#f0f921\"]],\"type\":\"heatmapgl\"}],\"histogram\":[{\"marker\":{\"pattern\":{\"fillmode\":\"overlay\",\"size\":10,\"solidity\":0.2}},\"type\":\"histogram\"}],\"histogram2d\":[{\"colorbar\":{\"outlinewidth\":0,\"ticks\":\"\"},\"colorscale\":[[0.0,\"#0d0887\"],[0.1111111111111111,\"#46039f\"],[0.2222222222222222,\"#7201a8\"],[0.3333333333333333,\"#9c179e\"],[0.4444444444444444,\"#bd3786\"],[0.5555555555555556,\"#d8576b\"],[0.6666666666666666,\"#ed7953\"],[0.7777777777777778,\"#fb9f3a\"],[0.8888888888888888,\"#fdca26\"],[1.0,\"#f0f921\"]],\"type\":\"histogram2d\"}],\"histogram2dcontour\":[{\"colorbar\":{\"outlinewidth\":0,\"ticks\":\"\"},\"colorscale\":[[0.0,\"#0d0887\"],[0.1111111111111111,\"#46039f\"],[0.2222222222222222,\"#7201a8\"],[0.3333333333333333,\"#9c179e\"],[0.4444444444444444,\"#bd3786\"],[0.5555555555555556,\"#d8576b\"],[0.6666666666666666,\"#ed7953\"],[0.7777777777777778,\"#fb9f3a\"],[0.8888888888888888,\"#fdca26\"],[1.0,\"#f0f921\"]],\"type\":\"histogram2dcontour\"}],\"mesh3d\":[{\"colorbar\":{\"outlinewidth\":0,\"ticks\":\"\"},\"type\":\"mesh3d\"}],\"parcoords\":[{\"line\":{\"colorbar\":{\"outlinewidth\":0,\"ticks\":\"\"}},\"type\":\"parcoords\"}],\"pie\":[{\"automargin\":true,\"type\":\"pie\"}],\"scatter\":[{\"marker\":{\"colorbar\":{\"outlinewidth\":0,\"ticks\":\"\"}},\"type\":\"scatter\"}],\"scatter3d\":[{\"line\":{\"colorbar\":{\"outlinewidth\":0,\"ticks\":\"\"}},\"marker\":{\"colorbar\":{\"outlinewidth\":0,\"ticks\":\"\"}},\"type\":\"scatter3d\"}],\"scattercarpet\":[{\"marker\":{\"colorbar\":{\"outlinewidth\":0,\"ticks\":\"\"}},\"type\":\"scattercarpet\"}],\"scattergeo\":[{\"marker\":{\"colorbar\":{\"outlinewidth\":0,\"ticks\":\"\"}},\"type\":\"scattergeo\"}],\"scattergl\":[{\"marker\":{\"colorbar\":{\"outlinewidth\":0,\"ticks\":\"\"}},\"type\":\"scattergl\"}],\"scattermapbox\":[{\"marker\":{\"colorbar\":{\"outlinewidth\":0,\"ticks\":\"\"}},\"type\":\"scattermapbox\"}],\"scatterpolar\":[{\"marker\":{\"colorbar\":{\"outlinewidth\":0,\"ticks\":\"\"}},\"type\":\"scatterpolar\"}],\"scatterpolargl\":[{\"marker\":{\"colorbar\":{\"outlinewidth\":0,\"ticks\":\"\"}},\"type\":\"scatterpolargl\"}],\"scatterternary\":[{\"marker\":{\"colorbar\":{\"outlinewidth\":0,\"ticks\":\"\"}},\"type\":\"scatterternary\"}],\"surface\":[{\"colorbar\":{\"outlinewidth\":0,\"ticks\":\"\"},\"colorscale\":[[0.0,\"#0d0887\"],[0.1111111111111111,\"#46039f\"],[0.2222222222222222,\"#7201a8\"],[0.3333333333333333,\"#9c179e\"],[0.4444444444444444,\"#bd3786\"],[0.5555555555555556,\"#d8576b\"],[0.6666666666666666,\"#ed7953\"],[0.7777777777777778,\"#fb9f3a\"],[0.8888888888888888,\"#fdca26\"],[1.0,\"#f0f921\"]],\"type\":\"surface\"}],\"table\":[{\"cells\":{\"fill\":{\"color\":\"#EBF0F8\"},\"line\":{\"color\":\"white\"}},\"header\":{\"fill\":{\"color\":\"#C8D4E3\"},\"line\":{\"color\":\"white\"}},\"type\":\"table\"}]},\"layout\":{\"annotationdefaults\":{\"arrowcolor\":\"#2a3f5f\",\"arrowhead\":0,\"arrowwidth\":1},\"autotypenumbers\":\"strict\",\"coloraxis\":{\"colorbar\":{\"outlinewidth\":0,\"ticks\":\"\"}},\"colorscale\":{\"diverging\":[[0,\"#8e0152\"],[0.1,\"#c51b7d\"],[0.2,\"#de77ae\"],[0.3,\"#f1b6da\"],[0.4,\"#fde0ef\"],[0.5,\"#f7f7f7\"],[0.6,\"#e6f5d0\"],[0.7,\"#b8e186\"],[0.8,\"#7fbc41\"],[0.9,\"#4d9221\"],[1,\"#276419\"]],\"sequential\":[[0.0,\"#0d0887\"],[0.1111111111111111,\"#46039f\"],[0.2222222222222222,\"#7201a8\"],[0.3333333333333333,\"#9c179e\"],[0.4444444444444444,\"#bd3786\"],[0.5555555555555556,\"#d8576b\"],[0.6666666666666666,\"#ed7953\"],[0.7777777777777778,\"#fb9f3a\"],[0.8888888888888888,\"#fdca26\"],[1.0,\"#f0f921\"]],\"sequentialminus\":[[0.0,\"#0d0887\"],[0.1111111111111111,\"#46039f\"],[0.2222222222222222,\"#7201a8\"],[0.3333333333333333,\"#9c179e\"],[0.4444444444444444,\"#bd3786\"],[0.5555555555555556,\"#d8576b\"],[0.6666666666666666,\"#ed7953\"],[0.7777777777777778,\"#fb9f3a\"],[0.8888888888888888,\"#fdca26\"],[1.0,\"#f0f921\"]]},\"colorway\":[\"#636efa\",\"#EF553B\",\"#00cc96\",\"#ab63fa\",\"#FFA15A\",\"#19d3f3\",\"#FF6692\",\"#B6E880\",\"#FF97FF\",\"#FECB52\"],\"font\":{\"color\":\"#2a3f5f\"},\"geo\":{\"bgcolor\":\"white\",\"lakecolor\":\"white\",\"landcolor\":\"#E5ECF6\",\"showlakes\":true,\"showland\":true,\"subunitcolor\":\"white\"},\"hoverlabel\":{\"align\":\"left\"},\"hovermode\":\"closest\",\"mapbox\":{\"style\":\"light\"},\"paper_bgcolor\":\"white\",\"plot_bgcolor\":\"#E5ECF6\",\"polar\":{\"angularaxis\":{\"gridcolor\":\"white\",\"linecolor\":\"white\",\"ticks\":\"\"},\"bgcolor\":\"#E5ECF6\",\"radialaxis\":{\"gridcolor\":\"white\",\"linecolor\":\"white\",\"ticks\":\"\"}},\"scene\":{\"xaxis\":{\"backgroundcolor\":\"#E5ECF6\",\"gridcolor\":\"white\",\"gridwidth\":2,\"linecolor\":\"white\",\"showbackground\":true,\"ticks\":\"\",\"zerolinecolor\":\"white\"},\"yaxis\":{\"backgroundcolor\":\"#E5ECF6\",\"gridcolor\":\"white\",\"gridwidth\":2,\"linecolor\":\"white\",\"showbackground\":true,\"ticks\":\"\",\"zerolinecolor\":\"white\"},\"zaxis\":{\"backgroundcolor\":\"#E5ECF6\",\"gridcolor\":\"white\",\"gridwidth\":2,\"linecolor\":\"white\",\"showbackground\":true,\"ticks\":\"\",\"zerolinecolor\":\"white\"}},\"shapedefaults\":{\"line\":{\"color\":\"#2a3f5f\"}},\"ternary\":{\"aaxis\":{\"gridcolor\":\"white\",\"linecolor\":\"white\",\"ticks\":\"\"},\"baxis\":{\"gridcolor\":\"white\",\"linecolor\":\"white\",\"ticks\":\"\"},\"bgcolor\":\"#E5ECF6\",\"caxis\":{\"gridcolor\":\"white\",\"linecolor\":\"white\",\"ticks\":\"\"}},\"title\":{\"x\":0.05},\"xaxis\":{\"automargin\":true,\"gridcolor\":\"white\",\"linecolor\":\"white\",\"ticks\":\"\",\"title\":{\"standoff\":15},\"zerolinecolor\":\"white\",\"zerolinewidth\":2},\"yaxis\":{\"automargin\":true,\"gridcolor\":\"white\",\"linecolor\":\"white\",\"ticks\":\"\",\"title\":{\"standoff\":15},\"zerolinecolor\":\"white\",\"zerolinewidth\":2}}}},                        {\"responsive\": true}                    ).then(function(){\n",
       "                            \n",
       "var gd = document.getElementById('bac407e1-b9cf-41c5-9cf0-33767568fd37');\n",
       "var x = new MutationObserver(function (mutations, observer) {{\n",
       "        var display = window.getComputedStyle(gd).display;\n",
       "        if (!display || display === 'none') {{\n",
       "            console.log([gd, 'removed!']);\n",
       "            Plotly.purge(gd);\n",
       "            observer.disconnect();\n",
       "        }}\n",
       "}});\n",
       "\n",
       "// Listen for the removal of the full notebook cells\n",
       "var notebookContainer = gd.closest('#notebook-container');\n",
       "if (notebookContainer) {{\n",
       "    x.observe(notebookContainer, {childList: true});\n",
       "}}\n",
       "\n",
       "// Listen for the clearing of the current output cell\n",
       "var outputEl = gd.closest('.output');\n",
       "if (outputEl) {{\n",
       "    x.observe(outputEl, {childList: true});\n",
       "}}\n",
       "\n",
       "                        })                };                });            </script>        </div>"
      ]
     },
     "metadata": {},
     "output_type": "display_data"
    }
   ],
   "source": [
    "theme_interest_political_trend(political_trend=\"divers\")"
   ]
  },
  {
   "cell_type": "markdown",
   "id": "7b47bd0f",
   "metadata": {},
   "source": [
    "## Les sujets qui vous intéressent"
   ]
  },
  {
   "cell_type": "code",
   "execution_count": null,
   "id": "ab2d127c",
   "metadata": {},
   "outputs": [],
   "source": [
    "# Select your 2 most important lexicons\n",
    "first_lexicon = \"Ecologie\"\n",
    "second_lexicon = \"Economie\""
   ]
  },
  {
   "cell_type": "code",
   "execution_count": null,
   "id": "7b97dbc2",
   "metadata": {},
   "outputs": [],
   "source": [
    "fig = px.scatter(lexicon_score_per_user_df, x=first_lexicon, y=second_lexicon, color=\"political_trend\", hover_data=[\"name\"])\n",
    "fig.show()"
   ]
  },
  {
   "cell_type": "markdown",
   "id": "407a04b3",
   "metadata": {},
   "source": [
    "## Choix d'un candidat"
   ]
  },
  {
   "cell_type": "markdown",
   "id": "3659b475",
   "metadata": {},
   "source": [
    "Choix sur une liste avec infos à suivre s'actualisant de façon dynamqiue"
   ]
  },
  {
   "cell_type": "markdown",
   "id": "41daab75",
   "metadata": {},
   "source": [
    "- Photo\n",
    "- Nom et prénom\n",
    "- Parti politique\n",
    "- Orientation politique"
   ]
  },
  {
   "cell_type": "code",
   "execution_count": null,
   "id": "724f335b",
   "metadata": {},
   "outputs": [],
   "source": []
  },
  {
   "cell_type": "code",
   "execution_count": null,
   "id": "a992ec84",
   "metadata": {},
   "outputs": [],
   "source": []
  },
  {
   "cell_type": "code",
   "execution_count": null,
   "id": "ffbd092a",
   "metadata": {},
   "outputs": [],
   "source": []
  },
  {
   "cell_type": "markdown",
   "id": "c93f2bbc",
   "metadata": {},
   "source": [
    "## Ses thèmes de prédilection"
   ]
  },
  {
   "cell_type": "code",
   "execution_count": null,
   "id": "2f7449d5",
   "metadata": {},
   "outputs": [],
   "source": [
    "def visualize_scores(df, user):\n",
    "    # Generate user score per theme\n",
    "    user_scores = list(df[df[\"user\"]==user].drop(columns=\"political_trend\").iloc[0])[1:]\n",
    "    \n",
    "    # Generate user political trend average score per theme\n",
    "    user_political_trend = list(df[df[\"user\"]==user][\"political_trend\"])[0]\n",
    "    # Generate his/her name\n",
    "    user_name = list(df[df[\"user\"]==user][\"name\"])[0]\n",
    "    # Generate a df with the avg score per political trend\n",
    "    avg_score_per_political_trend = df.groupby(['political_trend']).mean()\n",
    "    # Store the right political trend results in a variable\n",
    "    political_trend_scores = list(avg_score_per_political_trend\n",
    "                                  [avg_score_per_political_trend.index==user_political_trend]\n",
    "                                  .iloc[0])\n",
    "    \n",
    "    # Generate national score per theme\n",
    "    national_scores = list(avg_score_per_political_trend.mean())\n",
    "    \n",
    "    # Define themes\n",
    "    themes = avg_score_per_political_trend.columns\n",
    "    \n",
    "    fig = go.Figure(data=[\n",
    "                    go.Bar(name=f'{user_name} score', x=themes, y=user_scores),\n",
    "                    go.Bar(name=f'{user_political_trend} score', x=themes, y=political_trend_scores),\n",
    "                    go.Bar(name='National score', x=themes, y=national_scores)\n",
    "                    ])\n",
    "    \n",
    "    # Change the bar mode\n",
    "    fig.update_layout(barmode='group')\n",
    "    \n",
    "    fig.show()"
   ]
  },
  {
   "cell_type": "code",
   "execution_count": null,
   "id": "3ed65d65",
   "metadata": {},
   "outputs": [],
   "source": [
    "visualize_scores(df=lexicon_score_per_user_df, user=\"\")"
   ]
  },
  {
   "cell_type": "code",
   "execution_count": null,
   "id": "2e1facec",
   "metadata": {},
   "outputs": [],
   "source": [
    "for political_user in list(df_ready_for_nlp[\"user\"].unique()):\n",
    "    visualize_scores(df=lexicon_score_per_user_df, user=political_user)"
   ]
  },
  {
   "cell_type": "markdown",
   "id": "8a67f8f1",
   "metadata": {},
   "source": [
    "## Les tweets les plus appréciés de sa communauté"
   ]
  },
  {
   "cell_type": "code",
   "execution_count": null,
   "id": "43d74fe2",
   "metadata": {},
   "outputs": [],
   "source": [
    "def top_3_tweets_per_user(df, user):\n",
    "    df = df.sort_values(by=\"retweet_count\", ascending=False)\n",
    "    \n",
    "    df = df[\"text\"][df[\"user\"]==user]\n",
    "    print(\"Premier tweet le plus retweeter:\")\n",
    "    print(df.iloc[0])\n",
    "    print(\"-------------\")\n",
    "    print(\"Second tweet le plus retweeter:\")\n",
    "    print(df.iloc[1])\n",
    "    print(\"-------------\")\n",
    "    print(\"Troisième tweet le plus retweeter:\")\n",
    "    print(df.iloc[2])"
   ]
  },
  {
   "cell_type": "code",
   "execution_count": null,
   "id": "6ac19768",
   "metadata": {},
   "outputs": [],
   "source": [
    "top_3_tweets = top_3_tweets_per_user(df=global_df, user=\"EmmanuelMacron\")\n",
    "top_3_tweets"
   ]
  },
  {
   "cell_type": "markdown",
   "id": "ddd09225",
   "metadata": {},
   "source": [
    "## Les sujets qui l'animent"
   ]
  },
  {
   "cell_type": "code",
   "execution_count": null,
   "id": "89e8c82f",
   "metadata": {},
   "outputs": [],
   "source": [
    "def top_five_words_per_theme_per_user(user):\n",
    "    # Generate a list of all users\n",
    "    list_of_users = list(df_ready_for_nlp[\"user\"].unique())\n",
    "    \n",
    "    # Store all the user words in a list\n",
    "    user_words = []\n",
    "    # Extract all his/her tweets\n",
    "    user_tweets = list(df_ready_for_nlp[df_ready_for_nlp[\"user\"]==user][\"text\"])\n",
    "    # Go for each tweet\n",
    "    for tweet in user_tweets:\n",
    "        for user in list_of_users:\n",
    "            if user in tweet:\n",
    "                user_words.append(user)\n",
    "        # Tokenize each tweet to analyze its content\n",
    "        tokenized_tweet = word_tokenize(tweet)\n",
    "        # Go for each word\n",
    "        for word in tokenized_tweet:\n",
    "            # Append it to the list\n",
    "            user_words.append(word)\n",
    "    \n",
    "    # For each vocabulary stored in lexicons check how many times it appears in user_words    \n",
    "    # Define a list to store the top 5 words per lexicon\n",
    "    top_five_words = []\n",
    "    for theme, lexicon in lexicon_themes.items():\n",
    "        test_dico ={}\n",
    "        # For each word in the theme's lexicon\n",
    "        for word in lexicon:\n",
    "            # Count how many times it appears in user_words\n",
    "            score = user_words.count(word)\n",
    "            test_dico[word] = score\n",
    "        sorted_list = sorted(test_dico.items(), key = lambda kv: kv[1], reverse=True)\n",
    "        top_five_words.append(sorted_list)\n",
    "        print(f\"{theme} : {sorted_list[:5]}\")"
   ]
  },
  {
   "cell_type": "code",
   "execution_count": null,
   "id": "b1b63287",
   "metadata": {},
   "outputs": [],
   "source": [
    "top_five_words_per_theme_per_user(user=\"gerardfiloche\")"
   ]
  }
 ],
 "metadata": {
  "kernelspec": {
   "display_name": "Python 3 (ipykernel)",
   "language": "python",
   "name": "python3"
  },
  "language_info": {
   "codemirror_mode": {
    "name": "ipython",
    "version": 3
   },
   "file_extension": ".py",
   "mimetype": "text/x-python",
   "name": "python",
   "nbconvert_exporter": "python",
   "pygments_lexer": "ipython3",
   "version": "3.8.12"
  },
  "toc": {
   "base_numbering": 1,
   "nav_menu": {},
   "number_sections": true,
   "sideBar": true,
   "skip_h1_title": false,
   "title_cell": "Table of Contents",
   "title_sidebar": "Contents",
   "toc_cell": false,
   "toc_position": {
    "height": "calc(100% - 180px)",
    "left": "10px",
    "top": "150px",
    "width": "239.273px"
   },
   "toc_section_display": true,
   "toc_window_display": true
  },
  "varInspector": {
   "cols": {
    "lenName": 16,
    "lenType": 16,
    "lenVar": 40
   },
   "kernels_config": {
    "python": {
     "delete_cmd_postfix": "",
     "delete_cmd_prefix": "del ",
     "library": "var_list.py",
     "varRefreshCmd": "print(var_dic_list())"
    },
    "r": {
     "delete_cmd_postfix": ") ",
     "delete_cmd_prefix": "rm(",
     "library": "var_list.r",
     "varRefreshCmd": "cat(var_dic_list()) "
    }
   },
   "types_to_exclude": [
    "module",
    "function",
    "builtin_function_or_method",
    "instance",
    "_Feature"
   ],
   "window_display": false
  }
 },
 "nbformat": 4,
 "nbformat_minor": 5
}
